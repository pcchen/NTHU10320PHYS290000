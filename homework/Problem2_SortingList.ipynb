{
 "metadata": {
  "name": "",
  "signature": "sha256:c698e0d063e9b03774d8017447a00ce8e8596d433d3dd15f3d4ceee96ae94685"
 },
 "nbformat": 3,
 "nbformat_minor": 0,
 "worksheets": [
  {
   "cells": [
    {
     "cell_type": "markdown",
     "metadata": {},
     "source": [
      "# Problem 2:\n",
      "# Sorting a List\n",
      "\n",
      "In this problem you should\n",
      "* Implement the **selection sort** algorithm.\n",
      "* Implement the **insertion sort** algorithm.\n",
      "* Create a list of N-elements where each element is a random integer between 0, 1, 2, ..., N-1.\n",
      "* Use your implementation of the selection sort and insertion sort to sort the the random list above.\n",
      "* Use built-in function `sorted()` that builds a new sorted list to show that your implementation is correct.\n",
      "\n",
      "## Selection sort\n",
      "\n",
      "Following is the algorithm of the **selection sort**:\n",
      "\n",
      "* Divide the input list into two sub-lists:\n",
      " * Sorted sub-list (Start with an empty list).\n",
      " * Un-Sorted sub-list.\n",
      "* Find the smallest element in the unsorted list.\n",
      "* Swap with the leftmost unsorted element.\n",
      "* Move the sub-list boundaries.\n",
      "\n",
      "Following is an example of selection sort:\n",
      "<img src=\"SelectionSort.png\" width=\"800\">\n",
      "\n",
      "## Insertion sort\n",
      "\n",
      "Following is the algorithm of the **insertion sort**:\n",
      "\n",
      "* Divide the input list into two sub-lists:\n",
      " * Sorted sub-list (Start with the leftmost element).\n",
      " * Un-Sorted sub-list.\n",
      "* Insert the leftmost element of the unsorted sub-list into the proper position of the sorted sub-list.\n",
      "* Move the sub-list boundaries \n",
      "\n",
      "Following is an example of selection sort:\n",
      "<img src=\"InsertionSort.png\" width=\"800\">"
     ]
    },
    {
     "cell_type": "markdown",
     "metadata": {},
     "source": [
      "Please write your code based on the sketch below and use the test code below to show that your function works properly."
     ]
    },
    {
     "cell_type": "code",
     "collapsed": false,
     "input": [
      "import random \n",
      "\n",
      "# create a random list with N elements\n",
      "print \"random list\" \n",
      "def random_list(N) :\n",
      "    a=random.sample(range(100), N)\n",
      "    return a\n",
      "print random_list(6)\n",
      "\n",
      "# selection sort\n",
      "\n",
      "print \"\\n\"+\"selection sort\"\n",
      "def selection_sort(list):\n",
      "   for lastnumber in range(len(list)-1,0,-1):\n",
      "       position_of_Max=0\n",
      "       for location in range(1,lastnumber+1):\n",
      "           if list[location]>list[position_of_Max]:\n",
      "               position_pf_Max = location\n",
      "\n",
      "       temp = list[lastnumber]\n",
      "       list[lastnumber] = list[positionOfMax]\n",
      "       list[positionOfMax] = temp\n",
      "\n",
      "list = random_list(7)\n",
      "\n",
      "selection_sort(list)\n",
      "print(list)\n",
      "\n",
      "# insertion sort\n",
      "print \"\\n\"+\"insertion sort\"\n",
      "def insertion_sort(list):\n",
      "\n",
      "   for index in range(1,len(list)):\n",
      "\n",
      "     currentvalue = list[index]\n",
      "     position = index\n",
      "\n",
      "     while position>0 and list[position-1]>currentvalue:\n",
      "         list[position]=list[position-1]\n",
      "         position = position-1\n",
      "\n",
      "     list[position]=currentvalue\n",
      "\n",
      "list = random_list(8)\n",
      "insertion_sort(list)\n",
      "print(list)\n"
     ],
     "language": "python",
     "metadata": {},
     "outputs": [
      {
       "output_type": "stream",
       "stream": "stdout",
       "text": [
        "random list\n",
        "[25, 51, 87, 83, 92, 46]\n",
        "\n",
        "selection sort\n",
        "[18, 34, 42, 47, 55, 88, 95]\n",
        "\n",
        "insertion sort\n",
        "[12, 24, 30, 32, 43, 45, 57, 68]\n"
       ]
      }
     ],
     "prompt_number": 6
    },
    {
     "cell_type": "code",
     "collapsed": false,
     "input": [
      "# test the implementation of selection sort\n",
      "N = 10\n",
      "L = random_list(N)\n",
      "L_sorted = sorted(L)\n",
      "selection_sort(L)\n",
      "\n",
      "for i in range(len(L)):\n",
      "    if L[i] != L_sorted[i]:\n",
      "        print 'oops!'    "
     ],
     "language": "python",
     "metadata": {},
     "outputs": [],
     "prompt_number": 10
    },
    {
     "cell_type": "code",
     "collapsed": false,
     "input": [
      "# test the implementation of insertion sort\n",
      "N = 10\n",
      "L = random_list(N)\n",
      "L_sorted = sorted(L)\n",
      "insertion_sort(L)\n",
      "\n",
      "for i in range(len(L)):\n",
      "    if L[i] != L_sorted[i]:\n",
      "        print 'oops!'    "
     ],
     "language": "python",
     "metadata": {},
     "outputs": [],
     "prompt_number": 11
    },
    {
     "cell_type": "code",
     "collapsed": false,
     "input": [],
     "language": "python",
     "metadata": {},
     "outputs": []
    }
   ],
   "metadata": {}
  }
 ]
}