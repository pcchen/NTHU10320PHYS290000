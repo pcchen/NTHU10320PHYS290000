{
 "metadata": {
  "name": "",
  "signature": "sha256:52e6edf9cd70748c430621e50f74c61f707eb5eb7add9bbceea815765c1dbe59"
 },
 "nbformat": 3,
 "nbformat_minor": 0,
 "worksheets": [
  {
   "cells": [
    {
     "cell_type": "markdown",
     "metadata": {},
     "source": [
      "# Homework 5"
     ]
    },
    {
     "cell_type": "markdown",
     "metadata": {},
     "source": [
      "## Problem 1\n",
      "\n",
      "Consider the damped oscillation\n",
      "$$\n",
      "  \\ddot{x} + 2\\beta\\dot{x} + \\omega^2_0 x =0.\n",
      "$$\n",
      "\n",
      "For a given set of $\\beta$ and $\\omega_0$ and initial conditions $x(0)$ and $\\dot{x}(0)$:\n",
      "* Plot $x(t)$.\n",
      "* Plot $E(t)$.\n",
      "* Plot $dE(t)/dt$.\n",
      "* Plot the phase-path on the $x-\\dot{x}$ plane."
     ]
    },
    {
     "cell_type": "code",
     "collapsed": false,
     "input": [
      "import numpy as np"
     ],
     "language": "python",
     "metadata": {},
     "outputs": [],
     "prompt_number": 39
    },
    {
     "cell_type": "code",
     "collapsed": false,
     "input": [
      "# Problem 1\n",
      "#in this question, we set x[0]=l,v[0]=0\n",
      "import math \n",
      "b=1. \n",
      "m=1.\n",
      "l=1\n",
      "k=1\n",
      "beta=b/2/m\n",
      "w0=math.sqrt(k/m)\n",
      "test=beta**2-w0**2\n",
      "phase=np.atan(beta/test)\n",
      "def t1(t,beta,w0):\n",
      "    return (l+(l*beta)/math.sqrt(test))*np.exp((-beta+(np.sqrt(test)))*t)\n",
      "def t2(t,beta,w0):\n",
      "    return (l-(l*beta)/np.sqrt(test))*math.exp((-beta-np.sqrt(test))*t)\n",
      "def t3(t,beta,w0):\n",
      "    return l*(test**2+beta**2)*np.exp(-beta*t)*np.cos(test*t+phase)/math.sqrt(test)\n",
      "def draw_x(b,m):\n",
      "    t=np.linspace(0,20,0.1)\n",
      "    if test>=0:\n",
      "        plot(t,t1(t,beta,w0)+t2(t,beta,w0))\n",
      "    else:\n",
      "        plot(t,t3(t,beta,w0))\n",
      "def draw_E(beta,w0):\n",
      "    t=np.linspace(0,20,0.1)\n",
      "    if test>=0:\n",
      "        v=(-beta+np.sqrt(test))*t1(t,beta,w0)+(-beta-np.sqrt(test))*t2(t,beta,w0)\n",
      "        plot(t,1/2*k*x**2+1/2*m*v**2)\n",
      "    else:\n",
      "        v=-beta*t3(t,beta,w0)+test*t3(t,beta)*np.tan((test*t+phase))\n",
      "        plot(t,1/2*k*x**2+1/2*m*v**2)\n",
      "def draw_phase_diagram(t,beta,w0):\n",
      "    x=[]\n",
      "    y=[]\n",
      "    for i in arange(0,20,0.1):\n",
      "        if test>=0:\n",
      "            x.append(t1(i,beta,w0)+t2(i,beta,w0))\n",
      "            y.append((-beta+math.sqrt(test))*t1(t,beta,w0)+(-beta-math.sqrt(test))*t2(t,beta,w0))\n",
      "        else:\n",
      "            x.append(t3(i,beta,w0))\n",
      "            y.append(-beta*t3(t,beta,w0)+test*t3(t,beta)*math.tan((test*t+phase)))\n",
      "draw_x(1,1)\n",
      "    \n",
      "        "
     ],
     "language": "python",
     "metadata": {},
     "outputs": [
      {
       "ename": "TypeError",
       "evalue": "only length-1 arrays can be converted to Python scalars",
       "output_type": "pyerr",
       "traceback": [
        "\u001b[1;31m---------------------------------------------------------------------------\u001b[0m\n\u001b[1;31mTypeError\u001b[0m                                 Traceback (most recent call last)",
        "\u001b[1;32m<ipython-input-25-7f0453460310>\u001b[0m in \u001b[0;36m<module>\u001b[1;34m()\u001b[0m\n\u001b[0;32m     40\u001b[0m             \u001b[0mx\u001b[0m\u001b[1;33m.\u001b[0m\u001b[0mappend\u001b[0m\u001b[1;33m(\u001b[0m\u001b[0mt3\u001b[0m\u001b[1;33m(\u001b[0m\u001b[0mi\u001b[0m\u001b[1;33m,\u001b[0m\u001b[0mbeta\u001b[0m\u001b[1;33m,\u001b[0m\u001b[0mw0\u001b[0m\u001b[1;33m)\u001b[0m\u001b[1;33m)\u001b[0m\u001b[1;33m\u001b[0m\u001b[0m\n\u001b[0;32m     41\u001b[0m             \u001b[0my\u001b[0m\u001b[1;33m.\u001b[0m\u001b[0mappend\u001b[0m\u001b[1;33m(\u001b[0m\u001b[1;33m-\u001b[0m\u001b[0mbeta\u001b[0m\u001b[1;33m*\u001b[0m\u001b[0mt3\u001b[0m\u001b[1;33m(\u001b[0m\u001b[0mt\u001b[0m\u001b[1;33m,\u001b[0m\u001b[0mbeta\u001b[0m\u001b[1;33m,\u001b[0m\u001b[0mw0\u001b[0m\u001b[1;33m)\u001b[0m\u001b[1;33m+\u001b[0m\u001b[0mtest\u001b[0m\u001b[1;33m*\u001b[0m\u001b[0mt3\u001b[0m\u001b[1;33m(\u001b[0m\u001b[0mt\u001b[0m\u001b[1;33m,\u001b[0m\u001b[0mbeta\u001b[0m\u001b[1;33m)\u001b[0m\u001b[1;33m*\u001b[0m\u001b[0mmath\u001b[0m\u001b[1;33m.\u001b[0m\u001b[0mtan\u001b[0m\u001b[1;33m(\u001b[0m\u001b[1;33m(\u001b[0m\u001b[0mtest\u001b[0m\u001b[1;33m*\u001b[0m\u001b[0mt\u001b[0m\u001b[1;33m+\u001b[0m\u001b[0mphase\u001b[0m\u001b[1;33m)\u001b[0m\u001b[1;33m)\u001b[0m\u001b[1;33m)\u001b[0m\u001b[1;33m\u001b[0m\u001b[0m\n\u001b[1;32m---> 42\u001b[1;33m \u001b[0mdraw_x\u001b[0m\u001b[1;33m(\u001b[0m\u001b[1;36m1\u001b[0m\u001b[1;33m,\u001b[0m\u001b[1;36m1\u001b[0m\u001b[1;33m)\u001b[0m\u001b[1;33m\u001b[0m\u001b[0m\n\u001b[0m\u001b[0;32m     43\u001b[0m \u001b[1;33m\u001b[0m\u001b[0m\n\u001b[0;32m     44\u001b[0m \u001b[1;33m\u001b[0m\u001b[0m\n",
        "\u001b[1;32m<ipython-input-25-7f0453460310>\u001b[0m in \u001b[0;36mdraw_x\u001b[1;34m(b, m)\u001b[0m\n\u001b[0;32m     21\u001b[0m         \u001b[0mplot\u001b[0m\u001b[1;33m(\u001b[0m\u001b[0mt\u001b[0m\u001b[1;33m,\u001b[0m\u001b[0mt1\u001b[0m\u001b[1;33m(\u001b[0m\u001b[0mt\u001b[0m\u001b[1;33m,\u001b[0m\u001b[0mbeta\u001b[0m\u001b[1;33m,\u001b[0m\u001b[0mw0\u001b[0m\u001b[1;33m)\u001b[0m\u001b[1;33m+\u001b[0m\u001b[0mt2\u001b[0m\u001b[1;33m(\u001b[0m\u001b[0mt\u001b[0m\u001b[1;33m,\u001b[0m\u001b[0mbeta\u001b[0m\u001b[1;33m,\u001b[0m\u001b[0mw0\u001b[0m\u001b[1;33m)\u001b[0m\u001b[1;33m)\u001b[0m\u001b[1;33m\u001b[0m\u001b[0m\n\u001b[0;32m     22\u001b[0m     \u001b[1;32melse\u001b[0m\u001b[1;33m:\u001b[0m\u001b[1;33m\u001b[0m\u001b[0m\n\u001b[1;32m---> 23\u001b[1;33m         \u001b[0mplot\u001b[0m\u001b[1;33m(\u001b[0m\u001b[0mt\u001b[0m\u001b[1;33m,\u001b[0m\u001b[0mt3\u001b[0m\u001b[1;33m(\u001b[0m\u001b[0mt\u001b[0m\u001b[1;33m,\u001b[0m\u001b[0mbeta\u001b[0m\u001b[1;33m,\u001b[0m\u001b[0mw0\u001b[0m\u001b[1;33m)\u001b[0m\u001b[1;33m)\u001b[0m\u001b[1;33m\u001b[0m\u001b[0m\n\u001b[0m\u001b[0;32m     24\u001b[0m \u001b[1;32mdef\u001b[0m \u001b[0mdraw_E\u001b[0m\u001b[1;33m(\u001b[0m\u001b[0mbeta\u001b[0m\u001b[1;33m,\u001b[0m\u001b[0mw0\u001b[0m\u001b[1;33m)\u001b[0m\u001b[1;33m:\u001b[0m\u001b[1;33m\u001b[0m\u001b[0m\n\u001b[0;32m     25\u001b[0m     \u001b[0mt\u001b[0m\u001b[1;33m=\u001b[0m\u001b[0mlinspace\u001b[0m\u001b[1;33m(\u001b[0m\u001b[1;36m0\u001b[0m\u001b[1;33m,\u001b[0m\u001b[1;36m20\u001b[0m\u001b[1;33m,\u001b[0m\u001b[1;36m0.1\u001b[0m\u001b[1;33m)\u001b[0m\u001b[1;33m\u001b[0m\u001b[0m\n",
        "\u001b[1;32m<ipython-input-25-7f0453460310>\u001b[0m in \u001b[0;36mt3\u001b[1;34m(t, beta, w0)\u001b[0m\n\u001b[0;32m     15\u001b[0m     \u001b[1;32mreturn\u001b[0m \u001b[1;33m(\u001b[0m\u001b[0ml\u001b[0m\u001b[1;33m-\u001b[0m\u001b[1;33m(\u001b[0m\u001b[0ml\u001b[0m\u001b[1;33m*\u001b[0m\u001b[0mbeta\u001b[0m\u001b[1;33m)\u001b[0m\u001b[1;33m/\u001b[0m\u001b[0mmath\u001b[0m\u001b[1;33m.\u001b[0m\u001b[0msqrt\u001b[0m\u001b[1;33m(\u001b[0m\u001b[0mtest\u001b[0m\u001b[1;33m)\u001b[0m\u001b[1;33m)\u001b[0m\u001b[1;33m*\u001b[0m\u001b[0mmath\u001b[0m\u001b[1;33m.\u001b[0m\u001b[0mexp\u001b[0m\u001b[1;33m(\u001b[0m\u001b[1;33m(\u001b[0m\u001b[1;33m-\u001b[0m\u001b[0mbeta\u001b[0m\u001b[1;33m-\u001b[0m\u001b[0mmath\u001b[0m\u001b[1;33m.\u001b[0m\u001b[0msqrt\u001b[0m\u001b[1;33m(\u001b[0m\u001b[0mtest\u001b[0m\u001b[1;33m)\u001b[0m\u001b[1;33m)\u001b[0m\u001b[1;33m*\u001b[0m\u001b[0mt\u001b[0m\u001b[1;33m)\u001b[0m\u001b[1;33m\u001b[0m\u001b[0m\n\u001b[0;32m     16\u001b[0m \u001b[1;32mdef\u001b[0m \u001b[0mt3\u001b[0m\u001b[1;33m(\u001b[0m\u001b[0mt\u001b[0m\u001b[1;33m,\u001b[0m\u001b[0mbeta\u001b[0m\u001b[1;33m,\u001b[0m\u001b[0mw0\u001b[0m\u001b[1;33m)\u001b[0m\u001b[1;33m:\u001b[0m\u001b[1;33m\u001b[0m\u001b[0m\n\u001b[1;32m---> 17\u001b[1;33m     \u001b[1;32mreturn\u001b[0m \u001b[0ml\u001b[0m\u001b[1;33m*\u001b[0m\u001b[1;33m(\u001b[0m\u001b[0mtest\u001b[0m\u001b[1;33m**\u001b[0m\u001b[1;36m2\u001b[0m\u001b[1;33m+\u001b[0m\u001b[0mbeta\u001b[0m\u001b[1;33m**\u001b[0m\u001b[1;36m2\u001b[0m\u001b[1;33m)\u001b[0m\u001b[1;33m*\u001b[0m\u001b[0mmath\u001b[0m\u001b[1;33m.\u001b[0m\u001b[0mexp\u001b[0m\u001b[1;33m(\u001b[0m\u001b[1;33m-\u001b[0m\u001b[0mbeta\u001b[0m\u001b[1;33m*\u001b[0m\u001b[0mt\u001b[0m\u001b[1;33m)\u001b[0m\u001b[1;33m*\u001b[0m\u001b[0mmath\u001b[0m\u001b[1;33m.\u001b[0m\u001b[0mcos\u001b[0m\u001b[1;33m(\u001b[0m\u001b[0mtest\u001b[0m\u001b[1;33m*\u001b[0m\u001b[0mt\u001b[0m\u001b[1;33m+\u001b[0m\u001b[0mphase\u001b[0m\u001b[1;33m)\u001b[0m\u001b[1;33m/\u001b[0m\u001b[0mmath\u001b[0m\u001b[1;33m.\u001b[0m\u001b[0msqrt\u001b[0m\u001b[1;33m(\u001b[0m\u001b[0mtest\u001b[0m\u001b[1;33m)\u001b[0m\u001b[1;33m\u001b[0m\u001b[0m\n\u001b[0m\u001b[0;32m     18\u001b[0m \u001b[1;32mdef\u001b[0m \u001b[0mdraw_x\u001b[0m\u001b[1;33m(\u001b[0m\u001b[0mb\u001b[0m\u001b[1;33m,\u001b[0m\u001b[0mm\u001b[0m\u001b[1;33m)\u001b[0m\u001b[1;33m:\u001b[0m\u001b[1;33m\u001b[0m\u001b[0m\n\u001b[0;32m     19\u001b[0m     \u001b[0mt\u001b[0m\u001b[1;33m=\u001b[0m\u001b[0mlinspace\u001b[0m\u001b[1;33m(\u001b[0m\u001b[1;36m0\u001b[0m\u001b[1;33m,\u001b[0m\u001b[1;36m20\u001b[0m\u001b[1;33m,\u001b[0m\u001b[1;36m0.1\u001b[0m\u001b[1;33m)\u001b[0m\u001b[1;33m\u001b[0m\u001b[0m\n",
        "\u001b[1;31mTypeError\u001b[0m: only length-1 arrays can be converted to Python scalars"
       ]
      }
     ],
     "prompt_number": 25
    },
    {
     "cell_type": "code",
     "collapsed": false,
     "input": [
      "from IPython.html.widgets import interact\n",
      "%pylab inline"
     ],
     "language": "python",
     "metadata": {},
     "outputs": [
      {
       "output_type": "stream",
       "stream": "stdout",
       "text": [
        "Populating the interactive namespace from numpy and matplotlib\n"
       ]
      },
      {
       "output_type": "stream",
       "stream": "stderr",
       "text": [
        "WARNING: pylab import has clobbered these variables: ['beta', 'random']\n",
        "`%matplotlib` prevents importing * from pylab and numpy\n"
       ]
      }
     ],
     "prompt_number": 14
    },
    {
     "cell_type": "markdown",
     "metadata": {},
     "source": [
      "## Problem 2\n",
      "\n",
      "Consider the driven oscillation\n",
      "$$\n",
      "  \\ddot{x} + 2\\beta\\dot{x} + \\omega^2_0 x = A\\cos(\\omega t).\n",
      "$$\n",
      "\n",
      "For a given set of $\\beta$, $\\omega_0$ and $\\omega$:\n",
      "* Plot quality factor $Q$ as a function of $\\omega$.\n",
      "* Plot phase angle $\\delta$ as a function of $\\omega$.\n",
      "* Use IPython Interact to let the user changes the values of $\\beta$, $\\omega_0$ and $\\omega$."
     ]
    },
    {
     "cell_type": "code",
     "collapsed": false,
     "input": [
      "# Problem 2\n",
      "A=1\n",
      "def draw_amp(beta,w0):\n",
      "    w=np.linspace(0,200,1000)\n",
      "    plot(w,A/np.sqrt((w0**2-w**2)**2+4*(w**2)*beta**2))\n",
      "interact(draw_amp,beta=(0,20),w0=(0,20))\n",
      "draw_amp(4.1,2.1)"
     ],
     "language": "python",
     "metadata": {},
     "outputs": [
      {
       "metadata": {},
       "output_type": "display_data",
       "png": "[encoded data removed]",
       "text": [
        "<matplotlib.figure.Figure at 0xb762358>"
       ]
      }
     ],
     "prompt_number": 44
    },
    {
     "cell_type": "code",
     "collapsed": false,
     "input": [
      "A=1\n",
      "def draw_phase(beta,w0):\n",
      "    w=np.linspace(0,200,1000)\n",
      "    plot(w,np.arctan(2*w*beta/(w0**2-w**2)))\n",
      "interact(draw_phase,beta=(0,20),w0=(0,20))"
     ],
     "language": "python",
     "metadata": {},
     "outputs": [
      {
       "metadata": {},
       "output_type": "display_data",
       "png": "[encoded data removed]",
       "text": [
        "<matplotlib.figure.Figure at 0xb8c7470>"
       ]
      }
     ],
     "prompt_number": 46
    },
    {
     "cell_type": "code",
     "collapsed": false,
     "input": [
      "import numpy as np"
     ],
     "language": "python",
     "metadata": {},
     "outputs": [],
     "prompt_number": 31
    },
    {
     "cell_type": "markdown",
     "metadata": {},
     "source": [
      "## Problem 3\n",
      "\n",
      "Write a definition for a class named `Kangaroo` with the following methods:\n",
      "\n",
      "* An `__init__` method that initializes an attribute named `pouch_contents` to an empty list.\n",
      "* A method named `put_in_pouch` that takes an object of any type and adds it to `pouch_contents`.\n",
      "* A `__str__` method that returns a string representation of the Kangaroo object and the contents of the pouch.\n",
      "\n",
      "Test your code by creating two Kangaroo objects, assigning them to variables named `kanga` and `roo`, and then adding `roo` to the contents of `kanga`\u2019s pouch"
     ]
    },
    {
     "cell_type": "code",
     "collapsed": false,
     "input": [
      "# Problme 3\n",
      "class Kangaroo(object):\n",
      "    def __init__(self,content=[]):\n",
      "        self.pouch_contents=content\n",
      "    def put_in_pouch(self,other):\n",
      "        self.pouch_contents.append(other)\n",
      "    def __str__(self):\n",
      "        t = [ object.__str__(self) + ' with pouch contents:' ]\n",
      "        for obj in self.pouch_contents:\n",
      "            s = '    ' + object.__str__(obj)\n",
      "            t.append(s)\n",
      "        return '\\n'.join(t)\n",
      "kanga = Kangaroo()\n",
      "roo = Kangaroo()\n",
      "kanga.put_in_pouch('wallet')\n",
      "kanga.put_in_pouch('car keys')\n",
      "kanga.put_in_pouch(roo)\n",
      "\n",
      "print kanga\n",
      "print ''\n",
      "\n",
      "print roo"
     ],
     "language": "python",
     "metadata": {},
     "outputs": [
      {
       "output_type": "stream",
       "stream": "stdout",
       "text": [
        "<__main__.Kangaroo object at 0x000000000A0CBFD0> with pouch contents:\n",
        "    'wallet'\n",
        "    'car keys'\n",
        "    <__main__.Kangaroo object at 0x000000000B136438>\n",
        "\n",
        "<__main__.Kangaroo object at 0x000000000B136438> with pouch contents:\n",
        "    'wallet'\n",
        "    'car keys'\n",
        "    <__main__.Kangaroo object at 0x000000000B136438>\n"
       ]
      }
     ],
     "prompt_number": 42
    },
    {
     "cell_type": "markdown",
     "metadata": {},
     "source": [
      "## Problem 4\n",
      "\n",
      "Write a `__cmp__` method for `Time` objects. "
     ]
    },
    {
     "cell_type": "code",
     "collapsed": false,
     "input": [
      "# Problem 4\n",
      "class Time(object):\n",
      "    \"\"\"Represents the time of day.\n",
      "    attributes: hour, minute, second\n",
      "    \"\"\"\n",
      "    \n",
      "    # methods\n",
      "    def print_time(time):\n",
      "        print '%.2d:%.2d:%.2d' % (time.hour, time.minute, time.second)    \n",
      "        \n",
      "    def time_to_int(self):\n",
      "        minutes = self.hour * 60 + self.minute\n",
      "        seconds = minutes * 60 + self.second\n",
      "        return seconds\n",
      "    \n",
      "    def __cmp__(self,other):\n",
      "        t1 = self.time_to_int()\n",
      "        t2 = other.time_to_int()\n",
      "        return cmp(t1, t2)\n",
      "    "
     ],
     "language": "python",
     "metadata": {},
     "outputs": [],
     "prompt_number": 4
    },
    {
     "cell_type": "markdown",
     "metadata": {},
     "source": [
      "## Problem 5\n",
      "\n",
      "Write a `Deck` method named `sort` that uses the list method `sort` to sort the cards in a `Deck`. `sort` uses the `__cmp__` method we defined to determine sort order."
     ]
    },
    {
     "cell_type": "code",
     "collapsed": false,
     "input": [
      "# Problem 5"
     ],
     "language": "python",
     "metadata": {},
     "outputs": [],
     "prompt_number": 5
    },
    {
     "cell_type": "markdown",
     "metadata": {},
     "source": [
      "## Problem 6\n",
      "\n",
      "The following are the possible hands in poker, in increasing order of value (and decreasing order of probability):\n",
      "\n",
      "**pair:**\n",
      "two cards with the same rank\n",
      "\n",
      "**two pair:**\n",
      "two pairs of cards with the same rank\n",
      "\n",
      "**three of a kind:**\n",
      "three cards with the same rank\n",
      "\n",
      "**straight:**\n",
      "five cards with ranks in sequence (aces can be high or low, so Ace-2-3-4-5 is a straight and so is 10-Jack-Queen-King-Ace, but Queen-King-Ace-2-3 is not.)\n",
      "\n",
      "**flush:**\n",
      "five cards with the same suit\n",
      "\n",
      "**full house:**\n",
      "three cards with one rank, two cards with another\n",
      "\n",
      "**four of a kind:**\n",
      "four cards with the same rank\n",
      "\n",
      "**straight flush:**\n",
      "five cards in sequence (as defined above) and with the same suit\n",
      "\n",
      "**Modify** the following codes.\n",
      "\n",
      "Add methods to `PokerHand` class named `has_pair`, `has_twopair`, etc. that return `True` or `False` according to whether or not the hand meets the relevant criteria. Your code should work correctly for \u201chands\u201d that contain any number of cards (although 5 and 7 are the most common sizes)"
     ]
    },
    {
     "cell_type": "code",
     "collapsed": false,
     "input": [
      "import random\n",
      "\n",
      "\n",
      "class Card(object):\n",
      "    \"\"\"Represents a standard playing card.\n",
      "    \n",
      "    Attributes:\n",
      "      suit: integer 0-3\n",
      "      rank: integer 1-13\n",
      "    \"\"\"\n",
      "\n",
      "    suit_names = [\"Clubs\", \"Diamonds\", \"Hearts\", \"Spades\"]\n",
      "    rank_names = [None, \"Ace\", \"2\", \"3\", \"4\", \"5\", \"6\", \"7\", \n",
      "              \"8\", \"9\", \"10\", \"Jack\", \"Queen\", \"King\"]\n",
      "\n",
      "    def __init__(self, suit=0, rank=2):\n",
      "        self.suit = suit\n",
      "        self.rank = rank\n",
      "\n",
      "    def __str__(self):\n",
      "        \"\"\"Returns a human-readable string representation.\"\"\"\n",
      "        return '%s of %s' % (Card.rank_names[self.rank],\n",
      "                             Card.suit_names[self.suit])\n",
      "\n",
      "    def __cmp__(self, other):\n",
      "        \"\"\"Compares this card to other, first by suit, then rank.\n",
      "\n",
      "        Returns a positive number if this > other; negative if other > this;\n",
      "        and 0 if they are equivalent.\n",
      "        \"\"\"\n",
      "        t1 = self.suit, self.rank\n",
      "        t2 = other.suit, other.rank\n",
      "        return cmp(t1, t2)\n",
      "\n",
      "\n",
      "class Deck(object):\n",
      "    \"\"\"Represents a deck of cards.\n",
      "\n",
      "    Attributes:\n",
      "      cards: list of Card objects.\n",
      "    \"\"\"\n",
      "    \n",
      "    def __init__(self):\n",
      "        self.cards = []\n",
      "        for suit in range(4):\n",
      "            for rank in range(1, 14):\n",
      "                card = Card(suit, rank)\n",
      "                self.cards.append(card)\n",
      "\n",
      "    def __str__(self):\n",
      "        res = []\n",
      "        for card in self.cards:\n",
      "            res.append(str(card))\n",
      "        return '\\n'.join(res)\n",
      "\n",
      "    def add_card(self, card):\n",
      "        \"\"\"Adds a card to the deck.\"\"\"\n",
      "        self.cards.append(card)\n",
      "\n",
      "    def remove_card(self, card):\n",
      "        \"\"\"Removes a card from the deck.\"\"\"\n",
      "        self.cards.remove(card)\n",
      "\n",
      "    def pop_card(self, i=-1):\n",
      "        \"\"\"Removes and returns a card from the deck.\n",
      "\n",
      "        i: index of the card to pop; by default, pops the last card.\n",
      "        \"\"\"\n",
      "        return self.cards.pop(i)\n",
      "\n",
      "    def shuffle(self):\n",
      "        \"\"\"Shuffles the cards in this deck.\"\"\"\n",
      "        random.shuffle(self.cards)\n",
      "\n",
      "    def sort(self):\n",
      "        \"\"\"Sorts the cards in ascending order.\"\"\"\n",
      "        self.cards.sort()\n",
      "\n",
      "    def move_cards(self, hand, num):\n",
      "        \"\"\"Moves the given number of cards from the deck into the Hand.\n",
      "\n",
      "        hand: destination Hand object\n",
      "        num: integer number of cards to move\n",
      "        \"\"\"\n",
      "        for i in range(num):\n",
      "            hand.add_card(self.pop_card())\n",
      "\n",
      "\n",
      "class Hand(Deck):\n",
      "    \"\"\"Represents a hand of playing cards.\"\"\"\n",
      "    \n",
      "    def __init__(self, label=''):\n",
      "        self.cards = []\n",
      "        self.label = label\n",
      "        \n",
      "class PokerHand(Hand):\n",
      "\n",
      "    def suit_hist(self):\n",
      "        \"\"\"Builds a histogram of the suits that appear in the hand.\n",
      "\n",
      "        Stores the result in attribute suits.\n",
      "        \"\"\"\n",
      "        self.suits = {}\n",
      "        for card in self.cards:\n",
      "            self.suits[card.suit] = self.suits.get(card.suit, 0) + 1\n",
      "\n",
      "    def has_flush(self):\n",
      "        \"\"\"Returns True if the hand has a flush, False otherwise.\n",
      "      \n",
      "        Note that this works correctly for hands with more than 5 cards.\n",
      "        \"\"\"\n",
      "        self.suit_hist()\n",
      "        for val in self.suits.values():\n",
      "            if val >= 5:\n",
      "                return True\n",
      "        return False"
     ],
     "language": "python",
     "metadata": {},
     "outputs": [],
     "prompt_number": 1
    },
    {
     "cell_type": "code",
     "collapsed": false,
     "input": [
      "# Problem 6"
     ],
     "language": "python",
     "metadata": {},
     "outputs": [],
     "prompt_number": 7
    }
   ],
   "metadata": {}
  }
 ]
}