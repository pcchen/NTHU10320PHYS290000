{
 "metadata": {
  "name": "",
  "signature": "sha256:841c584de8ef4c7b7215e4a38d556dadd6f6b30dd9065e248e179aa6bf99831a"
 },
 "nbformat": 3,
 "nbformat_minor": 0,
 "worksheets": [
  {
   "cells": [
    {
     "cell_type": "markdown",
     "metadata": {},
     "source": [
      "# Problem 2:\n",
      "# Sorting a List\n",
      "\n",
      "In this problem you should\n",
      "* Implement the **selection sort** algorithm.\n",
      "* Implement the **insertion sort** algorithm.\n",
      "* Create a list of N-elements where each element is a random integer between 0, 1, 2, ..., N-1.\n",
      "* Use your implementation of the selection sort and insertion sort to sort the the random list above.\n",
      "* Use built-in function `sorted()` that builds a new sorted list to show that your implementation is correct.\n",
      "\n",
      "## Selection sort\n",
      "\n",
      "Following is the algorithm of the **selection sort**:\n",
      "\n",
      "* Divide the input list into two sub-lists:\n",
      " * Sorted sub-list (Start with an empty list).\n",
      " * Un-Sorted sub-list.\n",
      "* Find the smallest element in the unsorted list.\n",
      "* Swap with the leftmost unsorted element.\n",
      "* Move the sub-list boundaries.\n",
      "\n",
      "Following is an example of selection sort:\n",
      "<img src=\"SelectionSort.png\" width=\"800\">\n",
      "\n",
      "## Insertion sort\n",
      "\n",
      "Following is the algorithm of the **insertion sort**:\n",
      "\n",
      "* Divide the input list into two sub-lists:\n",
      " * Sorted sub-list (Start with the leftmost element).\n",
      " * Un-Sorted sub-list.\n",
      "* Insert the leftmost element of the unsorted sub-list into the proper position of the sorted sub-list.\n",
      "* Move the sub-list boundaries \n",
      "\n",
      "Following is an example of selection sort:\n",
      "<img src=\"InsertionSort.png\" width=\"800\">"
     ]
    },
    {
     "cell_type": "markdown",
     "metadata": {},
     "source": [
      "Please write your code based on the sketch below and use the test code below to show that your function works properly."
     ]
    },
    {
     "cell_type": "code",
     "collapsed": false,
     "input": [
      "from random import *\n",
      "\n",
      "b=randint(0,9)\n",
      "print b\n"
     ],
     "language": "python",
     "metadata": {},
     "outputs": [
      {
       "output_type": "stream",
       "stream": "stdout",
       "text": [
        "6\n"
       ]
      }
     ],
     "prompt_number": 33
    },
    {
     "cell_type": "code",
     "collapsed": false,
     "input": [
      "from random import *\n",
      "import copy\n",
      "\n",
      "# create a random list with N elements\n",
      "def random_list(N):\n",
      "    a=[0]*N\n",
      "    i=N\n",
      "    while i>0:\n",
      "        b=randint(0,N-1)\n",
      "        a[i-1]=b\n",
      "        i-=1\n",
      "    print a\n",
      "    return a\n",
      "\n",
      "# selection sort\n",
      "def selection_sort(list):\n",
      "    i=0\n",
      "    while i<len(list)-1:\n",
      "        b=min(list[i:])\n",
      "        c=list[i:].index(b)+i\n",
      "        (list[i],list[c])=(list[c],list[i])\n",
      "        i+=1\n",
      "    return list\n",
      "\n",
      "# insertion sort\n",
      "def insertion_sort(list):\n",
      "    c = len(list)\n",
      "    for i in range(c):\n",
      "        for j in range(c):\n",
      "            if list[j] > list[i]:\n",
      "                (list[i],list[j])=(list[j],list[i])\n",
      "    return list\n",
      "\n",
      "\n"
     ],
     "language": "python",
     "metadata": {},
     "outputs": [],
     "prompt_number": 164
    },
    {
     "cell_type": "code",
     "collapsed": false,
     "input": [],
     "language": "python",
     "metadata": {},
     "outputs": [
      {
       "output_type": "stream",
       "stream": "stdout",
       "text": [
        "[5, 5, 6, 4, 7, 2, 7, 8, 0, 2]\n",
        "[0, 2, 2, 4, 5, 5, 6, 7, 7, 8]\n"
       ]
      }
     ],
     "prompt_number": 79
    },
    {
     "cell_type": "code",
     "collapsed": false,
     "input": [
      "cc=random_list(10)\n",
      "a=[]\n",
      "aa=[]\n",
      "for bb in cc:\n",
      "    aa.append(bb)\n",
      "i=1\n",
      "while i>0:\n",
      "    b=min(aa)\n",
      "    c=aa.index(b)\n",
      "    a.append(aa[c])\n",
      "    del aa[c]\n",
      "    i=len(aa)\n",
      "print a"
     ],
     "language": "python",
     "metadata": {},
     "outputs": [
      {
       "output_type": "stream",
       "stream": "stdout",
       "text": [
        "[5, 3, 3, 5, 3, 4, 0, 4, 0, 9]\n",
        "[0, 0, 3, 3, 3, 4, 4, 5, 5, 9]\n"
       ]
      }
     ],
     "prompt_number": 132
    },
    {
     "cell_type": "code",
     "collapsed": false,
     "input": [
      "# test the implementation of selection sort\n",
      "N = 10\n",
      "L = random_list(N)\n",
      "L_sorted = sorted(L)\n",
      "print L_sorted\n",
      "print selection_sort(L)\n",
      "print L\n",
      "\n",
      "for i in range(len(L)):\n",
      "    if L[i] != L_sorted[i]:\n",
      "        print 'oops!'    "
     ],
     "language": "python",
     "metadata": {},
     "outputs": [
      {
       "output_type": "stream",
       "stream": "stdout",
       "text": [
        "[9, 6, 0, 2, 2, 9, 7, 7, 5, 2]\n",
        "[0, 2, 2, 2, 5, 6, 7, 7, 9, 9]\n",
        "[0, 2, 2, 2, 5, 6, 7, 7, 9, 9]\n",
        "[0, 2, 2, 2, 5, 6, 7, 7, 9, 9]\n"
       ]
      }
     ],
     "prompt_number": 153
    },
    {
     "cell_type": "code",
     "collapsed": false,
     "input": [
      "# test the implementation of insertion sort\n",
      "N = 10\n",
      "L = random_list(N)\n",
      "L_sorted = sorted(L)\n",
      "insertion_sort(L)\n",
      "print L_sorted\n",
      "print insertion_sort(L)\n",
      "print L\n",
      "\n",
      "for i in range(len(L)):\n",
      "    if L[i] != L_sorted[i]:\n",
      "        print 'oops!'    "
     ],
     "language": "python",
     "metadata": {},
     "outputs": [
      {
       "output_type": "stream",
       "stream": "stdout",
       "text": [
        "[2, 7, 9, 4, 3, 0, 0, 9, 5, 8]\n",
        "[0, 0, 2, 3, 4, 5, 7, 8, 9, 9]\n",
        "[0, 0, 2, 3, 4, 5, 7, 8, 9, 9]\n",
        "[0, 0, 2, 3, 4, 5, 7, 8, 9, 9]\n"
       ]
      }
     ],
     "prompt_number": 165
    },
    {
     "cell_type": "code",
     "collapsed": false,
     "input": [],
     "language": "python",
     "metadata": {},
     "outputs": []
    }
   ],
   "metadata": {}
  }
 ]
}