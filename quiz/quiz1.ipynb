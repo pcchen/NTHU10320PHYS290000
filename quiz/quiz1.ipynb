{
 "metadata": {
  "name": "",
  "signature": "sha256:4a14866ea7d2bb9d53d0058325bf7567201e922114428b489c8589bfd22c06bc"
 },
 "nbformat": 3,
 "nbformat_minor": 0,
 "worksheets": [
  {
   "cells": [
    {
     "cell_type": "markdown",
     "metadata": {},
     "source": [
      "# Quiz1\n",
      "# Name:\n",
      "# ID:"
     ]
    },
    {
     "cell_type": "code",
     "collapsed": false,
     "input": [
      "# Problem 1\n",
      "print 7/3"
     ],
     "language": "python",
     "metadata": {},
     "outputs": [
      {
       "output_type": "stream",
       "stream": "stdout",
       "text": [
        "2\n"
       ]
      }
     ],
     "prompt_number": 1
    },
    {
     "cell_type": "code",
     "collapsed": false,
     "input": [
      "# Problem 2\n",
      "print 7./3."
     ],
     "language": "python",
     "metadata": {},
     "outputs": [
      {
       "output_type": "stream",
       "stream": "stdout",
       "text": [
        "2.33333333333\n"
       ]
      }
     ],
     "prompt_number": 2
    },
    {
     "cell_type": "code",
     "collapsed": false,
     "input": [
      "# Problem 3\n",
      "print 7%3"
     ],
     "language": "python",
     "metadata": {},
     "outputs": [
      {
       "output_type": "stream",
       "stream": "stdout",
       "text": [
        "1\n"
       ]
      }
     ],
     "prompt_number": 3
    },
    {
     "cell_type": "code",
     "collapsed": false,
     "input": [
      "# Problem 4\n",
      "x = 4\n",
      "y = 3\n",
      "print not (x > y)"
     ],
     "language": "python",
     "metadata": {},
     "outputs": [
      {
       "output_type": "stream",
       "stream": "stdout",
       "text": [
        "False\n"
       ]
      }
     ],
     "prompt_number": 4
    },
    {
     "cell_type": "code",
     "collapsed": false,
     "input": [
      "# Problem 5\n",
      "x = 3\n",
      "y = 2 \n",
      "if x == y:\n",
      "    print 'x>y'\n",
      "else:\n",
      "    if x < y:\n",
      "        print 'x=y'\n",
      "    else:\n",
      "        print 'x<y'"
     ],
     "language": "python",
     "metadata": {},
     "outputs": [
      {
       "output_type": "stream",
       "stream": "stdout",
       "text": [
        "x<y\n"
       ]
      }
     ],
     "prompt_number": 5
    },
    {
     "cell_type": "code",
     "collapsed": false,
     "input": [
      "# Problem 6\n",
      "def countup(n):\n",
      "    if n >= 10:\n",
      "        print 'Hi!'\n",
      "    else:\n",
      "        print n\n",
      "        countup(n+1)\n",
      "\n",
      "countup(7)"
     ],
     "language": "python",
     "metadata": {},
     "outputs": [
      {
       "output_type": "stream",
       "stream": "stdout",
       "text": [
        "7\n",
        "8\n",
        "9\n",
        "Hi!\n"
       ]
      }
     ],
     "prompt_number": 6
    },
    {
     "cell_type": "code",
     "collapsed": false,
     "input": [
      "# Problem 7\n",
      "def f1(n):\n",
      "    if n == 1:\n",
      "        return 1\n",
      "    if n % 2 == 1:\n",
      "        return n + f2(n-1)\n",
      "\n",
      "def f2(n):\n",
      "    if n == 2:\n",
      "        return 2\n",
      "    if n % 2 == 0:\n",
      "        return n - f1(n-1)\n",
      "    \n",
      "print f1(5)"
     ],
     "language": "python",
     "metadata": {},
     "outputs": [
      {
       "output_type": "stream",
       "stream": "stdout",
       "text": [
        "4\n"
       ]
      }
     ],
     "prompt_number": 7
    },
    {
     "cell_type": "code",
     "collapsed": false,
     "input": [
      "# Problem 8\n",
      "def do4(f, s):\n",
      "    f(s)\n",
      "    f(s)\n",
      "    f(s)\n",
      "    f(s)\n",
      "\n",
      "def abc(s):\n",
      "    print s\n",
      "    \n",
      "do4(abc, 'xyz')"
     ],
     "language": "python",
     "metadata": {},
     "outputs": [
      {
       "output_type": "stream",
       "stream": "stdout",
       "text": [
        "xyz\n",
        "xyz\n",
        "xyz\n",
        "xyz\n"
       ]
      }
     ],
     "prompt_number": 8
    },
    {
     "cell_type": "code",
     "collapsed": false,
     "input": [
      "# Problem 9\n",
      "import math\n",
      "\n",
      "def third(a,b):\n",
      "    return math.sqrt(a**2+b**2)\n",
      "\n",
      "print third(3,4)"
     ],
     "language": "python",
     "metadata": {},
     "outputs": [
      {
       "output_type": "stream",
       "stream": "stdout",
       "text": [
        "5.0\n"
       ]
      }
     ],
     "prompt_number": 9
    },
    {
     "cell_type": "code",
     "collapsed": false,
     "input": [
      "# Problem 10\n",
      "def is_divisible(x, y):\n",
      "    return x % y == 0\n",
      "\n",
      "print is_divisible(6, 4)"
     ],
     "language": "python",
     "metadata": {},
     "outputs": [
      {
       "output_type": "stream",
       "stream": "stdout",
       "text": [
        "False\n"
       ]
      }
     ],
     "prompt_number": 10
    }
   ],
   "metadata": {}
  }
 ]
}