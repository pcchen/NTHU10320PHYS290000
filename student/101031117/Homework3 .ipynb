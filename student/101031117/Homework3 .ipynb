{
 "metadata": {
  "name": "",
  "signature": "sha256:e4c89ef742b0dcc5c97a7593052192cbe63203eaabc1d2d3c1e660ab0a7fb606"
 },
 "nbformat": 3,
 "nbformat_minor": 0,
 "worksheets": [
  {
   "cells": [
    {
     "cell_type": "markdown",
     "metadata": {},
     "source": [
      "# Homework 3"
     ]
    },
    {
     "cell_type": "markdown",
     "metadata": {},
     "source": [
      "## Problem 1: Logistic map, chaos, bifurcation\n",
      "\n",
      "Consider the logic map\n",
      "\n",
      "$$\n",
      "  x_{n+1} = \\alpha x_n (1-x_n)\n",
      "$$\n",
      "\n",
      "Write a program to calculates and displays the behavior of the logistic map.\n",
      "\n",
      "* For a give value of $\\alpha$, start with $x=0.5$ and iterate the logistic map equation a thousand times. \n",
      "  * That will give it a chance to settle down to a fixed point or limit cycle if its going to.\n",
      "\n",
      "* Run for another thousand iterations and plot the points $(\\alpha,x)$ on a graph where the horizontal axis is $\\alpha$ and the vertical axis is $x$.\n",
      "\n",
      "* Repeat the whole calculation for values of $\\alpha$ from 1 to 4 in steps of 0.01, plotting the dots for all values of $\\alpha$ on the same figure.\n",
      "\n",
      "Reference: https://en.wikipedia.org/wiki/Logistic_map"
     ]
    },
    {
     "cell_type": "code",
     "collapsed": false,
     "input": [
      "%pylab inline\n",
      "?figure"
     ],
     "language": "python",
     "metadata": {},
     "outputs": [
      {
       "output_type": "stream",
       "stream": "stdout",
       "text": [
        "Populating the interactive namespace from numpy and matplotlib\n"
       ]
      }
     ],
     "prompt_number": 1
    },
    {
     "cell_type": "code",
     "collapsed": false,
     "input": [
      "# Problem 1\n",
      "def f1(alpha):\n",
      "    n=0\n",
      "    t=0.5\n",
      "    while n<=1000:\n",
      "        t=alpha*t*(1-t)\n",
      "        n=n+1\n",
      "    return t\n",
      "def f2(alpha):\n",
      "    m=0\n",
      "    y=f1(alpha)\n",
      "    for m in range(1000):\n",
      "        y=alpha*y*(1-y)\n",
      "        plot(alpha,y,'k-',markersize=0.1)\n",
      "    show()\n",
      "alpha=linspace(1,4,300)\n",
      "f2(alpha)"
     ],
     "language": "python",
     "metadata": {},
     "outputs": [
      {
       "metadata": {},
       "output_type": "display_data",
       "png": "[encoded data removed]",
       "text": [
        "<matplotlib.figure.Figure at 0x9fa3e48>"
       ]
      }
     ],
     "prompt_number": 2
    },
    {
     "cell_type": "markdown",
     "metadata": {},
     "source": [
      "## Problem 2: The Mandelbrot set\n",
      "\n",
      "\n",
      "\n",
      "Consider the equation\n",
      "$$\n",
      "  z^\\prime=z^2+c,\n",
      "$$\n",
      "where $z$ is a complex number and $c$ is a complex constant.\n",
      "\n",
      "For a given complex value of $c$, start with $z = 0$ and iterate repeatedly. \n",
      "If the magnitude $|z|$ of the resulting value is ever greater than $2$, \n",
      "then the point in the complex plane at position $c$ is not in the Mandelbrot set, \n",
      "otherwise it is in the set.\n",
      "\n",
      "In principle, one has to iterate infinitely many times to prove that a point is in the Mandelbrot set.\n",
      "In practice, however, one usually just performs some large number of iterations, \n",
      "say 100 or 1000, and if $|z|$ hasn't exceeded 2 by that point then we call that good enough.\n",
      "\n",
      "Write a program to make an image of the Mandelbrot set by performing the iteration for all values of $c = x + iy$ on an $N \\times N$ grid spanning the region where $-2 \\le x \\le 2$ and $-2 \\le y \\le 2$. Make a **density plot** in which grid points inside the Mandelbrot set are colored black and those outside are colored white. \n",
      "\n",
      "\n",
      "Hint: You will probably find it useful to start off with quite a coarse grid, i.e., with a small value of $N$\n",
      "(perhaps $N = 100$) so that your program runs quickly while you are testing it. \n",
      "Once you are sure it is working correctly, increase the value of $N$ to produce a final high-quality image of the shape of the set.\n",
      "\n",
      "Instead of coloring points just black or white, color points according to the number of iterations of the equation before $z$ becomes greater than $2$ (or the maximum number of iterations if $|z|$ never becomes greater than 2). Use color schemes such as the `hot` or `jet` schemes. \n",
      "\n",
      "Or to color according to the logarithm of the number of iterations.\n",
      "\n",
      "Reference: https://en.wikipedia.org/wiki/Mandelbrot_set"
     ]
    },
    {
     "cell_type": "code",
     "collapsed": false,
     "input": [
      "# Problem 2\n",
      "n=400       # n\u53d6100\u6548\u679c\u5c31\u5f88\u4e0d\u932f\u4e86\n",
      "x = np.linspace(-2, 2, n)\n",
      "y = np.linspace(-2, 2, n)\n",
      "xx, yy = meshgrid(x, y)\n",
      "\n",
      "c_x=xx\n",
      "c_y=yy\n",
      "s=0\n",
      "t=0\n",
      "z_x=np.zeros((n,n))\n",
      "z_y=np.zeros((n,n))\n",
      "m=0\n",
      "for s in range(n):\n",
      "    for t in range(n):\n",
      "        for m in range(10):\n",
      "            (z_x[s,t],z_y[s,t])=(z_x[s,t]**2+c_x[s,t]-z_y[s,t]**2,2*z_x[s,t]*z_y[s,t]+c_y[s,t])\n",
      "            #\u82e5\u76f4\u63a5\u7528\u8907\u6578\u77e9\u9663\uff0c\u865b\u90e8\u6703\u6d88\u5931\n",
      "            \n",
      "        if abs(z_x[s,t]+1j*z_y[s,t])>2:\n",
      "            plot(c_x[s,t],c_y[s,t],'w')\n",
      "        else:\n",
      "            plot(c_x[s,t],c_y[s,t],'ko',markersize=1)       # \u5b57\u9ad4\u5927\u5c0f\u7528markersize\n",
      "show()"
     ],
     "language": "python",
     "metadata": {},
     "outputs": [],
     "prompt_number": 2
    },
    {
     "cell_type": "markdown",
     "metadata": {},
     "source": [
      "## Problem 3: Quadratic equations"
     ]
    },
    {
     "cell_type": "markdown",
     "metadata": {},
     "source": [
      "### Problem 3.1\n",
      "\n",
      "Write a program that takes as input three numbers, $a$, $b$, and $c$, and prints out the two solutions to the quadratic equation $ax^2 + bx + c = 0$ using the standard \ufffcformula\n",
      "\n",
      "$$\n",
      "  x = \\frac{-b\\pm\\sqrt{b^2-4ac}}{2a}.\n",
      "$$\n",
      "\n",
      "Use your program to compute the solutions of $0.001x^2 + 1000x + 0.001 = 0$."
     ]
    },
    {
     "cell_type": "code",
     "collapsed": false,
     "input": [
      "# Problem 3.1\n",
      "def f(a,b,c):\n",
      "    print (-b+(b**2-4*a*c)**0.5)/(2*a)\n",
      "    print (-b-(b**2-4*a*c)**0.5)/(2*a)\n",
      "    \n",
      "    \n",
      "    \n",
      "f(0.001,1000,0.001)"
     ],
     "language": "python",
     "metadata": {},
     "outputs": [],
     "prompt_number": 3
    },
    {
     "cell_type": "markdown",
     "metadata": {},
     "source": [
      "### Problem 3.2\n",
      "\n",
      "There is another way to write the solutions to a quadratic equation. Multiplying top and bottom of the solution above by $-b\\mp\\sqrt{b^2-4ac}$, one can show that the solutions \ufffccan also be written as\n",
      "\n",
      "$$\n",
      "  x = \\frac{2c}{-b\\mp\\sqrt{b^2-4ac}}.\n",
      "$$\n",
      "\n",
      "Write a program that takes as input three numbers, a, b, and c, and prints out the two solutions to the quadratic equation $ax^2+bx+c=0$ using this formula. Use the program to solve $0.001x^2 + 1000x + 0.001 = 0$."
     ]
    },
    {
     "cell_type": "code",
     "collapsed": false,
     "input": [
      "# Problem 3.2\n",
      "def f(a,b,c):\n",
      "    print (2*c)/(-b+(b**2-4*a*c)**0.5)\n",
      "    print (2*c)/(-b-(b**2-4*a*c)**0.5)\n",
      "    \n",
      "    \n",
      "    \n",
      "f(0.001,1000,0.001)"
     ],
     "language": "python",
     "metadata": {},
     "outputs": [],
     "prompt_number": 4
    },
    {
     "cell_type": "markdown",
     "metadata": {},
     "source": [
      "### Problem 3.3\n",
      "\n",
      "The correct solutions to the quadratic equation $0.001x^2 + 1000x + 0.001 = 0$ should be\n",
      "\n",
      "$$\n",
      "  x_1 = -1.00000000000100002081668371*10^{-6}, \\\\\n",
      "  x_2 = -9.99999999999000060986371202*10^{5}\n",
      "$$\n",
      "\n",
      "You should find out that one of the solutions is not very accurate for your code in problem 3.1 and 3.2. Using what you have learned, write a new program that calculates both roots of a quadratic equation accurately in all cases."
     ]
    },
    {
     "cell_type": "code",
     "collapsed": false,
     "input": [
      "def f(a,b,c):\n",
      "    print (2*c)/(-b-(b**2-4*a*c)**0.5)\n",
      "    print (-b-(b**2-4*a*c)**0.5)/(2*a)\n",
      "    \n",
      "    \n",
      "    \n",
      "f(0.001,1000,0.001)"
     ],
     "language": "python",
     "metadata": {},
     "outputs": []
    },
    {
     "cell_type": "markdown",
     "metadata": {},
     "source": [
      "## Problem 4: Numerical derivatives\n",
      "\n",
      "The derivative of a functoin $f(x)$ is defined as\n",
      "\n",
      "$$\n",
      "  \\frac{df}{dx} = \\lim_{\\delta\\rightarrow 0} \\frac{f(x+\\delta)-f(x)}{\\delta}.\n",
      "$$\n",
      "\n",
      "On the computer we can\u2019t actually take the limit as $\\delta$ goes to zero, but we can get a reasonable approximation just by making $\\delta$ small."
     ]
    },
    {
     "cell_type": "markdown",
     "metadata": {},
     "source": [
      "### Problem 4.1\n",
      "\n",
      "Write a program that defines a function $f(x)$ returning the value $x(x \u2212 1)$, then calculates the derivative of the function at the point $x = 1$ using the formula above with $\\delta = 10^{\u22122}$. Calculate the true value of the same derivative analytically and compare with the answer your program gives."
     ]
    },
    {
     "cell_type": "code",
     "collapsed": false,
     "input": [
      "# Problem 4.1\n",
      "def f(x):\n",
      "    return x*(x-1)\n",
      "def limf(delta):\n",
      "    x=1\n",
      "    print (f(x+delta)-f(x))/delta\n",
      "limf(10**-2)"
     ],
     "language": "python",
     "metadata": {},
     "outputs": [],
     "prompt_number": 5
    },
    {
     "cell_type": "markdown",
     "metadata": {},
     "source": [
      "### Problem 4.2\n",
      "\n",
      "Repeat the calculation for $\\delta = 10^{\u22124}$ , $10^{\u22126}$ , $10^{\u22128}$ , $10^{\u221210}$ , $10^{\u221212}$ , and $10^{\u221214}$. You should see that the accuracy of the calculation initially gets better as \u03b4 gets smaller, but then gets worse again. Why is this?"
     ]
    },
    {
     "cell_type": "code",
     "collapsed": false,
     "input": [
      "# Problem 4.2\n",
      "def f(x):\n",
      "    return x*(x-1)\n",
      "def limf(delta):\n",
      "    x=1\n",
      "    print (f(x+delta)-f(x))/delta\n",
      "    \n",
      "limf(10**-4)\n",
      "limf(10**-6)\n",
      "limf(10**-8)\n",
      "limf(10**-10)\n",
      "limf(10**-12)\n",
      "limf(10**-14)"
     ],
     "language": "python",
     "metadata": {},
     "outputs": [],
     "prompt_number": 6
    },
    {
     "cell_type": "markdown",
     "metadata": {},
     "source": [
      "### Problem 4.3\n",
      "\n",
      "Plot the error of your numerical derivative a function of $\\log(\\delta)$, with $\\delta \\in [10^{-2}, 10^{-14}]$."
     ]
    },
    {
     "cell_type": "code",
     "collapsed": false,
     "input": [
      "# Problem 4.3\n",
      "import math\n",
      "def f(x):\n",
      "    return x*(x-1)\n",
      "def limf(delta):\n",
      "    x=1\n",
      "    return (f(x+delta)-f(x))/delta\n",
      "def df(delta):\n",
      "    return delta/delta\n",
      "\n",
      "\n",
      "\n",
      "delta=linspace(-14,-2,6000)\n",
      "y=limf(10**delta)\n",
      "plot(delta, y,'b-')\n",
      "y1=df(delta)\n",
      "plot(delta,y1,'r-')\n",
      "axis([-14, -2, 0.990, 1.010])\n",
      "legend(['limf(1)', 'df(1)'])\n",
      "title('numerical derivative figure')\n",
      "xlabel('log delta')\n",
      "ylabel('y')\n",
      "show()"
     ],
     "language": "python",
     "metadata": {},
     "outputs": [],
     "prompt_number": 7
    }
   ],
   "metadata": {}
  }
 ]
}