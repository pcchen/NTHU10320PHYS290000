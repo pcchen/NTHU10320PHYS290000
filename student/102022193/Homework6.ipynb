{
 "metadata": {
  "name": "",
  "signature": "sha256:ae2e5b4a2671852a1d11f4d3dfebec6bd39ac0f0d672e719bbed46667a28d349"
 },
 "nbformat": 3,
 "nbformat_minor": 0,
 "worksheets": [
  {
   "cells": [
    {
     "cell_type": "markdown",
     "metadata": {},
     "source": [
      "# Homework 6"
     ]
    },
    {
     "cell_type": "markdown",
     "metadata": {},
     "source": [
      "## Problem 1\n",
      "\n",
      "Use **ivisual** module to plot the projectile motion with following equations of motion:\n",
      "\n",
      "$$\n",
      "\\begin{eqnarray*}\n",
      "  m\\ddot{x} &=& 0, \\\\\n",
      "  m\\ddot{y} &=& -mg, \\\\\n",
      "  m\\ddot{z} &=& 0,\n",
      "\\end{eqnarray*}\n",
      "$$\n",
      "and initial conditions\n",
      "\n",
      "$$\n",
      "  \\vec{r}(0) = (0, 0, 0), \\\\\n",
      "  \\vec{v}(0) = (v_{x0}, v_{y0}, 0),\n",
      "$$\n",
      "You can assign $v_{x0}$ and $v_{y0}$ in the code or ask user to input it.\n",
      "\n",
      "You should\n",
      "* Use a box to represent the ground.\n",
      "* Use three arrows to represent the three axes.\n",
      "* Use a sphere to represent the ball of the projectile motion.\n",
      "* Leave a trail.\n",
      "* Stop the simulation when the ball hit the ground.\n",
      "\n",
      "You should use to ways to calculate the trajectory of the motion.\n",
      "1. Use exact solution: $x(t)=x(0)+v_x t$, etc.\n",
      "2. Use numerical solution:\n",
      " * $v(t+dt) = v(t) + a * dt$.\n",
      " * $x(t+dt) = x(t) + v(t) * dt$.\n",
      "\n",
      "You should use a small enough $dt$ to ensure the numerical solution is accurate enough.\n"
     ]
    },
    {
     "cell_type": "code",
     "collapsed": false,
     "input": [
      "# Problem 1\n",
      "from ivisual import *\n",
      "\n",
      "bg=canvas(title =\"bg\")\n",
      "bg.width = 800\n",
      "bg.height = 600\n",
      "bg.autoscale = 0\n",
      "bg.range = (20,20,20)\n",
      "bg.center = (0,0,0)\n",
      "ball=sphere(pos=(0,0,0), radius=1)\n",
      "grand=box(size=(50,0.5,50),pos=(0,0,0),color=color.green)\n",
      "xaxis=arrow(pos=(-1,0,-1),axis=(20,0,0),shaftwidth=.5)\n",
      "yaxis=arrow(pos=(-1,0,-1),axis=(0,20,0),shaftwidth=.5)\n",
      "zaxis=arrow(pos=(-1,0,-1),axis=(0,0,20),shaftwidth=.5)\n",
      "vx=5\n",
      "vy=15\n",
      "g=9.8\n",
      "ball.velocity=vector(vx,vy,0)\n",
      "ball.accelation=vector(0,-g,0)\n",
      "def animation():\n",
      "    dt =0.01\n",
      "    seconds=0\n",
      "    Flag=1\n",
      "    while (Flag) :\n",
      "        rate(100)\n",
      "        seconds=seconds+dt\n",
      "        ball.velocity=ball.velocity+dt*ball.accelation\n",
      "        ball.pos=ball.pos+ball.velocity*dt\n",
      "        if ball.pos.y<0:\n",
      "            Flag=0"
     ],
     "language": "python",
     "metadata": {},
     "outputs": [
      {
       "html": [
        "<div id=\"scene28\"><div id=\"glowscript\" class=\"glowscript\"></div></div>"
       ],
       "metadata": {},
       "output_type": "display_data",
       "text": [
        "<IPython.core.display.HTML at 0x42e0c18>"
       ]
      },
      {
       "javascript": [
        "window.__context = { glowscript_container: $(\"#glowscript\").removeAttr(\"id\")}"
       ],
       "metadata": {},
       "output_type": "display_data",
       "text": [
        "<IPython.core.display.Javascript at 0x425fe80>"
       ]
      }
     ],
     "prompt_number": 31
    },
    {
     "cell_type": "markdown",
     "metadata": {},
     "source": [
      "## Problem 2\n",
      "\n",
      "Now introduce the air resistence so the equations of motion become:\n",
      "\n",
      "$$\n",
      "\\begin{eqnarray*}\n",
      "  m\\ddot{x} &=& -km\\dot{x}, \\\\\n",
      "  m\\ddot{y} &=& -km\\dot{y}-mg, \\\\\n",
      "  m\\ddot{z} &=& 0,\n",
      "\\end{eqnarray*}\n",
      "$$\n",
      "and initial conditions\n",
      "\n",
      "$$\n",
      "  \\vec{r}(0) = (0, 0, 0), \\\\\n",
      "  \\vec{v}(0) = (v_{x0}, v_{y0}, 0),\n",
      "$$\n",
      "You can assign $v_{x0}$ and $v_{y0}$ in the code or ask user to input it.\n",
      "\n",
      "You should\n",
      "* Use a box to represent the ground.\n",
      "* Use three arrows to represent the three axes.\n",
      "* Use a sphere to represent the ball of the projectile motion.\n",
      "* Leave a trail.\n",
      "* Stop the simulation when the ball hit the ground.\n",
      "\n",
      "\n",
      "You should use to ways to calculate the trajectory of the motion.\n",
      "1. Use exact solution: (Check for example Marion's book).\n",
      "2. Use numerical solution:\n",
      " * $v(t+dt) = v(t) + a * dt$.\n",
      " * $x(t+dt) = x(t) + v(t) * dt$.\n",
      "\n",
      "You should use a small enough $dt$ to ensure the numerical solution is accurate enough.\n"
     ]
    },
    {
     "cell_type": "code",
     "collapsed": false,
     "input": [
      "# Problem 2\n",
      "from ivisual import *\n",
      "\n",
      "bg=canvas(title =\"bg\")\n",
      "bg.width = 800\n",
      "bg.height = 600\n",
      "bg.autoscale = 0\n",
      "bg.range = (20,20,20)\n",
      "bg.center = (0,0,0)\n",
      "ball=sphere(pos=(0,0,0), radius=1)\n",
      "grand=box(size=(50,0.5,50),pos=(0,0,0),color=color.green)\n",
      "xaxis=arrow(pos=(-1,0,-1),axis=(20,0,0),shaftwidth=.5)\n",
      "yaxis=arrow(pos=(-1,0,-1),axis=(0,20,0),shaftwidth=.5)\n",
      "zaxis=arrow(pos=(-1,0,-1),axis=(0,0,20),shaftwidth=.5)\n",
      "vx=5\n",
      "vy=15\n",
      "g=9.8\n",
      "ball.velocity=vector(vx,vy,0)\n",
      "ball.accelation=vector(0,-g,0)\n",
      "def animation():\n",
      "    dt =0.01\n",
      "    seconds=0\n",
      "    Flag=1\n",
      "    while (Flag) :\n",
      "        rate(100)\n",
      "        seconds=seconds+dt\n",
      "        ball.velocity=ball.velocity+dt*ball.accelation\n",
      "        ball.pos=ball.pos+ball.velocity*dt\n",
      "        if ball.pos.y<0:\n",
      "            Flag=0\n",
      "animation()"
     ],
     "language": "python",
     "metadata": {},
     "outputs": [
      {
       "html": [
        "<div id=\"scene29\"><div id=\"glowscript\" class=\"glowscript\"></div></div>"
       ],
       "metadata": {},
       "output_type": "display_data",
       "text": [
        "<IPython.core.display.HTML at 0x43a9470>"
       ]
      },
      {
       "javascript": [
        "window.__context = { glowscript_container: $(\"#glowscript\").removeAttr(\"id\")}"
       ],
       "metadata": {},
       "output_type": "display_data",
       "text": [
        "<IPython.core.display.Javascript at 0x42acb00>"
       ]
      }
     ],
     "prompt_number": 33
    },
    {
     "cell_type": "markdown",
     "metadata": {},
     "source": [
      "## Problem 3\n",
      "\n",
      "Use **ivisual** module to plot the trajectory of a coupled spring-mass system that has two masses, three springs, two walls.\n",
      "\n",
      "Something like Wall-spring1-mass1-spring2-mass2-spring3-Wall.\n",
      "\n",
      "You should\n",
      "* Use a box to represent the ground.\n",
      "* Use two boxes to represent the walls.\n",
      "* Use two **cubic** boxes to represent the two masses.\n",
      "* Use helix to represent the two srpings.\n"
     ]
    },
    {
     "cell_type": "code",
     "collapsed": false,
     "input": [
      "# Problem 3"
     ],
     "language": "python",
     "metadata": {},
     "outputs": [],
     "prompt_number": 1
    },
    {
     "cell_type": "markdown",
     "metadata": {},
     "source": [
      "# Problem 4\n",
      "\n",
      "Use **ivisual** module to plot the trajectories of 20 particles in a rectangle box.\n",
      "\n",
      "* The rectangle box has the dimension $L_x$, $L_y$, $L_z$.\n",
      "* Use boxes to represent the walls. Keep one wall **invisible**.\n",
      "* The 20 particles should have **random** initial velocity.\n",
      "* The 20 particles should leave a trail.\n",
      "* Make each particle has random RGB color."
     ]
    },
    {
     "cell_type": "code",
     "collapsed": false,
     "input": [
      "# Problem 4"
     ],
     "language": "python",
     "metadata": {},
     "outputs": [],
     "prompt_number": 2
    }
   ],
   "metadata": {}
  }
 ]
}