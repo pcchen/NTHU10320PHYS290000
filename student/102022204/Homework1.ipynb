{
 "metadata": {
  "name": "",
  "signature": "sha256:f70fcd1aa8bca8d5e24346050050488001b4811172fa551cb59f6803f122d28a"
 },
 "nbformat": 3,
 "nbformat_minor": 0,
 "worksheets": [
  {
   "cells": [
    {
     "cell_type": "markdown",
     "metadata": {},
     "source": [
      "# Homework 1"
     ]
    },
    {
     "cell_type": "markdown",
     "metadata": {},
     "source": [
      "## Problem 1.1\n",
      "\n",
      "Write some code that prints the words `Hello, World'."
     ]
    },
    {
     "cell_type": "code",
     "collapsed": false,
     "input": [
      "# Problem 1.1\n",
      "print'Hello, World'"
     ],
     "language": "python",
     "metadata": {},
     "outputs": [
      {
       "output_type": "stream",
       "stream": "stdout",
       "text": [
        "Hello, World\n"
       ]
      }
     ],
     "prompt_number": 7
    },
    {
     "cell_type": "markdown",
     "metadata": {},
     "source": [
      "## Problem 1.2\n",
      "\n",
      "Python provides a built-in function called `len` that returns the length of a string, so the value of `len('allen')` is `5`.\n",
      "\n",
      "Write a function named `right_justify` that takes a string named `s` as a parameter and prints the string with enough leading spaces so that the last letter of the string is in column 70 of the display.\n",
      "\n",
      "Write some code to demonstrate the usage of your `right_justify` function.\n",
      "\n",
      "``\n",
      "right_justify('allen')\n",
      "                                                                 allen\n",
      "right_justify('homework')\n",
      "                                                              homework\n",
      "right_justify('cat')\n",
      "                                                                   cat\n",
      "``"
     ]
    },
    {
     "cell_type": "code",
     "collapsed": false,
     "input": [
      "# Problem 1.2\n",
      "\n",
      "def right_justify(x):\n",
      " \n",
      "    m=len(x)\n",
      "    print ' '*(70-m)+x\n",
      "\n",
      "\n",
      "right_justify('calvin')\n",
      "right_justify('allen')\n",
      "right_justify('homework')\n",
      "right_justify('cat')"
     ],
     "language": "python",
     "metadata": {},
     "outputs": [
      {
       "output_type": "stream",
       "stream": "stdout",
       "text": [
        "                                                                calvin\n",
        "                                                                 allen\n",
        "                                                              homework\n",
        "                                                                   cat\n"
       ]
      }
     ],
     "prompt_number": 61
    },
    {
     "cell_type": "markdown",
     "metadata": {},
     "source": [
      "## Problem 1.3\n",
      "\n",
      "### Exercise 3.4 \n",
      "\n",
      "A **function object** is a value you can assign to a variable or pass as an argument. For example, `do_twice` is a function that takes a function object as an argument and calls it twice:\n",
      "\n",
      "``\n",
      "def do_twice(f):\n",
      "    f()\n",
      "    f()\n",
      "``\n",
      "\n",
      "Here\u2019s an example that uses `do_twice` to call a function named `print_spam` twice.\n",
      "\n",
      "``def print_spam():\n",
      "    print 'spam'``\n",
      "\n",
      "``    \n",
      "do_twice(print_spam)\n",
      "``\n",
      "\n",
      "1. Type this example into a script and test it.\n",
      "2. Modify `do_twice` so that it takes two arguments, a function object and a value, and calls the function twice, passing the value as an argument.\n",
      "3. Write a more general version of `print_spam`, called `print_twice`, that takes a string as a parameter and prints it twice.\n",
      "4. Use the modified version of `do_twice` to call `print_twice` twice, passing `'spam'` as an argument.\n",
      "5. Define a new function called `do_four` that takes a function object and a value and calls the function four times, passing the value as a parameter. There should be only two statements in the body of this function, not four.\n",
      "\n",
      "Write some code to demonstrate the usage above functions."
     ]
    },
    {
     "cell_type": "code",
     "collapsed": false,
     "input": [
      "# Problem 1.3\n",
      "def do_four(f,a):\n",
      "    f(a)\n",
      "    f(a)\n",
      "    \n",
      "def print_twice(a):\n",
      "    print a\n",
      "    print a\n",
      "    \n",
      "do_four(print_twice,'calvin')"
     ],
     "language": "python",
     "metadata": {},
     "outputs": [
      {
       "output_type": "stream",
       "stream": "stdout",
       "text": [
        "calvin\n",
        "calvin\n",
        "calvin\n",
        "calvin\n"
       ]
      }
     ],
     "prompt_number": 21
    },
    {
     "cell_type": "markdown",
     "metadata": {},
     "source": [
      "## Problem 1.4\n",
      "\n",
      "*This exercise can be done using only the statements and other features we have learned so far.*\n",
      "\n",
      "(1) Write a function that draws a grid like the following:\n",
      "\n",
      "\n",
      "    + - - - - + - - - - +\n",
      "    |         |         |\n",
      "    |         |         |\n",
      "    |         |         |\n",
      "    |         |         |\n",
      "    + - - - - + - - - - +\n",
      "    |         |         |\n",
      "    |         |         |\n",
      "    |         |         |\n",
      "    |         |         |\n",
      "    + - - - - + - - - - +\n",
      "\n",
      "\n",
      "Hint: to print more than one value on a line, you can print a comma-separated sequence:\n",
      "\n",
      "    print '+', '-'\n",
      "\n",
      "If the sequence ends with a comma, Python leaves the line unfinished, so the value printed next appears on the same line.\n",
      "\n",
      "\n",
      "    print '+', \n",
      "    print '-'\n",
      "\n",
      "The output of these statements is `'+ -'`.\n",
      "\n",
      "A `print` statement all by itself ends the current line and goes to the next line.\n",
      "\n",
      "(2) Write a function that draws a similar grid with four rows and four columns."
     ]
    },
    {
     "cell_type": "code",
     "collapsed": false,
     "input": [
      "# Problem 1.4\n",
      "\n",
      "print '(1)'\n",
      "def haha(a,b,c):\n",
      "    print ((a+c)+(b+c)*4)*2+a\n",
      "\n",
      "def haha2(a,b,c,d):\n",
      "    while d < 4 :\n",
      "        print ((a+c)+(b+c)*4)*2+a\n",
      "        d = d + 1\n",
      "\n",
      "haha('+','-',' ')\n",
      "haha2('|',' ',' ',0)\n",
      "haha('+','-',' ')\n",
      "haha2('|',' ',' ',0)\n",
      "haha('+','-',' ')\n",
      "\n",
      "print ' '\n",
      "\n",
      "print '(2)'\n",
      "def hahb(a,b,c):\n",
      "    print ((a+c)+(b+c)*4)*4+a\n",
      "    \n",
      "def hahb2(a,b,c,d):\n",
      "    while d < 4 :\n",
      "        print ((a+c)+(b+c)*4)*4+a\n",
      "        d = d + 1\n",
      "        \n",
      "hahb('+','-',' ')\n",
      "hahb2('|',' ',' ',0)\n",
      "hahb('+','-',' ')\n",
      "hahb2('|',' ',' ',0)\n",
      "hahb('+','-',' ')\n",
      "hahb2('|',' ',' ',0)\n",
      "hahb('+','-',' ')\n",
      "hahb2('|',' ',' ',0)\n",
      "hahb('+','-',' ')\n"
     ],
     "language": "python",
     "metadata": {},
     "outputs": [
      {
       "output_type": "stream",
       "stream": "stdout",
       "text": [
        "(1)\n",
        "+ - - - - + - - - - +\n",
        "|         |         |\n",
        "|         |         |\n",
        "|         |         |\n",
        "|         |         |\n",
        "+ - - - - + - - - - +\n",
        "|         |         |\n",
        "|         |         |\n",
        "|         |         |\n",
        "|         |         |\n",
        "+ - - - - + - - - - +\n",
        " \n",
        "(2)\n",
        "+ - - - - + - - - - + - - - - + - - - - +\n",
        "|         |         |         |         |\n",
        "|         |         |         |         |\n",
        "|         |         |         |         |\n",
        "|         |         |         |         |\n",
        "+ - - - - + - - - - + - - - - + - - - - +\n",
        "|         |         |         |         |\n",
        "|         |         |         |         |\n",
        "|         |         |         |         |\n",
        "|         |         |         |         |\n",
        "+ - - - - + - - - - + - - - - + - - - - +\n",
        "|         |         |         |         |\n",
        "|         |         |         |         |\n",
        "|         |         |         |         |\n",
        "|         |         |         |         |\n",
        "+ - - - - + - - - - + - - - - + - - - - +\n",
        "|         |         |         |         |\n",
        "|         |         |         |         |\n",
        "|         |         |         |         |\n",
        "|         |         |         |         |\n",
        "+ - - - - + - - - - + - - - - + - - - - +\n"
       ]
      }
     ],
     "prompt_number": 37
    },
    {
     "cell_type": "markdown",
     "metadata": {},
     "source": [
      "## Problem 1.5\n",
      "\n",
      "Write a **resursive function** called `do_n` that takes a function object and a number, `n`, as arguments, and that calls the given function n times."
     ]
    },
    {
     "cell_type": "code",
     "collapsed": false,
     "input": [
      "# Problem 1.5\n",
      "\n",
      "def do_n(a,n):\n",
      "    while n > 0 : \n",
      "        a() \n",
      "        n = n - 1\n",
      "        \n",
      "def print_calvin():\n",
      "    print 'calvin'\n",
      "\n",
      "do_n(print_calvin,5)"
     ],
     "language": "python",
     "metadata": {},
     "outputs": [
      {
       "output_type": "stream",
       "stream": "stdout",
       "text": [
        "calvin\n",
        "calvin\n",
        "calvin\n",
        "calvin\n",
        "calvin\n"
       ]
      }
     ],
     "prompt_number": 6
    },
    {
     "cell_type": "markdown",
     "metadata": {},
     "source": [
      "## Problem 1.6\n",
      "\n",
      "Write some code that asks the user for the Cartesian coordinates $x$,$y$ of a point in 2D space, and calculate the print the corresponding polar coordinates, with the angle $\\theta$ given in degrees."
     ]
    },
    {
     "cell_type": "code",
     "collapsed": false,
     "input": [
      "# Problem 1.6\n",
      "import math\n",
      "def polar_coordinates(c,b):\n",
      "    l = float(((c**2) + (b**2))**(0.5))\n",
      "    a = math.atan(c/b)/math.pi*180\n",
      "    print (l,a)\n",
      "    \n",
      "x = float(raw_input(\"please key in x: \"))\n",
      "y = float(raw_input(\"please key in y: \"))\n",
      "polar_coordinates(x,y)"
     ],
     "language": "python",
     "metadata": {},
     "outputs": [
      {
       "name": "stdout",
       "output_type": "stream",
       "stream": "stdout",
       "text": [
        "please key in x: 3\n"
       ]
      },
      {
       "name": "stdout",
       "output_type": "stream",
       "stream": "stdout",
       "text": [
        "please key in y: 4\n"
       ]
      },
      {
       "output_type": "stream",
       "stream": "stdout",
       "text": [
        "(5.0, 36.86989764584402)\n"
       ]
      }
     ],
     "prompt_number": 13
    },
    {
     "cell_type": "markdown",
     "metadata": {},
     "source": [
      "## Problem 1.7\n",
      "\n",
      "Fermat\u2019s Last Theorem says that there are no positive integers $a$, $b$, and $c$ such that\n",
      "\n",
      "$$\n",
      "  a^n + b^n = c^n \n",
      "$$\n",
      "for any values of $n$ greater than 2.\n",
      "\n",
      "1. Write a function named `check_fermat` that takes four parameters\u2014`a`, `b`, `c` and `n`\u2014and that checks to see if Fermat\u2019s theorem holds.\n",
      " * If `n` is greater than 2 and it turns out to be true that $a^n + b^n = c^n$ \n",
      "the program should print, \u201cHoly smokes, Fermat was wrong!\u201d.\n",
      " * Otherwise the program should print, \u201cNo, that doesn\u2019t work.\u201d\n",
      "\n",
      "2. Write a function that prompts the user to input values for `a`, `b`, `c` and `n`, converts them to integers, and uses `check_fermat` to check whether they violate Fermat\u2019s theorem.\n",
      "\n"
     ]
    },
    {
     "cell_type": "code",
     "collapsed": false,
     "input": [
      "# Problem 1.7\n",
      "def check_fermat(a,b,c,n):\n",
      "    if n <= 2 :\n",
      "        print ' n does not bigger than 2'\n",
      "    elif n > 2 and float((a**n + b**n) == (c**n)):\n",
      "        print ' Holy smokes, Fermat was wrong! '\n",
      "    else:\n",
      "        print ' No, that doesn\u2019t work. '\n",
      "        \n",
      "i = float(raw_input(\"please key in a: \" ))\n",
      "j = float(raw_input(\"please key in b: \" ))\n",
      "k = float(raw_input(\"please key in c: \" ))\n",
      "l = float(raw_input(\"please key in n: \" ))\n",
      "\n",
      "check_fermat(i,j,k,l)\n",
      "    "
     ],
     "language": "python",
     "metadata": {},
     "outputs": [
      {
       "name": "stdout",
       "output_type": "stream",
       "stream": "stdout",
       "text": [
        "please key in a: 2\n"
       ]
      },
      {
       "name": "stdout",
       "output_type": "stream",
       "stream": "stdout",
       "text": [
        "please key in b: 2\n"
       ]
      },
      {
       "name": "stdout",
       "output_type": "stream",
       "stream": "stdout",
       "text": [
        "please key in c: 4\n"
       ]
      },
      {
       "name": "stdout",
       "output_type": "stream",
       "stream": "stdout",
       "text": [
        "please key in n: 3\n"
       ]
      },
      {
       "output_type": "stream",
       "stream": "stdout",
       "text": [
        " No, that doesn\u2019t work. \n"
       ]
      }
     ],
     "prompt_number": 32
    },
    {
     "cell_type": "markdown",
     "metadata": {},
     "source": [
      "## Problem 1.8\n",
      "\n",
      "If you are given three sticks, you may or may not be able to arrange them in a triangle. For example, if one of the sticks is 12 inches long and the other two are one inch long, it is clear that you will not be able to get the short sticks to meet in the middle. For any three lengths, there is a simple test to see if it is possible to form a triangle:\n",
      "\n",
      "> If any of the three lengths is greater than the sum of the other two, then you cannot form a triangle. Otherwise, you can. \n",
      "> (If the sum of two lengths equals the third, they form what is called a \u201cdegenerate\u201d triangle.)\n",
      "\n",
      "1. Write a function named `is_triangle` that takes three integers as arguments, and that prints either \u201cYes\u201d or \u201cNo,\u201d depending on whether you can or cannot form a triangle from sticks with the given lengths.\n",
      "\n",
      "2. Write a function that prompts the user to input three stick lengths, converts them to integers, and uses `is_triangle` to check whether sticks with the given lengths can form a triangle"
     ]
    },
    {
     "cell_type": "code",
     "collapsed": false,
     "input": [
      "# Problem 1.8\n",
      "def is_triangle(a,b,c):\n",
      "    print (a,b,c)\n",
      "    if a < b + c and b < a + c and c < b + a:\n",
      "        print 'YES'\n",
      "\n",
      "    else :\n",
      "        print 'NO'\n",
      "\n",
      "s = float(raw_input(\"please key in  length_1: \"))\n",
      "d = float(raw_input(\"please key in  length_2: \"))\n",
      "f = float(raw_input(\"please key in  length_3: \"))\n",
      "is_triangle(s,d,f)"
     ],
     "language": "python",
     "metadata": {},
     "outputs": [
      {
       "name": "stdout",
       "output_type": "stream",
       "stream": "stdout",
       "text": [
        "please key in  length_1: 2\n"
       ]
      },
      {
       "name": "stdout",
       "output_type": "stream",
       "stream": "stdout",
       "text": [
        "please key in  length_2: 3\n"
       ]
      },
      {
       "name": "stdout",
       "output_type": "stream",
       "stream": "stdout",
       "text": [
        "please key in  length_3: 5\n"
       ]
      },
      {
       "output_type": "stream",
       "stream": "stdout",
       "text": [
        "(2.0, 3.0, 5.0)\n",
        "NO\n"
       ]
      }
     ],
     "prompt_number": 1
    },
    {
     "cell_type": "markdown",
     "metadata": {},
     "source": [
      "## Problem 1.9\n",
      "\n",
      "Write a compare function that returns 1 if x > y, 0 if x == y, and -1 if x < y."
     ]
    },
    {
     "cell_type": "code",
     "collapsed": false,
     "input": [
      "# Problem 1.9\n",
      "def OlO(x,y):\n",
      "    if x > y :\n",
      "        return 1\n",
      "    if x == y :\n",
      "        return 0\n",
      "    elif x < y :\n",
      "        return -1\n",
      "\n",
      "\n",
      "print OlO(-1,0)  # \u82e5\u662f\u53ea\u6253 OlO(0,0) ,\u5c31\u7b97\u6253\u5169\u884c,\u4e5f\u53ea\u6703\u56de\u50b3\u4e00\u500b\u6578\u503c\u3002\u4f46\u7528 print\u5c31\u53ef\u4ee5\u89e3\u6c7a\u9019\u500b\u554f\u984c\u3002\n",
      "print OlO(0,0)   # \u56e0\u70ba OlO(0,0) \u5728\u4e0a\u9762\u6240\u4f7f\u7528\u7684 return \u7d50\u675f\u5f8c\u5c31\u76f4\u63a5\u7b49\u65bc\u4e00\u500b\u6578\u503c\uff0c\u82e5\u4e0d\u4f7f\u7528 print\u4fbf\u6703\u6210\u70ba\u4e00\u500b\u65b9\u7a0b\u5f0f\u7684\u904b\u7b97\uff0c\u7528 print\u5247\u53ef\u4ee5\u5370\u51fa\u6578\u503c\u3002\n",
      "print OlO(1,0)"
     ],
     "language": "python",
     "metadata": {},
     "outputs": [
      {
       "ename": "SyntaxError",
       "evalue": "'return' outside function (<ipython-input-24-7ced72844e33>, line 11)",
       "output_type": "pyerr",
       "traceback": [
        "\u001b[1;36m  File \u001b[1;32m\"<ipython-input-24-7ced72844e33>\"\u001b[1;36m, line \u001b[1;32m11\u001b[0m\n\u001b[1;33m    return OlO(-1,0)  # \u82e5\u662f\u53ea\u6253 OlO(0,0) ,\u5c31\u7b97\u6253\u5169\u884c,\u4e5f\u53ea\u6703\u56de\u50b3\u4e00\u500b\u6578\u503c\u3002\u4f46\u7528 print\u5c31\u53ef\u4ee5\u89e3\u6c7a\u9019\u500b\u554f\u984c\u3002\u001b[0m\n\u001b[1;31mSyntaxError\u001b[0m\u001b[1;31m:\u001b[0m 'return' outside function\n"
       ]
      }
     ],
     "prompt_number": 24
    },
    {
     "cell_type": "markdown",
     "metadata": {},
     "source": [
      "## Problem 1.10\n",
      "\n",
      "The Ackermann function, $A(m, n)$, is defined:\n",
      "\n",
      "$$\n",
      "\\begin{eqnarray*}\n",
      "A(m, n) = \\begin{cases}\n",
      "              n+1 & \\mbox{if } m = 0 \\\\\n",
      "        A(m-1, 1) & \\mbox{if } m > 0 \\mbox{ and } n = 0 \\\\\n",
      "A(m-1, A(m, n-1)) & \\mbox{if } m > 0 \\mbox{ and } n > 0.\n",
      "\\end{cases}\n",
      "\\end{eqnarray*}\n",
      "$$\n",
      "\n",
      "See http://en.wikipedia.org/wiki/Ackermann_function.\n",
      "* Write a function named ack that evaluates Ackermann\u2019s function. \n",
      "* Use your function to evaluate $ack(3, 4)$, which should be 125.\n",
      "* What happens for larger values of m and n?"
     ]
    },
    {
     "cell_type": "code",
     "collapsed": false,
     "input": [
      "# Problem 1.10\n",
      "# import math\n",
      "def ack(m,n):\n",
      "    if m == 0 :\n",
      "        return n+1\n",
      "    \n",
      "    if m>0 and n==0 :\n",
      "        return ack(m-1,1)\n",
      "\n",
      "    elif m>0 and n>0 :     #\u53ef\u6253\u53ef\u4e0d\u6253\n",
      "        return ack(m-1, ack(m,n-1))\n",
      "\n",
      "ack(3,4)"
     ],
     "language": "python",
     "metadata": {},
     "outputs": [
      {
       "metadata": {},
       "output_type": "pyout",
       "prompt_number": 27,
       "text": [
        "125"
       ]
      }
     ],
     "prompt_number": 27
    },
    {
     "cell_type": "markdown",
     "metadata": {},
     "source": [
      "## Problem 1.11\n",
      "\n",
      "A number, a, is a power of b if it is divisible by b and a/b is a power of b. Write a function called `is_power` that takes parameters a and b and returns True if a is a power of b. Note: you will have to think about the base case."
     ]
    },
    {
     "cell_type": "code",
     "collapsed": false,
     "input": [
      "# Problem 1.11\n",
      "def is_power(a,b):\n",
      "    if a == 1  :\n",
      "        return True \n",
      "    elif b == 1 or b == 0 or a == 0 or a % b != 0 :\n",
      "        return False\n",
      "    elif a / b != 1 :\n",
      "        return is_power((a/b),b)\n",
      "    else :\n",
      "        return True\n",
      "        \n",
      "is_power(1,1)"
     ],
     "language": "python",
     "metadata": {},
     "outputs": [
      {
       "metadata": {},
       "output_type": "pyout",
       "prompt_number": 19,
       "text": [
        "True"
       ]
      }
     ],
     "prompt_number": 19
    },
    {
     "cell_type": "markdown",
     "metadata": {},
     "source": [
      "## Problem 1.12\n",
      "\n",
      "The greatest common divisor (GCD) of a and b is the largest number that divides both of them with no remainder.\n",
      "\n",
      "One way to find the GCD of two numbers is based on the observation that if r is the remainder when a is divided by b, then gcd(a, b) = gcd(b, r). As a base case, we can use gcd(a, 0) = a.\n",
      "\n",
      "Write a function called `gcd` that takes parameters a and b and returns their greatest common divisor."
     ]
    },
    {
     "cell_type": "code",
     "collapsed": false,
     "input": [
      "# Problem 1.12\n",
      "def gcd(a,b) : \n",
      "    if a > b :\n",
      "        x = a - b\n",
      "        y = b\n",
      "        return gcd(x,y)\n",
      "    elif a < b :\n",
      "        x = b - a\n",
      "        y = a\n",
      "        return gcd(x,y)\n",
      "    else : \n",
      "        return a\n",
      "m = int(raw_input(\"please key in 'a' : \"))\n",
      "n = int(raw_input(\"please key in 'b' : \"))\n",
      "gcd(m,n)"
     ],
     "language": "python",
     "metadata": {},
     "outputs": [
      {
       "name": "stdout",
       "output_type": "stream",
       "stream": "stdout",
       "text": [
        "please key in 'a' : 800\n"
       ]
      },
      {
       "name": "stdout",
       "output_type": "stream",
       "stream": "stdout",
       "text": [
        "please key in 'b' : 600\n"
       ]
      },
      {
       "metadata": {},
       "output_type": "pyout",
       "prompt_number": 26,
       "text": [
        "200"
       ]
      }
     ],
     "prompt_number": 26
    },
    {
     "cell_type": "code",
     "collapsed": false,
     "input": [],
     "language": "python",
     "metadata": {},
     "outputs": []
    }
   ],
   "metadata": {}
  }
 ]
}