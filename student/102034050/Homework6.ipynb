{
 "metadata": {
  "name": "",
  "signature": "sha256:2d64167ca451249d35e5f03e8734ec84b01a66b8ec6f1c6abaaf10f830b20772"
 },
 "nbformat": 3,
 "nbformat_minor": 0,
 "worksheets": [
  {
   "cells": [
    {
     "cell_type": "markdown",
     "metadata": {},
     "source": [
      "# Homework 6"
     ]
    },
    {
     "cell_type": "markdown",
     "metadata": {},
     "source": [
      "## Problem 1\n",
      "\n",
      "Use **ivisual** module to plot the projectile motion with following equations of motion:\n",
      "\n",
      "$$\n",
      "\\begin{eqnarray*}\n",
      "  m\\ddot{x} &=& 0, \\\\\n",
      "  m\\ddot{y} &=& -mg, \\\\\n",
      "  m\\ddot{z} &=& 0,\n",
      "\\end{eqnarray*}\n",
      "$$\n",
      "and initial conditions\n",
      "\n",
      "$$\n",
      "  \\vec{r}(0) = (0, 0, 0), \\\\\n",
      "  \\vec{v}(0) = (v_{x0}, v_{y0}, 0),\n",
      "$$\n",
      "You can assign $v_{x0}$ and $v_{y0}$ in the code or ask user to input it.\n",
      "\n",
      "You should\n",
      "* Use a box to represent the ground.\n",
      "* Use three arrows to represent the three axes.\n",
      "* Use a sphere to represent the ball of the projectile motion.\n",
      "* Leave a trail.\n",
      "* Stop the simulation when the ball hit the ground.\n",
      "\n",
      "You should use to ways to calculate the trajectory of the motion.\n",
      "1. Use exact solution: $x(t)=x(0)+v_x t$, etc.\n",
      "2. Use numerical solution:\n",
      " * $v(t+dt) = v(t) + a * dt$.\n",
      " * $x(t+dt) = x(t) + v(t) * dt$.\n",
      "\n",
      "You should use a small enough $dt$ to ensure the numerical solution is accurate enough.\n"
     ]
    },
    {
     "cell_type": "code",
     "collapsed": false,
     "input": [
      "# Problem 1\n",
      "# Problem 1\n",
      "from ivisual import *\n",
      "\n",
      "scene = canvas()\n",
      "\n",
      "scene.width = 800\n",
      "scene.height = 600\n",
      "\n",
      "scene.autoscale = 0\n",
      "scene.range = (10,10,20)\n",
      "scene.center = (10,0,0)\n",
      "\n",
      "ball = sphere(pos=(0,0,0), radius=0.5, color=color.cyan)\n",
      "ground = box(pos = (10, -0.1, 0), size = (30, 0.2, 20), color = color.green)\n",
      "x_axis = arrow(pos = (0, 0, 0), axis = (10, 0, 0), shaftwidth=0.2)\n",
      "y_axis = arrow(pos = (0, 0, 0), axis = (0, 10, 0), shaftwidth=0.2)\n",
      "z_axis = arrow(pos = (0, 0, 0), axis = (0, 0, 10), shaftwidth=0.2)\n",
      "ball.velocity = vector(9,10,0)\n",
      "vscale = 0.2\n",
      "varr = arrow(pos=ball.pos, axis=vscale*ball.velocity, color=color.yellow)\n",
      "\n",
      "ball.trail = curve(color=ball.color)\n",
      "deltat = 0.01\n",
      "g = -9.8\n",
      "ball.velocity.y += g*deltat\n",
      "t = 0\n",
      "\n",
      "while t < 10:\n",
      "    rate(50)\n",
      "    if ball.pos.y < ground.pos.y:\n",
      "        break\n",
      "        \n",
      "    ball.pos = ball.pos + ball.velocity*deltat\n",
      "    ball.trail.append(pos=ball.pos)\n",
      "    ball.velocity.y += g*deltat\n",
      "    varr.pos = ball.pos\n",
      "    varr.axis = vscale*ball.velocity\n",
      "    t = t + deltat"
     ],
     "language": "python",
     "metadata": {},
     "outputs": [
      {
       "html": [
        "<div id=\"scene4\"><div id=\"glowscript\" class=\"glowscript\"></div></div>"
       ],
       "metadata": {},
       "output_type": "display_data",
       "text": [
        "<IPython.core.display.HTML at 0x28cfcf0>"
       ]
      },
      {
       "javascript": [
        "window.__context = { glowscript_container: $(\"#glowscript\").removeAttr(\"id\")}"
       ],
       "metadata": {},
       "output_type": "display_data",
       "text": [
        "<IPython.core.display.Javascript at 0x193eb10>"
       ]
      }
     ],
     "prompt_number": 5
    },
    {
     "cell_type": "markdown",
     "metadata": {},
     "source": [
      "## Problem 2\n",
      "\n",
      "Now introduce the air resistence so the equations of motion become:\n",
      "\n",
      "$$\n",
      "\\begin{eqnarray*}\n",
      "  m\\ddot{x} &=& -km\\dot{x}, \\\\\n",
      "  m\\ddot{y} &=& -km\\dot{y}-mg, \\\\\n",
      "  m\\ddot{z} &=& 0,\n",
      "\\end{eqnarray*}\n",
      "$$\n",
      "and initial conditions\n",
      "\n",
      "$$\n",
      "  \\vec{r}(0) = (0, 0, 0), \\\\\n",
      "  \\vec{v}(0) = (v_{x0}, v_{y0}, 0),\n",
      "$$\n",
      "You can assign $v_{x0}$ and $v_{y0}$ in the code or ask user to input it.\n",
      "\n",
      "You should\n",
      "* Use a box to represent the ground.\n",
      "* Use three arrows to represent the three axes.\n",
      "* Use a sphere to represent the ball of the projectile motion.\n",
      "* Leave a trail.\n",
      "* Stop the simulation when the ball hit the ground.\n",
      "\n",
      "\n",
      "You should use to ways to calculate the trajectory of the motion.\n",
      "1. Use exact solution: (Check for example Marion's book).\n",
      "2. Use numerical solution:\n",
      " * $v(t+dt) = v(t) + a * dt$.\n",
      " * $x(t+dt) = x(t) + v(t) * dt$.\n",
      "\n",
      "You should use a small enough $dt$ to ensure the numerical solution is accurate enough.\n"
     ]
    },
    {
     "cell_type": "code",
     "collapsed": false,
     "input": [
      "# Problem 2\n",
      "# Problem 2\n",
      "from ivisual import *\n",
      "\n",
      "scene = canvas()\n",
      "\n",
      "scene.width = 800\n",
      "scene.height = 600\n",
      "\n",
      "scene.autoscale = 0\n",
      "scene.range = (10,10,20)\n",
      "scene.center = (10,0,0)\n",
      "\n",
      "ball = sphere(pos=(0,0,0), radius=0.5, color=color.cyan)\n",
      "ground = box(pos = (10, -0.1, 0), size = (30, 0.2, 20), color = color.green)\n",
      "x_axis = arrow(pos = (0, 0, 0), axis = (8, 0, 0), shaftwidth=0.2)\n",
      "y_axis = arrow(pos = (0, 0, 0), axis = (0, 8, 0), shaftwidth=0.2)\n",
      "z_axis = arrow(pos = (0, 0, 0), axis = (0, 0, 8), shaftwidth=0.2)\n",
      "\n",
      "ball.velocity = vector(50,40,0)\n",
      "vscale = 0.1\n",
      "varr = arrow(pos=ball.pos, axis=vscale*ball.velocity, color=color.yellow)\n",
      "\n",
      "ball.trail = curve(color=ball.color)\n",
      "deltat = 0.01\n",
      "k = 0.05\n",
      "g = -9.8\n",
      "t = 0\n",
      "\n",
      "while t < 10:\n",
      "    rate(50)\n",
      "    if ball.pos.y < ground.pos.y:\n",
      "        break\n",
      "        \n",
      "    ball.pos = ball.pos + ball.velocity*deltat\n",
      "    ball.trail.append(pos=ball.pos)\n",
      "    ball.velocity.x += -k*ball.velocity.x\n",
      "    ball.velocity.y += g*deltat-k*ball.velocity.y\n",
      "\n",
      "    varr.pos = ball.pos\n",
      "    varr.axis = vscale*ball.velocity\n",
      "    \n",
      "\n",
      "    t = t + deltat"
     ],
     "language": "python",
     "metadata": {},
     "outputs": [
      {
       "html": [
        "<div id=\"scene5\"><div id=\"glowscript\" class=\"glowscript\"></div></div>"
       ],
       "metadata": {},
       "output_type": "display_data",
       "text": [
        "<IPython.core.display.HTML at 0x5c73e50>"
       ]
      },
      {
       "javascript": [
        "window.__context = { glowscript_container: $(\"#glowscript\").removeAttr(\"id\")}"
       ],
       "metadata": {},
       "output_type": "display_data",
       "text": [
        "<IPython.core.display.Javascript at 0x193eeb0>"
       ]
      }
     ],
     "prompt_number": 6
    },
    {
     "cell_type": "markdown",
     "metadata": {},
     "source": [
      "## Problem 3\n",
      "\n",
      "Use **ivisual** module to plot the trajectory of a coupled spring-mass system that has two masses, three springs, two walls.\n",
      "\n",
      "Something like Wall-spring1-mass1-spring2-mass2-spring3-Wall.\n",
      "\n",
      "You should\n",
      "* Use a box to represent the ground.\n",
      "* Use two boxes to represent the walls.\n",
      "* Use two **cubic** boxes to represent the two masses.\n",
      "* Use helix to represent the two srpings.\n"
     ]
    },
    {
     "cell_type": "code",
     "collapsed": false,
     "input": [
      "from ivisual import *"
     ],
     "language": "python",
     "metadata": {},
     "outputs": []
    },
    {
     "cell_type": "code",
     "collapsed": false,
     "input": [
      "# Problem 3\n",
      "from ivisual import *\n",
      "from math import *\n",
      "\n",
      "scene = canvas(title = \"Spring Mass\")\n",
      "\n",
      "# scene.autoscale = 0\n",
      "scene.center = (0.5,0.2,0)\n",
      "\n",
      "relaxedlength = vector(0.6,0,0) # length of spring when it isn't stretched or compressed .60\n",
      "spring = helix(pos=(-.75,0,0),axis=relaxedlength, radius=.1,coils=8,thickness=.01,color=color.white)\n",
      "spring2 = helix(pos=(.15,0,0),axis=relaxedlength, radius=.1,coils=8,thickness=.01,color=color.white)\n",
      "spring3 = helix(pos=(1.05,0,0),axis=relaxedlength, radius=.1,coils=8,thickness=.01,color=color.white)\n",
      "weight = box(pos=(0,0,0),size=(.3,.3,.3),color=color.white)\n",
      "weight2 = box(pos=(0.9,0,0),size=(.3,.3,.3),color=color.white)\n",
      "frictionlessSurface = box(size=(3,.02,.5),pos=(0.5,-.16,0))\n",
      "wall1 = box(size=(.04,.5,.3),pos=(-.77,.1,0),color=color.white)\n",
      "wall2 = box(size=(.04,.5,.3),pos=(1.67,.1,0),color=color.white)\n",
      "\n",
      "# \n",
      "g=9.8 # m/s**2\n",
      "spring.constant = 2 # k\n",
      "spring2.constant = 2 # k\n",
      "spring3.constant = 2 # k\n",
      "weight.mass = 10 # kg\n",
      "weight2.mass = 10 # kg\n",
      "mu = 0.00 # friction\n",
      "\n",
      "# initial position\n",
      "xpos=0.35 #0.35\n",
      "weight.pos=vector(xpos,0,0)\n",
      "spring.displacement=weight.pos\n",
      "spring.axis=relaxedlength+spring.displacement\n",
      "spring2.displacement=spring.displacement\n",
      "spring2.pos=spring2.pos+spring2.displacement\n",
      "spring2.axis=relaxedlength-spring2.displacement\n",
      "spring3.displacement=vector(0,0,0)\n",
      "\n",
      "weight.velocity = vector(0,0,0)\n",
      "weight.acceleration = vector(0,0,0)\n",
      "weight.force = vector(0,0,0)\n",
      "\n",
      "weight2.velocity = vector(0,0,0)\n",
      "weight2.acceleration = vector(0,0,0)\n",
      "weight2.force = vector(0,0,0)\n",
      "\n",
      "\n",
      "def ani():\n",
      "    dt = .01    # seconds\n",
      "    seconds = 0 # total time\n",
      "    steps=5000 #integration steps: final time= dt*steps\n",
      "\n",
      "    while seconds < dt*steps:\n",
      "        rate(300)\n",
      "        seconds = seconds + dt\n",
      "\n",
      "        F_fr=vector(0,0,0)\n",
      "        if weight.velocity.x>0:\n",
      "            F_fr=vector(-mu*weight.mass*g,0,0)\n",
      "        elif weight.velocity.x<0:\n",
      "            F_fr=vector(mu*weight.mass*g,0,0)\n",
      "            \n",
      "        F_fr2=vector(0,0,0)\n",
      "        if weight2.velocity.x>0:\n",
      "            F_fr2=vector(-mu*weight.mass*g,0,0)\n",
      "        elif weight2.velocity.x<0:\n",
      "            F_fr2=vector(mu*weight.mass*g,0,0)\n",
      "            \n",
      "            \n",
      "        # Calculate the spring force using Hooke's Law\n",
      "        SpringForce = - spring.constant * spring.displacement + spring2.constant * spring2.displacement + F_fr \n",
      "        SpringForce2 = - spring2.constant * spring2.displacement + spring3.constant * spring3.displacement + F_fr2\n",
      "\n",
      "        # The spring force acts on the weight\n",
      "        weight.force = SpringForce\n",
      "        weight2.force = SpringForce2\n",
      "\n",
      "        # move the weight from weight.pos using \n",
      "        # the momentum principle\n",
      "        #weight.acceleration = weight.force/weight.mass\n",
      "        weight.velocity += dt*weight.force/weight.mass # F*dt=dp\n",
      "        weight.pos += weight.velocity*dt #+O(dt^2) -> + .5 * weight.acceleration * dt**2\n",
      "        weight2.velocity += dt*weight2.force/weight2.mass\n",
      "        weight2.pos += weight2.velocity*dt\n",
      "\n",
      "        # calculate the new spring position and displacement\n",
      "        spring2.pos = weight.pos + vector(weight.size[0]/2.,0,0)\n",
      "        spring3.pos = weight2.pos + vector(weight2.size[0]/2.,0,0)\n",
      "        spring.displacement = weight.pos\n",
      "        spring2.displacement = ( weight2.pos - weight.pos - vector(weight.size[0],0,0) ) - relaxedlength\n",
      "        spring3.displacement = \\\n",
      "        ( wall2.pos - weight2.pos - vector(weight2.size[0]/2.+wall2.size[0]/2.,wall2.pos[1],wall2.pos[2]) ) - relaxedlength\n",
      "\n",
      "        # update the length of the spring\n",
      "        spring.axis = relaxedlength + spring.displacement\n",
      "        spring2.axis = relaxedlength + spring2.displacement\n",
      "        spring3.axis = relaxedlength + spring3.displacement"
     ],
     "language": "python",
     "metadata": {},
     "outputs": [
      {
       "html": [
        "<div id=\"scene7\"><div id=\"glowscript\" class=\"glowscript\"></div></div>"
       ],
       "metadata": {},
       "output_type": "display_data",
       "text": [
        "<IPython.core.display.HTML at 0x5e047b0>"
       ]
      },
      {
       "javascript": [
        "window.__context = { glowscript_container: $(\"#glowscript\").removeAttr(\"id\")}"
       ],
       "metadata": {},
       "output_type": "display_data",
       "text": [
        "<IPython.core.display.Javascript at 0x5e047d0>"
       ]
      }
     ],
     "prompt_number": 8
    },
    {
     "cell_type": "markdown",
     "metadata": {},
     "source": [
      "# Problem 4\n",
      "\n",
      "Use **ivisual** module to plot the trajectories of 20 particles in a rectangle box.\n",
      "\n",
      "* The rectangle box has the dimension $L_x$, $L_y$, $L_z$.\n",
      "* Use boxes to represent the walls. Keep one wall **invisible**.\n",
      "* The 20 particles should have **random** initial velocity.\n",
      "* The 20 particles should leave a trail.\n",
      "* Make each particle has random RGB color."
     ]
    },
    {
     "cell_type": "code",
     "collapsed": false,
     "input": [
      "# Problem 4\n",
      "# Problem 4\n",
      "from ivisual import *\n",
      "\n",
      "import random\n",
      "scene = canvas()\n",
      "\n",
      "scene.width = 800\n",
      "scene.height = 600\n",
      "\n",
      "scene.autoscale = 0\n",
      "scene.range = (10,10,10)\n",
      "scene.center = (0,0,0)\n",
      "\n",
      "wallR = box(pos=(+6,0,0), size=(0.2,6,12), color=color.green)\n",
      "wallL = box(pos=(-6,0,0), size=(0.2,6,12), color=color.green)\n",
      "wallU = box(pos=(0,+3,0), size=(12,0.2,12), color=color.blue)\n",
      "wallD = box(pos=(0,-3,0), size=(12,0.2,12), color=color.blue)\n",
      "wallB = box(pos=(0,0,-6), size=(12,6,0.2), color=color.red)\n",
      "\n",
      "#randint, random integer a<=N<=b\n",
      "ball=[]\n",
      "\n",
      "def random_element():\n",
      "    element = random.uniform(-6,6)\n",
      "    return element\n",
      "\n",
      "for a in range(20):\n",
      "    position = vector(random_element(),random.uniform(-3,3),random_element())\n",
      "    ball.append(sphere(pos=position, radius=0.3, color= (random.uniform(0,1), random.uniform(0,1), random.uniform(0,1)),make_trail=True, trail_type=\"points\",interval=1, retain=60))\n",
      "    ball[a].velocity = vector(random_element(),random_element(),random_element())\n",
      "    ball[a].trail_color=ball[a].color\n",
      "deltat = 0.005\n",
      "t=0\n",
      "\n",
      "while t < 20:\n",
      "    rate(50)\n",
      "    for a in range(20):\n",
      "        if ball[a].pos.x > wallR.pos.x:\n",
      "            ball[a].velocity.x = -ball[a].velocity.x\n",
      "        if ball[a].pos.x < wallL.pos.x:\n",
      "            ball[a].velocity.x = -ball[a].velocity.x\n",
      "        if ball[a].pos.y > wallU.pos.y:\n",
      "            ball[a].velocity.y = -ball[a].velocity.y\n",
      "        if ball[a].pos.y < wallD.pos.y:\n",
      "            ball[a].velocity.y = -ball[a].velocity.y\n",
      "        if ball[a].pos.z < wallB.pos.z:\n",
      "            ball[a].velocity.z = -ball[a].velocity.z\n",
      "        if ball[a].pos.z > +6:\n",
      "            ball[a].velocity.z = -ball[a].velocity.z\n",
      "    \n",
      "        ball[a].pos = ball[a].pos + ball[a].velocity*deltat  \n",
      "    \n",
      "    t = t + deltat"
     ],
     "language": "python",
     "metadata": {},
     "outputs": [
      {
       "html": [
        "<div id=\"scene3\"><div id=\"glowscript\" class=\"glowscript\"></div></div>"
       ],
       "metadata": {},
       "output_type": "display_data",
       "text": [
        "<IPython.core.display.HTML at 0x5c78150>"
       ]
      },
      {
       "javascript": [
        "window.__context = { glowscript_container: $(\"#glowscript\").removeAttr(\"id\")}"
       ],
       "metadata": {},
       "output_type": "display_data",
       "text": [
        "<IPython.core.display.Javascript at 0x193e3d0>"
       ]
      }
     ],
     "prompt_number": 4
    },
    {
     "cell_type": "code",
     "collapsed": false,
     "input": [],
     "language": "python",
     "metadata": {},
     "outputs": []
    }
   ],
   "metadata": {}
  }
 ]
}