{
 "metadata": {
  "name": "",
  "signature": "sha256:bdacc406bfd2f091b5a98ed8435097df0d092ce81edd3caeacb0c0457725228e"
 },
 "nbformat": 3,
 "nbformat_minor": 0,
 "worksheets": [
  {
   "cells": [
    {
     "cell_type": "markdown",
     "metadata": {},
     "source": [
      "# Homework 4"
     ]
    },
    {
     "cell_type": "markdown",
     "metadata": {},
     "source": [
      "## Problem 1 \n",
      "\n",
      "1. Implement the `Point` class.\n",
      "2. Implement the `Rectangle` class.\n",
      "3. Write a function called `distance_between_points` that takes two Points as arguments and returns the distance between them.\n",
      "4. Write a function named `move_rectangle` that takes a Rectangle and two numbers named `dx` and `dy`. It should change the location of the rectangle by adding `dx` to the `x` coordinate of corner and adding `dy` to the `y` coordinate of corner.\n",
      "5. Write a function named `move_rectangle_new` that is similar to the `move_rectangle` but it creates and returns a new Rectangle instead of modifying the old one.\n",
      "6. Write some codes to demonstrate the usage of functions above."
     ]
    },
    {
     "cell_type": "code",
     "collapsed": false,
     "input": [
      "#1[\u9019\u662f\u5c0f\u984c\u7684\u6a19\u865f]\n",
      "class Point(object):\n",
      "    \"\"\"dfsdga\"\"\"\n",
      "#\u4e0d\u53ef\u4ee5\u53ea\u6253class\u90a3\u884c,\u88e1\u9762\u8981\u6253\u6771\u897f"
     ],
     "language": "python",
     "metadata": {},
     "outputs": [],
     "prompt_number": 69
    },
    {
     "cell_type": "code",
     "collapsed": false,
     "input": [
      "p = Point()\n",
      "p.x1=0.0\n",
      "p.x2=3.0\n",
      "p.y1=0.0\n",
      "p.y2=4.0"
     ],
     "language": "python",
     "metadata": {},
     "outputs": [],
     "prompt_number": 70
    },
    {
     "cell_type": "code",
     "collapsed": false,
     "input": [
      "#3\n",
      "import math\n",
      "def distance_between_points(po):\n",
      "    distance = math.sqrt((po.x2-po.x1)**2 +(po.y2-po.y1)**2)\n",
      "    print distance"
     ],
     "language": "python",
     "metadata": {},
     "outputs": [],
     "prompt_number": 71
    },
    {
     "cell_type": "code",
     "collapsed": false,
     "input": [
      "#6 for 3\n",
      "distance_between_points(p)"
     ],
     "language": "python",
     "metadata": {},
     "outputs": [
      {
       "output_type": "stream",
       "stream": "stdout",
       "text": [
        "5.0\n"
       ]
      }
     ],
     "prompt_number": 72
    },
    {
     "cell_type": "code",
     "collapsed": false,
     "input": [
      "#2\n",
      "class Rectangle(object):\n",
      "    \"\"\"Represents a rectangle. \n",
      "\n",
      "    attributes: width, height, corner.\n",
      "    \"\"\""
     ],
     "language": "python",
     "metadata": {},
     "outputs": [],
     "prompt_number": 73
    },
    {
     "cell_type": "code",
     "collapsed": false,
     "input": [
      "box = Rectangle()\n",
      "box.width = 100.0\n",
      "box.height = 200.0\n",
      "box.corner = Point()\n",
      "box.corner.x = 0.0\n",
      "box.corner.y = 0.0"
     ],
     "language": "python",
     "metadata": {},
     "outputs": [],
     "prompt_number": 74
    },
    {
     "cell_type": "code",
     "collapsed": false,
     "input": [
      "#4\n",
      "def move_rectangle(rect,dx,dy):\n",
      "    rect.corner.x +=dx\n",
      "    rect.corner.y +=dy  "
     ],
     "language": "python",
     "metadata": {},
     "outputs": [],
     "prompt_number": 75
    },
    {
     "cell_type": "code",
     "collapsed": false,
     "input": [
      "#6 for 4\n",
      "move_rectangle(box,2,2)\n",
      "print box.corner.x\n",
      "print box.corner.y"
     ],
     "language": "python",
     "metadata": {},
     "outputs": [
      {
       "output_type": "stream",
       "stream": "stdout",
       "text": [
        "2.0\n",
        "2.0\n"
       ]
      }
     ],
     "prompt_number": 76
    },
    {
     "cell_type": "code",
     "collapsed": false,
     "input": [
      "#5\n",
      "import copy\n",
      "def move_rectangle_new(rect,dx,dy):\n",
      "    rect.corner.x +=dx\n",
      "    rect.corner.y +=dy \n",
      "    rect2= copy.deepcopy(rect)\n",
      "    return rect2"
     ],
     "language": "python",
     "metadata": {},
     "outputs": [],
     "prompt_number": 76
    },
    {
     "cell_type": "code",
     "collapsed": false,
     "input": [
      "#6 for 5\n",
      "print move_rectangle_new(box,2,2) is box"
     ],
     "language": "python",
     "metadata": {},
     "outputs": [
      {
       "output_type": "stream",
       "stream": "stdout",
       "text": [
        "False\n"
       ]
      }
     ],
     "prompt_number": 78
    },
    {
     "cell_type": "markdown",
     "metadata": {},
     "source": [
      "## Problem 2\n",
      "\n",
      "1. Implement the `Time` class.\n",
      "2. Write a function called `print_time` that takes a Time object and prints it in the form `hour:minute:second`. \n",
      "  **Hint**: the format sequence '%.2d' prints an integer using at least two digits, including a leading zero if necessary.\n",
      "3. Write a boolean function called `is_after` that takes two Time objects, `t1` and `t2`, and returns `True` if `t1` follows `t2` chronologically and `False` otherwise. **Challenge**: don\u2019t use an `if` statement.\n",
      "4. Write a function called `increment_modifier` that adds a given number of seconds to a Time object. It should modify the original time object. It should not contain any loops.\n",
      "5. Write a function called `increment_pure` that adds a given number of seconds to a Time object. It should create and return a new Time object.\n",
      "6. Write a function called `mul_time` that takes a Time object and a number and returns a new Time object that contains the product of the original Time and the number.\n",
      "7. Use `mul_time` to write a function that takes a Time object that represents the finishing time in a race, and a number that represents the distance, and returns a Time object that represents the average pace (time per mile).\n",
      "8. Write some codes to demonstrate the usage of functions above."
     ]
    },
    {
     "cell_type": "code",
     "collapsed": false,
     "input": [
      "# Problem 2\n",
      "# 1\n",
      "class Time(object):\n",
      "    \"\"\"dfsdga\"\"\"\n",
      "def print_time(time):\n",
      "    print '%.2d:%.2d:%.2d' % (time.hour, time.minute, time.second)"
     ],
     "language": "python",
     "metadata": {},
     "outputs": [],
     "prompt_number": 50
    },
    {
     "cell_type": "code",
     "collapsed": false,
     "input": [
      "#2\n",
      "start = Time()\n",
      "start.hour = 5\n",
      "start.minute = 5\n",
      "start.second = 00\n",
      "print_time(start)\n",
      "#\u73fe\u5728\u6642\u9593XD"
     ],
     "language": "python",
     "metadata": {},
     "outputs": [
      {
       "output_type": "stream",
       "stream": "stdout",
       "text": [
        "05:05:00\n"
       ]
      }
     ],
     "prompt_number": 51
    },
    {
     "cell_type": "code",
     "collapsed": false,
     "input": [
      "start2 = Time()\n",
      "start2.hour = 6\n",
      "start2.minute = 1\n",
      "start2.second = 00"
     ],
     "language": "python",
     "metadata": {},
     "outputs": [],
     "prompt_number": 63
    },
    {
     "cell_type": "code",
     "collapsed": false,
     "input": [
      "#3\n",
      "def is_after(t1,t2):\n",
      "    a=(t1.hour>t2.hour)+(t1.hour==t2.hour)*(t1.minute>t2.minute)+(t1.hour==t2.hour)*(t1.minute==t2.minute)*(t1.second>t2.second)\n",
      "    print a==1\n",
      "#8 for 3\n",
      "is_after(start,start2)"
     ],
     "language": "python",
     "metadata": {},
     "outputs": [
      {
       "output_type": "stream",
       "stream": "stdout",
       "text": [
        "False\n"
       ]
      }
     ],
     "prompt_number": 53
    },
    {
     "cell_type": "code",
     "collapsed": false,
     "input": [
      "def print_time(time):\n",
      "    print '%.2d:%.2d:%.2d' % (time.hour, time.minute, time.second)    \n",
      "#4\n",
      "def increment_modifier(self, seconds):\n",
      "    self.second+=seconds\n",
      "    self.minute+=(self.second-(self.second%60))/60\n",
      "    self.hour+=(self.minute-(self.minute%60))/60\n",
      "    self.minute=self.minute%60\n",
      "    self.second=self.second%60\n",
      "    return self\n",
      "\n",
      "#8 for 4\n",
      "a=increment_modifier(start, 3601)\n",
      "print_time(a)"
     ],
     "language": "python",
     "metadata": {},
     "outputs": [
      {
       "output_type": "stream",
       "stream": "stdout",
       "text": [
        "06:05:01\n"
       ]
      }
     ],
     "prompt_number": 54
    },
    {
     "cell_type": "code",
     "collapsed": false,
     "input": [
      "#5\n",
      "import copy\n",
      "def increment_pure(self, seconds):\n",
      "    self2= copy.deepcopy(increment_modifier(self, seconds))\n",
      "    return self2\n",
      "\n",
      "#8 for 5\n",
      "a=increment_pure(start, 3601)\n",
      "print_time(a)"
     ],
     "language": "python",
     "metadata": {},
     "outputs": [
      {
       "output_type": "stream",
       "stream": "stdout",
       "text": [
        "07:05:02\n"
       ]
      }
     ],
     "prompt_number": 55
    },
    {
     "cell_type": "code",
     "collapsed": false,
     "input": [
      "#6\n",
      "def mul_time(self,num):\n",
      "    a=self.hour*60*60+self.minute*60+self.second\n",
      "    b=a*num\n",
      "    self.second=b\n",
      "    self.minute=(self.second-(self.second%60))/60\n",
      "    self.hour=(self.minute-(self.minute%60))/60\n",
      "    self.minute=self.minute%60\n",
      "    self.second=self.second%60\n",
      "    self2= copy.deepcopy(self)\n",
      "    return self2\n",
      "\n",
      "#8 for 6\n",
      "a=mul_time(start, 2)\n",
      "print_time(a)"
     ],
     "language": "python",
     "metadata": {},
     "outputs": [
      {
       "output_type": "stream",
       "stream": "stdout",
       "text": [
        "14:10:04\n"
       ]
      }
     ],
     "prompt_number": 56
    },
    {
     "cell_type": "code",
     "collapsed": false,
     "input": [
      "#7\n",
      "def pace(time,distance):\n",
      "    a=float(distance)/float((time.hour*60*60+time.minute*60+time.second))\n",
      "    return a\n",
      "\n",
      "#8 for 7\n",
      "pace(start2, 100)"
     ],
     "language": "python",
     "metadata": {},
     "outputs": [
      {
       "metadata": {},
       "output_type": "pyout",
       "prompt_number": 67,
       "text": [
        "0.0046168051708217915"
       ]
      }
     ],
     "prompt_number": 67
    },
    {
     "cell_type": "markdown",
     "metadata": {},
     "source": [
      "## Problem 3\n",
      "\n",
      "1. Write a class definition for a Date object that has attributes `day`, `month` and `year`.\n",
      "2. Write a function called `increment_date` that takes a Date object, `date` and an integer, `n`, and returns a new Date object that represents the day `n` days after date.\n",
      "3. **Challenge**: does your function deal with leap years correctly? See http://en.wikipedia.org/wiki/Leap_year."
     ]
    },
    {
     "cell_type": "code",
     "collapsed": false,
     "input": [
      "# Problem 3\n",
      "#1\n",
      "class Date(object):\n",
      "    \"\"\"dfsdga\"\"\"\n",
      "d=Date()\n",
      "d.year=2015\n",
      "d.month=5\n",
      "d.day=19"
     ],
     "language": "python",
     "metadata": {},
     "outputs": [],
     "prompt_number": 68
    },
    {
     "cell_type": "code",
     "collapsed": false,
     "input": [
      "#2 and 3(\u958f\u5e74)\n",
      "def month(d,m,y):\n",
      "    if m==1or 3or 5or 7or 8or 10or 12:\n",
      "        return 31\n",
      "    elif m==4or 6or 9or 11:\n",
      "        return 30\n",
      "    else:\n",
      "        if d.year%400==0 or (date.year%4==0 and date.year%100!=0):\n",
      "            return 29\n",
      "        else:\n",
      "            return 28\n",
      "\n",
      "def leap_year(d):\n",
      "    return d.year%400==0 or (date.year%4==0 and date.year%100!=0)\n",
      "\n",
      "def year(d,n):\n",
      "    if n<=0:\n",
      "        return d\n",
      "    else:\n",
      "        d.year+=1\n",
      "        leap_year(d)*year(d,n-1)\n",
      "\n",
      "        \n",
      "    \n",
      "def increment_date(date,n):\n",
      "    if date.year%400==0 or (date.year%4==0 and date.year%100!=0):\n",
      "        if n<366:\n",
      "            date.day+=n\n",
      "            date.month+=(self.day-(self.day%month(date.month+1,date.year)))/(date.month+1)\n",
      "            return date\n",
      "        else:\n",
      "            date.day+=n\n",
      "            date.month+=(self.day-(self.day%month(date.month+1,date.year+1)))/(date.month+1)\n",
      "            date.year+=(self.month-(self.month%12))/12\n",
      "            return date\n",
      "    else:\n",
      "        if n<365:\n",
      "            date.day+=n\n",
      "            date.month+=(self.day-(self.day%month(date.month+1,date.year)))/(date.month+1)\n",
      "            return date\n",
      "        else:\n",
      "            date.day+=n\n",
      "            date.month+=(self.day-(self.day%month(date.month+1,date.year+1)))/(date.month+1)\n",
      "            date.year+=(self.month-(self.month%12))/12\n",
      "            return date\n",
      "            \n",
      "#\u76e1\u529b\u4e86...      "
     ],
     "language": "python",
     "metadata": {},
     "outputs": []
    },
    {
     "cell_type": "markdown",
     "metadata": {},
     "source": [
      "## Problem 4\n",
      "\n",
      "The `datetime` module provides date and time objects that are similar to the Date and Time objects in this chapter, but they provide a rich set of methods and operators. Read the documentation at http://docs.python.org/2/library/datetime.html.\n",
      "\n",
      "1. Use the `datetime` module to write a program that gets the current date and prints the day of the week.\n",
      "2. Write a program that takes a birthday as input and prints the user\u2019s age and the number of days, hours, minutes and seconds until their next birthday.\n",
      "3. For two people born on different days, there is a day when one is twice as old as the other. That\u2019s their Double Day. Write a program that takes two birthdays and computes their Double Day.\n",
      "4. For a little more challenge, write the more general version that computes the day when one person is `n` times older than the other."
     ]
    },
    {
     "cell_type": "code",
     "collapsed": false,
     "input": [
      "# Problem 4\n",
      "\n",
      "#1\n",
      "#2\n",
      "#3\n",
      "#4"
     ],
     "language": "python",
     "metadata": {},
     "outputs": [],
     "prompt_number": 4
    },
    {
     "cell_type": "markdown",
     "metadata": {},
     "source": [
      "## Problem 5\n",
      "\n",
      "Implement the `Point` class and the `Rectangle` class, with following methods.\n",
      "\n",
      "1. Write an `init` method for the Point class that takes `x` and `y` as optional parameters and assigns them to the corresponding attributes.\n",
      "2. Write a `str` method for the Point class.\n",
      "3. Write an `add` method for Points that works with either a Point object or a tuple:\n",
      "  * If the second operand is a Point, the method should return a new Point whose `x` coordinate is the sum of the `x` coordinates of the operands, and likewise for the `y` coordinates.\n",
      "  * If the second operand is a tuple, the method should add the first element of the tuple to the `x` coordinate and the second element to the `y` coordinate, and return a new Point with the result.\n",
      "4. Write some codes to demonstrate the usage of methods above."
     ]
    },
    {
     "cell_type": "code",
     "collapsed": false,
     "input": [
      "class Point(object):\n",
      "    \"\"\"dfsdga\"\"\""
     ],
     "language": "python",
     "metadata": {},
     "outputs": [],
     "prompt_number": 84
    },
    {
     "cell_type": "code",
     "collapsed": false,
     "input": [
      "p = Point()\n",
      "p.x=0.0\n",
      "p.y=3.0"
     ],
     "language": "python",
     "metadata": {},
     "outputs": [],
     "prompt_number": 85
    },
    {
     "cell_type": "code",
     "collapsed": false,
     "input": [
      "pa = Point()\n",
      "pa.x=4.0\n",
      "pa.y=3.0"
     ],
     "language": "python",
     "metadata": {},
     "outputs": [],
     "prompt_number": 86
    },
    {
     "cell_type": "code",
     "collapsed": false,
     "input": [
      "# Problem 5\n",
      "\n",
      "#1\n",
      "def __init__(b,x=0,y=0):\n",
      "    b.x=x\n",
      "    b.y=y\n",
      "#2\n",
      "def __str__(b):\n",
      "    return '(%g, %g)' % (b.x,b.y)\n",
      "        \n",
      "#3\n",
      "def __add__(b1,b2):\n",
      "    b.x=b1.x+b2.x\n",
      "    b.y=b1.y+b2.y\n",
      "    return b\n",
      "#4\n",
      "__str__(p)\n",
      "__add__(p,pa)\n"
     ],
     "language": "python",
     "metadata": {},
     "outputs": [
      {
       "ename": "NameError",
       "evalue": "global name 'b' is not defined",
       "output_type": "pyerr",
       "traceback": [
        "\u001b[1;31m---------------------------------------------------------------------------\u001b[0m\n\u001b[1;31mNameError\u001b[0m                                 Traceback (most recent call last)",
        "\u001b[1;32m<ipython-input-87-62321494825e>\u001b[0m in \u001b[0;36m<module>\u001b[1;34m()\u001b[0m\n\u001b[0;32m     16\u001b[0m \u001b[1;31m#4\u001b[0m\u001b[1;33m\u001b[0m\u001b[1;33m\u001b[0m\u001b[0m\n\u001b[0;32m     17\u001b[0m \u001b[0m__str__\u001b[0m\u001b[1;33m(\u001b[0m\u001b[0mp\u001b[0m\u001b[1;33m)\u001b[0m\u001b[1;33m\u001b[0m\u001b[0m\n\u001b[1;32m---> 18\u001b[1;33m \u001b[0m__add__\u001b[0m\u001b[1;33m(\u001b[0m\u001b[0mp\u001b[0m\u001b[1;33m,\u001b[0m\u001b[0mpa\u001b[0m\u001b[1;33m)\u001b[0m\u001b[1;33m\u001b[0m\u001b[0m\n\u001b[0m",
        "\u001b[1;32m<ipython-input-87-62321494825e>\u001b[0m in \u001b[0;36m__add__\u001b[1;34m(b1, b2)\u001b[0m\n\u001b[0;32m     11\u001b[0m \u001b[1;31m#3\u001b[0m\u001b[1;33m\u001b[0m\u001b[1;33m\u001b[0m\u001b[0m\n\u001b[0;32m     12\u001b[0m \u001b[1;32mdef\u001b[0m \u001b[0m__add__\u001b[0m\u001b[1;33m(\u001b[0m\u001b[0mb1\u001b[0m\u001b[1;33m,\u001b[0m\u001b[0mb2\u001b[0m\u001b[1;33m)\u001b[0m\u001b[1;33m:\u001b[0m\u001b[1;33m\u001b[0m\u001b[0m\n\u001b[1;32m---> 13\u001b[1;33m     \u001b[0mb\u001b[0m\u001b[1;33m.\u001b[0m\u001b[0mx\u001b[0m\u001b[1;33m=\u001b[0m\u001b[0mb1\u001b[0m\u001b[1;33m.\u001b[0m\u001b[0mx\u001b[0m\u001b[1;33m+\u001b[0m\u001b[0mb2\u001b[0m\u001b[1;33m.\u001b[0m\u001b[0mx\u001b[0m\u001b[1;33m\u001b[0m\u001b[0m\n\u001b[0m\u001b[0;32m     14\u001b[0m     \u001b[0mb\u001b[0m\u001b[1;33m.\u001b[0m\u001b[0my\u001b[0m\u001b[1;33m=\u001b[0m\u001b[0mb1\u001b[0m\u001b[1;33m.\u001b[0m\u001b[0my\u001b[0m\u001b[1;33m+\u001b[0m\u001b[0mb2\u001b[0m\u001b[1;33m.\u001b[0m\u001b[0my\u001b[0m\u001b[1;33m\u001b[0m\u001b[0m\n\u001b[0;32m     15\u001b[0m     \u001b[1;32mreturn\u001b[0m \u001b[0mb\u001b[0m\u001b[1;33m\u001b[0m\u001b[0m\n",
        "\u001b[1;31mNameError\u001b[0m: global name 'b' is not defined"
       ]
      }
     ],
     "prompt_number": 87
    },
    {
     "cell_type": "code",
     "collapsed": false,
     "input": [],
     "language": "python",
     "metadata": {},
     "outputs": []
    }
   ],
   "metadata": {}
  }
 ]
}