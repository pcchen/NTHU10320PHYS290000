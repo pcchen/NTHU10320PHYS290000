{
 "metadata": {
  "name": "",
  "signature": "sha256:ac25f7c220c9abef2765580b6386792d9ce04791ad735f906560df2c11d429ee"
 },
 "nbformat": 3,
 "nbformat_minor": 0,
 "worksheets": [
  {
   "cells": [
    {
     "cell_type": "markdown",
     "metadata": {},
     "source": [
      "# Homework 5"
     ]
    },
    {
     "cell_type": "markdown",
     "metadata": {},
     "source": [
      "## Problem 1\n",
      "\n",
      "Consider the damped oscillation\n",
      "$$\n",
      "  m \\ddot{x} + b \\dot{x} + k x =0,\n",
      "$$\n",
      "which can be rewritten as \n",
      "$$\n",
      "  \\ddot{x} + 2\\beta\\dot{x} + \\omega^2_0 x =0,\n",
      "$$\n",
      "where $\\beta=b/2m$ is the **damping parameter** and $\\omega_0=\\sqrt{k/m}$ is the characteristic angular frequency in the absence of damping. \n",
      "\n",
      "### Underdamping\n",
      "When $\\omega^2_0  > \\beta^2$ the system has underdamping oscillation. Define\n",
      "$$\n",
      "  \\omega_1 = \\sqrt{\\omega_0^2 -\\beta^2}.\n",
      "$$\n",
      "The general solution can be written as \n",
      "$$\n",
      "  x(t) = A \\exp(-\\beta t) \\cos(\\omega_1 t - \\delta).\n",
      "$$\n",
      "\n",
      "### Overdsamping\n",
      "When $\\omega^2_0  < \\beta^2$ the system has underdamping oscillation. Define\n",
      "$$\n",
      "  \\omega_2 = \\sqrt{\\beta^2 - \\omega_0^2}.\n",
      "$$\n",
      "The general solution can be written as\n",
      "$$\n",
      "  x(t) = A \\exp(-\\beta t) \\left[ A_1 \\exp(\\omega_2 t) + A_2 \\exp(-\\omega_2 t) \\right].\n",
      "$$\n",
      "\n",
      "For a given set of $m$, $b$, $k$, and \n",
      "* $A$, $\\delta$ (for underdamping)\n",
      "* $A_1$, $A_2$ (for overdamping)\n",
      "\n",
      "Do the following:\n",
      "* Plot $x(t)$.\n",
      "* Plot $E(t)= \\frac{1}{2} k x^2(t) + \\frac{1}{2} m \\dot{x}^2(t)$.\n",
      "* Plot the $\\dot{x}(t)$ v.s. $x(t)$."
     ]
    },
    {
     "cell_type": "code",
     "collapsed": false,
     "input": [
      "# Problem 1\n",
      "%pylab inline\n",
      "import math\n",
      "subplot(2,1,1)\n",
      "omega0=math.sqrt(2)\n",
      "beta=1\n",
      "omega1=math.sqrt(omega0**2-beta**2)\n",
      "t=linspace(0,10,501)\n",
      "x1=np.e**(-1*beta*t)*np.cos(omega1*t)\n",
      "\n",
      "plot(t,x1)\n",
      "\n",
      "E=0.5*2*x1**2+0.5*(-1*np.e**(-1*t)*np.cos(t)-np.e**(-1*t)*np.sin(t))**2\n",
      "\n",
      "plot(t,E)\n",
      "\n",
      "xdif=-1*np.e**(-1*t)*np.cos(t)-np.e**(-1*t)*np.sin(t)\n",
      "\n",
      "subplot(2,1,2)\n",
      "\n",
      "plot(x1,xdif)\n",
      "\n",
      "\n",
      "\n",
      "\n"
     ],
     "language": "python",
     "metadata": {},
     "outputs": [
      {
       "output_type": "stream",
       "stream": "stdout",
       "text": [
        "Populating the interactive namespace from numpy and matplotlib\n"
       ]
      },
      {
       "output_type": "stream",
       "stream": "stderr",
       "text": [
        "WARNING: pylab import has clobbered these variables: ['beta']\n",
        "`%matplotlib` prevents importing * from pylab and numpy\n"
       ]
      },
      {
       "metadata": {},
       "output_type": "pyout",
       "prompt_number": 34,
       "text": [
        "[<matplotlib.lines.Line2D at 0xb81bbe0>]"
       ]
      },
      {
       "metadata": {},
       "output_type": "display_data",
       "png": "[encoded data removed]",
       "text": [
        "<matplotlib.figure.Figure at 0xb3dc390>"
       ]
      }
     ],
     "prompt_number": 34
    },
    {
     "cell_type": "code",
     "collapsed": false,
     "input": [
      "t=linspace(0,10,501)\n",
      "beta2=5\n",
      "omega0=4\n",
      "x2=exp(-5*t)*(exp(3*t)+2*exp(-3*t))\n",
      "plot(t,x2)\n",
      "\n",
      "x2dif=-2*exp(-2*t)-16*exp(-8*t)\n",
      "plot(t,x2dif)\n",
      "\n",
      "\n",
      "\n",
      "plot(x2,x2dif)"
     ],
     "language": "python",
     "metadata": {},
     "outputs": [
      {
       "metadata": {},
       "output_type": "pyout",
       "prompt_number": 41,
       "text": [
        "[<matplotlib.lines.Line2D at 0xb98b0f0>]"
       ]
      },
      {
       "metadata": {},
       "output_type": "display_data",
       "png": "[encoded data removed]",
       "text": [
        "<matplotlib.figure.Figure at 0xb98ba58>"
       ]
      }
     ],
     "prompt_number": 41
    },
    {
     "cell_type": "markdown",
     "metadata": {},
     "source": [
      "## Problem 2\n",
      "\n",
      "Consider the driven oscillation\n",
      "$$\n",
      "  \\ddot{x} + 2\\beta\\dot{x} + \\omega^2_0 x = A\\cos(\\omega t).\n",
      "$$\n",
      "\n",
      "The amplitude $D$ of the oscillation has the form\n",
      "$$\n",
      "  D = \\frac{A}{\\sqrt{(\\omega_0^2-\\omega^2)^2+4\\omega^2 \\beta^2}},\n",
      "$$\n",
      "and the phase angle $\\delta$ has the form\n",
      "$$\n",
      "  \\delta = \\tan^{-1}\\left( \\frac{2\\omega \\beta }{\\omega^2_0-\\omega^2} \\right), \\;\n",
      "  0 \\le \\delta \\le \\pi.\n",
      "$$\n",
      "\n",
      "For a given set of $\\beta$, $\\omega_0$ and $\\omega$:\n",
      "* Plot amplitude $D$ as a function of $\\omega$.\n",
      "* Plot phase angle $\\delta$ as a function of $\\omega$.\n",
      "* Use IPython Interact to let the user changes the values of $\\beta$ and $\\omega_0$."
     ]
    },
    {
     "cell_type": "code",
     "collapsed": false,
     "input": [
      "# Problem 2\n",
      "ome=np.linspace(0,math.pi,501)\n",
      "D=1/((4-ome**2)**2+16*ome**2)\n",
      "plot(ome,D)\n"
     ],
     "language": "python",
     "metadata": {},
     "outputs": [
      {
       "metadata": {},
       "output_type": "pyout",
       "prompt_number": 67,
       "text": [
        "[<matplotlib.lines.Line2D at 0xc7f0cc0>]"
       ]
      },
      {
       "metadata": {},
       "output_type": "display_data",
       "png": "[encoded data removed]",
       "text": [
        "<matplotlib.figure.Figure at 0xd461ba8>"
       ]
      }
     ],
     "prompt_number": 67
    },
    {
     "cell_type": "code",
     "collapsed": false,
     "input": [
      "sig=np.arctan(4*ome/(4-ome**2))\n",
      "plot(ome,sig)"
     ],
     "language": "python",
     "metadata": {},
     "outputs": [
      {
       "metadata": {},
       "output_type": "pyout",
       "prompt_number": 68,
       "text": [
        "[<matplotlib.lines.Line2D at 0xd415390>]"
       ]
      },
      {
       "metadata": {},
       "output_type": "display_data",
       "png": "[encoded data removed]",
       "text": [
        "<matplotlib.figure.Figure at 0xcb026d8>"
       ]
      }
     ],
     "prompt_number": 68
    },
    {
     "cell_type": "markdown",
     "metadata": {},
     "source": [
      "## Problem 3\n",
      "\n",
      "Write a definition for a class named `Kangaroo` with the following methods:\n",
      "\n",
      "* An `__init__` method that initializes an attribute named `pouch_contents` to an empty list.\n",
      "* A method named `put_in_pouch` that takes an object of any type and adds it to `pouch_contents`.\n",
      "* A `__str__` method that returns a string representation of the Kangaroo object and the contents of the pouch.\n",
      "\n",
      "Test your code by creating two Kangaroo objects, assigning them to variables named `kanga` and `roo`, and then adding `roo` to the contents of `kanga`\u2019s pouch"
     ]
    },
    {
     "cell_type": "code",
     "collapsed": false,
     "input": [
      "# Problme 3\n",
      "class Kangaroo(object):\n",
      "    \"\"\"represent a pouch in a space\n",
      "    attributes:pouch_contents\"\"\"\n",
      "    \n",
      "def __init__(pouch):\n",
      "    pouch.pouch_contents=[]\n",
      "def put_in_pouch(pouch, thing):\n",
      "    pouch.pouch_contents.append(thing)\n",
      "def __str__(pouch):\n",
      "    print str(pouch)\n",
      "    print pouch.pouch_contents\n",
      "kanga=Kangaroo()\n",
      "roo='roo'\n",
      "__init__(kanga)\n",
      "put_in_pouch(kanga,roo)\n",
      "__str__(kanga)\n",
      "        "
     ],
     "language": "python",
     "metadata": {},
     "outputs": [
      {
       "output_type": "stream",
       "stream": "stdout",
       "text": [
        "<__main__.Kangaroo object at 0x0000000003EE30F0>\n",
        "['roo']\n"
       ]
      }
     ],
     "prompt_number": 3
    },
    {
     "cell_type": "markdown",
     "metadata": {},
     "source": [
      "## Problem 4\n",
      "\n",
      "Write a `__cmp__` method for `Time` objects. "
     ]
    },
    {
     "cell_type": "code",
     "collapsed": false,
     "input": [
      "# Problem 4\n",
      "class Time(object):\n",
      "    \"\"\"Represents the time of day.\n",
      "       \n",
      "    attributes: hour, minute, second\n",
      "    \"\"\"\n",
      "def time_to_sec(time):\n",
      "    minutes = time.hour * 60 + time.minute\n",
      "    seconds = minutes * 60 + time.second\n",
      "    return seconds    \n",
      "\n",
      "def __cmp__(time1, time2):\n",
      "    t1=time_to_sec(time1)\n",
      "    t2=time_to_sec(time2)\n",
      "    if t1>t2:\n",
      "        return 1\n",
      "    elif t1==t2:\n",
      "        return 0\n",
      "    else:\n",
      "        return -1\n",
      "\n",
      "\n",
      "    \n",
      "time1=Time()\n",
      "time2=Time()\n",
      "time1.hour=1\n",
      "time1.minute=35\n",
      "time1.second=59\n",
      "time2.hour=6\n",
      "time2.minute=19\n",
      "time2.second=53\n",
      "\n",
      "__cmp__(time1, time2)\n",
      "        "
     ],
     "language": "python",
     "metadata": {},
     "outputs": [
      {
       "metadata": {},
       "output_type": "pyout",
       "prompt_number": 43,
       "text": [
        "-1"
       ]
      }
     ],
     "prompt_number": 43
    },
    {
     "cell_type": "markdown",
     "metadata": {},
     "source": [
      "## Problem 5\n",
      "\n",
      "Write a `Deck` method named `sort` that uses the list method `sort` to sort the cards in a `Deck`. `sort` uses the `__cmp__` method we defined to determine sort order."
     ]
    },
    {
     "cell_type": "code",
     "collapsed": false,
     "input": [
      "# Problem 5\n",
      "\n",
      "class Deck(object):\n",
      "    def __init__(self):\n",
      "        self.cards = []\n",
      "        for suit in range(4):\n",
      "            for rank in range(1, 14):\n",
      "                card = Card(suit, rank)\n",
      "                self.cards.append(card)\n",
      "    \n",
      "    def sort(self):\n",
      "        "
     ],
     "language": "python",
     "metadata": {},
     "outputs": [],
     "prompt_number": 5
    },
    {
     "cell_type": "markdown",
     "metadata": {},
     "source": [
      "## Problem 6\n",
      "\n",
      "The following are the possible hands in poker, in increasing order of value (and decreasing order of probability):\n",
      "\n",
      "**pair:**\n",
      "two cards with the same rank\n",
      "\n",
      "**two pair:**\n",
      "two pairs of cards with the same rank\n",
      "\n",
      "**three of a kind:**\n",
      "three cards with the same rank\n",
      "\n",
      "**straight:**\n",
      "five cards with ranks in sequence (aces can be high or low, so Ace-2-3-4-5 is a straight and so is 10-Jack-Queen-King-Ace, but Queen-King-Ace-2-3 is not.)\n",
      "\n",
      "**flush:**\n",
      "five cards with the same suit\n",
      "\n",
      "**full house:**\n",
      "three cards with one rank, two cards with another\n",
      "\n",
      "**four of a kind:**\n",
      "four cards with the same rank\n",
      "\n",
      "**straight flush:**\n",
      "five cards in sequence (as defined above) and with the same suit\n",
      "\n",
      "**Modify** the following codes.\n",
      "\n",
      "Add methods to `PokerHand` class named `has_pair`, `has_twopair`, etc. that return `True` or `False` according to whether or not the hand meets the relevant criteria. Your code should work correctly for \u201chands\u201d that contain any number of cards (although 5 and 7 are the most common sizes)"
     ]
    },
    {
     "cell_type": "code",
     "collapsed": false,
     "input": [
      "import random\n",
      "\n",
      "\n",
      "class Card(object):\n",
      "    \"\"\"Represents a standard playing card.\n",
      "    \n",
      "    Attributes:\n",
      "      suit: integer 0-3\n",
      "      rank: integer 1-13\n",
      "    \"\"\"\n",
      "\n",
      "    suit_names = [\"Clubs\", \"Diamonds\", \"Hearts\", \"Spades\"]\n",
      "    rank_names = [None, \"Ace\", \"2\", \"3\", \"4\", \"5\", \"6\", \"7\", \n",
      "              \"8\", \"9\", \"10\", \"Jack\", \"Queen\", \"King\"]\n",
      "\n",
      "    def __init__(self, suit=0, rank=2):\n",
      "        self.suit = suit\n",
      "        self.rank = rank\n",
      "\n",
      "    def __str__(self):\n",
      "        \"\"\"Returns a human-readable string representation.\"\"\"\n",
      "        return '%s of %s' % (Card.rank_names[self.rank],\n",
      "                             Card.suit_names[self.suit])\n",
      "\n",
      "    def __cmp__(self, other):\n",
      "        \"\"\"Compares this card to other, first by suit, then rank.\n",
      "\n",
      "        Returns a positive number if this > other; negative if other > this;\n",
      "        and 0 if they are equivalent.\n",
      "        \"\"\"\n",
      "        t1 = self.suit, self.rank\n",
      "        t2 = other.suit, other.rank\n",
      "        return cmp(t1, t2)\n",
      "\n",
      "\n",
      "class Deck(object):\n",
      "    \"\"\"Represents a deck of cards.\n",
      "\n",
      "    Attributes:\n",
      "      cards: list of Card objects.\n",
      "    \"\"\"\n",
      "    \n",
      "    def __init__(self):\n",
      "        self.cards = []\n",
      "        for suit in range(4):\n",
      "            for rank in range(1, 14):\n",
      "                card = Card(suit, rank)\n",
      "                self.cards.append(card)\n",
      "\n",
      "    def __str__(self):\n",
      "        res = []\n",
      "        for card in self.cards:\n",
      "            res.append(str(card))\n",
      "        return '\\n'.join(res)\n",
      "\n",
      "    def add_card(self, card):\n",
      "        \"\"\"Adds a card to the deck.\"\"\"\n",
      "        self.cards.append(card)\n",
      "\n",
      "    def remove_card(self, card):\n",
      "        \"\"\"Removes a card from the deck.\"\"\"\n",
      "        self.cards.remove(card)\n",
      "\n",
      "    def pop_card(self, i=-1):\n",
      "        \"\"\"Removes and returns a card from the deck.\n",
      "\n",
      "        i: index of the card to pop; by default, pops the last card.\n",
      "        \"\"\"\n",
      "        return self.cards.pop(i)\n",
      "\n",
      "    def shuffle(self):\n",
      "        \"\"\"Shuffles the cards in this deck.\"\"\"\n",
      "        random.shuffle(self.cards)\n",
      "\n",
      "    def sort(self):\n",
      "        \"\"\"Sorts the cards in ascending order.\"\"\"\n",
      "        self.cards.sort()\n",
      "\n",
      "    def move_cards(self, hand, num):\n",
      "        \"\"\"Moves the given number of cards from the deck into the Hand.\n",
      "\n",
      "        hand: destination Hand object\n",
      "        num: integer number of cards to move\n",
      "        \"\"\"\n",
      "        for i in range(num):\n",
      "            hand.add_card(self.pop_card())\n",
      "\n",
      "\n",
      "class Hand(Deck):\n",
      "    \"\"\"Represents a hand of playing cards.\"\"\"\n",
      "    \n",
      "    def __init__(self, label=''):\n",
      "        self.cards = []\n",
      "        self.label = label\n",
      "        \n",
      "class PokerHand(Hand):\n",
      "\n",
      "    def suit_hist(self):\n",
      "        \"\"\"Builds a histogram of the suits that appear in the hand.\n",
      "\n",
      "        Stores the result in attribute suits.\n",
      "        \"\"\"\n",
      "        self.suits = {}\n",
      "        for card in self.cards:\n",
      "            self.suits[card.suit] = self.suits.get(card.suit, 0) + 1\n",
      "\n",
      "    def has_flush(self):\n",
      "        \"\"\"Returns True if the hand has a flush, False otherwise.\n",
      "      \n",
      "        Note that this works correctly for hands with more than 5 cards.\n",
      "        \"\"\"\n",
      "        self.suit_hist()\n",
      "        for val in self.suits.values():\n",
      "            if val >= 5:\n",
      "                return True\n",
      "        return False"
     ],
     "language": "python",
     "metadata": {},
     "outputs": [],
     "prompt_number": 6
    },
    {
     "cell_type": "code",
     "collapsed": false,
     "input": [
      "# Problem 6"
     ],
     "language": "python",
     "metadata": {},
     "outputs": [],
     "prompt_number": 7
    }
   ],
   "metadata": {}
  }
 ]
}