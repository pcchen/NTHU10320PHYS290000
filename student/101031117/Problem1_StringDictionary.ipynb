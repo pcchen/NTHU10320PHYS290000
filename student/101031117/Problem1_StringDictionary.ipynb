{
 "metadata": {
  "name": "",
  "signature": "sha256:6aec4fe45b417c37f360054f2aec2ab2ae9b0dd4cf170e678aa155a1fd830aef"
 },
 "nbformat": 3,
 "nbformat_minor": 0,
 "worksheets": [
  {
   "cells": [
    {
     "cell_type": "markdown",
     "metadata": {},
     "source": [
      "# Problem 1:\n",
      "# String and Dictionary\n",
      "\n",
      "In the first part, you should create a dictionary with following mapping between characters (character=one character string).\n",
      "* dic['a']='z'\n",
      "* dic['b']='y'\n",
      "* ...\n",
      "* dic['y']='b'\n",
      "* dic['z']='a'\n",
      "\n",
      "You should use built-in function `ord` and `chr` to build the dictionary. \n",
      "* The function `ord` convert a character into an integer. \n",
      "* The function `chr` convert an integer into a character. \n",
      "\n",
      "Here are some examples:"
     ]
    },
    {
     "cell_type": "code",
     "collapsed": false,
     "input": [
      "print ord('a'), ord('b'), ord('y'), ord('z')"
     ],
     "language": "python",
     "metadata": {},
     "outputs": [
      {
       "output_type": "stream",
       "stream": "stdout",
       "text": [
        "97 98 121 122\n"
       ]
      }
     ],
     "prompt_number": 9
    },
    {
     "cell_type": "code",
     "collapsed": false,
     "input": [
      "print chr(97), chr(98), chr(121), chr(122)"
     ],
     "language": "python",
     "metadata": {},
     "outputs": [
      {
       "output_type": "stream",
       "stream": "stdout",
       "text": [
        "a b y z\n"
       ]
      }
     ],
     "prompt_number": 2
    },
    {
     "cell_type": "markdown",
     "metadata": {},
     "source": [
      "Please implement a function called `inverse(c)` that gives you the mapping."
     ]
    },
    {
     "cell_type": "code",
     "collapsed": false,
     "input": [
      "# define inverse(c) here, you should have\n",
      "# inverse('a') --> 'z'\n",
      "# inverse('z') --> 'a'\n",
      "\n",
      "def inverse(s):\n",
      "    return chr(219-ord(s))\n",
      "    pass\n",
      "\n",
      "# test your function\n",
      "print inverse('a')\n",
      "print inverse('z')"
     ],
     "language": "python",
     "metadata": {},
     "outputs": [
      {
       "output_type": "stream",
       "stream": "stdout",
       "text": [
        "z\n",
        "a\n"
       ]
      }
     ],
     "prompt_number": 14
    },
    {
     "cell_type": "markdown",
     "metadata": {},
     "source": [
      "Please create the inverse mapping dictionary: `dic`."
     ]
    },
    {
     "cell_type": "code",
     "collapsed": false,
     "input": [
      "# create the inverse mapping dictionary\n",
      "dic = {str(chr(97)):str(chr(122)),\n",
      "       str(chr(98)):str(chr(121)),\n",
      "       str(chr(99)):str(chr(120)),\n",
      "       str(chr(100)):str(chr(119)),\n",
      "       str(chr(101)):str(chr(118)),\n",
      "       str(chr(102)):str(chr(117)),\n",
      "       str(chr(103)):str(chr(116)),\n",
      "       str(chr(104)):str(chr(115)),\n",
      "       str(chr(105)):str(chr(114)),\n",
      "       str(chr(106)):str(chr(113)),\n",
      "       str(chr(107)):str(chr(112)),\n",
      "       str(chr(108)):str(chr(111)),\n",
      "       str(chr(109)):str(chr(110)),\n",
      "       str(chr(110)):str(chr(109)),\n",
      "       str(chr(111)):str(chr(108)),\n",
      "       str(chr(112)):str(chr(107)),\n",
      "       str(chr(113)):str(chr(106)),\n",
      "       str(chr(114)):str(chr(105)),\n",
      "       str(chr(115)):str(chr(104)),\n",
      "       str(chr(116)):str(chr(103)),\n",
      "       str(chr(117)):str(chr(102)),\n",
      "       str(chr(118)):str(chr(101)),\n",
      "       str(chr(119)):str(chr(100)),\n",
      "       str(chr(120)):str(chr(99)),\n",
      "       str(chr(121)):str(chr(98)),\n",
      "       str(chr(122)):str(chr(97)),\n",
      "       }\n",
      "    \n",
      "        \n",
      "# test your dictionary\n",
      "print dic"
     ],
     "language": "python",
     "metadata": {},
     "outputs": [
      {
       "output_type": "stream",
       "stream": "stdout",
       "text": [
        "{'a': 'z', 'c': 'x', 'b': 'y', 'e': 'v', 'd': 'w', 'g': 't', 'f': 'u', 'i': 'r', 'h': 's', 'k': 'p', 'j': 'q', 'm': 'n', 'l': 'o', 'o': 'l', 'n': 'm', 'q': 'j', 'p': 'k', 's': 'h', 'r': 'i', 'u': 'f', 't': 'g', 'w': 'd', 'v': 'e', 'y': 'b', 'x': 'c', 'z': 'a'}\n"
       ]
      }
     ],
     "prompt_number": 10
    },
    {
     "cell_type": "markdown",
     "metadata": {},
     "source": [
      "In the second step, you should use the dictionary you construct to write a function that takes a string as an argument and return a string with inverse characters.\n",
      "\n",
      "Please implement the string inversion function `str_inversion'. You should get, for example,\n",
      "\n",
      "``\n",
      "print str_inversion('abc')\n",
      "zyx\n",
      "``"
     ]
    },
    {
     "cell_type": "code",
     "collapsed": false,
     "input": [
      "# str_inversion\n",
      "def str_inversion(s):\n",
      "    L=[]\n",
      "    for k in s:\n",
      "        k=inverse(k)\n",
      "        L+=k\n",
      "    return L\n",
      "    pass\n",
      "print str_inversion('abc')"
     ],
     "language": "python",
     "metadata": {},
     "outputs": [
      {
       "output_type": "stream",
       "stream": "stdout",
       "text": [
        "['z', 'y', 'x']\n"
       ]
      }
     ],
     "prompt_number": 35
    },
    {
     "cell_type": "code",
     "collapsed": false,
     "input": [
      "# test your function\n",
      "print str_inversion('abc')"
     ],
     "language": "python",
     "metadata": {},
     "outputs": []
    },
    {
     "cell_type": "code",
     "collapsed": false,
     "input": [],
     "language": "python",
     "metadata": {},
     "outputs": []
    }
   ],
   "metadata": {}
  }
 ]
}