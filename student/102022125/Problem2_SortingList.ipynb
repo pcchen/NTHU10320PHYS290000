{
 "metadata": {
  "name": "",
  "signature": "sha256:18b5373c1cc9c32251168f4b21156efcd2d32ed403b9b47252e1a6bbc918fba5"
 },
 "nbformat": 3,
 "nbformat_minor": 0,
 "worksheets": [
  {
   "cells": [
    {
     "cell_type": "markdown",
     "metadata": {},
     "source": [
      "# Problem 2:\n",
      "# Sorting a List\n",
      "\n",
      "In this problem you should\n",
      "* Implement the **selection sort** algorithm.\n",
      "* Implement the **insertion sort** algorithm.\n",
      "* Create a list of N-elements where each element is a random integer between 0, 1, 2, ..., N-1.\n",
      "* Use your implementation of the selection sort and insertion sort to sort the the random list above.\n",
      "* Use built-in function `sorted()` that builds a new sorted list to show that your implementation is correct.\n",
      "\n",
      "## Selection sort\n",
      "\n",
      "Following is the algorithm of the **selection sort**:\n",
      "\n",
      "* Divide the input list into two sub-lists:\n",
      " * Sorted sub-list (Start with an empty list).\n",
      " * Un-Sorted sub-list.\n",
      "* Find the smallest element in the unsorted list.\n",
      "* Swap with the leftmost unsorted element.\n",
      "* Move the sub-list boundaries.\n",
      "\n",
      "Following is an example of selection sort:\n",
      "<img src=\"SelectionSort.png\" width=\"800\">\n",
      "\n",
      "## Insertion sort\n",
      "\n",
      "Following is the algorithm of the **insertion sort**:\n",
      "\n",
      "* Divide the input list into two sub-lists:\n",
      " * Sorted sub-list (Start with the leftmost element).\n",
      " * Un-Sorted sub-list.\n",
      "* Insert the leftmost element of the unsorted sub-list into the proper position of the sorted sub-list.\n",
      "* Move the sub-list boundaries \n",
      "\n",
      "Following is an example of selection sort:\n",
      "<img src=\"InsertionSort.png\" width=\"800\">"
     ]
    },
    {
     "cell_type": "markdown",
     "metadata": {},
     "source": [
      "Please write your code based on the sketch below and use the test code below to show that your function works properly."
     ]
    },
    {
     "cell_type": "code",
     "collapsed": false,
     "input": [
      "from random import *\n",
      "# create a random list with N elements\n",
      "def random_list(N):\n",
      "    a = []\n",
      "    for i in range(N):\n",
      "        c = randint(0, N-1)\n",
      "        a.append(c)\n",
      "    return a\n",
      "\n",
      "# selection sort\n",
      "def selection_sort(list):\n",
      "    d = []\n",
      "    for i in range(N):\n",
      "        d.append(min(list))\n",
      "        list.remove(min(list))\n",
      "    print d\n",
      "        \n",
      "\n",
      "# insertion sort\n",
      "def insertion_sort(list):\n",
      "    for i in range(1, len(list)):\n",
      "        c = list[i]\n",
      "        p = i\n",
      "        while p > 0 and list[p-1] > c:\n",
      "            list[p] = list[p-1]\n",
      "            p = p-1\n",
      "        list[p] = c\n",
      "    \n",
      "    print list"
     ],
     "language": "python",
     "metadata": {},
     "outputs": [],
     "prompt_number": 83
    },
    {
     "cell_type": "code",
     "collapsed": false,
     "input": [
      "# test the implementation of selection sort\n",
      "N = 10\n",
      "L = random_list(N)\n",
      "L_sorted = sorted(L)\n",
      "selection_sort(L)\n",
      "\n",
      "for i in range(len(L)):\n",
      "    if L[i] != L_sorted[i]:\n",
      "        print 'oops!'    "
     ],
     "language": "python",
     "metadata": {},
     "outputs": [
      {
       "output_type": "stream",
       "stream": "stdout",
       "text": [
        "[0, 0, 0, 0, 1, 1, 5, 7, 9, 9]\n"
       ]
      }
     ],
     "prompt_number": 84
    },
    {
     "cell_type": "code",
     "collapsed": false,
     "input": [
      "# test the implementation of insertion sort\n",
      "N = 10\n",
      "L = random_list(N)\n",
      "L_sorted = sorted(L)\n",
      "insertion_sort(L)\n",
      "\n",
      "for i in range(len(L)):\n",
      "    if L[i] != L_sorted[i]:\n",
      "        print 'oops!'    "
     ],
     "language": "python",
     "metadata": {},
     "outputs": [
      {
       "output_type": "stream",
       "stream": "stdout",
       "text": [
        "[0, 1, 1, 1, 3, 5, 6, 8, 9, 9]\n"
       ]
      }
     ],
     "prompt_number": 82
    },
    {
     "cell_type": "code",
     "collapsed": false,
     "input": [],
     "language": "python",
     "metadata": {},
     "outputs": [],
     "prompt_number": 82
    },
    {
     "cell_type": "code",
     "collapsed": false,
     "input": [],
     "language": "python",
     "metadata": {},
     "outputs": []
    }
   ],
   "metadata": {}
  }
 ]
}