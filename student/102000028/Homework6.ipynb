{
 "metadata": {
  "name": "",
  "signature": "sha256:bcbae5b40b2b1f8c810b64fd0adce2a92dbdd0a8510b380d4e5ac00934f73bb2"
 },
 "nbformat": 3,
 "nbformat_minor": 0,
 "worksheets": [
  {
   "cells": [
    {
     "cell_type": "markdown",
     "metadata": {},
     "source": [
      "# Homework 6"
     ]
    },
    {
     "cell_type": "markdown",
     "metadata": {},
     "source": [
      "## Problem 1\n",
      "\n",
      "Use **ivisual** module to plot the projectile motion with following equations of motion:\n",
      "\n",
      "$$\n",
      "\\begin{eqnarray*}\n",
      "  m\\ddot{x} &=& 0, \\\\\n",
      "  m\\ddot{y} &=& -mg, \\\\\n",
      "  m\\ddot{z} &=& 0,\n",
      "\\end{eqnarray*}\n",
      "$$\n",
      "and initial conditions\n",
      "\n",
      "$$\n",
      "  \\vec{r}(0) = (0, 0, 0), \\\\\n",
      "  \\vec{v}(0) = (v_{x0}, v_{y0}, 0),\n",
      "$$\n",
      "You can assign $v_{x0}$ and $v_{y0}$ in the code or ask user to input it.\n",
      "\n",
      "You should\n",
      "* Use a box to represent the ground.\n",
      "* Use three arrows to represent the three axes.\n",
      "* Use a sphere to represent the ball of the projectile motion.\n",
      "* Leave a trail.\n",
      "* Stop the simulation when the ball hit the ground.\n",
      "\n",
      "You should use to ways to calculate the trajectory of the motion.\n",
      "1. Use exact solution: $x(t)=x(0)+v_x t$, etc.\n",
      "2. Use numerical solution:\n",
      " * $v(t+dt) = v(t) + a * dt$.\n",
      " * $x(t+dt) = x(t) + v(t) * dt$.\n",
      "\n",
      "You should use a small enough $dt$ to ensure the numerical solution is accurate enough.\n"
     ]
    },
    {
     "cell_type": "code",
     "collapsed": false,
     "input": [
      "# Problem 1\n",
      "from ivisual import *\n",
      "scene = canvas(title = \"Scene\")\n",
      "\n",
      "scene.width = 800\n",
      "scene.height = 600\n",
      "scene.autoscale = 0\n",
      "scene.range = (100,100,100)\n",
      "scene.center = (0,0,0)\n",
      "wallR = box(pos=(0,0,0), size=(100, 50, 1)) \n",
      "pointer1 = arrow(pos=(0,0,0), axis=(100,0,0), shaftwidth=1)\n",
      "pointer1 = arrow(pos=(0,0,0), axis=(0,100,0), shaftwidth=1, color=color.red)\n",
      "pointer1 = arrow(pos=(0,0,0), axis=(0,0,100), shaftwidth=1, color=color.blue)\n",
      "ball = sphere(pos=(0,0,5), radius=3,color=color.yellow)\n",
      "ball.velocity = vector(25,20,0)\n",
      "ball.acceleration = vector(0,0,-4.9)\n",
      "ball.trail = curve(color=ball.color)\n",
      "deltat = 0.005\n",
      "t=0\n",
      "\n",
      "while t < 3:\n",
      "    rate(50)\n",
      "    if ball.pos.z < wallR.pos.z:\n",
      "        ball.velocity.z = -ball.velocity.z\n",
      "    ball.velocity = ball.velocity + ball.acceleration * deltat\n",
      "    ball.pos = ball.pos + ball.velocity*deltat\n",
      "    ball.trail.append(pos=ball.pos)\n",
      "    t = t + deltat\n"
     ],
     "language": "python",
     "metadata": {},
     "outputs": [
      {
       "html": [
        "<div id=\"scene12\"><div id=\"glowscript\" class=\"glowscript\"></div></div>"
       ],
       "metadata": {},
       "output_type": "display_data",
       "text": [
        "<IPython.core.display.HTML at 0x4819668>"
       ]
      },
      {
       "javascript": [
        "window.__context = { glowscript_container: $(\"#glowscript\").removeAttr(\"id\")}"
       ],
       "metadata": {},
       "output_type": "display_data",
       "text": [
        "<IPython.core.display.Javascript at 0x46c8cf8>"
       ]
      }
     ],
     "prompt_number": 22
    },
    {
     "cell_type": "markdown",
     "metadata": {},
     "source": [
      "## Problem 2\n",
      "\n",
      "Now introduce the air resistence so the equations of motion become:\n",
      "\n",
      "$$\n",
      "\\begin{eqnarray*}\n",
      "  m\\ddot{x} &=& -km\\dot{x}, \\\\\n",
      "  m\\ddot{y} &=& -km\\dot{y}-mg, \\\\\n",
      "  m\\ddot{z} &=& 0,\n",
      "\\end{eqnarray*}\n",
      "$$\n",
      "and initial conditions\n",
      "\n",
      "$$\n",
      "  \\vec{r}(0) = (0, 0, 0), \\\\\n",
      "  \\vec{v}(0) = (v_{x0}, v_{y0}, 0),\n",
      "$$\n",
      "You can assign $v_{x0}$ and $v_{y0}$ in the code or ask user to input it.\n",
      "\n",
      "You should\n",
      "* Use a box to represent the ground.\n",
      "* Use three arrows to represent the three axes.\n",
      "* Use a sphere to represent the ball of the projectile motion.\n",
      "* Leave a trail.\n",
      "* Stop the simulation when the ball hit the ground.\n",
      "\n",
      "\n",
      "You should use to ways to calculate the trajectory of the motion.\n",
      "1. Use exact solution: (Check for example Marion's book).\n",
      "2. Use numerical solution:\n",
      " * $v(t+dt) = v(t) + a * dt$.\n",
      " * $x(t+dt) = x(t) + v(t) * dt$.\n",
      "\n",
      "You should use a small enough $dt$ to ensure the numerical solution is accurate enough.\n"
     ]
    },
    {
     "cell_type": "code",
     "collapsed": false,
     "input": [
      "# Problem 2\n",
      "from ivisual import *\n",
      "scene = canvas(title = \"Scene\")\n",
      "\n",
      "scene.width = 800\n",
      "scene.height = 600\n",
      "scene.autoscale = 0\n",
      "scene.range = (100,100,100)\n",
      "scene.center = (0,0,0)\n",
      "wallR = box(pos=(0,0,0), size=(100, 50, 1)) \n",
      "pointer1 = arrow(pos=(0,0,0), axis=(100,0,0), shaftwidth=1)\n",
      "pointer1 = arrow(pos=(0,0,0), axis=(0,100,0), shaftwidth=1, color=color.red)\n",
      "pointer1 = arrow(pos=(0,0,0), axis=(0,0,100), shaftwidth=1, color=color.blue)\n",
      "ball = sphere(pos=(0,10,20), radius=3,color=color.yellow)\n",
      "ball.velocity = vector(25,20,0)\n",
      "ball.acceleration = vector(0,0,0)\n",
      "ball.trail = curve(color=ball.color)\n",
      "deltat = 0.005\n",
      "t=0\n",
      "while t < 3:\n",
      "    rate(50)\n",
      "    if ball.pos.z < wallR.pos.z:\n",
      "        ball.velocity.z = -ball.velocity.z\n",
      "    ball.velocity = ball.velocity + ball.acceleration * deltat\n",
      "    ball.pos = ball.pos + ball.velocity*deltat\n",
      "    ball.trail.append(pos=ball.pos)\n",
      "    t = t + deltat\n"
     ],
     "language": "python",
     "metadata": {},
     "outputs": [
      {
       "html": [
        "<div id=\"scene11\"><div id=\"glowscript\" class=\"glowscript\"></div></div>"
       ],
       "metadata": {},
       "output_type": "display_data",
       "text": [
        "<IPython.core.display.HTML at 0x46cdeb8>"
       ]
      },
      {
       "javascript": [
        "window.__context = { glowscript_container: $(\"#glowscript\").removeAttr(\"id\")}"
       ],
       "metadata": {},
       "output_type": "display_data",
       "text": [
        "<IPython.core.display.Javascript at 0x46cdf28>"
       ]
      }
     ],
     "prompt_number": 21
    },
    {
     "cell_type": "markdown",
     "metadata": {},
     "source": [
      "## Problem 3\n",
      "\n",
      "Use **ivisual** module to plot the trajectory of a coupled spring-mass system that has two masses, three springs, two walls.\n",
      "\n",
      "Something like Wall-spring1-mass1-spring2-mass2-spring3-Wall.\n",
      "\n",
      "You should\n",
      "* Use a box to represent the ground.\n",
      "* Use two boxes to represent the walls.\n",
      "* Use two **cubic** boxes to represent the two masses.\n",
      "* Use helix to represent the two srpings.\n"
     ]
    },
    {
     "cell_type": "code",
     "collapsed": false,
     "input": [
      "# Problem 3\n",
      "from ivisual import *\n",
      "from math import *\n",
      "\n",
      "scene = canvas(title = \"Scene\")\n",
      "\n",
      "scene.center = (0,0,0)\n",
      "\n",
      "relaxedlength = vector(0.6,0,0) \n",
      "spring = helix(pos=(-.75,0,0),axis=relaxedlength, radius=.1,coils=8,thickness=.01,color=color.blue)\n",
      "spring2 = helix(pos=(.15,0,0),axis=relaxedlength, radius=.1,coils=8,thickness=.01,color=color.blue)\n",
      "spring3 = helix(pos=(1.05,0,0),axis=relaxedlength, radius=.1,coils=8,thickness=.01,color=color.blue)\n",
      "weight = box(pos=(0,0,0),size=(.3,.3,.3),color=color.yellow)\n",
      "weight2 = box(pos=(0.9,0,0),size=(.3,.3,.3),color=color.yellow)\n",
      "frictionlessSurface = box(size=(3,.02,.5),pos=(0.5,-.16,0))\n",
      "wall1 = box(size=(.04,.5,.3),pos=(-.77,.1,0),color=color.red)\n",
      "wall2 = box(size=(.04,.5,.3),pos=(1.67,.1,0),color=color.red)\n",
      "\n",
      "g=9.8 # m/s**2\n",
      "spring.constant = 2 # k\n",
      "spring2.constant = 2 # k\n",
      "spring3.constant = 2 # k\n",
      "weight.mass = 10 # kg\n",
      "weight2.mass = 10 # kg\n",
      "mu = 0.00 # friction\n",
      "\n",
      "# initial position\n",
      "xpos=0.35 #0.35\n",
      "weight.pos=vector(xpos,0,0)\n",
      "spring.displacement=weight.pos\n",
      "spring.axis=relaxedlength+spring.displacement\n",
      "spring2.displacement=spring.displacement\n",
      "spring2.pos=spring2.pos+spring2.displacement\n",
      "spring2.axis=relaxedlength+spring2.displacement\n",
      "spring3.displacement=vector(0,0,0)\n",
      "\n",
      "weight.velocity = vector(0,0,0)\n",
      "weight.acceleration = vector(0,0,0)\n",
      "weight.force = vector(0,0,0)\n",
      "\n",
      "weight2.velocity = vector(0,0,0)\n",
      "weight2.acceleration = vector(0,0,0)\n",
      "weight2.force = vector(0,0,0)\n",
      "\n",
      "def ani():\n",
      "    dt = .01    # seconds\n",
      "    seconds = 0 # total time\n",
      "    steps=5000 #integration steps: final time= dt*steps\n",
      "    \n",
      "    while seconds < dt*steps:\n",
      "        rate(300)\n",
      "        seconds = seconds + dt\n",
      "\n",
      "        F_fr=vector(0,0,0)\n",
      "        if weight.velocity.x>0:\n",
      "            F_fr=vector(-mu*weight.mass*g,0,0)\n",
      "        elif weight.velocity.x<0:\n",
      "            F_fr=vector(mu*weight.mass*g,0,0)\n",
      "\n",
      "        F_fr2=vector(0,0,0)\n",
      "        if weight2.velocity.x>0:\n",
      "            F_fr2=vector(-mu*weight.mass*g,0,0)\n",
      "        elif weight2.velocity.x<0:\n",
      "            F_fr2=vector(mu*weight.mass*g,0,0)\n",
      "    \n",
      "        # Calculate the spring force using Hooke's Law\n",
      "        SpringForce = -spring.constant * spring.displacement+spring2.constant * spring2.displacement+F_fr\n",
      "        SpringForce2 = -spring2.constant * spring2.displacement+spring3.constant * spring3.displacement+F_fr2\n",
      "\n",
      "        # The spring force acts on the weight\n",
      "        weight.force = SpringForce\n",
      "        weight2.force = SpringForce2\n",
      "\n",
      "        # move the weight from weight.pos using \n",
      "        # the momentum principle\n",
      "        #weight.acceleration = weight.force/weight.mass\n",
      "        weight.velocity += dt*weight.force/weight.mass # F*dt=dp\n",
      "        weight.pos += weight.velocity*dt #+O(dt^2) -> + .5 * weight.acceleration * dt**2\n",
      "        weight2.velocity += dt*weight2.force/weight2.mass # F*dt=dp\n",
      "        weight2.pos += weight2.velocity*dt #+O(dt^2) -> + .5 * weight.acceleration * dt**2\n",
      "\n",
      "        # calculate the new spring displacement \n",
      "        spring2.pos=weight.pos+vector(weight.size[0]/2.,0,0)\n",
      "        spring3.pos=weight2.pos+vector(weight2.size[0]/2.,0,0)\n",
      "        spring.displacement = weight.pos\n",
      "        spring2.displacement = (weight2.pos-weight.pos-vector(weight.size[0]/2.,0,0))- relaxedlength \n",
      "        spring3.displacement =\\\n",
      "        (wall2.pos-weight2.pos-vector(weight2.size[0]/2.+wall2.size[0]/2.,wall2.pos[1],wall2.pos[2]))- relaxedlength \n",
      "        # update the length of the spring\n",
      "        spring.axis = relaxedlength + spring.displacement\n",
      "        spring2.axis = relaxedlength + spring2.displacement\n",
      "        spring3.axis = relaxedlength + spring3.displacement\n"
     ],
     "language": "python",
     "metadata": {},
     "outputs": [
      {
       "html": [
        "<div id=\"scene3\"><div id=\"glowscript\" class=\"glowscript\"></div></div>"
       ],
       "metadata": {},
       "output_type": "display_data",
       "text": [
        "<IPython.core.display.HTML at 0x3e912b0>"
       ]
      },
      {
       "javascript": [
        "window.__context = { glowscript_container: $(\"#glowscript\").removeAttr(\"id\")}"
       ],
       "metadata": {},
       "output_type": "display_data",
       "text": [
        "<IPython.core.display.Javascript at 0x2651080>"
       ]
      }
     ],
     "prompt_number": 5
    },
    {
     "cell_type": "code",
     "collapsed": false,
     "input": [
      "ani()"
     ],
     "language": "python",
     "metadata": {},
     "outputs": [],
     "prompt_number": 6
    },
    {
     "cell_type": "markdown",
     "metadata": {},
     "source": [
      "# Problem 4\n",
      "\n",
      "Use **ivisual** module to plot the trajectories of 20 particles in a rectangle box.\n",
      "\n",
      "* The rectangle box has the dimension $L_x$, $L_y$, $L_z$.\n",
      "* Use boxes to represent the walls. Keep one wall **invisible**.\n",
      "* The 20 particles should have **random** initial velocity.\n",
      "* The 20 particles should leave a trail.\n",
      "* Make each particle has random RGB color."
     ]
    },
    {
     "cell_type": "code",
     "collapsed": false,
     "input": [
      "# Problem 4\n",
      "from ivisual import *\n",
      "import random\n",
      "scene = canvas(title = \"Scene\")\n",
      "\n",
      "scene.width = 800\n",
      "scene.height = 600\n",
      "scene.autoscale = 0\n",
      "scene.range = (10,10,10)\n",
      "scene.center = (0,0,0)\n",
      "wallR = box(pos=(+6,0,0), size=(0.2, 12, 12), color=color.white) \n",
      "wallL = box(pos=(-6,0,0), size=(0.2, 12, 12), color=color.white) \n",
      "wallU = box(pos=(0,+6,0), size=(12, 0.2, 12), color=color.blue) \n",
      "wallD = box(pos=(0,-6,0), size=(12, 0.2, 12), color=color.blue) \n",
      "wallB = box(pos=(0,0,-6), size=(12, 12, 0.2), color=color.red) \n",
      "\n",
      "balls=[]\n",
      "\n",
      "for i in range(20):\n",
      "    balls.append(sphere(pos=(random.uniform(-5,5),random.uniform(-5,5),random.uniform(-5,5)),radius=0.3,color=(random.random(),random.random(),random.random())))\n",
      "    balls[-1].velocity=vector(random.uniform(-25,25),random.uniform(-25,25),random.uniform(-25,25))\n",
      "    balls[-1].trail=curve(color=balls[-1].color)\n",
      "    \n",
      "deltat = 0.005\n",
      "t=0\n",
      "\n",
      "while t < 10 :\n",
      "    rate(50)\n",
      "    for i in range(len(balls)):\n",
      "        if balls[i].pos.x > wallR.pos.x:\n",
      "            balls[i].velocity.x=-balls[i].velocity.x\n",
      "        if balls[i].pos.x < wallL.pos.x:\n",
      "            balls[i].velocity.x=-balls[i].velocity.x\n",
      "        if balls[i].pos.y > wallU.pos.y:\n",
      "            balls[i].velocity.y=-balls[i].velocity.y\n",
      "        if balls[i].pos.y < wallD.pos.y:\n",
      "            balls[i].velocity.y=-balls[i].velocity.y\n",
      "        if balls[i].pos.z < wallB.pos.z:\n",
      "            balls[i].velocity.z=-balls[i].velocity.z\n",
      "        if balls[i].pos.z > +6:\n",
      "            balls[i].velocity.z=-balls[i].velocity.z\n",
      "            \n",
      "        balls[i].pos=balls[i].pos+balls[i].velocity*deltat\n",
      "        balls[i].trail.append(pos=balls[i].pos)\n",
      "    t=t+deltat\n",
      "        \n",
      "    "
     ],
     "language": "python",
     "metadata": {},
     "outputs": [
      {
       "html": [
        "<div id=\"scene6\"><div id=\"glowscript\" class=\"glowscript\"></div></div>"
       ],
       "metadata": {},
       "output_type": "display_data",
       "text": [
        "<IPython.core.display.HTML at 0x44927b8>"
       ]
      },
      {
       "javascript": [
        "window.__context = { glowscript_container: $(\"#glowscript\").removeAttr(\"id\")}"
       ],
       "metadata": {},
       "output_type": "display_data",
       "text": [
        "<IPython.core.display.Javascript at 0x44295f8>"
       ]
      }
     ],
     "prompt_number": 8
    },
    {
     "cell_type": "code",
     "collapsed": false,
     "input": [],
     "language": "python",
     "metadata": {},
     "outputs": []
    }
   ],
   "metadata": {}
  }
 ]
}