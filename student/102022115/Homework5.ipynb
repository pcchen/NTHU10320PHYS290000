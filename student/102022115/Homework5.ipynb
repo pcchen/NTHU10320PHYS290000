{
 "metadata": {
  "name": "",
  "signature": "sha256:fd8fe3649746aa86b0a719d72b12cc76b3cb0654d362a318ab0013948c5ce236"
 },
 "nbformat": 3,
 "nbformat_minor": 0,
 "worksheets": [
  {
   "cells": [
    {
     "cell_type": "markdown",
     "metadata": {},
     "source": [
      "# Homework 5"
     ]
    },
    {
     "cell_type": "markdown",
     "metadata": {},
     "source": [
      "## Problem 1\n",
      "\n",
      "Consider the damped oscillation\n",
      "$$\n",
      "  \\ddot{x} + 2\\beta\\dot{x} + \\omega^2_0 x =0.\n",
      "$$\n",
      "\n",
      "For a given set of $\\beta$ and $\\omega_0$ and initial conditions $x(0)$ and $\\dot{x}(0)$:\n",
      "* Plot $x(t)$.\n",
      "* Plot $E(t)$.\n",
      "* Plot $dE(t)/dt$.\n",
      "* Plot the phase-path on the $x-\\dot{x}$ plane."
     ]
    },
    {
     "cell_type": "code",
     "collapsed": false,
     "input": [
      "# Problem 1"
     ],
     "language": "python",
     "metadata": {},
     "outputs": [],
     "prompt_number": 1
    },
    {
     "cell_type": "markdown",
     "metadata": {},
     "source": [
      "## Problem 2\n",
      "\n",
      "Consider the driven oscillation\n",
      "$$\n",
      "  \\ddot{x} + 2\\beta\\dot{x} + \\omega^2_0 x = A\\cos(\\omega t).\n",
      "$$\n",
      "\n",
      "For a given set of $\\beta$, $\\omega_0$ and $\\omega$:\n",
      "* Plot quality factor $Q$ as a function of $\\omega$.\n",
      "* Plot phase angle $\\delta$ as a function of $\\omega$.\n",
      "* Use IPython Interact to let the user changes the values of $\\beta$, $\\omega_0$ and $\\omega$."
     ]
    },
    {
     "cell_type": "code",
     "collapsed": false,
     "input": [
      "# Problem 2"
     ],
     "language": "python",
     "metadata": {},
     "outputs": [],
     "prompt_number": 2
    },
    {
     "cell_type": "markdown",
     "metadata": {},
     "source": [
      "## Problem 3\n",
      "\n",
      "Write a definition for a class named `Kangaroo` with the following methods:\n",
      "\n",
      "* An `__init__` method that initializes an attribute named `pouch_contents` to an empty list.\n",
      "* A method named `put_in_pouch` that takes an object of any type and adds it to `pouch_contents`.\n",
      "* A `__str__` method that returns a string representation of the Kangaroo object and the contents of the pouch.\n",
      "\n",
      "Test your code by creating two Kangaroo objects, assigning them to variables named `kanga` and `roo`, and then adding `roo` to the contents of `kanga`\u2019s pouch"
     ]
    },
    {
     "cell_type": "code",
     "collapsed": false,
     "input": [
      "# Problme 3"
     ],
     "language": "python",
     "metadata": {},
     "outputs": [],
     "prompt_number": 3
    },
    {
     "cell_type": "markdown",
     "metadata": {},
     "source": [
      "## Problem 4\n",
      "\n",
      "Write a `__cmp__` method for `Time` objects. "
     ]
    },
    {
     "cell_type": "code",
     "collapsed": false,
     "input": [
      "# Problem 4"
     ],
     "language": "python",
     "metadata": {},
     "outputs": [],
     "prompt_number": 4
    },
    {
     "cell_type": "markdown",
     "metadata": {},
     "source": [
      "## Problem 5\n",
      "\n",
      "Write a `Deck` method named `sort` that uses the list method `sort` to sort the cards in a `Deck`. `sort` uses the `__cmp__` method we defined to determine sort order."
     ]
    },
    {
     "cell_type": "code",
     "collapsed": false,
     "input": [
      "# Problem 5"
     ],
     "language": "python",
     "metadata": {},
     "outputs": [],
     "prompt_number": 5
    },
    {
     "cell_type": "markdown",
     "metadata": {},
     "source": [
      "## Problem 6\n",
      "\n",
      "The following are the possible hands in poker, in increasing order of value (and decreasing order of probability):\n",
      "\n",
      "**pair:**\n",
      "two cards with the same rank\n",
      "\n",
      "**two pair:**\n",
      "two pairs of cards with the same rank\n",
      "\n",
      "**three of a kind:**\n",
      "three cards with the same rank\n",
      "\n",
      "**straight:**\n",
      "five cards with ranks in sequence (aces can be high or low, so Ace-2-3-4-5 is a straight and so is 10-Jack-Queen-King-Ace, but Queen-King-Ace-2-3 is not.)\n",
      "\n",
      "**flush:**\n",
      "five cards with the same suit\n",
      "\n",
      "**full house:**\n",
      "three cards with one rank, two cards with another\n",
      "\n",
      "**four of a kind:**\n",
      "four cards with the same rank\n",
      "\n",
      "**straight flush:**\n",
      "five cards in sequence (as defined above) and with the same suit\n",
      "\n",
      "**Modify** the following codes.\n",
      "\n",
      "Add methods to `PokerHand` class named `has_pair`, `has_twopair`, etc. that return `True` or `False` according to whether or not the hand meets the relevant criteria. Your code should work correctly for \u201chands\u201d that contain any number of cards (although 5 and 7 are the most common sizes)"
     ]
    },
    {
     "cell_type": "code",
     "collapsed": false,
     "input": [
      "import random\n",
      "\n",
      "\n",
      "class Card(object):\n",
      "    \"\"\"Represents a standard playing card.\n",
      "    \n",
      "    Attributes:\n",
      "      suit: integer 0-3\n",
      "      rank: integer 1-13\n",
      "    \"\"\"\n",
      "\n",
      "    suit_names = [\"Clubs\", \"Diamonds\", \"Hearts\", \"Spades\"]\n",
      "    rank_names = [None, \"Ace\", \"2\", \"3\", \"4\", \"5\", \"6\", \"7\", \n",
      "              \"8\", \"9\", \"10\", \"Jack\", \"Queen\", \"King\"]\n",
      "\n",
      "    def __init__(self, suit=0, rank=2):\n",
      "        self.suit = suit\n",
      "        self.rank = rank\n",
      "\n",
      "    def __str__(self):\n",
      "        \"\"\"Returns a human-readable string representation.\"\"\"\n",
      "        return '%s of %s' % (Card.rank_names[self.rank],\n",
      "                             Card.suit_names[self.suit])\n",
      "\n",
      "    def __cmp__(self, other):\n",
      "        \"\"\"Compares this card to other, first by suit, then rank.\n",
      "\n",
      "        Returns a positive number if this > other; negative if other > this;\n",
      "        and 0 if they are equivalent.\n",
      "        \"\"\"\n",
      "        t1 = self.suit, self.rank\n",
      "        t2 = other.suit, other.rank\n",
      "        return cmp(t1, t2)\n",
      "\n",
      "\n",
      "class Deck(object):\n",
      "    \"\"\"Represents a deck of cards.\n",
      "\n",
      "    Attributes:\n",
      "      cards: list of Card objects.\n",
      "    \"\"\"\n",
      "    \n",
      "    def __init__(self):\n",
      "        self.cards = []\n",
      "        for suit in range(4):\n",
      "            for rank in range(1, 14):\n",
      "                card = Card(suit, rank)\n",
      "                self.cards.append(card)\n",
      "\n",
      "    def __str__(self):\n",
      "        res = []\n",
      "        for card in self.cards:\n",
      "            res.append(str(card))\n",
      "        return '\\n'.join(res)\n",
      "\n",
      "    def add_card(self, card):\n",
      "        \"\"\"Adds a card to the deck.\"\"\"\n",
      "        self.cards.append(card)\n",
      "\n",
      "    def remove_card(self, card):\n",
      "        \"\"\"Removes a card from the deck.\"\"\"\n",
      "        self.cards.remove(card)\n",
      "\n",
      "    def pop_card(self, i=-1):\n",
      "        \"\"\"Removes and returns a card from the deck.\n",
      "\n",
      "        i: index of the card to pop; by default, pops the last card.\n",
      "        \"\"\"\n",
      "        return self.cards.pop(i)\n",
      "\n",
      "    def shuffle(self):\n",
      "        \"\"\"Shuffles the cards in this deck.\"\"\"\n",
      "        random.shuffle(self.cards)\n",
      "\n",
      "    def sort(self):\n",
      "        \"\"\"Sorts the cards in ascending order.\"\"\"\n",
      "        self.cards.sort()\n",
      "\n",
      "    def move_cards(self, hand, num):\n",
      "        \"\"\"Moves the given number of cards from the deck into the Hand.\n",
      "\n",
      "        hand: destination Hand object\n",
      "        num: integer number of cards to move\n",
      "        \"\"\"\n",
      "        for i in range(num):\n",
      "            hand.add_card(self.pop_card())\n",
      "\n",
      "\n",
      "class Hand(Deck):\n",
      "    \"\"\"Represents a hand of playing cards.\"\"\"\n",
      "    \n",
      "    def __init__(self, label=''):\n",
      "        self.cards = []\n",
      "        self.label = label\n",
      "        \n",
      "class PokerHand(Hand):\n",
      "\n",
      "    def suit_hist(self):\n",
      "        \"\"\"Builds a histogram of the suits that appear in the hand.\n",
      "\n",
      "        Stores the result in attribute suits.\n",
      "        \"\"\"\n",
      "        self.suits = {}\n",
      "        for card in self.cards:\n",
      "            self.suits[card.suit] = self.suits.get(card.suit, 0) + 1\n",
      "\n",
      "    def has_flush(self):\n",
      "        \"\"\"Returns True if the hand has a flush, False otherwise.\n",
      "      \n",
      "        Note that this works correctly for hands with more than 5 cards.\n",
      "        \"\"\"\n",
      "        self.suit_hist()\n",
      "        for val in self.suits.values():\n",
      "            if val >= 5:\n",
      "                return True\n",
      "        return False"
     ],
     "language": "python",
     "metadata": {},
     "outputs": [],
     "prompt_number": 6
    },
    {
     "cell_type": "code",
     "collapsed": false,
     "input": [
      "# Problem 6"
     ],
     "language": "python",
     "metadata": {},
     "outputs": [],
     "prompt_number": 7
    }
   ],
   "metadata": {}
  }
 ]
}