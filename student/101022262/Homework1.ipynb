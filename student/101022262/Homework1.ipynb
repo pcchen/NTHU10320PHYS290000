{
 "metadata": {
  "name": "",
  "signature": "sha256:ef4b4da06b968942e95970503815198414a868bd30af014baea1c0660288de40"
 },
 "nbformat": 3,
 "nbformat_minor": 0,
 "worksheets": [
  {
   "cells": [
    {
     "cell_type": "markdown",
     "metadata": {},
     "source": [
      "# Homework 1"
     ]
    },
    {
     "cell_type": "markdown",
     "metadata": {},
     "source": [
      "## Problem 1.1\n",
      "\n",
      "Write some code that prints the words `Hello, World'."
     ]
    },
    {
     "cell_type": "code",
     "collapsed": false,
     "input": [
      "print \"Hello, World!\""
     ],
     "language": "python",
     "metadata": {},
     "outputs": [
      {
       "output_type": "stream",
       "stream": "stdout",
       "text": [
        "Hello, World!\n"
       ]
      }
     ],
     "prompt_number": 1
    },
    {
     "cell_type": "markdown",
     "metadata": {},
     "source": [
      "## Problem 1.2\n",
      "\n",
      "Python provides a built-in function called `len` that returns the length of a string, so the value of `len('allen')` is `5`.\n",
      "\n",
      "Write a function named `right_justify` that takes a string named `s` as a parameter and prints the string with enough leading spaces so that the last letter of the string is in column 70 of the display.\n",
      "\n",
      "Write some code to demonstrate the usage of your `right_justify` function.\n",
      "\n",
      "``\n",
      "right_justify('allen')\n",
      "                                                                 allen\n",
      "right_justify('homework')\n",
      "                                                              homework\n",
      "right_justify('cat')\n",
      "                                                                   cat\n",
      "``"
     ]
    },
    {
     "cell_type": "code",
     "collapsed": false,
     "input": [
      "def right_justify(name):\n",
      "    length = len(name)\n",
      "    print \" \"*(70-length) + name\n",
      "right_justify(\"Patrick\")"
     ],
     "language": "python",
     "metadata": {},
     "outputs": [
      {
       "output_type": "stream",
       "stream": "stdout",
       "text": [
        "                                                               Patrick\n"
       ]
      }
     ],
     "prompt_number": 11
    },
    {
     "cell_type": "markdown",
     "metadata": {},
     "source": [
      "## Problem 1.3\n",
      "\n",
      "### Exercise 3.4 \n",
      "\n",
      "A **function object** is a value you can assign to a variable or pass as an argument. For example, `do_twice` is a function that takes a function object as an argument and calls it twice:\n",
      "\n",
      "``\n",
      "def do_twice(f):\n",
      "    f()\n",
      "    f()\n",
      "``\n",
      "\n",
      "Here\u2019s an example that uses `do_twice` to call a function named `print_spam` twice.\n",
      "\n",
      "``def print_spam():\n",
      "    print 'spam'``\n",
      "\n",
      "``    \n",
      "do_twice(print_spam)\n",
      "``\n",
      "\n",
      "1. Type this example into a script and test it.\n",
      "2. Modify `do_twice` so that it takes two arguments, a function object and a value, and calls the function twice, passing the value as an argument.\n",
      "3. Write a more general version of `print_spam`, called `print_twice`, that takes a string as a parameter and prints it twice.\n",
      "4. Use the modified version of `do_twice` to call `print_twice` twice, passing `'spam'` as an argument.\n",
      "5. Define a new function called `do_four` that takes a function object and a value and calls the function four times, passing the value as a parameter. There should be only two statements in the body of this function, not four.\n",
      "\n",
      "Write some code to demonstrate the usage above functions."
     ]
    },
    {
     "cell_type": "code",
     "collapsed": false,
     "input": [
      "def do_twice(f, n):       #take a function and call it twice\n",
      "    f(n)\n",
      "    f(n)\n",
      "def print_twice(string):     #print the argument twice\n",
      "    print string \n",
      "    print string\n",
      "do_twice(print_twice, \"spam\")    #test for do_twice function\n",
      "def do_four(function, value):   #take a function and call it four times\n",
      "    do_twice(function,value)\n",
      "    do_twice(function,value)    #with the help of do_twice funtion, it's much simpler\n",
      "do_four(print_twice,\"OK\")       #test for do_four function    \n",
      "    "
     ],
     "language": "python",
     "metadata": {},
     "outputs": [
      {
       "output_type": "stream",
       "stream": "stdout",
       "text": [
        "spam\n",
        "spam\n",
        "spam\n",
        "spam\n",
        "OK\n",
        "OK\n",
        "OK\n",
        "OK\n",
        "OK\n",
        "OK\n",
        "OK\n",
        "OK\n"
       ]
      }
     ],
     "prompt_number": 16
    },
    {
     "cell_type": "markdown",
     "metadata": {},
     "source": [
      "## Problem 1.4\n",
      "\n",
      "*This exercise can be done using only the statements and other features we have learned so far.*\n",
      "\n",
      "(1) Write a function that draws a grid like the following:\n",
      "\n",
      "\n",
      "    + - - - - + - - - - +\n",
      "    |         |         |\n",
      "    |         |         |\n",
      "    |         |         |\n",
      "    |         |         |\n",
      "    + - - - - + - - - - +\n",
      "    |         |         |\n",
      "    |         |         |\n",
      "    |         |         |\n",
      "    |         |         |\n",
      "    + - - - - + - - - - +\n",
      "\n",
      "\n",
      "Hint: to print more than one value on a line, you can print a comma-separated sequence:\n",
      "\n",
      "    print '+', '-'\n",
      "\n",
      "If the sequence ends with a comma, Python leaves the line unfinished, so the value printed next appears on the same line.\n",
      "\n",
      "\n",
      "    print '+', \n",
      "    print '-'\n",
      "\n",
      "The output of these statements is `'+ -'`.\n",
      "\n",
      "A `print` statement all by itself ends the current line and goes to the next line.\n",
      "\n",
      "(2) Write a function that draws a similar grid with four rows and four columns."
     ]
    },
    {
     "cell_type": "code",
     "collapsed": false,
     "input": [
      "def top():\n",
      "    segment = '+','- '*4\n",
      "    segment1 = segment*3\n",
      "    print segment1 + '+'\n",
      "top()\n"
     ],
     "language": "python",
     "metadata": {},
     "outputs": [
      {
       "ename": "TypeError",
       "evalue": "can only concatenate tuple (not \"str\") to tuple",
       "output_type": "pyerr",
       "traceback": [
        "\u001b[1;31m---------------------------------------------------------------------------\u001b[0m\n\u001b[1;31mTypeError\u001b[0m                                 Traceback (most recent call last)",
        "\u001b[1;32m<ipython-input-12-aed6dcdcab88>\u001b[0m in \u001b[0;36m<module>\u001b[1;34m()\u001b[0m\n\u001b[0;32m      3\u001b[0m     \u001b[0msegment1\u001b[0m \u001b[1;33m=\u001b[0m \u001b[0msegment\u001b[0m\u001b[1;33m*\u001b[0m\u001b[1;36m3\u001b[0m\u001b[1;33m\u001b[0m\u001b[0m\n\u001b[0;32m      4\u001b[0m     \u001b[1;32mprint\u001b[0m \u001b[0msegment1\u001b[0m \u001b[1;33m+\u001b[0m\u001b[1;34m'+'\u001b[0m\u001b[1;33m\u001b[0m\u001b[0m\n\u001b[1;32m----> 5\u001b[1;33m \u001b[0mtop\u001b[0m\u001b[1;33m(\u001b[0m\u001b[1;33m)\u001b[0m\u001b[1;33m\u001b[0m\u001b[0m\n\u001b[0m",
        "\u001b[1;32m<ipython-input-12-aed6dcdcab88>\u001b[0m in \u001b[0;36mtop\u001b[1;34m()\u001b[0m\n\u001b[0;32m      2\u001b[0m     \u001b[0msegment\u001b[0m \u001b[1;33m=\u001b[0m \u001b[1;34m'+'\u001b[0m\u001b[1;33m,\u001b[0m\u001b[1;34m'- '\u001b[0m\u001b[1;33m*\u001b[0m\u001b[1;36m4\u001b[0m\u001b[1;33m\u001b[0m\u001b[0m\n\u001b[0;32m      3\u001b[0m     \u001b[0msegment1\u001b[0m \u001b[1;33m=\u001b[0m \u001b[0msegment\u001b[0m\u001b[1;33m*\u001b[0m\u001b[1;36m3\u001b[0m\u001b[1;33m\u001b[0m\u001b[0m\n\u001b[1;32m----> 4\u001b[1;33m     \u001b[1;32mprint\u001b[0m \u001b[0msegment1\u001b[0m \u001b[1;33m+\u001b[0m\u001b[1;34m'+'\u001b[0m\u001b[1;33m\u001b[0m\u001b[0m\n\u001b[0m\u001b[0;32m      5\u001b[0m \u001b[0mtop\u001b[0m\u001b[1;33m(\u001b[0m\u001b[1;33m)\u001b[0m\u001b[1;33m\u001b[0m\u001b[0m\n",
        "\u001b[1;31mTypeError\u001b[0m: can only concatenate tuple (not \"str\") to tuple"
       ]
      }
     ],
     "prompt_number": 12
    },
    {
     "cell_type": "markdown",
     "metadata": {},
     "source": [
      "## Problem 1.5\n",
      "\n",
      "Write a **resursive function** called `do_n` that takes a function object and a number, `n`, as arguments, and that calls the given function n times."
     ]
    },
    {
     "cell_type": "code",
     "collapsed": false,
     "input": [
      "def do_n(f,number):\n",
      "    f()*number\n",
      "def sample():\n",
      "    print \"Hello\"\n",
      "sample()\n",
      "do_n(sample, 5)"
     ],
     "language": "python",
     "metadata": {},
     "outputs": [
      {
       "output_type": "stream",
       "stream": "stdout",
       "text": [
        "Hello\n",
        "Hello\n"
       ]
      },
      {
       "ename": "TypeError",
       "evalue": "unsupported operand type(s) for ** or pow(): 'NoneType' and 'int'",
       "output_type": "pyerr",
       "traceback": [
        "\u001b[1;31m---------------------------------------------------------------------------\u001b[0m\n\u001b[1;31mTypeError\u001b[0m                                 Traceback (most recent call last)",
        "\u001b[1;32m<ipython-input-22-83364b4352ec>\u001b[0m in \u001b[0;36m<module>\u001b[1;34m()\u001b[0m\n\u001b[0;32m      4\u001b[0m     \u001b[1;32mprint\u001b[0m \u001b[1;34m\"Hello\"\u001b[0m\u001b[1;33m\u001b[0m\u001b[0m\n\u001b[0;32m      5\u001b[0m \u001b[0msample\u001b[0m\u001b[1;33m(\u001b[0m\u001b[1;33m)\u001b[0m\u001b[1;33m\u001b[0m\u001b[0m\n\u001b[1;32m----> 6\u001b[1;33m \u001b[0mdo_n\u001b[0m\u001b[1;33m(\u001b[0m\u001b[0msample\u001b[0m\u001b[1;33m,\u001b[0m \u001b[1;36m5\u001b[0m\u001b[1;33m)\u001b[0m\u001b[1;33m\u001b[0m\u001b[0m\n\u001b[0m",
        "\u001b[1;32m<ipython-input-22-83364b4352ec>\u001b[0m in \u001b[0;36mdo_n\u001b[1;34m(f, number)\u001b[0m\n\u001b[0;32m      1\u001b[0m \u001b[1;32mdef\u001b[0m \u001b[0mdo_n\u001b[0m\u001b[1;33m(\u001b[0m\u001b[0mf\u001b[0m\u001b[1;33m,\u001b[0m\u001b[0mnumber\u001b[0m\u001b[1;33m)\u001b[0m\u001b[1;33m:\u001b[0m\u001b[1;33m\u001b[0m\u001b[0m\n\u001b[1;32m----> 2\u001b[1;33m     \u001b[0mf\u001b[0m\u001b[1;33m(\u001b[0m\u001b[1;33m)\u001b[0m\u001b[1;33m**\u001b[0m\u001b[0mnumber\u001b[0m\u001b[1;33m\u001b[0m\u001b[0m\n\u001b[0m\u001b[0;32m      3\u001b[0m \u001b[1;32mdef\u001b[0m \u001b[0msample\u001b[0m\u001b[1;33m(\u001b[0m\u001b[1;33m)\u001b[0m\u001b[1;33m:\u001b[0m\u001b[1;33m\u001b[0m\u001b[0m\n\u001b[0;32m      4\u001b[0m     \u001b[1;32mprint\u001b[0m \u001b[1;34m\"Hello\"\u001b[0m\u001b[1;33m\u001b[0m\u001b[0m\n\u001b[0;32m      5\u001b[0m \u001b[0msample\u001b[0m\u001b[1;33m(\u001b[0m\u001b[1;33m)\u001b[0m\u001b[1;33m\u001b[0m\u001b[0m\n",
        "\u001b[1;31mTypeError\u001b[0m: unsupported operand type(s) for ** or pow(): 'NoneType' and 'int'"
       ]
      }
     ],
     "prompt_number": 22
    },
    {
     "cell_type": "markdown",
     "metadata": {},
     "source": [
      "## Problem 1.6\n",
      "\n",
      "Write some code that asks the user for the Cartesian coordinates $x$,$y$ of a point in 2D space, and calculate the print the corresponding polar coordinates, with the angle $\\theta$ given in degrees."
     ]
    },
    {
     "cell_type": "code",
     "collapsed": false,
     "input": [
      "from math import *\n",
      "def polarform(x,y):\n",
      "    r = sqrt(x**2+y**2)\n",
      "    \n",
      "    slope = float(y/x)\n",
      "    rad = atan(slope)\n",
      "   \n",
      "    angle = 180/pi*rad\n",
      "    \n",
      "    print \"Cartesian\" + \" -->\" + str(x)+ \",\"+ str(y)\n",
      "    print \"Polar\" + \"-->\" + str(r) + \",\" + str(angle)\n",
      "polarform(3,4)\n"
     ],
     "language": "python",
     "metadata": {},
     "outputs": [
      {
       "output_type": "stream",
       "stream": "stdout",
       "text": [
        "Cartesian -->3,4\n",
        "Polar-->5.0,45.0\n"
       ]
      }
     ],
     "prompt_number": 6
    },
    {
     "cell_type": "markdown",
     "metadata": {},
     "source": [
      "## Problem 1.7\n",
      "\n",
      "Fermat\u2019s Last Theorem says that there are no positive integers $a$, $b$, and $c$ such that\n",
      "\n",
      "$$\n",
      "  a^n + b^n = c^n \n",
      "$$\n",
      "for any values of $n$ greater than 2.\n",
      "\n",
      "1. Write a function named `check_fermat` that takes four parameters\u2014`a`, `b`, `c` and `n`\u2014and that checks to see if Fermat\u2019s theorem holds.\n",
      " * If `n` is greater than 2 and it turns out to be true that $a^n + b^n = c^n$ \n",
      "the program should print, \u201cHoly smokes, Fermat was wrong!\u201d.\n",
      " * Otherwise the program should print, \u201cNo, that doesn\u2019t work.\u201d\n",
      "\n",
      "2. Write a function that prompts the user to input values for `a`, `b`, `c` and `n`, converts them to integers, and uses `check_fermat` to check whether they violate Fermat\u2019s theorem.\n",
      "\n"
     ]
    },
    {
     "cell_type": "code",
     "collapsed": false,
     "input": [
      "# Problem 1.7"
     ],
     "language": "python",
     "metadata": {},
     "outputs": [],
     "prompt_number": 7
    },
    {
     "cell_type": "markdown",
     "metadata": {},
     "source": [
      "## Problem 1.8\n",
      "\n",
      "If you are given three sticks, you may or may not be able to arrange them in a triangle. For example, if one of the sticks is 12 inches long and the other two are one inch long, it is clear that you will not be able to get the short sticks to meet in the middle. For any three lengths, there is a simple test to see if it is possible to form a triangle:\n",
      "\n",
      "> If any of the three lengths is greater than the sum of the other two, then you cannot form a triangle. Otherwise, you can. \n",
      "> (If the sum of two lengths equals the third, they form what is called a \u201cdegenerate\u201d triangle.)\n",
      "\n",
      "1. Write a function named `is_triangle` that takes three integers as arguments, and that prints either \u201cYes\u201d or \u201cNo,\u201d depending on whether you can or cannot form a triangle from sticks with the given lengths.\n",
      "\n",
      "2. Write a function that prompts the user to input three stick lengths, converts them to integers, and uses `is_triangle` to check whether sticks with the given lengths can form a triangle"
     ]
    },
    {
     "cell_type": "code",
     "collapsed": false,
     "input": [
      "# Problem 1.8"
     ],
     "language": "python",
     "metadata": {},
     "outputs": [],
     "prompt_number": 8
    },
    {
     "cell_type": "markdown",
     "metadata": {},
     "source": [
      "## Problem 1.9\n",
      "\n",
      "Write a compare function that returns 1 if x > y, 0 if x == y, and -1 if x < y."
     ]
    },
    {
     "cell_type": "code",
     "collapsed": false,
     "input": [
      "# Problem 1.9"
     ],
     "language": "python",
     "metadata": {},
     "outputs": [],
     "prompt_number": 9
    },
    {
     "cell_type": "markdown",
     "metadata": {},
     "source": [
      "## Problem 1.10\n",
      "\n",
      "The Ackermann function, $A(m, n)$, is defined:\n",
      "\n",
      "$$\n",
      "\\begin{eqnarray*}\n",
      "A(m, n) = \\begin{cases}\n",
      "              n+1 & \\mbox{if } m = 0 \\\\\n",
      "        A(m-1, 1) & \\mbox{if } m > 0 \\mbox{ and } n = 0 \\\\\n",
      "A(m-1, A(m, n-1)) & \\mbox{if } m > 0 \\mbox{ and } n > 0.\n",
      "\\end{cases}\n",
      "\\end{eqnarray*}\n",
      "$$\n",
      "\n",
      "See http://en.wikipedia.org/wiki/Ackermann_function.\n",
      "* Write a function named ack that evaluates Ackermann\u2019s function. \n",
      "* Use your function to evaluate $ack(3, 4)$, which should be 125.\n",
      "* What happens for larger values of m and n?"
     ]
    },
    {
     "cell_type": "code",
     "collapsed": false,
     "input": [
      "# Problem 1.10"
     ],
     "language": "python",
     "metadata": {},
     "outputs": [],
     "prompt_number": 10
    },
    {
     "cell_type": "markdown",
     "metadata": {},
     "source": [
      "## Problem 1.11\n",
      "\n",
      "A number, a, is a power of b if it is divisible by b and a/b is a power of b. Write a function called `is_power` that takes parameters a and b and returns True if a is a power of b. Note: you will have to think about the base case."
     ]
    },
    {
     "cell_type": "code",
     "collapsed": false,
     "input": [
      "# Problem 1.11"
     ],
     "language": "python",
     "metadata": {},
     "outputs": [],
     "prompt_number": 11
    },
    {
     "cell_type": "markdown",
     "metadata": {},
     "source": [
      "## Problem 1.12\n",
      "\n",
      "The greatest common divisor (GCD) of a and b is the largest number that divides both of them with no remainder.\n",
      "\n",
      "One way to find the GCD of two numbers is based on the observation that if r is the remainder when a is divided by b, then gcd(a, b) = gcd(b, r). As a base case, we can use gcd(a, 0) = a.\n",
      "\n",
      "Write a function called `gcd` that takes parameters a and b and returns their greatest common divisor."
     ]
    },
    {
     "cell_type": "code",
     "collapsed": false,
     "input": [
      "# Problem 1.12"
     ],
     "language": "python",
     "metadata": {},
     "outputs": [],
     "prompt_number": 12
    }
   ],
   "metadata": {}
  }
 ]
}