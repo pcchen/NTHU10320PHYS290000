{
 "metadata": {
  "name": "",
  "signature": "sha256:6c21926f537078ed5b70da762e0075dd7707cf3de85546cee62d010d76e09881"
 },
 "nbformat": 3,
 "nbformat_minor": 0,
 "worksheets": [
  {
   "cells": [
    {
     "cell_type": "markdown",
     "metadata": {},
     "source": [
      "# Problem 2:\n",
      "# Sorting a List\n",
      "\n",
      "In this problem you should\n",
      "* Implement the **selection sort** algorithm.\n",
      "* Implement the **insertion sort** algorithm.\n",
      "* Create a list of N-elements where each element is a random integer between 0, 1, 2, ..., N-1.\n",
      "* Use your implementation of the selection sort and insertion sort to sort the the random list above.\n",
      "* Use built-in function `sorted()` that builds a new sorted list to show that your implementation is correct.\n",
      "\n",
      "## Selection sort\n",
      "\n",
      "Following is the algorithm of the **selection sort**:\n",
      "\n",
      "* Divide the input list into two sub-lists:\n",
      " * Sorted sub-list (Start with an empty list).\n",
      " * Un-Sorted sub-list.\n",
      "* Find the smallest element in the unsorted list.\n",
      "* Swap with the leftmost unsorted element.\n",
      "* Move the sub-list boundaries.\n",
      "\n",
      "Following is an example of selection sort:\n",
      "<img src=\"SelectionSort.png\" width=\"800\">\n",
      "\n",
      "## Insertion sort\n",
      "\n",
      "Following is the algorithm of the **insertion sort**:\n",
      "\n",
      "* Divide the input list into two sub-lists:\n",
      " * Sorted sub-list (Start with the leftmost element).\n",
      " * Un-Sorted sub-list.\n",
      "* Insert the leftmost element of the unsorted sub-list into the proper position of the sorted sub-list.\n",
      "* Move the sub-list boundaries \n",
      "\n",
      "Following is an example of selection sort:\n",
      "<img src=\"InsertionSort.png\" width=\"800\">"
     ]
    },
    {
     "cell_type": "markdown",
     "metadata": {},
     "source": [
      "Please write your code based on the sketch below and use the test code below to show that your function works properly."
     ]
    },
    {
     "cell_type": "code",
     "collapsed": false,
     "input": [
      "from random import *\n",
      "\n",
      "# create a random list with N elements\n",
      "def random_list(N):\n",
      "    a=[]\n",
      "    for i in range(1,N+1):\n",
      "        a.append(randint(0, N-1))\n",
      "    randint(1, N)\n",
      "    return a\n",
      "\n",
      "# selection sort\n",
      "def selection_sort(my_list):\n",
      "    \n",
      "    for pos_upper in xrange( len(my_list)-1, 0, -1):\n",
      "        \n",
      "        max_pos = 0\n",
      "        for i in xrange(1, pos_upper + 1):\n",
      "            if(my_list[i] > my_list[max_pos]):\n",
      "                max_pos = i\n",
      "                \n",
      "        my_list[pos_upper], my_list[max_pos] = my_list[max_pos], my_list[pos_upper]\n",
      "        \n",
      "    return my_list\n",
      "       \n",
      "    \n",
      "            \n",
      "# insertion sort\n",
      "def insertion_sort(my_list):\n",
      "    for i in range(1, len(my_list)):\n",
      "        val = my_list[i]\n",
      "        j = i - 1\n",
      "        while (j >= 0) and (my_list[j] > val):\n",
      "            my_list[j+1] = my_list[j]\n",
      "            j = j - 1\n",
      "        my_list[j+1] = val\n",
      "    return my_list\n",
      "s=random_list(10)\n",
      "print s\n",
      "\n",
      "print selection_sort(s)\n",
      "print insertion_sort(s)\n"
     ],
     "language": "python",
     "metadata": {},
     "outputs": [
      {
       "output_type": "stream",
       "stream": "stdout",
       "text": [
        "[1, 6, 8, 3, 6, 8, 5, 1, 7, 5]\n",
        "[1, 1, 3, 5, 5, 6, 6, 7, 8, 8]\n",
        "[1, 1, 3, 5, 5, 6, 6, 7, 8, 8]\n"
       ]
      }
     ],
     "prompt_number": 24
    },
    {
     "cell_type": "code",
     "collapsed": false,
     "input": [
      "# test the implementation of selection sort\n",
      "N = 10\n",
      "L = random_list(N)\n",
      "L_sorted = sorted(L)\n",
      "selection_sort(L)\n",
      "\n",
      "for i in range(len(L)):\n",
      "    if L[i] != L_sorted[i]:\n",
      "        print 'oops!'    "
     ],
     "language": "python",
     "metadata": {},
     "outputs": [],
     "prompt_number": 25
    },
    {
     "cell_type": "code",
     "collapsed": false,
     "input": [
      "# test the implementation of insertion sort\n",
      "N = 10\n",
      "L = random_list(N)\n",
      "L_sorted = sorted(L)\n",
      "insertion_sort(L)\n",
      "\n",
      "for i in range(len(L)):\n",
      "    if L[i] != L_sorted[i]:\n",
      "        print 'oops!'    "
     ],
     "language": "python",
     "metadata": {},
     "outputs": [],
     "prompt_number": 26
    },
    {
     "cell_type": "code",
     "collapsed": false,
     "input": [],
     "language": "python",
     "metadata": {},
     "outputs": []
    }
   ],
   "metadata": {}
  }
 ]
}