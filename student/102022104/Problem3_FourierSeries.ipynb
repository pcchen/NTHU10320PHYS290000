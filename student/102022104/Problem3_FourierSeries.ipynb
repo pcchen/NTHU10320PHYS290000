{
 "metadata": {
  "name": "",
  "signature": "sha256:5952530c2bf901285ef7617cae4b1f6de3524e5ebba3dd2d1a8312d2737062a4"
 },
 "nbformat": 3,
 "nbformat_minor": 0,
 "worksheets": [
  {
   "cells": [
    {
     "cell_type": "markdown",
     "metadata": {},
     "source": [
      "# Problem 3:\n",
      "# Fourier Series\n",
      "\n",
      "The $N$-th order Fourier series of a period function $f(x)$ of period $L$ is defined as\n",
      "\n",
      "$$\n",
      "  FS(N,x) \\equiv \\frac{a_0}{2} + \\sum_{r=1}^{N} \n",
      "  \\left[\n",
      "    a_r \\cos\\left(\\frac{2\\pi r x}{L}\\right) + b_r \\sin\\left(\\frac{2\\pi r x}{L}\\right)\n",
      "  \\right],\n",
      "$$\n",
      "where \n",
      "\n",
      "$$\n",
      "  a_r = \\frac{2}{L} \\int_{x_0}^{x_0+L} f(x) \\cos\\left(\\frac{2\\pi r x}{L} \\right) dx, \\; \\;\n",
      "  b_r = \\frac{2}{L} \\int_{x_0}^{x_0+L} f(x) \\sin\\left(\\frac{2\\pi r x}{L} \\right) dx.\n",
      "$$\n",
      "\n",
      "In this problem, you should \n",
      "* Implement the $N$-th order Fourier series of the square-wave function:\n",
      "$$\n",
      "  f(x) = \n",
      " \\begin{cases} \n",
      " -1 & -\\frac{T}{2} \\le t < 0 \\\\ \n",
      " +1 & 0 \\le t < \\frac{T}{2}.\n",
      " \\end{cases}\n",
      "$$\n",
      "* Plot $f(x), FS(10,x), FS(50,x), FS(100,x)$ with $x \\in [-0.2 T,+0.2 T]$ and $y \\in [-1.5, 1.5]$.\n",
      "* Use IPython Interact to let user adjust $N$ in the range of $N=1, \\cdots 100$ and plot $f(x)$ and $FS(N,x)$.\n",
      "\n",
      "Please write your code based on the sketch below"
     ]
    },
    {
     "cell_type": "markdown",
     "metadata": {},
     "source": [
      "## Part 1"
     ]
    },
    {
     "cell_type": "code",
     "collapsed": false,
     "input": [
      "%pylab inline\n",
      "import numpy as np"
     ],
     "language": "python",
     "metadata": {},
     "outputs": [
      {
       "output_type": "stream",
       "stream": "stdout",
       "text": [
        "Populating the interactive namespace from numpy and matplotlib\n"
       ]
      }
     ],
     "prompt_number": 1
    },
    {
     "cell_type": "code",
     "collapsed": false,
     "input": [
      "# create your functions\n",
      "import numpy as np\n",
      "\n",
      "def f(t):\n",
      "    if t >= 1.0 or t <= -1.0:\n",
      "        return 0\n",
      "    else:\n",
      "        if 0<t<1:\n",
      "            return 1\n",
      "        if -1<t<=0:\n",
      "            return -1\n",
      "time = np.linspace(-1, 1, 500)\n",
      "y = zeros(len(time))\n",
      "for i in xrange(len(time)):\n",
      "    y[i] = f(time[i])\n",
      "fig = figure()\n",
      "plot(time, y)\n",
      "\n",
      "\n",
      "period = 2.\n",
      "\n",
      "def FS(N, t):\n",
      "    def coe(n):\n",
      "        c = y*np.exp(-1j*2*n*np.pi*time/period)\n",
      "        return c.sum()/c.size\n",
      "    f = np.array([2*coe(i)*np.exp(1j*2*i*np.pi*t/period) for i in range(1,N+1)])\n",
      "    return f.sum()\n",
      "y2 = np.array([FS(10,t).real for t in time])\n",
      "y3 = np.array([FS(50,t).real for t in time])\n",
      "y4 = np.array([FS(100,t).real for t in time])\n",
      "plot(time, y2)\n",
      "plot(time, y3)\n",
      "plot(time, y4)\n",
      "\n",
      "show()\n",
      "\n",
      "# I draw all the function in one figure(one period)\n"
     ],
     "language": "python",
     "metadata": {},
     "outputs": [
      {
       "metadata": {},
       "output_type": "display_data",
       "png": "[encoded data removed]",
       "text": [
        "<matplotlib.figure.Figure at 0xb1e3550>"
       ]
      }
     ],
     "prompt_number": 43
    },
    {
     "cell_type": "markdown",
     "metadata": {},
     "source": [
      "## Part2"
     ]
    },
    {
     "cell_type": "code",
     "collapsed": false,
     "input": [
      "from IPython.html.widgets import interact"
     ],
     "language": "python",
     "metadata": {},
     "outputs": [],
     "prompt_number": 46
    },
    {
     "cell_type": "code",
     "collapsed": false,
     "input": [
      "# create your ipython interact"
     ],
     "language": "python",
     "metadata": {},
     "outputs": []
    },
    {
     "cell_type": "code",
     "collapsed": false,
     "input": [
      "import numpy as np\n",
      "\n",
      "def f(t):\n",
      "    if t >= 1.0 or t <= -1.0:\n",
      "        return 0\n",
      "    else:\n",
      "        if 0<t<1:\n",
      "            return 1\n",
      "        if -1<t<=0:\n",
      "            return -1\n",
      "time = np.linspace(-1, 1, 500)\n",
      "y = zeros(len(time))\n",
      "for i in xrange(len(time)):\n",
      "    y[i] = f(time[i])\n",
      "\n",
      "period = 2.\n",
      "\n",
      "def FS(N, t):\n",
      "    def coe(n):\n",
      "        c = y*np.exp(-1j*2*n*np.pi*time/period)\n",
      "        return c.sum()/c.size\n",
      "    f = np.array([2*coe(i)*np.exp(1j*2*i*np.pi*t/period) for i in range(1,N+1)])\n",
      "    return f.sum()\n",
      "def draw(N):\n",
      "    time = np.linspace(-1, 1, 200)\n",
      "    y = np.array([FS(N,t).real for t in time])\n",
      "    y2 = np.array([f(t).real for t in time])\n",
      "    plot(time,y)\n",
      "    plot(time,y2)\n",
      "interact(draw, N=(0,100))\n",
      "#FS(N, t)"
     ],
     "language": "python",
     "metadata": {},
     "outputs": [
      {
       "metadata": {},
       "output_type": "pyout",
       "prompt_number": 53,
       "text": [
        "<function __main__.draw>"
       ]
      },
      {
       "metadata": {},
       "output_type": "display_data",
       "png": "[encoded data removed]",
       "text": [
        "<matplotlib.figure.Figure at 0xb149668>"
       ]
      }
     ],
     "prompt_number": 53
    },
    {
     "cell_type": "code",
     "collapsed": false,
     "input": [],
     "language": "python",
     "metadata": {},
     "outputs": []
    }
   ],
   "metadata": {}
  }
 ]
}