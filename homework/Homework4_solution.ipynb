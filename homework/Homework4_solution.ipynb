{
 "metadata": {
  "name": "",
  "signature": "sha256:2246b34ab6e00fcb4bfa3f0999c39feca4428929adaddefca6a0425ef3878a0a"
 },
 "nbformat": 3,
 "nbformat_minor": 0,
 "worksheets": [
  {
   "cells": [
    {
     "cell_type": "markdown",
     "metadata": {},
     "source": [
      "# Homework 4"
     ]
    },
    {
     "cell_type": "markdown",
     "metadata": {},
     "source": [
      "## Problem 1 \n",
      "\n",
      "1. Implement the `Point` class.\n",
      "2. Implement the `Rectangle` class.\n",
      "3. Write a function called `distance_between_points` that takes two Points as arguments and returns the distance between them.\n",
      "4. Write a function named `move_rectangle` that takes a Rectangle and two numbers named `dx` and `dy`. It should change the location of the rectangle by adding `dx` to the `x` coordinate of corner and adding `dy` to the `y` coordinate of corner.\n",
      "5. Write a function named `move_rectangle_new` that is similar to the `move_rectangle` but it creates and returns a new Rectangle instead of modifying the old one.\n",
      "6. Write some codes to demonstrate the usage of functions above."
     ]
    },
    {
     "cell_type": "code",
     "collapsed": false,
     "input": [
      "# Problem 1\n",
      "\n",
      "# 1\n",
      "class Point(object):\n",
      "    \"\"\"Represents a point in 2-D space.\"\"\"\n",
      "# 2\n",
      "class Rectangle(object):\n",
      "    \"\"\"Represents a rectangle. \n",
      "\n",
      "    attributes: width, height, corner.\n",
      "    \"\"\"\n",
      "# 3\n",
      "import math\n",
      "def distance_between_points(p1, p2):\n",
      "    dx = p1.x - p2.x\n",
      "    dy = p1.y - p2.y\n",
      "    return math.sqrt(dx*dx+dy*dy)\n",
      "\n",
      "# 4\n",
      "def move_rectangle(rec, dx, dy):\n",
      "    rec.corner.x += dx\n",
      "    rec.corner.y += dy\n",
      "    \n",
      "# 5\n",
      "import copy\n",
      "def move_rectangle_new(rec, dx, dy):\n",
      "    rec_new = copy.deepcopy(rec)\n",
      "    move_rectangle(rec_new, dx,dy)\n",
      "    return rec_new"
     ],
     "language": "python",
     "metadata": {},
     "outputs": [],
     "prompt_number": 1
    },
    {
     "cell_type": "code",
     "collapsed": false,
     "input": [
      "# 6\n",
      "# distance_between_points\n",
      "p1 = Point()\n",
      "p1.x = 0\n",
      "p1.y = 0\n",
      "p2 = Point()\n",
      "p2.x = 3\n",
      "p2.y = 4\n",
      "print distance_between_points(p1,p2)"
     ],
     "language": "python",
     "metadata": {},
     "outputs": [
      {
       "output_type": "stream",
       "stream": "stdout",
       "text": [
        "5.0\n"
       ]
      }
     ],
     "prompt_number": 2
    },
    {
     "cell_type": "code",
     "collapsed": false,
     "input": [
      "# move_rectangle\n",
      "box = Rectangle()\n",
      "box.width = 100.0\n",
      "box.height = 200.0\n",
      "box.corner = Point()\n",
      "box.corner.x = 0.0\n",
      "box.corner.y = 0.0\n",
      "move_rectangle(box, 10, 10)\n",
      "print box.corner.x\n",
      "print box.corner.y\n"
     ],
     "language": "python",
     "metadata": {},
     "outputs": [
      {
       "output_type": "stream",
       "stream": "stdout",
       "text": [
        "10.0\n",
        "10.0\n"
       ]
      }
     ],
     "prompt_number": 3
    },
    {
     "cell_type": "code",
     "collapsed": false,
     "input": [
      "# move_rectangle_new\n",
      "box = Rectangle()\n",
      "box.width = 100.0\n",
      "box.height = 200.0\n",
      "box.corner = Point()\n",
      "box.corner.x = 0.0\n",
      "box.corner.y = 0.0\n",
      "box2 = move_rectangle_new(box, 10, 10)\n",
      "print box2.corner.x\n",
      "print box2.corner.y"
     ],
     "language": "python",
     "metadata": {},
     "outputs": [
      {
       "output_type": "stream",
       "stream": "stdout",
       "text": [
        "10.0\n",
        "10.0\n"
       ]
      }
     ],
     "prompt_number": 4
    },
    {
     "cell_type": "markdown",
     "metadata": {},
     "source": [
      "## Problem 2\n",
      "\n",
      "1. Implement the `Time` class.\n",
      "2. Write a function called `print_time` that takes a Time object and prints it in the form `hour:minute:second`. \n",
      "  **Hint**: the format sequence '%.2d' prints an integer using at least two digits, including a leading zero if necessary.\n",
      "3. Write a boolean function called `is_after` that takes two Time objects, `t1` and `t2`, and returns `True` if `t1` follows `t2` chronologically and `False` otherwise. **Challenge**: don\u2019t use an `if` statement.\n",
      "4. Write a function called `increment_modifier` that adds a given number of seconds to a Time object. It should modify the original time object. It should not contain any loops.\n",
      "5. Write a function called `increment_pure` that adds a given number of seconds to a Time object. It should create and return a new Time object.\n",
      "6. Write a function called `mul_time` that takes a Time object and a number and returns a new Time object that contains the product of the original Time and the number.\n",
      "7. Use `mul_time` to write a function that takes a Time object that represents the finishing time in a race, and a number that represents the distance, and returns a Time object that represents the average pace (time per mile).\n",
      "8. Write some codes to demonstrate the usage of functions above."
     ]
    },
    {
     "cell_type": "code",
     "collapsed": false,
     "input": [
      "# Problem 2\n",
      "\n",
      "# 1\n",
      "class Time(object):\n",
      "    \"\"\"Represents the time of day.\n",
      "       \n",
      "    attributes: hour, minute, second\n",
      "    \"\"\"\n",
      "\n",
      "def time_to_int(time):\n",
      "    minutes = time.hour * 60 + time.minute\n",
      "    seconds = minutes * 60 + time.second\n",
      "    return seconds    \n",
      "\n",
      "def int_to_time(seconds):\n",
      "    time = Time()\n",
      "    minutes, time.second = divmod(seconds, 60)\n",
      "    time.hour, time.minute = divmod(minutes, 60)\n",
      "    return time\n",
      "\n",
      "# 2\n",
      "def print_time(time):\n",
      "    print '%.2d:%.2d:%.2d' % (time.hour, time.minute, time.second)\n",
      "\n",
      "# 3\n",
      "\n",
      "def is_after(t1, t2):\n",
      "    s1 = time_to_int(t1)\n",
      "    s2 = time_to_int(t2)\n",
      "    return s1 > s2\n",
      "\n",
      "# 4\n",
      "def increment_modifier(time, seconds):\n",
      "    time_seconds = time_to_int(time)\n",
      "    time_seconds += seconds\n",
      "    minutes, time.second = divmod(time_seconds, 60)\n",
      "    time.hour, time.minute = divmod(minutes, 60)\n",
      "    \n",
      "# 5\n",
      "def increment_pure(time, seconds):\n",
      "    new_time = int_to_time(time_to_int(time) + seconds)\n",
      "    return new_time\n",
      "\n",
      "# 6\n",
      "def mul_time(time, factor):\n",
      "    new_time = int_to_time(time_to_int(time)*factor)\n",
      "    return new_time\n",
      "\n",
      "# 7\n",
      "def speed(start_time, end_time, distance):\n",
      "    s_time = time_to_int(start_time)\n",
      "    e_time = time_to_int(end_time)\n",
      "    return distance/float(e_time-s_time)\n",
      "# 8"
     ],
     "language": "python",
     "metadata": {},
     "outputs": [],
     "prompt_number": 5
    },
    {
     "cell_type": "code",
     "collapsed": false,
     "input": [
      "# print_time\n",
      "time = Time()\n",
      "time.hour = 11\n",
      "time.minute = 59\n",
      "time.second = 30    \n",
      "print_time(time)"
     ],
     "language": "python",
     "metadata": {},
     "outputs": [
      {
       "output_type": "stream",
       "stream": "stdout",
       "text": [
        "11:59:30\n"
       ]
      }
     ],
     "prompt_number": 6
    },
    {
     "cell_type": "code",
     "collapsed": false,
     "input": [
      "# time_to_int\n",
      "\n",
      "t1 = Time()\n",
      "t1.hour = 11\n",
      "t1.minute = 59\n",
      "t1.second = 30  \n",
      "\n",
      "t2 = Time()\n",
      "t2.hour = 11\n",
      "t2.minute = 59\n",
      "t2.second = 45  \n",
      "\n",
      "print is_after(t1,t2)\n",
      "print is_after(t2,t1)\n"
     ],
     "language": "python",
     "metadata": {},
     "outputs": [
      {
       "output_type": "stream",
       "stream": "stdout",
       "text": [
        "False\n",
        "True\n"
       ]
      }
     ],
     "prompt_number": 7
    },
    {
     "cell_type": "code",
     "collapsed": false,
     "input": [
      "# increment_modifier\n",
      "time = Time()\n",
      "time.hour = 11\n",
      "time.minute = 59\n",
      "time.second = 30    \n",
      "print_time(time)\n",
      "increment_modifier(time,40)\n",
      "print_time(time)"
     ],
     "language": "python",
     "metadata": {},
     "outputs": [
      {
       "output_type": "stream",
       "stream": "stdout",
       "text": [
        "11:59:30\n",
        "12:00:10\n"
       ]
      }
     ],
     "prompt_number": 8
    },
    {
     "cell_type": "code",
     "collapsed": false,
     "input": [
      "# increment_pure\n",
      "time = Time()\n",
      "time.hour = 11\n",
      "time.minute = 59\n",
      "time.second = 30    \n",
      "print_time(time)\n",
      "time2 = increment_pure(time,40)\n",
      "print_time(time2)"
     ],
     "language": "python",
     "metadata": {},
     "outputs": [
      {
       "output_type": "stream",
       "stream": "stdout",
       "text": [
        "11:59:30\n",
        "12:00:10\n"
       ]
      }
     ],
     "prompt_number": 9
    },
    {
     "cell_type": "code",
     "collapsed": false,
     "input": [
      "# mul_time\n",
      "time = Time()\n",
      "time.hour = 1\n",
      "time.minute = 25\n",
      "time.second = 25    \n",
      "print_time(time)\n",
      "time2 = mul_time(time,3)\n",
      "print_time(time2)"
     ],
     "language": "python",
     "metadata": {},
     "outputs": [
      {
       "output_type": "stream",
       "stream": "stdout",
       "text": [
        "01:25:25\n",
        "04:16:15\n"
       ]
      }
     ],
     "prompt_number": 10
    },
    {
     "cell_type": "code",
     "collapsed": false,
     "input": [
      "# speed\n",
      "\n",
      "t1 = Time()\n",
      "t1.hour = 11\n",
      "t1.minute = 59\n",
      "t1.second = 30  \n",
      "\n",
      "t2 = Time()\n",
      "t2.hour = 11\n",
      "t2.minute = 59\n",
      "t2.second = 45  \n",
      "\n",
      "print speed(t1, t2, 100), \"m/s\""
     ],
     "language": "python",
     "metadata": {},
     "outputs": [
      {
       "output_type": "stream",
       "stream": "stdout",
       "text": [
        "6.66666666667 m/s\n"
       ]
      }
     ],
     "prompt_number": 11
    },
    {
     "cell_type": "markdown",
     "metadata": {},
     "source": [
      "## Problem 3\n",
      "\n",
      "1. Write a class definition for a Date object that has attributes `day`, `month` and `year`.\n",
      "2. Write a function called `increment_date` that takes a Date object, `date` and an integer, `n`, and returns a new Date object that represents the day `n` days after date.\n",
      "3. **Challenge**: does your function deal with leap years correctly? See http://en.wikipedia.org/wiki/Leap_year."
     ]
    },
    {
     "cell_type": "code",
     "collapsed": false,
     "input": [
      "# Problem 3\n",
      "\n",
      "#1\n",
      "class Date(object):\n",
      "    \"\"\"Represents a date. \n",
      "\n",
      "    attributes: days, months, years.\n",
      "    \"\"\"\n",
      "    def __init__(self,years=0, months=0, days=0):\n",
      "        self.years = years\n",
      "        self.months = months\n",
      "        self.days = days\n",
      "\n",
      "    def __str__(self):\n",
      "        return '%d-%d-%d'%(self.years,self.months,self.days)\n",
      "\n",
      "month_day = [31, 28, 31, 30, 31, 30, 31, 31, 30, 31, 30, 31]\n",
      "month_day_sum = [sum(month_day[0:i]) for i in range(13)]\n",
      "\n",
      "def date_to_int(date):\n",
      "    return 365*date.years + month_day_sum[date.months]+date.days\n",
      "\n",
      "def int_to_date(days):\n",
      "    date = Date()\n",
      "    date.years, days = divmod(days, 365)\n",
      "    for month in range(12):\n",
      "        if days > month_day_sum[month] and days < month_day_sum[month+1]:\n",
      "            date.months = month\n",
      "            date.days = days-month_day_sum[month]\n",
      "            break\n",
      "    return date\n",
      "\n",
      "def increment_date(date,days):\n",
      "    return int_to_date( date_to_int(date) + days)    "
     ],
     "language": "python",
     "metadata": {},
     "outputs": [],
     "prompt_number": 12
    },
    {
     "cell_type": "code",
     "collapsed": false,
     "input": [
      "date = Date(1,10,3)\n",
      "print date\n",
      "print date_to_int(date)\n",
      "date2 = int_to_date(672)\n",
      "print date2\n",
      "date3 = increment_date(date,31)   \n",
      "print date3"
     ],
     "language": "python",
     "metadata": {},
     "outputs": [
      {
       "output_type": "stream",
       "stream": "stdout",
       "text": [
        "1-10-3\n",
        "672\n",
        "1-10-3\n",
        "1-11-4\n"
       ]
      }
     ],
     "prompt_number": 13
    },
    {
     "cell_type": "markdown",
     "metadata": {},
     "source": [
      "## Problem 4\n",
      "\n",
      "The `datetime` module provides date and time objects that are similar to the Date and Time objects in this chapter, but they provide a rich set of methods and operators. Read the documentation at http://docs.python.org/2/library/datetime.html.\n",
      "\n",
      "1. Use the `datetime` module to write a program that gets the current date and prints the day of the week.\n",
      "2. Write a program that takes a birthday as input and prints the user\u2019s age and the number of days, hours, minutes and seconds until their next birthday.\n",
      "3. For two people born on different days, there is a day when one is twice as old as the other. That\u2019s their Double Day. Write a program that takes two birthdays and computes their Double Day.\n",
      "4. For a little more challenge, write the more general version that computes the day when one person is `n` times older than the other."
     ]
    },
    {
     "cell_type": "code",
     "collapsed": false,
     "input": [
      "# Problem 4\n",
      "\n",
      "import datetime\n",
      "\n",
      "#1\n",
      "def print_today():\n",
      "    day_of_week = ['Monday', 'Tuesday', 'Wednesday', 'Thursday', 'Friday', 'Saturday', 'Sunday']\n",
      "    today = datetime.date.today()\n",
      "#     print today\n",
      "    print 'Today is', day_of_week[today.weekday()]\n",
      "    print 'Today is'\n",
      "    print today.strftime(\"%A\")\n",
      "    print 'Today is'\n",
      "    print today.strftime(\"%A, %d. %B %Y %I:%M%p\")\n",
      "\n",
      "print_today()"
     ],
     "language": "python",
     "metadata": {},
     "outputs": [
      {
       "output_type": "stream",
       "stream": "stdout",
       "text": [
        "Today is Monday\n",
        "Today is\n",
        "Monday\n",
        "Today is\n",
        "Monday, 25. May 2015 12:00AM\n"
       ]
      }
     ],
     "prompt_number": 14
    },
    {
     "cell_type": "code",
     "collapsed": false,
     "input": [
      "# Problem 4\n",
      "\n",
      "import datetime\n",
      "\n",
      "today = datetime.date.today()\n",
      "print 'Today is', today\n",
      "\n",
      "birthday = datetime.date(1971,7,4)\n",
      "print 'Birthday is', birthday\n",
      "\n",
      "age = today.year - birthday.year\n",
      "print 'Age is', age\n",
      "\n",
      "next_birthday = datetime.date(today.year, birthday.month, birthday.day)\n",
      "print 'Next birthday is', next_birthday\n",
      "\n",
      "duration = next_birthday - today\n",
      "print duration.days, 'days until next birthday'\n",
      "print duration.days*24, 'hours until next birthday'\n",
      "print duration.seconds, 'seconds until next birthday'"
     ],
     "language": "python",
     "metadata": {},
     "outputs": [
      {
       "output_type": "stream",
       "stream": "stdout",
       "text": [
        "Today is 2015-05-25\n",
        "Birthday is 1971-07-04\n",
        "Age is 44\n",
        "Next birthday is 2015-07-04\n",
        "40 days until next birthday\n",
        "960 hours until next birthday\n",
        "0 seconds until next birthday\n"
       ]
      }
     ],
     "prompt_number": 15
    },
    {
     "cell_type": "code",
     "collapsed": false,
     "input": [
      "# Problem 4\n",
      "\n",
      "import datetime\n",
      "b1 = datetime.date(1971,7,4)\n",
      "b2 = datetime.date(1976,4,4)\n",
      "\n",
      "# print datetime.timedelta.max.days\n",
      "for days in range(10000):\n",
      "    duration = datetime.timedelta(days)\n",
      "    someday = b2 + duration\n",
      "    b2_age = someday - b2\n",
      "    b1_age = someday - b1\n",
      "    if 2*b2_age == b1_age:\n",
      "        print 'At', someday\n",
      "        print '2*Age2=Age1=', b1_age.days,'days'\n",
      "        break"
     ],
     "language": "python",
     "metadata": {},
     "outputs": [
      {
       "output_type": "stream",
       "stream": "stdout",
       "text": [
        "At 1981-01-04\n",
        "2*Age2=Age1= 3472 days\n"
       ]
      }
     ],
     "prompt_number": 16
    },
    {
     "cell_type": "markdown",
     "metadata": {},
     "source": [
      "## Problem 5\n",
      "\n",
      "Implement the `Point` class and the `Rectangle` class, with following methods.\n",
      "\n",
      "1. Write an `init` method for the Point class that takes `x` and `y` as optional parameters and assigns them to the corresponding attributes.\n",
      "2. Write a `str` method for the Point class.\n",
      "3. Write an `add` method for Points that works with either a Point object or a tuple:\n",
      "  * If the second operand is a Point, the method should return a new Point whose `x` coordinate is the sum of the `x` coordinates of the operands, and likewise for the `y` coordinates.\n",
      "  * If the second operand is a tuple, the method should add the first element of the tuple to the `x` coordinate and the second element to the `y` coordinate, and return a new Point with the result.\n",
      "4. Write some codes to demonstrate the usage of methods above."
     ]
    },
    {
     "cell_type": "code",
     "collapsed": false,
     "input": [
      "# Problem 5\n",
      "\n",
      "class Point(object):\n",
      "    \"\"\"Represents a point in 2-D space.\"\"\"\n",
      "    \n",
      "    def __init__(self, x=0, y=0):\n",
      "        self.x = x\n",
      "        self.y = y\n",
      "        \n",
      "    def __str__(self):\n",
      "        return '(%g, %g)' % (self.x, self.y)\n",
      "    \n",
      "    def __add__(self, other):\n",
      "        if isinstance(other, Point):\n",
      "            p = Point(self.x+other.x, self.y+other.y)\n",
      "            return p\n",
      "        elif isinstance(other, tuple):\n",
      "            x, y = other\n",
      "            p = Point(self.x+x, self.y+y)\n",
      "            return p"
     ],
     "language": "python",
     "metadata": {},
     "outputs": [],
     "prompt_number": 17
    },
    {
     "cell_type": "code",
     "collapsed": false,
     "input": [
      "p1 = Point()\n",
      "print p1"
     ],
     "language": "python",
     "metadata": {},
     "outputs": [
      {
       "output_type": "stream",
       "stream": "stdout",
       "text": [
        "(0, 0)\n"
       ]
      }
     ],
     "prompt_number": 18
    },
    {
     "cell_type": "code",
     "collapsed": false,
     "input": [
      "p2 = Point(3,4)\n",
      "print p2"
     ],
     "language": "python",
     "metadata": {},
     "outputs": [
      {
       "output_type": "stream",
       "stream": "stdout",
       "text": [
        "(3, 4)\n"
       ]
      }
     ],
     "prompt_number": 19
    },
    {
     "cell_type": "code",
     "collapsed": false,
     "input": [
      "p1 = Point(1,2)\n",
      "p2 = Point(3,4)\n",
      "p3 = p1 + p2\n",
      "print p3"
     ],
     "language": "python",
     "metadata": {},
     "outputs": [
      {
       "output_type": "stream",
       "stream": "stdout",
       "text": [
        "(4, 6)\n"
       ]
      }
     ],
     "prompt_number": 20
    },
    {
     "cell_type": "code",
     "collapsed": false,
     "input": [
      "p1 = Point(1,2)\n",
      "p2 = Point(3,4)\n",
      "p3 = p1 + (3,4)\n",
      "print p3"
     ],
     "language": "python",
     "metadata": {},
     "outputs": [
      {
       "output_type": "stream",
       "stream": "stdout",
       "text": [
        "(4, 6)\n"
       ]
      }
     ],
     "prompt_number": 21
    }
   ],
   "metadata": {}
  }
 ]
}