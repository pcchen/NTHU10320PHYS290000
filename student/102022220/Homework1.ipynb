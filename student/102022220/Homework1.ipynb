{
 "metadata": {
  "name": "",
  "signature": "sha256:79d2cd8fdb15dbf1965e960769878d660262dc637d315ff831bff89cb3f559fc"
 },
 "nbformat": 3,
 "nbformat_minor": 0,
 "worksheets": [
  {
   "cells": [
    {
     "cell_type": "markdown",
     "metadata": {},
     "source": [
      "# Homework 1"
     ]
    },
    {
     "cell_type": "markdown",
     "metadata": {},
     "source": [
      "## Problem 1.1\n",
      "\n",
      "Write some code that prints the words `Hello, World'."
     ]
    },
    {
     "cell_type": "code",
     "collapsed": false,
     "input": [
      "# Problem 1.1\n",
      "print \"hello, world\""
     ],
     "language": "python",
     "metadata": {},
     "outputs": [
      {
       "output_type": "stream",
       "stream": "stdout",
       "text": [
        "hello, world\n"
       ]
      }
     ],
     "prompt_number": 1
    },
    {
     "cell_type": "markdown",
     "metadata": {},
     "source": [
      "## Problem 1.2\n",
      "\n",
      "Python provides a built-in function called `len` that returns the length of a string, so the value of `len('allen')` is `5`.\n",
      "\n",
      "Write a function named `right_justify` that takes a string named `s` as a parameter and prints the string with enough leading spaces so that the last letter of the string is in column 70 of the display.\n",
      "\n",
      "Write some code to demonstrate the usage of your `right_justify` function.\n",
      "\n",
      "``\n",
      "right_justify('allen')\n",
      "                                                                 allen\n",
      "right_justify('homework')\n",
      "                                                              homework\n",
      "right_justify('cat')\n",
      "                                                                   cat\n",
      "``"
     ]
    },
    {
     "cell_type": "code",
     "collapsed": false,
     "input": [
      "# Problem 1.2\n",
      "\n",
      "def right_justify(s):\n",
      "    t = len(s)\n",
      "    i = 70-t\n",
      "    while i != 0:\n",
      "        i = i-1\n",
      "        print '',\n",
      "    print s\n",
      "    \n",
      "        \n",
      "    \n",
      "right_justify('aaaaaaaaaghap[e9')\n",
      "right_justify('aaaaaaaaagwehjh;orjhrgt6rgfjyu76y5gtrthr6hujtrhtruht6riked7r6iyhb')"
     ],
     "language": "python",
     "metadata": {},
     "outputs": [
      {
       "output_type": "stream",
       "stream": "stdout",
       "text": [
        "                                                      aaaaaaaaaghap[e9\n",
        "     aaaaaaaaagwehjh;orjhrgt6rgfjyu76y5gtrthr6hujtrhtruht6riked7r6iyhb\n"
       ]
      }
     ],
     "prompt_number": 30
    },
    {
     "cell_type": "markdown",
     "metadata": {},
     "source": [
      "## Problem 1.3\n",
      "\n",
      "### Exercise 3.4 \n",
      "\n",
      "A **function object** is a value you can assign to a variable or pass as an argument. For example, `do_twice` is a function that takes a function object as an argument and calls it twice:\n",
      "\n",
      "``\n",
      "def do_twice(f):\n",
      "    f()\n",
      "    f()\n",
      "``\n",
      "\n",
      "Here\u2019s an example that uses `do_twice` to call a function named `print_spam` twice.\n",
      "\n",
      "``def print_spam():\n",
      "    print 'spam'``\n",
      "\n",
      "``    \n",
      "do_twice(print_spam)\n",
      "``\n",
      "\n",
      "1. Type this example into a script and test it.\n",
      "2. Modify `do_twice` so that it takes two arguments, a function object and a value, and calls the function twice, passing the value as an argument.\n",
      "3. Write a more general version of `print_spam`, called `print_twice`, that takes a string as a parameter and prints it twice.\n",
      "4. Use the modified version of `do_twice` to call `print_twice` twice, passing `'spam'` as an argument.\n",
      "5. Define a new function called `do_four` that takes a function object and a value and calls the function four times, passing the value as a parameter. There should be only two statements in the body of this function, not four.\n",
      "\n",
      "Write some code to demonstrate the usage above functions."
     ]
    },
    {
     "cell_type": "code",
     "collapsed": false,
     "input": [
      "# Problem 1.3\n",
      "\n",
      "\n",
      "def do_twice(func,n):\n",
      "    func(n)\n",
      "    func(n)\n",
      "def print_twice(tee):\n",
      "    print tee\n",
      "    print tee\n",
      "\n",
      "    \n",
      "do_twice(print_twice,'spam')\n",
      "print '\u6211\u662f\u5206\u683c\u7dda\u6211\u662f\u5206\u683c\u7dda'\n",
      "def do_four(func,n):\n",
      "    do_twice(func,n)\n",
      "    do_twice(func,n)\n",
      "    \n",
      "\n",
      "do_four(print_twice,54)"
     ],
     "language": "python",
     "metadata": {},
     "outputs": [
      {
       "output_type": "stream",
       "stream": "stdout",
       "text": [
        "spam\n",
        "spam\n",
        "spam\n",
        "spam\n",
        "\u6211\u662f\u5206\u683c\u7dda\u6211\u662f\u5206\u683c\u7dda\n",
        "54\n",
        "54\n",
        "54\n",
        "54\n",
        "54\n",
        "54\n",
        "54\n",
        "54\n"
       ]
      }
     ],
     "prompt_number": 63
    },
    {
     "cell_type": "markdown",
     "metadata": {},
     "source": [
      "## Problem 1.4\n",
      "\n",
      "*This exercise can be done using only the statements and other features we have learned so far.*\n",
      "\n",
      "(1) Write a function that draws a grid like the following:\n",
      "\n",
      "\n",
      "    + - - - - + - - - - +\n",
      "    |         |         |\n",
      "    |         |         |\n",
      "    |         |         |\n",
      "    |         |         |\n",
      "    + - - - - + - - - - +\n",
      "    |         |         |\n",
      "    |         |         |\n",
      "    |         |         |\n",
      "    |         |         |\n",
      "    + - - - - + - - - - +\n",
      "\n",
      "\n",
      "Hint: to print more than one value on a line, you can print a comma-separated sequence:\n",
      "\n",
      "    print '+', '-'\n",
      "\n",
      "If the sequence ends with a comma, Python leaves the line unfinished, so the value printed next appears on the same line.\n",
      "\n",
      "\n",
      "    print '+', \n",
      "    print '-'\n",
      "\n",
      "The output of these statements is `'+ -'`.\n",
      "\n",
      "A `print` statement all by itself ends the current line and goes to the next line.\n",
      "\n",
      "(2) Write a function that draws a similar grid with four rows and four columns."
     ]
    },
    {
     "cell_type": "code",
     "collapsed": false,
     "input": [
      "# Problem 1.4\n",
      "def row1(r):\n",
      "\tr0=r\n",
      "\twhile r>0:\n",
      "\t\tprint '+ - - - -',\n",
      "\t\tr=r-1\n",
      "\tprint '+'\n",
      "\tr=r0\n",
      "\n",
      "def row2(r):\n",
      "\tr0=r\n",
      "\twhile r>0:\n",
      "\t\tprint '|        ',\n",
      "\t\tr=r-1\n",
      "\tprint '|'\n",
      "\tr=r0\n",
      "\n",
      "def column(c,r):\n",
      "\twhile c>0:\n",
      "\t\trow1(r)\n",
      "\t\trow2(r)\n",
      "\t\trow2(r)\n",
      "\t\trow2(r)\n",
      "\t\trow2(r)\n",
      "\t\tc=c-1\n",
      "\trow1(r)\n",
      "\n",
      "column(2,2)\n",
      "print '\u6211\u662f\u5206\u683c\u7dda\u6211\u662f\u5206\u683c\u7dda\u6211\u662f\u5206\u683c\u7dda\u6211\u662f\u5206\u683c\u7dda\u6211\u662f\u5206\u683c\u7dda'\n",
      "column(4,4)"
     ],
     "language": "python",
     "metadata": {},
     "outputs": [
      {
       "output_type": "stream",
       "stream": "stdout",
       "text": [
        "+ - - - - + - - - - +\n",
        "|         |         |\n",
        "|         |         |\n",
        "|         |         |\n",
        "|         |         |\n",
        "+ - - - - + - - - - +\n",
        "|         |         |\n",
        "|         |         |\n",
        "|         |         |\n",
        "|         |         |\n",
        "+ - - - - + - - - - +\n",
        "\u6211\u662f\u5206\u683c\u7dda\u6211\u662f\u5206\u683c\u7dda\u6211\u662f\u5206\u683c\u7dda\u6211\u662f\u5206\u683c\u7dda\u6211\u662f\u5206\u683c\u7dda\n",
        "+ - - - - + - - - - + - - - - + - - - - +\n",
        "|         |         |         |         |\n",
        "|         |         |         |         |\n",
        "|         |         |         |         |\n",
        "|         |         |         |         |\n",
        "+ - - - - + - - - - + - - - - + - - - - +\n",
        "|         |         |         |         |\n",
        "|         |         |         |         |\n",
        "|         |         |         |         |\n",
        "|         |         |         |         |\n",
        "+ - - - - + - - - - + - - - - + - - - - +\n",
        "|         |         |         |         |\n",
        "|         |         |         |         |\n",
        "|         |         |         |         |\n",
        "|         |         |         |         |\n",
        "+ - - - - + - - - - + - - - - + - - - - +\n",
        "|         |         |         |         |\n",
        "|         |         |         |         |\n",
        "|         |         |         |         |\n",
        "|         |         |         |         |\n",
        "+ - - - - + - - - - + - - - - + - - - - +\n"
       ]
      }
     ],
     "prompt_number": 64
    },
    {
     "cell_type": "markdown",
     "metadata": {},
     "source": [
      "## Problem 1.5\n",
      "\n",
      "Write a **resursive function** called `do_n` that takes a function object and a number, `n`, as arguments, and that calls the given function n times."
     ]
    },
    {
     "cell_type": "code",
     "collapsed": false,
     "input": [
      "# Problem 1.5\n",
      "def seew():\n",
      "    print 'wr'\n",
      "#\u4ee5\u4e0a\u70ba\u7576\u4f5c\u8f38\u5165\u7684\u6c92\u7528\u51fd\u6578\n",
      "\n",
      "\n",
      "def do_n(func,n):\n",
      "    if n <= 0:\n",
      "        pass\n",
      "    else:\n",
      "        func()\n",
      "        do_n(func,n-1)\n",
      "\n",
      "do_n(seew,3)"
     ],
     "language": "python",
     "metadata": {},
     "outputs": [
      {
       "output_type": "stream",
       "stream": "stdout",
       "text": [
        "wr\n",
        "wr\n",
        "wr\n"
       ]
      }
     ],
     "prompt_number": 8
    },
    {
     "cell_type": "markdown",
     "metadata": {},
     "source": [
      "## Problem 1.6\n",
      "\n",
      "Write some code that asks the user for the Cartesian coordinates $x$,$y$ of a point in 2D space, and calculate the print the corresponding polar coordinates, with the angle $\\theta$ given in degrees."
     ]
    },
    {
     "cell_type": "code",
     "collapsed": false,
     "input": [
      "# Problem 1.6\n",
      "import math\n",
      "def pole(x,y):\n",
      "    float(x)\n",
      "    float(y)\n",
      "    rsq=x**2+y**2\n",
      "    r= math.sqrt(rsq)\n",
      "    if x==0:\n",
      "        if y>0:\n",
      "            angle=math.asin(1)\n",
      "        if y<0:\n",
      "            angle=math.asin(-1)\n",
      "        if y==0:\n",
      "            angle=0\n",
      "    if x>0:\n",
      "        angle=math.atan(y/x)\n",
      "    if x<0:\n",
      "        angle_over=math.atan(y/x)\n",
      "        angle=2*math.asin(1)+angle_over\n",
      "    print 'r=',r\n",
      "    print 'angle=',angle\n",
      "\n",
      "    \n",
      "pole(1,-1)"
     ],
     "language": "python",
     "metadata": {},
     "outputs": [
      {
       "output_type": "stream",
       "stream": "stdout",
       "text": [
        "r= 1.41421356237\n",
        "angle= -0.785398163397\n"
       ]
      }
     ],
     "prompt_number": 87
    },
    {
     "cell_type": "code",
     "collapsed": false,
     "input": [
      "# Problem 1.6\n",
      "import math\n",
      "\n",
      "\n",
      "\n",
      "math.atan(-100000)"
     ],
     "language": "python",
     "metadata": {},
     "outputs": [
      {
       "metadata": {},
       "output_type": "pyout",
       "prompt_number": 80,
       "text": [
        "-1.570786326794897"
       ]
      }
     ],
     "prompt_number": 80
    },
    {
     "cell_type": "markdown",
     "metadata": {},
     "source": [
      "## Problem 1.7\n",
      "\n",
      "Fermat\u2019s Last Theorem says that there are no positive integers $a$, $b$, and $c$ such that\n",
      "\n",
      "$$\n",
      "  a^n + b^n = c^n \n",
      "$$\n",
      "for any values of $n$ greater than 2.\n",
      "\n",
      "1. Write a function named `check_fermat` that takes four parameters\u2014`a`, `b`, `c` and `n`\u2014and that checks to see if Fermat\u2019s theorem holds.\n",
      " * If `n` is greater than 2 and it turns out to be true that $a^n + b^n = c^n$ \n",
      "the program should print, \u201cHoly smokes, Fermat was wrong!\u201d.\n",
      " * Otherwise the program should print, \u201cNo, that doesn\u2019t work.\u201d\n",
      "\n",
      "2. Write a function that prompts the user to input values for `a`, `b`, `c` and `n`, converts them to integers, and uses `check_fermat` to check whether they violate Fermat\u2019s theorem.\n",
      "\n"
     ]
    },
    {
     "cell_type": "code",
     "collapsed": false,
     "input": [
      "# Problem 1.7\n",
      "def check_fermat(a,b,c,n):\n",
      "    if n > 2:\n",
      "        if a**n+b**n == c**n:\n",
      "            print \"Holy smokes, Fermat was wrong!\"\n",
      "        else:\n",
      "            print \"No, that doesn\u2019t work.\"\n",
      "    else:\n",
      "        print \"No, that doesn\u2019t work.\"\n",
      "    \n",
      "    \n",
      "    \n",
      "check_fermat(5,5,7,3)"
     ],
     "language": "python",
     "metadata": {},
     "outputs": [
      {
       "output_type": "stream",
       "stream": "stdout",
       "text": [
        "No, that doesn\u2019t work.\n"
       ]
      }
     ],
     "prompt_number": 14
    },
    {
     "cell_type": "markdown",
     "metadata": {},
     "source": [
      "## Problem 1.8\n",
      "\n",
      "If you are given three sticks, you may or may not be able to arrange them in a triangle. For example, if one of the sticks is 12 inches long and the other two are one inch long, it is clear that you will not be able to get the short sticks to meet in the middle. For any three lengths, there is a simple test to see if it is possible to form a triangle:\n",
      "\n",
      "> If any of the three lengths is greater than the sum of the other two, then you cannot form a triangle. Otherwise, you can. \n",
      "> (If the sum of two lengths equals the third, they form what is called a \u201cdegenerate\u201d triangle.)\n",
      "\n",
      "1. Write a function named `is_triangle` that takes three integers as arguments, and that prints either \u201cYes\u201d or \u201cNo,\u201d depending on whether you can or cannot form a triangle from sticks with the given lengths.\n",
      "\n",
      "2. Write a function that prompts the user to input three stick lengths, converts them to integers, and uses `is_triangle` to check whether sticks with the given lengths can form a triangle"
     ]
    },
    {
     "cell_type": "code",
     "collapsed": false,
     "input": [
      "# Problem 1.8\n",
      "def is_triangle(a,b,c):\n",
      "    if a>b+c:\n",
      "        print \"No\"\n",
      "    else:\n",
      "        if b>a+c:\n",
      "            print \"No\"\n",
      "        else:\n",
      "            if c>a+b:\n",
      "                print \"No\"\n",
      "            else:\n",
      "                print \"yes\"\n",
      "                \n",
      "def zxxx():\n",
      "    print \"input 3 lengths of a triangle\"\n",
      "    a = raw_input()\n",
      "    b = raw_input()\n",
      "    c = raw_input()\n",
      "    aa=int(a)\n",
      "    bb=int(b)\n",
      "    cc=int(c)\n",
      "    is_triangle(aa,bb,cc)\n",
      "\n",
      "\n",
      "zxxx()"
     ],
     "language": "python",
     "metadata": {},
     "outputs": [
      {
       "output_type": "stream",
       "stream": "stdout",
       "text": [
        "input 3 lengths of a triangle\n"
       ]
      },
      {
       "name": "stdout",
       "output_type": "stream",
       "stream": "stdout",
       "text": [
        "5\n"
       ]
      },
      {
       "name": "stdout",
       "output_type": "stream",
       "stream": "stdout",
       "text": [
        "4\n"
       ]
      },
      {
       "name": "stdout",
       "output_type": "stream",
       "stream": "stdout",
       "text": [
        "3\n"
       ]
      },
      {
       "output_type": "stream",
       "stream": "stdout",
       "text": [
        "yes\n"
       ]
      }
     ],
     "prompt_number": 28
    },
    {
     "cell_type": "markdown",
     "metadata": {},
     "source": [
      "## Problem 1.9\n",
      "\n",
      "Write a compare function that returns 1 if x > y, 0 if x == y, and -1 if x < y."
     ]
    },
    {
     "cell_type": "code",
     "collapsed": false,
     "input": [
      "# Problem 1.9\n",
      "def compare_function(x,y):\n",
      "    if x > y:\n",
      "        return 1\n",
      "    if x == y:\n",
      "        return 0\n",
      "    if x < y:\n",
      "        return -1\n",
      "    \n",
      "    \n",
      "\n",
      "print compare_function(9.8,5.2)\n",
      "print compare_function(45,765)\n",
      "print compare_function(5.5,5.5)"
     ],
     "language": "python",
     "metadata": {},
     "outputs": [
      {
       "output_type": "stream",
       "stream": "stdout",
       "text": [
        "1\n",
        "-1\n",
        "0\n"
       ]
      }
     ],
     "prompt_number": 40
    },
    {
     "cell_type": "markdown",
     "metadata": {},
     "source": [
      "## Problem 1.10\n",
      "\n",
      "The Ackermann function, $A(m, n)$, is defined:\n",
      "\n",
      "$$\n",
      "\\begin{eqnarray*}\n",
      "A(m, n) = \\begin{cases}\n",
      "              n+1 & \\mbox{if } m = 0 \\\\\n",
      "        A(m-1, 1) & \\mbox{if } m > 0 \\mbox{ and } n = 0 \\\\\n",
      "A(m-1, A(m, n-1)) & \\mbox{if } m > 0 \\mbox{ and } n > 0.\n",
      "\\end{cases}\n",
      "\\end{eqnarray*}\n",
      "$$\n",
      "\n",
      "See http://en.wikipedia.org/wiki/Ackermann_function.\n",
      "* Write a function named ack that evaluates Ackermann\u2019s function. \n",
      "* Use your function to evaluate $ack(3, 4)$, which should be 125.\n",
      "* What happens for larger values of m and n?"
     ]
    },
    {
     "cell_type": "code",
     "collapsed": false,
     "input": [
      "# Problem 1.10\n",
      "def ack(m,n):\n",
      "    if m<0:\n",
      "        print 'undefined'\n",
      "    if n<0:\n",
      "        print 'undefined'\n",
      "    else:\n",
      "        if m==0:\n",
      "            return n+1\n",
      "        if n==0:\n",
      "            return n+1\n",
      "            #\u96d6\u7136\u5b9a\u7fa9\u4e0d\u662f\u5982\u6b64\uff0c\u5176\u5be6\u6548\u679c\u4e00\u6a23\n",
      "        else:\n",
      "            \n",
      "            \n",
      "            \n",
      "    "
     ],
     "language": "python",
     "metadata": {},
     "outputs": [],
     "prompt_number": 43
    },
    {
     "cell_type": "markdown",
     "metadata": {},
     "source": [
      "## Problem 1.11\n",
      "\n",
      "A number, a, is a power of b if it is divisible by b and a/b is a power of b. Write a function called `is_power` that takes parameters a and b and returns True if a is a power of b. Note: you will have to think about the base case."
     ]
    },
    {
     "cell_type": "code",
     "collapsed": false,
     "input": [
      "# Problem 1.11\n",
      "def is_power(a,b):\n",
      "    fac01=a/b\n",
      "    fac02=fac01*b\n",
      "    if fac02==a:\n",
      "        while fac02==a:\n",
      "            a=fac01\n",
      "            fac01=a/b\n",
      "            fac02=fac01*b\n",
      "            \n",
      "    else :\n",
      "        print'no'\n",
      "\n",
      "            \n",
      "            \n",
      "is_power(81,3)"
     ],
     "language": "python",
     "metadata": {},
     "outputs": [
      {
       "output_type": "stream",
       "stream": "stdout",
       "text": [
        "no\n",
        "no\n",
        "yes\n",
        "no\n"
       ]
      }
     ],
     "prompt_number": 18
    },
    {
     "cell_type": "markdown",
     "metadata": {},
     "source": [
      "## Problem 1.12\n",
      "\n",
      "The greatest common divisor (GCD) of a and b is the largest number that divides both of them with no remainder.\n",
      "\n",
      "One way to find the GCD of two numbers is based on the observation that if r is the remainder when a is divided by b, then gcd(a, b) = gcd(b, r). As a base case, we can use gcd(a, 0) = a.\n",
      "\n",
      "Write a function called `gcd` that takes parameters a and b and returns their greatest common divisor."
     ]
    },
    {
     "cell_type": "code",
     "collapsed": false,
     "input": [
      "# Problem 1.12\n",
      "def gcd(a,b):\n",
      "    r=a/b"
     ],
     "language": "python",
     "metadata": {},
     "outputs": [],
     "prompt_number": 12
    }
   ],
   "metadata": {}
  }
 ]
}