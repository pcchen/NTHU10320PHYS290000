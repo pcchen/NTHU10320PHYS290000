{
 "metadata": {
  "name": "",
  "signature": "sha256:061d86c71ab17aed59aae7e7e283964bd54e8a1a2e7d7a4abe1874ab4b31e8b9"
 },
 "nbformat": 3,
 "nbformat_minor": 0,
 "worksheets": [
  {
   "cells": [
    {
     "cell_type": "markdown",
     "metadata": {},
     "source": [
      "# Homework 4"
     ]
    },
    {
     "cell_type": "markdown",
     "metadata": {},
     "source": [
      "## Problem 1 \n",
      "\n",
      "1. Implement the `Point` class.\n",
      "2. Implement the `Rectangle` class.\n",
      "3. Write a function called `distance_between_points` that takes two Points as arguments and returns the distance between them.\n",
      "4. Write a function named `move_rectangle` that takes a Rectangle and two numbers named `dx` and `dy`. It should change the location of the rectangle by adding `dx` to the `x` coordinate of corner and adding `dy` to the `y` coordinate of corner.\n",
      "5. Write a function named `move_rectangle_new` that is similar to the `move_rectangle` but it creates and returns a new Rectangle instead of modifying the old one.\n",
      "6. Write some codes to demonstrate the usage of functions above."
     ]
    },
    {
     "cell_type": "code",
     "collapsed": false,
     "input": [
      "# Problem 1\n",
      "\n",
      "# 1\n",
      "class Point(object):\n",
      "        \"\"\"for the question below\n",
      "        attributes:x and y\"\"\"\n",
      "        \n",
      "#2\n",
      "class rectangle(object):\n",
      "        \"\"\"for the question below\n",
      "        attributes:width,height and couner(point)\"\"\"\n",
      "\n",
      "# 3\n",
      "import math  \n",
      "def distance(p1,p2):\n",
      "    x=p1.x-p2.x\n",
      "    y=p1.y-p2.y\n",
      "    distance = math.sqrt(x**2+y**2)\n",
      "    return distance\n",
      "a=Point()\n",
      "b=Point()\n",
      "a.x=5\n",
      "a.y=5\n",
      "b.x=0\n",
      "b.y=0\n",
      "print distance(a,b)\n",
      "# 4\n",
      "def move_rectangle(rect,dx,dy):\n",
      "    rect.couner.x+=dx\n",
      "    rect.couner.y+=dy\n",
      "box=rectangle()\n",
      "box.couner=Point()\n",
      "box.couner.x=0\n",
      "box.couner.y=0\n",
      "move_rectangle(box,5,5)\n",
      "print box.couner.x,box.couner.y\n",
      "\n",
      "# 5\n",
      "import copy\n",
      "def move_rect_new(rect,dx,dy):\n",
      "    box1=copy.copy(rect)\n",
      "    move_rectangle(box1,dx,dy)\n",
      "    return box1\n",
      "print box\n",
      "print move_rect_new(box,5,10) #the location of memories is not the same\n",
      "\n",
      "\n",
      "    \n",
      "    "
     ],
     "language": "python",
     "metadata": {},
     "outputs": [
      {
       "output_type": "stream",
       "stream": "stdout",
       "text": [
        "7.07106781187\n",
        "5 5\n",
        "<__main__.rectangle object at 0x0000000003E5D5C0>\n",
        "<__main__.rectangle object at 0x00000000040B7198>\n"
       ]
      }
     ],
     "prompt_number": 17
    },
    {
     "cell_type": "markdown",
     "metadata": {},
     "source": [
      "## Problem 2\n",
      "\n",
      "1. Implement the `Time` class.\n",
      "2. Write a function called `print_time` that takes a Time object and prints it in the form `hour:minute:second`. \n",
      "  **Hint**: the format sequence '%.2d' prints an integer using at least two digits, including a leading zero if necessary.\n",
      "3. Write a boolean function called `is_after` that takes two Time objects, `t1` and `t2`, and returns `True` if `t1` follows `t2` chronologically and `False` otherwise. **Challenge**: don\u2019t use an `if` statement.\n",
      "4. Write a function called `increment_modifier` that adds a given number of seconds to a Time object. It should modify the original time object. It should not contain any loops.\n",
      "5. Write a function called `increment_pure` that adds a given number of seconds to a Time object. It should create and return a new Time object.\n",
      "6. Write a function called `mul_time` that takes a Time object and a number and returns a new Time object that contains the product of the original Time and the number.\n",
      "7. Use `mul_time` to write a function that takes a Time object that represents the finishing time in a race, and a number that represents the distance, and returns a Time object that represents the average pace (time per mile).\n",
      "8. Write some codes to demonstrate the usage of functions above."
     ]
    },
    {
     "cell_type": "code",
     "collapsed": false,
     "input": [
      "# Problem 2\n",
      "\n",
      "# 1\n",
      "class time(object):\n",
      "    \"\"\"your time is limited,don't waste it living someone else's life\"\"\"\n",
      "    \n",
      "# 2\n",
      "def print_time(time):\n",
      "    print '%.2d: %.2d %.2d' %(time.hour,time.minute,time.second) #% on the last sentence represent & for devc++\n",
      "t=time()\n",
      "t.hour=1\n",
      "t.minute=30\n",
      "t.second=30\n",
      "print_time(t)\n",
      "\n",
      "# 3\n",
      "def is_after(t1,t2):\n",
      "    if (t1.hour*3600+t1.minute*60+t1.second)>(t2.hour*3600+t2.minute*60+t2.second):\n",
      "        return False\n",
      "    else:\n",
      "        return True\n",
      "tn=time()\n",
      "tn.hour=1\n",
      "tn.minute=12\n",
      "tn.second=15\n",
      "print is_after(t,tn)\n",
      "# 4\n",
      "def increment_modifier(t1,n):\n",
      "    s=t1.hour*3600+t1.minute*60+t1.second\n",
      "    total=s*n\n",
      "    t1.hour=total/3600\n",
      "    t1.minute=(total%3600)/60\n",
      "    t1.second=total%60\n",
      "    print 't_done=',\n",
      "    print_time(t1)\n",
      "increment_modifier(t,2)\n",
      "# 5\n",
      "def increment_pure(t1,n):\n",
      "    s=t1.hour*3600+t1.minute*60+t1.second\n",
      "    total=s*n\n",
      "    x=time()\n",
      "    x.hour=total/3600\n",
      "    x.minute=(total%3600)/60\n",
      "    x.second=total%60\n",
      "    print 't_done=',\n",
      "    print_time(x)\n",
      "increment_pure(t,2)\n",
      "# 6\n",
      "def mul_time(t1,n):\n",
      "    s=t1.hour*3600+t1.minute*60+t1.second\n",
      "    x=time()\n",
      "    total=s*n\n",
      "    x.hour=total/3600\n",
      "    x.minute=(total%3600)/60\n",
      "    x.second=total%60\n",
      "    print 'oritinal time='\n",
      "    print_time(t1)\n",
      "    print 'n=',n\n",
      "    print 'product time='\n",
      "    print_time(x)\n",
      "mul_time(t,2)\n",
      "# 7\n",
      "def\n",
      "# 8"
     ],
     "language": "python",
     "metadata": {},
     "outputs": [
      {
       "output_type": "stream",
       "stream": "stdout",
       "text": [
        "01: 30 30\n",
        "False\n",
        "t_done= 03: 01 00\n",
        "t_done= 06: 02 00\n",
        "oritinal time=\n",
        "03: 01 00\n",
        "n= 2\n",
        "product time=\n",
        "06: 02 00\n"
       ]
      }
     ],
     "prompt_number": 36
    },
    {
     "cell_type": "markdown",
     "metadata": {},
     "source": [
      "## Problem 3\n",
      "\n",
      "1. Write a class definition for a Date object that has attributes `day`, `month` and `year`.\n",
      "2. Write a function called `increment_date` that takes a Date object, `date` and an integer, `n`, and returns a new Date object that represents the day `n` days after date.\n",
      "3. **Challenge**: does your function deal with leap years correctly? See http://en.wikipedia.org/wiki/Leap_year."
     ]
    },
    {
     "cell_type": "code",
     "collapsed": false,
     "input": [
      "class Date(object):\n",
      "    '''attribute:day,month and yyear'''\n",
      "def is_leap(year):\n",
      "    if year % 4 ==0:\n",
      "        if\n",
      "def increment)date(d,n):\n",
      "    "
     ],
     "language": "python",
     "metadata": {},
     "outputs": [
      {
       "output_type": "stream",
       "stream": "stdout",
       "text": [
        "Help on function <lambda> in module IPython.kernel.zmq.ipkernel:\n",
        "\n",
        "raw_input lambda prompt=''\n",
        "\n"
       ]
      }
     ],
     "prompt_number": 53
    },
    {
     "cell_type": "markdown",
     "metadata": {},
     "source": [
      "## Problem 4\n",
      "\n",
      "The `datetime` module provides date and time objects that are similar to the Date and Time objects in this chapter, but they provide a rich set of methods and operators. Read the documentation at http://docs.python.org/2/library/datetime.html.\n",
      "\n",
      "1. Use the `datetime` module to write a program that gets the current date and prints the day of the week.\n",
      "2. Write a program that takes a birthday as input and prints the user\u2019s age and the number of days, hours, minutes and seconds until their next birthday.\n",
      "3. For two people born on different days, there is a day when one is twice as old as the other. That\u2019s their Double Day. Write a program that takes two birthdays and computes their Double Day.\n",
      "4. For a little more challenge, write the more general version that computes the day when one person is `n` times older than the other."
     ]
    },
    {
     "cell_type": "code",
     "collapsed": false,
     "input": [
      "# Problem 4\n",
      "\n",
      "#1\n",
      "#2\n",
      "#3\n",
      "#4"
     ],
     "language": "python",
     "metadata": {},
     "outputs": [],
     "prompt_number": 4
    },
    {
     "cell_type": "markdown",
     "metadata": {},
     "source": [
      "## Problem 5\n",
      "\n",
      "Implement the `Point` class and the `Rectangle` class, with following methods.\n",
      "\n",
      "1. Write an `init` method for the Point class that takes `x` and `y` as optional parameters and assigns them to the corresponding attributes.\n",
      "2. Write a `str` method for the Point class.\n",
      "3. Write an `add` method for Points that works with either a Point object or a tuple:\n",
      "  * If the second operand is a Point, the method should return a new Point whose `x` coordinate is the sum of the `x` coordinates of the operands, and likewise for the `y` coordinates.\n",
      "  * If the second operand is a tuple, the method should add the first element of the tuple to the `x` coordinate and the second element to the `y` coordinate, and return a new Point with the result.\n",
      "4. Write some codes to demonstrate the usage of methods above."
     ]
    },
    {
     "cell_type": "code",
     "collapsed": false,
     "input": [
      "# Problem 5\n",
      "\n",
      "#1\n",
      "#2\n",
      "#3\n",
      "#4"
     ],
     "language": "python",
     "metadata": {},
     "outputs": [],
     "prompt_number": 5
    }
   ],
   "metadata": {}
  }
 ]
}