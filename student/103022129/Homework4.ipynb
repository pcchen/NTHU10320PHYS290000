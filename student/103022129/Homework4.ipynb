{
 "metadata": {
  "name": "",
  "signature": "sha256:4dccb8dad45d9286d07fdc3e2d86458a48e8a3b488e434dcf6e3d61d9b043722"
 },
 "nbformat": 3,
 "nbformat_minor": 0,
 "worksheets": [
  {
   "cells": [
    {
     "cell_type": "markdown",
     "metadata": {},
     "source": [
      "# Homework 4"
     ]
    },
    {
     "cell_type": "markdown",
     "metadata": {},
     "source": [
      "## Problem 1 \n",
      "\n",
      "1. Implement the `Point` class.\n",
      "2. Implement the `Rectangle` class.\n",
      "3. Write a function called `distance_between_points` that takes two Points as arguments and returns the distance between them.\n",
      "4. Write a function named `move_rectangle` that takes a Rectangle and two numbers named `dx` and `dy`. It should change the location of the rectangle by adding `dx` to the `x` coordinate of corner and adding `dy` to the `y` coordinate of corner.\n",
      "5. Write a function named `move_rectangle_new` that is similar to the `move_rectangle` but it creates and returns a new Rectangle instead of modifying the old one.\n",
      "6. Write some codes to demonstrate the usage of functions above."
     ]
    },
    {
     "cell_type": "code",
     "collapsed": false,
     "input": [
      "# Problem 1\n",
      "class Point(object):\n",
      "    \"\"\"a point in 2D plane ,  x and y coordinates\"\"\"\n",
      "p1=Point()\n",
      "p1.x=0\n",
      "p1.y=0\n",
      "p2=Point()\n",
      "p2.x=3\n",
      "p2.y=4\n",
      "class Rectangle(object):\n",
      "    \"\"\"a rectangle in 2D plane , width and height and corner \"\"\"\n",
      "rect = Rectangle()\n",
      "rect.w = 4 \n",
      "rect.h = 2  \n",
      "rect.corner = Point()\n",
      "rect.corner.x = 4\n",
      "rect.corner.y = 2\n",
      "\n",
      "def distance_between_points(p1,p2):\n",
      "    d=((p1.x-p2.x)**2+(p1.y-p2.y)**2)**0.5\n",
      "    distance=d\n",
      "    return distance\n",
      "def move_rectangle(rectangle,dx,dy):\n",
      "    rectangle.corner.x += dx\n",
      "    rectangle.corner.y += dy\n",
      "    return rectangle.corner.x,rectangle.corner.y\n",
      "def move_rectangle_new (rec,dx,dy):\n",
      "    rec_new=Rectangle()\n",
      "    rec_new.w = rec.w \n",
      "    rec_new.h = rec.h \n",
      "    rec_new.corner= Point()\n",
      "    rec_new.corner.x = 2\n",
      "    rec_new.corner.y = 1\n",
      "    rec_new.corner.x = rec.corner.x + dx\n",
      "    rec_new.corner.y = rec.corner.y + dy\n",
      "    return rec_new.w,rec_new.h,rec_new.corner.x ,rec_new.corner.y\n",
      "#6 deemo\n",
      "\n",
      "print distance_between_points(p1,p2)\n",
      "print move_rectangle(rec,3,2)\n",
      "print move_rectangle_new (rec,4,2)\n"
     ],
     "language": "python",
     "metadata": {},
     "outputs": [
      {
       "output_type": "stream",
       "stream": "stdout",
       "text": [
        "5.0\n",
        "(10, 6)\n",
        "(4, 2, 14, 8)\n"
       ]
      }
     ],
     "prompt_number": 9
    },
    {
     "cell_type": "markdown",
     "metadata": {},
     "source": [
      "## Problem 2\n",
      "\n",
      "1. Implement the `Time` class.\n",
      "2. Write a function called `print_time` that takes a Time object and prints it in the form `hour:minute:second`. \n",
      "  **Hint**: the format sequence '%.2d' prints an integer using at least two digits, including a leading zero if necessary.\n",
      "3. Write a boolean function called `is_after` that takes two Time objects, `t1` and `t2`, and returns `True` if `t1` follows `t2` chronologically and `False` otherwise. **Challenge**: don\u2019t use an `if` statement.\n",
      "4. Write a function called `increment_modifier` that adds a given number of seconds to a Time object. It should modify the original time object. It should not contain any loops.\n",
      "5. Write a function called `increment_pure` that adds a given number of seconds to a Time object. It should create and return a new Time object.\n",
      "6. Write a function called `mul_time` that takes a Time object and a number and returns a new Time object that contains the product of the original Time and the number.\n",
      "7. Use `mul_time` to write a function that takes a Time object that represents the finishing time in a race, and a number that represents the distance, and returns a Time object that represents the average pace (time per mile).\n",
      "8. Write some codes to demonstrate the usage of functions above."
     ]
    },
    {
     "cell_type": "code",
     "collapsed": false,
     "input": [
      "class Time(object):\n",
      "    \"\"\"represents the time of day.\n",
      "        attributes: hour, minute, second\"\"\"\n",
      "def print_time(t):\n",
      "    print '%.2d:%.2d:%.2d' % (t.hour, t.minute, t.second)\n",
      "\n",
      "def is_after(t1, t2):\n",
      "    return (t1.hour, t1.minute, t1.second) > (t2.hour, t2.minute, t2.second)\n",
      "def increment_modifier(time, seconds):\n",
      "    time.second += seconds\n",
      "    time.minute += time.second/60\n",
      "    time.hour += time.minute/60\n",
      " \n",
      "    time.second %= 60\n",
      "    time.minute %= 60\n",
      "    time.hour %= 24\n",
      "time = Time()\n",
      "time.hour = 12\n",
      "time.minute = 0\n",
      "time.second = 0\n",
      " \n",
      "def time_to_int(time):\n",
      "    minutes = time.hour * 60 + time.minute\n",
      "    seconds = minutes * 60 + time.second\n",
      "    return seconds\n",
      " \n",
      "def int_to_time(seconds):\n",
      "    time = Time()\n",
      "    minutes, time.second = divmod(seconds, 60)\n",
      "    time.hour, time.minute = divmod(minutes, 60)\n",
      "    return time\n",
      " \n",
      "def increment(time, addtime):\n",
      "    seconds = time_to_int(time)\n",
      "    return int_to_time(seconds + addtime)\n",
      " \n",
      "def print_time (x):\n",
      "    print 'The time is %.2d : %.2d : %.2d' % (x.hour, x.minute, x.second)\n",
      "print_time (time)\n",
      " \n",
      "newtime = increment (time, 120)\n",
      " \n",
      "print_time (newtime)\n",
      "\n",
      "def mul_time(time, factor):\n",
      "    seconds = time_to_int(time)\n",
      "    seconds *= factor\n",
      "    seconds = int(seconds)\n",
      "    return int_to_time(seconds)\n",
      "def average_pace(time, distance):\n",
      "    return mul_time(time, 1/distance)"
     ],
     "language": "python",
     "metadata": {},
     "outputs": [
      {
       "output_type": "stream",
       "stream": "stdout",
       "text": [
        "The time is 12 : 00 : 00\n",
        "The time is 12 : 02 : 00\n"
       ]
      }
     ],
     "prompt_number": 29
    },
    {
     "cell_type": "markdown",
     "metadata": {},
     "source": [
      "## Problem 3\n",
      "\n",
      "1. Write a class definition for a Date object that has attributes `day`, `month` and `year`.\n",
      "2. Write a function called `increment_date` that takes a Date object, `date` and an integer, `n`, and returns a new Date object that represents the day `n` days after date.\n",
      "3. **Challenge**: does your function deal with leap years correctly? See http://en.wikipedia.org/wiki/Leap_year."
     ]
    },
    {
     "cell_type": "code",
     "collapsed": false,
     "input": [
      "class Date(object):\n",
      "    \"\"\"represents a date.\n",
      "    attributes: day, month, year\"\"\"\n",
      " \n",
      "    \n",
      "def print_date(date):\n",
      " \n",
      "    print('{}.{}.{}'.format(date.day, date.month, date.year))\n",
      " \n",
      "def is_leap_year(year):\n",
      "       \n",
      "    if year % 4 == 0:\n",
      "        if year % 100 == 0:\n",
      "            if year % 400 == 0:\n",
      "                return True\n",
      "            return False\n",
      "        return True\n",
      "    return False\n",
      " \n",
      "def month_list(year):\n",
      "    if is_leap_year(year):\n",
      "        return [31, 29, 31, 30, 31, 30, 31, 31, 30, 31, 30, 31]\n",
      "    return [31, 28, 31, 30, 31, 30, 31, 31, 30, 31, 30, 31]\n",
      " \n",
      "def days_of_year(year):\n",
      "    if is_leap_year(year):\n",
      "        return 366\n",
      "    return 365\n",
      " \n",
      "def date_to_int(date):\n",
      "    days = 0\n",
      "    for year in range(1, date.year):\n",
      "        days += days_of_year(year)\n",
      " \n",
      "    month_days = month_list(date.year)\n",
      "    for month in range(1, date.month):\n",
      "        days += month_days[month - 1]\n",
      " \n",
      "    days += date.day - 1\n",
      "    return days\n",
      " \n",
      "def int_to_date(days):\n",
      "    date = Date()\n",
      " \n",
      "    date.year = 1\n",
      "    next_days = 365\n",
      "    while days >= next_days:\n",
      "        date.year += 1\n",
      "        days -= next_days\n",
      "        next_days = days_of_year(date.year)\n",
      " \n",
      "    date.month = 1\n",
      "    next_days = 31\n",
      "    month_days = month_list(date.year)\n",
      "    while days >= next_days:\n",
      "        date.month += 1\n",
      "        days -= next_days\n",
      "        next_days = month_days[date.month - 1]\n",
      " \n",
      "    date.day = days + 1\n",
      "    return date\n",
      " \n",
      "def increment_date(date, n):\n",
      "    days = date_to_int(date)\n",
      "    return int_to_date(days + n)\n",
      " \n",
      "d1 = Date()\n",
      "d1.day, d1.month, d1.year = 19, 5, 2015\n",
      "print_date(d1)\n",
      " \n",
      "d2 = increment_date(d1, 50)\n",
      "print_date(d2)"
     ],
     "language": "python",
     "metadata": {},
     "outputs": [
      {
       "output_type": "stream",
       "stream": "stdout",
       "text": [
        "19.5.2015\n",
        "8.7.2015\n"
       ]
      }
     ],
     "prompt_number": 23
    },
    {
     "cell_type": "markdown",
     "metadata": {},
     "source": [
      "## Problem 4\n",
      "\n",
      "The `datetime` module provides date and time objects that are similar to the Date and Time objects in this chapter, but they provide a rich set of methods and operators. Read the documentation at http://docs.python.org/2/library/datetime.html.\n",
      "\n",
      "1. Use the `datetime` module to write a program that gets the current date and prints the day of the week.\n",
      "2. Write a program that takes a birthday as input and prints the user\u2019s age and the number of days, hours, minutes and seconds until their next birthday.\n",
      "3. For two people born on different days, there is a day when one is twice as old as the other. That\u2019s their Double Day. Write a program that takes two birthdays and computes their Double Day.\n",
      "4. For a little more challenge, write the more general version that computes the day when one person is `n` times older than the other."
     ]
    },
    {
     "cell_type": "code",
     "collapsed": false,
     "input": [
      "from datetime import date\n",
      " \n",
      "def current_weekday():\n",
      "    i = date.today()\n",
      "    print i.strftime('%A')\n",
      "\n",
      "from datetime import datetime\n",
      "\n",
      "def time_until_birthday():\n",
      "    dob_input = raw_input(('Enter the date of your birth in '\n",
      "                       'the format \"mm/dd/yyyy\": '))\n",
      "    dob = datetime.strptime(dob_input, '%m/%d/%Y')\n",
      "    now = datetime.now()\n",
      "    if now > datetime(now.year, dob.month, dob.day):\n",
      "        age = now.year - dob.year\n",
      "        next_year = True\n",
      "    else:\n",
      "        age = now.year - dob.year - 1\n",
      "        next_year = False\n",
      "    time_to_birthday = datetime(now.year + next_year,\n",
      "                                dob.month, dob.day) - now\n",
      "    days = time_to_birthday.days\n",
      "    hours, remainder = divmod(time_to_birthday.seconds, 3600)\n",
      "    minutes, seconds = divmod(remainder, 60)\n",
      "    print(\"\\nYou are {} years old.\".format(age))\n",
      "    print((\"You have {0} days, {1} hours, {2} minutes and {3} \"\n",
      "           \"seconds left until your next birthday.\").format(\n",
      "               days, hours, minutes, seconds))\n",
      " \n",
      "time_until_birthday()\n",
      "current_weekday()"
     ],
     "language": "python",
     "metadata": {},
     "outputs": [
      {
       "name": "stdout",
       "output_type": "stream",
       "stream": "stdout",
       "text": [
        "Enter the date of your birth in the format \"mm/dd/yyyy\": 01/22/1996\n"
       ]
      },
      {
       "output_type": "stream",
       "stream": "stdout",
       "text": [
        "\n",
        "You are 19 years old.\n",
        "You have 247 days, 5 hours, 5 minutes and 21 seconds left until your next birthday.\n",
        "Tuesday\n"
       ]
      }
     ],
     "prompt_number": 1
    },
    {
     "cell_type": "markdown",
     "metadata": {},
     "source": [
      "## Problem 5\n",
      "\n",
      "Implement the `Point` class and the `Rectangle` class, with following methods.\n",
      "\n",
      "1. Write an `init` method for the Point class that takes `x` and `y` as optional parameters and assigns them to the corresponding attributes.\n",
      "2. Write a `str` method for the Point class.\n",
      "3. Write an `add` method for Points that works with either a Point object or a tuple:\n",
      "  * If the second operand is a Point, the method should return a new Point whose `x` coordinate is the sum of the `x` coordinates of the operands, and likewise for the `y` coordinates.\n",
      "  * If the second operand is a tuple, the method should add the first element of the tuple to the `x` coordinate and the second element to the `y` coordinate, and return a new Point with the result.\n",
      "4. Write some codes to demonstrate the usage of methods above."
     ]
    },
    {
     "cell_type": "code",
     "collapsed": false,
     "input": [
      "class Point(object):\n",
      "    \"\"\"Represents the time of day.\n",
      "    attributes: x, y\n",
      "    \"\"\"\n",
      "    \n",
      "    def __init__(self, x=0, y=0):\n",
      "        self.x = x\n",
      "        self.y = y\n",
      "#2       \n",
      "\n",
      "    def __str__(self):\n",
      "        return '%g,%g' % (self.x, self.y)\n",
      "\n",
      "\n",
      "#3\n",
      "    def __add__(self, other):\n",
      "        #if isinstance(other, Point):\n",
      "        if type(other) == Point:\n",
      "            p=Point()\n",
      "            p.x=self.x+other.x\n",
      "            p.y=self.x+other.y+1\n",
      "            return p\n",
      "        #if isinstance(other, tuple):\n",
      "        if type(other) == tuple:\n",
      "            t1,t2=other\n",
      "            x=self.x+t1\n",
      "            y=self.x+t2+1\n",
      "            p=Point(x,y)\n",
      "            return p\n",
      "            \n",
      "        \n",
      "#4 check\n",
      "p1=Point(4,7)\n",
      "print p1\n",
      "\n",
      "p2=Point(0,2)\n",
      "k=(2,7)\n",
      "c=p1+p2\n",
      "print c\n",
      "\n",
      "d=p1+k\n",
      "print d\n"
     ],
     "language": "python",
     "metadata": {},
     "outputs": [
      {
       "output_type": "stream",
       "stream": "stdout",
       "text": [
        "4,7\n",
        "4,7\n",
        "6,12\n"
       ]
      }
     ],
     "prompt_number": 4
    },
    {
     "cell_type": "code",
     "collapsed": false,
     "input": [],
     "language": "python",
     "metadata": {},
     "outputs": []
    }
   ],
   "metadata": {}
  }
 ]
}