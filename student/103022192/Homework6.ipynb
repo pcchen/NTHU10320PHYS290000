{
 "metadata": {
  "name": "",
  "signature": "sha256:2099dfb71d35c593cc7dff45d7d927c325d92b093c274d967ccff7a4d4b6f430"
 },
 "nbformat": 3,
 "nbformat_minor": 0,
 "worksheets": [
  {
   "cells": [
    {
     "cell_type": "markdown",
     "metadata": {},
     "source": [
      "# Homework 6"
     ]
    },
    {
     "cell_type": "markdown",
     "metadata": {},
     "source": [
      "## Problem 1\n",
      "\n",
      "Use **ivisual** module to plot the projectile motion with following equations of motion:\n",
      "\n",
      "$$\n",
      "\\begin{eqnarray*}\n",
      "  m\\ddot{x} &=& 0, \\\\\n",
      "  m\\ddot{y} &=& -mg, \\\\\n",
      "  m\\ddot{z} &=& 0,\n",
      "\\end{eqnarray*}\n",
      "$$\n",
      "and initial conditions\n",
      "\n",
      "$$\n",
      "  \\vec{r}(0) = (0, 0, 0), \\\\\n",
      "  \\vec{v}(0) = (v_{x0}, v_{y0}, 0),\n",
      "$$\n",
      "You can assign $v_{x0}$ and $v_{y0}$ in the code or ask user to input it.\n",
      "\n",
      "You should\n",
      "* Use a box to represent the ground.\n",
      "* Use three arrows to represent the three axes.\n",
      "* Use a sphere to represent the ball of the projectile motion.\n",
      "* Leave a trail.\n",
      "* Stop the simulation when the ball hit the ground.\n",
      "\n",
      "You should use to ways to calculate the trajectory of the motion.\n",
      "1. Use exact solution: $x(t)=x(0)+v_x t$, etc.\n",
      "2. Use numerical solution:\n",
      " * $v(t+dt) = v(t) + a * dt$.\n",
      " * $x(t+dt) = x(t) + v(t) * dt$.\n",
      "\n",
      "You should use a small enough $dt$ to ensure the numerical solution is accurate enough.\n"
     ]
    },
    {
     "cell_type": "code",
     "collapsed": false,
     "input": [
      "# Problem 1\n",
      "from ivisual import *\n",
      "scene = canvas(title = \"Scene\")\n",
      "scene.width = 800\n",
      "scene.height = 600\n",
      "scene.autoscale = 0\n",
      "scene.range = (100,100,100)\n",
      "scene.center = (0,0,0)\n",
      "mybox = box(pos=(0,0,0), size=(100, 5, 50),color=color.green )\n",
      "pointer1 = arrow(pos=(0,0,0), axis=(0,100,0), shaftwidth=2, color=color.red)\n",
      "pointer1 = arrow(pos=(0,0,0), axis=(100,0,0), shaftwidth=2, color=color.red)\n",
      "pointer1 = arrow(pos=(0,0,0), axis=(0,0,100), shaftwidth=2, color=color.red)\n",
      "ball = sphere(pos=(20,50,0), radius=3)\n",
      "\n",
      "a=vector(0,-10,0)\n",
      "ball.velocity = vector(25,-10,0)\n",
      "vscale = 0.1\n",
      "deltat = 0.005\n",
      "t=0\n",
      "while t < 3:\n",
      "    rate(50)\n",
      "    if ball.pos.z < mybox.pos.z:\n",
      "         ball.velocity.z = -ball.velocity.z\n",
      "    if ball.pos.x < mybox.pos.x:\n",
      "         ball.velocity.x = -ball.velocity.x\n",
      "    if ball.pos.y < mybox.pos.y:\n",
      "         ball.velocity.y = -ball.velocity.y\n",
      "    ball.velocity = ball.velocity+a*t\n",
      "    ball.pos = ball.pos + ball.velocity*deltat\n",
      "    t = t + deltat\n",
      "\n",
      "#Stop the ball when it hits the ground is not fun, therefore I created the bouncing ball, and simulates \n",
      "# how the ball would bounce, please do not mark down this"
     ],
     "language": "python",
     "metadata": {},
     "outputs": [
      {
       "html": [
        "<div id=\"scene30\"><div id=\"glowscript\" class=\"glowscript\"></div></div>"
       ],
       "metadata": {},
       "output_type": "display_data",
       "text": [
        "<IPython.core.display.HTML at 0x3e65828>"
       ]
      },
      {
       "javascript": [
        "window.__context = { glowscript_container: $(\"#glowscript\").removeAttr(\"id\")}"
       ],
       "metadata": {},
       "output_type": "display_data",
       "text": [
        "<IPython.core.display.Javascript at 0x3d2ad30>"
       ]
      }
     ],
     "prompt_number": 33
    },
    {
     "cell_type": "markdown",
     "metadata": {},
     "source": [
      "## Problem 2\n",
      "\n",
      "Now introduce the air resistence so the equations of motion become:\n",
      "\n",
      "$$\n",
      "\\begin{eqnarray*}\n",
      "  m\\ddot{x} &=& -km\\dot{x}, \\\\\n",
      "  m\\ddot{y} &=& -km\\dot{y}-mg, \\\\\n",
      "  m\\ddot{z} &=& 0,\n",
      "\\end{eqnarray*}\n",
      "$$\n",
      "and initial conditions\n",
      "\n",
      "$$\n",
      "  \\vec{r}(0) = (0, 0, 0), \\\\\n",
      "  \\vec{v}(0) = (v_{x0}, v_{y0}, 0),\n",
      "$$\n",
      "You can assign $v_{x0}$ and $v_{y0}$ in the code or ask user to input it.\n",
      "\n",
      "You should\n",
      "* Use a box to represent the ground.\n",
      "* Use three arrows to represent the three axes.\n",
      "* Use a sphere to represent the ball of the projectile motion.\n",
      "* Leave a trail.\n",
      "* Stop the simulation when the ball hit the ground.\n",
      "\n",
      "\n",
      "You should use to ways to calculate the trajectory of the motion.\n",
      "1. Use exact solution: (Check for example Marion's book).\n",
      "2. Use numerical solution:\n",
      " * $v(t+dt) = v(t) + a * dt$.\n",
      " * $x(t+dt) = x(t) + v(t) * dt$.\n",
      "\n",
      "You should use a small enough $dt$ to ensure the numerical solution is accurate enough.\n"
     ]
    },
    {
     "cell_type": "code",
     "collapsed": false,
     "input": [
      "# Problem 2\n",
      "from ivisual import *\n",
      "scene = canvas(title = \"Scene\")\n",
      "scene.width = 800\n",
      "scene.height = 600\n",
      "scene.autoscale = 0\n",
      "scene.range = (100,100,100)\n",
      "scene.center = (0,0,0)\n",
      "mybox = box(pos=(0,0,0), size=(100, 5, 50),color=color.green )\n",
      "pointer1 = arrow(pos=(0,0,0), axis=(0,100,0), shaftwidth=2, color=color.red)\n",
      "pointer1 = arrow(pos=(0,0,0), axis=(100,0,0), shaftwidth=2, color=color.red)\n",
      "pointer1 = arrow(pos=(0,0,0), axis=(0,0,100), shaftwidth=2, color=color.red)\n",
      "ball = sphere(pos=(20,50,0), radius=3,make_trail=True)\n",
      "\n",
      "a_no_resistance=vector(0,-10,0)\n",
      "\n",
      "ball.velocity = vector(25,-10,100)\n",
      "\n",
      "vscale = 0.1\n",
      "air_resistance= 0.02\n",
      "a=a_no_resistance-air_resistance*ball.velocity\n",
      "\n",
      "#by introducing air_resitance multiply by ball velocity, we considered the resistance in all x,y,z directions.\n",
      "\n",
      "deltat = 0.005\n",
      "t=0\n",
      "while t < 3:\n",
      "    rate(50)\n",
      "    if ball.pos.z < mybox.pos.z:\n",
      "         ball.velocity.z = -ball.velocity.z\n",
      "    if ball.pos.x < mybox.pos.x:\n",
      "         ball.velocity.x = -ball.velocity.x\n",
      "    if ball.pos.y < mybox.pos.y:\n",
      "         ball.velocity.y = -ball.velocity.y\n",
      "    ball.velocity = ball.velocity+a*t\n",
      "    ball.pos = ball.pos + ball.velocity*deltat\n",
      "    t = t + deltat\n",
      "    if ball.pos.y<0:\n",
      "        break\n",
      "\n"
     ],
     "language": "python",
     "metadata": {},
     "outputs": [
      {
       "html": [
        "<div id=\"scene41\"><div id=\"glowscript\" class=\"glowscript\"></div></div>"
       ],
       "metadata": {},
       "output_type": "display_data",
       "text": [
        "<IPython.core.display.HTML at 0x3f1f780>"
       ]
      },
      {
       "javascript": [
        "window.__context = { glowscript_container: $(\"#glowscript\").removeAttr(\"id\")}"
       ],
       "metadata": {},
       "output_type": "display_data",
       "text": [
        "<IPython.core.display.Javascript at 0x3e9beb8>"
       ]
      }
     ],
     "prompt_number": 44
    },
    {
     "cell_type": "markdown",
     "metadata": {},
     "source": [
      "## Problem 3\n",
      "\n",
      "Use **ivisual** module to plot the trajectory of a coupled spring-mass system that has two masses, three springs, two walls.\n",
      "\n",
      "Something like Wall-spring1-mass1-spring2-mass2-spring3-Wall.\n",
      "\n",
      "You should\n",
      "* Use a box to represent the ground.\n",
      "* Use two boxes to represent the walls.\n",
      "* Use two **cubic** boxes to represent the two masses.\n",
      "* Use helix to represent the two srpings.\n"
     ]
    },
    {
     "cell_type": "code",
     "collapsed": false,
     "input": [
      "# Problem 3\n",
      "from ivisual import *\n",
      "scene = canvas(title = \"Scene\")\n",
      "scene.width = 800\n",
      "scene.height = 600\n",
      "scene.autoscale = 0\n",
      "scene.range = (100,100,100)\n",
      "scene.center = (0,0,0)\n",
      "\n",
      "mybox = box(pos=(0,0,0), size=(100, 5, 50),color=color.green )\n",
      "wallL = box(pos=(50,22,0), size=(5, 50, 50),color=color.yellow )\n",
      "wallR = box(pos=(-50,22,0), size=(5, 50, 50),color=color.yellow )\n",
      "mass1 = box(pos=(-25,22,0), size=(5, 5, 5),color=color.white )\n",
      "mass2 = box(pos=(25,22,0), size=(5, 5, 5) ,color=color.white)\n",
      "\n",
      "spring1 = helix(pos=(-50,22,0), axis=(25,0,0), radius=1,coils=30, color=color.blue)\n",
      "spring2 = helix(pos=(-25,22,0), axis=(50,0,0), radius=1, coils=100,color=color.red)\n",
      "spring2 = helix(pos=(25,22,0), axis=(25,0,0), radius=1, coils=30,color=color.blue)\n"
     ],
     "language": "python",
     "metadata": {},
     "outputs": [
      {
       "html": [
        "<div id=\"scene9\"><div id=\"glowscript\" class=\"glowscript\"></div></div>"
       ],
       "metadata": {},
       "output_type": "display_data",
       "text": [
        "<IPython.core.display.HTML at 0x36d6b38>"
       ]
      },
      {
       "javascript": [
        "window.__context = { glowscript_container: $(\"#glowscript\").removeAttr(\"id\")}"
       ],
       "metadata": {},
       "output_type": "display_data",
       "text": [
        "<IPython.core.display.Javascript at 0x36d85c0>"
       ]
      }
     ],
     "prompt_number": 10
    },
    {
     "cell_type": "markdown",
     "metadata": {},
     "source": [
      "# Problem 4\n",
      "\n",
      "Use **ivisual** module to plot the trajectories of 20 particles in a rectangle box.\n",
      "\n",
      "* The rectangle box has the dimension $L_x$, $L_y$, $L_z$.\n",
      "* Use boxes to represent the walls. Keep one wall **invisible**.\n",
      "* The 20 particles should have **random** initial velocity.\n",
      "* The 20 particles should leave a trail.\n",
      "* Make each particle has random RGB color."
     ]
    },
    {
     "cell_type": "code",
     "collapsed": false,
     "input": [
      "# Problem 4\n",
      "from ivisual import *\n",
      "scene = canvas(title = \"Scene\")\n",
      "scene.width = 800\n",
      "scene.height = 600\n",
      "scene.autoscale = 0\n",
      "scene.range = (100,100,100)\n",
      "scene.center = (0,0,0)\n",
      "\n",
      "wallR = box(pos=(+6,0,0), size=(0.2,12,12), color=color.green)\n",
      "wallL = box(pos=(-6,0,0), size=(0.2,12,12), color=color.green)\n",
      "wallU = box(pos=(0,+6,0), size=(12,0.2,12), color=color.blue)\n",
      "wallD = box(pos=(0,-6,0), size=(12,0.2,12), color=color.blue)\n",
      "wallB = box(pos=(0,0,-6), size=(12,12,0.2), color=color.red)\n",
      "\n",
      "ball1= sphere(pos=(-15,-15,0), radius=1, color=color.red)\n",
      "ball2= sphere(pos=(-5,-5,0), radius=1, color=color.yellow)\n",
      "ball3= sphere(pos=(-25,-5,0), radius=1, color=random.color)\n",
      "ball4= sphere(pos=(-5,-35,0), radius=1, color=random.color)\n",
      "ball5= sphere(pos=(-35,-5,0), radius=1, color=random.color)\n",
      "ball6= sphere(pos=(-5,-23,0), radius=1, color=random.color)\n",
      "ball7= sphere(pos=(-5,-5,0), radius=1, color=random.color)\n",
      "ball8= sphere(pos=(-23,-5,0), radius=1, color=random.color)\n",
      "ball9= sphere(pos=(-5,-1,0), radius=1, color=random.color)\n",
      "ball10= sphere(pos=(-5,0,0), radius=1, color=random.color)\n",
      "ball11= sphere(pos=(-5,-5,0), radius=1, color=random.color)\n",
      "ball12= sphere(pos=(-5,-5,0), radius=1, color=random.color)\n",
      "ball13= sphere(pos=(-5,-5,0), radius=1, color=random.color)\n",
      "ball14= sphere(pos=(-5,-5,0), radius=1, color=random.color)\n",
      "ball15= sphere(pos=(-5,-5,0), radius=1, color=random.color)\n",
      "ball16= sphere(pos=(-5,-5,0), radius=1, color=random.color)\n",
      "ball17= sphere(pos=(-5,-5,0), radius=1, color=random.color)\n",
      "ball18= sphere(pos=(-5,-5,0), radius=1, color=random.color)\n",
      "ball19= sphere(pos=(-5,-5,0), radius=1, color=random.color)\n",
      "ball20= sphere(pos=(-5,-5,0), radius=1, color=random.color)\n",
      "\n",
      "\n",
      "\n",
      "\n",
      "\n",
      "ball1.velocity = vector(0,5,-5)\n",
      "vscale = 0.1\n",
      "varr = arrow(pos=ball.pos, axis=vscale*ball.velocity, color=color.yellow)\n",
      "\n",
      "ball.trail = curve(color=ball.color)\n",
      "\n",
      "deltat = 0.005\n",
      "t=0\n",
      "\n",
      "while t < 10:\n",
      "    for i in range(20):\n",
      "        rate(50)\n",
      "        if balli.pos.x > wallR.pos.x:\n",
      "             balli.velocity.x = -ball.velocity.x\n",
      "        if balli.pos.x < wallL.pos.x:\n",
      "             ball.velocity.x = -ball.velocity.x\n",
      "        if balli.pos.y > wallU.pos.y:\n",
      "             ball.velocity.y = -ball.velocity.y\n",
      "        if balli.pos.y < wallD.pos.y:\n",
      "             ball.velocity.y = -ball.velocity.y\n",
      "        if balli.pos.z < wallB.pos.z:\n",
      "            balli.velocity.z = -ball.velocity.z\n",
      "        if balli.pos.z > +6:\n",
      "            balli.velocity.z = -ball.velocity.z\n",
      "    \n",
      "ball.pos = ball.pos + ball.velocity*deltat\n",
      "varr.pos = ball.pos\n",
      "varr.axis = vscale*ball.velocity\n",
      "ball.trail.append(pos=ball.pos)\n",
      "    \n",
      "t = t + deltat"
     ],
     "language": "python",
     "metadata": {},
     "outputs": [
      {
       "html": [
        "<div id=\"scene43\"><div id=\"glowscript\" class=\"glowscript\"></div></div>"
       ],
       "metadata": {},
       "output_type": "display_data",
       "text": [
        "<IPython.core.display.HTML at 0x406c518>"
       ]
      },
      {
       "javascript": [
        "window.__context = { glowscript_container: $(\"#glowscript\").removeAttr(\"id\")}"
       ],
       "metadata": {},
       "output_type": "display_data",
       "text": [
        "<IPython.core.display.Javascript at 0x3ec6588>"
       ]
      },
      {
       "ename": "NameError",
       "evalue": "name 'red' is not defined",
       "output_type": "pyerr",
       "traceback": [
        "\u001b[1;31m---------------------------------------------------------------------------\u001b[0m\n\u001b[1;31mNameError\u001b[0m                                 Traceback (most recent call last)",
        "\u001b[1;32m<ipython-input-46-4567bad91287>\u001b[0m in \u001b[0;36m<module>\u001b[1;34m()\u001b[0m\n\u001b[0;32m     14\u001b[0m \u001b[0mwallB\u001b[0m \u001b[1;33m=\u001b[0m \u001b[0mbox\u001b[0m\u001b[1;33m(\u001b[0m\u001b[0mpos\u001b[0m\u001b[1;33m=\u001b[0m\u001b[1;33m(\u001b[0m\u001b[1;36m0\u001b[0m\u001b[1;33m,\u001b[0m\u001b[1;36m0\u001b[0m\u001b[1;33m,\u001b[0m\u001b[1;33m-\u001b[0m\u001b[1;36m6\u001b[0m\u001b[1;33m)\u001b[0m\u001b[1;33m,\u001b[0m \u001b[0msize\u001b[0m\u001b[1;33m=\u001b[0m\u001b[1;33m(\u001b[0m\u001b[1;36m12\u001b[0m\u001b[1;33m,\u001b[0m\u001b[1;36m12\u001b[0m\u001b[1;33m,\u001b[0m\u001b[1;36m0.2\u001b[0m\u001b[1;33m)\u001b[0m\u001b[1;33m,\u001b[0m \u001b[0mcolor\u001b[0m\u001b[1;33m=\u001b[0m\u001b[0mcolor\u001b[0m\u001b[1;33m.\u001b[0m\u001b[0mred\u001b[0m\u001b[1;33m)\u001b[0m\u001b[1;33m\u001b[0m\u001b[0m\n\u001b[0;32m     15\u001b[0m \u001b[1;33m\u001b[0m\u001b[0m\n\u001b[1;32m---> 16\u001b[1;33m \u001b[0mball1\u001b[0m\u001b[1;33m=\u001b[0m \u001b[0msphere\u001b[0m\u001b[1;33m(\u001b[0m\u001b[0mpos\u001b[0m\u001b[1;33m=\u001b[0m\u001b[1;33m(\u001b[0m\u001b[1;33m-\u001b[0m\u001b[1;36m15\u001b[0m\u001b[1;33m,\u001b[0m\u001b[1;33m-\u001b[0m\u001b[1;36m15\u001b[0m\u001b[1;33m,\u001b[0m\u001b[1;36m0\u001b[0m\u001b[1;33m)\u001b[0m\u001b[1;33m,\u001b[0m \u001b[0mradius\u001b[0m\u001b[1;33m=\u001b[0m\u001b[1;36m1\u001b[0m\u001b[1;33m,\u001b[0m \u001b[0mcolor\u001b[0m\u001b[1;33m=\u001b[0m\u001b[0mred\u001b[0m\u001b[1;33m)\u001b[0m\u001b[1;33m\u001b[0m\u001b[0m\n\u001b[0m\u001b[0;32m     17\u001b[0m \u001b[0mball2\u001b[0m\u001b[1;33m=\u001b[0m \u001b[0msphere\u001b[0m\u001b[1;33m(\u001b[0m\u001b[0mpos\u001b[0m\u001b[1;33m=\u001b[0m\u001b[1;33m(\u001b[0m\u001b[1;33m-\u001b[0m\u001b[1;36m5\u001b[0m\u001b[1;33m,\u001b[0m\u001b[1;33m-\u001b[0m\u001b[1;36m5\u001b[0m\u001b[1;33m,\u001b[0m\u001b[1;36m0\u001b[0m\u001b[1;33m)\u001b[0m\u001b[1;33m,\u001b[0m \u001b[0mradius\u001b[0m\u001b[1;33m=\u001b[0m\u001b[1;36m1\u001b[0m\u001b[1;33m,\u001b[0m \u001b[0mcolor\u001b[0m\u001b[1;33m=\u001b[0m\u001b[0mblue\u001b[0m\u001b[1;33m)\u001b[0m\u001b[1;33m\u001b[0m\u001b[0m\n\u001b[0;32m     18\u001b[0m \u001b[0mball3\u001b[0m\u001b[1;33m=\u001b[0m \u001b[0msphere\u001b[0m\u001b[1;33m(\u001b[0m\u001b[0mpos\u001b[0m\u001b[1;33m=\u001b[0m\u001b[1;33m(\u001b[0m\u001b[1;33m-\u001b[0m\u001b[1;36m25\u001b[0m\u001b[1;33m,\u001b[0m\u001b[1;33m-\u001b[0m\u001b[1;36m5\u001b[0m\u001b[1;33m,\u001b[0m\u001b[1;36m0\u001b[0m\u001b[1;33m)\u001b[0m\u001b[1;33m,\u001b[0m \u001b[0mradius\u001b[0m\u001b[1;33m=\u001b[0m\u001b[1;36m1\u001b[0m\u001b[1;33m,\u001b[0m \u001b[0mcolor\u001b[0m\u001b[1;33m=\u001b[0m\u001b[0mrandom\u001b[0m\u001b[1;33m.\u001b[0m\u001b[0mcolor\u001b[0m\u001b[1;33m)\u001b[0m\u001b[1;33m\u001b[0m\u001b[0m\n",
        "\u001b[1;31mNameError\u001b[0m: name 'red' is not defined"
       ]
      }
     ],
     "prompt_number": 46
    },
    {
     "cell_type": "code",
     "collapsed": false,
     "input": [
      "print 25"
     ],
     "language": "python",
     "metadata": {},
     "outputs": [
      {
       "output_type": "stream",
       "stream": "stdout",
       "text": [
        "25\n"
       ]
      }
     ],
     "prompt_number": 20
    },
    {
     "cell_type": "code",
     "collapsed": false,
     "input": [],
     "language": "python",
     "metadata": {},
     "outputs": []
    }
   ],
   "metadata": {}
  }
 ]
}