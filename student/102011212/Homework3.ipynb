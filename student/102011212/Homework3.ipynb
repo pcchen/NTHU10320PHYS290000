{
 "metadata": {
  "name": "",
  "signature": "sha256:99151275005004bcf78e4c2ef9786f0d6907396e238161b131134ae41f9a0220"
 },
 "nbformat": 3,
 "nbformat_minor": 0,
 "worksheets": [
  {
   "cells": [
    {
     "cell_type": "markdown",
     "metadata": {},
     "source": [
      "# Homework 3"
     ]
    },
    {
     "cell_type": "markdown",
     "metadata": {},
     "source": [
      "## Problem 1: Logistic map, chaos, bifurcation\n",
      "\n",
      "Consider the logic map\n",
      "\n",
      "$$\n",
      "  x_{n+1} = \\alpha x_n (1-x_n)\n",
      "$$\n",
      "\n",
      "Write a program to calculates and displays the behavior of the logistic map.\n",
      "\n",
      "* For a give value of $\\alpha$, start with $x=0.5$ and iterate the logistic map equation a thousand times. \n",
      "  * That will give it a chance to settle down to a fixed point or limit cycle if its going to.\n",
      "\n",
      "* Run for another thousand iterations and plot the points $(\\alpha,x)$ on a graph where the horizontal axis is $\\alpha$ and the vertical axis is $x$.\n",
      "\n",
      "* Repeat the whole calculation for values of $\\alpha$ from 1 to 4 in steps of 0.01, plotting the dots for all values of $\\alpha$ on the same figure.\n",
      "\n",
      "Reference: https://en.wikipedia.org/wiki/Logistic_map"
     ]
    },
    {
     "cell_type": "code",
     "collapsed": false,
     "input": [
      "# Problem 1\n",
      "%pylab inline\n",
      "import numpy as np\n",
      "\n",
      "s=[]\n",
      "def logic_map(a):\n",
      "    i=0\n",
      "    x=0.5\n",
      "    while i<=2000:\n",
      "        x=a*x*(1-x)\n",
      "        if i>=1000:\n",
      "            s.append([a,x])\n",
      "        i=i+1\n",
      "\n",
      "a1=np.arange(1, 4, 0.01)\n",
      "logic_map(a1)\n",
      "s=np.array(s)\n",
      "\n",
      "x1=s[:,0]\n",
      "y1=s[:,1]\n",
      "\n",
      "figure(figsize(10,10))\n",
      "plot(x1,y1,'k.')\n",
      "show()"
     ],
     "language": "python",
     "metadata": {},
     "outputs": [
      {
       "output_type": "stream",
       "stream": "stdout",
       "text": [
        "Populating the interactive namespace from numpy and matplotlib\n"
       ]
      },
      {
       "metadata": {},
       "output_type": "display_data",
       "png": "[encoded data removed]",
       "text": [
        "<matplotlib.figure.Figure at 0x53c1390>"
       ]
      }
     ],
     "prompt_number": 7
    },
    {
     "cell_type": "markdown",
     "metadata": {},
     "source": [
      "## Problem 2: The Mandelbrot set\n",
      "\n",
      "\n",
      "\n",
      "Consider the equation\n",
      "$$\n",
      "  z^\\prime=z^2+c,\n",
      "$$\n",
      "where $z$ is a complex number and $c$ is a complex constant.\n",
      "\n",
      "For a given complex value of $c$, start with $z = 0$ and iterate repeatedly. \n",
      "If the magnitude $|z|$ of the resulting value is ever greater than $2$, \n",
      "then the point in the complex plane at position $c$ is not in the Mandelbrot set, \n",
      "otherwise it is in the set.\n",
      "\n",
      "In principle, one has to iterate infinitely many times to prove that a point is in the Mandelbrot set.\n",
      "In practice, however, one usually just performs some large number of iterations, \n",
      "say 100 or 1000, and if $|z|$ hasn't exceeded 2 by that point then we call that good enough.\n",
      "\n",
      "Write a program to make an image of the Mandelbrot set by performing the iteration for all values of $c = x + iy$ on an $N \\times N$ grid spanning the region where $-2 \\le x \\le 2$ and $-2 \\le y \\le 2$. Make a **density plot** in which grid points inside the Mandelbrot set are colored black and those outside are colored white. \n",
      "\n",
      "\n",
      "Hint: You will probably find it useful to start off with quite a coarse grid, i.e., with a small value of $N$\n",
      "(perhaps $N = 100$) so that your program runs quickly while you are testing it. \n",
      "Once you are sure it is working correctly, increase the value of $N$ to produce a final high-quality image of the shape of the set.\n",
      "\n",
      "Instead of coloring points just black or white, color points according to the number of iterations of the equation before $z$ becomes greater than $2$ (or the maximum number of iterations if $|z|$ never becomes greater than 2). Use color schemes such as the `hot` or `jet` schemes. \n",
      "\n",
      "Or to color according to the logarithm of the number of iterations.\n",
      "\n",
      "Reference: https://en.wikipedia.org/wiki/Mandelbrot_set"
     ]
    },
    {
     "cell_type": "code",
     "collapsed": false,
     "input": [
      "# Problem 2\n",
      "%pylab inline\n",
      "import numpy as np\n",
      "def mandelbrot_set(x,y):\n",
      "    z=complex(0,0)\n",
      "    c=complex(x,y)\n",
      "    count=100\n",
      "    i=0\n",
      "    while i <= count:\n",
      "        z=z*z+c\n",
      "        if (z.real**2+z.imag**2)>=2*2:\n",
      "            return 99\n",
      "        i=i+1\n",
      "    return 100   #100:yes 99:no\n",
      "\n",
      "s=[]\n",
      "x_range=np.arange(-2,2,0.01)\n",
      "y_range=np.arange(-2,2,0.01)\n",
      "for x in x_range:\n",
      "    for y in y_range:\n",
      "        if mandelbrot_set(x,y)==100:\n",
      "            s.append([x,y])\n",
      "        if mandelbrot_set(x,y)==99:\n",
      "            pass\n",
      "figure(figsize(10,10))\n",
      "s=np.array(s)\n",
      "x=s[:,0]\n",
      "y=s[:,1]\n",
      "plot(x, y, 'k.')\n",
      "show()\n",
      "\n",
      "\n",
      "    "
     ],
     "language": "python",
     "metadata": {},
     "outputs": [
      {
       "output_type": "stream",
       "stream": "stdout",
       "text": [
        "Populating the interactive namespace from numpy and matplotlib\n"
       ]
      },
      {
       "metadata": {},
       "output_type": "display_data",
       "png": "[encoded data removed]",
       "text": [
        "<matplotlib.figure.Figure at 0x5258e90>"
       ]
      }
     ],
     "prompt_number": 6
    },
    {
     "cell_type": "code",
     "collapsed": false,
     "input": [
      "# Problem 2-2\n",
      "%pylab inline\n",
      "import numpy as np\n",
      "\n",
      "def mandelbrot_set(x,y):\n",
      "    z=complex(0,0)\n",
      "    c=complex(x,y)\n",
      "    count=100\n",
      "    i=0\n",
      "    while i <= count:\n",
      "        z=z*z+c\n",
      "        if (z.real**2+z.imag**2)>=2*2:\n",
      "            return i\n",
      "        i=i+1\n",
      "    return 100\n",
      "\n",
      "s=np.zeros((500, 500))\n",
      "delta_x=4.0/500.0\n",
      "delta_y=4.0/500.0\n",
      "x=0\n",
      "i=100\n",
      "while x<=499:\n",
      "    c_real=(-2)+x*delta_x\n",
      "    y=0\n",
      "    while y<=499:\n",
      "        c_imag=(-2)+y*delta_y\n",
      "        color =mandelbrot_set(c_real, c_imag)\n",
      "        s[y,x]=color\n",
      "        y=y+1\n",
      "    x=x+1    \n",
      "imshow(s)\n",
      "show()\n",
      "\n",
      "\n"
     ],
     "language": "python",
     "metadata": {},
     "outputs": [
      {
       "output_type": "stream",
       "stream": "stdout",
       "text": [
        "Populating the interactive namespace from numpy and matplotlib\n"
       ]
      },
      {
       "metadata": {},
       "output_type": "display_data",
       "png": "[encoded data removed]",
       "text": [
        "<matplotlib.figure.Figure at 0xa49d4e0>"
       ]
      }
     ],
     "prompt_number": 8
    },
    {
     "cell_type": "markdown",
     "metadata": {},
     "source": [
      "## Problem 3: Quadratic equations"
     ]
    },
    {
     "cell_type": "markdown",
     "metadata": {},
     "source": [
      "### Problem 3.1\n",
      "\n",
      "Write a program that takes as input three numbers, $a$, $b$, and $c$, and prints out the two solutions to the quadratic equation $ax^2 + bx + c = 0$ using the standard \ufffcformula\n",
      "\n",
      "$$\n",
      "  x = \\frac{-b\\pm\\sqrt{b^2-4ac}}{2a}.\n",
      "$$\n",
      "\n",
      "Use your program to compute the solutions of $0.001x^2 + 1000x + 0.001 = 0$."
     ]
    },
    {
     "cell_type": "code",
     "collapsed": false,
     "input": [
      "# Problem 3.1\n",
      "import math\n",
      "def solution_func(a,b,c):\n",
      "    float(a)\n",
      "    float(b)\n",
      "    float(c)\n",
      "    x1=(-b+math.sqrt(b*b-4*a*c))/(2*a)\n",
      "    x2=(-b-math.sqrt(b*b-4*a*c))/(2*a)\n",
      "    print 'solution1=',x1\n",
      "    print 'solution2=',x2\n",
      "    \n",
      "solution_func(0.001,1000,0.001)"
     ],
     "language": "python",
     "metadata": {},
     "outputs": [
      {
       "output_type": "stream",
       "stream": "stdout",
       "text": [
        "solution1= -9.99989424599e-07\n",
        "solution2= -999999.999999\n"
       ]
      }
     ],
     "prompt_number": 12
    },
    {
     "cell_type": "markdown",
     "metadata": {},
     "source": [
      "### Problem 3.2\n",
      "\n",
      "There is another way to write the solutions to a quadratic equation. Multiplying top and bottom of the solution above by $-b\\mp\\sqrt{b^2-4ac}$, one can show that the solutions \ufffccan also be written as\n",
      "\n",
      "$$\n",
      "  x = \\frac{2c}{-b\\mp\\sqrt{b^2-4ac}}.\n",
      "$$\n",
      "\n",
      "Write a program that takes as input three numbers, a, b, and c, and prints out the two solutions to the quadratic equation $ax^2+bx+c=0$ using this formula. Use the program to solve $0.001x^2 + 1000x + 0.001 = 0$."
     ]
    },
    {
     "cell_type": "code",
     "collapsed": false,
     "input": [
      "# Problem 3.2\n",
      "import math\n",
      "def solution_func(a,b,c):\n",
      "    float(a)\n",
      "    float(b)\n",
      "    float(c)\n",
      "    x1=2*c/(-b-math.sqrt(b*b-4*a*c))\n",
      "    x2=2*c/(-b+math.sqrt(b*b-4*a*c))\n",
      "    print 'solution1=',x1\n",
      "    print 'solution2=',x2\n",
      "    \n",
      "solution_func(0.001,1000,0.001)"
     ],
     "language": "python",
     "metadata": {},
     "outputs": [
      {
       "output_type": "stream",
       "stream": "stdout",
       "text": [
        "solution1= -1e-06\n",
        "solution2= -1000010.57551\n"
       ]
      }
     ],
     "prompt_number": 13
    },
    {
     "cell_type": "markdown",
     "metadata": {},
     "source": [
      "### Problem 3.3\n",
      "\n",
      "The correct solutions to the quadratic equation $0.001x^2 + 1000x + 0.001 = 0$ should be\n",
      "\n",
      "$$\n",
      "  x_1 = -1.00000000000100002081668371*10^{-6}, \\\\\n",
      "  x_2 = -9.99999999999000060986371202*10^{5}\n",
      "$$\n",
      "\n",
      "You should find out that one of the solutions is not very accurate for your code in problem 3.1 and 3.2. Using what you have learned, write a new program that calculates both roots of a quadratic equation accurately in all cases."
     ]
    },
    {
     "cell_type": "code",
     "collapsed": false,
     "input": [
      "# Problem 3.3\n",
      "# I try use sympy which learn from error lesson\n",
      "import sympy\n",
      "\n",
      "def solution_func(a,b,c):\n",
      "    a=sympy.Float(a,50)\n",
      "    b=sympy.Float(b,50)\n",
      "    c=sympy.Float(c,50)\n",
      "    x1=(-b+sympy.sqrt(b*b-4*a*c))/(2*a)\n",
      "    x2=(-b-sympy.sqrt(b*b-4*a*c))/(2*a)\n",
      "    print 'solution1=',x1\n",
      "    print 'solution2=',x2\n",
      "    \n",
      "solution_func(0.001,1000,0.001)\n"
     ],
     "language": "python",
     "metadata": {},
     "outputs": [
      {
       "output_type": "stream",
       "stream": "stdout",
       "text": [
        "solution1= -0.0000010000000000010000208166837117841351830786585930522\n",
        "solution2= -999999.99999899997918331728825749861667935957524210\n"
       ]
      }
     ],
     "prompt_number": 7
    },
    {
     "cell_type": "markdown",
     "metadata": {},
     "source": [
      "## Problem 4: Numerical derivatives\n",
      "\n",
      "The derivative of a functoin $f(x)$ is defined as\n",
      "\n",
      "$$\n",
      "  \\frac{df}{dx} = \\lim_{\\delta\\rightarrow 0} \\frac{f(x+\\delta)-f(x)}{\\delta}.\n",
      "$$\n",
      "\n",
      "On the computer we can\u2019t actually take the limit as $\\delta$ goes to zero, but we can get a reasonable approximation just by making $\\delta$ small."
     ]
    },
    {
     "cell_type": "markdown",
     "metadata": {},
     "source": [
      "### Problem 4.1\n",
      "\n",
      "Write a program that defines a function $f(x)$ returning the value $x(x \u2212 1)$, then calculates the derivative of the function at the point $x = 1$ using the formula above with $\\delta = 10^{\u22122}$. Calculate the true value of the same derivative analytically and compare with the answer your program gives."
     ]
    },
    {
     "cell_type": "code",
     "collapsed": false,
     "input": [
      "# Problem 4.1\n",
      "def derivative(x,y):\n",
      "    df=(x+y)*((x+y)-1)/y\n",
      "    print df\n",
      "derivative(1,0.01)"
     ],
     "language": "python",
     "metadata": {},
     "outputs": [
      {
       "output_type": "stream",
       "stream": "stdout",
       "text": [
        "1.01\n"
       ]
      }
     ],
     "prompt_number": 15
    },
    {
     "cell_type": "markdown",
     "metadata": {},
     "source": [
      "### Problem 4.2\n",
      "\n",
      "Repeat the calculation for $\\delta = 10^{\u22124}$ , $10^{\u22126}$ , $10^{\u22128}$ , $10^{\u221210}$ , $10^{\u221212}$ , and $10^{\u221214}$. You should see that the accuracy of the calculation initially gets better as \u03b4 gets smaller, but then gets worse again. Why is this?"
     ]
    },
    {
     "cell_type": "code",
     "collapsed": false,
     "input": [
      "# Problem 4.2\n",
      "# Problem 4.1\n",
      "def derivative(x,y):\n",
      "    df=(x+y)*((x+y)-1)/y\n",
      "    print df\n",
      "derivative(1,0.0001) #10^-4\n",
      "derivative(1,0.000001) #10^-6\n",
      "derivative(1,0.00000001) #10^-8\n",
      "derivative(1,0.0000000001) #10^-10\n",
      "derivative(1,0.000000000001) #10^-12\n",
      "derivative(1,0.00000000000001) #10^-14"
     ],
     "language": "python",
     "metadata": {},
     "outputs": [
      {
       "output_type": "stream",
       "stream": "stdout",
       "text": [
        "1.0001\n",
        "1.00000099992\n",
        "1.00000000392\n",
        "1.00000008284\n",
        "1.00008890058\n",
        "0.999200722163\n"
       ]
      }
     ],
     "prompt_number": 16
    },
    {
     "cell_type": "markdown",
     "metadata": {},
     "source": [
      "### Problem 4.3\n",
      "\n",
      "Plot the error of your numerical derivative a function of $\\log(\\delta)$, with $\\delta \\in [10^{-2}, 10^{-14}]$."
     ]
    },
    {
     "cell_type": "code",
     "collapsed": false,
     "input": [
      "# Problem 4.3\n",
      "%pylab inline\n",
      "import math\n",
      "import numpy as np\n",
      "\n",
      "def derivative(x,y):\n",
      "    df=(x+y)*((x+y)-1)/y\n",
      "    return df\n",
      "\n",
      "xx=1\n",
      "delta=10**(-2)\n",
      "s=[]\n",
      "\n",
      "while delta>=10**(-14):\n",
      "    n=math.log(delta,10)\n",
      "    s.append([abs(1-derivative(xx,delta)),n])\n",
      "    delta=delta*(10**(-2))\n",
      "    \n",
      "s = np.array(s)\n",
      "x = s[:,1]\n",
      "y = s[:,0]\n",
      "plot(x,y,'-')\n",
      "show()"
     ],
     "language": "python",
     "metadata": {},
     "outputs": [
      {
       "output_type": "stream",
       "stream": "stdout",
       "text": [
        "Populating the interactive namespace from numpy and matplotlib\n"
       ]
      },
      {
       "metadata": {},
       "output_type": "display_data",
       "png": "[encoded data removed]",
       "text": [
        "<matplotlib.figure.Figure at 0x6248db0>"
       ]
      }
     ],
     "prompt_number": 19
    }
   ],
   "metadata": {}
  }
 ]
}