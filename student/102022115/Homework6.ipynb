{
 "metadata": {
  "name": "",
  "signature": "sha256:4de857687a84ff2098befdfda2b3bef5a017082185719214f4c4f24262f51450"
 },
 "nbformat": 3,
 "nbformat_minor": 0,
 "worksheets": [
  {
   "cells": [
    {
     "cell_type": "markdown",
     "metadata": {},
     "source": [
      "# Homework 6"
     ]
    },
    {
     "cell_type": "markdown",
     "metadata": {},
     "source": [
      "## Problem 1\n",
      "\n",
      "Use **ivisual** module to plot the projectile motion with following equations of motion:\n",
      "\n",
      "$$\n",
      "\\begin{eqnarray*}\n",
      "  m\\ddot{x} &=& 0, \\\\\n",
      "  m\\ddot{y} &=& -mg, \\\\\n",
      "  m\\ddot{z} &=& 0,\n",
      "\\end{eqnarray*}\n",
      "$$\n",
      "and initial conditions\n",
      "\n",
      "$$\n",
      "  \\vec{r}(0) = (0, 0, 0), \\\\\n",
      "  \\vec{v}(0) = (v_{x0}, v_{y0}, 0),\n",
      "$$\n",
      "You can assign $v_{x0}$ and $v_{y0}$ in the code or ask user to input it.\n",
      "\n",
      "You should\n",
      "* Use a box to represent the ground.\n",
      "* Use three arrows to represent the three axes.\n",
      "* Use a sphere to represent the ball of the projectile motion.\n",
      "* Leave a trail.\n",
      "* Stop the simulation when the ball hit the ground.\n",
      "\n",
      "You should use to ways to calculate the trajectory of the motion.\n",
      "1. Use exact solution: $x(t)=x(0)+v_x t$, etc.\n",
      "2. Use numerical solution:\n",
      " * $v(t+dt) = v(t) + a * dt$.\n",
      " * $x(t+dt) = x(t) + v(t) * dt$.\n",
      "\n",
      "You should use a small enough $dt$ to ensure the numerical solution is accurate enough.\n"
     ]
    },
    {
     "cell_type": "code",
     "collapsed": false,
     "input": [
      "# Problem 1\n"
     ],
     "language": "python",
     "metadata": {},
     "outputs": [
      {
       "html": [
        "<div id=\"scene0\"><div id=\"glowscript\" class=\"glowscript\"></div></div>"
       ],
       "metadata": {},
       "output_type": "display_data",
       "text": [
        "<IPython.core.display.HTML at 0x5baf9d0>"
       ]
      },
      {
       "javascript": [
        "require.undef(\"nbextensions/glow.1.0.min\");"
       ],
       "metadata": {},
       "output_type": "display_data",
       "text": [
        "<IPython.core.display.Javascript at 0x18d8470>"
       ]
      },
      {
       "javascript": [
        "require.undef(\"nbextensions/jquery-ui.custom.min\");"
       ],
       "metadata": {},
       "output_type": "display_data",
       "text": [
        "<IPython.core.display.Javascript at 0x18d8490>"
       ]
      },
      {
       "javascript": [
        "require.undef(\"nbextensions/glow.1.1.min\");"
       ],
       "metadata": {},
       "output_type": "display_data",
       "text": [
        "<IPython.core.display.Javascript at 0x18d84b0>"
       ]
      },
      {
       "javascript": [
        "require.undef(\"nbextensions/glowcomm\");"
       ],
       "metadata": {},
       "output_type": "display_data",
       "text": [
        "<IPython.core.display.Javascript at 0x18d85d0>"
       ]
      },
      {
       "javascript": [
        "require([\"nbextensions/glowcomm\"], function(){console.log(\"glowcomm loaded\");})"
       ],
       "metadata": {},
       "output_type": "display_data",
       "text": [
        "<IPython.core.display.Javascript at 0x18d8650>"
       ]
      }
     ],
     "prompt_number": 1
    },
    {
     "cell_type": "markdown",
     "metadata": {},
     "source": [
      "## Problem 2\n",
      "\n",
      "Now introduce the air resistence so the equations of motion become:\n",
      "\n",
      "$$\n",
      "\\begin{eqnarray*}\n",
      "  m\\ddot{x} &=& -km\\dot{x}, \\\\\n",
      "  m\\ddot{y} &=& -km\\dot{y}-mg, \\\\\n",
      "  m\\ddot{z} &=& 0,\n",
      "\\end{eqnarray*}\n",
      "$$\n",
      "and initial conditions\n",
      "\n",
      "$$\n",
      "  \\vec{r}(0) = (0, 0, 0), \\\\\n",
      "  \\vec{v}(0) = (v_{x0}, v_{y0}, 0),\n",
      "$$\n",
      "You can assign $v_{x0}$ and $v_{y0}$ in the code or ask user to input it.\n",
      "\n",
      "You should\n",
      "* Use a box to represent the ground.\n",
      "* Use three arrows to represent the three axes.\n",
      "* Use a sphere to represent the ball of the projectile motion.\n",
      "* Leave a trail.\n",
      "* Stop the simulation when the ball hit the ground.\n",
      "\n",
      "\n",
      "You should use to ways to calculate the trajectory of the motion.\n",
      "1. Use exact solution: (Check for example Marion's book).\n",
      "2. Use numerical solution:\n",
      " * $v(t+dt) = v(t) + a * dt$.\n",
      " * $x(t+dt) = x(t) + v(t) * dt$.\n",
      "\n",
      "You should use a small enough $dt$ to ensure the numerical solution is accurate enough.\n"
     ]
    },
    {
     "cell_type": "code",
     "collapsed": false,
     "input": [
      "# Problem 2\n",
      "from ivisual import *\n",
      "side = 6.0\n",
      "thk = 0.3\n",
      "s2 = 2*side - thk\n",
      "s3 = 2*side + thk\n",
      "wallR = box (pos=( side, 0, 0), size=(thk, s2, s3),  color = color.red)\n",
      "wallL = box (pos=(-side, 0, 0), size=(thk, s2, s3),  color = color.red)\n",
      "wallB = box (pos=(0, -side, 0), size=(s3, thk, s3),  color = color.blue)\n",
      "wallT = box (pos=(0,  side, 0), size=(s3, thk, s3),  color = color.blue)\n",
      "wallBK = box(pos=(0, 0, -side), size=(s2, s2, thk), color = color.white )\n",
      "display(scene)\n",
      "ball = sphere (color = color.green, radius = 0.4, make_trail=True, interval=5, retain=30)\n",
      "ball.mass = 1.0\n",
      "ball.p = vector (-0.15, -0.23, +0.27)\n",
      "side = side - thk*0.5 - ball.radius\n",
      "dt = 0.5\n",
      "t=0.0\n",
      "while t < 500:\n",
      "  rate(100)\n",
      "  t = t + dt\n",
      "  ball.pos = ball.pos + (ball.p/ball.mass)*dt\n",
      "  if not (side > ball.x > -side):\n",
      "    ball.p.x = -ball.p.x\n",
      "  if not (side > ball.y > -side):\n",
      "    ball.p.y = -ball.p.y\n",
      "  if not (side > ball.z > -side):\n",
      "    ball.p.z = -ball.p.z"
     ],
     "language": "python",
     "metadata": {},
     "outputs": []
    },
    {
     "cell_type": "markdown",
     "metadata": {},
     "source": [
      "## Problem 3\n",
      "\n",
      "Use **ivisual** module to plot the trajectory of a coupled spring-mass system that has two masses, three springs, two walls.\n",
      "\n",
      "Something like Wall-spring1-mass1-spring2-mass2-spring3-Wall.\n",
      "\n",
      "You should\n",
      "* Use a box to represent the ground.\n",
      "* Use two boxes to represent the walls.\n",
      "* Use two **cubic** boxes to represent the two masses.\n",
      "* Use helix to represent the two srpings.\n"
     ]
    },
    {
     "cell_type": "code",
     "collapsed": false,
     "input": [
      "# Problem 3"
     ],
     "language": "python",
     "metadata": {},
     "outputs": [],
     "prompt_number": 1
    },
    {
     "cell_type": "markdown",
     "metadata": {},
     "source": [
      "# Problem 4\n",
      "\n",
      "Use **ivisual** module to plot the trajectories of 20 particles in a rectangle box.\n",
      "\n",
      "* The rectangle box has the dimension $L_x$, $L_y$, $L_z$.\n",
      "* Use boxes to represent the walls. Keep one wall **invisible**.\n",
      "* The 20 particles should have **random** initial velocity.\n",
      "* The 20 particles should leave a trail.\n",
      "* Make each particle has random RGB color."
     ]
    },
    {
     "cell_type": "code",
     "collapsed": false,
     "input": [
      "# Problem 4\n",
      "import random\n",
      "from ivisual import *\n",
      "scene = canvas('Ball in Box')\n",
      "\n",
      "side = 6.0\n",
      "thk = 0.3\n",
      "s2 = 2*side - thk\n",
      "s3 = 2*side + thk\n",
      "wallR = box (pos=( side, 0, 0), size=(thk, s2, s3),  color = color.red)\n",
      "wallL = box (pos=(-side, 0, 0), size=(thk, s2, s3),  color = color.red)\n",
      "wallB = box (pos=(0, -side, 0), size=(s3, thk, s3),  color = color.blue)\n",
      "wallT = box (pos=(0,  side, 0), size=(s3, thk, s3),  color = color.blue)\n",
      "wallBK = box(pos=(0, 0, -side), size=(s2, s2, thk), color = color.white )\n",
      "display(scene)\n",
      "side = side - thk*0.5 - 0.4\n",
      "import random\n",
      "\n",
      "\n",
      "\n",
      "ball = sphere (color = (random.random(),random.random(),random.random()), radius = 0.4, make_trail=True, interval=5, retain=400)\n",
      "ball.mass = 1.0\n",
      "ball.p = vector (random.random(), random.random(), random.random())\n",
      "ball.pos = ((2*random.random()-1)*side, (2*random.random()-1)*side, (2*random.random()-1)*side)\n",
      "\n",
      "dt = 0.5\n",
      "t=0.0\n",
      "while t < 500:\n",
      "  rate(100)\n",
      "  t = t + dt\n",
      "  ball.pos = ball.pos + (ball.p/ball.mass)*dt\n",
      "  if not (side > ball.x > -side):\n",
      "    ball.p.x = -ball.p.x\n",
      "  if not (side > ball.y > -side):\n",
      "    ball.p.y = -ball.p.y\n",
      "  if not (side > ball.z > -side):\n",
      "    ball.p.z = -ball.p.z\n",
      "print ball.p"
     ],
     "language": "python",
     "metadata": {},
     "outputs": [
      {
       "html": [
        "<div id=\"scene7\"><div id=\"glowscript\" class=\"glowscript\"></div></div>"
       ],
       "metadata": {},
       "output_type": "display_data",
       "text": [
        "<IPython.core.display.HTML at 0x62d22d0>"
       ]
      },
      {
       "javascript": [
        "window.__context = { glowscript_container: $(\"#glowscript\").removeAttr(\"id\")}"
       ],
       "metadata": {},
       "output_type": "display_data",
       "text": [
        "<IPython.core.display.Javascript at 0x62b2c50>"
       ]
      },
      {
       "html": [
        "<div id=\"glowscript2\" ><div id=\"glowscript\" class=\"glowscript\"></div></div>"
       ],
       "metadata": {},
       "output_type": "display_data"
      },
      {
       "output_type": "stream",
       "stream": "stdout",
       "text": [
        "<0.532206, 0.884171, 0.261903>\n"
       ]
      }
     ],
     "prompt_number": 8
    },
    {
     "cell_type": "code",
     "collapsed": false,
     "input": [
      "import random\n",
      "b=random.random()\n",
      "(b*2-1)side"
     ],
     "language": "python",
     "metadata": {},
     "outputs": [
      {
       "ename": "SyntaxError",
       "evalue": "invalid syntax (<ipython-input-12-24ef2c21682a>, line 3)",
       "output_type": "pyerr",
       "traceback": [
        "\u001b[1;36m  File \u001b[1;32m\"<ipython-input-12-24ef2c21682a>\"\u001b[1;36m, line \u001b[1;32m3\u001b[0m\n\u001b[1;33m    print (b*2-1)side\u001b[0m\n\u001b[1;37m                    ^\u001b[0m\n\u001b[1;31mSyntaxError\u001b[0m\u001b[1;31m:\u001b[0m invalid syntax\n"
       ]
      }
     ],
     "prompt_number": 12
    },
    {
     "cell_type": "code",
     "collapsed": false,
     "input": [],
     "language": "python",
     "metadata": {},
     "outputs": []
    }
   ],
   "metadata": {}
  }
 ]
}