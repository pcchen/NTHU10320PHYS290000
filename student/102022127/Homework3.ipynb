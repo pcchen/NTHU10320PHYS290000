{
 "metadata": {
  "name": "",
  "signature": "sha256:0ec139addec0ff65cc839cb75f9a099282c731d1ada1e132e2fce89c8f37e202"
 },
 "nbformat": 3,
 "nbformat_minor": 0,
 "worksheets": [
  {
   "cells": [
    {
     "cell_type": "markdown",
     "metadata": {},
     "source": [
      "# Homework 3"
     ]
    },
    {
     "cell_type": "markdown",
     "metadata": {},
     "source": [
      "## Problem 1: Logistic map, chaos, bifurcation\n",
      "\n",
      "Consider the logic map\n",
      "\n",
      "$$\n",
      "  x_{n+1} = \\alpha x_n (1-x_n)\n",
      "$$\n",
      "\n",
      "Write a program to calculates and displays the behavior of the logistic map.\n",
      "\n",
      "* For a give value of $\\alpha$, start with $x=0.5$ and iterate the logistic map equation a thousand times. \n",
      "  * That will give it a chance to settle down to a fixed point or limit cycle if its going to.\n",
      "\n",
      "* Run for another thousand iterations and plot the points $(\\alpha,x)$ on a graph where the horizontal axis is $\\alpha$ and the vertical axis is $x$.\n",
      "\n",
      "* Repeat the whole calculation for values of $\\alpha$ from 1 to 4 in steps of 0.01, plotting the dots for all values of $\\alpha$ on the same figure.\n",
      "\n",
      "Reference: https://en.wikipedia.org/wiki/Logistic_map"
     ]
    },
    {
     "cell_type": "code",
     "collapsed": false,
     "input": [
      "# Problem 1\n",
      "\n",
      "\n",
      "%pylab inline\n",
      "#sys.setrecursionlimit(2000)\n",
      "x = 0.5\n",
      "a = 1\n",
      "\n",
      "def logic(z, n):\n",
      "    if n<=0:\n",
      "        return z\n",
      "    else:\n",
      "        z = a*z*(1-z)\n",
      "        return logic(z, n-1)\n",
      "\n",
      "    \n",
      "print logic(0.5, 1000)\n",
      "\n",
      "\n",
      "\n",
      "\n",
      "\n",
      "\n",
      "#a = linspace(1, 4, 301)\n",
      "#x = f(x)\n",
      "#plot(a,x)\n",
      "#show()"
     ],
     "language": "python",
     "metadata": {},
     "outputs": [
      {
       "output_type": "stream",
       "stream": "stdout",
       "text": [
        "Populating the interactive namespace from numpy and matplotlib\n",
        "0.000991390861441\n"
       ]
      }
     ],
     "prompt_number": 49
    },
    {
     "cell_type": "markdown",
     "metadata": {},
     "source": [
      "## Problem 2: The Mandelbrot set\n",
      "\n",
      "\n",
      "\n",
      "Consider the equation\n",
      "$$\n",
      "  z^\\prime=z^2+c,\n",
      "$$\n",
      "where $z$ is a complex number and $c$ is a complex constant.\n",
      "\n",
      "For a given complex value of $c$, start with $z = 0$ and iterate repeatedly. \n",
      "If the magnitude $|z|$ of the resulting value is ever greater than $2$, \n",
      "then the point in the complex plane at position $c$ is not in the Mandelbrot set, \n",
      "otherwise it is in the set.\n",
      "\n",
      "In principle, one has to iterate infinitely many times to prove that a point is in the Mandelbrot set.\n",
      "In practice, however, one usually just performs some large number of iterations, \n",
      "say 100 or 1000, and if $|z|$ hasn't exceeded 2 by that point then we call that good enough.\n",
      "\n",
      "Write a program to make an image of the Mandelbrot set by performing the iteration for all values of $c = x + iy$ on an $N \\times N$ grid spanning the region where $-2 \\le x \\le 2$ and $-2 \\le y \\le 2$. Make a **density plot** in which grid points inside the Mandelbrot set are colored black and those outside are colored white. \n",
      "\n",
      "\n",
      "Hint: You will probably find it useful to start off with quite a coarse grid, i.e., with a small value of $N$\n",
      "(perhaps $N = 100$) so that your program runs quickly while you are testing it. \n",
      "Once you are sure it is working correctly, increase the value of $N$ to produce a final high-quality image of the shape of the set.\n",
      "\n",
      "Instead of coloring points just black or white, color points according to the number of iterations of the equation before $z$ becomes greater than $2$ (or the maximum number of iterations if $|z|$ never becomes greater than 2). Use color schemes such as the `hot` or `jet` schemes. \n",
      "\n",
      "Or to color according to the logarithm of the number of iterations.\n",
      "\n",
      "Reference: https://en.wikipedia.org/wiki/Mandelbrot_set"
     ]
    },
    {
     "cell_type": "code",
     "collapsed": false,
     "input": [
      "# Problem 2\n",
      "\n",
      "\n"
     ],
     "language": "python",
     "metadata": {},
     "outputs": [],
     "prompt_number": 2
    },
    {
     "cell_type": "markdown",
     "metadata": {},
     "source": [
      "## Problem 3: Quadratic equations"
     ]
    },
    {
     "cell_type": "markdown",
     "metadata": {},
     "source": [
      "### Problem 3.1\n",
      "\n",
      "Write a program that takes as input three numbers, $a$, $b$, and $c$, and prints out the two solutions to the quadratic equation $ax^2 + bx + c = 0$ using the standard \ufffcformula\n",
      "\n",
      "$$\n",
      "  x = \\frac{-b\\pm\\sqrt{b^2-4ac}}{2a}.\n",
      "$$\n",
      "\n",
      "Use your program to compute the solutions of $0.001x^2 + 1000x + 0.001 = 0$."
     ]
    },
    {
     "cell_type": "code",
     "collapsed": false,
     "input": [
      "# Problem 3.1\n",
      "import numpy\n",
      "import math\n",
      "\n",
      "a*x1**2 + b*x1 + c = 0\n",
      "a*x2**2 + b*x2 + c = 0\n",
      "a = 0.001\n",
      "b = 1000\n",
      "c = 0.001\n",
      "\n",
      "def f(x):\n",
      "    print x1 = (-b + math.sqrt(b**2-4*a*c))/(2*a)\n",
      "    print x2 = (-b - math.sqrt(b**2-4*a*c))/(2*a)\n",
      "\n",
      "f(x)\n"
     ],
     "language": "python",
     "metadata": {},
     "outputs": [
      {
       "ename": "SyntaxError",
       "evalue": "invalid syntax (<ipython-input-12-fcd39c05850b>, line 12)",
       "output_type": "pyerr",
       "traceback": [
        "\u001b[1;36m  File \u001b[1;32m\"<ipython-input-12-fcd39c05850b>\"\u001b[1;36m, line \u001b[1;32m12\u001b[0m\n\u001b[1;33m    print x1 = (-b + math.sqrt(b**2-4*a*c))/(2*a)\u001b[0m\n\u001b[1;37m             ^\u001b[0m\n\u001b[1;31mSyntaxError\u001b[0m\u001b[1;31m:\u001b[0m invalid syntax\n"
       ]
      }
     ],
     "prompt_number": 12
    },
    {
     "cell_type": "markdown",
     "metadata": {},
     "source": [
      "### Problem 3.2\n",
      "\n",
      "There is another way to write the solutions to a quadratic equation. Multiplying top and bottom of the solution above by $-b\\mp\\sqrt{b^2-4ac}$, one can show that the solutions \ufffccan also be written as\n",
      "\n",
      "$$\n",
      "  x = \\frac{2c}{-b\\mp\\sqrt{b^2-4ac}}.\n",
      "$$\n",
      "\n",
      "Write a program that takes as input three numbers, a, b, and c, and prints out the two solutions to the quadratic equation $ax^2+bx+c=0$ using this formula. Use the program to solve $0.001x^2 + 1000x + 0.001 = 0$."
     ]
    },
    {
     "cell_type": "code",
     "collapsed": false,
     "input": [
      "# Problem 3.2\n",
      "\n",
      "\n"
     ],
     "language": "python",
     "metadata": {},
     "outputs": [],
     "prompt_number": 4
    },
    {
     "cell_type": "markdown",
     "metadata": {},
     "source": [
      "### Problem 3.3\n",
      "\n",
      "The correct solutions to the quadratic equation $0.001x^2 + 1000x + 0.001 = 0$ should be\n",
      "\n",
      "$$\n",
      "  x_1 = -1.00000000000100002081668371*10^{-6}, \\\\\n",
      "  x_2 = -9.99999999999000060986371202*10^{5}\n",
      "$$\n",
      "\n",
      "You should find out that one of the solutions is not very accurate for your code in problem 3.1 and 3.2. Using what you have learned, write a new program that calculates both roots of a quadratic equation accurately in all cases."
     ]
    },
    {
     "cell_type": "code",
     "collapsed": false,
     "input": [
      "# Problem 3.3\n",
      "\n",
      "\n"
     ],
     "language": "python",
     "metadata": {},
     "outputs": []
    },
    {
     "cell_type": "markdown",
     "metadata": {},
     "source": [
      "## Problem 4: Numerical derivatives\n",
      "\n",
      "The derivative of a functoin $f(x)$ is defined as\n",
      "\n",
      "$$\n",
      "  \\frac{df}{dx} = \\lim_{\\delta\\rightarrow 0} \\frac{f(x+\\delta)-f(x)}{\\delta}.\n",
      "$$\n",
      "\n",
      "On the computer we can\u2019t actually take the limit as $\\delta$ goes to zero, but we can get a reasonable approximation just by making $\\delta$ small."
     ]
    },
    {
     "cell_type": "markdown",
     "metadata": {},
     "source": [
      "### Problem 4.1\n",
      "\n",
      "Write a program that defines a function $f(x)$ returning the value $x(x \u2212 1)$, then calculates the derivative of the function at the point $x = 1$ using the formula above with $\\delta = 10^{\u22122}$. Calculate the true value of the same derivative analytically and compare with the answer your program gives."
     ]
    },
    {
     "cell_type": "code",
     "collapsed": false,
     "input": [
      "# Problem 4.1"
     ],
     "language": "python",
     "metadata": {},
     "outputs": [],
     "prompt_number": 5
    },
    {
     "cell_type": "markdown",
     "metadata": {},
     "source": [
      "### Problem 4.2\n",
      "\n",
      "Repeat the calculation for $\\delta = 10^{\u22124}$ , $10^{\u22126}$ , $10^{\u22128}$ , $10^{\u221210}$ , $10^{\u221212}$ , and $10^{\u221214}$. You should see that the accuracy of the calculation initially gets better as \u03b4 gets smaller, but then gets worse again. Why is this?"
     ]
    },
    {
     "cell_type": "code",
     "collapsed": false,
     "input": [
      "# Problem 4.2"
     ],
     "language": "python",
     "metadata": {},
     "outputs": [],
     "prompt_number": 6
    },
    {
     "cell_type": "markdown",
     "metadata": {},
     "source": [
      "### Problem 4.3\n",
      "\n",
      "Plot the error of your numerical derivative a function of $\\log(\\delta)$, with $\\delta \\in [10^{-2}, 10^{-14}]$."
     ]
    },
    {
     "cell_type": "code",
     "collapsed": false,
     "input": [
      "# Problem 4.3"
     ],
     "language": "python",
     "metadata": {},
     "outputs": [],
     "prompt_number": 7
    }
   ],
   "metadata": {}
  }
 ]
}