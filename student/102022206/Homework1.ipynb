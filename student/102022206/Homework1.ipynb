{
 "metadata": {
  "name": "",
  "signature": "sha256:a22d12b7ee6763de594b9230e991b46878f3119ec4fd4f265c7ed510983b3783"
 },
 "nbformat": 3,
 "nbformat_minor": 0,
 "worksheets": [
  {
   "cells": [
    {
     "cell_type": "markdown",
     "metadata": {},
     "source": [
      "# Homework 1"
     ]
    },
    {
     "cell_type": "markdown",
     "metadata": {},
     "source": [
      "## Problem 1.1\n",
      "\n",
      "Write some code that prints the words `Hello, World'."
     ]
    },
    {
     "cell_type": "code",
     "collapsed": false,
     "input": [
      "print 'Hello, World'\n"
     ],
     "language": "python",
     "metadata": {},
     "outputs": [
      {
       "output_type": "stream",
       "stream": "stdout",
       "text": [
        "Hello, World\n"
       ]
      }
     ],
     "prompt_number": 1
    },
    {
     "cell_type": "markdown",
     "metadata": {},
     "source": [
      "## Problem 1.2\n",
      "\n",
      "Python provides a built-in function called `len` that returns the length of a string, so the value of `len('allen')` is `5`.\n",
      "\n",
      "Write a function named `right_justify` that takes a string named `s` as a parameter and prints the string with enough leading spaces so that the last letter of the string is in column 70 of the display.\n",
      "\n",
      "Write some code to demonstrate the usage of your `right_justify` function.\n",
      "\n",
      "``\n",
      "right_justify('allen')\n",
      "                                                                 allen\n",
      "right_justify('homework')\n",
      "                                                              homework\n",
      "right_justify('cat')\n",
      "                                                                   cat\n",
      "``"
     ]
    },
    {
     "cell_type": "code",
     "collapsed": false,
     "input": [
      "def right_justify(s):\n",
      "    x=len(s)\n",
      "    y=70-x\n",
      "    print ' '*y + s\n",
      "    \n",
      "right_justify('allen')\n",
      "right_justify('homework')\n",
      "right_justify('cat')"
     ],
     "language": "python",
     "metadata": {},
     "outputs": [
      {
       "output_type": "stream",
       "stream": "stdout",
       "text": [
        "                                                                 allen\n",
        "                                                              homework\n",
        "                                                                   cat\n"
       ]
      }
     ],
     "prompt_number": 1
    },
    {
     "cell_type": "markdown",
     "metadata": {},
     "source": [
      "## Problem 1.3\n",
      "\n",
      "### Exercise 3.4 \n",
      "\n",
      "A **function object** is a value you can assign to a variable or pass as an argument. For example, `do_twice` is a function that takes a function object as an argument and calls it twice:\n",
      "\n",
      "``\n",
      "def do_twice(f):\n",
      "    f()\n",
      "    f()\n",
      "``\n",
      "\n",
      "Here\u2019s an example that uses `do_twice` to call a function named `print_spam` twice.\n",
      "\n",
      "``def print_spam():\n",
      "    print 'spam'``\n",
      "\n",
      "``    \n",
      "do_twice(print_spam)\n",
      "``\n",
      "\n",
      "1. Type this example into a script and test it.\n",
      "2. Modify `do_twice` so that it takes two arguments, a function object and a value, and calls the function twice, passing the value as an argument.\n",
      "3. Write a more general version of `print_spam`, called `print_twice`, that takes a string as a parameter and prints it twice.\n",
      "4. Use the modified version of `do_twice` to call `print_twice` twice, passing `'spam'` as an argument.\n",
      "5. Define a new function called `do_four` that takes a function object and a value and calls the function four times, passing the value as a parameter. There should be only two statements in the body of this function, not four.\n",
      "\n",
      "Write some code to demonstrate the usage above functions."
     ]
    },
    {
     "cell_type": "code",
     "collapsed": false,
     "input": [
      "def do_twice(f):\n",
      "    f()\n",
      "    f()\n",
      "    \n",
      "def print_spam():\n",
      "    print 'spam'\n",
      "    \n",
      "do_twice(print_spam)"
     ],
     "language": "python",
     "metadata": {},
     "outputs": [
      {
       "output_type": "stream",
       "stream": "stdout",
       "text": [
        "spam\n",
        "spam\n"
       ]
      }
     ],
     "prompt_number": 1
    },
    {
     "cell_type": "code",
     "collapsed": false,
     "input": [
      "def do_twice(f,n):\n",
      "    f(n)\n",
      "    f(n)\n",
      "    \n",
      "def print_twice(s):\n",
      "    print s, s\n",
      "    \n",
      "do_twice(print_twice,'spam')"
     ],
     "language": "python",
     "metadata": {},
     "outputs": [
      {
       "output_type": "stream",
       "stream": "stdout",
       "text": [
        "spam spam\n",
        "spam spam\n"
       ]
      }
     ],
     "prompt_number": 4
    },
    {
     "cell_type": "code",
     "collapsed": false,
     "input": [
      "def do_four(fxn,y):\n",
      "    do_twice(fxn,y)\n",
      "    do_twice(fxn,y)\n",
      "\n",
      "def do_twice(f,n):\n",
      "    f(n)\n",
      "    f(n)\n",
      "    \n",
      "def print_twice(s):\n",
      "    print s, s\n",
      "    \n",
      "do_four(print_twice,'spam')"
     ],
     "language": "python",
     "metadata": {},
     "outputs": [
      {
       "output_type": "stream",
       "stream": "stdout",
       "text": [
        "spam spam\n",
        "spam spam\n",
        "spam spam\n",
        "spam spam\n"
       ]
      }
     ],
     "prompt_number": 5
    },
    {
     "cell_type": "markdown",
     "metadata": {},
     "source": [
      "## Problem 1.4\n",
      "\n",
      "*This exercise can be done using only the statements and other features we have learned so far.*\n",
      "\n",
      "(1) Write a function that draws a grid like the following:\n",
      "\n",
      "\n",
      "    + - - - - + - - - - +\n",
      "    |         |         |\n",
      "    |         |         |\n",
      "    |         |         |\n",
      "    |         |         |\n",
      "    + - - - - + - - - - +\n",
      "    |         |         |\n",
      "    |         |         |\n",
      "    |         |         |\n",
      "    |         |         |\n",
      "    + - - - - + - - - - +\n",
      "\n",
      "\n",
      "Hint: to print more than one value on a line, you can print a comma-separated sequence:\n",
      "\n",
      "    print '+', '-'\n",
      "\n",
      "If the sequence ends with a comma, Python leaves the line unfinished, so the value printed next appears on the same line.\n",
      "\n",
      "\n",
      "    print '+', \n",
      "    print '-'\n",
      "\n",
      "The output of these statements is `'+ -'`.\n",
      "\n",
      "A `print` statement all by itself ends the current line and goes to the next line.\n",
      "\n",
      "(2) Write a function that draws a similar grid with four rows and four columns."
     ]
    },
    {
     "cell_type": "code",
     "collapsed": false,
     "input": [
      "# Problem 1.4\n",
      "# (1)\n",
      "def column_sqr(s):\n",
      "    print '+'+' - - - - +'*s\n",
      "    print '|'+'         |'*s\n",
      "    print '|'+'         |'*s\n",
      "    print '|'+'         |'*s\n",
      "    print '|'+'         |'*s    \n",
      "    \n",
      "def sqr(t,k):\n",
      "    while t > 0:\n",
      "        column_sqr(k)\n",
      "        t=t-1\n",
      "    print '+'+' - - - - +'*k\n",
      "    \n",
      "sqr(2,2)\n"
     ],
     "language": "python",
     "metadata": {},
     "outputs": [
      {
       "output_type": "stream",
       "stream": "stdout",
       "text": [
        "+ - - - - + - - - - +\n",
        "|         |         |\n",
        "|         |         |\n",
        "|         |         |\n",
        "|         |         |\n",
        "+ - - - - + - - - - +\n",
        "|         |         |\n",
        "|         |         |\n",
        "|         |         |\n",
        "|         |         |\n",
        "+ - - - - + - - - - +\n"
       ]
      }
     ],
     "prompt_number": 27
    },
    {
     "cell_type": "code",
     "collapsed": false,
     "input": [
      "def column_sqr(s):\n",
      "    print '+'+' - - - - +'*s\n",
      "    print '|'+'         |'*s\n",
      "    print '|'+'         |'*s\n",
      "    print '|'+'         |'*s\n",
      "    print '|'+'         |'*s    \n",
      "    \n",
      "def sqr(t,k):\n",
      "    while t > 0:\n",
      "        column_sqr(k)\n",
      "        t=t-1\n",
      "    print '+'+' - - - - +'*k\n",
      "    \n",
      "sqr(4,4)"
     ],
     "language": "python",
     "metadata": {},
     "outputs": [
      {
       "output_type": "stream",
       "stream": "stdout",
       "text": [
        "+ - - - - + - - - - + - - - - + - - - - +\n",
        "|         |         |         |         |\n",
        "|         |         |         |         |\n",
        "|         |         |         |         |\n",
        "|         |         |         |         |\n",
        "+ - - - - + - - - - + - - - - + - - - - +\n",
        "|         |         |         |         |\n",
        "|         |         |         |         |\n",
        "|         |         |         |         |\n",
        "|         |         |         |         |\n",
        "+ - - - - + - - - - + - - - - + - - - - +\n",
        "|         |         |         |         |\n",
        "|         |         |         |         |\n",
        "|         |         |         |         |\n",
        "|         |         |         |         |\n",
        "+ - - - - + - - - - + - - - - + - - - - +\n",
        "|         |         |         |         |\n",
        "|         |         |         |         |\n",
        "|         |         |         |         |\n",
        "|         |         |         |         |\n",
        "+ - - - - + - - - - + - - - - + - - - - +\n"
       ]
      }
     ],
     "prompt_number": 28
    },
    {
     "cell_type": "markdown",
     "metadata": {},
     "source": [
      "## Problem 1.5\n",
      "\n",
      "Write a **resursive function** called `do_n` that takes a function object and a number, `n`, as arguments, and that calls the given function n times."
     ]
    },
    {
     "cell_type": "code",
     "collapsed": false,
     "input": [
      "def print_s(s):\n",
      "    print s\n",
      "    \n",
      "def do_n(f,x,n):\n",
      "    if n<=0:\n",
      "        return\n",
      "    f(x)\n",
      "    do_n(f,x,n-1)\n",
      "    \n",
      "do_n(print_s,'alan',5)"
     ],
     "language": "python",
     "metadata": {},
     "outputs": [
      {
       "output_type": "stream",
       "stream": "stdout",
       "text": [
        "alan\n",
        "alan\n",
        "alan\n",
        "alan\n",
        "alan\n"
       ]
      }
     ],
     "prompt_number": 4
    },
    {
     "cell_type": "markdown",
     "metadata": {},
     "source": [
      "## Problem 1.6\n",
      "\n",
      "Write some code that asks the user for the Cartesian coordinates $x$,$y$ of a point in 2D space, and calculate the print the corresponding polar coordinates, with the angle $\\theta$ given in degrees."
     ]
    },
    {
     "cell_type": "code",
     "collapsed": false,
     "input": [
      "# Problem 1.6\n",
      "import math\n",
      "\n",
      "def coordinate_change():\n",
      "    x = float(raw_input('what is the x of\\n'))\n",
      "    y = float(raw_input('what is the y of\\n'))\n",
      "    k = x/y\n",
      "    s = math.atan(k)\n",
      "    r = s*180.0/math.pi \n",
      "    z = x**2+y**2\n",
      "    t = math.sqrt(z)\n",
      "    print (t, r)\n",
      "\n",
      "coordinate_change()"
     ],
     "language": "python",
     "metadata": {},
     "outputs": [
      {
       "name": "stdout",
       "output_type": "stream",
       "stream": "stdout",
       "text": [
        "what is the x of\n",
        "3\n"
       ]
      },
      {
       "name": "stdout",
       "output_type": "stream",
       "stream": "stdout",
       "text": [
        "what is the y of\n",
        "4\n"
       ]
      },
      {
       "output_type": "stream",
       "stream": "stdout",
       "text": [
        "(5.0, 36.86989764584402)\n"
       ]
      }
     ],
     "prompt_number": 41
    },
    {
     "cell_type": "markdown",
     "metadata": {},
     "source": [
      "## Problem 1.7\n",
      "\n",
      "Fermat\u2019s Last Theorem says that there are no positive integers $a$, $b$, and $c$ such that\n",
      "\n",
      "$$\n",
      "  a^n + b^n = c^n \n",
      "$$\n",
      "for any values of $n$ greater than 2.\n",
      "\n",
      "1. Write a function named `check_fermat` that takes four parameters\u2014`a`, `b`, `c` and `n`\u2014and that checks to see if Fermat\u2019s theorem holds.\n",
      " * If `n` is greater than 2 and it turns out to be true that $a^n + b^n = c^n$ \n",
      "the program should print, \u201cHoly smokes, Fermat was wrong!\u201d.\n",
      " * Otherwise the program should print, \u201cNo, that doesn\u2019t work.\u201d\n",
      "\n",
      "2. Write a function that prompts the user to input values for `a`, `b`, `c` and `n`, converts them to integers, and uses `check_fermat` to check whether they violate Fermat\u2019s theorem.\n",
      "\n"
     ]
    },
    {
     "cell_type": "code",
     "collapsed": false,
     "input": [
      "# Problem 1.7\n",
      "def check_fermat(a,b,c,n):\n",
      "    if n > 2:\n",
      "        print 'Holy smokes, Fermat was wrong!'\n",
      "    else:\n",
      "        print 'No, that doesn\u2019t work.'\n",
      "\n",
      "def ask():\n",
      "    a = int(raw_input('What is a?\\n'))\n",
      "    b = int(raw_input('What is b?\\n'))\n",
      "    c = int(raw_input('What is c?\\n'))\n",
      "    n = int(raw_input('What is n?\\n'))\n",
      "    check_fermat(a,b,c,n)\n",
      "    \n",
      "ask()"
     ],
     "language": "python",
     "metadata": {},
     "outputs": [
      {
       "name": "stdout",
       "output_type": "stream",
       "stream": "stdout",
       "text": [
        "What is a?\n",
        "3\n"
       ]
      },
      {
       "name": "stdout",
       "output_type": "stream",
       "stream": "stdout",
       "text": [
        "What is b?\n",
        "4\n"
       ]
      },
      {
       "name": "stdout",
       "output_type": "stream",
       "stream": "stdout",
       "text": [
        "What is c?\n",
        "5\n"
       ]
      },
      {
       "name": "stdout",
       "output_type": "stream",
       "stream": "stdout",
       "text": [
        "What is n?\n",
        "3\n"
       ]
      },
      {
       "output_type": "stream",
       "stream": "stdout",
       "text": [
        "Holy smokes, Fermat was wrong!\n"
       ]
      }
     ],
     "prompt_number": 7
    },
    {
     "cell_type": "markdown",
     "metadata": {},
     "source": [
      "## Problem 1.8\n",
      "\n",
      "If you are given three sticks, you may or may not be able to arrange them in a triangle. For example, if one of the sticks is 12 inches long and the other two are one inch long, it is clear that you will not be able to get the short sticks to meet in the middle. For any three lengths, there is a simple test to see if it is possible to form a triangle:\n",
      "\n",
      "> If any of the three lengths is greater than the sum of the other two, then you cannot form a triangle. Otherwise, you can. \n",
      "> (If the sum of two lengths equals the third, they form what is called a \u201cdegenerate\u201d triangle.)\n",
      "\n",
      "1. Write a function named `is_triangle` that takes three integers as arguments, and that prints either \u201cYes\u201d or \u201cNo,\u201d depending on whether you can or cannot form a triangle from sticks with the given lengths.\n",
      "\n",
      "2. Write a function that prompts the user to input three stick lengths, converts them to integers, and uses `is_triangle` to check whether sticks with the given lengths can form a triangle"
     ]
    },
    {
     "cell_type": "code",
     "collapsed": false,
     "input": [
      "t = ['a','b','c']\n",
      "t.sort()\n",
      "print t\n",
      "x = t[0]\n",
      "y = t[1]\n",
      "z = t[2]\n"
     ],
     "language": "python",
     "metadata": {},
     "outputs": [
      {
       "output_type": "stream",
       "stream": "stdout",
       "text": [
        "['a', 'b', 'c']\n"
       ]
      }
     ],
     "prompt_number": 5
    },
    {
     "cell_type": "code",
     "collapsed": false,
     "input": [
      "# Problem 1.8\n",
      "def is_triangle():\n",
      "    a = int(raw_input('what is the first length?\\n'))\n",
      "    b = int(raw_input('what is the second length?\\n'))\n",
      "    c = int(raw_input('what is the thrid length?\\n'))\n",
      "    t = [a,b,c]\n",
      "    t.sort()\n",
      "    x = t[0]\n",
      "    y = t[1]\n",
      "    z = t[2]\n",
      "    if x + y >= z:\n",
      "        print 'Yes'\n",
      "    else:\n",
      "        print 'No'\n",
      "\n",
      "is_triangle()\n",
      "    "
     ],
     "language": "python",
     "metadata": {},
     "outputs": [
      {
       "name": "stdout",
       "output_type": "stream",
       "stream": "stdout",
       "text": [
        "what is the first length?\n",
        "3\n"
       ]
      },
      {
       "name": "stdout",
       "output_type": "stream",
       "stream": "stdout",
       "text": [
        "what is the second length?\n",
        "5\n"
       ]
      },
      {
       "name": "stdout",
       "output_type": "stream",
       "stream": "stdout",
       "text": [
        "what is the thrid length?\n",
        "4\n"
       ]
      },
      {
       "output_type": "stream",
       "stream": "stdout",
       "text": [
        "Yes\n"
       ]
      }
     ],
     "prompt_number": 6
    },
    {
     "cell_type": "markdown",
     "metadata": {},
     "source": [
      "## Problem 1.9\n",
      "\n",
      "Write a compare function that returns 1 if x > y, 0 if x == y, and -1 if x < y."
     ]
    },
    {
     "cell_type": "code",
     "collapsed": false,
     "input": [
      "# Problem 1.9\n",
      "def compare_function():\n",
      "    x = float(raw_input('what is x?\\n'))\n",
      "    y = float(raw_input('what is y?\\n'))\n",
      "    if x > y :\n",
      "        print 1\n",
      "    elif x == y :\n",
      "        print 0\n",
      "    else:\n",
      "        print -1\n",
      "\n",
      "compare_function()"
     ],
     "language": "python",
     "metadata": {},
     "outputs": [
      {
       "name": "stdout",
       "output_type": "stream",
       "stream": "stdout",
       "text": [
        "what is x?\n",
        "2\n"
       ]
      },
      {
       "name": "stdout",
       "output_type": "stream",
       "stream": "stdout",
       "text": [
        "what is y?\n",
        "3\n"
       ]
      },
      {
       "output_type": "stream",
       "stream": "stdout",
       "text": [
        "-1\n"
       ]
      }
     ],
     "prompt_number": 11
    },
    {
     "cell_type": "markdown",
     "metadata": {},
     "source": [
      "## Problem 1.10\n",
      "\n",
      "The Ackermann function, $A(m, n)$, is defined:\n",
      "\n",
      "$$\n",
      "\\begin{eqnarray*}\n",
      "A(m, n) = \\begin{cases}\n",
      "              n+1 & \\mbox{if } m = 0 \\\\\n",
      "        A(m-1, 1) & \\mbox{if } m > 0 \\mbox{ and } n = 0 \\\\\n",
      "A(m-1, A(m, n-1)) & \\mbox{if } m > 0 \\mbox{ and } n > 0.\n",
      "\\end{cases}\n",
      "\\end{eqnarray*}\n",
      "$$\n",
      "\n",
      "See http://en.wikipedia.org/wiki/Ackermann_function.\n",
      "* Write a function named ack that evaluates Ackermann\u2019s function. \n",
      "* Use your function to evaluate $ack(3, 4)$, which should be 125.\n",
      "* What happens for larger values of m and n?"
     ]
    },
    {
     "cell_type": "code",
     "collapsed": false,
     "input": [
      "# Problem 1.10\n",
      "def ack(m,n):\n",
      "    if m == 0 :\n",
      "        return n+1\n",
      "    elif m > 0 and n == 0 :\n",
      "        m = m - 1\n",
      "        return ack(m,1)\n",
      "    elif m > 0 and n > 0 :\n",
      "        return ack(m-1,ack(m,n-1))\n",
      "\n",
      "ack(3,4)\n"
     ],
     "language": "python",
     "metadata": {},
     "outputs": [
      {
       "metadata": {},
       "output_type": "pyout",
       "prompt_number": 16,
       "text": [
        "125"
       ]
      }
     ],
     "prompt_number": 16
    },
    {
     "cell_type": "markdown",
     "metadata": {},
     "source": [
      "## Problem 1.11\n",
      "\n",
      "A number, a, is a power of b if it is divisible by b and a/b is a power of b. Write a function called `is_power` that takes parameters a and b and returns True if a is a power of b. Note: you will have to think about the base case."
     ]
    },
    {
     "cell_type": "code",
     "collapsed": false,
     "input": [
      "# Problem 1.11\n",
      "def is_power(a,b):\n",
      "    if a % b == 0 :\n",
      "        if a != b:\n",
      "            c = a/b\n",
      "            return is_power(c,b)\n",
      "        elif a == b:\n",
      "            return True\n",
      "is_power(25,5)"
     ],
     "language": "python",
     "metadata": {},
     "outputs": [
      {
       "metadata": {},
       "output_type": "pyout",
       "prompt_number": 18,
       "text": [
        "True"
       ]
      }
     ],
     "prompt_number": 18
    },
    {
     "cell_type": "markdown",
     "metadata": {},
     "source": [
      "## Problem 1.12\n",
      "\n",
      "The greatest common divisor (GCD) of a and b is the largest number that divides both of them with no remainder.\n",
      "\n",
      "One way to find the GCD of two numbers is based on the observation that if r is the remainder when a is divided by b, then gcd(a, b) = gcd(b, r). As a base case, we can use gcd(a, 0) = a.\n",
      "\n",
      "Write a function called `gcd` that takes parameters a and b and returns their greatest common divisor."
     ]
    },
    {
     "cell_type": "code",
     "collapsed": false,
     "input": [
      "# Problem 1.12\n",
      "def gcd(a,b):\n",
      "    t = [a,b]\n",
      "    t.sort()\n",
      "    y = t[0]\n",
      "    x = t[1]\n",
      "    \n",
      "    if x%y == 0:\n",
      "        return y\n",
      "    else:\n",
      "        if y == 0:\n",
      "            return x\n",
      "        else:\n",
      "            r = x%y\n",
      "            return gcd(r,y)\n",
      "\n",
      "gcd(125,5)    "
     ],
     "language": "python",
     "metadata": {},
     "outputs": [
      {
       "metadata": {},
       "output_type": "pyout",
       "prompt_number": 30,
       "text": [
        "5"
       ]
      }
     ],
     "prompt_number": 30
    },
    {
     "cell_type": "code",
     "collapsed": false,
     "input": [],
     "language": "python",
     "metadata": {},
     "outputs": []
    }
   ],
   "metadata": {}
  }
 ]
}