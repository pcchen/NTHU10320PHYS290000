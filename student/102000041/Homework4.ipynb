{
 "cells": [
  {
   "cell_type": "markdown",
   "metadata": {},
   "source": [
    "# Homework 4"
   ]
  },
  {
   "cell_type": "markdown",
   "metadata": {},
   "source": [
    "## Problem 1 \n",
    "\n",
    "1. Implement the `Point` class.\n",
    "2. Implement the `Rectangle` class.\n",
    "3. Write a function called `distance_between_points` that takes two Points as arguments and returns the distance between them.\n",
    "4. Write a function named `move_rectangle` that takes a Rectangle and two numbers named `dx` and `dy`. It should change the location of the rectangle by adding `dx` to the `x` coordinate of corner and adding `dy` to the `y` coordinate of corner.\n",
    "5. Write a function named `move_rectangle_new` that is similar to the `move_rectangle` but it creates and returns a new Rectangle instead of modifying the old one.\n",
    "6. Write some codes to demonstrate the usage of functions above."
   ]
  },
  {
   "cell_type": "code",
   "execution_count": 41,
   "metadata": {
    "collapsed": false
   },
   "outputs": [],
   "source": [
    "# Problem 1\n",
    "\n",
    "# 1\n",
    "class Point(object):\n",
    "    def __init__(self, x=0, y=0):\n",
    "        self.x = 0\n",
    "        self.y = 0\n",
    "        \n",
    "    def __str__(self):\n",
    "        return \"Point(%s,%s)\" % (self.x, self.y)\n",
    "    \n",
    "# 3\n",
    "import math\n",
    "def distance_between_points(p, q):\n",
    "     return math.sqrt((p.x-q.x)**2+(p.y-q.y)**2)"
   ]
  },
  {
   "cell_type": "code",
   "execution_count": 50,
   "metadata": {
    "collapsed": false
   },
   "outputs": [],
   "source": [
    "# 2\n",
    "class Rectangle(object):\n",
    "    def __init__(self, p, w, h):\n",
    "        self.width = w\n",
    "        self.height = h\n",
    "        self.corner = p\n",
    "        \n",
    "    def __str__(self):\n",
    "        return \"{0},{1},{2}\" .format(self.corner, self.width, self.height)\n",
    "# 4\n",
    "def move_rectangle(self, dx, dy):\n",
    "    self.corner.x += dx\n",
    "    self.corner.y += dy"
   ]
  },
  {
   "cell_type": "code",
   "execution_count": 44,
   "metadata": {
    "collapsed": false
   },
   "outputs": [],
   "source": [
    "# 5\n",
    "def move_rectangle(new_rec, dx, dy):\n",
    "    new_rec = Rectangle()\n",
    "    new_rec.corner.x += dx\n",
    "    new_rec.corner.y += dy"
   ]
  },
  {
   "cell_type": "code",
   "execution_count": 49,
   "metadata": {
    "collapsed": false
   },
   "outputs": [
    {
     "name": "stdout",
     "output_type": "stream",
     "text": [
      "1.41421356237\n"
     ]
    }
   ],
   "source": [
    "# 6\n",
    "p.x = 1\n",
    "p.y = 1\n",
    "q.x = 0\n",
    "q.y = 0\n",
    "\n",
    "print distance_between_points(p, q)"
   ]
  },
  {
   "cell_type": "code",
   "execution_count": 51,
   "metadata": {
    "collapsed": false
   },
   "outputs": [
    {
     "name": "stdout",
     "output_type": "stream",
     "text": [
      "Point(1,1),100,200\n"
     ]
    }
   ],
   "source": [
    "# 6\n",
    "r = Rectangle(Point(0,0), 100, 200)\n",
    "r.move_rectangle(1, 1)\n",
    "print r"
   ]
  },
  {
   "cell_type": "markdown",
   "metadata": {},
   "source": [
    "## Problem 2\n",
    "\n",
    "1. Implement the `Time` class.\n",
    "2. Write a function called `print_time` that takes a Time object and prints it in the form `hour:minute:second`. \n",
    "  **Hint**: the format sequence '%.2d' prints an integer using at least two digits, including a leading zero if necessary.\n",
    "3. Write a boolean function called `is_after` that takes two Time objects, `t1` and `t2`, and returns `True` if `t1` follows `t2` chronologically and `False` otherwise. **Challenge**: don’t use an `if` statement.\n",
    "4. Write a function called `increment_modifier` that adds a given number of seconds to a Time object. It should modify the original time object. It should not contain any loops.\n",
    "5. Write a function called `increment_pure` that adds a given number of seconds to a Time object. It should create and return a new Time object.\n",
    "6. Write a function called `mul_time` that takes a Time object and a number and returns a new Time object that contains the product of the original Time and the number.\n",
    "7. Use `mul_time` to write a function that takes a Time object that represents the finishing time in a race, and a number that represents the distance, and returns a Time object that represents the average pace (time per mile).\n",
    "8. Write some codes to demonstrate the usage of functions above."
   ]
  },
  {
   "cell_type": "code",
   "execution_count": 55,
   "metadata": {
    "collapsed": false
   },
   "outputs": [],
   "source": [
    "# Problem 2\n",
    "\n",
    "# 1\n",
    "class Time(object):\n",
    "    def __init__(self, hour=0, minute=0, second=0):\n",
    "        self.hour = hour\n",
    "        self.minute = minute\n",
    "        self.second = second\n",
    "\n",
    "    def __str__(self):\n",
    "        return '%.2d:%.2d:%.2d' % (self.hour, self.minute, self.second)\n",
    "    \n",
    "# 2\n",
    "def print_time(time):\n",
    "    print '%.2d:%.2d:%.2d' % (time.hour, time.minute, time.second)\n",
    "\n",
    "# 3\n",
    "def time_to_int(time):\n",
    "    minutes = time.hour * 60 + time.minute\n",
    "    seconds = minutes * 60 + time.second\n",
    "    return seconds\n",
    "    \n",
    "def is_after(t1, t2):\n",
    "    return time_to_int(t2) > time_to_int(t1)\n",
    "\n",
    "# 4\n",
    "def int_to_time(seconds):\n",
    "    time = Time()\n",
    "    minutes, time.second = divmod(seconds, 60)\n",
    "    time.hour, time.minute = divmod(minutes, 60)\n",
    "    return time\n",
    "\n",
    "def increment_modifier(self, second):\n",
    "    seconds += self.time_to_int()\n",
    "    return int_to_time(seconds)\n",
    "    \n",
    "# 5\n",
    "def increment_pure(t1, t2):\n",
    "    sum = Time()\n",
    "    sum.hour = t1.hour + t2.hour\n",
    "    sum.minute = t1.minute + t2.minute\n",
    "    sum.second = t1.second + t2.second\n",
    "\n",
    "    if sum.second >= 60:\n",
    "        sum.second -= 60\n",
    "        sum.minute += 1\n",
    "\n",
    "    if sum.minute >= 60:\n",
    "        sum.minute -= 60\n",
    "        sum.hour += 1\n",
    "\n",
    "    return sum\n",
    "\n",
    "# 6\n",
    "def mul_time(time, number):\n",
    "    time_int = time_to_int(time) * number\n",
    "    new_time = int_to_time(time_int)\n",
    "    if new_time.hour > 12:\n",
    "        new_time.hour = new_time.hour % 12\n",
    "    return new_time\n",
    "\n",
    "# 7\n",
    "def mmuull_time(time, distance):\n",
    "    average_pace = mul_time(time, (1.0/distance))\n",
    "    return '%.2d:%.2d:%.2d' % (average_pace.hour, average_pace.minute, average_pace.second)"
   ]
  },
  {
   "cell_type": "code",
   "execution_count": 7,
   "metadata": {
    "collapsed": false
   },
   "outputs": [
    {
     "name": "stdout",
     "output_type": "stream",
     "text": [
      "01:20:30\n",
      "None\n",
      "4830\n"
     ]
    }
   ],
   "source": [
    "# 8\n",
    "time = Time()\n",
    "time.hour = 1\n",
    "time.minute = 20\n",
    "time.second = 30\n",
    "print print_time(time)\n",
    "print time_to_int(time)"
   ]
  },
  {
   "cell_type": "code",
   "execution_count": 21,
   "metadata": {
    "collapsed": false
   },
   "outputs": [
    {
     "name": "stdout",
     "output_type": "stream",
     "text": [
      "True\n"
     ]
    }
   ],
   "source": [
    "t1 = Time()\n",
    "t1.hour = 1\n",
    "t1.minute = 20\n",
    "t1.second = 30\n",
    "t2 = Time()\n",
    "t2.hour = 1\n",
    "t2.minute = 20\n",
    "t2.second = 31\n",
    "print is_after(t1, t2)"
   ]
  },
  {
   "cell_type": "code",
   "execution_count": 44,
   "metadata": {
    "collapsed": false
   },
   "outputs": [
    {
     "ename": "UnboundLocalError",
     "evalue": "local variable 'seconds' referenced before assignment",
     "output_type": "error",
     "traceback": [
      "\u001b[1;31m---------------------------------------------------------------------------\u001b[0m\n\u001b[1;31mUnboundLocalError\u001b[0m                         Traceback (most recent call last)",
      "\u001b[1;32m<ipython-input-44-7c399ddb31d4>\u001b[0m in \u001b[0;36m<module>\u001b[1;34m()\u001b[0m\n\u001b[1;32m----> 1\u001b[1;33m \u001b[1;32mprint\u001b[0m \u001b[0mincrement_modifier\u001b[0m\u001b[1;33m(\u001b[0m\u001b[0mt1\u001b[0m\u001b[1;33m,\u001b[0m \u001b[1;36m10\u001b[0m\u001b[1;33m)\u001b[0m\u001b[1;33m\u001b[0m\u001b[0m\n\u001b[0m",
      "\u001b[1;32m<ipython-input-43-ab06b41717b8>\u001b[0m in \u001b[0;36mincrement_modifier\u001b[1;34m(self, second)\u001b[0m\n\u001b[0;32m     32\u001b[0m \u001b[1;33m\u001b[0m\u001b[0m\n\u001b[0;32m     33\u001b[0m \u001b[1;32mdef\u001b[0m \u001b[0mincrement_modifier\u001b[0m\u001b[1;33m(\u001b[0m\u001b[0mself\u001b[0m\u001b[1;33m,\u001b[0m \u001b[0msecond\u001b[0m\u001b[1;33m)\u001b[0m\u001b[1;33m:\u001b[0m\u001b[1;33m\u001b[0m\u001b[0m\n\u001b[1;32m---> 34\u001b[1;33m     \u001b[0mseconds\u001b[0m \u001b[1;33m+=\u001b[0m \u001b[0mself\u001b[0m\u001b[1;33m.\u001b[0m\u001b[0mtime_to_int\u001b[0m\u001b[1;33m(\u001b[0m\u001b[1;33m)\u001b[0m\u001b[1;33m\u001b[0m\u001b[0m\n\u001b[0m\u001b[0;32m     35\u001b[0m     \u001b[1;32mreturn\u001b[0m \u001b[0mint_to_time\u001b[0m\u001b[1;33m(\u001b[0m\u001b[0mseconds\u001b[0m\u001b[1;33m)\u001b[0m\u001b[1;33m\u001b[0m\u001b[0m\n\u001b[0;32m     36\u001b[0m \u001b[1;33m\u001b[0m\u001b[0m\n",
      "\u001b[1;31mUnboundLocalError\u001b[0m: local variable 'seconds' referenced before assignment"
     ]
    }
   ],
   "source": [
    "print increment_modifier(t1, 10)"
   ]
  },
  {
   "cell_type": "code",
   "execution_count": 37,
   "metadata": {
    "collapsed": false
   },
   "outputs": [
    {
     "name": "stdout",
     "output_type": "stream",
     "text": [
      "02:41:01\n"
     ]
    }
   ],
   "source": [
    "print increment_pure(t1, t2)"
   ]
  },
  {
   "cell_type": "code",
   "execution_count": 45,
   "metadata": {
    "collapsed": false
   },
   "outputs": [
    {
     "name": "stdout",
     "output_type": "stream",
     "text": [
      "02:41:00\n"
     ]
    }
   ],
   "source": [
    "print mul_time(t1, 2)"
   ]
  },
  {
   "cell_type": "code",
   "execution_count": 57,
   "metadata": {
    "collapsed": false
   },
   "outputs": [
    {
     "name": "stdout",
     "output_type": "stream",
     "text": [
      "00:00:36\n"
     ]
    }
   ],
   "source": [
    "finish = Time()\n",
    "finish.hour = 1\n",
    "finish.minute = 00\n",
    "finish.second = 00\n",
    "print mmuull_time(finish, 100)"
   ]
  },
  {
   "cell_type": "markdown",
   "metadata": {},
   "source": [
    "## Problem 3\n",
    "\n",
    "1. Write a class definition for a Date object that has attributes `day`, `month` and `year`.\n",
    "2. Write a function called `increment_date` that takes a Date object, `date` and an integer, `n`, and returns a new Date object that represents the day `n` days after date.\n",
    "3. **Challenge**: does your function deal with leap years correctly? See http://en.wikipedia.org/wiki/Leap_year."
   ]
  },
  {
   "cell_type": "code",
   "execution_count": 1,
   "metadata": {
    "collapsed": false
   },
   "outputs": [
    {
     "name": "stdout",
     "output_type": "stream",
     "text": [
      "19/05/2015\n",
      "18/05/2016\n"
     ]
    }
   ],
   "source": [
    "# Problem 3\n",
    "\n",
    "#1\n",
    "class date(object):\n",
    "    \"\"\"Represents the date.\n",
    "    attributes: day, month, year\n",
    "    \"\"\"\n",
    "#2 #3\n",
    "def print_date(date):\n",
    "    print '%.2d/%.2d/%.2d' % (date.day, date.month, date.year)\n",
    "\n",
    "def increment_date(d, n):\n",
    "    sum = date()\n",
    "    sum.day = d.day + n\n",
    "    sum.month = d.month\n",
    "    sum.year = d.year\n",
    "    \n",
    "    while sum.day>31:\n",
    "        \n",
    "        if sum.month==1:\n",
    "            if sum.day > 31:\n",
    "                sum.day -= 31\n",
    "                sum.month += 1\n",
    "\n",
    "        if sum.month==2:\n",
    "            if sum.year % 4 != 0 and sum.year % 100 == 0:\n",
    "                if sum.day > 28:\n",
    "                    sum.day -= 28\n",
    "                    sum.month += 1\n",
    "            if sum.year % 4 == 0 and sum.year % 100 != 0:\n",
    "                if sum.day > 29:\n",
    "                    sum.day -= 29\n",
    "                    sum.month += 1\n",
    "        \n",
    "        if sum.month==3:\n",
    "            if sum.day > 31:\n",
    "                sum.day -= 31\n",
    "                sum.month += 1\n",
    "        \n",
    "        if sum.month==4:\n",
    "            if sum.day > 30:\n",
    "                sum.day -= 30\n",
    "                sum.month += 1\n",
    "        \n",
    "        if sum.month==5:\n",
    "            if sum.day > 31:\n",
    "                sum.day -= 31\n",
    "                sum.month += 1\n",
    "        \n",
    "        if sum.month==6:\n",
    "            if sum.day > 30:\n",
    "                sum.day -= 30\n",
    "                sum.month += 1\n",
    "        \n",
    "        if sum.month==7:\n",
    "            if sum.day > 31:\n",
    "                sum.day -= 31\n",
    "                sum.month += 1\n",
    "        \n",
    "        if sum.month==8:\n",
    "            if sum.day > 31:\n",
    "                sum.day -= 31\n",
    "                sum.month += 1\n",
    "         \n",
    "        if sum.month==9:\n",
    "            if sum.day > 30:\n",
    "                sum.day -= 30\n",
    "                sum.month += 1\n",
    "    \n",
    "        if sum.month==10:\n",
    "            if sum.day > 31:\n",
    "                sum.day -= 31\n",
    "                sum.month += 1\n",
    "        \n",
    "        if sum.month==11:\n",
    "            if sum.day > 30:\n",
    "                sum.day -= 30\n",
    "                sum.month += 1\n",
    "    \n",
    "        if sum.month==12:\n",
    "            if sum.day > 31:\n",
    "                sum.day -= 31\n",
    "                sum.month += 1\n",
    "        \n",
    "        if sum.month > 12:\n",
    "            sum.month -= 12\n",
    "            sum.year += 1\n",
    "        \n",
    "    print_date(sum)\n",
    "        \n",
    "d = date()\n",
    "d.day = 19\n",
    "d.month = 5\n",
    "d.year = 2015\n",
    "print_date(d)\n",
    "increment_date(d,365)"
   ]
  },
  {
   "cell_type": "markdown",
   "metadata": {},
   "source": [
    "## Problem 4\n",
    "\n",
    "The `datetime` module provides date and time objects that are similar to the Date and Time objects in this chapter, but they provide a rich set of methods and operators. Read the documentation at http://docs.python.org/2/library/datetime.html.\n",
    "\n",
    "1. Use the `datetime` module to write a program that gets the current date and prints the day of the week.\n",
    "2. Write a program that takes a birthday as input and prints the user’s age and the number of days, hours, minutes and seconds until their next birthday.\n",
    "3. For two people born on different days, there is a day when one is twice as old as the other. That’s their Double Day. Write a program that takes two birthdays and computes their Double Day.\n",
    "4. For a little more challenge, write the more general version that computes the day when one person is `n` times older than the other."
   ]
  },
  {
   "cell_type": "code",
   "execution_count": 22,
   "metadata": {
    "collapsed": false
   },
   "outputs": [
    {
     "name": "stdout",
     "output_type": "stream",
     "text": [
      "2015-05-19 1\n",
      "20\n",
      "You have 119 days, 1 hours, 44 minutes and 21 seconds left until your next birthday.\n",
      "Double day for 1994-09-16 and 1975-09-05: 2013-09-27\n"
     ]
    }
   ],
   "source": [
    "# Problem 4\n",
    "\n",
    "#1\n",
    "from datetime import datetime, date, time\n",
    "today = date.today()\n",
    "print today, date.weekday(today)\n",
    "\n",
    "#2\n",
    "b = date(1994, 9, 16)\n",
    "def until_birthday():\n",
    "    today = datetime.now()\n",
    "    if today > datetime(today.year, b.month, b.day):\n",
    "        age = today.year - b.year\n",
    "        next_year = True\n",
    "    else:\n",
    "        age = today.year - b.year - 1\n",
    "        next_year = False\n",
    "    time_to_birthday = datetime(today.year + next_year, b.month, b.day) - today\n",
    "    days = time_to_birthday.days\n",
    "    hours, remainder = divmod(time_to_birthday.seconds, 3600)\n",
    "    minutes, seconds = divmod(remainder, 60)\n",
    "    print age\n",
    "    print((\"You have {0} days, {1} hours, {2} minutes and {3} seconds left until your next birthday.\").format(days, hours, minutes, seconds))\n",
    "    \n",
    "until_birthday()\n",
    "\n",
    "#3\n",
    "def double_day(birth1,birth2):\n",
    "    birth1_age = (today-birth1)\n",
    "    birth2_age = (today-birth2)\n",
    "    if birth2 > birth1:\n",
    "        d = today - (2*birth2_age - birth1_age)\n",
    "    else:\n",
    "        d = today - (2*birth1_age - birth2_age)\n",
    "    return d\n",
    "\n",
    "birth1 = date(1994,9,16)\n",
    "birth2 = date(1975,9,5)\n",
    "print(\"Double day for %s and %s: %s\" % (birth1,birth2,double_day(birth1,birth2)))"
   ]
  },
  {
   "cell_type": "markdown",
   "metadata": {},
   "source": [
    "## Problem 5\n",
    "\n",
    "Implement the `Point` class and the `Rectangle` class, with following methods.\n",
    "\n",
    "1. Write an `init` method for the Point class that takes `x` and `y` as optional parameters and assigns them to the corresponding attributes.\n",
    "2. Write a `str` method for the Point class.\n",
    "3. Write an `add` method for Points that works with either a Point object or a tuple:\n",
    "  * If the second operand is a Point, the method should return a new Point whose `x` coordinate is the sum of the `x` coordinates of the operands, and likewise for the `y` coordinates.\n",
    "  * If the second operand is a tuple, the method should add the first element of the tuple to the `x` coordinate and the second element to the `y` coordinate, and return a new Point with the result.\n",
    "4. Write some codes to demonstrate the usage of methods above."
   ]
  },
  {
   "cell_type": "code",
   "execution_count": 24,
   "metadata": {
    "collapsed": false
   },
   "outputs": [],
   "source": [
    "# Problem 5\n",
    "\n",
    "#1 #2 #3\n",
    "class point(object):\n",
    "    def __init__(self,x=0,y=0):\n",
    "        self.x=x\n",
    "        self.y=y\n",
    "    \n",
    "    def __str__(self):\n",
    "        return '(%g, %g)' % (self.x,self.y)\n",
    "    \n",
    "    def add_point(self,other):\n",
    "        b = point()\n",
    "        b.x = self.x + other.x\n",
    "        b.y = self.y + other.y\n",
    "        return b\n"
   ]
  },
  {
   "cell_type": "code",
   "execution_count": 25,
   "metadata": {
    "collapsed": false
   },
   "outputs": [
    {
     "name": "stdout",
     "output_type": "stream",
     "text": [
      "(0, 0)\n"
     ]
    }
   ],
   "source": [
    "#4\n",
    "a = point()\n",
    "print a\n",
    "a.x = 10\n",
    "a.y = 5"
   ]
  },
  {
   "cell_type": "code",
   "execution_count": null,
   "metadata": {
    "collapsed": true
   },
   "outputs": [],
   "source": []
  }
 ],
 "metadata": {
  "kernelspec": {
   "display_name": "Python 2",
   "language": "python",
   "name": "python2"
  },
  "language_info": {
   "codemirror_mode": {
    "name": "ipython",
    "version": 2
   },
   "file_extension": ".py",
   "mimetype": "text/x-python",
   "name": "python",
   "nbconvert_exporter": "python",
   "pygments_lexer": "ipython2",
   "version": "2.7.9"
  }
 },
 "nbformat": 4,
 "nbformat_minor": 0
}
