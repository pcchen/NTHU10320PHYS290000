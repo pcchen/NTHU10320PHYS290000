{
 "metadata": {
  "name": "",
  "signature": "sha256:b8c76f9210a8ff9178f169b3779d60795b129356369ee1d8915205f421e959ad"
 },
 "nbformat": 3,
 "nbformat_minor": 0,
 "worksheets": [
  {
   "cells": [
    {
     "cell_type": "markdown",
     "metadata": {},
     "source": [
      "# Homework 1"
     ]
    },
    {
     "cell_type": "markdown",
     "metadata": {},
     "source": [
      "## Problem 1.1\n",
      "\n",
      "Write some code that prints the words `Hello, World'."
     ]
    },
    {
     "cell_type": "code",
     "collapsed": false,
     "input": [
      "# Problem 1.1\n",
      "print 'Hello World'"
     ],
     "language": "python",
     "metadata": {},
     "outputs": [
      {
       "output_type": "stream",
       "stream": "stdout",
       "text": [
        "Hello World\n"
       ]
      }
     ],
     "prompt_number": 1
    },
    {
     "cell_type": "markdown",
     "metadata": {},
     "source": [
      "## Problem 1.2\n",
      "\n",
      "Python provides a built-in function called `len` that returns the length of a string, so the value of `len('allen')` is `5`.\n",
      "\n",
      "Write a function named `right_justify` that takes a string named `s` as a parameter and prints the string with enough leading spaces so that the last letter of the string is in column 70 of the display.\n",
      "\n",
      "Write some code to demonstrate the usage of your `right_justify` function.\n",
      "\n",
      "``\n",
      "right_justify('allen')\n",
      "                                                                 allen\n",
      "right_justify('homework')\n",
      "                                                              homework\n",
      "right_justify('cat')\n",
      "                                                                   cat\n",
      "``"
     ]
    },
    {
     "cell_type": "code",
     "collapsed": false,
     "input": [
      "# Problem 1.2\n",
      "def right_justify(s):\n",
      "    a=len(s)\n",
      "    print ' '*(70-a)+s\n",
      "right_justify('allen')\n",
      "print ' '\n",
      "right_justify('homework')\n",
      "print ' '\n",
      "right_justify('cat')\n"
     ],
     "language": "python",
     "metadata": {},
     "outputs": [
      {
       "output_type": "stream",
       "stream": "stdout",
       "text": [
        "                                                                 allen\n",
        " \n",
        "                                                              homework\n",
        " \n",
        "                                                                   cat\n"
       ]
      }
     ],
     "prompt_number": 1
    },
    {
     "cell_type": "markdown",
     "metadata": {},
     "source": [
      "## Problem 1.3\n",
      "\n",
      "### Exercise 3.4 \n",
      "\n",
      "A **function object** is a value you can assign to a variable or pass as an argument. For example, `do_twice` is a function that takes a function object as an argument and calls it twice:\n",
      "\n",
      "``\n",
      "def do_twice(f):\n",
      "    f()\n",
      "    f()\n",
      "``\n",
      "\n",
      "Here\u2019s an example that uses `do_twice` to call a function named `print_spam` twice.\n",
      "\n",
      "``def print_spam():\n",
      "    print 'spam'``\n",
      "\n",
      "``    \n",
      "do_twice(print_spam)\n",
      "``\n",
      "\n",
      "1. Type this example into a script and test it.\n",
      "2. Modify `do_twice` so that it takes two arguments, a function object and a value, and calls the function twice, passing the value as an argument.\n",
      "3. Write a more general version of `print_spam`, called `print_twice`, that takes a string as a parameter and prints it twice.\n",
      "4. Use the modified version of `do_twice` to call `print_twice` twice, passing `'spam'` as an argument.\n",
      "5. Define a new function called `do_four` that takes a function object and a value and calls the function four times, passing the value as a parameter. There should be only two statements in the body of this function, not four.\n",
      "\n",
      "Write some code to demonstrate the usage above functions."
     ]
    },
    {
     "cell_type": "code",
     "collapsed": false,
     "input": [
      "#1.3.1\n",
      "def do_twice(f):\n",
      "    f()\n",
      "    f()\n",
      "def print_spam():\n",
      "    print 'spam'\n",
      "do_twice(print_spam)"
     ],
     "language": "python",
     "metadata": {},
     "outputs": [
      {
       "output_type": "stream",
       "stream": "stdout",
       "text": [
        "spam\n",
        "spam\n"
       ]
      }
     ],
     "prompt_number": 13
    },
    {
     "cell_type": "code",
     "collapsed": false,
     "input": [
      "#1.3.2\n",
      "def do_twice(a, b):\n",
      "    a(b)\n",
      "    a(b)\n",
      "def do_twice2(x):\n",
      "    print x\n",
      "do_twice(do_twice2, 'hello')"
     ],
     "language": "python",
     "metadata": {},
     "outputs": [
      {
       "output_type": "stream",
       "stream": "stdout",
       "text": [
        "hello\n",
        "hello\n"
       ]
      }
     ],
     "prompt_number": 26
    },
    {
     "cell_type": "code",
     "collapsed": false,
     "input": [
      "#1.3.3\n",
      "def print_twice(a):\n",
      "    print a\n",
      "    print a\n",
      "\n",
      "print_twice('hello')  "
     ],
     "language": "python",
     "metadata": {},
     "outputs": [
      {
       "output_type": "stream",
       "stream": "stdout",
       "text": [
        "hello\n",
        "hello\n"
       ]
      }
     ],
     "prompt_number": 27
    },
    {
     "cell_type": "code",
     "collapsed": false,
     "input": [
      "#1.3.4\n",
      "def do_twice(a, b):\n",
      "    a(b)\n",
      "    a(b)\n",
      "def print_twice(x):\n",
      "    print x\n",
      "    print x\n",
      "do_twice(print_twice, 'hello')"
     ],
     "language": "python",
     "metadata": {},
     "outputs": [
      {
       "output_type": "stream",
       "stream": "stdout",
       "text": [
        "hello\n",
        "hello\n",
        "hello\n",
        "hello\n"
       ]
      }
     ],
     "prompt_number": 28
    },
    {
     "cell_type": "code",
     "collapsed": false,
     "input": [
      "#1.3.5"
     ],
     "language": "python",
     "metadata": {},
     "outputs": []
    },
    {
     "cell_type": "markdown",
     "metadata": {},
     "source": [
      "## Problem 1.4\n",
      "\n",
      "*This exercise can be done using only the statements and other features we have learned so far.*\n",
      "\n",
      "(1) Write a function that draws a grid like the following:\n",
      "\n",
      "\n",
      "    + - - - - + - - - - +\n",
      "    |         |         |\n",
      "    |         |         |\n",
      "    |         |         |\n",
      "    |         |         |\n",
      "    + - - - - + - - - - +\n",
      "    |         |         |\n",
      "    |         |         |\n",
      "    |         |         |\n",
      "    |         |         |\n",
      "    + - - - - + - - - - +\n",
      "\n",
      "\n",
      "Hint: to print more than one value on a line, you can print a comma-separated sequence:\n",
      "\n",
      "    print '+', '-'\n",
      "\n",
      "If the sequence ends with a comma, Python leaves the line unfinished, so the value printed next appears on the same line.\n",
      "\n",
      "\n",
      "    print '+', \n",
      "    print '-'\n",
      "\n",
      "The output of these statements is `'+ -'`.\n",
      "\n",
      "A `print` statement all by itself ends the current line and goes to the next line.\n",
      "\n",
      "(2) Write a function that draws a similar grid with four rows and four columns."
     ]
    },
    {
     "cell_type": "code",
     "collapsed": false,
     "input": [
      "# Problem 1.4.1\n",
      "def a():\n",
      "    print '+ - - - - + - - - - +'\n",
      "def b():\n",
      "    print '|         |         |'\n",
      "\n",
      "def c():\n",
      "    a()\n",
      "    b()\n",
      "    b()\n",
      "    b()\n",
      "    b()\n",
      "    a()\n",
      "    b()\n",
      "    b()\n",
      "    b()\n",
      "    b()\n",
      "    a()\n",
      "c()        \n",
      "# Problem 1.4.2\n",
      "def a():\n",
      "    print '+ - - - - + - - - - + - - - - +'\n",
      "def b():\n",
      "    print '|         |         |         |'\n",
      "def c():\n",
      "    a()\n",
      "    b()\n",
      "    b()\n",
      "    b()\n",
      "    b()\n",
      "    a()\n",
      "    b()\n",
      "    b()\n",
      "    b()\n",
      "    b()\n",
      "    a()\n",
      "    b()\n",
      "    b()\n",
      "    b()\n",
      "    b()\n",
      "    a()\n",
      "c()"
     ],
     "language": "python",
     "metadata": {},
     "outputs": [
      {
       "output_type": "stream",
       "stream": "stdout",
       "text": [
        "+ - - - - + - - - - +\n",
        "|         |         |\n",
        "|         |         |\n",
        "|         |         |\n",
        "|         |         |\n",
        "+ - - - - + - - - - +\n",
        "|         |         |\n",
        "|         |         |\n",
        "|         |         |\n",
        "|         |         |\n",
        "+ - - - - + - - - - +\n",
        "+ - - - - + - - - - + - - - - +\n",
        "|         |         |         |\n",
        "|         |         |         |\n",
        "|         |         |         |\n",
        "|         |         |         |\n",
        "+ - - - - + - - - - + - - - - +\n",
        "|         |         |         |\n",
        "|         |         |         |\n",
        "|         |         |         |\n",
        "|         |         |         |\n",
        "+ - - - - + - - - - + - - - - +\n",
        "|         |         |         |\n",
        "|         |         |         |\n",
        "|         |         |         |\n",
        "|         |         |         |\n",
        "+ - - - - + - - - - + - - - - +\n"
       ]
      }
     ],
     "prompt_number": 3
    },
    {
     "cell_type": "markdown",
     "metadata": {},
     "source": [
      "## Problem 1.5\n",
      "\n",
      "Write a **resursive function** called `do_n` that takes a function object and a number, `n`, as arguments, and that calls the given function n times."
     ]
    },
    {
     "cell_type": "code",
     "collapsed": false,
     "input": [
      "# Problem 1.5\n",
      "def do_n(s,n):\n",
      "    if n <= 0:\n",
      "        return\n",
      "    print s\n",
      "    do_n(s,n-1)\n",
      "do_n('hello',3)"
     ],
     "language": "python",
     "metadata": {},
     "outputs": [
      {
       "output_type": "stream",
       "stream": "stdout",
       "text": [
        "hello\n",
        "hello\n",
        "hello\n"
       ]
      }
     ],
     "prompt_number": 4
    },
    {
     "cell_type": "markdown",
     "metadata": {},
     "source": [
      "## Problem 1.6\n",
      "\n",
      "Write some code that asks the user for the Cartesian coordinates $x$,$y$ of a point in 2D space, and calculate the print the corresponding polar coordinates, with the angle $\\theta$ given in degrees."
     ]
    },
    {
     "cell_type": "code",
     "collapsed": false,
     "input": [
      "# Problem 1.6\n",
      "import math\n",
      "a = float(raw_input('x = ',))\n",
      "b = float(raw_input('y = ',))\n",
      "def c():\n",
      "    r = math.hypot(a,b)\n",
      "    print 'r =',r\n",
      "def d():\n",
      "    if b==0:\n",
      "        if a>=0:\n",
      "            print 0\n",
      "        else: \n",
      "            print 180\n",
      "    elif a==0:\n",
      "        if b>0:\n",
      "            print 90\n",
      "        else:\n",
      "            print 270\n",
      "    elif b/a>0:\n",
      "        if a>0:\n",
      "            s = math.atan(b/a) / math.pi * 180\n",
      "            print 's =',s\n",
      "        else:\n",
      "            s = math.atan(b/a) / math.pi * 180+180\n",
      "            print 's =',s\n",
      "    elif b/a<0:\n",
      "        if a<0:\n",
      "            s = math.atan(b/a) / math.pi * 180+180\n",
      "            print 's =',s\n",
      "        else:\n",
      "            s = math.atan(b/a) / math.pi * 180+360\n",
      "            print 's =',s      \n",
      "c()    \n",
      "d()"
     ],
     "language": "python",
     "metadata": {},
     "outputs": [
      {
       "name": "stdout",
       "output_type": "stream",
       "stream": "stdout",
       "text": [
        "x = 1\n"
       ]
      },
      {
       "name": "stdout",
       "output_type": "stream",
       "stream": "stdout",
       "text": [
        "y = -1\n"
       ]
      },
      {
       "output_type": "stream",
       "stream": "stdout",
       "text": [
        "r = 1.41421356237\n",
        "s = 315.0\n"
       ]
      }
     ],
     "prompt_number": 25
    },
    {
     "cell_type": "markdown",
     "metadata": {},
     "source": [
      "## Problem 1.7\n",
      "\n",
      "Fermat\u2019s Last Theorem says that there are no positive integers $a$, $b$, and $c$ such that\n",
      "\n",
      "$$\n",
      "  a^n + b^n = c^n \n",
      "$$\n",
      "for any values of $n$ greater than 2.\n",
      "\n",
      "1. Write a function named `check_fermat` that takes four parameters\u2014`a`, `b`, `c` and `n`\u2014and that checks to see if Fermat\u2019s theorem holds.\n",
      " * If `n` is greater than 2 and it turns out to be true that $a^n + b^n = c^n$ \n",
      "the program should print, \u201cHoly smokes, Fermat was wrong!\u201d.\n",
      " * Otherwise the program should print, \u201cNo, that doesn\u2019t work.\u201d\n",
      "\n",
      "2. Write a function that prompts the user to input values for `a`, `b`, `c` and `n`, converts them to integers, and uses `check_fermat` to check whether they violate Fermat\u2019s theorem.\n",
      "\n"
     ]
    },
    {
     "cell_type": "code",
     "collapsed": false,
     "input": [
      "# Problem 1.7.1\n",
      "def check_fermat(a, b, c, n):\n",
      "    if n>2 and a**n+b**n==c**n:\n",
      "        print 'Holy smokes, Fermat was wrong'\n",
      "    else:\n",
      "        print 'No, that doesn\u2019t work'\n",
      "check_fermat(3, 3, 3, 3 )\n",
      "check_fermat(-1, -1, -1, -1 )\n",
      "check_fermat(-1, -1, -1, -1 )      \n",
      "check_fermat(-1.2, -1, -1.2, 3 ) "
     ],
     "language": "python",
     "metadata": {},
     "outputs": [
      {
       "output_type": "stream",
       "stream": "stdout",
       "text": [
        "No, that doesn\u2019t work\n",
        "No, that doesn\u2019t work\n",
        "No, that doesn\u2019t work\n",
        "No, that doesn\u2019t work\n"
       ]
      }
     ],
     "prompt_number": 1
    },
    {
     "cell_type": "code",
     "collapsed": false,
     "input": [
      "# Problem 1.7.2\n",
      "def check_fermat(a, b, c, n):\n",
      "    if n>2 and a**n+b**n==c**n:\n",
      "        print 'Holy smokes, Fermat was wrong'\n",
      "    else:\n",
      "        print 'No, that doesn\u2019t work'\n",
      "a = float (raw_input('a = '))\n",
      "b = float (raw_input('b = '))\n",
      "c = float (raw_input('c = '))\n",
      "n = float (raw_input('n = '))\n",
      "\n",
      "def print_fermat():\n",
      "    if 0<a-int(a)<1 or 0<b-int(b)<1 or 0<c-int(c)<1 or 0<n-int(n)<1:\n",
      "        print 'it must be integer'\n",
      "    elif -1<a-int(a)<0 or -1<b-int(b)<0 or -1<c-int(c)<0 or -1<n-int(n)<0:\n",
      "        print 'it must be integer'\n",
      "    elif n<=2:\n",
      "        print 'n must bigger than 2 and positive'\n",
      "    else:\n",
      "        print check_fermat(a, b, c, n)\n",
      "print_fermat()"
     ],
     "language": "python",
     "metadata": {},
     "outputs": [
      {
       "name": "stdout",
       "output_type": "stream",
       "stream": "stdout",
       "text": [
        "a = 2\n"
       ]
      },
      {
       "name": "stdout",
       "output_type": "stream",
       "stream": "stdout",
       "text": [
        "b = 2\n"
       ]
      },
      {
       "name": "stdout",
       "output_type": "stream",
       "stream": "stdout",
       "text": [
        "c = 2\n"
       ]
      },
      {
       "name": "stdout",
       "output_type": "stream",
       "stream": "stdout",
       "text": [
        "n = 2\n"
       ]
      },
      {
       "output_type": "stream",
       "stream": "stdout",
       "text": [
        "n must bigger than 2 and positive\n"
       ]
      }
     ],
     "prompt_number": 2
    },
    {
     "cell_type": "markdown",
     "metadata": {},
     "source": [
      "## Problem 1.8\n",
      "\n",
      "If you are given three sticks, you may or may not be able to arrange them in a triangle. For example, if one of the sticks is 12 inches long and the other two are one inch long, it is clear that you will not be able to get the short sticks to meet in the middle. For any three lengths, there is a simple test to see if it is possible to form a triangle:\n",
      "\n",
      "> If any of the three lengths is greater than the sum of the other two, then you cannot form a triangle. Otherwise, you can. \n",
      "> (If the sum of two lengths equals the third, they form what is called a \u201cdegenerate\u201d triangle.)\n",
      "\n",
      "1. Write a function named `is_triangle` that takes three integers as arguments, and that prints either \u201cYes\u201d or \u201cNo,\u201d depending on whether you can or cannot form a triangle from sticks with the given lengths.\n",
      "\n",
      "2. Write a function that prompts the user to input three stick lengths, converts them to integers, and uses `is_triangle` to check whether sticks with the given lengths can form a triangle"
     ]
    },
    {
     "cell_type": "code",
     "collapsed": false,
     "input": [
      "# Problem 1.8.1\n",
      "def is_triangle(x ,y ,z):\n",
      "    if (x+y)>z and (x+z)>y and (y+z)>x:\n",
      "        print 'yes'\n",
      "    else:\n",
      "        print 'no'\n",
      "is_triangle(1 ,1 ,1)\n",
      "is_triangle(2.3 ,2 ,2)"
     ],
     "language": "python",
     "metadata": {},
     "outputs": [
      {
       "output_type": "stream",
       "stream": "stdout",
       "text": [
        "yes\n",
        "yes\n"
       ]
      }
     ],
     "prompt_number": 4
    },
    {
     "cell_type": "code",
     "collapsed": false,
     "input": [
      "# Problem 1.8.2\n",
      "def is_triangle(x,y,z):\n",
      "    if (x+y)>z and (x+z)>y and (y+z)>x:\n",
      "        print 'yes'\n",
      "    else:\n",
      "        print'no'\n",
      "x = float(raw_input('x = '))\n",
      "y = float(raw_input('y = '))\n",
      "z = float(raw_input('z = '))\n",
      "def print_triangle():\n",
      "    if 0<x-int(x)<1 or 0<y-int(y)<1 or 0<z-int(z)<1:\n",
      "        print 'it must be integer' \n",
      "    else:\n",
      "        is_triangle(x,y,z)\n",
      "print_triangle()"
     ],
     "language": "python",
     "metadata": {},
     "outputs": [
      {
       "name": "stdout",
       "output_type": "stream",
       "stream": "stdout",
       "text": [
        "x = 1\n"
       ]
      },
      {
       "name": "stdout",
       "output_type": "stream",
       "stream": "stdout",
       "text": [
        "y = 3\n"
       ]
      },
      {
       "name": "stdout",
       "output_type": "stream",
       "stream": "stdout",
       "text": [
        "z = 4\n"
       ]
      },
      {
       "output_type": "stream",
       "stream": "stdout",
       "text": [
        "no\n"
       ]
      }
     ],
     "prompt_number": 5
    },
    {
     "cell_type": "markdown",
     "metadata": {},
     "source": [
      "## Problem 1.9\n",
      "\n",
      "Write a compare function that returns 1 if x > y, 0 if x == y, and -1 if x < y."
     ]
    },
    {
     "cell_type": "code",
     "collapsed": false,
     "input": [
      "# Problem 1.9\n",
      "def a(x,y):\n",
      "    if x>y:\n",
      "        return 1\n",
      "    elif x==y:\n",
      "        return 0\n",
      "    else:\n",
      "        return -1\n",
      "x = float(raw_input('x = '))\n",
      "y = float(raw_input('y = '))\n",
      "a(x, y)"
     ],
     "language": "python",
     "metadata": {},
     "outputs": [
      {
       "name": "stdout",
       "output_type": "stream",
       "stream": "stdout",
       "text": [
        "x = 1.2\n"
       ]
      },
      {
       "name": "stdout",
       "output_type": "stream",
       "stream": "stdout",
       "text": [
        "y = 1\n"
       ]
      },
      {
       "metadata": {},
       "output_type": "pyout",
       "prompt_number": 6,
       "text": [
        "1"
       ]
      }
     ],
     "prompt_number": 6
    },
    {
     "cell_type": "markdown",
     "metadata": {},
     "source": [
      "## Problem 1.10\n",
      "\n",
      "The Ackermann function, $A(m, n)$, is defined:\n",
      "\n",
      "$$\n",
      "\\begin{eqnarray*}\n",
      "A(m, n) = \\begin{cases}\n",
      "              n+1 & \\mbox{if } m = 0 \\\\\n",
      "        A(m-1, 1) & \\mbox{if } m > 0 \\mbox{ and } n = 0 \\\\\n",
      "A(m-1, A(m, n-1)) & \\mbox{if } m > 0 \\mbox{ and } n > 0.\n",
      "\\end{cases}\n",
      "\\end{eqnarray*}\n",
      "$$\n",
      "\n",
      "See http://en.wikipedia.org/wiki/Ackermann_function.\n",
      "* Write a function named ack that evaluates Ackermann\u2019s function. \n",
      "* Use your function to evaluate $ack(3, 4)$, which should be 125.\n",
      "* What happens for larger values of m and n?"
     ]
    },
    {
     "cell_type": "code",
     "collapsed": false,
     "input": [
      "# Problem 1.10\n",
      "def ack(m,n):\n",
      "    if m==0:\n",
      "        return n+1\n",
      "    elif m>0 and n==0:\n",
      "        return ack(m-1,1)\n",
      "    elif m>0 and n>0:\n",
      "        return ack(m-1, ack(m, n-1))\n",
      "m = float(raw_input('m = '))\n",
      "n = float(raw_input('n = '))\n",
      "ack(m,n)\n",
      "# if m,n too large, it will recusive too much times and we won't know the value."
     ],
     "language": "python",
     "metadata": {},
     "outputs": [
      {
       "name": "stdout",
       "output_type": "stream",
       "stream": "stdout",
       "text": [
        "m = 3\n"
       ]
      },
      {
       "name": "stdout",
       "output_type": "stream",
       "stream": "stdout",
       "text": [
        "n = 4\n"
       ]
      },
      {
       "metadata": {},
       "output_type": "pyout",
       "prompt_number": 8,
       "text": [
        "125"
       ]
      }
     ],
     "prompt_number": 8
    },
    {
     "cell_type": "markdown",
     "metadata": {},
     "source": [
      "## Problem 1.11\n",
      "\n",
      "A number, a, is a power of b if it is divisible by b and a/b is a power of b. Write a function called `is_power` that takes parameters a and b and returns True if a is a power of b. Note: you will have to think about the base case."
     ]
    },
    {
     "cell_type": "code",
     "collapsed": false,
     "input": [
      "# Problem 1.11\n",
      "def is_power(a, b):\n",
      "    if -1<a-int(a)<1 or -1<b-int(b)<1:\n",
      "        if a-int(a)==0 and b-int(b)==0:\n",
      "            print 'true'        \n",
      "        else:\n",
      "            print 'it must be integer'\n",
      "    elif a==1 and b!=0:\n",
      "        return True             \n",
      "    elif b==1 or b==0:\n",
      "        return False\n",
      "    elif a%b==0:\n",
      "        if ((a/b)/b)==1:\n",
      "            return True\n",
      "        else:\n",
      "            return is_power(a/b,b)\n",
      "    else:\n",
      "        return False\n",
      "a = float(raw_input('a = '))\n",
      "b = float(raw_input('b = '))\n",
      "is_power(a,b)"
     ],
     "language": "python",
     "metadata": {},
     "outputs": [
      {
       "name": "stdout",
       "output_type": "stream",
       "stream": "stdout",
       "text": [
        "a = 125\n"
       ]
      },
      {
       "name": "stdout",
       "output_type": "stream",
       "stream": "stdout",
       "text": [
        "b = 5\n"
       ]
      },
      {
       "output_type": "stream",
       "stream": "stdout",
       "text": [
        "true\n"
       ]
      }
     ],
     "prompt_number": 1
    },
    {
     "cell_type": "markdown",
     "metadata": {},
     "source": [
      "## Problem 1.12\n",
      "\n",
      "The greatest common divisor (GCD) of a and b is the largest number that divides both of them with no remainder.\n",
      "\n",
      "One way to find the GCD of two numbers is based on the observation that if r is the remainder when a is divided by b, then gcd(a, b) = gcd(b, r). As a base case, we can use gcd(a, 0) = a.\n",
      "\n",
      "Write a function called `gcd` that takes parameters a and b and returns their greatest common divisor."
     ]
    },
    {
     "cell_type": "code",
     "collapsed": false,
     "input": [
      "# Problem 1.12\n",
      "def GCD(a,b):\n",
      "    if b==0 or b==a:\n",
      "        print a\n",
      "    elif a==0:\n",
      "        print b\n",
      "    elif b>a:\n",
      "        return GCD(a,b%a)\n",
      "    else:\n",
      "        return GCD(a%b,b)\n",
      "a = float(raw_input('a = '))\n",
      "b = float(raw_input('b = '))\n",
      "GCD(a,b)   "
     ],
     "language": "python",
     "metadata": {},
     "outputs": [
      {
       "name": "stdout",
       "output_type": "stream",
       "stream": "stdout",
       "text": [
        "a = 345\n"
       ]
      },
      {
       "name": "stdout",
       "output_type": "stream",
       "stream": "stdout",
       "text": [
        "b = 1500\n"
       ]
      },
      {
       "output_type": "stream",
       "stream": "stdout",
       "text": [
        "15.0\n"
       ]
      }
     ],
     "prompt_number": 2
    },
    {
     "cell_type": "code",
     "collapsed": false,
     "input": [],
     "language": "python",
     "metadata": {},
     "outputs": []
    }
   ],
   "metadata": {}
  }
 ]
}