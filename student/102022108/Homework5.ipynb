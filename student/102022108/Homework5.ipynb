{
 "metadata": {
  "name": "",
  "signature": "sha256:e3ec6adc13f4562ec25bf68a144afe1cf325735c32671e38362a5d5886701cc3"
 },
 "nbformat": 3,
 "nbformat_minor": 0,
 "worksheets": [
  {
   "cells": [
    {
     "cell_type": "markdown",
     "metadata": {},
     "source": [
      "# Homework 5"
     ]
    },
    {
     "cell_type": "markdown",
     "metadata": {},
     "source": [
      "## Problem 1\n",
      "\n",
      "Consider the damped oscillation\n",
      "$$\n",
      "  \\ddot{x} + 2\\beta\\dot{x} + \\omega^2_0 x =0.\n",
      "$$\n",
      "\n",
      "For a given set of $\\beta$ and $\\omega_0$ and initial conditions $x(0)$ and $\\dot{x}(0)$:\n",
      "* Plot $x(t)$.\n",
      "* Plot $E(t)$.\n",
      "* Plot $dE(t)/dt$.\n",
      "* Plot the phase-path on the $x-\\dot{x}$ plane."
     ]
    },
    {
     "cell_type": "code",
     "collapsed": false,
     "input": [
      "%pylab inline"
     ],
     "language": "python",
     "metadata": {},
     "outputs": [
      {
       "output_type": "stream",
       "stream": "stdout",
       "text": [
        "Populating the interactive namespace from numpy and matplotlib\n"
       ]
      }
     ],
     "prompt_number": 1
    },
    {
     "cell_type": "code",
     "collapsed": false,
     "input": [
      "import math "
     ],
     "language": "python",
     "metadata": {},
     "outputs": [],
     "prompt_number": 23
    },
    {
     "cell_type": "code",
     "collapsed": false,
     "input": [
      "from IPython.html.widgets import interact"
     ],
     "language": "python",
     "metadata": {},
     "outputs": [],
     "prompt_number": 4
    },
    {
     "cell_type": "code",
     "collapsed": false,
     "input": [
      "# Problem 1___a\n",
      "def E(b,w,X0,X_0,m):\n",
      "    if 4*b**2-4*w**2>=0:\n",
      "        t = linspace(0, 20, 3000)\n",
      "        a1=(-2*b+(4*b**2-4*w**2)**0.5)/2\n",
      "        a2=(-2*b-(4*b**2-4*w**2)**0.5)/2\n",
      "        C1=(X0*a2-X_0)/(a2-a1)\n",
      "        C2=(b-a1*X0)/(a2-a1)\n",
      "        \n",
      "        x=C1*exp(a1*t)+C2*exp(a2*t)\n",
      "        plot(t,x)\n",
      "    else :\n",
      "        t = linspace(0, 20, 3000)\n",
      "        a=(-2*b**0.5)/2\n",
      "        ai=((-4*b**2+4*w**2)**0.5)/2\n",
      "        C1=(X_0+(-a)*X0)/ai\n",
      "        C2=X0\n",
      "        \n",
      "        x=C1*exp(a*t)*sin(ai*t)+C2*exp(a*t)*cos(ai*t)\n",
      "        plot(t,x)\n",
      "    \n",
      "interact(E, b=(-10.,10.,0.001), w=(-10., 10.,0.01), X0=(-10., 10.), X_0=(-10., 10.), m=(-10., 10.))"
     ],
     "language": "python",
     "metadata": {},
     "outputs": [
      {
       "metadata": {},
       "output_type": "display_data",
       "png": "[encoded data removed]",
       "text": [
        "<matplotlib.figure.Figure at 0xa22a390>"
       ]
      }
     ],
     "prompt_number": 40
    },
    {
     "cell_type": "code",
     "collapsed": false,
     "input": [
      "# Problem 1___b\n",
      "def E(b,w,X0,X_0,m):\n",
      "    if 4*b**2-4*w**2>=0:\n",
      "        t = linspace(0, 20, 3000)\n",
      "        a1=(-2*b+(4*b**2-4*w**2)**0.5)/2\n",
      "        a2=(-2*b-(4*b**2-4*w**2)**0.5)/2\n",
      "        C1=(X0*a2-X_0)/(a2-a1)\n",
      "        C2=(b-a1*X0)/(a2-a1)\n",
      "        \n",
      "        x=C1*exp(a1*t)+C2*exp(a2*t)\n",
      "        x_=a1*C1*exp(a1*t)+a2*C2*exp(a2*t)\n",
      "        E=0.5*m*x_**2+0.5*m*(w**2)*x**2\n",
      "        plot(t,E)\n",
      "    else :\n",
      "        t = linspace(0, 20, 3000)\n",
      "        a=(-2*b**0.5)/2\n",
      "        ai=((-4*b**2+4*w**2)**0.5)/2\n",
      "        C1=(X_0+(-a)*X0)/ai\n",
      "        C2=X0\n",
      "        \n",
      "        x=C1*exp(a*t)*sin(ai*t)+C2*exp(a*t)*cos(ai*t)\n",
      "        x_=C1*a*exp(a*t)*sin(ai*t)+C1*ai*exp(a*t)*cos(ai*t)+C2*a*exp(a*t)*cos(ai*t)+C2*(-ai)*exp(a*t)*sin(ai*t)\n",
      "        E=0.5*m*x_**2+0.5*m*(w**2)*x**2\n",
      "        plot(t,E)\n",
      "    \n",
      "interact(E, b=(-10.,10.,0.001), w=(-10., 10.), X0=(-10., 10.), X_0=(-10., 10.), m=(-10., 10.))"
     ],
     "language": "python",
     "metadata": {},
     "outputs": [
      {
       "metadata": {},
       "output_type": "display_data",
       "png": "[encoded data removed]",
       "text": [
        "<matplotlib.figure.Figure at 0xbdf9d30>"
       ]
      }
     ],
     "prompt_number": 39
    },
    {
     "cell_type": "code",
     "collapsed": false,
     "input": [
      "# Problem 1___c\n",
      "def dE_dt(b,w,X0,X_0,m):\n",
      "    if 4*b**2-4*w**2>=0:\n",
      "        t = linspace(0, 20, 3000)\n",
      "        a1=(-2*b+(4*b**2-4*w**2)**0.5)/2\n",
      "        a2=(-2*b-(4*b**2-4*w**2)**0.5)/2\n",
      "        C1=(X0*a2-X_0)/(a2-a1)\n",
      "        C2=(b-a1*X0)/(a2-a1)\n",
      "        \n",
      "        x=C1*exp(a1*t)+C2*exp(a2*t)\n",
      "        x_=a1*C1*exp(a1*t)+a2*C2*exp(a2*t)\n",
      "        x__=(a1**2)*C1*exp(a1*t)+(a2**2)*C2*exp(a2*t)\n",
      "        dE_dt=m*x_*x__+m*(w**2)*x*x_\n",
      "        plot(t,dE_dt)\n",
      "    else :\n",
      "        t = linspace(0, 20, 3000)\n",
      "        a=(-2*b**0.5)/2\n",
      "        ai=((-4*b**2+4*w**2)**0.5)/2\n",
      "        C1=(X_0+(-a)*X0)/ai\n",
      "        C2=X0\n",
      "        \n",
      "        x=C1*exp(a*t)*sin(ai*t)+C2*exp(a*t)*cos(ai*t)\n",
      "        x_=C1*a*exp(a*t)*sin(ai*t)+C1*ai*exp(a*t)*cos(ai*t)+C2*a*exp(a*t)*cos(ai*t)+C2*(-ai)*exp(a*t)*sin(ai*t)\n",
      "        x__=C1*a**2*exp(a*t)*sin(ai*t)+C1*a*ai*exp(a*t)*cos(ai*t)+C1*ai*a*exp(a*t)*cos(ai*t)-C1*ai**2*exp(a*t)*sin(ai*t)+C2*a**2*exp(a*t)*cos(ai*t)-C2*a*ai*exp(a*t)*cos(ai*t)+C2*(-ai)*a*exp(a*t)*sin(ai*t)-C2*ai*ai*exp(a*t)*cos(ai*t)\n",
      "        E=0.5*m*x_**2+0.5*m*(w**2)*x**2\n",
      "        dE_dt=m*x_*x__+m*(w**2)*x*x_\n",
      "        plot(t,dE_dt)\n",
      "    \n",
      "interact(dE_dt, b=(-10.,10.,0.001), w=(-10., 10.), X0=(-10., 10.), X_0=(-10., 10.), m=(-10., 10.))"
     ],
     "language": "python",
     "metadata": {},
     "outputs": [
      {
       "metadata": {},
       "output_type": "display_data",
       "png": "[encoded data removed]",
       "text": [
        "<matplotlib.figure.Figure at 0xb6b9550>"
       ]
      }
     ],
     "prompt_number": 37
    },
    {
     "cell_type": "markdown",
     "metadata": {},
     "source": [
      "## Problem 2\n",
      "\n",
      "Consider the driven oscillation\n",
      "$$\n",
      "  \\ddot{x} + 2\\beta\\dot{x} + \\omega^2_0 x = A\\cos(\\omega t).\n",
      "$$\n",
      "\n",
      "For a given set of $\\beta$, $\\omega_0$ and $\\omega$:\n",
      "* Plot quality factor $Q$ as a function of $\\omega$.\n",
      "* Plot phase angle $\\delta$ as a function of $\\omega$.\n",
      "* Use IPython Interact to let the user changes the values of $\\beta$, $\\omega_0$ and $\\omega$."
     ]
    },
    {
     "cell_type": "code",
     "collapsed": false,
     "input": [
      "# Problem 2"
     ],
     "language": "python",
     "metadata": {},
     "outputs": [],
     "prompt_number": 2
    },
    {
     "cell_type": "markdown",
     "metadata": {},
     "source": [
      "## Problem 3\n",
      "\n",
      "Write a definition for a class named `Kangaroo` with the following methods:\n",
      "\n",
      "* An `__init__` method that initializes an attribute named `pouch_contents` to an empty list.\n",
      "* A method named `put_in_pouch` that takes an object of any type and adds it to `pouch_contents`.\n",
      "* A `__str__` method that returns a string representation of the Kangaroo object and the contents of the pouch.\n",
      "\n",
      "Test your code by creating two Kangaroo objects, assigning them to variables named `kanga` and `roo`, and then adding `roo` to the contents of `kanga`\u2019s pouch"
     ]
    },
    {
     "cell_type": "code",
     "collapsed": false,
     "input": [
      "# Problme 3\n",
      "class Kangaroo(object):\n",
      "    \"\"\"The kangaroo is a marsupial from the family Macropodidae (macropods, meaning 'large foot'). In common use the term is used to describe the largest species from this family, especially those of the genus Macropus: the red kangaroo, antilopine kangaroo, eastern grey kangaroo and western grey kangaroo.[1] Kangaroos are endemic to Australia, and one genus, the tree-kangaroo, is also found in Papua New Guinea. The Australian government estimates that 34.3 million kangaroos lived in Australia in 2011, up from 25.1 million one year earlier.[2]\n",
      "\n",
      "The terms \"kangaroo\", \"wallaroo\", and \"wallaby\" all refer to members of the same taxonomic family, Macropodidae, and the genus Macropus includes some wallaroos and wallabies. The largest species in the family are called \"kangaroos\", the smallest are generally called \"wallabies\", and the rest are termed \"wallaroos\".[3]\n",
      "\n",
      "Kangaroos have large, powerful hind legs, large feet adapted for leaping, a long muscular tail for balance, and a small head. Like most marsupials, female kangaroos have a pouch called a marsupium in which joeys complete postnatal development.\n",
      "\n",
      "The large kangaroos have adapted much better than the smaller macropods to land clearing for pastoral agriculture and habitat changes brought to the Australian landscape by humans. Many of the smaller species are rare and endangered, while kangaroos are relatively plentiful.\n",
      "\n",
      "The kangaroo is an unofficial symbol of Australia and appears as an emblem on the Australian coat of arms[4] and on some of its currency[5] and is used by some of Australia's well known organisations, including Qantas[6] and the Royal Australian Air Force.[7] The kangaroo is important to both Australian culture and the national image, and consequently there are numerous popular culture references.\n",
      "\n",
      "Wild kangaroos are shot for meat, leather hides, and to protect grazing land.[8] Although controversial, harvesting kangaroo meat has some environmental advantages to limit over-grazing and the meat has perceived health benefits for human consumption compared with traditional meats due to the low level of fat on kangaroos.\"\"\"\n",
      "    \n",
      "    def __init__(self,pouch_contents=[]):\n",
      "        self.pouch_contents=pouch_contents\n",
      "        \n",
      "    def put_in_pouch(self, thing):\n",
      "        if type(thing) is str :\n",
      "            pouch_contents.append(thing)\n",
      "        if type(thing) is list :\n",
      "            pouch_contents.extend(thing)\n",
      "        \n",
      "    def __str__(self):\n",
      "        return pouch_contents\n",
      "    "
     ],
     "language": "python",
     "metadata": {},
     "outputs": [],
     "prompt_number": 3
    },
    {
     "cell_type": "markdown",
     "metadata": {},
     "source": [
      "## Problem 4\n",
      "\n",
      "Write a `__cmp__` method for `Time` objects. "
     ]
    },
    {
     "cell_type": "code",
     "collapsed": false,
     "input": [
      "# Problem 4\n",
      "class Time(object):\n",
      "    \"\"\"Represents the time of day.\n",
      "    attributes: hour, minute, second\n",
      "    \"\"\"\n",
      "    \n",
      "    def __cmp__(self, other):\n",
      "        minutes1 = self.hour * 60 + self.minute\n",
      "        seconds1 = minutes1 * 60 + self.second\n",
      "        minutes2 = other.hour * 60 + other.minute\n",
      "        seconds2 = minutes2 * 60 + other.second        \n",
      "        if seconds1 < seconds2:  \n",
      "            return -1\n",
      "        elif minutes1 > minutes2:\n",
      "            return 1\n",
      "        else: return 0 "
     ],
     "language": "python",
     "metadata": {},
     "outputs": [],
     "prompt_number": 4
    },
    {
     "cell_type": "markdown",
     "metadata": {},
     "source": [
      "## Problem 5\n",
      "\n",
      "Write a `Deck` method named `sort` that uses the list method `sort` to sort the cards in a `Deck`. `sort` uses the `__cmp__` method we defined to determine sort order."
     ]
    },
    {
     "cell_type": "code",
     "collapsed": false,
     "input": [
      "# Problem 5"
     ],
     "language": "python",
     "metadata": {},
     "outputs": [],
     "prompt_number": 5
    },
    {
     "cell_type": "markdown",
     "metadata": {},
     "source": [
      "## Problem 6\n",
      "\n",
      "The following are the possible hands in poker, in increasing order of value (and decreasing order of probability):\n",
      "\n",
      "**pair:**\n",
      "two cards with the same rank\n",
      "\n",
      "**two pair:**\n",
      "two pairs of cards with the same rank\n",
      "\n",
      "**three of a kind:**\n",
      "three cards with the same rank\n",
      "\n",
      "**straight:**\n",
      "five cards with ranks in sequence (aces can be high or low, so Ace-2-3-4-5 is a straight and so is 10-Jack-Queen-King-Ace, but Queen-King-Ace-2-3 is not.)\n",
      "\n",
      "**flush:**\n",
      "five cards with the same suit\n",
      "\n",
      "**full house:**\n",
      "three cards with one rank, two cards with another\n",
      "\n",
      "**four of a kind:**\n",
      "four cards with the same rank\n",
      "\n",
      "**straight flush:**\n",
      "five cards in sequence (as defined above) and with the same suit\n",
      "\n",
      "**Modify** the following codes.\n",
      "\n",
      "Add methods to `PokerHand` class named `has_pair`, `has_twopair`, etc. that return `True` or `False` according to whether or not the hand meets the relevant criteria. Your code should work correctly for \u201chands\u201d that contain any number of cards (although 5 and 7 are the most common sizes)"
     ]
    },
    {
     "cell_type": "code",
     "collapsed": false,
     "input": [
      "import random\n",
      "\n",
      "\n",
      "class Card(object):\n",
      "    \"\"\"Represents a standard playing card.\n",
      "    \n",
      "    Attributes:\n",
      "      suit: integer 0-3\n",
      "      rank: integer 1-13\n",
      "    \"\"\"\n",
      "\n",
      "    suit_names = [\"Clubs\", \"Diamonds\", \"Hearts\", \"Spades\"]\n",
      "    rank_names = [None, \"Ace\", \"2\", \"3\", \"4\", \"5\", \"6\", \"7\", \n",
      "              \"8\", \"9\", \"10\", \"Jack\", \"Queen\", \"King\"]\n",
      "\n",
      "    def __init__(self, suit=0, rank=2):\n",
      "        self.suit = suit\n",
      "        self.rank = rank\n",
      "\n",
      "    def __str__(self):\n",
      "        \"\"\"Returns a human-readable string representation.\"\"\"\n",
      "        return '%s of %s' % (Card.rank_names[self.rank],\n",
      "                             Card.suit_names[self.suit])\n",
      "\n",
      "    def __cmp__(self, other):\n",
      "        \"\"\"Compares this card to other, first by suit, then rank.\n",
      "\n",
      "        Returns a positive number if this > other; negative if other > this;\n",
      "        and 0 if they are equivalent.\n",
      "        \"\"\"\n",
      "        t1 = self.suit, self.rank\n",
      "        t2 = other.suit, other.rank\n",
      "        return cmp(t1, t2)\n",
      "\n",
      "\n",
      "class Deck(object):\n",
      "    \"\"\"Represents a deck of cards.\n",
      "\n",
      "    Attributes:\n",
      "      cards: list of Card objects.\n",
      "    \"\"\"\n",
      "    \n",
      "    def __init__(self):\n",
      "        self.cards = []\n",
      "        for suit in range(4):\n",
      "            for rank in range(1, 14):\n",
      "                card = Card(suit, rank)\n",
      "                self.cards.append(card)\n",
      "\n",
      "    def __str__(self):\n",
      "        res = []\n",
      "        for card in self.cards:\n",
      "            res.append(str(card))\n",
      "        return '\\n'.join(res)\n",
      "\n",
      "    def add_card(self, card):\n",
      "        \"\"\"Adds a card to the deck.\"\"\"\n",
      "        self.cards.append(card)\n",
      "\n",
      "    def remove_card(self, card):\n",
      "        \"\"\"Removes a card from the deck.\"\"\"\n",
      "        self.cards.remove(card)\n",
      "\n",
      "    def pop_card(self, i=-1):\n",
      "        \"\"\"Removes and returns a card from the deck.\n",
      "\n",
      "        i: index of the card to pop; by default, pops the last card.\n",
      "        \"\"\"\n",
      "        return self.cards.pop(i)\n",
      "\n",
      "    def shuffle(self):\n",
      "        \"\"\"Shuffles the cards in this deck.\"\"\"\n",
      "        random.shuffle(self.cards)\n",
      "\n",
      "    def sort(self):\n",
      "        \"\"\"Sorts the cards in ascending order.\"\"\"\n",
      "        self.cards.sort()\n",
      "\n",
      "    def move_cards(self, hand, num):\n",
      "        \"\"\"Moves the given number of cards from the deck into the Hand.\n",
      "\n",
      "        hand: destination Hand object\n",
      "        num: integer number of cards to move\n",
      "        \"\"\"\n",
      "        for i in range(num):\n",
      "            hand.add_card(self.pop_card())\n",
      "\n",
      "\n",
      "class Hand(Deck):\n",
      "    \"\"\"Represents a hand of playing cards.\"\"\"\n",
      "    \n",
      "    def __init__(self, label=''):\n",
      "        self.cards = []\n",
      "        self.label = label\n",
      "        \n",
      "class PokerHand(Hand):\n",
      "\n",
      "    def suit_hist(self):\n",
      "        \"\"\"Builds a histogram of the suits that appear in the hand.\n",
      "\n",
      "        Stores the result in attribute suits.\n",
      "        \"\"\"\n",
      "        self.suits = {}\n",
      "        for card in self.cards:\n",
      "            self.suits[card.suit] = self.suits.get(card.suit, 0) + 1\n",
      "\n",
      "    def has_flush(self):\n",
      "        \"\"\"Returns True if the hand has a flush, False otherwise.\n",
      "      \n",
      "        Note that this works correctly for hands with more than 5 cards.\n",
      "        \"\"\"\n",
      "        self.suit_hist()\n",
      "        for val in self.suits.values():\n",
      "            if val >= 5:\n",
      "                return True\n",
      "        return False"
     ],
     "language": "python",
     "metadata": {},
     "outputs": [],
     "prompt_number": 6
    },
    {
     "cell_type": "code",
     "collapsed": false,
     "input": [
      "# Problem 6"
     ],
     "language": "python",
     "metadata": {},
     "outputs": [],
     "prompt_number": 7
    }
   ],
   "metadata": {}
  }
 ]
}