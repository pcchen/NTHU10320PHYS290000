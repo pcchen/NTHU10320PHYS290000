{
 "metadata": {
  "name": "",
  "signature": "sha256:f336c7c71766eac6052fb0b8231326230d850ffeeb5fd8de0138f8e4cd9861f9"
 },
 "nbformat": 3,
 "nbformat_minor": 0,
 "worksheets": [
  {
   "cells": [
    {
     "cell_type": "markdown",
     "metadata": {},
     "source": [
      "# Homework 6"
     ]
    },
    {
     "cell_type": "markdown",
     "metadata": {},
     "source": [
      "## Problem 1\n",
      "\n",
      "Use **ivisual** module to plot the projectile motion with following equations of motion:\n",
      "\n",
      "$$\n",
      "\\begin{eqnarray*}\n",
      "  m\\ddot{x} &=& 0, \\\\\n",
      "  m\\ddot{y} &=& -mg, \\\\\n",
      "  m\\ddot{z} &=& 0,\n",
      "\\end{eqnarray*}\n",
      "$$\n",
      "and initial conditions\n",
      "\n",
      "$$\n",
      "  \\vec{r}(0) = (0, 0, 0), \\\\\n",
      "  \\vec{v}(0) = (v_{x0}, v_{y0}, 0),\n",
      "$$\n",
      "You can assign $v_{x0}$ and $v_{y0}$ in the code or ask user to input it.\n",
      "\n",
      "You should\n",
      "* Use a box to represent the ground.\n",
      "* Use three arrows to represent the three axes.\n",
      "* Use a sphere to represent the ball of the projectile motion.\n",
      "* Leave a trail.\n",
      "* Stop the simulation when the ball hit the ground.\n",
      "\n",
      "You should use to ways to calculate the trajectory of the motion.\n",
      "1. Use exact solution: $x(t)=x(0)+v_x t$, etc.\n",
      "2. Use numerical solution:\n",
      " * $v(t+dt) = v(t) + a * dt$.\n",
      " * $x(t+dt) = x(t) + v(t) * dt$.\n",
      "\n",
      "You should use a small enough $dt$ to ensure the numerical solution is accurate enough.\n"
     ]
    },
    {
     "cell_type": "code",
     "collapsed": false,
     "input": [
      "# Problem 1\n",
      "from ivisual import *\n",
      "scene = canvas()\n",
      "\n",
      "scene.width = 800\n",
      "scene.height = 600\n",
      "\n",
      "scene.autoscale = 0\n",
      "scene.range = (10,10,10)\n",
      "scene.center = (0,0,0)\n",
      "\n",
      "g=-9.8\n",
      "\n",
      "\n",
      "\n",
      "wall = box(pos=(0,-1,0), size=(100,0.2,20), color=color.green)\n",
      "ball = sphere(pos=(0,0,0), radius=0.5, color=color.cyan)\n",
      "ball.velocity = vector(10,20,0) \n",
      "ball.trail = curve(color=ball.color)\n",
      "xaxis=arrow(pos=(10,0,0),axis=(10,0,0),shaftwidth=0.1,color=color.red)\n",
      "yaxis=arrow(pos=(10,0,0),axis=(0,10,0),shaftwidth=0.1,color=color.red)\n",
      "zaxis=arrow(pos=(10,0,0),axis=(0,0,10),shaftwidth=0.1,color=color.red) \n",
      "\n",
      "\n",
      "dt = 0.01\n",
      "t=0\n",
      "\n",
      "while t < 10:\n",
      "    rate(50)\n",
      "    ball.velocity=ball.velocity+(0,g*dt,0)\n",
      "    \n",
      "    ball.pos = ball.pos + ball.velocity*dt\n",
      "    ball.trail.append(pos=ball.pos)\n",
      "    if ball.pos.y<=-1:\n",
      "        break\n",
      "    \n",
      "    t = t + dt"
     ],
     "language": "python",
     "metadata": {},
     "outputs": [
      {
       "html": [
        "<div id=\"scene1\"><div id=\"glowscript\" class=\"glowscript\"></div></div>"
       ],
       "metadata": {},
       "output_type": "display_data",
       "text": [
        "<IPython.core.display.HTML at 0x394e278>"
       ]
      },
      {
       "javascript": [
        "window.__context = { glowscript_container: $(\"#glowscript\").removeAttr(\"id\")}"
       ],
       "metadata": {},
       "output_type": "display_data",
       "text": [
        "<IPython.core.display.Javascript at 0x248aba8>"
       ]
      }
     ],
     "prompt_number": 2
    },
    {
     "cell_type": "markdown",
     "metadata": {},
     "source": [
      "## Problem 2\n",
      "\n",
      "Now introduce the air resistence so the equations of motion become:\n",
      "\n",
      "$$\n",
      "\\begin{eqnarray*}\n",
      "  m\\ddot{x} &=& -km\\dot{x}, \\\\\n",
      "  m\\ddot{y} &=& -km\\dot{y}-mg, \\\\\n",
      "  m\\ddot{z} &=& 0,\n",
      "\\end{eqnarray*}\n",
      "$$\n",
      "and initial conditions\n",
      "\n",
      "$$\n",
      "  \\vec{r}(0) = (0, 0, 0), \\\\\n",
      "  \\vec{v}(0) = (v_{x0}, v_{y0}, 0),\n",
      "$$\n",
      "You can assign $v_{x0}$ and $v_{y0}$ in the code or ask user to input it.\n",
      "\n",
      "You should\n",
      "* Use a box to represent the ground.\n",
      "* Use three arrows to represent the three axes.\n",
      "* Use a sphere to represent the ball of the projectile motion.\n",
      "* Leave a trail.\n",
      "* Stop the simulation when the ball hit the ground.\n",
      "\n",
      "\n",
      "You should use to ways to calculate the trajectory of the motion.\n",
      "1. Use exact solution: (Check for example Marion's book).\n",
      "2. Use numerical solution:\n",
      " * $v(t+dt) = v(t) + a * dt$.\n",
      " * $x(t+dt) = x(t) + v(t) * dt$.\n",
      "\n",
      "You should use a small enough $dt$ to ensure the numerical solution is accurate enough.\n"
     ]
    },
    {
     "cell_type": "code",
     "collapsed": false,
     "input": [
      "# Problem 2\n",
      "from ivisual import *\n",
      "scene = canvas()\n",
      "\n",
      "scene.width = 800\n",
      "scene.height = 600\n",
      "\n",
      "scene.autoscale = 0\n",
      "scene.range = (10,10,10)\n",
      "scene.center = (0,0,0)\n",
      "\n",
      "g=-9.8\n",
      "kconst=-0.5\n",
      "\n",
      "\n",
      "wall = box(pos=(0,-1,0), size=(100,0.2,20), color=color.green)\n",
      "ball = sphere(pos=(0,0,0), radius=0.5, color=color.cyan)\n",
      "ball.velocity = vector(10,20,0) \n",
      "ball.trail = curve(color=ball.color)\n",
      "xaxis=arrow(pos=(10,0,0),axis=(10,0,0),shaftwidth=0.1,color=color.red)\n",
      "yaxis=arrow(pos=(10,0,0),axis=(0,10,0),shaftwidth=0.1,color=color.red)\n",
      "zaxis=arrow(pos=(10,0,0),axis=(0,0,10),shaftwidth=0.1,color=color.red) \n",
      "\n",
      "\n",
      "dt = 0.01\n",
      "t=0\n",
      "\n",
      "while t < 10:\n",
      "    rate(50)\n",
      "    ball.velocity=ball.velocity+(ball.velocity.x*kconst*dt,g*dt+ball.velocity.y*kconst*dt,ball.velocity.z*kconst*dt)\n",
      "    \n",
      "    ball.pos = ball.pos + ball.velocity*dt\n",
      "    ball.trail.append(pos=ball.pos)\n",
      "    if ball.pos.y<=-1:\n",
      "        break\n",
      "    \n",
      "    t = t + dt"
     ],
     "language": "python",
     "metadata": {},
     "outputs": [
      {
       "html": [
        "<div id=\"scene3\"><div id=\"glowscript\" class=\"glowscript\"></div></div>"
       ],
       "metadata": {},
       "output_type": "display_data",
       "text": [
        "<IPython.core.display.HTML at 0x3f84908>"
       ]
      },
      {
       "javascript": [
        "window.__context = { glowscript_container: $(\"#glowscript\").removeAttr(\"id\")}"
       ],
       "metadata": {},
       "output_type": "display_data",
       "text": [
        "<IPython.core.display.Javascript at 0x3f1bc88>"
       ]
      }
     ],
     "prompt_number": 4
    },
    {
     "cell_type": "markdown",
     "metadata": {},
     "source": [
      "## Problem 3\n",
      "\n",
      "Use **ivisual** module to plot the trajectory of a coupled spring-mass system that has two masses, three springs, two walls.\n",
      "\n",
      "Something like Wall-spring1-mass1-spring2-mass2-spring3-Wall.\n",
      "\n",
      "You should\n",
      "* Use a box to represent the ground.\n",
      "* Use two boxes to represent the walls.\n",
      "* Use two **cubic** boxes to represent the two masses.\n",
      "* Use helix to represent the two srpings.\n"
     ]
    },
    {
     "cell_type": "code",
     "collapsed": false,
     "input": [
      "# Problem 3\n",
      "from ivisual import *\n",
      "\n",
      "scene = canvas()\n",
      "scene.width=800\n",
      "scene.height=600\n",
      "\n",
      "scene.autoscale=0\n",
      "scene.range =(100,100,100)\n",
      "scene.center=(0,0,0)\n",
      "\n",
      "ground=box(pos=(0,0,0),size=(100,1,20),color=color.red)\n",
      "wall1=box(pos=(-50,0,0),size=(1,12,50),color=color.red)\n",
      "wall2=box(pos=(50,0,0),size=(1,12,50),color=color.red)\n",
      "mass1=box(pos=(-30,3,0),size=(6,6,6),color=color.red)\n",
      "mass2=box(pos=(30,3,0),size=(6,6,6),color=color.red)\n",
      "\n",
      "spring1 = helix(pos=(-50,3,0), axis=(20,0,0), radius=2, color=color.red)\n",
      "spring2 = helix(pos=(-30,3,0), axis=(60,0,0), radius=2, color=color.red)\n",
      "spring3 = helix(pos=(50,3,0), axis=(-20,0,0), radius=2, color=color.red)\n"
     ],
     "language": "python",
     "metadata": {},
     "outputs": [
      {
       "html": [
        "<div id=\"scene1\"><div id=\"glowscript\" class=\"glowscript\"></div></div>"
       ],
       "metadata": {},
       "output_type": "display_data",
       "text": [
        "<IPython.core.display.HTML at 0x396cfd0>"
       ]
      },
      {
       "javascript": [
        "window.__context = { glowscript_container: $(\"#glowscript\").removeAttr(\"id\")}"
       ],
       "metadata": {},
       "output_type": "display_data",
       "text": [
        "<IPython.core.display.Javascript at 0x3972048>"
       ]
      }
     ],
     "prompt_number": 2
    },
    {
     "cell_type": "markdown",
     "metadata": {},
     "source": [
      "# Problem 4\n",
      "\n",
      "Use **ivisual** module to plot the trajectories of 20 particles in a rectangle box.\n",
      "\n",
      "* The rectangle box has the dimension $L_x$, $L_y$, $L_z$.\n",
      "* Use boxes to represent the walls. Keep one wall **invisible**.\n",
      "* The 20 particles should have **random** initial velocity.\n",
      "* The 20 particles should leave a trail.\n",
      "* Make each particle has random RGB color."
     ]
    },
    {
     "cell_type": "code",
     "collapsed": false,
     "input": [
      "# Problem 4\n",
      "from ivisual import *\n",
      "from random import *\n",
      "\n",
      "scene = canvas()\n",
      "\n",
      "scene.width = 800\n",
      "scene.height = 600\n",
      "\n",
      "scene.autoscale = 0\n",
      "scene.range = (10,10,10)\n",
      "scene.center = (0,0,0)\n",
      "\n",
      "ball = sphere(pos=(-5,-5,0), radius=0.5, color=(random()*1.2,random()*1.2,random()*1.2))\n",
      "wallR = box(pos=(+6,0,0), size=(0.2,12,12), color=color.green)\n",
      "wallL = box(pos=(-6,0,0), size=(0.2,12,12), color=color.green)\n",
      "wallU = box(pos=(0,+6,0), size=(12,0.2,12), color=color.blue)\n",
      "wallD = box(pos=(0,-6,0), size=(12,0.2,12), color=color.blue)\n",
      "wallB = box(pos=(0,0,-6), size=(12,12,0.2), color=color.red)\n",
      "\n",
      "\n",
      "ball.velocity = vector(random()*10,random()*10,random()*10)\n",
      "\n",
      "ball.trail = curve(color=ball.color)\n",
      "\n",
      "deltat = 0.005\n",
      "t=0\n",
      "i=0\n",
      "while i<20:\n",
      "    ball\n",
      "\n",
      "    \n",
      "blist=[]\n",
      "for i in range(20):\n",
      "    ball = sphere(pos=(-5,-5,0), radius=0.5, color=color.cyan)\n",
      "    rvx=random()*100\n",
      "    rvy=random()*100\n",
      "    rvz=random()*100\n",
      "    ball.velocity = vector(rvx,rvy,rvz)\n",
      "    ball.trail = curve(color=ball.color)\n",
      "    blist.append(ball)    \n",
      "    \n",
      "\n",
      "\n",
      "while t < 10:\n",
      "    rate(50)\n",
      "    if ball.pos.x > wallR.pos.x:\n",
      "         ball.velocity.x = -ball.velocity.x\n",
      "    if ball.pos.x < wallL.pos.x:\n",
      "         ball.velocity.x = -ball.velocity.x\n",
      "    if ball.pos.y > wallU.pos.y:\n",
      "         ball.velocity.y = -ball.velocity.y\n",
      "    if ball.pos.y < wallD.pos.y:\n",
      "         ball.velocity.y = -ball.velocity.y\n",
      "    if ball.pos.z < wallB.pos.z:\n",
      "        ball.velocity.z = -ball.velocity.z\n",
      "    if ball.pos.z > +6:\n",
      "        ball.velocity.z = -ball.velocity.z\n",
      "    \n",
      "    ball.pos = ball.pos + ball.velocity*deltat\n",
      "    ball.trail.append(pos=ball.pos)\n",
      "    \n",
      "    t = t + deltat"
     ],
     "language": "python",
     "metadata": {},
     "outputs": [
      {
       "html": [
        "<div id=\"scene0\"><div id=\"glowscript\" class=\"glowscript\"></div></div>"
       ],
       "metadata": {},
       "output_type": "display_data",
       "text": [
        "<IPython.core.display.HTML at 0x3fda128>"
       ]
      },
      {
       "javascript": [
        "require.undef(\"nbextensions/glow.1.0.min\");"
       ],
       "metadata": {},
       "output_type": "display_data",
       "text": [
        "<IPython.core.display.Javascript at 0x244b438>"
       ]
      },
      {
       "javascript": [
        "require.undef(\"nbextensions/jquery-ui.custom.min\");"
       ],
       "metadata": {},
       "output_type": "display_data",
       "text": [
        "<IPython.core.display.Javascript at 0x244b470>"
       ]
      },
      {
       "javascript": [
        "require.undef(\"nbextensions/glow.1.1.min\");"
       ],
       "metadata": {},
       "output_type": "display_data",
       "text": [
        "<IPython.core.display.Javascript at 0x244b5c0>"
       ]
      },
      {
       "javascript": [
        "require.undef(\"nbextensions/glowcomm\");"
       ],
       "metadata": {},
       "output_type": "display_data",
       "text": [
        "<IPython.core.display.Javascript at 0x244b630>"
       ]
      },
      {
       "javascript": [
        "require([\"nbextensions/glowcomm\"], function(){console.log(\"glowcomm loaded\");})"
       ],
       "metadata": {},
       "output_type": "display_data",
       "text": [
        "<IPython.core.display.Javascript at 0x244b668>"
       ]
      }
     ]
    },
    {
     "cell_type": "code",
     "collapsed": false,
     "input": [
      "# Problem 4\n",
      "from ivisual import *\n",
      "from random import *\n",
      "\n",
      "scene = canvas()\n",
      "\n",
      "scene.width = 800\n",
      "scene.height = 600\n",
      "\n",
      "scene.autoscale = 0\n",
      "scene.range = (10,10,10)\n",
      "scene.center = (0,0,0)\n",
      "\n",
      "wallR = box(pos=(+6,0,0), size=(0.2,12,12), color=color.green)\n",
      "wallL = box(pos=(-6,0,0), size=(0.2,12,12), color=color.green)\n",
      "wallU = box(pos=(0,+6,0), size=(12,0.2,12), color=color.blue)\n",
      "wallD = box(pos=(0,-6,0), size=(12,0.2,12), color=color.blue)\n",
      "wallB = box(pos=(0,0,-6), size=(12,12,0.2), color=color.red)\n",
      "\n",
      "\n",
      "\n",
      "deltat = 0.005\n",
      "t=0\n",
      "i=0\n",
      "\n",
      "    \n",
      "ballsack=[]\n",
      "for i in range(20):\n",
      "    ball = sphere(pos=(random()*2.5+random()*-2.5,random()*2.5+random()*-2.5,random()*2.5+random()*-2.5), radius=0.5, color=(random()*1.2,random()*1.2,random()*1.2))\n",
      "    ball.velocity = vector(random()*100,random()*100,random()*100)\n",
      "    ball.trail = curve(color=ball.color)\n",
      "    ballsack.append(ball)    \n",
      "    \n",
      "\n",
      "while t < 100:\n",
      "    for ball in ballsack:\n",
      "        rate(1000)\n",
      "        if ball.pos.x > wallR.pos.x:\n",
      "            ball.velocity.x = -ball.velocity.x\n",
      "        if ball.pos.x < wallL.pos.x:\n",
      "            ball.velocity.x = -ball.velocity.x\n",
      "        if ball.pos.y > wallU.pos.y:\n",
      "            ball.velocity.y = -ball.velocity.y\n",
      "        if ball.pos.y < wallD.pos.y:\n",
      "            ball.velocity.y = -ball.velocity.y\n",
      "        if ball.pos.z < wallB.pos.z:\n",
      "            ball.velocity.z = -ball.velocity.z\n",
      "        if ball.pos.z > +6:\n",
      "            ball.velocity.z = -ball.velocity.z\n",
      "        ball.pos = ball.pos + ball.velocity*deltat\n",
      "        ball.trail.append(pos=ball.pos)\n",
      "    t = t + deltat"
     ],
     "language": "python",
     "metadata": {},
     "outputs": [
      {
       "html": [
        "<div id=\"scene0\"><div id=\"glowscript\" class=\"glowscript\"></div></div>"
       ],
       "metadata": {},
       "output_type": "display_data",
       "text": [
        "<IPython.core.display.HTML at 0x3f79ba8>"
       ]
      },
      {
       "javascript": [
        "require.undef(\"nbextensions/glow.1.0.min\");"
       ],
       "metadata": {},
       "output_type": "display_data",
       "text": [
        "<IPython.core.display.Javascript at 0x2422f28>"
       ]
      },
      {
       "javascript": [
        "require.undef(\"nbextensions/jquery-ui.custom.min\");"
       ],
       "metadata": {},
       "output_type": "display_data",
       "text": [
        "<IPython.core.display.Javascript at 0x2422f60>"
       ]
      },
      {
       "javascript": [
        "require.undef(\"nbextensions/glow.1.1.min\");"
       ],
       "metadata": {},
       "output_type": "display_data",
       "text": [
        "<IPython.core.display.Javascript at 0x2422f98>"
       ]
      },
      {
       "javascript": [
        "require.undef(\"nbextensions/glowcomm\");"
       ],
       "metadata": {},
       "output_type": "display_data",
       "text": [
        "<IPython.core.display.Javascript at 0x2453160>"
       ]
      },
      {
       "javascript": [
        "require([\"nbextensions/glowcomm\"], function(){console.log(\"glowcomm loaded\");})"
       ],
       "metadata": {},
       "output_type": "display_data",
       "text": [
        "<IPython.core.display.Javascript at 0x2453198>"
       ]
      }
     ]
    },
    {
     "cell_type": "code",
     "collapsed": false,
     "input": [],
     "language": "python",
     "metadata": {},
     "outputs": []
    },
    {
     "cell_type": "code",
     "collapsed": false,
     "input": [],
     "language": "python",
     "metadata": {},
     "outputs": []
    }
   ],
   "metadata": {}
  }
 ]
}