{
 "metadata": {
  "name": "",
  "signature": "sha256:5f6950a32b94b64c9b7a93cf125a1fc9f5399a70a83e42407d6bd0bee8afcba7"
 },
 "nbformat": 3,
 "nbformat_minor": 0,
 "worksheets": [
  {
   "cells": [
    {
     "cell_type": "markdown",
     "metadata": {},
     "source": [
      "# Problem 2:\n",
      "# Sorting a List\n",
      "\n",
      "In this problem you should\n",
      "* Implement the **selection sort** algorithm.\n",
      "* Implement the **insertion sort** algorithm.\n",
      "* Create a list of N-elements where each element is a random integer between 0, 1, 2, ..., N-1.\n",
      "* Use your implementation of the selection sort and insertion sort to sort the the random list above.\n",
      "* Use built-in function `sorted()` that builds a new sorted list to show that your implementation is correct.\n",
      "\n",
      "## Selection sort\n",
      "\n",
      "Following is the algorithm of the **selection sort**:\n",
      "\n",
      "* Divide the input list into two sub-lists:\n",
      " * Sorted sub-list (Start with an empty list).\n",
      " * Un-Sorted sub-list.\n",
      "* Find the smallest element in the unsorted list.\n",
      "* Swap with the leftmost unsorted element.\n",
      "* Move the sub-list boundaries.\n",
      "\n",
      "Following is an example of selection sort:\n",
      "<img src=\"SelectionSort.png\" width=\"800\">\n",
      "\n",
      "## Insertion sort\n",
      "\n",
      "Following is the algorithm of the **insertion sort**:\n",
      "\n",
      "* Divide the input list into two sub-lists:\n",
      " * Sorted sub-list (Start with the leftmost element).\n",
      " * Un-Sorted sub-list.\n",
      "* Insert the leftmost element of the unsorted sub-list into the proper position of the sorted sub-list.\n",
      "* Move the sub-list boundaries \n",
      "\n",
      "Following is an example of selection sort:\n",
      "<img src=\"InsertionSort.png\" width=\"800\">"
     ]
    },
    {
     "cell_type": "markdown",
     "metadata": {},
     "source": [
      "Please write your code based on the sketch below and use the test code below to show that your function works properly."
     ]
    },
    {
     "cell_type": "code",
     "collapsed": false,
     "input": [
      "from random import *\n",
      "import random\n",
      "# create a random list with N elements\n",
      "def random_list(N):\n",
      "    rl=[]\n",
      "    for i in range (0,N):\n",
      "         rl.append(random.randint(0,N-1))\n",
      "    return rl\n",
      "\n",
      "# selection sort\n",
      "def selection_sort(l):\n",
      "    length=len(l)\n",
      "    for i in range(length) :\n",
      "        p=i\n",
      "        small=l[i]\n",
      "        for j in range(i,length) :\n",
      "            if (l[j]<small) :\n",
      "                small=l[j]\n",
      "                p=j\n",
      "        if (i!=p):\n",
      "            tempi=l[i]\n",
      "            tempp=l[p]\n",
      "            l[i]=tempp\n",
      "            l[p]=tempi\n",
      "    return l\n",
      "# insertion sort\n",
      "def insertion_sort(l):\n",
      "    length=len(l)\n",
      "    for i in range(length) :\n",
      "        for j in range(0, i):\n",
      "            if(l[i]<l[j]):\n",
      "                l.insert(j,l[i])\n",
      "                del l[i+1]\n",
      "                break            \n",
      "    return l\n",
      "    "
     ],
     "language": "python",
     "metadata": {},
     "outputs": [],
     "prompt_number": 76
    },
    {
     "cell_type": "code",
     "collapsed": false,
     "input": [
      "# test the implementation of selection sort\n",
      "N = 10\n",
      "L = random_list(N)\n",
      "L_sorted = sorted(L)\n",
      "print selection_sort(L)\n",
      "print L_sorted\n",
      "\n",
      "for i in range(len(L)):\n",
      "    if L[i] != L_sorted[i]:\n",
      "        print 'oops!'    "
     ],
     "language": "python",
     "metadata": {},
     "outputs": [
      {
       "output_type": "stream",
       "stream": "stdout",
       "text": [
        "[0, 1, 1, 2, 3, 3, 6, 9, 9, 9]\n",
        "[0, 1, 1, 2, 3, 3, 6, 9, 9, 9]\n"
       ]
      }
     ],
     "prompt_number": 79
    },
    {
     "cell_type": "code",
     "collapsed": false,
     "input": [
      "# test the implementation of insertion sort\n",
      "N = 10\n",
      "L = random_list(N)\n",
      "L_sorted = sorted(L)\n",
      "print insertion_sort(L)\n",
      "print L_sorted\n",
      "\n",
      "for i in range(len(L)):\n",
      "    if L[i] != L_sorted[i]:\n",
      "        print 'oops!'    "
     ],
     "language": "python",
     "metadata": {},
     "outputs": [
      {
       "output_type": "stream",
       "stream": "stdout",
       "text": [
        "[0, 2, 4, 7, 7, 8, 8, 9, 9, 9]\n",
        "[0, 2, 4, 7, 7, 8, 8, 9, 9, 9]\n"
       ]
      }
     ],
     "prompt_number": 80
    }
   ],
   "metadata": {}
  }
 ]
}