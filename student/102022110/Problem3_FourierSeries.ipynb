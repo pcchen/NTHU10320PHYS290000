{
 "metadata": {
  "name": "",
  "signature": "sha256:9d55694f3eb99bd807716fdd5d0cc711cbc0667da1f7b0cdee9f7c9add55a669"
 },
 "nbformat": 3,
 "nbformat_minor": 0,
 "worksheets": [
  {
   "cells": [
    {
     "cell_type": "markdown",
     "metadata": {},
     "source": [
      "# Problem 3:\n",
      "# Fourier Series\n",
      "\n",
      "The $N$-th order Fourier series of a period function $f(x)$ of period $L$ is defined as\n",
      "\n",
      "$$\n",
      "  FS(N,x) \\equiv \\frac{a_0}{2} + \\sum_{r=1}^{N} \n",
      "  \\left[\n",
      "    a_r \\cos\\left(\\frac{2\\pi r x}{L}\\right) + b_r \\sin\\left(\\frac{2\\pi r x}{L}\\right)\n",
      "  \\right],\n",
      "$$\n",
      "where \n",
      "\n",
      "$$\n",
      "  a_r = \\frac{2}{L} \\int_{x_0}^{x_0+L} f(x) \\cos\\left(\\frac{2\\pi r x}{L} \\right) dx, \\; \\;\n",
      "  b_r = \\frac{2}{L} \\int_{x_0}^{x_0+L} f(x) \\sin\\left(\\frac{2\\pi r x}{L} \\right) dx.\n",
      "$$\n",
      "\n",
      "In this problem, you should \n",
      "* Implement the $N$-th order Fourier series of the square-wave function:\n",
      "$$\n",
      "  f(x) = \n",
      " \\begin{cases} \n",
      " -1 & -\\frac{T}{2} \\le t < 0 \\\\ \n",
      " +1 & 0 \\le t < \\frac{T}{2}.\n",
      " \\end{cases}\n",
      "$$\n",
      "* Plot $f(x), FS(10,x), FS(50,x), FS(100,x)$ with $x \\in [-0.2 T,+0.2 T]$ and $y \\in [-1.5, 1.5]$.\n",
      "* Use IPython Interact to let user adjust $N$ in the range of $N=1, \\cdots 100$ and plot $f(x)$ and $FS(N,x)$.\n",
      "\n",
      "Please write your code based on the sketch below"
     ]
    },
    {
     "cell_type": "markdown",
     "metadata": {},
     "source": [
      "## Part 1"
     ]
    },
    {
     "cell_type": "code",
     "collapsed": false,
     "input": [
      "%pylab inline"
     ],
     "language": "python",
     "metadata": {},
     "outputs": [
      {
       "output_type": "stream",
       "stream": "stdout",
       "text": [
        "Populating the interactive namespace from numpy and matplotlib\n"
       ]
      }
     ],
     "prompt_number": 4
    },
    {
     "cell_type": "code",
     "collapsed": false,
     "input": [
      "# create your functions\n",
      "import numpy as np\n",
      "import matplotlib.pyplot as plt\n",
      "import itertools\n",
      "\n",
      "def f(t):\n",
      "    if t > 1.0 or t < -1.0:\n",
      "        return 0\n",
      "    elif t < 0 and t>=-1:\n",
      "        return -1\n",
      "    elif t >= 0 and t<=1:\n",
      "        return 1\n",
      "\n",
      "a = 1.0\n",
      "b = -1.0\n",
      "N = 300\n",
      "time = np.linspace( a, b, N )\n",
      "y = (np.fromiter(itertools.imap(f, time), \n",
      "                  dtype=time.dtype, count=time.shape[0]))\n",
      "\n",
      "period = 2.\n",
      "def cn(n):\n",
      "    c = y*np.exp(-1j*2*n*np.pi*time/period)\n",
      "    return c.sum()/c.size\n",
      "def FS(x, N):\n",
      "    rng = np.arange(.5, N+.5)\n",
      "    FS = np.array([2*cn(i)*np.exp(1j*2*i*np.pi*x/period) for i in rng])\n",
      "    return FS.sum()\n",
      "\n",
      "    "
     ],
     "language": "python",
     "metadata": {},
     "outputs": [],
     "prompt_number": 62
    },
    {
     "cell_type": "markdown",
     "metadata": {},
     "source": [
      "## Part2"
     ]
    },
    {
     "cell_type": "code",
     "collapsed": false,
     "input": [
      "\n",
      "from IPython.html.widgets import interact\n"
     ],
     "language": "python",
     "metadata": {},
     "outputs": [],
     "prompt_number": 51
    },
    {
     "cell_type": "code",
     "collapsed": false,
     "input": [
      "# create your ipython interact"
     ],
     "language": "python",
     "metadata": {},
     "outputs": []
    },
    {
     "cell_type": "code",
     "collapsed": false,
     "input": [
      "import numpy as np\n",
      "import matplotlib.pyplot as plt\n",
      "import itertools\n",
      "\n",
      "\n",
      "    \n",
      "def f(t):\n",
      "    if t > 1.0 or t < -1.0:\n",
      "        return 0\n",
      "    elif t < 0 and t>=-1:\n",
      "        return -1\n",
      "    elif t >= 0 and t<=1:\n",
      "        return 1\n",
      "\n",
      "a = 1.0\n",
      "b = -1.0\n",
      "N = 200\n",
      "time = np.linspace( a, b, N )\n",
      "y = (np.fromiter(itertools.imap(f, time), \n",
      "                  dtype=time.dtype, count=time.shape[0]))\n",
      "\n",
      "period = 2.\n",
      "def cn(n):\n",
      "    c = y*np.exp(-1j*2*n*np.pi*time/period)\n",
      "    return c.sum()/c.size\n",
      "def FS(x, N):\n",
      "    rng = np.arange(.5, N+.5)\n",
      "    FS = np.array([2*cn(i)*np.exp(1j*2*i*np.pi*x/period) for i in rng])\n",
      "    return FS.sum()\n",
      "\n",
      "y2 = np.array([FS(t,10).real for t in time])\n",
      "y3 = np.array([FS(t,50).real for t in time])\n",
      "y4 = np.array([FS(t,100).real for t in time])\n",
      "\n",
      "fig = plt.figure()\n",
      "ax = fig.add_subplot(1,1,1)\n",
      "ax.plot(time, y)\n",
      "ax.plot(time, y2)\n",
      "ax.plot(time, y3)\n",
      "ax.plot(time, y4)\n",
      "plt.show()\n",
      "\n",
      "\n"
     ],
     "language": "python",
     "metadata": {},
     "outputs": [
      {
       "metadata": {},
       "output_type": "display_data",
       "png": "[encoded data removed]",
       "text": [
        "<matplotlib.figure.Figure at 0xb2b8ef0>"
       ]
      }
     ],
     "prompt_number": 74
    },
    {
     "cell_type": "code",
     "collapsed": false,
     "input": [],
     "language": "python",
     "metadata": {},
     "outputs": [],
     "prompt_number": 68
    },
    {
     "cell_type": "code",
     "collapsed": false,
     "input": [
      "def draw(a):\n",
      "\n",
      "    y5 = np.array([FS(t,a).real for t in time])\n",
      "    ax = fig.add_subplot(1,1,1)\n",
      "    ax.plot(time, y)\n",
      "    \n",
      "    \n",
      "    \n",
      "interact(draw, a=(1,100))\n"
     ],
     "language": "python",
     "metadata": {},
     "outputs": [
      {
       "metadata": {},
       "output_type": "pyout",
       "prompt_number": 77,
       "text": [
        "<function __main__.draw>"
       ]
      }
     ],
     "prompt_number": 77
    },
    {
     "cell_type": "code",
     "collapsed": false,
     "input": [],
     "language": "python",
     "metadata": {},
     "outputs": []
    }
   ],
   "metadata": {}
  }
 ]
}