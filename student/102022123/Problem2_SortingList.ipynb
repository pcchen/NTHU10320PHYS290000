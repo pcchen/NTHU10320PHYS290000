{
 "metadata": {
  "name": "",
  "signature": "sha256:99ed0c595217b689fe91c340ef983e9cb5a60128023405cf7dc2d9e69bf439df"
 },
 "nbformat": 3,
 "nbformat_minor": 0,
 "worksheets": [
  {
   "cells": [
    {
     "cell_type": "markdown",
     "metadata": {},
     "source": [
      "# Problem 2:\n",
      "# Sorting a List\n",
      "\n",
      "In this problem you should\n",
      "* Implement the **selection sort** algorithm.\n",
      "* Implement the **insertion sort** algorithm.\n",
      "* Create a list of N-elements where each element is a random integer between 0, 1, 2, ..., N-1.\n",
      "* Use your implementation of the selection sort and insertion sort to sort the the random list above.\n",
      "* Use built-in function `sorted()` that builds a new sorted list to show that your implementation is correct.\n",
      "\n",
      "## Selection sort\n",
      "\n",
      "Following is the algorithm of the **selection sort**:\n",
      "\n",
      "* Divide the input list into two sub-lists:\n",
      " * Sorted sub-list (Start with an empty list).\n",
      " * Un-Sorted sub-list.\n",
      "* Find the smallest element in the unsorted list.\n",
      "* Swap with the leftmost unsorted element.\n",
      "* Move the sub-list boundaries.\n",
      "\n",
      "Following is an example of selection sort:\n",
      "<img src=\"SelectionSort.png\" width=\"800\">\n",
      "\n",
      "## Insertion sort\n",
      "\n",
      "Following is the algorithm of the **insertion sort**:\n",
      "\n",
      "* Divide the input list into two sub-lists:\n",
      " * Sorted sub-list (Start with the leftmost element).\n",
      " * Un-Sorted sub-list.\n",
      "* Insert the leftmost element of the unsorted sub-list into the proper position of the sorted sub-list.\n",
      "* Move the sub-list boundaries \n",
      "\n",
      "Following is an example of selection sort:\n",
      "<img src=\"InsertionSort.png\" width=\"800\">"
     ]
    },
    {
     "cell_type": "markdown",
     "metadata": {},
     "source": [
      "Please write your code based on the sketch below and use the test code below to show that your function works properly."
     ]
    },
    {
     "cell_type": "code",
     "collapsed": false,
     "input": [
      "from random import *\n",
      "\n",
      "import random\n",
      "# create a random list with N elements\n",
      "def random_list(N):\n",
      "    a=random.sample(range(10000), N)\n",
      "    return a\n",
      "print random_list(10)\n",
      "\n",
      "# selection sort\n",
      "def selection_sort(alist):\n",
      "    for fillslot in range(len(alist)-1,0,-1):\n",
      "       positionOfMax=0\n",
      "       for location in range(1,fillslot+1):\n",
      "           if alist[location]>alist[positionOfMax]:\n",
      "               positionOfMax = location\n",
      "\n",
      "       temp = alist[fillslot]\n",
      "       alist[fillslot] = alist[positionOfMax]\n",
      "       alist[positionOfMax] = temp\n",
      "                \n",
      "alist = random_list(10)\n",
      "print alist\n",
      "selection_sort(alist)\n",
      "print alist\n",
      "# insertion sort\n",
      "def insertion_sort(alist):\n",
      "    for index in range(1,len(alist)):\n",
      "\n",
      "     currentvalue = alist[index]\n",
      "     position = index\n",
      "\n",
      "     while position>0 and alist[position-1]>currentvalue:\n",
      "         alist[position]=alist[position-1]\n",
      "         position = position-1\n",
      "\n",
      "     alist[position]=currentvalue\n",
      "\n",
      "alist = random_list(10)\n",
      "print alist\n",
      "insertion_sort(alist)\n",
      "print alist"
     ],
     "language": "python",
     "metadata": {},
     "outputs": [
      {
       "output_type": "stream",
       "stream": "stdout",
       "text": [
        "[8248, 9122, 5232, 5999, 7802, 4833, 9188, 6434, 1038, 8332]\n",
        "[1250, 408, 2627, 9792, 942, 331, 168, 8817, 7457, 6960]\n",
        "[168, 331, 408, 942, 1250, 2627, 6960, 7457, 8817, 9792]\n",
        "[4388, 5679, 5974, 2149, 8186, 2168, 3501, 8649, 5895, 1931]\n",
        "[1931, 2149, 2168, 3501, 4388, 5679, 5895, 5974, 8186, 8649]\n"
       ]
      }
     ],
     "prompt_number": 24
    },
    {
     "cell_type": "code",
     "collapsed": false,
     "input": [
      "# test the implementation of selection sort\n",
      "N = 10\n",
      "L = random_list(N)\n",
      "L_sorted = sorted(L)\n",
      "selection_sort(L)\n",
      "\n",
      "for i in range(len(L)):\n",
      "    if L[i] != L_sorted[i]:\n",
      "        print 'oops!'    \n",
      "print L"
     ],
     "language": "python",
     "metadata": {},
     "outputs": [
      {
       "output_type": "stream",
       "stream": "stdout",
       "text": [
        "[716, 1907, 3329, 3477, 4389, 6076, 6458, 7138, 9388, 9682]\n"
       ]
      }
     ],
     "prompt_number": 28
    },
    {
     "cell_type": "code",
     "collapsed": false,
     "input": [
      "# test the implementation of insertion sort\n",
      "N = 10\n",
      "L = random_list(N)\n",
      "L_sorted = sorted(L)\n",
      "insertion_sort(L)\n",
      "\n",
      "for i in range(len(L)):\n",
      "    if L[i] != L_sorted[i]:\n",
      "        print 'oops!'    \n",
      "print L"
     ],
     "language": "python",
     "metadata": {},
     "outputs": [
      {
       "output_type": "stream",
       "stream": "stdout",
       "text": [
        "[133, 5016, 5302, 6400, 8086, 8445, 8865, 9051, 9103, 9577]\n"
       ]
      }
     ],
     "prompt_number": 29
    },
    {
     "cell_type": "code",
     "collapsed": false,
     "input": [],
     "language": "python",
     "metadata": {},
     "outputs": []
    }
   ],
   "metadata": {}
  }
 ]
}