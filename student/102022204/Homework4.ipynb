{
 "metadata": {
  "name": "",
  "signature": "sha256:6b6e46c2e6b406637db881847018cd2079624cbc843b8050d60551b0583b48ff"
 },
 "nbformat": 3,
 "nbformat_minor": 0,
 "worksheets": [
  {
   "cells": [
    {
     "cell_type": "markdown",
     "metadata": {},
     "source": [
      "# Homework 4"
     ]
    },
    {
     "cell_type": "markdown",
     "metadata": {},
     "source": [
      "## Problem 1 \n",
      "\n",
      "1. Implement the `Point` class.\n",
      "2. Implement the `Rectangle` class.\n",
      "3. Write a function called `distance_between_points` that takes two Points as arguments and returns the distance between them.\n",
      "4. Write a function named `move_rectangle` that takes a Rectangle and two numbers named `dx` and `dy`. It should change the location of the rectangle by adding `dx` to the `x` coordinate of corner and adding `dy` to the `y` coordinate of corner.\n",
      "5. Write a function named `move_rectangle_new` that is similar to the `move_rectangle` but it creates and returns a new Rectangle instead of modifying the old one.\n",
      "6. Write some codes to demonstrate the usage of functions above."
     ]
    },
    {
     "cell_type": "code",
     "collapsed": false,
     "input": [
      "# Problem 1\n",
      "\n",
      "# 1\n",
      "class Point(object):\n",
      "    \"\"\"Represents a point in 2-D space.\"\"\"\n",
      "\n",
      "# 2\n",
      "class Rectangle(object):\n",
      "    \"\"\"Represents a rectangle. attributes: width, height, corner.\"\"\"\n",
      "# 3\n",
      "print \"#3\"\n",
      "coordinate1 = Point()\n",
      "coordinate2 = Point()\n",
      "\n",
      "coordinate1.x = 2.0\n",
      "coordinate1.y = 3.0\n",
      "coordinate2.x = 2.0\n",
      "coordinate2.y = 4.0\n",
      "import math\n",
      "#print '(%g, %g)--> (%g, %g)' % (coordinate1.x, coordinate1.y, coordinate2.x, coordinate2.y) Calvin\n",
      "print '(%g, %g)--> (%g, %g)' % (coordinate1.x, coordinate1.y, coordinate2.x, coordinate2.y) \n",
      "distance = math.sqrt((coordinate1.x - coordinate2.x)**2 + (coordinate1.y - coordinate2.y)**2)\n",
      "print distance #\u9019\u908a\u505a\u8f38\u51fa\n",
      "\n",
      "# 4\n",
      "print \"\\n#4\"\n",
      "def print_point(p):\n",
      "    print '(%g, %g)' % (p.x, p.y)\n",
      "\n",
      "rect = Rectangle()\n",
      "rect.width = 100.0\n",
      "rect.height = 200.0\n",
      "rect.corner = Point()\n",
      "rect.corner.x = 0.0\n",
      "rect.corner.y = 0.0\n",
      "\n",
      "def move_rectangle(rect, dx, dy):\n",
      "    rect.corner.x += dx\n",
      "    rect.corner.y += dy\n",
      "\n",
      "move_rectangle(rect, 3, 4)\n",
      "print_point(rect.corner)  #\u9019\u908a\u505a\u8f38\u51fa\n",
      "\n",
      "\n",
      "# 5\n",
      "print \"\\n#5\"\n",
      "rectn = Rectangle()\n",
      "rectn.width = 100.0\n",
      "rectn.height = 200.0\n",
      "rectn.corner = Point()\n",
      "\n",
      "def move_rectangle_new(rectn, dx, dy):\n",
      "    rectn.corner.x = rect.corner.x + dx\n",
      "    rectn.corner.y = rect.corner.y + dy\n",
      "    \n",
      "print_point(rect.corner) #\u9019\u908a\u505a\u8f38\u51fa\n",
      "move_rectangle_new(rectn, 3, 4)\n",
      "print_point(rectn.corner) #\u9019\u908a\u505a\u8f38\u51fa \n",
      "\n",
      "\n",
      "#6\n",
      "\n"
     ],
     "language": "python",
     "metadata": {},
     "outputs": [
      {
       "output_type": "stream",
       "stream": "stdout",
       "text": [
        "#3\n",
        "(2, 3)--> (2, 4)\n",
        "1.0\n",
        "\n",
        "#4\n",
        "(3, 4)\n",
        "\n",
        "#5\n",
        "(3, 4)\n",
        "(6, 8)\n",
        "\n",
        "#6\n"
       ]
      }
     ],
     "prompt_number": 61
    },
    {
     "cell_type": "markdown",
     "metadata": {},
     "source": [
      "## Problem 2\n",
      "\n",
      "1. Implement the `Time` class.\n",
      "2. Write a function called `print_time` that takes a Time object and prints it in the form `hour:minute:second`. \n",
      "  **Hint**: the format sequence '%.2d' prints an integer using at least two digits, including a leading zero if necessary.\n",
      "3. Write a boolean function called `is_after` that takes two Time objects, `t1` and `t2`, and returns `True` if `t1` follows `t2` chronologically and `False` otherwise. **Challenge**: don\u2019t use an `if` statement.\n",
      "4. Write a function called `increment_modifier` that adds a given number of seconds to a Time object. It should modify the original time object. It should not contain any loops.\n",
      "5. Write a function called `increment_pure` that adds a given number of seconds to a Time object. It should create and return a new Time object.\n",
      "6. Write a function called `mul_time` that takes a Time object and a number and returns a new Time object that contains the product of the original Time and the number.\n",
      "7. Use `mul_time` to write a function that takes a Time object that represents the finishing time in a race, and a number that represents the distance, and returns a Time object that represents the average pace (time per mile).\n",
      "8. Write some codes to demonstrate the usage of functions above."
     ]
    },
    {
     "cell_type": "code",
     "collapsed": false,
     "input": [
      "# Problem 2\n",
      "\n",
      "# 1\n",
      "class Time(object):\n",
      "    \"\"\"Represents the time of day. attributes: hour, minute, second\"\"\"\n",
      "\n",
      "# 2\n",
      "def print_time(t):\n",
      "    print '%.2d:%.2d:%.2d' % (t.hour,t.minute,t.second)\n",
      "\n",
      "t1 = Time()\n",
      "t2 = Time()\n",
      "def is_after(t1,t2):\n",
      "    t1.minute += t1.hour * 3600 + t1.minute * 60\n",
      "    t2.minute += t2.hour * 3600 + t2.minute + 60\n",
      "    return t1.second < t2.second\n",
      "        \n",
      "       \n",
      "# 3\n",
      "\n",
      "\n",
      "# 4\n",
      "\n",
      "\n",
      "# 5\n",
      "\n",
      "\n",
      "# 6\n",
      "\n",
      "\n",
      "# 7\n",
      "\n",
      "\n",
      "# 8\n",
      "\n"
     ],
     "language": "python",
     "metadata": {},
     "outputs": [
      {
       "output_type": "stream",
       "stream": "stdout",
       "text": [
        "True\n"
       ]
      }
     ],
     "prompt_number": 65
    },
    {
     "cell_type": "markdown",
     "metadata": {},
     "source": [
      "## Problem 3\n",
      "\n",
      "1. Write a class definition for a Date object that has attributes `day`, `month` and `year`.\n",
      "2. Write a function called `increment_date` that takes a Date object, `date` and an integer, `n`, and returns a new Date object that represents the day `n` days after date.\n",
      "3. **Challenge**: does your function deal with leap years correctly? See http://en.wikipedia.org/wiki/Leap_year."
     ]
    },
    {
     "cell_type": "code",
     "collapsed": false,
     "input": [
      "# Problem 3\n",
      "\n",
      "#1\n",
      "#2\n",
      "#3"
     ],
     "language": "python",
     "metadata": {},
     "outputs": [],
     "prompt_number": 3
    },
    {
     "cell_type": "markdown",
     "metadata": {},
     "source": [
      "## Problem 4\n",
      "\n",
      "The `datetime` module provides date and time objects that are similar to the Date and Time objects in this chapter, but they provide a rich set of methods and operators. Read the documentation at http://docs.python.org/2/library/datetime.html.\n",
      "\n",
      "1. Use the `datetime` module to write a program that gets the current date and prints the day of the week.\n",
      "2. Write a program that takes a birthday as input and prints the user\u2019s age and the number of days, hours, minutes and seconds until their next birthday.\n",
      "3. For two people born on different days, there is a day when one is twice as old as the other. That\u2019s their Double Day. Write a program that takes two birthdays and computes their Double Day.\n",
      "4. For a little more challenge, write the more general version that computes the day when one person is `n` times older than the other."
     ]
    },
    {
     "cell_type": "code",
     "collapsed": false,
     "input": [
      "# Problem 4\n",
      "\n",
      "#1\n",
      "#2\n",
      "#3\n",
      "#4"
     ],
     "language": "python",
     "metadata": {},
     "outputs": [],
     "prompt_number": 4
    },
    {
     "cell_type": "markdown",
     "metadata": {},
     "source": [
      "## Problem 5\n",
      "\n",
      "Implement the `Point` class and the `Rectangle` class, with following methods.\n",
      "\n",
      "1. Write an `init` method for the Point class that takes `x` and `y` as optional parameters and assigns them to the corresponding attributes.\n",
      "2. Write a `str` method for the Point class.\n",
      "3. Write an `add` method for Points that works with either a Point object or a tuple:\n",
      "  * If the second operand is a Point, the method should return a new Point whose `x` coordinate is the sum of the `x` coordinates of the operands, and likewise for the `y` coordinates.\n",
      "  * If the second operand is a tuple, the method should add the first element of the tuple to the `x` coordinate and the second element to the `y` coordinate, and return a new Point with the result.\n",
      "4. Write some codes to demonstrate the usage of methods above."
     ]
    },
    {
     "cell_type": "code",
     "collapsed": false,
     "input": [
      "# Problem 5\n",
      "\n",
      "#1\n",
      "#2\n",
      "#3\n",
      "#4"
     ],
     "language": "python",
     "metadata": {},
     "outputs": [],
     "prompt_number": 5
    }
   ],
   "metadata": {}
  }
 ]
}