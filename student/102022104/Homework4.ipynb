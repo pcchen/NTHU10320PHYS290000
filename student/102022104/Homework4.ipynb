{
 "metadata": {
  "name": "",
  "signature": "sha256:438ec8fdd6ac25ed7bdab1a91b6c3407994da1107d4344d43547a5a7bfdfff9d"
 },
 "nbformat": 3,
 "nbformat_minor": 0,
 "worksheets": [
  {
   "cells": [
    {
     "cell_type": "markdown",
     "metadata": {},
     "source": [
      "# Homework 4"
     ]
    },
    {
     "cell_type": "markdown",
     "metadata": {},
     "source": [
      "## Problem 1 \n",
      "\n",
      "1. Implement the `Point` class.\n",
      "2. Implement the `Rectangle` class.\n",
      "3. Write a function called `distance_between_points` that takes two Points as arguments and returns the distance between them.\n",
      "4. Write a function named `move_rectangle` that takes a Rectangle and two numbers named `dx` and `dy`. It should change the location of the rectangle by adding `dx` to the `x` coordinate of corner and adding `dy` to the `y` coordinate of corner.\n",
      "5. Write a function named `move_rectangle_new` that is similar to the `move_rectangle` but it creates and returns a new Rectangle instead of modifying the old one.\n",
      "6. Write some codes to demonstrate the usage of functions above."
     ]
    },
    {
     "cell_type": "code",
     "collapsed": false,
     "input": [
      "#problem1\n",
      "#1\n",
      "class Point(object):\n",
      "    \"\"\"Represents a point in 2-D space.\"\"\"\n",
      "#2\n",
      "class Rectangle(object):\n",
      "    \"\"\"Represents a rectangle. \n",
      "\n",
      "    attributes: width, height, corner.\n",
      "    \"\"\"\n",
      "#3\n",
      "a = Point()\n",
      "b = Point()\n",
      "def distance_between_points(a,b):\n",
      "    delta_x = a.x - b.x\n",
      "    delta_y = a.y - b.y\n",
      "    distance = (delta_x**2+delta_y**2)**(0.5)\n",
      "    return distance\n",
      "#4\n",
      "box = Rectangle()    \n",
      "box.corner = Point()\n",
      "def move_rectangle(dx , dy , rect):\n",
      "    rect.corner.x += dx\n",
      "    rect.corner.y += dy\n",
      "    return rect.corner.x,rect.corner.y\n",
      "#5\n",
      "box = Rectangle()    \n",
      "box.corner = Point()\n",
      "import copy\n",
      "def move_rectangle_new(dx , dy , rect):\n",
      "    new_rect = copy.deepcopy(rect)\n",
      "    return move_rectangle(dx , dy , new_rect)"
     ],
     "language": "python",
     "metadata": {},
     "outputs": [],
     "prompt_number": 1
    },
    {
     "cell_type": "code",
     "collapsed": false,
     "input": [
      "#6(3)\n",
      "a.x , a.y = float (raw_input('a.x = ')) , float (raw_input('a.y = '))\n",
      "b.x , b.y = float (raw_input('b.x = ')) , float (raw_input('b.y = '))\n",
      "print (a.x , a.y)\n",
      "print (b.x , b.y)\n",
      "print distance_between_points(a,b)"
     ],
     "language": "python",
     "metadata": {},
     "outputs": [
      {
       "name": "stdout",
       "output_type": "stream",
       "stream": "stdout",
       "text": [
        "a.x = 1\n"
       ]
      },
      {
       "name": "stdout",
       "output_type": "stream",
       "stream": "stdout",
       "text": [
        "a.y = 4\n"
       ]
      },
      {
       "name": "stdout",
       "output_type": "stream",
       "stream": "stdout",
       "text": [
        "b.x = 5\n"
       ]
      },
      {
       "name": "stdout",
       "output_type": "stream",
       "stream": "stdout",
       "text": [
        "b.y = 7\n"
       ]
      },
      {
       "output_type": "stream",
       "stream": "stdout",
       "text": [
        "(1.0, 4.0)\n",
        "(5.0, 7.0)\n",
        "5.0\n"
       ]
      }
     ],
     "prompt_number": 3
    },
    {
     "cell_type": "code",
     "collapsed": false,
     "input": [
      "#6(4)\n",
      "box.corner.x , box.corner.y = float (raw_input('corner.x = ')) , float (raw_input('corner.y = '))\n",
      "dx=3\n",
      "dy=3\n",
      "print move_rectangle(dx , dy , box)\n",
      "print box.corner.x# be changed\n",
      "print box.corner.y"
     ],
     "language": "python",
     "metadata": {},
     "outputs": [
      {
       "name": "stdout",
       "output_type": "stream",
       "stream": "stdout",
       "text": [
        "corner.x = 1\n"
       ]
      },
      {
       "name": "stdout",
       "output_type": "stream",
       "stream": "stdout",
       "text": [
        "corner.y = 3\n"
       ]
      },
      {
       "output_type": "stream",
       "stream": "stdout",
       "text": [
        "(4.0, 6.0)\n",
        "4.0\n",
        "6.0\n"
       ]
      }
     ],
     "prompt_number": 4
    },
    {
     "cell_type": "code",
     "collapsed": false,
     "input": [
      "#6(5)\n",
      "box.corner.x , box.corner.y = float (raw_input('corner.x = ')) , float (raw_input('corner.y = '))\n",
      "dx=3\n",
      "dy=3\n",
      "print move_rectangle_new(dx , dy , box)\n",
      "print box.corner.x#not be changed\n",
      "print box.corner.y"
     ],
     "language": "python",
     "metadata": {},
     "outputs": [
      {
       "name": "stdout",
       "output_type": "stream",
       "stream": "stdout",
       "text": [
        "corner.x = 1\n"
       ]
      },
      {
       "name": "stdout",
       "output_type": "stream",
       "stream": "stdout",
       "text": [
        "corner.y = 3\n"
       ]
      },
      {
       "output_type": "stream",
       "stream": "stdout",
       "text": [
        "(4.0, 6.0)\n",
        "1.0\n",
        "3.0\n"
       ]
      }
     ],
     "prompt_number": 6
    },
    {
     "cell_type": "markdown",
     "metadata": {},
     "source": [
      "## Problem 2\n",
      "\n",
      "1. Implement the `Time` class.\n",
      "2. Write a function called `print_time` that takes a Time object and prints it in the form `hour:minute:second`. \n",
      "  **Hint**: the format sequence '%.2d' prints an integer using at least two digits, including a leading zero if necessary.\n",
      "3. Write a boolean function called `is_after` that takes two Time objects, `t1` and `t2`, and returns `True` if `t1` follows `t2` chronologically and `False` otherwise. **Challenge**: don\u2019t use an `if` statement.\n",
      "4. Write a function called `increment_modifier` that adds a given number of seconds to a Time object. It should modify the original time object. It should not contain any loops.\n",
      "5. Write a function called `increment_pure` that adds a given number of seconds to a Time object. It should create and return a new Time object.\n",
      "6. Write a function called `mul_time` that takes a Time object and a number and returns a new Time object that contains the product of the original Time and the number.\n",
      "7. Use `mul_time` to write a function that takes a Time object that represents the finishing time in a race, and a number that represents the distance, and returns a Time object that represents the average pace (time per mile).\n",
      "8. Write some codes to demonstrate the usage of functions above."
     ]
    },
    {
     "cell_type": "code",
     "collapsed": false,
     "input": [
      "#Problem2\n",
      "#1\n",
      "class Time(object):\n",
      "    \"\"\"Represents the time of day.\n",
      "    attributes: hour, minute, second\n",
      "    \"\"\"\n",
      "#2\n",
      "time = Time()\n",
      "def print_time(time):\n",
      "    print '%.2d:%.2d:%.2d' % (time.hour, time.minute, time.second)\n",
      "#3\n",
      "t1 = Time()\n",
      "t2 = Time()\n",
      "def is_after(t1, t2):\n",
      "    return (t1.hour, t1.minute, t1.second) > (t2.hour, t2.minute, t2.second)\n",
      "#4\n",
      "def increment_modifier(time, seconds):\n",
      "    time.second += seconds\n",
      "    if time.second >= 60:\n",
      "        quot , rem = divmod(time.second , 60)\n",
      "        time.minute += quot\n",
      "        time.second = rem\n",
      "    if time.minute >= 60:\n",
      "        quot , rem = divmod(time.minute , 60)\n",
      "        time.hour += quot\n",
      "        time.minute = rem\n",
      "    return print_time(time)\n",
      "#5\n",
      "def increment_pure(time, seconds):\n",
      "    new_time = copy.deepcopy(time)\n",
      "    return increment_modifier(new_time, seconds)\n",
      "#6\n",
      "def time_to_int(time):\n",
      "    minutes = time.hour * 60 + time.minute\n",
      "    seconds = minutes * 60 + time.second\n",
      "    return seconds\n",
      "def int_to_time(seconds):\n",
      "    time = Time()\n",
      "    time.minute, time.second = divmod(seconds, 60)\n",
      "    time.hour, time.minute = divmod(time.minute, 60)\n",
      "    return print_time(time)\n",
      "\n",
      "def mul_time(time , factor):\n",
      "    new_time = copy.deepcopy(time)\n",
      "    second = time_to_int(new_time)*factor\n",
      "    return int_to_time(second)\n",
      "#7\n",
      "def speed(time , distance):\n",
      "    second = time_to_int(time)\n",
      "    sp = second/distance\n",
      "    return int_to_time(sp)"
     ],
     "language": "python",
     "metadata": {},
     "outputs": [],
     "prompt_number": 45
    },
    {
     "cell_type": "code",
     "collapsed": false,
     "input": [
      "#8(2)\n",
      "time.hour = 10\n",
      "time.minute = 10\n",
      "time.second = 10\n",
      "print_time(time)"
     ],
     "language": "python",
     "metadata": {},
     "outputs": [
      {
       "output_type": "stream",
       "stream": "stdout",
       "text": [
        "10:10:10\n"
       ]
      }
     ],
     "prompt_number": 8
    },
    {
     "cell_type": "code",
     "collapsed": false,
     "input": [
      "#8(3)\n",
      "t1.hour=10\n",
      "t1.minute=11\n",
      "t1.second=10\n",
      "t2.hour=10\n",
      "t2.minute=59\n",
      "t2.second=10\n",
      "print is_after(t1, t2)"
     ],
     "language": "python",
     "metadata": {},
     "outputs": [
      {
       "output_type": "stream",
       "stream": "stdout",
       "text": [
        "False\n"
       ]
      }
     ],
     "prompt_number": 9
    },
    {
     "cell_type": "code",
     "collapsed": false,
     "input": [
      "#8(4)\n",
      "time.hour = 10\n",
      "time.minute = 10\n",
      "time.second = 10\n",
      "increment_modifier(time, 70)\n",
      "print_time(time)#be changed"
     ],
     "language": "python",
     "metadata": {},
     "outputs": [
      {
       "output_type": "stream",
       "stream": "stdout",
       "text": [
        "10:11:20\n",
        "10:11:20\n"
       ]
      }
     ],
     "prompt_number": 10
    },
    {
     "cell_type": "code",
     "collapsed": false,
     "input": [
      "#8(5)\n",
      "time.hour = 1\n",
      "time.minute = 59\n",
      "time.second = 59\n",
      "seconds = 70\n",
      "increment_pure(time, seconds)\n",
      "print_time(time)#not be changed\n"
     ],
     "language": "python",
     "metadata": {},
     "outputs": [
      {
       "output_type": "stream",
       "stream": "stdout",
       "text": [
        "02:01:09\n",
        "01:59:59\n"
       ]
      }
     ],
     "prompt_number": 14
    },
    {
     "cell_type": "code",
     "collapsed": false,
     "input": [
      "#8(6)\n",
      "time.hour = 1\n",
      "time.minute = 10\n",
      "time.second = 10\n",
      "print time_to_int(time)\n",
      "int_to_time(time_to_int(time))\n",
      "mul_time(time , 2)\n"
     ],
     "language": "python",
     "metadata": {},
     "outputs": [
      {
       "output_type": "stream",
       "stream": "stdout",
       "text": [
        "4210\n",
        "01:10:10\n",
        "02:20:20\n"
       ]
      }
     ],
     "prompt_number": 46
    },
    {
     "cell_type": "code",
     "collapsed": false,
     "input": [
      "#8(7)\n",
      "time.hour = 1\n",
      "time.minute = 10\n",
      "time.second = 10\n",
      "print 'time per miles:',\n",
      "speed(time , 10)"
     ],
     "language": "python",
     "metadata": {},
     "outputs": [
      {
       "output_type": "stream",
       "stream": "stdout",
       "text": [
        "time per miles: 00:07:01\n"
       ]
      }
     ],
     "prompt_number": 52
    },
    {
     "cell_type": "markdown",
     "metadata": {},
     "source": [
      "## Problem 3\n",
      "\n",
      "1. Write a class definition for a Date object that has attributes `day`, `month` and `year`.\n",
      "2. Write a function called `increment_date` that takes a Date object, `date` and an integer, `n`, and returns a new Date object that represents the day `n` days after date.\n",
      "3. **Challenge**: does your function deal with leap years correctly? See http://en.wikipedia.org/wiki/Leap_year."
     ]
    },
    {
     "cell_type": "code",
     "collapsed": false,
     "input": [
      "# Problem 3\n",
      "\n",
      "#1\n",
      "class Date(object):\n",
      "    \"\"\" Represent the date\n",
      "    attributes: year, month, day.\n",
      "    \"\"\"\n",
      "#2,3\n",
      "d = Date()\n",
      "d1 = Date()\n",
      "def leapyear(year):\n",
      "    if year%4 == 0:\n",
      "        if year%100 == 0:\n",
      "            if year%400 == 0:\n",
      "                return True\n",
      "            return False\n",
      "        return True\n",
      "    return False\n",
      "\n",
      "def day_year(year):\n",
      "    if leapyear(year):\n",
      "        return 366\n",
      "    return 365\n",
      "\n",
      "def month_list(year):\n",
      "    if leapyear(year):\n",
      "        return [31,29,31,30,31,30,31,31,30,31,30,31]\n",
      "    return [31,28,31,30,31,30,31,31,30,31,30,31]\n",
      "\n",
      "def date_to_int(d):\n",
      "    year_to_day = 0\n",
      "    month_to_day = 0\n",
      "    for year in range(1,d.year):\n",
      "        year_to_day += day_year(year)\n",
      "\n",
      "    month_day = month_list(d.year)\n",
      "    for month in range(1,d.month):\n",
      "        month_to_day += month_day[month - 1] \n",
      "    return month_to_day + year_to_day + d.day - 1\n",
      "\n",
      "def print_date(d):\n",
      "    print \"\u897f\u5143{}\u5e74/{}\u6708/{}\u65e5\".format(d.year,d.month,d.day)    \n",
      "\n",
      "def int_to_date(day):\n",
      "    d1 = copy.deepcopy(d)\n",
      "    d1.year = 1\n",
      "    remain_day = 365\n",
      "    month_day = month_list(d1.year)\n",
      "    while day >= remain_day:\n",
      "        d1.year += 1\n",
      "        day -= remain_day\n",
      "        remain_day = day_year(d1.year)\n",
      "    \n",
      "    d1.month = 1\n",
      "    remain_day = 31    \n",
      "    while day >= remain_day:\n",
      "        d1.month += 1\n",
      "        day -= remain_day\n",
      "        remain_day = month_day[d1.month-1]\n",
      "    \n",
      "    d1.day = day+1\n",
      "    return print_date(d1)\n",
      "import copy\n",
      "def increment_date(d,n):\n",
      "    new_d = copy.deepcopy(d)\n",
      "    return int_to_date(date_to_int(new_d)+n)"
     ],
     "language": "python",
     "metadata": {},
     "outputs": [],
     "prompt_number": 36
    },
    {
     "cell_type": "code",
     "collapsed": false,
     "input": [
      "d.year = 2015 \n",
      "d.month = 5\n",
      "d.day= 13\n",
      "n=3\n",
      "print_date(d)\n",
      "increment_date(d,n)\n",
      "print_date(d)#not be changed\n"
     ],
     "language": "python",
     "metadata": {},
     "outputs": [
      {
       "output_type": "stream",
       "stream": "stdout",
       "text": [
        "\u897f\u51432015\u5e74/5\u6708/13\u65e5\n",
        "\u897f\u51432015\u5e74/5\u6708/16\u65e5\n",
        "\u897f\u51432015\u5e74/5\u6708/13\u65e5\n"
       ]
      }
     ],
     "prompt_number": 53
    },
    {
     "cell_type": "markdown",
     "metadata": {},
     "source": [
      "## Problem 4\n",
      "\n",
      "The `datetime` module provides date and time objects that are similar to the Date and Time objects in this chapter, but they provide a rich set of methods and operators. Read the documentation at http://docs.python.org/2/library/datetime.html.\n",
      "\n",
      "1. Use the `datetime` module to write a program that gets the current date and prints the day of the week.\n",
      "2. Write a program that takes a birthday as input and prints the user\u2019s age and the number of days, hours, minutes and seconds until their next birthday.\n",
      "3. For two people born on different days, there is a day when one is twice as old as the other. That\u2019s their Double Day. Write a program that takes two birthdays and computes their Double Day.\n",
      "4. For a little more challenge, write the more general version that computes the day when one person is `n` times older than the other."
     ]
    },
    {
     "cell_type": "code",
     "collapsed": false,
     "input": [
      "# Problem 4\n",
      "\n",
      "#1\n",
      "from datetime import datetime as dt\n",
      "i = dt.now()\n",
      "\n",
      "print i.strftime('%Y/%m/%d %H:%M:%S %A')"
     ],
     "language": "python",
     "metadata": {},
     "outputs": [
      {
       "output_type": "stream",
       "stream": "stdout",
       "text": [
        "2015/05/19 14:11:07 Tuesday\n"
       ]
      }
     ],
     "prompt_number": 17
    },
    {
     "cell_type": "code",
     "collapsed": false,
     "input": [
      "#2\n",
      "from datetime import datetime as dt\n",
      "\n",
      "def until():\n",
      "    birthday = raw_input('Enter your birthday (YYYY/MM/DD)')\n",
      "    current = dt.now()\n",
      "    birth = dt.strptime(birthday, '%Y/%m/%d')\n",
      "    if current > dt(current.year,birth.month,birth.day):\n",
      "        age = current.year - birth.year\n",
      "        day_to_birthday =dt(current.year+1,birth.month,birth.day) - current\n",
      "        days = day_to_birthday.days\n",
      "    else:\n",
      "        age = current.year - birth.year - 1\n",
      "        day_to_birthday =dt(current.year,birth.month,birth.day) - current\n",
      "        days = day_to_birthday.days    \n",
      "    \n",
      "    hours,minute_second = divmod (day_to_birthday.seconds,3600)\n",
      "    minutes,seconds = divmod (minute_second,60)\n",
      "    print 'You are %d years old'%(age)\n",
      "    print 'You have to wait %3d days, %2d hours, %2d minutes, %2d seconds '% (days,hours,minutes,seconds)\n",
      "    \n",
      "until()      "
     ],
     "language": "python",
     "metadata": {},
     "outputs": [
      {
       "name": "stdout",
       "output_type": "stream",
       "stream": "stdout",
       "text": [
        "Enter your birthday (YYYY/MM/DD)1995/07/18\n"
       ]
      },
      {
       "output_type": "stream",
       "stream": "stdout",
       "text": [
        "You are 19 years old\n",
        "You have to wait  59 days,  6 hours, 26 minutes, 56 seconds \n"
       ]
      }
     ],
     "prompt_number": 54
    },
    {
     "cell_type": "code",
     "collapsed": false,
     "input": [
      "#3\n",
      "\n",
      "from datetime import datetime as dt\n",
      "b1 = raw_input('Enter b1 birthday (YYYY/MM/DD)')\n",
      "b2 = raw_input('Enter b2 birthday (YYYY/MM/DD)')\n",
      "\n",
      "birth1 = dt.strptime(b1, '%Y/%m/%d')\n",
      "birth2 = dt.strptime(b2, '%Y/%m/%d')\n",
      "\n",
      "def double_day(birth1,birth2):\n",
      "    if birth1>birth2:\n",
      "        delta_days = birth1 - birth2 \n",
      "        double = birth1+delta_days\n",
      "        return '%4d/%2d/%2d'%(double.year,double.month,double.day)\n",
      "    if birth1<birth2:\n",
      "        delta_days = birth2 - birth1 \n",
      "        double = birth2+delta_days\n",
      "        return '%4d/%2d/%2d'%(double.year,double.month,double.day)\n",
      "    else:\n",
      "        print 'None'\n",
      "\n",
      "print birth1\n",
      "print birth2\n",
      "print double_day(birth1,birth2)\n"
     ],
     "language": "python",
     "metadata": {},
     "outputs": [
      {
       "name": "stdout",
       "output_type": "stream",
       "stream": "stdout",
       "text": [
        "Enter b1 birthday (YYYY/MM/DD)1995/01/01\n"
       ]
      },
      {
       "name": "stdout",
       "output_type": "stream",
       "stream": "stdout",
       "text": [
        "Enter b2 birthday (YYYY/MM/DD)1996/01/01\n"
       ]
      },
      {
       "output_type": "stream",
       "stream": "stdout",
       "text": [
        "1995-01-01 00:00:00\n",
        "1996-01-01 00:00:00\n",
        "1996/12/31\n"
       ]
      }
     ],
     "prompt_number": 42
    },
    {
     "cell_type": "code",
     "collapsed": false,
     "input": [
      "#4\n",
      "from datetime import datetime as dt\n",
      "b1 = raw_input('Enter b1 birthday (YYYY/MM/DD)')\n",
      "b2 = raw_input('Enter b2 birthday (YYYY/MM/DD)')\n",
      "n = int (raw_input('n times = '))\n",
      "birth1 = dt.strptime(b1, '%Y/%m/%d')\n",
      "birth2 = dt.strptime(b2, '%Y/%m/%d')\n",
      "def double_day(birth1,birth2,n):\n",
      "    if birth1>birth2:\n",
      "        delta_days = birth1 - birth2 \n",
      "        double = birth1+(delta_days/(n-1))\n",
      "        return '%4d/%2d/%2d'%(double.year,double.month,double.day)\n",
      "    if birth1<birth2:\n",
      "        delta_days = birth2 - birth1\n",
      "        double = birth2+(delta_days/(n-1))\n",
      "        return '%4d/%2d/%2d'%(double.year,double.month,double.day)\n",
      "    else:\n",
      "        print 'None'\n",
      "\n",
      "print birth1\n",
      "print birth2\n",
      "print double_day(birth1,birth2,n)\n",
      "#little problem , like the leap year will cause some problem"
     ],
     "language": "python",
     "metadata": {},
     "outputs": [
      {
       "name": "stdout",
       "output_type": "stream",
       "stream": "stdout",
       "text": [
        "Enter b1 birthday (YYYY/MM/DD)1995/01/01\n"
       ]
      },
      {
       "name": "stdout",
       "output_type": "stream",
       "stream": "stdout",
       "text": [
        "Enter b2 birthday (YYYY/MM/DD)1991/01/01\n"
       ]
      },
      {
       "name": "stdout",
       "output_type": "stream",
       "stream": "stdout",
       "text": [
        "n times = 3\n"
       ]
      },
      {
       "output_type": "stream",
       "stream": "stdout",
       "text": [
        "1995-01-01 00:00:00\n",
        "1991-01-01 00:00:00\n",
        "1996/12/31\n"
       ]
      }
     ],
     "prompt_number": 43
    },
    {
     "cell_type": "markdown",
     "metadata": {},
     "source": [
      "## Problem 5\n",
      "\n",
      "Implement the `Point` class and the `Rectangle` class, with following methods.\n",
      "\n",
      "1. Write an `init` method for the Point class that takes `x` and `y` as optional parameters and assigns them to the corresponding attributes.\n",
      "2. Write a `str` method for the Point class.\n",
      "3. Write an `add` method for Points that works with either a Point object or a tuple:\n",
      "  * If the second operand is a Point, the method should return a new Point whose `x` coordinate is the sum of the `x` coordinates of the operands, and likewise for the `y` coordinates.\n",
      "  * If the second operand is a tuple, the method should add the first element of the tuple to the `x` coordinate and the second element to the `y` coordinate, and return a new Point with the result.\n",
      "4. Write some codes to demonstrate the usage of methods above."
     ]
    },
    {
     "cell_type": "code",
     "collapsed": false,
     "input": [
      "# Problem 5\n",
      "\n",
      "#1\n",
      "\n",
      "class Point(object):\n",
      "    \"\"\"Represents a point in 2-D space.\"\"\"\n",
      "    \n",
      "    def __init__(self, x=0, y=0):\n",
      "        self.x = x\n",
      "        self.y = y\n",
      "    def print_point(point):\n",
      "        print '(%.d,%.d)' % (point.x,point.y) \n",
      "\n",
      "print 'demonstrate for problem 5.1'\n",
      "point = Point(1,1)\n",
      "point.print_point()\n",
      "\n",
      "#2\n",
      "\n",
      "class Point(object):\n",
      "    \"\"\"Represents a point in 2-D space.\"\"\"\n",
      "    def __init__(self, x=0, y=0):\n",
      "        self.x = x\n",
      "        self.y = y      \n",
      "\n",
      "    def __str__(self):\n",
      "        return '(%.d,%.d)' % (self.x, self.y)\n",
      "print 'demonstrate for problem 5.2'    \n",
      "point = Point(9,45)\n",
      "print point\n",
      "#3\n",
      "\n",
      "class Point(object):\n",
      "    \"\"\"Represents a point in 2-D space.\"\"\"\n",
      "    def __init__(self, x=0, y=0):\n",
      "        self.x = x\n",
      "        self.y = y\n",
      "        \n",
      "    \n",
      "    def __add__(self, other):\n",
      "        if isinstance(other, Point):\n",
      "            return self.add_point(other)\n",
      "        else:\n",
      "            return self.tuple_point(other)\n",
      "        \n",
      "    def add_point(self,other):\n",
      "        x = self.x + other.x\n",
      "        y = self.y + other.y\n",
      "        return '(%.d,%.d)' % (x, y)\n",
      "    \n",
      "    def tuple_point(self,other):\n",
      "        x = self.x + other[0]\n",
      "        y = self.y + other[1]\n",
      "        return '(%.d,%.d)' % (x, y)\n",
      "    def __radd__(self, other):\n",
      "        return self.__add__(other)\n",
      "print 'demonstrate for problem 5.3'\n",
      "point1 = Point(9,45)\n",
      "point2 = Point(9,45)\n",
      "point3 = (1,2)\n",
      "print point1+point2\n",
      "print point1+point3\n",
      "print point3+point1\n",
      "\n",
      "print 'all of demonstration are problem 5.4'"
     ],
     "language": "python",
     "metadata": {},
     "outputs": [
      {
       "output_type": "stream",
       "stream": "stdout",
       "text": [
        "demonstrate for problem 5.1\n",
        "(1,1)\n",
        "demonstrate for problem 5.2\n",
        "(9,45)\n",
        "demonstrate for problem 5.3\n",
        "(18,90)\n",
        "(10,47)\n",
        "(10,47)\n",
        "all of demonstration are problem 5.4\n"
       ]
      }
     ],
     "prompt_number": 56
    },
    {
     "cell_type": "code",
     "collapsed": false,
     "input": [],
     "language": "python",
     "metadata": {},
     "outputs": []
    }
   ],
   "metadata": {}
  }
 ]
}