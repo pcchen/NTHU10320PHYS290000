{
 "metadata": {
  "name": "",
  "signature": "sha256:09c5fceb9e6a0fb903bbbb053940ba53f5e7d5f9cebc1966ad58ced166be6633"
 },
 "nbformat": 3,
 "nbformat_minor": 0,
 "worksheets": [
  {
   "cells": [
    {
     "cell_type": "markdown",
     "metadata": {},
     "source": [
      "# Homework 3"
     ]
    },
    {
     "cell_type": "markdown",
     "metadata": {},
     "source": [
      "## Problem 1: Logistic map, chaos, bifurcation\n",
      "\n",
      "Consider the logic map\n",
      "\n",
      "$$\n",
      "  x_{n+1} = \\alpha x_n (1-x_n)\n",
      "$$\n",
      "\n",
      "Write a program to calculates and displays the behavior of the logistic map.\n",
      "\n",
      "* For a give value of $\\alpha$, start with $x=0.5$ and iterate the logistic map equation a thousand times. \n",
      "  * That will give it a chance to settle down to a fixed point or limit cycle if its going to.\n",
      "\n",
      "* Run for another thousand iterations and plot the points $(\\alpha,x)$ on a graph where the horizontal axis is $\\alpha$ and the vertical axis is $x$.\n",
      "\n",
      "* Repeat the whole calculation for values of $\\alpha$ from 1 to 4 in steps of 0.01, plotting the dots for all values of $\\alpha$ on the same figure.\n",
      "\n",
      "Reference: https://en.wikipedia.org/wiki/Logistic_map"
     ]
    },
    {
     "cell_type": "code",
     "collapsed": false,
     "input": [
      "import math\n",
      "import matplotlib.pyplot as plt\n",
      "\n",
      "def logistic(xa =2.9 , xb=4.0 , imgx = 240 , imgy = 500, \n",
      "    maxit = 200, f=lambda x,r: r * x * (1 - x) ):\n",
      " xs = []\n",
      " ys = []\n",
      " for i in range(imgx):\n",
      "  r = xa + (xb - xa) * float(i)/(imgx - 1)\n",
      "  x = 0.5\n",
      "  for j in range(maxit):   \n",
      "   x = f(x,r)   \n",
      "   if j > maxit / 2:\n",
      "    xs.append( i ) \n",
      "    ys.append(int(x * imgy))\n",
      " return [xs,ys]\n",
      " \n",
      " \n",
      "myfunction = lambda x,r: r * (math.sin(x)**2) \n",
      "points = logistic( xa = 2.1 ,xb = 3.1, imgy=200 , f=myfunction)\n",
      "ax = plt.subplot(121)\n",
      "ax.scatter(points[0], points[1], s= 1)\n",
      "\n",
      "points = logistic()\n",
      "bx = plt.subplot(122)\n",
      "bx.scatter(points[0], points[1], s= 1)\n",
      "plt.show()"
     ],
     "language": "python",
     "metadata": {},
     "outputs": [],
     "prompt_number": 2
    },
    {
     "cell_type": "markdown",
     "metadata": {},
     "source": [
      "## Problem 2: The Mandelbrot set\n",
      "\n",
      "\n",
      "\n",
      "Consider the equation\n",
      "$$\n",
      "  z^\\prime=z^2+c,\n",
      "$$\n",
      "where $z$ is a complex number and $c$ is a complex constant.\n",
      "\n",
      "For a given complex value of $c$, start with $z = 0$ and iterate repeatedly. \n",
      "If the magnitude $|z|$ of the resulting value is ever greater than $2$, \n",
      "then the point in the complex plane at position $c$ is not in the Mandelbrot set, \n",
      "otherwise it is in the set.\n",
      "\n",
      "In principle, one has to iterate infinitely many times to prove that a point is in the Mandelbrot set.\n",
      "In practice, however, one usually just performs some large number of iterations, \n",
      "say 100 or 1000, and if $|z|$ hasn't exceeded 2 by that point then we call that good enough.\n",
      "\n",
      "Write a program to make an image of the Mandelbrot set by performing the iteration for all values of $c = x + iy$ on an $N \\times N$ grid spanning the region where $-2 \\le x \\le 2$ and $-2 \\le y \\le 2$. Make a **density plot** in which grid points inside the Mandelbrot set are colored black and those outside are colored white. \n",
      "\n",
      "\n",
      "Hint: You will probably find it useful to start off with quite a coarse grid, i.e., with a small value of $N$\n",
      "(perhaps $N = 100$) so that your program runs quickly while you are testing it. \n",
      "Once you are sure it is working correctly, increase the value of $N$ to produce a final high-quality image of the shape of the set.\n",
      "\n",
      "Instead of coloring points just black or white, color points according to the number of iterations of the equation before $z$ becomes greater than $2$ (or the maximum number of iterations if $|z|$ never becomes greater than 2). Use color schemes such as the `hot` or `jet` schemes. \n",
      "\n",
      "Or to color according to the logarithm of the number of iterations.\n",
      "\n",
      "Reference: https://en.wikipedia.org/wiki/Mandelbrot_set"
     ]
    },
    {
     "cell_type": "code",
     "collapsed": false,
     "input": [
      "from PIL import Image\n",
      "\n",
      "from Tkinter import *\n",
      "\n",
      "def mandel(c):\n",
      "        z=0\n",
      "        for h in range(0,20):\n",
      "            z = z**2 + c\n",
      "            if abs(z) > 2:\n",
      "                break\n",
      "        if abs(z) >= 2:\n",
      "            return False\n",
      "        else:\n",
      "            return True\n",
      "\n",
      "root = Tk()\n",
      "w = Canvas(root, width=600,height=600)\n",
      "w.pack()\n",
      "\n",
      "for hx in range(0,600,75):\n",
      "    w.create_line(0,hx,600,hx,fill=\"blue\")\n",
      "\n",
      "for hy in range(0,600,75):\n",
      "    w.create_line(hy,0,hy,600,fill=\"blue\")\n",
      "\n",
      "print \"Initializing...\"\n",
      "\n",
      "for x in range(0,600):\n",
      "    real = x / 200.0 - 1.5\n",
      "    for y in range(0,600):\n",
      "        img = y / 200.0 - 1.5\n",
      "        c = complex(real, img)\n",
      "        if mandel(c):\n",
      "            w.create_line(x,600-y,x+1,601-y,fill=\"black\")\n",
      "            w.pack()\n",
      "\n",
      "print \"Complete!\"\n",
      "\n",
      "root.mainloop() "
     ],
     "language": "python",
     "metadata": {},
     "outputs": []
    },
    {
     "cell_type": "markdown",
     "metadata": {},
     "source": [
      "## Problem 3: Quadratic equations"
     ]
    },
    {
     "cell_type": "markdown",
     "metadata": {},
     "source": [
      "### Problem 3.1\n",
      "\n",
      "Write a program that takes as input three numbers, $a$, $b$, and $c$, and prints out the two solutions to the quadratic equation $ax^2 + bx + c = 0$ using the standard \ufffcformula\n",
      "\n",
      "$$\n",
      "  x = \\frac{-b\\pm\\sqrt{b^2-4ac}}{2a}.\n",
      "$$\n",
      "\n",
      "Use your program to compute the solutions of $0.001x^2 + 1000x + 0.001 = 0$."
     ]
    },
    {
     "cell_type": "code",
     "collapsed": false,
     "input": [
      "import math\n",
      "def solve(a,b,c):\n",
      "    x1=(-b+math.sqrt(b**2-4*a*c))/(2*a)\n",
      "    x2=(-b-math.sqrt(b**2-4*a*c))/(2*a)\n",
      "    print x1,x2\n",
      "    print (-b+math.sqrt(b**2-4*a*c)),(-b-math.sqrt(b**2-4*a*c))\n",
      "solve(0.001,1000,0.001)"
     ],
     "language": "python",
     "metadata": {},
     "outputs": [
      {
       "output_type": "stream",
       "stream": "stdout",
       "text": [
        "-9.99989424599e-07 -999999.999999\n",
        "-1.9999788492e-09 -2000.0\n"
       ]
      }
     ],
     "prompt_number": 4
    },
    {
     "cell_type": "markdown",
     "metadata": {},
     "source": [
      "### Problem 3.2\n",
      "\n",
      "There is another way to write the solutions to a quadratic equation. Multiplying top and bottom of the solution above by $-b\\mp\\sqrt{b^2-4ac}$, one can show that the solutions \ufffccan also be written as\n",
      "\n",
      "$$\n",
      "  x = \\frac{2c}{-b\\mp\\sqrt{b^2-4ac}}.\n",
      "$$\n",
      "\n",
      "Write a program that takes as input three numbers, a, b, and c, and prints out the two solutions to the quadratic equation $ax^2+bx+c=0$ using this formula. Use the program to solve $0.001x^2 + 1000x + 0.001 = 0$."
     ]
    },
    {
     "cell_type": "code",
     "collapsed": false,
     "input": [
      "import math\n",
      "def solve(a,b,c):\n",
      "    x1=(2*c)/(-b-math.sqrt(b**2-4*a*c))\n",
      "    x2=(2*c)/(-b+math.sqrt(b**2-4*a*c))\n",
      "    print x1,x2\n",
      "    print (-b-math.sqrt(b**2-4*a*c)),(-b+math.sqrt(b**2-4*a*c))\n",
      "solve(0.001,1000,0.001)"
     ],
     "language": "python",
     "metadata": {},
     "outputs": [
      {
       "output_type": "stream",
       "stream": "stdout",
       "text": [
        "-1e-06 -1000010.57551\n",
        "-2000.0 -1.9999788492e-09\n"
       ]
      }
     ],
     "prompt_number": 5
    },
    {
     "cell_type": "markdown",
     "metadata": {},
     "source": [
      "### Problem 3.3\n",
      "\n",
      "The correct solutions to the quadratic equation $0.001x^2 + 1000x + 0.001 = 0$ should be\n",
      "\n",
      "$$\n",
      "  x_1 = -1.00000000000100002081668371*10^{-6}, \\\\\n",
      "  x_2 = -9.99999999999000060986371202*10^{5}\n",
      "$$\n",
      "\n",
      "You should find out that one of the solutions is not very accurate for your code in problem 3.1 and 3.2. Using what you have learned, write a new program that calculates both roots of a quadratic equation accurately in all cases."
     ]
    },
    {
     "cell_type": "code",
     "collapsed": false,
     "input": [
      "import math\n",
      "def solve(a,b,c):\n",
      "    x1=(2*c)/(-b-math.sqrt(b**2-4*a*c))\n",
      "    x2=(-b-math.sqrt(b**2-4*a*c))/(2*a)\n",
      "    print x1,x2\n",
      "solve(0.001,1000,0.001)"
     ],
     "language": "python",
     "metadata": {},
     "outputs": [
      {
       "output_type": "stream",
       "stream": "stdout",
       "text": [
        "-1e-06 -999999.999999\n"
       ]
      }
     ],
     "prompt_number": 6
    },
    {
     "cell_type": "markdown",
     "metadata": {},
     "source": [
      "## Problem 4: Numerical derivatives\n",
      "\n",
      "The derivative of a functoin $f(x)$ is defined as\n",
      "\n",
      "$$\n",
      "  \\frac{df}{dx} = \\lim_{\\delta\\rightarrow 0} \\frac{f(x+\\delta)-f(x)}{\\delta}.\n",
      "$$\n",
      "\n",
      "On the computer we can\u2019t actually take the limit as $\\delta$ goes to zero, but we can get a reasonable approximation just by making $\\delta$ small."
     ]
    },
    {
     "cell_type": "markdown",
     "metadata": {},
     "source": [
      "### Problem 4.1\n",
      "\n",
      "Write a program that defines a function $f(x)$ returning the value $x(x \u2212 1)$, then calculates the derivative of the function at the point $x = 1$ using the formula above with $\\delta = 10^{\u22122}$. Calculate the true value of the same derivative analytically and compare with the answer your program gives."
     ]
    },
    {
     "cell_type": "code",
     "collapsed": false,
     "input": [
      "# Problem 4.1"
     ],
     "language": "python",
     "metadata": {},
     "outputs": [],
     "prompt_number": 5
    },
    {
     "cell_type": "markdown",
     "metadata": {},
     "source": [
      "### Problem 4.2\n",
      "\n",
      "Repeat the calculation for $\\delta = 10^{\u22124}$ , $10^{\u22126}$ , $10^{\u22128}$ , $10^{\u221210}$ , $10^{\u221212}$ , and $10^{\u221214}$. You should see that the accuracy of the calculation initially gets better as \u03b4 gets smaller, but then gets worse again. Why is this?"
     ]
    },
    {
     "cell_type": "code",
     "collapsed": false,
     "input": [
      "# Problem 4.2"
     ],
     "language": "python",
     "metadata": {},
     "outputs": [],
     "prompt_number": 6
    },
    {
     "cell_type": "markdown",
     "metadata": {},
     "source": [
      "### Problem 4.3\n",
      "\n",
      "Plot the error of your numerical derivative a function of $\\log(\\delta)$, with $\\delta \\in [10^{-2}, 10^{-14}]$."
     ]
    },
    {
     "cell_type": "code",
     "collapsed": false,
     "input": [
      "# Problem 4.3"
     ],
     "language": "python",
     "metadata": {},
     "outputs": [],
     "prompt_number": 7
    }
   ],
   "metadata": {}
  }
 ]
}