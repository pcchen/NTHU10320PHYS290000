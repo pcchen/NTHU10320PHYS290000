{
 "metadata": {
  "name": "",
  "signature": "sha256:e6fac952bf80ca31a7324f9bbbe8fcd265e85435e38b3216b09fa602641a3747"
 },
 "nbformat": 3,
 "nbformat_minor": 0,
 "worksheets": [
  {
   "cells": [
    {
     "cell_type": "markdown",
     "metadata": {},
     "source": [
      "# Problem 3:\n",
      "# Fourier Series\n",
      "\n",
      "The $N$-th order Fourier series of a period function $f(x)$ of period $L$ is defined as\n",
      "\n",
      "$$\n",
      "  FS(N,x) \\equiv \\frac{a_0}{2} + \\sum_{r=1}^{N} \n",
      "  \\left[\n",
      "    a_r \\cos\\left(\\frac{2\\pi r x}{L}\\right) + b_r \\sin\\left(\\frac{2\\pi r x}{L}\\right)\n",
      "  \\right],\n",
      "$$\n",
      "where \n",
      "\n",
      "$$\n",
      "  a_r = \\frac{2}{L} \\int_{x_0}^{x_0+L} f(x) \\cos\\left(\\frac{2\\pi r x}{L} \\right) dx, \\; \\;\n",
      "  b_r = \\frac{2}{L} \\int_{x_0}^{x_0+L} f(x) \\sin\\left(\\frac{2\\pi r x}{L} \\right) dx.\n",
      "$$\n",
      "\n",
      "In this problem, you should \n",
      "* Implement the $N$-th order Fourier series of the square-wave function:\n",
      "$$\n",
      "  f(x) = \n",
      " \\begin{cases} \n",
      " -1 & -\\frac{T}{2} \\le t < 0 \\\\ \n",
      " +1 & 0 \\le t < \\frac{T}{2}.\n",
      " \\end{cases}\n",
      "$$\n",
      "* Plot $f(x), FS(10,x), FS(50,x), FS(100,x)$ with $x \\in [-0.2 T,+0.2 T]$ and $y \\in [-1.5, 1.5]$.\n",
      "* Use IPython Interact to let user adjust $N$ in the range of $N=1, \\cdots 100$ and plot $f(x)$ and $FS(N,x)$.\n",
      "\n",
      "Please write your code based on the sketch below"
     ]
    },
    {
     "cell_type": "markdown",
     "metadata": {},
     "source": [
      "## Part 1"
     ]
    },
    {
     "cell_type": "code",
     "collapsed": false,
     "input": [
      "%pylab inline"
     ],
     "language": "python",
     "metadata": {},
     "outputs": []
    },
    {
     "cell_type": "code",
     "collapsed": false,
     "input": [
      "# create your functions\n",
      "def f(t):\n",
      "   c = y*np.exp(-1j*2*t*np.pi*time/period)\n",
      "   return c.sum()/c.size\n",
      "\n",
      "def f(N, t):\n",
      "   f = np.array([2*cn(i)*np.exp(1j*2*i*np.pi*N/period) for i in range(1,t+1)])\n",
      "   return f.sum()\n",
      "\n",
      "y2 = np.array([f(t,50).real for t in time])\n",
      "\n",
      "plot(time, y)\n",
      "plot(time, y2)"
     ],
     "language": "python",
     "metadata": {},
     "outputs": [],
     "prompt_number": 1
    },
    {
     "cell_type": "markdown",
     "metadata": {},
     "source": [
      "## Part2"
     ]
    },
    {
     "cell_type": "code",
     "collapsed": false,
     "input": [
      "from IPython.html.widgets import interact"
     ],
     "language": "python",
     "metadata": {},
     "outputs": []
    },
    {
     "cell_type": "code",
     "collapsed": false,
     "input": [
      "# create your ipython interact\n"
     ],
     "language": "python",
     "metadata": {},
     "outputs": []
    }
   ],
   "metadata": {}
  }
 ]
}