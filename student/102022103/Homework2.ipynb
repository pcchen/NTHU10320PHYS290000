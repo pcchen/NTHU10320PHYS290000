{
 "metadata": {
  "name": "",
  "signature": "sha256:22b4c3a1cf14cfdc8a524b9fdaae1aaa85415b445df29ec4478920da0ad8bc7d"
 },
 "nbformat": 3,
 "nbformat_minor": 0,
 "worksheets": [
  {
   "cells": [
    {
     "cell_type": "markdown",
     "metadata": {},
     "source": [
      "# Homework 2"
     ]
    },
    {
     "cell_type": "markdown",
     "metadata": {},
     "source": [
      "## Problem 1\n",
      "\n",
      "The Catalan numbers $C_n$ are a sequence of integers 1, 1, 2, 5, 14, 42, 132. . . that play an important role in quantum mechanics and the theory of disordered systems.\n",
      "They are given by\n",
      "\n",
      "$$\n",
      "  \\Large\n",
      "  C_0 = 1, \\;\n",
      "  C_{n+1} = \\frac{4n+2}{n+2} C_n.\n",
      "$$\n",
      "\n",
      "Write a program that prints in increasing order all Catalan numbers less than or equal to one billion."
     ]
    },
    {
     "cell_type": "code",
     "collapsed": false,
     "input": [
      "def Catalan(n):\n",
      "    i=0\n",
      "    c=1.\n",
      "    print 'C0=1.0'\n",
      "    while(i<=n):\n",
      "        d=(4.0*i+2.0)/(i+2.0)*c\n",
      "        c=d\n",
      "        print c\n",
      "        i=i+1\n",
      "Catalan(15)"
     ],
     "language": "python",
     "metadata": {},
     "outputs": [
      {
       "output_type": "stream",
       "stream": "stdout",
       "text": [
        "C0=1.0\n",
        "1.0\n",
        "2.0\n",
        "5.0\n",
        "14.0\n",
        "42.0\n",
        "132.0\n",
        "429.0\n",
        "1430.0\n",
        "4862.0\n",
        "16796.0\n",
        "58786.0\n",
        "208012.0\n",
        "742900.0\n",
        "2674440.0\n",
        "9694845.0\n",
        "35357670.0\n"
       ]
      }
     ],
     "prompt_number": 35
    },
    {
     "cell_type": "markdown",
     "metadata": {},
     "source": [
      "## Problem 2\n",
      "\n",
      "The Madelung constant gives the total electric potential felt by an atom in a solid. Consider for instance solid sodium chloride. The crystal has atoms arranged on a cubic lattice, but with alternating sodium and chlorine atoms, the sodium ones having a $+e$ charge and the chlorine has a $\u2212e$ charge. If we label each position on the lattice by three integers $(i,j,k)$, the sodium atoms fall at positions where $i +j +k$ is even, and the chlorine atoms at positions where $i +j +k$ is odd.\n",
      "\n",
      "Consider a sodium atom at the origin, $i = j = k = 0$. Assume the lattice constant is a and a cubic box around the sodium at the origin, with $L$ atoms in all directions. The potential at the origin created by atoms at $(i,j,k)$ is\n",
      "\n",
      "$$\n",
      "  \\Large\n",
      "  V(i,j,k) = \\pm V_0 \\frac{1}{\\sqrt{i^2+j^2+k^2}}, \\;\n",
      "  V_0 = \\frac{e}{4\\pi \\epsilon_0 a},\n",
      "$$\n",
      "where the sign depends on whether $i + j + k$ is even or odd.\n",
      "\n",
      "Then \n",
      "\n",
      "$$\n",
      "  \\Large\n",
      "  V_{tot} = {\\sum_{i,\\; j,\\; k =-L,\\; \\; (i,j,k)\\neq (0,0,0) }^{L}} V(i,j,k) = V_0 M_L\n",
      "$$\n",
      "\n",
      "where $M_L$ is the approximated Madelung constant. The exact Madelung constant can be obtained by $M =\\lim_{L \\rightarrow \\infty } M_L$.\n",
      "\n",
      "Write a program to calculate and print $M_L$ for a given $L$. Use as large a value of $L$ as you can while still having your program run in reasonable time, to estimate the value of $M$. You can print a table of $L$, $M_L$ up to some $L_{max}$.\n",
      "\n",
      "Hint: the correct answer is about \u22121.748."
     ]
    },
    {
     "cell_type": "code",
     "collapsed": false,
     "input": [
      "import math\n",
      "sum=0\n",
      "for i in range(-100,100):\n",
      "    for j in range(-100,100):\n",
      "        for k in range(-100,100):\n",
      "            if i==0 and j==0 and k==0:\n",
      "                a=1\n",
      "            else:\n",
      "                a=math.sqrt(i**2+j**2+k**2)\n",
      "            if (i+j+k)%2==0:\n",
      "                a=a\n",
      "            else: \n",
      "                a=-a\n",
      "            sum=sum+1/a\n",
      "answer =sum-1\n",
      "print answer\n",
      "\n"
     ],
     "language": "python",
     "metadata": {},
     "outputs": [
      {
       "output_type": "stream",
       "stream": "stdout",
       "text": [
        "-1.74756459503\n"
       ]
      }
     ],
     "prompt_number": 39
    },
    {
     "cell_type": "markdown",
     "metadata": {},
     "source": [
      "## Problem 3\n",
      "\n",
      "Write a program to find all the primes up to 10,000  by using following rules.\n",
      "\n",
      "* A number $n$ is a prime if it has no prime factors less than $n$. Hence we only need to check if it is divisible by other primes.\n",
      "\n",
      "* To determine if a number is prime we have to check its prime factors only up to and including $\\sqrt{n}$. If there are none prime-factor then the number is prime.\n",
      "\n",
      "* \ufffc\ufffcIf we find even a single prime factor less than that the number is non-prime.\n",
      "\n",
      "Hint: Create a list to store the primes, which starts out with just one prime number 2 it it. For each number from 3 to 10000 check whether the number is divisible by any of the primes in the list up to and including $\\sqrt{n}$. If you find no prime factors then n is prime and you should add it to the list."
     ]
    },
    {
     "cell_type": "code",
     "collapsed": false,
     "input": [],
     "language": "python",
     "metadata": {},
     "outputs": [],
     "prompt_number": 3
    },
    {
     "cell_type": "markdown",
     "metadata": {},
     "source": [
      "## Problem 4\n",
      "\n",
      "Write a function called `nested_sum` that takes a nested list of integers and add up the elements from all of the nested lists. "
     ]
    },
    {
     "cell_type": "code",
     "collapsed": false,
     "input": [
      "# Problem 4\n",
      "# Hint, you can use `isinstance` to check if a variable is a list or not\n",
      "t = [1, 2, [1, 1, 1]]\n",
      "for x in t:\n",
      "    if isinstance(x, list):\n",
      "        print x, 'is a list'\n",
      "    else:\n",
      "        print x, 'is not a list'"
     ],
     "language": "python",
     "metadata": {},
     "outputs": [
      {
       "output_type": "stream",
       "stream": "stdout",
       "text": [
        "1 is not a list\n",
        "2 is not a list\n",
        "[1, 1, 1] is a list\n"
       ]
      }
     ],
     "prompt_number": 41
    },
    {
     "cell_type": "markdown",
     "metadata": {},
     "source": [
      "## Problem 5\n",
      "\n",
      "Write a function that takes a list of numbers and returns the cumulative sum; that is, a **new** list where the ith element is the sum of the first i+1 elements from the original list. For example, the cumulative sum of [1, 2, 3] is [1, 3, 6]."
     ]
    },
    {
     "cell_type": "code",
     "collapsed": false,
     "input": [
      "# Problem 5"
     ],
     "language": "python",
     "metadata": {},
     "outputs": [],
     "prompt_number": 5
    },
    {
     "cell_type": "markdown",
     "metadata": {},
     "source": [
      "## Problem 6\n",
      "\n",
      "Write a function called `middle` that takes a list and returns a **new** list that contains all but the first and last elements. So `middle([1,2,3,4])` should return `[2,3]`."
     ]
    },
    {
     "cell_type": "code",
     "collapsed": false,
     "input": [
      "# Problem 6"
     ],
     "language": "python",
     "metadata": {},
     "outputs": [],
     "prompt_number": 6
    },
    {
     "cell_type": "markdown",
     "metadata": {},
     "source": [
      "## Problem 7\n",
      "\n",
      "Write a function called `chop` that takes a list, modifies it by removing the first and last elements, and returns `None`."
     ]
    },
    {
     "cell_type": "code",
     "collapsed": false,
     "input": [
      "# Problem 7"
     ],
     "language": "python",
     "metadata": {},
     "outputs": [],
     "prompt_number": 7
    },
    {
     "cell_type": "markdown",
     "metadata": {},
     "source": [
      "## Problem 8\n",
      "\n",
      "Write a program that reads the words from the `words.txt` and then find all the words with three consecutive double letters. That is, all the words which contain a sub-string of the form `'xxyyzz'` where `x`,`y`,`z` are arbitrary letters. "
     ]
    },
    {
     "cell_type": "code",
     "collapsed": false,
     "input": [
      "# problem 8"
     ],
     "language": "python",
     "metadata": {},
     "outputs": [],
     "prompt_number": 8
    }
   ],
   "metadata": {}
  }
 ]
}