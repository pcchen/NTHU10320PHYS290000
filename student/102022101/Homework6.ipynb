{
 "metadata": {
  "name": "",
  "signature": "sha256:3ebee93510340b68b12a3d0e5433cccd19ef4dc44e2ca0bd53fdf36be3b7a8b8"
 },
 "nbformat": 3,
 "nbformat_minor": 0,
 "worksheets": [
  {
   "cells": [
    {
     "cell_type": "markdown",
     "metadata": {},
     "source": [
      "# Homework 6"
     ]
    },
    {
     "cell_type": "markdown",
     "metadata": {},
     "source": [
      "## Problem 1\n",
      "\n",
      "Use **ivisual** module to plot the projectile motion with following equations of motion:\n",
      "\n",
      "$$\n",
      "\\begin{eqnarray*}\n",
      "  m\\ddot{x} &=& 0, \\\\\n",
      "  m\\ddot{y} &=& -mg, \\\\\n",
      "  m\\ddot{z} &=& 0,\n",
      "\\end{eqnarray*}\n",
      "$$\n",
      "and initial conditions\n",
      "\n",
      "$$\n",
      "  \\vec{r}(0) = (0, 0, 0), \\\\\n",
      "  \\vec{v}(0) = (v_{x0}, v_{y0}, 0),\n",
      "$$\n",
      "You can assign $v_{x0}$ and $v_{y0}$ in the code or ask user to input it.\n",
      "\n",
      "You should\n",
      "* Use a box to represent the ground.\n",
      "* Use three arrows to represent the three axes.\n",
      "* Use a sphere to represent the ball of the projectile motion.\n",
      "* Leave a trail.\n",
      "* Stop the simulation when the ball hit the ground.\n",
      "\n",
      "You should use to ways to calculate the trajectory of the motion.\n",
      "1. Use exact solution: $x(t)=x(0)+v_x t$, etc.\n",
      "2. Use numerical solution:\n",
      " * $v(t+dt) = v(t) + a * dt$.\n",
      " * $x(t+dt) = x(t) + v(t) * dt$.\n",
      "\n",
      "You should use a small enough $dt$ to ensure the numerical solution is accurate enough.\n"
     ]
    },
    {
     "cell_type": "code",
     "collapsed": false,
     "input": [
      "from ivisual import *"
     ],
     "language": "python",
     "metadata": {},
     "outputs": [
      {
       "html": [
        "<div id=\"scene0\"><div id=\"glowscript\" class=\"glowscript\"></div></div>"
       ],
       "metadata": {},
       "output_type": "display_data",
       "text": [
        "<IPython.core.display.HTML at 0x25ff4a8>"
       ]
      },
      {
       "javascript": [
        "require.undef(\"nbextensions/glow.1.0.min\");"
       ],
       "metadata": {},
       "output_type": "display_data",
       "text": [
        "<IPython.core.display.Javascript at 0x2614828>"
       ]
      },
      {
       "javascript": [
        "require.undef(\"nbextensions/jquery-ui.custom.min\");"
       ],
       "metadata": {},
       "output_type": "display_data",
       "text": [
        "<IPython.core.display.Javascript at 0x2614860>"
       ]
      },
      {
       "javascript": [
        "require.undef(\"nbextensions/glow.1.1.min\");"
       ],
       "metadata": {},
       "output_type": "display_data",
       "text": [
        "<IPython.core.display.Javascript at 0x26149b0>"
       ]
      },
      {
       "javascript": [
        "require.undef(\"nbextensions/glowcomm\");"
       ],
       "metadata": {},
       "output_type": "display_data",
       "text": [
        "<IPython.core.display.Javascript at 0x2614a20>"
       ]
      },
      {
       "javascript": [
        "require([\"nbextensions/glowcomm\"], function(){console.log(\"glowcomm loaded\");})"
       ],
       "metadata": {},
       "output_type": "display_data",
       "text": [
        "<IPython.core.display.Javascript at 0x2614a58>"
       ]
      }
     ],
     "prompt_number": 2
    },
    {
     "cell_type": "code",
     "collapsed": false,
     "input": [
      "# Problem 1\n",
      "\n",
      "\n",
      "scene = canvas(title = \"s\")\n",
      "\n",
      "scene.width = 800\n",
      "scene.height = 600\n",
      "scene.autoscale = 0\n",
      "scene.range = (20,20,20)\n",
      "scene.center = (0,0,0)\n",
      "\n",
      "ball = sphere(pos=(0,0,0), radius=1)\n",
      "grand = box(size=(50,.3,50),pos=(0,-1,0),color=color.red)\n",
      "xaxis = arrow(pos=(-1,0,-1), axis=(20,0,0), shaftwidth=.5)\n",
      "yaxis = arrow(pos=(-1,0,-1), axis=(0,20,0), shaftwidth=.5)\n",
      "zaxis = arrow(pos=(-1,0,-1), axis=(0,0,20), shaftwidth=.5)\n",
      "\n",
      "vx = 20\n",
      "vy = 30\n",
      "g = 1\n",
      "\n",
      "ball.velocity = vector(vx,vy,0)\n",
      "ball.accelation = vector(0,-g,0)\n",
      "\n",
      "def ani():\n",
      "    dt = .01    # seconds\n",
      "    seconds = 0 # total time\n",
      "    \n",
      "    TF = 1\n",
      "\n",
      "    while (TF) :\n",
      "        rate(100)\n",
      "        seconds = seconds + dt\n",
      "        ball.velocity += ball.accelation\n",
      "        ball.pos += ball.velocity*dt\n",
      "        if ball.pos.y<0:\n",
      "            TF = 0\n"
     ],
     "language": "python",
     "metadata": {},
     "outputs": [
      {
       "html": [
        "<div id=\"scene0\"><div id=\"glowscript\" class=\"glowscript\"></div></div>"
       ],
       "metadata": {},
       "output_type": "display_data",
       "text": [
        "<IPython.core.display.HTML at 0x268fdd8>"
       ]
      },
      {
       "javascript": [
        "window.__context = { glowscript_container: $(\"#glowscript\").removeAttr(\"id\")}"
       ],
       "metadata": {},
       "output_type": "display_data",
       "text": [
        "<IPython.core.display.Javascript at 0x3ee9518>"
       ]
      }
     ],
     "prompt_number": 3
    },
    {
     "cell_type": "code",
     "collapsed": false,
     "input": [
      "ani()"
     ],
     "language": "python",
     "metadata": {},
     "outputs": []
    },
    {
     "cell_type": "markdown",
     "metadata": {},
     "source": [
      "## Problem 2\n",
      "\n",
      "Now introduce the air resistence so the equations of motion become:\n",
      "\n",
      "$$\n",
      "\\begin{eqnarray*}\n",
      "  m\\ddot{x} &=& -km\\dot{x}, \\\\\n",
      "  m\\ddot{y} &=& -km\\dot{y}-mg, \\\\\n",
      "  m\\ddot{z} &=& 0,\n",
      "\\end{eqnarray*}\n",
      "$$\n",
      "and initial conditions\n",
      "\n",
      "$$\n",
      "  \\vec{r}(0) = (0, 0, 0), \\\\\n",
      "  \\vec{v}(0) = (v_{x0}, v_{y0}, 0),\n",
      "$$\n",
      "You can assign $v_{x0}$ and $v_{y0}$ in the code or ask user to input it.\n",
      "\n",
      "You should\n",
      "* Use a box to represent the ground.\n",
      "* Use three arrows to represent the three axes.\n",
      "* Use a sphere to represent the ball of the projectile motion.\n",
      "* Leave a trail.\n",
      "* Stop the simulation when the ball hit the ground.\n",
      "\n",
      "\n",
      "You should use to ways to calculate the trajectory of the motion.\n",
      "1. Use exact solution: (Check for example Marion's book).\n",
      "2. Use numerical solution:\n",
      " * $v(t+dt) = v(t) + a * dt$.\n",
      " * $x(t+dt) = x(t) + v(t) * dt$.\n",
      "\n",
      "You should use a small enough $dt$ to ensure the numerical solution is accurate enough.\n"
     ]
    },
    {
     "cell_type": "code",
     "collapsed": false,
     "input": [
      "# Problem 2\n",
      "\n",
      "\n",
      "scene = canvas(title = \"s\")\n",
      "\n",
      "scene.width = 800\n",
      "scene.height = 600\n",
      "scene.autoscale = 0\n",
      "scene.range = (20,20,20)\n",
      "scene.center = (0,0,0)\n",
      "\n",
      "ball = sphere(pos=(0,0,0), radius=1)\n",
      "grand = box(size=(50,.3,50),pos=(0,-1,0),color=color.red)\n",
      "xaxis = arrow(pos=(-1,0,-1), axis=(20,0,0), shaftwidth=.5)\n",
      "yaxis = arrow(pos=(-1,0,-1), axis=(0,20,0), shaftwidth=.5)\n",
      "zaxis = arrow(pos=(-1,0,-1), axis=(0,0,20), shaftwidth=.5)\n",
      "\n",
      "vx = 100\n",
      "vy = 100\n",
      "g = 1\n",
      "m = 1\n",
      "k = 0.05\n",
      "\n",
      "ball.velocity = vector(vx,vy,0)\n",
      "ball.accelation = vector(0,-g,0) - k * ball.velocity\n",
      "\n",
      "trail = curve(color=color.blue)\n",
      "\n",
      "def ani():\n",
      "    dt = .01    # seconds\n",
      "    seconds = 0 # total time\n",
      "    \n",
      "    TF = 1\n",
      "\n",
      "    while (TF) :\n",
      "        rate(100)\n",
      "        seconds = seconds + dt\n",
      "        ball.velocity += ball.accelation\n",
      "        ball.accelation = vector(0,-g,0) - k * ball.velocity\n",
      "        ball.pos += ball.velocity*dt\n",
      "        trail.append(pos=ball.pos)\n",
      "        if ball.pos.y<0:\n",
      "            TF = 0\n",
      "            \n",
      "ani()"
     ],
     "language": "python",
     "metadata": {},
     "outputs": []
    },
    {
     "cell_type": "markdown",
     "metadata": {},
     "source": [
      "## Problem 3\n",
      "\n",
      "Use **ivisual** module to plot the trajectory of a coupled spring-mass system that has two masses, three springs, two walls.\n",
      "\n",
      "Something like Wall-spring1-mass1-spring2-mass2-spring3-Wall.\n",
      "\n",
      "You should\n",
      "* Use a box to represent the ground.\n",
      "* Use two boxes to represent the walls.\n",
      "* Use two **cubic** boxes to represent the two masses.\n",
      "* Use helix to represent the two srpings.\n"
     ]
    },
    {
     "cell_type": "code",
     "collapsed": false,
     "input": [
      "# Problem 3\n",
      "from math import *\n",
      "\n",
      "scene = canvas(title = \"Spring Mass\")\n",
      "#2.4cm relaxedlenght 0.8cm\n",
      "#l relaxedlenght\n",
      "l1 = vector(0.8,0,0) \n",
      "l2f = vector(-0.4,0,0)\n",
      "l2b = vector(0.4,0,0)\n",
      "l3 = vector(-0.8,0,0)\n",
      "\n",
      "spring1 = helix(pos=(-1.2,0,0),axis=l1, radius=.1,coils=8,thickness=.01,color=color.green)\n",
      "spring2f = helix(pos=(0,0,0),axis=l2f, radius=.1,coils=8,thickness=.01,color=color.green)\n",
      "spring2b = helix(pos=(0,0,0),axis=l2b, radius=.1,coils=8,thickness=.01,color=color.green)\n",
      "spring3 = helix(pos=(1.2,0,0),axis=l3, radius=.1,coils=8,thickness=.01,color=color.green)\n",
      "\n",
      "mass1 = box(pos=(-0.4,0,0),size=(.3,.3,.3),color=color.yellow)\n",
      "mass2 = box(pos=(0.4,0,0),size=(.3,.3,.3),color=color.yellow)\n",
      "\n",
      "frictionlessSurface = box(size=(4,.02,.5),pos=(0,-.16,0))\n",
      "wall1 = box(size=(.04,.5,.3),pos=(-1.2,.1,0),color=color.red)\n",
      "wall2 = box(size=(.04,.5,.3),pos=(1.2,.1,0),color=color.red)\n",
      "\n",
      "\n",
      "# \n",
      "g=9.8 # m/s**2\n",
      "k = 2 # k\n",
      "mass1.mass = 10 # kg\n",
      "mass2.mass = 10\n",
      "mu = 0.00 # friction\n",
      "\n",
      "# initial position\n",
      "x1=-0.6 \n",
      "x2=0.6\n",
      "origin1 = vector(-0.4,0,0)\n",
      "origin2 = vector(0.4,0,0)\n",
      "\n",
      "mass1.pos=vector(x1,0,0)\n",
      "mass2.pos=vector(x2,0,0)\n",
      "spring1.displacement=(mass1.pos-origin1)\n",
      "spring1.axis=l1+spring1.displacement\n",
      "spring2f.displacement=(mass1.pos-origin1)\n",
      "spring2f.axis=l2f+spring2f.displacement\n",
      "spring2b.displacement=(mass2.pos-origin2)\n",
      "spring2b.axis=l2b+spring2b.displacement\n",
      "spring3.displacement=(mass2.pos-origin2)\n",
      "spring3.axis=l3+spring3.displacement\n",
      "\n",
      "\n",
      "mass1.velocity = vector(0,0,0)\n",
      "mass1.acceleration = vector(0,0,0)\n",
      "mass1.force = vector(0,0,0)\n",
      "mass2.velocity = vector(0.1,0,0)\n",
      "mass2.acceleration = vector(0,0,0)\n",
      "mass2.force = vector(0,0,0)\n",
      "\n",
      "\n",
      "\n",
      "def ani():\n",
      "    dt = .01    # seconds\n",
      "    seconds = 0 # total time\n",
      "    steps=1000 #integration steps: final time= dt*steps\n",
      "\n",
      "    while seconds < dt*steps:\n",
      "        rate(100)\n",
      "        seconds = seconds + dt\n",
      "\n",
      "        # Calculate the spring force using Hooke's Law spring to mass\n",
      "        SpringForce_11 = -k * spring1.displacement\n",
      "        SpringForce_21 = -k * spring2f.displacement\n",
      "        SpringForce_22 = -k * spring2b.displacement\n",
      "        SpringForce_32 = -k * spring3.displacement\n",
      "\n",
      "        # The spring force acts on the weight\n",
      "        mass1.force =  SpringForce_11 +  SpringForce_21\n",
      "        mass2.force =  SpringForce_22 +  SpringForce_32        \n",
      "\n",
      "        # move the weight from weight.pos using \n",
      "        # the momentum principle\n",
      "        #weight.acceleration = weight.force/weight.mass\n",
      "        mass1.velocity += dt*mass1.force/mass1.mass # F*dt=dp\n",
      "        mass1.pos += mass1.velocity*dt #+O(dt^2) -> + .5 * weight.acceleration * dt**2\n",
      "        mass2.velocity += dt*mass2.force/mass2.mass\n",
      "        mass2.pos += mass2.velocity*dt\n",
      "\n",
      "        # calculate the new spring displacement\n",
      "        spring1.displacement=(mass1.pos-origin1)\n",
      "        spring1.axis=l1+spring1.displacement\n",
      "        spring2f.displacement=(mass1.pos-origin1)\n",
      "        spring2f.axis=l2f+spring2f.displacement\n",
      "        spring2b.displacement=(mass2.pos-origin2)\n",
      "        spring2b.axis=l2b+spring2b.displacement\n",
      "        spring3.displacement=(mass2.pos-origin2)\n",
      "        spring3.axis=l3+spring3.displacement"
     ],
     "language": "python",
     "metadata": {},
     "outputs": [],
     "prompt_number": 1
    },
    {
     "cell_type": "markdown",
     "metadata": {},
     "source": [
      "# Problem 4\n",
      "\n",
      "Use **ivisual** module to plot the trajectories of 20 particles in a rectangle box.\n",
      "\n",
      "* The rectangle box has the dimension $L_x$, $L_y$, $L_z$.\n",
      "* Use boxes to represent the walls. Keep one wall **invisible**.\n",
      "* The 20 particles should have **random** initial velocity.\n",
      "* The 20 particles should leave a trail.\n",
      "* Make each particle has random RGB color."
     ]
    },
    {
     "cell_type": "code",
     "collapsed": false,
     "input": [
      "import random"
     ],
     "language": "python",
     "metadata": {},
     "outputs": [],
     "prompt_number": 4
    },
    {
     "cell_type": "code",
     "collapsed": false,
     "input": [
      "# Problem4\n",
      "scene = canvas()\n",
      "\n",
      "scene.width = 800\n",
      "scene.height = 600\n",
      "\n",
      "scene.autoscale = 0\n",
      "scene.range = (10,10,10)\n",
      "scene.center = (0,0,0)\n",
      "#bondary 666\n",
      "wallR = box(pos=(+6,0,0), size=(0.2,12,12), color=color.green)\n",
      "wallL = box(pos=(-6,0,0), size=(0.2,12,12), color=color.green)\n",
      "wallU = box(pos=(0,+6,0), size=(12,0.2,12), color=color.blue)\n",
      "wallD = box(pos=(0,-6,0), size=(12,0.2,12), color=color.blue)\n",
      "wallB = box(pos=(0,0,-6), size=(12,12,0.2), color=color.red)\n",
      "\n",
      "ball = []\n",
      "\n",
      "def rc():\n",
      "    c = (random.randint(0,255),random.randint(0,255),random.randint(0,255))\n",
      "    #print c\n",
      "    return c\n",
      "def randp():\n",
      "    return random.uniform(-6,6)\n",
      "for i in range(20):\n",
      "    position = vector(randp(),randp(),randp())\n",
      "    ball.append(sphere(pos=position, radius=0.5, color=rc()))\n",
      "    v = vector(randp(),randp(),randp())\n",
      "    ball[i].velocity = v\n",
      "    ball[i].trail = curve(color=ball[i].color)\n",
      "\n",
      "\n",
      "vscale = 0.1\n",
      "\n",
      "\n",
      "\n",
      "deltat = 0.005\n",
      "t=0\n",
      "\n",
      "while t < 5:\n",
      "    rate(50)\n",
      "    for i in range(20):\n",
      "        if ball[i].pos.x > wallR.pos.x:\n",
      "             ball[i].velocity.x = -ball[i].velocity.x\n",
      "        if ball[i].pos.x < wallL.pos.x:\n",
      "             ball[i].velocity.x = -ball[i].velocity.x\n",
      "        if ball[i].pos.y > wallU.pos.y:\n",
      "             ball[i].velocity.y = -ball[i].velocity.y\n",
      "        if ball[i].pos.y < wallD.pos.y:\n",
      "             ball[i].velocity.y = -ball[i].velocity.y\n",
      "        if ball[i].pos.z < wallB.pos.z:\n",
      "             ball[i].velocity.z = -ball[i].velocity.z\n",
      "        if ball[i].pos.z > +6:\n",
      "             ball[i].velocity.z = -ball[i].velocity.z\n",
      "    \n",
      "        ball[i].pos = ball[i].pos + ball[i].velocity*deltat\n",
      "        ball[i].trail.append(pos=ball[i].pos)\n",
      "    \n",
      "    t = t + deltat"
     ],
     "language": "python",
     "metadata": {},
     "outputs": []
    }
   ],
   "metadata": {}
  }
 ]
}