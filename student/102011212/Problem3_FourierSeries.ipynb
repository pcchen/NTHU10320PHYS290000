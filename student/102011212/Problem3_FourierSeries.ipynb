{
 "metadata": {
  "name": "",
  "signature": "sha256:0f327955e5c1048cab650b307bbf74e3c4c38dd5f27203f4156d7e2230469341"
 },
 "nbformat": 3,
 "nbformat_minor": 0,
 "worksheets": [
  {
   "cells": [
    {
     "cell_type": "markdown",
     "metadata": {},
     "source": [
      "# Problem 3:\n",
      "# Fourier Series\n",
      "\n",
      "The $N$-th order Fourier series of a period function $f(x)$ of period $L$ is defined as\n",
      "\n",
      "$$\n",
      "  FS(N,x) \\equiv \\frac{a_0}{2} + \\sum_{r=1}^{N} \n",
      "  \\left[\n",
      "    a_r \\cos\\left(\\frac{2\\pi r x}{L}\\right) + b_r \\sin\\left(\\frac{2\\pi r x}{L}\\right)\n",
      "  \\right],\n",
      "$$\n",
      "where \n",
      "\n",
      "$$\n",
      "  a_r = \\frac{2}{L} \\int_{x_0}^{x_0+L} f(x) \\cos\\left(\\frac{2\\pi r x}{L} \\right) dx, \\; \\;\n",
      "  b_r = \\frac{2}{L} \\int_{x_0}^{x_0+L} f(x) \\sin\\left(\\frac{2\\pi r x}{L} \\right) dx.\n",
      "$$\n",
      "\n",
      "In this problem, you should \n",
      "* Implement the $N$-th order Fourier series of the square-wave function:\n",
      "$$\n",
      "  f(x) = \n",
      " \\begin{cases} \n",
      " -1 & -\\frac{T}{2} \\le t < 0 \\\\ \n",
      " +1 & 0 \\le t < \\frac{T}{2}.\n",
      " \\end{cases}\n",
      "$$\n",
      "* Plot $f(x), FS(10,x), FS(50,x), FS(100,x)$ with $x \\in [-0.2 T,+0.2 T]$ and $y \\in [-1.5, 1.5]$.\n",
      "* Use IPython Interact to let user adjust $N$ in the range of $N=1, \\cdots 100$ and plot $f(x)$ and $FS(N,x)$.\n",
      "\n",
      "Please write your code based on the sketch below"
     ]
    },
    {
     "cell_type": "markdown",
     "metadata": {},
     "source": [
      "## Part 1"
     ]
    },
    {
     "cell_type": "code",
     "collapsed": false,
     "input": [
      "%pylab inline\n",
      "import numpy as np"
     ],
     "language": "python",
     "metadata": {},
     "outputs": [
      {
       "output_type": "stream",
       "stream": "stdout",
       "text": [
        "Populating the interactive namespace from numpy and matplotlib\n"
       ]
      },
      {
       "output_type": "stream",
       "stream": "stderr",
       "text": [
        "WARNING: pylab import has clobbered these variables: ['f']\n",
        "`%matplotlib` prevents importing * from pylab and numpy\n"
       ]
      }
     ],
     "prompt_number": 5
    },
    {
     "cell_type": "code",
     "collapsed": false,
     "input": [
      "# create your functions\n",
      "import numpy as np\n",
      "import math\n",
      "T=3.0\n",
      "def f(t):\n",
      "    if t<0 and t>=0-T/2:\n",
      "        return -1\n",
      "    if t>=0 and t<T/2:\n",
      "        return 1\n",
      "t= linspace(-3,3,100)\n",
      "t = linspace(-3,3, 100)\n",
      "y = zeros(len(t))\n",
      "for i in xrange(len(t)):\n",
      "    y[i] = f(t[i])\n",
      "plot(t, y)\n",
      "\n",
      "def FS(N, t):\n",
      "    def b(k):\n",
      "        b=4/(math.pi*(2*k-1))/2\n",
      "        return b\n",
      "    f = np.array([2*b(i)*math.sin(2*math.pi*t*(2*i-1)/T) for i in range(1,N+1)])\n",
      "    return f.sum()\n",
      "y2 = np.array([FS(10,i) for i in t])\n",
      "y3 = np.array([FS(50,i) for i in t])\n",
      "y4 = np.array([FS(100,i) for i in t])\n",
      "plot(t, y2)\n",
      "plot(t, y3)\n",
      "plot(t, y4)\n",
      "\n",
      "show()\n",
      "\n"
     ],
     "language": "python",
     "metadata": {},
     "outputs": [
      {
       "metadata": {},
       "output_type": "display_data",
       "png": "[encoded data removed]",
       "text": [
        "<matplotlib.figure.Figure at 0x6c5aa70>"
       ]
      }
     ],
     "prompt_number": 45
    },
    {
     "cell_type": "markdown",
     "metadata": {},
     "source": [
      "## Part2"
     ]
    },
    {
     "cell_type": "code",
     "collapsed": false,
     "input": [
      "from IPython.html.widgets import interact"
     ],
     "language": "python",
     "metadata": {},
     "outputs": [],
     "prompt_number": 34
    },
    {
     "cell_type": "code",
     "collapsed": false,
     "input": [
      "# create your ipython interact\n",
      "import numpy as np\n",
      "import math\n",
      "T=3.0\n",
      "def f(t):\n",
      "    if t >= 1.0 or t <= -1.0:\n",
      "        return 0\n",
      "    else:\n",
      "        if 0<t<1:\n",
      "            return 1\n",
      "        if -1<t<=0:\n",
      "            return -1\n",
      "t = np.linspace(-1, 1, 500)\n",
      "y = zeros(len(t))\n",
      "for i in xrange(len(t)):\n",
      "    y[i] = f(t[i])\n",
      "\n",
      "def FS(N, t):\n",
      "    def b(k):\n",
      "        b=4/(math.pi*(2*k-1))/2\n",
      "        return b\n",
      "    f = np.array([2*b(i)*math.sin(2*math.pi*t*(2*i-1)/T) for i in range(1,N+1)])\n",
      "    return f.sum()\n",
      "\n",
      "def draw(N):\n",
      "    time = np.linspace(-1, 1, 200)\n",
      "    y = np.array([FS(N,i) for i in t])\n",
      "    y2 = np.array([f(i) for i in t])\n",
      "    plot(t,y)\n",
      "    plot(t,y2)\n",
      "interact(draw, N=(0,100))\n",
      "#FS(N, t)\n"
     ],
     "language": "python",
     "metadata": {},
     "outputs": [
      {
       "metadata": {},
       "output_type": "display_data",
       "png": "[encoded data removed]",
       "text": [
        "<matplotlib.figure.Figure at 0x6362b70>"
       ]
      }
     ],
     "prompt_number": 46
    },
    {
     "cell_type": "code",
     "collapsed": false,
     "input": [],
     "language": "python",
     "metadata": {},
     "outputs": []
    }
   ],
   "metadata": {}
  }
 ]
}