{
 "cells": [
  {
   "cell_type": "markdown",
   "metadata": {},
   "source": [
    "# Homework 6"
   ]
  },
  {
   "cell_type": "markdown",
   "metadata": {},
   "source": [
    "## Problem 1\n",
    "\n",
    "Use **ivisual** module to plot the projectile motion with following equations of motion:\n",
    "\n",
    "$$\n",
    "\\begin{eqnarray*}\n",
    "  m\\ddot{x} &=& 0, \\\\\n",
    "  m\\ddot{y} &=& -mg, \\\\\n",
    "  m\\ddot{z} &=& 0,\n",
    "\\end{eqnarray*}\n",
    "$$\n",
    "and initial conditions\n",
    "\n",
    "$$\n",
    "  \\vec{r}(0) = (0, 0, 0), \\\\\n",
    "  \\vec{v}(0) = (v_{x0}, v_{y0}, 0),\n",
    "$$\n",
    "You can assign $v_{x0}$ and $v_{y0}$ in the code or ask user to input it.\n",
    "\n",
    "You should\n",
    "* Use a box to represent the ground.\n",
    "* Use three arrows to represent the three axes.\n",
    "* Use a sphere to represent the ball of the projectile motion.\n",
    "* Leave a trail.\n",
    "* Stop the simulation when the ball hit the ground.\n",
    "\n",
    "You should use to ways to calculate the trajectory of the motion.\n",
    "1. Use exact solution: $x(t)=x(0)+v_x t$, etc.\n",
    "2. Use numerical solution:\n",
    " * $v(t+dt) = v(t) + a * dt$.\n",
    " * $x(t+dt) = x(t) + v(t) * dt$.\n",
    "\n",
    "You should use a small enough $dt$ to ensure the numerical solution is accurate enough.\n"
   ]
  },
  {
   "cell_type": "code",
   "execution_count": 1,
   "metadata": {
    "collapsed": false
   },
   "outputs": [
    {
     "data": {
      "text/html": [
       "<div id=\"scene0\"><div id=\"glowscript\" class=\"glowscript\"></div></div>"
      ],
      "text/plain": [
       "<IPython.core.display.HTML object>"
      ]
     },
     "metadata": {},
     "output_type": "display_data"
    },
    {
     "data": {
      "application/javascript": [
       "require.undef(\"nbextensions/glow.1.0.min\");"
      ],
      "text/plain": [
       "<IPython.core.display.Javascript object>"
      ]
     },
     "metadata": {},
     "output_type": "display_data"
    },
    {
     "data": {
      "application/javascript": [
       "require.undef(\"nbextensions/jquery-ui.custom.min\");"
      ],
      "text/plain": [
       "<IPython.core.display.Javascript object>"
      ]
     },
     "metadata": {},
     "output_type": "display_data"
    },
    {
     "data": {
      "application/javascript": [
       "require.undef(\"nbextensions/glow.1.1.min\");"
      ],
      "text/plain": [
       "<IPython.core.display.Javascript object>"
      ]
     },
     "metadata": {},
     "output_type": "display_data"
    },
    {
     "data": {
      "application/javascript": [
       "require.undef(\"nbextensions/glowcomm\");"
      ],
      "text/plain": [
       "<IPython.core.display.Javascript object>"
      ]
     },
     "metadata": {},
     "output_type": "display_data"
    },
    {
     "data": {
      "application/javascript": [
       "require([\"nbextensions/glowcomm\"], function(){console.log(\"glowcomm loaded\");})"
      ],
      "text/plain": [
       "<IPython.core.display.Javascript object>"
      ]
     },
     "metadata": {},
     "output_type": "display_data"
    }
   ],
   "source": [
    "from ivisual import *"
   ]
  },
  {
   "cell_type": "code",
   "execution_count": 2,
   "metadata": {
    "collapsed": false
   },
   "outputs": [
    {
     "data": {
      "text/html": [
       "<div id=\"scene0\"><div id=\"glowscript\" class=\"glowscript\"></div></div>"
      ],
      "text/plain": [
       "<IPython.core.display.HTML object>"
      ]
     },
     "metadata": {},
     "output_type": "display_data"
    },
    {
     "data": {
      "application/javascript": [
       "window.__context = { glowscript_container: $(\"#glowscript\").removeAttr(\"id\")}"
      ],
      "text/plain": [
       "<IPython.core.display.Javascript object>"
      ]
     },
     "metadata": {},
     "output_type": "display_data"
    }
   ],
   "source": [
    "# Problem 1\n",
    "scene = canvas()\n",
    "\n",
    "scene.width = 800\n",
    "scene.height = 600\n",
    "\n",
    "scene.autoscale = 0\n",
    "scene.range = (10,10,20)\n",
    "scene.center = (0,0,0)\n",
    "\n",
    "ground = box(pos = (0, -10, 0), size = (20, 0.2, 10), color = color.green)\n",
    "x_axis = arrow(pos = (0, 0, 0), axis = (10, 0, 0), shaftwidth=0.2)\n",
    "y_axis = arrow(pos = (0, 0, 0), axis = (0, 10, 0), shaftwidth=0.2)\n",
    "z_axis = arrow(pos = (0, 0, 0), axis = (0, 0, 10), shaftwidth=0.2)\n",
    "ball = sphere(pos = (0, 0, 0), radius=0.5, color = color.blue)\n",
    "\n",
    "ball.trail = curve(color=ball.color)\n",
    "ball.velocity = vector(5, 0.1, 0)\n",
    "vscale = 0.1\n",
    "deltat = 0.005\n",
    "t=0\n",
    "g = -9.8\n",
    "ball.velocity.y += g*deltat\n",
    "\n",
    "while t < 50:\n",
    "    rate(50)\n",
    "    if ball.pos.y < ground.pos.y:\n",
    "        break\n",
    "        \n",
    "    ball.pos = ball.pos + ball.velocity*deltat\n",
    "    ball.trail.append(pos=ball.pos)\n",
    "    ball.velocity.y += g*deltat\n",
    "    t = t + deltat"
   ]
  },
  {
   "cell_type": "markdown",
   "metadata": {},
   "source": [
    "## Problem 2\n",
    "\n",
    "Now introduce the air resistence so the equations of motion become:\n",
    "\n",
    "$$\n",
    "\\begin{eqnarray*}\n",
    "  m\\ddot{x} &=& -km\\dot{x}, \\\\\n",
    "  m\\ddot{y} &=& -km\\dot{y}-mg, \\\\\n",
    "  m\\ddot{z} &=& 0,\n",
    "\\end{eqnarray*}\n",
    "$$\n",
    "and initial conditions\n",
    "\n",
    "$$\n",
    "  \\vec{r}(0) = (0, 0, 0), \\\\\n",
    "  \\vec{v}(0) = (v_{x0}, v_{y0}, 0),\n",
    "$$\n",
    "You can assign $v_{x0}$ and $v_{y0}$ in the code or ask user to input it.\n",
    "\n",
    "You should\n",
    "* Use a box to represent the ground.\n",
    "* Use three arrows to represent the three axes.\n",
    "* Use a sphere to represent the ball of the projectile motion.\n",
    "* Leave a trail.\n",
    "* Stop the simulation when the ball hit the ground.\n",
    "\n",
    "\n",
    "You should use to ways to calculate the trajectory of the motion.\n",
    "1. Use exact solution: (Check for example Marion's book).\n",
    "2. Use numerical solution:\n",
    " * $v(t+dt) = v(t) + a * dt$.\n",
    " * $x(t+dt) = x(t) + v(t) * dt$.\n",
    "\n",
    "You should use a small enough $dt$ to ensure the numerical solution is accurate enough.\n"
   ]
  },
  {
   "cell_type": "code",
   "execution_count": 3,
   "metadata": {
    "collapsed": false
   },
   "outputs": [
    {
     "data": {
      "text/html": [
       "<div id=\"scene1\"><div id=\"glowscript\" class=\"glowscript\"></div></div>"
      ],
      "text/plain": [
       "<IPython.core.display.HTML object>"
      ]
     },
     "metadata": {},
     "output_type": "display_data"
    },
    {
     "data": {
      "application/javascript": [
       "window.__context = { glowscript_container: $(\"#glowscript\").removeAttr(\"id\")}"
      ],
      "text/plain": [
       "<IPython.core.display.Javascript object>"
      ]
     },
     "metadata": {},
     "output_type": "display_data"
    }
   ],
   "source": [
    "# Problem 2\n",
    "scene = canvas()\n",
    "\n",
    "scene.width = 800\n",
    "scene.height = 600\n",
    "\n",
    "scene.autoscale = 0\n",
    "scene.range = (10,10,20)\n",
    "scene.center = (0,0,0)\n",
    "\n",
    "ground = box(pos = (0, -10, 0), size = (20, 0.2, 10), color = color.green)\n",
    "x_axis = arrow(pos = (0, 0, 0), axis = (10, 0, 0), shaftwidth=0.2)\n",
    "y_axis = arrow(pos = (0, 0, 0), axis = (0, 10, 0), shaftwidth=0.2)\n",
    "z_axis = arrow(pos = (0, 0, 0), axis = (0, 0, 10), shaftwidth=0.2)\n",
    "ball = sphere(pos = (0, 0, 0), radius=0.5, color = color.blue)\n",
    "\n",
    "ball.trail = curve(color=ball.color)\n",
    "ball.velocity = vector(5, 0.1, 0)\n",
    "vscale = 0.1\n",
    "deltat = 0.005\n",
    "t=0\n",
    "g = -9.8\n",
    "k = -1\n",
    "ax = k*ball.velocity.x\n",
    "ay = k*ball.velocity.y + g\n",
    "ball.velocity.x += ax*deltat\n",
    "ball.velocity.y += ay*deltat\n",
    "\n",
    "while t < 50:\n",
    "    rate(50)\n",
    "    if ball.pos.y < ground.pos.y:\n",
    "        break\n",
    "        \n",
    "    ball.pos = ball.pos + ball.velocity*deltat\n",
    "    ball.trail.append(pos=ball.pos)\n",
    "    ball.velocity.y += g*deltat\n",
    "    t = t + deltat"
   ]
  },
  {
   "cell_type": "markdown",
   "metadata": {},
   "source": [
    "## Problem 3\n",
    "\n",
    "Use **ivisual** module to plot the trajectory of a coupled spring-mass system that has two masses, three springs, two walls.\n",
    "\n",
    "Something like Wall-spring1-mass1-spring2-mass2-spring3-Wall.\n",
    "\n",
    "You should\n",
    "* Use a box to represent the ground.\n",
    "* Use two boxes to represent the walls.\n",
    "* Use two **cubic** boxes to represent the two masses.\n",
    "* Use helix to represent the two srpings.\n"
   ]
  },
  {
   "cell_type": "code",
   "execution_count": 3,
   "metadata": {
    "collapsed": false
   },
   "outputs": [
    {
     "data": {
      "text/html": [
       "<div id=\"scene1\"><div id=\"glowscript\" class=\"glowscript\"></div></div>"
      ],
      "text/plain": [
       "<IPython.core.display.HTML object>"
      ]
     },
     "metadata": {},
     "output_type": "display_data"
    },
    {
     "data": {
      "application/javascript": [
       "window.__context = { glowscript_container: $(\"#glowscript\").removeAttr(\"id\")}"
      ],
      "text/plain": [
       "<IPython.core.display.Javascript object>"
      ]
     },
     "metadata": {},
     "output_type": "display_data"
    }
   ],
   "source": [
    "# Problem 3\n",
    "scene = canvas()\n",
    "\n",
    "scene.width = 800\n",
    "scene.height = 600\n",
    "\n",
    "scene.autoscale = 0\n",
    "scene.range = (10,10,20)\n",
    "scene.center = (0,0,0)\n",
    "\n",
    "wall1 = box(pos = (-10.6, 0, 0), size = (0.2, 3, 3), color = color.green)\n",
    "wall2 = box(pos = (10.6, 0, 0), size = (0.2, 3, 3), color = color.green)\n",
    "ground = box(pos = (0, -1.5, 0), size = (21.2, 0.2, 3), color = color.green)\n",
    "spring1 = helix(pos = (-10.4, 0, 0), length = 5, coils = 10, radius = 0.5, color = color.red)\n",
    "box1 = box(pos = (-3.9, 0, 0), size = (3, 3, 3), color = color.blue)\n",
    "spring2 = helix(pos = (-2.4, 0, 0), length = 5, coils = 10, radius = 0.5, color = color.red)\n",
    "box2 = box(pos = (4.1, 0, 0), size = (3, 3, 3), color = color.blue)\n",
    "spring3 = helix(pos = (5.6, 0, 0), length = 5, coils = 10, radius = 0.5, color = color.red)"
   ]
  },
  {
   "cell_type": "markdown",
   "metadata": {},
   "source": [
    "# Problem 4\n",
    "\n",
    "Use **ivisual** module to plot the trajectories of 20 particles in a rectangle box.\n",
    "\n",
    "* The rectangle box has the dimension $L_x$, $L_y$, $L_z$.\n",
    "* Use boxes to represent the walls. Keep one wall **invisible**.\n",
    "* The 20 particles should have **random** initial velocity.\n",
    "* The 20 particles should leave a trail.\n",
    "* Make each particle has random RGB color."
   ]
  },
  {
   "cell_type": "code",
   "execution_count": 2,
   "metadata": {
    "collapsed": false
   },
   "outputs": [
    {
     "data": {
      "text/html": [
       "<div id=\"scene0\"><div id=\"glowscript\" class=\"glowscript\"></div></div>"
      ],
      "text/plain": [
       "<IPython.core.display.HTML object>"
      ]
     },
     "metadata": {},
     "output_type": "display_data"
    },
    {
     "data": {
      "application/javascript": [
       "window.__context = { glowscript_container: $(\"#glowscript\").removeAttr(\"id\")}"
      ],
      "text/plain": [
       "<IPython.core.display.Javascript object>"
      ]
     },
     "metadata": {},
     "output_type": "display_data"
    }
   ],
   "source": [
    "# Problem 4\n",
    "import random\n",
    "scene = canvas()\n",
    "\n",
    "scene.width = 800\n",
    "scene.height = 600\n",
    "\n",
    "scene.autoscale = 0\n",
    "scene.range = (10,10,10)\n",
    "scene.center = (0,0,0)\n",
    "\n",
    "ball1 = sphere(pos=(random.uniform(-5.8,5.8),random.uniform(-5.8,5.8),random.uniform(-5.8,5.8)), radius=0.5, color=(random.uniform(0,1),random.uniform(0,1),random.uniform(0,1)))\n",
    "ball2 = sphere(pos=(random.uniform(-5.8,5.8),random.uniform(-5.8,5.8),random.uniform(-5.8,5.8)), radius=0.5, color=(random.uniform(0,1),random.uniform(0,1),random.uniform(0,1)))\n",
    "ball3 = sphere(pos=(random.uniform(-5.8,5.8),random.uniform(-5.8,5.8),random.uniform(-5.8,5.8)), radius=0.5, color=(random.uniform(0,1),random.uniform(0,1),random.uniform(0,1)))\n",
    "ball4 = sphere(pos=(random.uniform(-5.8,5.8),random.uniform(-5.8,5.8),random.uniform(-5.8,5.8)), radius=0.5, color=(random.uniform(0,1),random.uniform(0,1),random.uniform(0,1)))\n",
    "ball5 = sphere(pos=(random.uniform(-5.8,5.8),random.uniform(-5.8,5.8),random.uniform(-5.8,5.8)), radius=0.5, color=(random.uniform(0,1),random.uniform(0,1),random.uniform(0,1)))\n",
    "ball6 = sphere(pos=(random.uniform(-5.8,5.8),random.uniform(-5.8,5.8),random.uniform(-5.8,5.8)), radius=0.5, color=(random.uniform(0,1),random.uniform(0,1),random.uniform(0,1)))\n",
    "ball7 = sphere(pos=(random.uniform(-5.8,5.8),random.uniform(-5.8,5.8),random.uniform(-5.8,5.8)), radius=0.5, color=(random.uniform(0,1),random.uniform(0,1),random.uniform(0,1)))\n",
    "ball8 = sphere(pos=(random.uniform(-5.8,5.8),random.uniform(-5.8,5.8),random.uniform(-5.8,5.8)), radius=0.5, color=(random.uniform(0,1),random.uniform(0,1),random.uniform(0,1)))\n",
    "ball9 = sphere(pos=(random.uniform(-5.8,5.8),random.uniform(-5.8,5.8),random.uniform(-5.8,5.8)), radius=0.5, color=(random.uniform(0,1),random.uniform(0,1),random.uniform(0,1)))\n",
    "ball10 = sphere(pos=(random.uniform(-5.8,5.8),random.uniform(-5.8,5.8),random.uniform(-5.8,5.8)), radius=0.5, color=(random.uniform(0,1),random.uniform(0,1),random.uniform(0,1)))\n",
    "ball11 = sphere(pos=(random.uniform(-5.8,5.8),random.uniform(-5.8,5.8),random.uniform(-5.8,5.8)), radius=0.5, color=(random.uniform(0,1),random.uniform(0,1),random.uniform(0,1)))\n",
    "ball12 = sphere(pos=(random.uniform(-5.8,5.8),random.uniform(-5.8,5.8),random.uniform(-5.8,5.8)), radius=0.5, color=(random.uniform(0,1),random.uniform(0,1),random.uniform(0,1)))\n",
    "ball13 = sphere(pos=(random.uniform(-5.8,5.8),random.uniform(-5.8,5.8),random.uniform(-5.8,5.8)), radius=0.5, color=(random.uniform(0,1),random.uniform(0,1),random.uniform(0,1)))\n",
    "ball14 = sphere(pos=(random.uniform(-5.8,5.8),random.uniform(-5.8,5.8),random.uniform(-5.8,5.8)), radius=0.5, color=(random.uniform(0,1),random.uniform(0,1),random.uniform(0,1)))\n",
    "ball15 = sphere(pos=(random.uniform(-5.8,5.8),random.uniform(-5.8,5.8),random.uniform(-5.8,5.8)), radius=0.5, color=(random.uniform(0,1),random.uniform(0,1),random.uniform(0,1)))\n",
    "ball16 = sphere(pos=(random.uniform(-5.8,5.8),random.uniform(-5.8,5.8),random.uniform(-5.8,5.8)), radius=0.5, color=(random.uniform(0,1),random.uniform(0,1),random.uniform(0,1)))\n",
    "ball17 = sphere(pos=(random.uniform(-5.8,5.8),random.uniform(-5.8,5.8),random.uniform(-5.8,5.8)), radius=0.5, color=(random.uniform(0,1),random.uniform(0,1),random.uniform(0,1)))\n",
    "ball18 = sphere(pos=(random.uniform(-5.8,5.8),random.uniform(-5.8,5.8),random.uniform(-5.8,5.8)), radius=0.5, color=(random.uniform(0,1),random.uniform(0,1),random.uniform(0,1)))\n",
    "ball19 = sphere(pos=(random.uniform(-5.8,5.8),random.uniform(-5.8,5.8),random.uniform(-5.8,5.8)), radius=0.5, color=(random.uniform(0,1),random.uniform(0,1),random.uniform(0,1)))\n",
    "ball20 = sphere(pos=(random.uniform(-5.8,5.8),random.uniform(-5.8,5.8),random.uniform(-5.8,5.8)), radius=0.5, color=(random.uniform(0,1),random.uniform(0,1),random.uniform(0,1)))\n",
    "wallR = box(pos=(+6,0,0), size=(0.2,12,12), color=color.green)\n",
    "wallL = box(pos=(-6,0,0), size=(0.2,12,12), color=color.green)\n",
    "wallU = box(pos=(0,+6,0), size=(12,0.2,12), color=color.blue)\n",
    "wallD = box(pos=(0,-6,0), size=(12,0.2,12), color=color.blue)\n",
    "wallB = box(pos=(0,0,-6), size=(12,12,0.2), color=color.red)\n",
    "\n",
    "ball1.velocity = vector(random.uniform(-20,20), random.uniform(-20,20), random.uniform(-20,20))\n",
    "ball2.velocity = vector(random.uniform(-20,20), random.uniform(-20,20), random.uniform(-20,20))\n",
    "ball3.velocity = vector(random.uniform(-20,20), random.uniform(-20,20), random.uniform(-20,20))\n",
    "ball4.velocity = vector(random.uniform(-20,20), random.uniform(-20,20), random.uniform(-20,20))\n",
    "ball5.velocity = vector(random.uniform(-20,20), random.uniform(-20,20), random.uniform(-20,20))\n",
    "ball6.velocity = vector(random.uniform(-20,20), random.uniform(-20,20), random.uniform(-20,20))\n",
    "ball7.velocity = vector(random.uniform(-20,20), random.uniform(-20,20), random.uniform(-20,20))\n",
    "ball8.velocity = vector(random.uniform(-20,20), random.uniform(-20,20), random.uniform(-20,20))\n",
    "ball9.velocity = vector(random.uniform(-20,20), random.uniform(-20,20), random.uniform(-20,20))\n",
    "ball10.velocity = vector(random.uniform(-20,20), random.uniform(-20,20), random.uniform(-20,20))\n",
    "ball11.velocity = vector(random.uniform(-20,20), random.uniform(-20,20), random.uniform(-20,20))\n",
    "ball12.velocity = vector(random.uniform(-20,20), random.uniform(-20,20), random.uniform(-20,20))\n",
    "ball13.velocity = vector(random.uniform(-20,20), random.uniform(-20,20), random.uniform(-20,20))\n",
    "ball14.velocity = vector(random.uniform(-20,20), random.uniform(-20,20), random.uniform(-20,20))\n",
    "ball15.velocity = vector(random.uniform(-20,20), random.uniform(-20,20), random.uniform(-20,20))\n",
    "ball16.velocity = vector(random.uniform(-20,20), random.uniform(-20,20), random.uniform(-20,20))\n",
    "ball17.velocity = vector(random.uniform(-20,20), random.uniform(-20,20), random.uniform(-20,20))\n",
    "ball18.velocity = vector(random.uniform(-20,20), random.uniform(-20,20), random.uniform(-20,20))\n",
    "ball19.velocity = vector(random.uniform(-20,20), random.uniform(-20,20), random.uniform(-20,20))\n",
    "ball20.velocity = vector(random.uniform(-20,20), random.uniform(-20,20), random.uniform(-20,20))\n",
    "vscale = 0.1\n",
    "\n",
    "ball1.trail = curve(color=ball1.color)\n",
    "ball2.trail = curve(color=ball2.color)\n",
    "ball3.trail = curve(color=ball3.color)\n",
    "ball4.trail = curve(color=ball4.color)\n",
    "ball5.trail = curve(color=ball5.color)\n",
    "ball6.trail = curve(color=ball6.color)\n",
    "ball7.trail = curve(color=ball7.color)\n",
    "ball8.trail = curve(color=ball8.color)\n",
    "ball9.trail = curve(color=ball9.color)\n",
    "ball10.trail = curve(color=ball10.color)\n",
    "ball11.trail = curve(color=ball11.color)\n",
    "ball12.trail = curve(color=ball12.color)\n",
    "ball13.trail = curve(color=ball13.color)\n",
    "ball14.trail = curve(color=ball14.color)\n",
    "ball15.trail = curve(color=ball15.color)\n",
    "ball16.trail = curve(color=ball16.color)\n",
    "ball17.trail = curve(color=ball17.color)\n",
    "ball18.trail = curve(color=ball18.color)\n",
    "ball19.trail = curve(color=ball19.color)\n",
    "ball20.trail = curve(color=ball20.color)\n",
    "\n",
    "deltat = 0.005\n",
    "t=0\n",
    "\n",
    "while t < 10:\n",
    "    rate(50)\n",
    "    if ball1.pos.x > wallR.pos.x:\n",
    "         ball1.velocity.x = -ball1.velocity.x\n",
    "    if ball1.pos.x < wallL.pos.x:\n",
    "         ball1.velocity.x = -ball1.velocity.x\n",
    "    if ball1.pos.y > wallU.pos.y:\n",
    "         ball1.velocity.y = -ball1.velocity.y\n",
    "    if ball1.pos.y < wallD.pos.y:\n",
    "         ball1.velocity.y = -ball1.velocity.y\n",
    "    if ball1.pos.z < wallB.pos.z:\n",
    "        ball1.velocity.z = -ball1.velocity.z\n",
    "    if ball1.pos.z > +6:\n",
    "        ball1.velocity.z = -ball1.velocity.z\n",
    "    \n",
    "    ball1.pos = ball1.pos + ball1.velocity*deltat\n",
    "    ball1.trail.append(pos=ball1.pos)\n",
    "    \n",
    "    if ball2.pos.x > wallR.pos.x:\n",
    "         ball2.velocity.x = -ball2.velocity.x\n",
    "    if ball2.pos.x < wallL.pos.x:\n",
    "         ball2.velocity.x = -ball2.velocity.x\n",
    "    if ball2.pos.y > wallU.pos.y:\n",
    "         ball2.velocity.y = -ball2.velocity.y\n",
    "    if ball2.pos.y < wallD.pos.y:\n",
    "         ball2.velocity.y = -ball2.velocity.y\n",
    "    if ball2.pos.z < wallB.pos.z:\n",
    "        ball2.velocity.z = -ball2.velocity.z\n",
    "    if ball2.pos.z > +6:\n",
    "        ball2.velocity.z = -ball2.velocity.z\n",
    "    \n",
    "    ball2.pos = ball2.pos + ball2.velocity*deltat\n",
    "    ball2.trail.append(pos=ball2.pos)\n",
    "    \n",
    "    if ball3.pos.x > wallR.pos.x:\n",
    "         ball3.velocity.x = -ball3.velocity.x\n",
    "    if ball3.pos.x < wallL.pos.x:\n",
    "         ball3.velocity.x = -ball3.velocity.x\n",
    "    if ball3.pos.y > wallU.pos.y:\n",
    "         ball3.velocity.y = -ball3.velocity.y\n",
    "    if ball3.pos.y < wallD.pos.y:\n",
    "         ball3.velocity.y = -ball3.velocity.y\n",
    "    if ball3.pos.z < wallB.pos.z:\n",
    "        ball3.velocity.z = -ball3.velocity.z\n",
    "    if ball3.pos.z > +6:\n",
    "        ball3.velocity.z = -ball3.velocity.z\n",
    "    \n",
    "    ball3.pos = ball3.pos + ball3.velocity*deltat\n",
    "    ball3.trail.append(pos=ball3.pos)\n",
    "    \n",
    "    if ball4.pos.x > wallR.pos.x:\n",
    "         ball4.velocity.x = -ball4.velocity.x\n",
    "    if ball4.pos.x < wallL.pos.x:\n",
    "         ball4.velocity.x = -ball4.velocity.x\n",
    "    if ball4.pos.y > wallU.pos.y:\n",
    "         ball4.velocity.y = -ball4.velocity.y\n",
    "    if ball4.pos.y < wallD.pos.y:\n",
    "         ball4.velocity.y = -ball4.velocity.y\n",
    "    if ball4.pos.z < wallB.pos.z:\n",
    "        ball4.velocity.z = -ball4.velocity.z\n",
    "    if ball4.pos.z > +6:\n",
    "        ball4.velocity.z = -ball4.velocity.z\n",
    "    \n",
    "    ball4.pos = ball4.pos + ball4.velocity*deltat\n",
    "    ball4.trail.append(pos=ball4.pos)\n",
    "    \n",
    "    if ball5.pos.x > wallR.pos.x:\n",
    "         ball5.velocity.x = -ball5.velocity.x\n",
    "    if ball5.pos.x < wallL.pos.x:\n",
    "         ball5.velocity.x = -ball5.velocity.x\n",
    "    if ball5.pos.y > wallU.pos.y:\n",
    "         ball5.velocity.y = -ball5.velocity.y\n",
    "    if ball5.pos.y < wallD.pos.y:\n",
    "         ball5.velocity.y = -ball5.velocity.y\n",
    "    if ball5.pos.z < wallB.pos.z:\n",
    "        ball5.velocity.z = -ball5.velocity.z\n",
    "    if ball5.pos.z > +6:\n",
    "        ball5.velocity.z = -ball5.velocity.z\n",
    "    \n",
    "    ball5.pos = ball5.pos + ball5.velocity*deltat\n",
    "    ball5.trail.append(pos=ball5.pos)\n",
    "    \n",
    "    if ball6.pos.x > wallR.pos.x:\n",
    "         ball6.velocity.x = -ball6.velocity.x\n",
    "    if ball6.pos.x < wallL.pos.x:\n",
    "         ball6.velocity.x = -ball6.velocity.x\n",
    "    if ball6.pos.y > wallU.pos.y:\n",
    "         ball6.velocity.y = -ball6.velocity.y\n",
    "    if ball6.pos.y < wallD.pos.y:\n",
    "         ball6.velocity.y = -ball6.velocity.y\n",
    "    if ball6.pos.z < wallB.pos.z:\n",
    "        ball6.velocity.z = -ball6.velocity.z\n",
    "    if ball6.pos.z > +6:\n",
    "        ball6.velocity.z = -ball6.velocity.z\n",
    "    \n",
    "    ball6.pos = ball6.pos + ball6.velocity*deltat\n",
    "    ball6.trail.append(pos=ball6.pos)\n",
    "    \n",
    "    if ball7.pos.x > wallR.pos.x:\n",
    "         ball7.velocity.x = -ball7.velocity.x\n",
    "    if ball7.pos.x < wallL.pos.x:\n",
    "         ball7.velocity.x = -ball7.velocity.x\n",
    "    if ball7.pos.y > wallU.pos.y:\n",
    "         ball7.velocity.y = -ball7.velocity.y\n",
    "    if ball7.pos.y < wallD.pos.y:\n",
    "         ball7.velocity.y = -ball7.velocity.y\n",
    "    if ball7.pos.z < wallB.pos.z:\n",
    "        ball7.velocity.z = -ball7.velocity.z\n",
    "    if ball7.pos.z > +6:\n",
    "        ball7.velocity.z = -ball7.velocity.z\n",
    "    \n",
    "    ball7.pos = ball7.pos + ball7.velocity*deltat\n",
    "    ball7.trail.append(pos=ball7.pos)\n",
    "    \n",
    "    if ball8.pos.x > wallR.pos.x:\n",
    "         ball8.velocity.x = -ball8.velocity.x\n",
    "    if ball8.pos.x < wallL.pos.x:\n",
    "         ball8.velocity.x = -ball8.velocity.x\n",
    "    if ball8.pos.y > wallU.pos.y:\n",
    "         ball8.velocity.y = -ball8.velocity.y\n",
    "    if ball8.pos.y < wallD.pos.y:\n",
    "         ball8.velocity.y = -ball8.velocity.y\n",
    "    if ball8.pos.z < wallB.pos.z:\n",
    "        ball8.velocity.z = -ball8.velocity.z\n",
    "    if ball8.pos.z > +6:\n",
    "        ball8.velocity.z = -ball8.velocity.z\n",
    "    \n",
    "    ball8.pos = ball8.pos + ball8.velocity*deltat\n",
    "    ball8.trail.append(pos=ball8.pos)\n",
    "    \n",
    "    if ball9.pos.x > wallR.pos.x:\n",
    "         ball9.velocity.x = -ball9.velocity.x\n",
    "    if ball9.pos.x < wallL.pos.x:\n",
    "         ball9.velocity.x = -ball9.velocity.x\n",
    "    if ball9.pos.y > wallU.pos.y:\n",
    "         ball9.velocity.y = -ball9.velocity.y\n",
    "    if ball9.pos.y < wallD.pos.y:\n",
    "         ball9.velocity.y = -ball9.velocity.y\n",
    "    if ball9.pos.z < wallB.pos.z:\n",
    "        ball9.velocity.z = -ball9.velocity.z\n",
    "    if ball9.pos.z > +6:\n",
    "        ball9.velocity.z = -ball9.velocity.z\n",
    "    \n",
    "    ball9.pos = ball9.pos + ball9.velocity*deltat\n",
    "    ball9.trail.append(pos=ball9.pos)\n",
    "    \n",
    "    if ball10.pos.x > wallR.pos.x:\n",
    "         ball10.velocity.x = -ball10.velocity.x\n",
    "    if ball10.pos.x < wallL.pos.x:\n",
    "         ball10.velocity.x = -ball10.velocity.x\n",
    "    if ball10.pos.y > wallU.pos.y:\n",
    "         ball10.velocity.y = -ball10.velocity.y\n",
    "    if ball10.pos.y < wallD.pos.y:\n",
    "         ball10.velocity.y = -ball10.velocity.y\n",
    "    if ball10.pos.z < wallB.pos.z:\n",
    "        ball10.velocity.z = -ball10.velocity.z\n",
    "    if ball10.pos.z > +6:\n",
    "        ball10.velocity.z = -ball10.velocity.z\n",
    "    \n",
    "    ball10.pos = ball10.pos + ball10.velocity*deltat\n",
    "    ball10.trail.append(pos=ball10.pos)\n",
    "    \n",
    "    if ball11.pos.x > wallR.pos.x:\n",
    "         ball11.velocity.x = -ball11.velocity.x\n",
    "    if ball11.pos.x < wallL.pos.x:\n",
    "         ball11.velocity.x = -ball11.velocity.x\n",
    "    if ball11.pos.y > wallU.pos.y:\n",
    "         ball11.velocity.y = -ball11.velocity.y\n",
    "    if ball11.pos.y < wallD.pos.y:\n",
    "         ball11.velocity.y = -ball11.velocity.y\n",
    "    if ball11.pos.z < wallB.pos.z:\n",
    "        ball11.velocity.z = -ball11.velocity.z\n",
    "    if ball11.pos.z > +6:\n",
    "        ball11.velocity.z = -ball11.velocity.z\n",
    "    \n",
    "    ball11.pos = ball11.pos + ball11.velocity*deltat\n",
    "    ball11.trail.append(pos=ball11.pos)\n",
    "    \n",
    "    if ball12.pos.x > wallR.pos.x:\n",
    "         ball12.velocity.x = -ball12.velocity.x\n",
    "    if ball12.pos.x < wallL.pos.x:\n",
    "         ball12.velocity.x = -ball12.velocity.x\n",
    "    if ball12.pos.y > wallU.pos.y:\n",
    "         ball12.velocity.y = -ball12.velocity.y\n",
    "    if ball12.pos.y < wallD.pos.y:\n",
    "         ball12.velocity.y = -ball12.velocity.y\n",
    "    if ball12.pos.z < wallB.pos.z:\n",
    "        ball12.velocity.z = -ball12.velocity.z\n",
    "    if ball12.pos.z > +6:\n",
    "        ball12.velocity.z = -ball12.velocity.z\n",
    "    \n",
    "    ball12.pos = ball12.pos + ball12.velocity*deltat\n",
    "    ball12.trail.append(pos=ball12.pos)\n",
    "    \n",
    "    if ball13.pos.x > wallR.pos.x:\n",
    "         ball13.velocity.x = -ball13.velocity.x\n",
    "    if ball13.pos.x < wallL.pos.x:\n",
    "         ball13.velocity.x = -ball13.velocity.x\n",
    "    if ball13.pos.y > wallU.pos.y:\n",
    "         ball13.velocity.y = -ball13.velocity.y\n",
    "    if ball13.pos.y < wallD.pos.y:\n",
    "         ball13.velocity.y = -ball13.velocity.y\n",
    "    if ball13.pos.z < wallB.pos.z:\n",
    "        ball13.velocity.z = -ball13.velocity.z\n",
    "    if ball13.pos.z > +6:\n",
    "        ball13.velocity.z = -ball13.velocity.z\n",
    "    \n",
    "    ball13.pos = ball13.pos + ball13.velocity*deltat\n",
    "    ball13.trail.append(pos=ball13.pos)\n",
    "    \n",
    "    if ball14.pos.x > wallR.pos.x:\n",
    "         ball14.velocity.x = -ball14.velocity.x\n",
    "    if ball14.pos.x < wallL.pos.x:\n",
    "         ball14.velocity.x = -ball14.velocity.x\n",
    "    if ball14.pos.y > wallU.pos.y:\n",
    "         ball14.velocity.y = -ball14.velocity.y\n",
    "    if ball14.pos.y < wallD.pos.y:\n",
    "         ball14.velocity.y = -ball14.velocity.y\n",
    "    if ball14.pos.z < wallB.pos.z:\n",
    "        ball14.velocity.z = -ball14.velocity.z\n",
    "    if ball14.pos.z > +6:\n",
    "        ball14.velocity.z = -ball14.velocity.z\n",
    "    \n",
    "    ball14.pos = ball14.pos + ball14.velocity*deltat\n",
    "    ball14.trail.append(pos=ball14.pos)\n",
    "    \n",
    "    if ball15.pos.x > wallR.pos.x:\n",
    "         ball15.velocity.x = -ball15.velocity.x\n",
    "    if ball15.pos.x < wallL.pos.x:\n",
    "         ball15.velocity.x = -ball15.velocity.x\n",
    "    if ball15.pos.y > wallU.pos.y:\n",
    "         ball15.velocity.y = -ball15.velocity.y\n",
    "    if ball15.pos.y < wallD.pos.y:\n",
    "         ball15.velocity.y = -ball15.velocity.y\n",
    "    if ball15.pos.z < wallB.pos.z:\n",
    "        ball15.velocity.z = -ball15.velocity.z\n",
    "    if ball15.pos.z > +6:\n",
    "        ball15.velocity.z = -ball15.velocity.z\n",
    "    \n",
    "    ball15.pos = ball15.pos + ball15.velocity*deltat\n",
    "    ball15.trail.append(pos=ball15.pos)\n",
    "    \n",
    "    if ball16.pos.x > wallR.pos.x:\n",
    "         ball16.velocity.x = -ball16.velocity.x\n",
    "    if ball16.pos.x < wallL.pos.x:\n",
    "         ball16.velocity.x = -ball16.velocity.x\n",
    "    if ball16.pos.y > wallU.pos.y:\n",
    "         ball16.velocity.y = -ball16.velocity.y\n",
    "    if ball16.pos.y < wallD.pos.y:\n",
    "         ball16.velocity.y = -ball16.velocity.y\n",
    "    if ball16.pos.z < wallB.pos.z:\n",
    "        ball16.velocity.z = -ball16.velocity.z\n",
    "    if ball16.pos.z > +6:\n",
    "        ball16.velocity.z = -ball16.velocity.z\n",
    "    \n",
    "    ball16.pos = ball16.pos + ball16.velocity*deltat\n",
    "    ball16.trail.append(pos=ball16.pos)\n",
    "    \n",
    "    if ball17.pos.x > wallR.pos.x:\n",
    "         ball17.velocity.x = -ball17.velocity.x\n",
    "    if ball17.pos.x < wallL.pos.x:\n",
    "         ball17.velocity.x = -ball17.velocity.x\n",
    "    if ball17.pos.y > wallU.pos.y:\n",
    "         ball17.velocity.y = -ball17.velocity.y\n",
    "    if ball17.pos.y < wallD.pos.y:\n",
    "         ball17.velocity.y = -ball17.velocity.y\n",
    "    if ball17.pos.z < wallB.pos.z:\n",
    "        ball17.velocity.z = -ball17.velocity.z\n",
    "    if ball17.pos.z > +6:\n",
    "        ball17.velocity.z = -ball17.velocity.z\n",
    "    \n",
    "    ball17.pos = ball17.pos + ball17.velocity*deltat\n",
    "    ball17.trail.append(pos=ball17.pos)\n",
    "    \n",
    "    if ball18.pos.x > wallR.pos.x:\n",
    "         ball18.velocity.x = -ball18.velocity.x\n",
    "    if ball18.pos.x < wallL.pos.x:\n",
    "         ball18.velocity.x = -ball18.velocity.x\n",
    "    if ball18.pos.y > wallU.pos.y:\n",
    "         ball18.velocity.y = -ball18.velocity.y\n",
    "    if ball18.pos.y < wallD.pos.y:\n",
    "         ball18.velocity.y = -ball18.velocity.y\n",
    "    if ball18.pos.z < wallB.pos.z:\n",
    "        ball18.velocity.z = -ball18.velocity.z\n",
    "    if ball18.pos.z > +6:\n",
    "        ball18.velocity.z = -ball18.velocity.z\n",
    "    \n",
    "    ball18.pos = ball18.pos + ball18.velocity*deltat\n",
    "    ball18.trail.append(pos=ball18.pos)\n",
    "    \n",
    "    if ball19.pos.x > wallR.pos.x:\n",
    "         ball19.velocity.x = -ball19.velocity.x\n",
    "    if ball19.pos.x < wallL.pos.x:\n",
    "         ball19.velocity.x = -ball19.velocity.x\n",
    "    if ball19.pos.y > wallU.pos.y:\n",
    "         ball19.velocity.y = -ball19.velocity.y\n",
    "    if ball19.pos.y < wallD.pos.y:\n",
    "         ball19.velocity.y = -ball19.velocity.y\n",
    "    if ball19.pos.z < wallB.pos.z:\n",
    "        ball19.velocity.z = -ball19.velocity.z\n",
    "    if ball19.pos.z > +6:\n",
    "        ball19.velocity.z = -ball19.velocity.z\n",
    "    \n",
    "    ball19.pos = ball19.pos + ball19.velocity*deltat\n",
    "    ball19.trail.append(pos=ball19.pos)\n",
    "    \n",
    "    if ball20.pos.x > wallR.pos.x:\n",
    "         ball20.velocity.x = -ball20.velocity.x\n",
    "    if ball20.pos.x < wallL.pos.x:\n",
    "         ball20.velocity.x = -ball20.velocity.x\n",
    "    if ball20.pos.y > wallU.pos.y:\n",
    "         ball20.velocity.y = -ball20.velocity.y\n",
    "    if ball20.pos.y < wallD.pos.y:\n",
    "         ball20.velocity.y = -ball20.velocity.y\n",
    "    if ball20.pos.z < wallB.pos.z:\n",
    "        ball20.velocity.z = -ball20.velocity.z\n",
    "    if ball20.pos.z > +6:\n",
    "        ball20.velocity.z = -ball20.velocity.z\n",
    "    \n",
    "    ball20.pos = ball20.pos + ball20.velocity*deltat\n",
    "    ball20.trail.append(pos=ball20.pos)\n",
    "    \n",
    "    t = t + deltat"
   ]
  },
  {
   "cell_type": "code",
   "execution_count": null,
   "metadata": {
    "collapsed": true
   },
   "outputs": [],
   "source": []
  }
 ],
 "metadata": {
  "kernelspec": {
   "display_name": "Python 2",
   "language": "python",
   "name": "python2"
  },
  "language_info": {
   "codemirror_mode": {
    "name": "ipython",
    "version": 2
   },
   "file_extension": ".py",
   "mimetype": "text/x-python",
   "name": "python",
   "nbconvert_exporter": "python",
   "pygments_lexer": "ipython2",
   "version": "2.7.9"
  }
 },
 "nbformat": 4,
 "nbformat_minor": 0
}
