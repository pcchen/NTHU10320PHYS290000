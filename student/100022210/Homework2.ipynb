{
 "metadata": {
  "name": "",
  "signature": "sha256:d900014510fe28c7020c26da7d78d284af762b2f3a2a8856a589c9a8200519b7"
 },
 "nbformat": 3,
 "nbformat_minor": 0,
 "worksheets": [
  {
   "cells": [
    {
     "cell_type": "markdown",
     "metadata": {},
     "source": [
      "# Homework 2"
     ]
    },
    {
     "cell_type": "markdown",
     "metadata": {},
     "source": [
      "## Problem 1\n",
      "\n",
      "The Catalan numbers $C_n$ are a sequence of integers 1, 1, 2, 5, 14, 42, 132. . . that play an important role in quantum mechanics and the theory of disordered systems.\n",
      "They are given by\n",
      "\n",
      "$$\n",
      "  \\Large\n",
      "  C_0 = 1, \\;\n",
      "  C_{n+1} = \\frac{4n+2}{n+2} C_n.\n",
      "$$\n",
      "\n",
      "Write a program that prints in increasing order all Catalan numbers less than or equal to one billion."
     ]
    },
    {
     "cell_type": "code",
     "collapsed": false,
     "input": [
      "# Problem 1\n",
      "n=0\n",
      "s=1\n",
      "while s<1000000000:\n",
      "    print s\n",
      "    s=(4*n+2)*s/(n+2)\n",
      "    n=n+1\n",
      "    \n",
      "\n"
     ],
     "language": "python",
     "metadata": {},
     "outputs": [
      {
       "output_type": "stream",
       "stream": "stdout",
       "text": [
        "1\n",
        "1\n",
        "2\n",
        "5\n",
        "14\n",
        "42\n",
        "132\n",
        "429\n",
        "1430\n",
        "4862\n",
        "16796\n",
        "58786\n",
        "208012\n",
        "742900\n",
        "2674440\n",
        "9694845\n",
        "35357670\n",
        "129644790\n",
        "477638700\n"
       ]
      }
     ],
     "prompt_number": 1
    },
    {
     "cell_type": "markdown",
     "metadata": {},
     "source": [
      "## Problem 2\n",
      "\n",
      "The Madelung constant gives the total electric potential felt by an atom in a solid. Consider for instance solid sodium chloride. The crystal has atoms arranged on a cubic lattice, but with alternating sodium and chlorine atoms, the sodium ones having a $+e$ charge and the chlorine has a $\u2212e$ charge. If we label each position on the lattice by three integers $(i,j,k)$, the sodium atoms fall at positions where $i +j +k$ is even, and the chlorine atoms at positions where $i +j +k$ is odd.\n",
      "\n",
      "Consider a sodium atom at the origin, $i = j = k = 0$. Assume the lattice constant is a and a cubic box around the sodium at the origin, with $L$ atoms in all directions. The potential at the origin created by atoms at $(i,j,k)$ is\n",
      "\n",
      "$$\n",
      "  \\Large\n",
      "  V(i,j,k) = \\pm V_0 \\frac{1}{\\sqrt{i^2+j^2+k^2}}, \\;\n",
      "  V_0 = \\frac{e}{4\\pi \\epsilon_0 a},\n",
      "$$\n",
      "where the sign depends on whether $i + j + k$ is even or odd.\n",
      "\n",
      "Then \n",
      "\n",
      "$$\n",
      "  \\Large\n",
      "  V_{tot} = {\\sum_{i,\\; j,\\; k =-L,\\; \\; (i,j,k)\\neq (0,0,0) }^{L}} V(i,j,k) = V_0 M_L\n",
      "$$\n",
      "\n",
      "where $M_L$ is the approximated Madelung constant. The exact Madelung constant can be obtained by $M =\\lim_{L \\rightarrow \\infty } M_L$.\n",
      "\n",
      "Write a program to calculate and print $M_L$ for a given $L$. Use as large a value of $L$ as you can while still having your program run in reasonable time, to estimate the value of $M$. You can print a table of $L$, $M_L$ up to some $L_{max}$.\n",
      "\n",
      "Hint: the correct answer is about \u22121.748."
     ]
    },
    {
     "cell_type": "code",
     "collapsed": false,
     "input": [
      "# Problem 2"
     ],
     "language": "python",
     "metadata": {},
     "outputs": []
    },
    {
     "cell_type": "markdown",
     "metadata": {},
     "source": [
      "## Problem 3\n",
      "\n",
      "Write a program to find all the primes up to 10,000  by using following rules.\n",
      "\n",
      "* A number $n$ is a prime if it has no prime factors less than $n$. Hence we only need to check if it is divisible by other primes.\n",
      "\n",
      "* To determine if a number is prime we have to check its prime factors only up to and including $\\sqrt{n}$. If there are none prime-factor then the number is prime.\n",
      "\n",
      "* \ufffc\ufffcIf we find even a single prime factor less than that the number is non-prime.\n",
      "\n",
      "Hint: Create a list to store the primes, which starts out with just one prime number 2 it it. For each number from 3 to 10000 check whether the number is divisible by any of the primes in the list up to and including $\\sqrt{n}$. If you find no prime factors then n is prime and you should add it to the list."
     ]
    },
    {
     "cell_type": "code",
     "collapsed": false,
     "input": [
      "# Problem 3\n",
      "prime = [2]\n",
      "n=3\n",
      "if n<=10000:\n",
      "    for x in range(len(prime)):\n",
      "        if n**0.5%x!=0:\n",
      "            prime.append(n)\n",
      "            n=n+1\n",
      "        else:\n",
      "            n=n+1\n"
     ],
     "language": "python",
     "metadata": {},
     "outputs": [
      {
       "ename": "ZeroDivisionError",
       "evalue": "float modulo",
       "output_type": "pyerr",
       "traceback": [
        "\u001b[1;31m---------------------------------------------------------------------------\u001b[0m\n\u001b[1;31mZeroDivisionError\u001b[0m                         Traceback (most recent call last)",
        "\u001b[1;32m<ipython-input-2-d363c95d28e0>\u001b[0m in \u001b[0;36m<module>\u001b[1;34m()\u001b[0m\n\u001b[0;32m      4\u001b[0m \u001b[1;32mif\u001b[0m \u001b[0mn\u001b[0m\u001b[1;33m<=\u001b[0m\u001b[1;36m10000\u001b[0m\u001b[1;33m:\u001b[0m\u001b[1;33m\u001b[0m\u001b[0m\n\u001b[0;32m      5\u001b[0m     \u001b[1;32mfor\u001b[0m \u001b[0mx\u001b[0m \u001b[1;32min\u001b[0m \u001b[0mrange\u001b[0m\u001b[1;33m(\u001b[0m\u001b[0mlen\u001b[0m\u001b[1;33m(\u001b[0m\u001b[0mprime\u001b[0m\u001b[1;33m)\u001b[0m\u001b[1;33m)\u001b[0m\u001b[1;33m:\u001b[0m\u001b[1;33m\u001b[0m\u001b[0m\n\u001b[1;32m----> 6\u001b[1;33m         \u001b[1;32mif\u001b[0m \u001b[0mn\u001b[0m\u001b[1;33m**\u001b[0m\u001b[1;36m0.5\u001b[0m\u001b[1;33m%\u001b[0m\u001b[0mx\u001b[0m\u001b[1;33m!=\u001b[0m\u001b[1;36m0\u001b[0m\u001b[1;33m:\u001b[0m\u001b[1;33m\u001b[0m\u001b[0m\n\u001b[0m\u001b[0;32m      7\u001b[0m             \u001b[0mprime\u001b[0m\u001b[1;33m.\u001b[0m\u001b[0mappend\u001b[0m\u001b[1;33m(\u001b[0m\u001b[0mn\u001b[0m\u001b[1;33m)\u001b[0m\u001b[1;33m\u001b[0m\u001b[0m\n\u001b[0;32m      8\u001b[0m             \u001b[0mn\u001b[0m\u001b[1;33m=\u001b[0m\u001b[0mn\u001b[0m\u001b[1;33m+\u001b[0m\u001b[1;36m1\u001b[0m\u001b[1;33m\u001b[0m\u001b[0m\n",
        "\u001b[1;31mZeroDivisionError\u001b[0m: float modulo"
       ]
      }
     ],
     "prompt_number": 2
    },
    {
     "cell_type": "markdown",
     "metadata": {},
     "source": [
      "## Problem 4\n",
      "\n",
      "Write a function called `nested_sum` that takes a nested list of integers and add up the elements from all of the nested lists. "
     ]
    },
    {
     "cell_type": "code",
     "collapsed": false,
     "input": [
      "# Problem 4\n",
      "# Hint, you can use `isinstance` to check if a variable is a list or not\n",
      "t = [1, 2, [1, 1, 1]]\n",
      "for x in t:\n",
      "    if isinstance(x, list):\n",
      "        print x, 'is a list'\n",
      "    else:\n",
      "        print x, 'is not a list'"
     ],
     "language": "python",
     "metadata": {},
     "outputs": [
      {
       "output_type": "stream",
       "stream": "stdout",
       "text": [
        "1 is not a list\n",
        "2 is not a list\n",
        "[1, 1, 1] is a list\n"
       ]
      }
     ],
     "prompt_number": 14
    },
    {
     "cell_type": "markdown",
     "metadata": {},
     "source": [
      "## Problem 5\n",
      "\n",
      "Write a function that takes a list of numbers and returns the cumulative sum; that is, a **new** list where the ith element is the sum of the first i+1 elements from the original list. For example, the cumulative sum of [1, 2, 3] is [1, 3, 6]."
     ]
    },
    {
     "cell_type": "code",
     "collapsed": false,
     "input": [
      "# Problem 5\n",
      "\n",
      "def cumu(t):\n",
      "    new=[]\n",
      "    n=1\n",
      "    for n<=len(t):\n",
      "        new.append(sum(t[0:n]))\n",
      "        print new\n",
      "        n=n+1\n",
      "\n",
      "cumu([1,2,3,4])\n",
      "\n",
      "        "
     ],
     "language": "python",
     "metadata": {},
     "outputs": [
      {
       "ename": "SyntaxError",
       "evalue": "invalid syntax (<ipython-input-12-eb279f686a92>, line 6)",
       "output_type": "pyerr",
       "traceback": [
        "\u001b[1;36m  File \u001b[1;32m\"<ipython-input-12-eb279f686a92>\"\u001b[1;36m, line \u001b[1;32m6\u001b[0m\n\u001b[1;33m    for n<=len(t):\u001b[0m\n\u001b[1;37m          ^\u001b[0m\n\u001b[1;31mSyntaxError\u001b[0m\u001b[1;31m:\u001b[0m invalid syntax\n"
       ]
      }
     ],
     "prompt_number": 12
    },
    {
     "cell_type": "markdown",
     "metadata": {},
     "source": [
      "## Problem 6\n",
      "\n",
      "Write a function called `middle` that takes a list and returns a **new** list that contains all but the first and last elements. So `middle([1,2,3,4])` should return `[2,3]`."
     ]
    },
    {
     "cell_type": "code",
     "collapsed": false,
     "input": [
      "# Problem 6\n",
      "def middle(t):\n",
      "    new=t[1:len(t)-1]\n",
      "    return new\n",
      "\n",
      "t=[1,2,3,4]\n",
      "print middle(t)"
     ],
     "language": "python",
     "metadata": {},
     "outputs": [
      {
       "output_type": "stream",
       "stream": "stdout",
       "text": [
        "[2, 3]\n"
       ]
      }
     ],
     "prompt_number": 4
    },
    {
     "cell_type": "markdown",
     "metadata": {},
     "source": [
      "## Problem 7\n",
      "\n",
      "Write a function called `chop` that takes a list, modifies it by removing the first and last elements, and returns `None`."
     ]
    },
    {
     "cell_type": "code",
     "collapsed": false,
     "input": [
      "# Problem 7\n",
      "def chop(t):\n",
      "    del t[0]\n",
      "    del t[len(t)-1]\n",
      "    print t\n",
      "    return None\n",
      "chop([1,2,3,4])"
     ],
     "language": "python",
     "metadata": {},
     "outputs": [
      {
       "output_type": "stream",
       "stream": "stdout",
       "text": [
        "[2, 3]\n"
       ]
      }
     ],
     "prompt_number": 5
    },
    {
     "cell_type": "markdown",
     "metadata": {},
     "source": [
      "## Problem 8\n",
      "\n",
      "Write a program that reads the words from the `words.txt` and then find all the words with three consecutive double letters. That is, all the words which contain a sub-string of the form `'xxyyzz'` where `x`,`y`,`z` are arbitrary letters. "
     ]
    },
    {
     "cell_type": "code",
     "collapsed": false,
     "input": [
      "# problem 8\n",
      "open('words.txt')\n"
     ],
     "language": "python",
     "metadata": {},
     "outputs": [
      {
       "metadata": {},
       "output_type": "pyout",
       "prompt_number": 15,
       "text": [
        "<open file 'words.txt', mode 'r' at 0x0000000003F1D6F0>"
       ]
      }
     ],
     "prompt_number": 15
    },
    {
     "cell_type": "code",
     "collapsed": false,
     "input": [
      "def triple_double(word):\n",
      "    previous = word[0]\n",
      "    for c in word:\n",
      "        if c < previous:\n",
      "            return False\n",
      "        previous = c\n",
      "    return True\n",
      "\n",
      "fin = open('words.txt')\n",
      "count = 0\n",
      "count_is_abecedarian = 0 \n",
      "for line in fin:\n",
      "    count = count + 1\n",
      "    word = line.strip()\n",
      "    if is_abecedarian(word):\n",
      "        print word\n",
      "        count_is_abecedarian += 1\n",
      "    "
     ],
     "language": "python",
     "metadata": {},
     "outputs": [
      {
       "ename": "SyntaxError",
       "evalue": "invalid syntax (<ipython-input-17-28a665fb541a>, line 2)",
       "output_type": "pyerr",
       "traceback": [
        "\u001b[1;36m  File \u001b[1;32m\"<ipython-input-17-28a665fb541a>\"\u001b[1;36m, line \u001b[1;32m2\u001b[0m\n\u001b[1;33m    if word[n]=word[n+1] and word[n+2]=word[n+3] and word[n+4]=word[n+5]:\u001b[0m\n\u001b[1;37m              ^\u001b[0m\n\u001b[1;31mSyntaxError\u001b[0m\u001b[1;31m:\u001b[0m invalid syntax\n"
       ]
      }
     ],
     "prompt_number": 17
    },
    {
     "cell_type": "code",
     "collapsed": false,
     "input": [],
     "language": "python",
     "metadata": {},
     "outputs": []
    }
   ],
   "metadata": {}
  }
 ]
}