{
 "metadata": {
  "name": "",
  "signature": "sha256:ca8e1024cc2311621847cfa26df166b6ff6de3ef34292235891cb28c42bf65fe"
 },
 "nbformat": 3,
 "nbformat_minor": 0,
 "worksheets": [
  {
   "cells": [
    {
     "cell_type": "markdown",
     "metadata": {},
     "source": [
      "# Problem 1:\n",
      "# String and Dictionary\n",
      "\n",
      "In the first part, you should create a dictionary with following mapping between characters (character=one character string).\n",
      "* dic['a']='z'\n",
      "* dic['b']='y'\n",
      "* ...\n",
      "* dic['y']='b'\n",
      "* dic['z']='a'\n",
      "\n",
      "You should use built-in function `ord` and `chr` to build the dictionary. \n",
      "* The function `ord` convert a character into an integer. \n",
      "* The function `chr` convert an integer into a character. \n",
      "\n",
      "Here are some examples:"
     ]
    },
    {
     "cell_type": "code",
     "collapsed": false,
     "input": [
      "print ord('a'), ord('b'), ord('y'), ord('z')"
     ],
     "language": "python",
     "metadata": {},
     "outputs": [
      {
       "output_type": "stream",
       "stream": "stdout",
       "text": [
        "97 98 121 122\n"
       ]
      }
     ],
     "prompt_number": 1
    },
    {
     "cell_type": "code",
     "collapsed": false,
     "input": [
      "print chr(97), chr(98), chr(121), chr(122)"
     ],
     "language": "python",
     "metadata": {},
     "outputs": [
      {
       "output_type": "stream",
       "stream": "stdout",
       "text": [
        "a b y z\n"
       ]
      }
     ],
     "prompt_number": 2
    },
    {
     "cell_type": "markdown",
     "metadata": {},
     "source": [
      "Please implement a function called `inverse(c)` that gives you the mapping."
     ]
    },
    {
     "cell_type": "code",
     "collapsed": false,
     "input": [
      "# define inverse(c) here, you should have\n",
      "# inverse('a') --> 'z'\n",
      "# inverse('z') --> 'a'\n",
      "d=dict()\n",
      "for i in range(26):\n",
      "    if chr(i+97) not in d:\n",
      "        d[chr(i+97)]=chr(122-i)\n",
      "#print d    \n",
      "\n",
      "def inverse(c):\n",
      "    x=d[c]\n",
      "    return x\n",
      "\n",
      "# test your function\n",
      "print inverse('a')  # inverse('a') --> 'z'\n",
      "print inverse('z')  # inverse('z') --> 'a'"
     ],
     "language": "python",
     "metadata": {},
     "outputs": [
      {
       "output_type": "stream",
       "stream": "stdout",
       "text": [
        "z\n",
        "a\n"
       ]
      }
     ],
     "prompt_number": 15
    },
    {
     "cell_type": "markdown",
     "metadata": {},
     "source": [
      "Please create the inverse mapping dictionary: `dic`."
     ]
    },
    {
     "cell_type": "code",
     "collapsed": false,
     "input": [
      "# create the inverse mapping dictionary\n",
      "dic = {}\n",
      "for i in range(26):\n",
      "    if chr(i+97) not in dic:\n",
      "        dic[chr(i+97)]=chr(122-i)\n",
      "\n",
      "# test your dictionary\n",
      "print dic"
     ],
     "language": "python",
     "metadata": {},
     "outputs": [
      {
       "output_type": "stream",
       "stream": "stdout",
       "text": [
        "{'a': 'z', 'c': 'x', 'b': 'y', 'e': 'v', 'd': 'w', 'g': 't', 'f': 'u', 'i': 'r', 'h': 's', 'k': 'p', 'j': 'q', 'm': 'n', 'l': 'o', 'o': 'l', 'n': 'm', 'q': 'j', 'p': 'k', 's': 'h', 'r': 'i', 'u': 'f', 't': 'g', 'w': 'd', 'v': 'e', 'y': 'b', 'x': 'c', 'z': 'a'}\n"
       ]
      }
     ],
     "prompt_number": 14
    },
    {
     "cell_type": "markdown",
     "metadata": {},
     "source": [
      "In the second step, you should use the dictionary you construct to write a function that takes a string as an argument and return a string with inverse characters.\n",
      "\n",
      "Please implement the string inversion function `str_inversion'. You should get, for example,\n",
      "\n",
      "``\n",
      "print str_inversion('abc')\n",
      "zyx\n",
      "``"
     ]
    },
    {
     "cell_type": "code",
     "collapsed": false,
     "input": [
      "# str_inversion\n",
      "def str_inversion(s):\n",
      "    x=range(len(s))\n",
      "    y=range(len(s))\n",
      "    for i in x:\n",
      "        y[i]=dic[s[i]]\n",
      "    n=''\n",
      "    for c in y:\n",
      "        n=n+c\n",
      "    return n"
     ],
     "language": "python",
     "metadata": {},
     "outputs": [],
     "prompt_number": 25
    },
    {
     "cell_type": "code",
     "collapsed": false,
     "input": [
      "# test your function\n",
      "print str_inversion('abc')"
     ],
     "language": "python",
     "metadata": {},
     "outputs": [
      {
       "output_type": "stream",
       "stream": "stdout",
       "text": [
        "zyx\n"
       ]
      }
     ],
     "prompt_number": 27
    },
    {
     "cell_type": "code",
     "collapsed": false,
     "input": [],
     "language": "python",
     "metadata": {},
     "outputs": []
    }
   ],
   "metadata": {}
  }
 ]
}