{
 "metadata": {
  "name": "",
  "signature": "sha256:0376a73404d4e72bd630816a530b951d69f769ebf58aca4c909f9df2f55e41df"
 },
 "nbformat": 3,
 "nbformat_minor": 0,
 "worksheets": [
  {
   "cells": [
    {
     "cell_type": "markdown",
     "metadata": {},
     "source": [
      "# Problem 2:\n",
      "# Sorting a List\n",
      "\n",
      "In this problem you should\n",
      "* Implement the **selection sort** algorithm.\n",
      "* Implement the **insertion sort** algorithm.\n",
      "* Create a list of N-elements where each element is a random integer between 0, 1, 2, ..., N-1.\n",
      "* Use your implementation of the selection sort and insertion sort to sort the the random list above.\n",
      "* Use built-in function `sorted()` that builds a new sorted list to show that your implementation is correct.\n",
      "\n",
      "## Selection sort\n",
      "\n",
      "Following is the algorithm of the **selection sort**:\n",
      "\n",
      "* Divide the input list into two sub-lists:\n",
      " * Sorted sub-list (Start with an empty list).\n",
      " * Un-Sorted sub-list.\n",
      "* Find the smallest element in the unsorted list.\n",
      "* Swap with the leftmost unsorted element.\n",
      "* Move the sub-list boundaries.\n",
      "\n",
      "Following is an example of selection sort:\n",
      "<img src=\"SelectionSort.png\" width=\"800\">\n",
      "\n",
      "## Insertion sort\n",
      "\n",
      "Following is the algorithm of the **insertion sort**:\n",
      "\n",
      "* Divide the input list into two sub-lists:\n",
      " * Sorted sub-list (Start with the leftmost element).\n",
      " * Un-Sorted sub-list.\n",
      "* Insert the leftmost element of the unsorted sub-list into the proper position of the sorted sub-list.\n",
      "* Move the sub-list boundaries \n",
      "\n",
      "Following is an example of selection sort:\n",
      "<img src=\"InsertionSort.png\" width=\"800\">"
     ]
    },
    {
     "cell_type": "markdown",
     "metadata": {},
     "source": [
      "Please write your code based on the sketch below and use the test code below to show that your function works properly."
     ]
    },
    {
     "cell_type": "code",
     "collapsed": false,
     "input": [
      "import random\n",
      "# create a random list with N elements\n",
      "def random_list(N):\n",
      "    a=random.sample(range(10000), N)\n",
      "    return a\n",
      "print random_list(10)\n",
      "# selection sort\n",
      "def selection_sort(alist):\n",
      "    for fillslot in range(len(alist)-1,0,-1):\n",
      "       positionOfMax=0\n",
      "       for location in range(1,fillslot+1):\n",
      "           if alist[location]>alist[positionOfMax]:\n",
      "               positionOfMax = location\n",
      "       temp = alist[fillslot]\n",
      "       alist[fillslot] = alist[positionOfMax]\n",
      "       alist[positionOfMax] = temp\n",
      "                \n",
      "alist = random_list(10)\n",
      "print alist\n",
      "selection_sort(alist)\n",
      "print alist\n",
      "# insertion sort\n",
      "def insertion_sort(alist):\n",
      "    for index in range(1,len(alist)):\n",
      "     currentvalue = alist[index]\n",
      "     position = index\n",
      "     while position>0 and alist[position-1]>currentvalue:\n",
      "         alist[position]=alist[position-1]\n",
      "         position = position-1\n",
      "     alist[position]=currentvalue\n",
      "alist = random_list(10)\n",
      "print alist\n",
      "insertion_sort(alist)\n",
      "print alist"
     ],
     "language": "python",
     "metadata": {},
     "outputs": [
      {
       "output_type": "stream",
       "stream": "stdout",
       "text": [
        "[3349, 2943, 1302, 6174, 4006, 4626, 8438, 725, 6972, 7507]\n",
        "[9308, 4529, 485, 8794, 5492, 4762, 2046, 311, 3338, 5356]\n",
        "[311, 485, 2046, 3338, 4529, 4762, 5356, 5492, 8794, 9308]\n",
        "[9463, 4205, 2580, 5322, 5793, 9239, 8922, 9977, 8368, 5125]\n",
        "[2580, 4205, 5125, 5322, 5793, 8368, 8922, 9239, 9463, 9977]\n"
       ]
      }
     ],
     "prompt_number": 3
    },
    {
     "cell_type": "code",
     "collapsed": false,
     "input": [
      "# test the implementation of selection sort\n",
      "N = 10\n",
      "L = random_list(N)\n",
      "L_sorted = sorted(L)\n",
      "selection_sort(L)\n",
      "\n",
      "for i in range(len(L)):\n",
      "    if L[i] != L_sorted[i]:\n",
      "        print 'oops!'    "
     ],
     "language": "python",
     "metadata": {},
     "outputs": [],
     "prompt_number": 2
    },
    {
     "cell_type": "code",
     "collapsed": false,
     "input": [
      "# test the implementation of insertion sort\n",
      "N = 10\n",
      "L = random_list(N)\n",
      "L_sorted = sorted(L)\n",
      "insertion_sort(L)\n",
      "\n",
      "for i in range(len(L)):\n",
      "    if L[i] != L_sorted[i]:\n",
      "        print 'oops!'    "
     ],
     "language": "python",
     "metadata": {},
     "outputs": [],
     "prompt_number": 3
    },
    {
     "cell_type": "code",
     "collapsed": false,
     "input": [
      "def selectionSort(alist):\n",
      "   for fillslot in range(len(alist)-1,0,-1):\n",
      "       positionOfMax=0\n",
      "       for location in range(1,fillslot+1):\n",
      "           if alist[location]>alist[positionOfMax]:\n",
      "               positionOfMax = location\n",
      "\n",
      "       temp = alist[fillslot]\n",
      "       alist[fillslot] = alist[positionOfMax]\n",
      "       alist[positionOfMax] = temp\n",
      "\n",
      "alist = [16,77,25,85,12,8,36,]\n",
      "selectionSort(alist)\n",
      "print(alist)\n"
     ],
     "language": "python",
     "metadata": {},
     "outputs": [
      {
       "output_type": "stream",
       "stream": "stdout",
       "text": [
        "[8, 12, 16, 25, 36, 77, 85]\n"
       ]
      }
     ],
     "prompt_number": 2
    },
    {
     "cell_type": "code",
     "collapsed": false,
     "input": [],
     "language": "python",
     "metadata": {},
     "outputs": []
    }
   ],
   "metadata": {}
  }
 ]
}