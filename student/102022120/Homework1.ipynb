{
 "metadata": {
  "name": "",
  "signature": "sha256:c02ed212bcdbfde40c879d182c7cc2ce7ca2a7c57c6cea27408d0f3d246b19e6"
 },
 "nbformat": 3,
 "nbformat_minor": 0,
 "worksheets": [
  {
   "cells": [
    {
     "cell_type": "markdown",
     "metadata": {},
     "source": [
      "# Homework 1"
     ]
    },
    {
     "cell_type": "markdown",
     "metadata": {},
     "source": [
      "## Problem 1.1\n",
      "\n",
      "Write some code that prints the words `Hello, World'."
     ]
    },
    {
     "cell_type": "code",
     "collapsed": false,
     "input": [
      "print'Hello, World'"
     ],
     "language": "python",
     "metadata": {},
     "outputs": [
      {
       "output_type": "stream",
       "stream": "stdout",
       "text": [
        "Hello, World\n"
       ]
      }
     ],
     "prompt_number": 2
    },
    {
     "cell_type": "markdown",
     "metadata": {},
     "source": [
      "## Problem 1.2\n",
      "\n",
      "Python provides a built-in function called `len` that returns the length of a string, so the value of `len('allen')` is `5`.\n",
      "\n",
      "Write a function named `right_justify` that takes a string named `s` as a parameter and prints the string with enough leading spaces so that the last letter of the string is in column 70 of the display.\n",
      "\n",
      "Write some code to demonstrate the usage of your `right_justify` function.\n",
      "\n",
      "``\n",
      "right_justify('allen')\n",
      "                                                                 allen\n",
      "right_justify('homework')\n",
      "                                                              homework\n",
      "right_justify('cat')\n",
      "                                                                   cat\n",
      "``"
     ]
    },
    {
     "cell_type": "code",
     "collapsed": false,
     "input": [
      "def right_justify(s):\n",
      "    print \"                                                                 \" + s    \n",
      "\n",
      "right_justify('allen')"
     ],
     "language": "python",
     "metadata": {},
     "outputs": [
      {
       "output_type": "stream",
       "stream": "stdout",
       "text": [
        "                                                                 allen\n"
       ]
      }
     ],
     "prompt_number": 3
    },
    {
     "cell_type": "markdown",
     "metadata": {},
     "source": [
      "## Problem 1.3\n",
      "\n",
      "### Exercise 3.4 \n",
      "\n",
      "A **function object** is a value you can assign to a variable or pass as an argument. For example, `do_twice` is a function that takes a function object as an argument and calls it twice:\n",
      "\n",
      "``\n",
      "def do_twice(f):\n",
      "    f()\n",
      "    f()\n",
      "``\n",
      "\n",
      "Here\u2019s an example that uses `do_twice` to call a function named `print_spam` twice.\n",
      "\n",
      "``def print_spam():\n",
      "    print 'spam'``\n",
      "\n",
      "``    \n",
      "do_twice(print_spam)\n",
      "``\n",
      "\n",
      "1. Type this example into a script and test it.\n",
      "2. Modify `do_twice` so that it takes two arguments, a function object and a value, and calls the function twice, passing the value as an argument.\n",
      "3. Write a more general version of `print_spam`, called `print_twice`, that takes a string as a parameter and prints it twice.\n",
      "4. Use the modified version of `do_twice` to call `print_twice` twice, passing `'spam'` as an argument.\n",
      "5. Define a new function called `do_four` that takes a function object and a value and calls the function four times, passing the value as a parameter. There should be only two statements in the body of this function, not four.\n",
      "\n",
      "Write some code to demonstrate the usage above functions."
     ]
    },
    {
     "cell_type": "code",
     "collapsed": false,
     "input": [
      "# Part One\n",
      "def do_twice(f,x):\n",
      "    f(x)\n",
      "    f(x)\n",
      "\n",
      "def print_twice(printx):\n",
      "    print printx\n",
      "\n",
      "x = 'spam'\n",
      "\n",
      "do_twice(print_twice, x)\n",
      "\n",
      "# Part Two\n",
      "def do_twice(f, x):\n",
      "    f(x)\n",
      "    f(x)\n",
      "\n",
      "def print_twice(printx):\n",
      "    print printx\n",
      "\n",
      "def do_four(f, x):\n",
      "    do_twice(f, x)\n",
      "    do_twice(f, x)\n",
      "\n",
      "x = 'spam'\n",
      "\n",
      "do_four(print_twice, val)"
     ],
     "language": "python",
     "metadata": {},
     "outputs": [
      {
       "output_type": "stream",
       "stream": "stdout",
       "text": [
        "spam\n",
        "spam\n",
        "spam\n",
        "spam\n",
        "spam\n",
        "spam\n"
       ]
      }
     ],
     "prompt_number": 13
    },
    {
     "cell_type": "markdown",
     "metadata": {},
     "source": [
      "## Problem 1.4\n",
      "\n",
      "*This exercise can be done using only the statements and other features we have learned so far.*\n",
      "\n",
      "(1) Write a function that draws a grid like the following:\n",
      "\n",
      "\n",
      "    + - - - - + - - - - +\n",
      "    |         |         |\n",
      "    |         |         |\n",
      "    |         |         |\n",
      "    |         |         |\n",
      "    + - - - - + - - - - +\n",
      "    |         |         |\n",
      "    |         |         |\n",
      "    |         |         |\n",
      "    |         |         |\n",
      "    + - - - - + - - - - +\n",
      "\n",
      "\n",
      "Hint: to print more than one value on a line, you can print a comma-separated sequence:\n",
      "\n",
      "    print '+', '-'\n",
      "\n",
      "If the sequence ends with a comma, Python leaves the line unfinished, so the value printed next appears on the same line.\n",
      "\n",
      "\n",
      "    print '+', \n",
      "    print '-'\n",
      "\n",
      "The output of these statements is `'+ -'`.\n",
      "\n",
      "A `print` statement all by itself ends the current line and goes to the next line.\n",
      "\n",
      "(2) Write a function that draws a similar grid with four rows and four columns."
     ]
    },
    {
     "cell_type": "code",
     "collapsed": false,
     "input": [
      "def f(A):\n",
      "    print A\n",
      "   \n",
      "def g(B):\n",
      "    f(B)\n",
      "    print '|        |        |'\n",
      "    print '|        |        |'\n",
      "    print '|        |        |'\n",
      "    print '|        |        |'\n",
      "   \n",
      "def cat_twice(part1, part2):\n",
      "    cat = part1 + part2+part1+ part2+part1\n",
      "    g(cat)\n",
      "\n",
      "line1 = '+'\n",
      "line2 = '- - - - '\n",
      "\n",
      "cat_twice(line1, line2)\n",
      "def h():\n",
      "    g()\n",
      "    g()\n",
      "g('+- - - - +- - - - +')\n",
      "print '+- - - - +- - - - +' \n",
      "    "
     ],
     "language": "python",
     "metadata": {},
     "outputs": [
      {
       "output_type": "stream",
       "stream": "stdout",
       "text": [
        "+- - - - +- - - - +\n",
        "|        |        |\n",
        "|        |        |\n",
        "|        |        |\n",
        "|        |        |\n",
        "+- - - - +- - - - +\n",
        "|        |        |\n",
        "|        |        |\n",
        "|        |        |\n",
        "|        |        |\n",
        "+- - - - +- - - - +\n"
       ]
      }
     ],
     "prompt_number": 4
    },
    {
     "cell_type": "markdown",
     "metadata": {},
     "source": [
      "## Problem 1.5\n",
      "\n",
      "Write a **resursive function** called `do_n` that takes a function object and a number, `n`, as arguments, and that calls the given function n times."
     ]
    },
    {
     "cell_type": "code",
     "collapsed": false,
     "input": [
      "def f():\n",
      "   print 'A'\n",
      "def do_n(f, n):\n",
      "    if n <= 0:\n",
      "        return\n",
      "    f()\n",
      "    do_n(f, n-1)\n",
      "\n",
      "do_n( f,5)"
     ],
     "language": "python",
     "metadata": {},
     "outputs": [
      {
       "output_type": "stream",
       "stream": "stdout",
       "text": [
        "A\n",
        "A\n",
        "A\n",
        "A\n",
        "A\n"
       ]
      }
     ],
     "prompt_number": 48
    },
    {
     "cell_type": "markdown",
     "metadata": {},
     "source": [
      "## Problem 1.6\n",
      "\n",
      "Write some code that asks the user for the Cartesian coordinates $x$,$y$ of a point in 2D space, and calculate the print the corresponding polar coordinates, with the angle $\\theta$ given in degrees."
     ]
    },
    {
     "cell_type": "code",
     "collapsed": false,
     "input": [
      "import math\n",
      "\n",
      "def trans(x,y,):\n",
      "    dr=(x**2+y**2)\n",
      "    dth =math.atan(y/x)\n",
      "    result = math.sqrt(dr)\n",
      "    print dth, result\n",
      "trans(1,1)"
     ],
     "language": "python",
     "metadata": {},
     "outputs": [
      {
       "output_type": "stream",
       "stream": "stdout",
       "text": [
        "0.785398163397 1.41421356237\n"
       ]
      }
     ],
     "prompt_number": 55
    },
    {
     "cell_type": "markdown",
     "metadata": {},
     "source": [
      "## Problem 1.7\n",
      "\n",
      "Fermat\u2019s Last Theorem says that there are no positive integers $a$, $b$, and $c$ such that\n",
      "\n",
      "$$\n",
      "  a^n + b^n = c^n \n",
      "$$\n",
      "for any values of $n$ greater than 2.\n",
      "\n",
      "1. Write a function named `check_fermat` that takes four parameters\u2014`a`, `b`, `c` and `n`\u2014and that checks to see if Fermat\u2019s theorem holds.\n",
      " * If `n` is greater than 2 and it turns out to be true that $a^n + b^n = c^n$ \n",
      "the program should print, \u201cHoly smokes, Fermat was wrong!\u201d.\n",
      " * Otherwise the program should print, \u201cNo, that doesn\u2019t work.\u201d\n",
      "\n",
      "2. Write a function that prompts the user to input values for `a`, `b`, `c` and `n`, converts them to integers, and uses `check_fermat` to check whether they violate Fermat\u2019s theorem.\n",
      "\n"
     ]
    },
    {
     "cell_type": "code",
     "collapsed": false,
     "input": [
      "def check_fermat(a, b, c, n):\n",
      "    a, b, c, n = raw_input().split()\n",
      "    a = int(a)\n",
      "    b = int(b)\n",
      "    c = int(c)\n",
      "    n = int(n)\n",
      "    if n > 2 and a ** n + b ** n == c ** n:\n",
      "        print(\"\u201cHoly smokes, Fermat was wrong!\")\n",
      "    else:\n",
      "        print(\"No, that doesn\u2019t work.\")\n",
      "check_fermat(2,2,2,2)"
     ],
     "language": "python",
     "metadata": {},
     "outputs": [
      {
       "name": "stdout",
       "output_type": "stream",
       "stream": "stdout",
       "text": [
        "2 2 2 2\n"
       ]
      },
      {
       "output_type": "stream",
       "stream": "stdout",
       "text": [
        "No, that doesn\u2019t work.\n"
       ]
      }
     ],
     "prompt_number": 4
    },
    {
     "cell_type": "markdown",
     "metadata": {},
     "source": [
      "## Problem 1.8\n",
      "\n",
      "If you are given three sticks, you may or may not be able to arrange them in a triangle. For example, if one of the sticks is 12 inches long and the other two are one inch long, it is clear that you will not be able to get the short sticks to meet in the middle. For any three lengths, there is a simple test to see if it is possible to form a triangle:\n",
      "\n",
      "> If any of the three lengths is greater than the sum of the other two, then you cannot form a triangle. Otherwise, you can. \n",
      "> (If the sum of two lengths equals the third, they form what is called a \u201cdegenerate\u201d triangle.)\n",
      "\n",
      "1. Write a function named `is_triangle` that takes three integers as arguments, and that prints either \u201cYes\u201d or \u201cNo,\u201d depending on whether you can or cannot form a triangle from sticks with the given lengths.\n",
      "\n",
      "2. Write a function that prompts the user to input three stick lengths, converts them to integers, and uses `is_triangle` to check whether sticks with the given lengths can form a triangle"
     ]
    },
    {
     "cell_type": "code",
     "collapsed": false,
     "input": [
      "def triangle(x,y,z):\n",
      "    if x+y<=z:\n",
      "        print 'no'\n",
      "    elif x+z<=y:\n",
      "        print 'no'\n",
      "    elif y+z<=x:\n",
      "        print 'no'\n",
      "    else:\n",
      "        print 'yes'\n",
      "                \n",
      "triangle(1,1,1)"
     ],
     "language": "python",
     "metadata": {},
     "outputs": [
      {
       "output_type": "stream",
       "stream": "stdout",
       "text": [
        "yes\n"
       ]
      }
     ],
     "prompt_number": 1
    },
    {
     "cell_type": "markdown",
     "metadata": {},
     "source": [
      "## Problem 1.9\n",
      "\n",
      "Write a compare function that returns 1 if x > y, 0 if x == y, and -1 if x < y."
     ]
    },
    {
     "cell_type": "code",
     "collapsed": false,
     "input": [
      "def compare_func(x,y):\n",
      "    if x > y:\n",
      "        return 1\n",
      "    if x == y:\n",
      "        return 0\n",
      "    if x < y:\n",
      "        return -1\n",
      "    \n",
      "print compare_func(3,8)\n",
      "print compare_func(5,1)"
     ],
     "language": "python",
     "metadata": {},
     "outputs": [
      {
       "output_type": "stream",
       "stream": "stdout",
       "text": [
        "-1\n",
        "1\n"
       ]
      }
     ],
     "prompt_number": 58
    },
    {
     "cell_type": "markdown",
     "metadata": {},
     "source": [
      "## Problem 1.10\n",
      "\n",
      "The Ackermann function, $A(m, n)$, is defined:\n",
      "\n",
      "$$\n",
      "\\begin{eqnarray*}\n",
      "A(m, n) = \\begin{cases}\n",
      "              n+1 & \\mbox{if } m = 0 \\\\\n",
      "        A(m-1, 1) & \\mbox{if } m > 0 \\mbox{ and } n = 0 \\\\\n",
      "A(m-1, A(m, n-1)) & \\mbox{if } m > 0 \\mbox{ and } n > 0.\n",
      "\\end{cases}\n",
      "\\end{eqnarray*}\n",
      "$$\n",
      "\n",
      "See http://en.wikipedia.org/wiki/Ackermann_function.\n",
      "* Write a function named ack that evaluates Ackermann\u2019s function. \n",
      "* Use your function to evaluate $ack(3, 4)$, which should be 125.\n",
      "* What happens for larger values of m and n?"
     ]
    },
    {
     "cell_type": "code",
     "collapsed": false,
     "input": [
      "def ack(m,n):\n",
      "    if m==0:\n",
      "        return n+1\n",
      "    if m>0 and n==0:\n",
      "        return ack(m-1,1)\n",
      "    if m>0 and n>0:\n",
      "       return ack(m-1,ack(m,n-1))\n",
      "ack(3,4)"
     ],
     "language": "python",
     "metadata": {},
     "outputs": [
      {
       "metadata": {},
       "output_type": "pyout",
       "prompt_number": 6,
       "text": [
        "125"
       ]
      }
     ],
     "prompt_number": 6
    },
    {
     "cell_type": "markdown",
     "metadata": {},
     "source": [
      "## Problem 1.11\n",
      "\n",
      "A number, a, is a power of b if it is divisible by b and a/b is a power of b. Write a function called `is_power` that takes parameters a and b and returns True if a is a power of b. Note: you will have to think about the base case."
     ]
    },
    {
     "cell_type": "code",
     "collapsed": false,
     "input": [
      "def is_power(a, b):\n",
      "\n",
      "    if b == 1 or b == 0:\n",
      "        return False\n",
      "    \n",
      "    if a % b == 0:\n",
      "        if ((a / b) / b) == 1:\n",
      "            return True\n",
      "        else:\n",
      "            return ispower(a / b, b)\n",
      "        \n",
      "    else:\n",
      "        return False\n",
      "print is_power(8,2)"
     ],
     "language": "python",
     "metadata": {},
     "outputs": [
      {
       "output_type": "stream",
       "stream": "stdout",
       "text": [
        "True\n"
       ]
      }
     ],
     "prompt_number": 6
    },
    {
     "cell_type": "markdown",
     "metadata": {},
     "source": [
      "## Problem 1.12\n",
      "\n",
      "The greatest common divisor (GCD) of a and b is the largest number that divides both of them with no remainder.\n",
      "\n",
      "One way to find the GCD of two numbers is based on the observation that if r is the remainder when a is divided by b, then gcd(a, b) = gcd(b, r). As a base case, we can use gcd(a, 0) = a.\n",
      "\n",
      "Write a function called `gcd` that takes parameters a and b and returns their greatest common divisor."
     ]
    },
    {
     "cell_type": "code",
     "collapsed": false,
     "input": [
      "def gcd(a,b):\n",
      "    if b > a:\n",
      "        return gcd(b,a)\n",
      "    r = a%b\n",
      "    if r == 0:\n",
      "        return b\n",
      "    return gcd(r,b)\n",
      "gcd(3,6)"
     ],
     "language": "python",
     "metadata": {},
     "outputs": [
      {
       "metadata": {},
       "output_type": "pyout",
       "prompt_number": 8,
       "text": [
        "3"
       ]
      }
     ],
     "prompt_number": 8
    },
    {
     "cell_type": "code",
     "collapsed": false,
     "input": [],
     "language": "python",
     "metadata": {},
     "outputs": []
    },
    {
     "cell_type": "code",
     "collapsed": false,
     "input": [],
     "language": "python",
     "metadata": {},
     "outputs": []
    }
   ],
   "metadata": {}
  }
 ]
}