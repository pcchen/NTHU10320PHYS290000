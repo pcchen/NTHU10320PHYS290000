{
 "metadata": {
  "name": "",
  "signature": "sha256:8a7241b4f6d54b7e4d40835acb03f2f21d4a43c675105e603d91d19bf0b4b0b2"
 },
 "nbformat": 3,
 "nbformat_minor": 0,
 "worksheets": [
  {
   "cells": [
    {
     "cell_type": "markdown",
     "metadata": {},
     "source": [
      "# Problem 2:\n",
      "# Sorting a List\n",
      "\n",
      "In this problem you should\n",
      "* Implement the **selection sort** algorithm.\n",
      "* Implement the **insertion sort** algorithm.\n",
      "* Create a list of N-elements where each element is a random integer between 0, 1, 2, ..., N-1.\n",
      "* Use your implementation of the selection sort and insertion sort to sort the the random list above.\n",
      "* Use built-in function `sorted()` that builds a new sorted list to show that your implementation is correct.\n",
      "\n",
      "## Selection sort\n",
      "\n",
      "Following is the algorithm of the **selection sort**:\n",
      "\n",
      "* Divide the input list into two sub-lists:\n",
      " * Sorted sub-list (Start with an empty list).\n",
      " * Un-Sorted sub-list.\n",
      "* Find the smallest element in the unsorted list.\n",
      "* Swap with the leftmost unsorted element.\n",
      "* Move the sub-list boundaries.\n",
      "\n",
      "Following is an example of selection sort:\n",
      "<img src=\"SelectionSort.png\" width=\"800\">\n",
      "\n",
      "## Insertion sort\n",
      "\n",
      "Following is the algorithm of the **insertion sort**:\n",
      "\n",
      "* Divide the input list into two sub-lists:\n",
      " * Sorted sub-list (Start with the leftmost element).\n",
      " * Un-Sorted sub-list.\n",
      "* Insert the leftmost element of the unsorted sub-list into the proper position of the sorted sub-list.\n",
      "* Move the sub-list boundaries \n",
      "\n",
      "Following is an example of selection sort:\n",
      "<img src=\"InsertionSort.png\" width=\"800\">"
     ]
    },
    {
     "cell_type": "markdown",
     "metadata": {},
     "source": [
      "Please write your code based on the sketch below and use the test code below to show that your function works properly."
     ]
    },
    {
     "cell_type": "code",
     "collapsed": false,
     "input": [
      "from random import *\n",
      "\n",
      "\n",
      "# create a random list with N elements\n",
      "def random_list(N):\n",
      "    a = []\n",
      "    for i in range(N):\n",
      "        a.append(randint(0,1000))\n",
      "    return a\n",
      "\n",
      "# selection sort\n",
      "def selection_sort(list):\n",
      "    c = len(list)\n",
      "    for i in range(c):\n",
      "        posm = i\n",
      "        for j in range(i,c):\n",
      "            if list[j]<list[posm]:\n",
      "                posm = j\n",
      "        b = list[i]\n",
      "        list[i] = list[posm]\n",
      "        list[posm] = b \n",
      "        print list           \n",
      "    return list\n",
      "\n",
      "\n",
      "# insertion sort\n",
      "def insertion_sort(list):\n",
      "    c = len(list)\n",
      "    for i in range(c):\n",
      "        for j in range(c):\n",
      "            if list[j] > list[i]:\n",
      "                a = list[i]\n",
      "                list[i] = list[j]\n",
      "                list[j] = a\n",
      "                print list\n",
      "    return list"
     ],
     "language": "python",
     "metadata": {},
     "outputs": [],
     "prompt_number": 62
    },
    {
     "cell_type": "code",
     "collapsed": false,
     "input": [
      "# test the implementation of selection sort\n",
      "N = 10\n",
      "L = random_list(N)\n",
      "L_sorted = sorted(L)\n",
      "selection_sort(L)\n",
      "\n",
      "for i in range(len(L)):\n",
      "    if L[i] != L_sorted[i]:\n",
      "        print 'oops!'    "
     ],
     "language": "python",
     "metadata": {},
     "outputs": [
      {
       "output_type": "stream",
       "stream": "stdout",
       "text": [
        "[337, 699, 736, 536, 635, 683, 532, 954, 530, 928]\n",
        "[337, 530, 736, 536, 635, 683, 532, 954, 699, 928]\n",
        "[337, 530, 532, 536, 635, 683, 736, 954, 699, 928]\n",
        "[337, 530, 532, 536, 635, 683, 736, 954, 699, 928]\n",
        "[337, 530, 532, 536, 635, 683, 736, 954, 699, 928]\n",
        "[337, 530, 532, 536, 635, 683, 736, 954, 699, 928]\n",
        "[337, 530, 532, 536, 635, 683, 699, 954, 736, 928]\n",
        "[337, 530, 532, 536, 635, 683, 699, 736, 954, 928]\n",
        "[337, 530, 532, 536, 635, 683, 699, 736, 928, 954]\n",
        "[337, 530, 532, 536, 635, 683, 699, 736, 928, 954]\n"
       ]
      }
     ],
     "prompt_number": 63
    },
    {
     "cell_type": "code",
     "collapsed": false,
     "input": [
      "# test the implementation of insertion sort\n",
      "N = 10\n",
      "L = random_list(N)\n",
      "L_sorted = sorted(L)\n",
      "insertion_sort(L)\n",
      "\n",
      "for i in range(len(L)):\n",
      "    if L[i] != L_sorted[i]:\n",
      "        print 'oops!'    "
     ],
     "language": "python",
     "metadata": {},
     "outputs": [
      {
       "output_type": "stream",
       "stream": "stdout",
       "text": [
        "[815, 34, 101, 50, 441, 173, 68, 549, 260, 803]\n",
        "[34, 815, 101, 50, 441, 173, 68, 549, 260, 803]\n",
        "[34, 101, 815, 50, 441, 173, 68, 549, 260, 803]\n",
        "[34, 50, 815, 101, 441, 173, 68, 549, 260, 803]\n",
        "[34, 50, 101, 815, 441, 173, 68, 549, 260, 803]\n",
        "[34, 50, 101, 441, 815, 173, 68, 549, 260, 803]\n",
        "[34, 50, 101, 173, 815, 441, 68, 549, 260, 803]\n",
        "[34, 50, 101, 173, 441, 815, 68, 549, 260, 803]\n",
        "[34, 50, 68, 173, 441, 815, 101, 549, 260, 803]\n",
        "[34, 50, 68, 101, 441, 815, 173, 549, 260, 803]\n",
        "[34, 50, 68, 101, 173, 815, 441, 549, 260, 803]\n",
        "[34, 50, 68, 101, 173, 441, 815, 549, 260, 803]\n",
        "[34, 50, 68, 101, 173, 441, 549, 815, 260, 803]\n",
        "[34, 50, 68, 101, 173, 260, 549, 815, 441, 803]\n",
        "[34, 50, 68, 101, 173, 260, 441, 815, 549, 803]\n",
        "[34, 50, 68, 101, 173, 260, 441, 549, 815, 803]\n",
        "[34, 50, 68, 101, 173, 260, 441, 549, 803, 815]\n"
       ]
      }
     ],
     "prompt_number": 64
    },
    {
     "cell_type": "code",
     "collapsed": false,
     "input": [],
     "language": "python",
     "metadata": {},
     "outputs": []
    }
   ],
   "metadata": {}
  }
 ]
}