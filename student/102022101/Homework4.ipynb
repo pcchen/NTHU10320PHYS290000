{
 "metadata": {
  "name": "",
  "signature": "sha256:b2e7df2dd28f187b09b69a0064160fd3a095f7bfbb759b05dfbf56c862864acd"
 },
 "nbformat": 3,
 "nbformat_minor": 0,
 "worksheets": [
  {
   "cells": [
    {
     "cell_type": "markdown",
     "metadata": {},
     "source": [
      "# Homework 4"
     ]
    },
    {
     "cell_type": "markdown",
     "metadata": {},
     "source": [
      "## Problem 1 \n",
      "\n",
      "1. Implement the `Point` class.\n",
      "2. Implement the `Rectangle` class.\n",
      "3. Write a function called `distance_between_points` that takes two Points as arguments and returns the distance between them.\n",
      "4. Write a function named `move_rectangle` that takes a Rectangle and two numbers named `dx` and `dy`. It should change the location of the rectangle by adding `dx` to the `x` coordinate of corner and adding `dy` to the `y` coordinate of corner.\n",
      "5. Write a function named `move_rectangle_new` that is similar to the `move_rectangle` but it creates and returns a new Rectangle instead of modifying the old one.\n",
      "6. Write some codes to demonstrate the usage of functions above."
     ]
    },
    {
     "cell_type": "code",
     "collapsed": false,
     "input": [
      "# Problem 1\n",
      "import math\n",
      "import copy\n",
      "# 1\n",
      "class Point(object):\n",
      "    \"\"\"x,y,z\"\"\"\n",
      "p1 = Point()\n",
      "p2 = Point()\n",
      "p1.x = 1\n",
      "p1.y = 2\n",
      "p2.x = 2\n",
      "p2.y = 7\n",
      "# 2\n",
      "class Rectangle(object):\n",
      "    \"\"\"\n",
      "    attributes: width, height, corner.\n",
      "    \"\"\"\n",
      "box =Rectangle()\n",
      "box.width = 10\n",
      "box.height = 10\n",
      "box.corner = p1\n",
      "# 3\n",
      "def distance(p1,p2):\n",
      "    return math.sqrt((p1.x-p2.x)**2 + (p1.y-p2.y)**2)\n",
      "print 'distance',distance(p1, p2)\n",
      "    \n",
      "# 4\n",
      "def move_rectangle(rect,dx,dy):\n",
      "    rect.corner.x += dx\n",
      "    rect.corner.y += dy\n",
      "move_rectangle(box,1,1)\n",
      "print 'move',box.corner.x,box.corner.y\n",
      "# 5\n",
      "def move_rectangle_new(rect,dx,dy):\n",
      "    nb = copy.deepcopy(rect)\n",
      "    nb.corner.x += dx\n",
      "    nb.corner.y += dy\n",
      "    return nb\n",
      "nb = move_rectangle_new(box,2,3)\n",
      "#6\n",
      "print 'nb x,y',nb.corner.x,nb.corner.y"
     ],
     "language": "python",
     "metadata": {},
     "outputs": [
      {
       "output_type": "stream",
       "stream": "stdout",
       "text": [
        "distance 5.09901951359\n",
        "move 2 3\n",
        "nb x,y 4 6\n"
       ]
      }
     ],
     "prompt_number": 2
    },
    {
     "cell_type": "markdown",
     "metadata": {},
     "source": [
      "## Problem 2\n",
      "\n",
      "1. Implement the `Time` class.\n",
      "2. Write a function called `print_time` that takes a Time object and prints it in the form `hour:minute:second`. \n",
      "  **Hint**: the format sequence '%.2d' prints an integer using at least two digits, including a leading zero if necessary.\n",
      "3. Write a boolean function called `is_after` that takes two Time objects, `t1` and `t2`, and returns `True` if `t1` follows `t2` chronologically and `False` otherwise. **Challenge**: don\u2019t use an `if` statement.\n",
      "4. Write a function called `increment_modifier` that adds a given number of seconds to a Time object. It should modify the original time object. It should not contain any loops.\n",
      "5. Write a function called `increment_pure` that adds a given number of seconds to a Time object. It should create and return a new Time object.\n",
      "6. Write a function called `mul_time` that takes a Time object and a number and returns a new Time object that contains the product of the original Time and the number.\n",
      "7. Use `mul_time` to write a function that takes a Time object that represents the finishing time in a race, and a number that represents the distance, and returns a Time object that represents the average pace (time per mile).\n",
      "8. Write some codes to demonstrate the usage of functions above."
     ]
    },
    {
     "cell_type": "code",
     "collapsed": false,
     "input": [
      "# Problem 2\n",
      "\n",
      "# 1\n",
      "class Time(object):\n",
      "    \"\"\"hour,minute,second\"\"\"\n",
      "    def __init__(self, hour=0, minute=0, second=0):\n",
      "        self.hour = hour\n",
      "        self.minute = minute\n",
      "        self.second = second\n",
      "\n",
      "# 2\n",
      "def print_time(time):\n",
      "    print '%.2d:%.2d:%.2d' % (time.hour, time.minute, time.second)\n",
      "# 3\n",
      "def is_after(t1,t2):\n",
      "    tsecond1 = t1.hour*3600 + t1.minute*60 + t1.second\n",
      "    tsecond2 = t2.hour*3600 + t2.minute*60 + t2.second\n",
      "    d = tsecond1 - tsecond2\n",
      "    return d>0\n",
      "# 4\n",
      "def increment_modifier(t1,sec):\n",
      "    seconds = t1.hour*3600 + t1.minute*60 + t1.second\n",
      "    seconds += sec\n",
      "    minutes, t1.second = divmod(seconds, 60)\n",
      "    t1.hour, t1.minute = divmod(minutes, 60) \n",
      "    \n",
      "# 5\n",
      "def increment_pure(t1,sec):\n",
      "    time =Time()\n",
      "    seconds = t1.hour*3600 + t1.minute*60 + t1.second\n",
      "    seconds += sec\n",
      "    minutes, time.second = divmod(seconds, 60)\n",
      "    time.hour, time.minute = divmod(minutes, 60)\n",
      "    return time\n",
      "# 6\n",
      "def mul_time(t1,mul):\n",
      "    seconds = t1.hour*3600 + t1.minute*60 + t1.second\n",
      "    seconds *= mul\n",
      "    time =Time()\n",
      "    minutes, time.second = divmod(seconds, 60)\n",
      "    time.hour, time.minute = divmod(minutes, 60)\n",
      "    return time\n",
      "# 7  ???\n",
      "def avepace(t1,mile):\n",
      "    pace = Time()\n",
      "    \n",
      "    return pace\n",
      "# 8\n",
      "\n",
      "t1 = Time()\n",
      "t2 = Time()\n",
      "t1.second = 50\n",
      "t1.minute = 30\n",
      "t1.hour = 10\n",
      "t2.second = 20\n",
      "t2.minute = 5\n",
      "t2.hour = 2\n",
      "\n",
      "print 'print-time t1,t2'\n",
      "print_time(t1)\n",
      "print_time(t2)\n",
      "print 'is_after'\n",
      "print is_after(t1,t2)\n",
      "print 'increment_modifiert1'\n",
      "increment_modifier(t1,884)\n",
      "print_time(t1)\n",
      "print 'increment_pure'\n",
      "t3 = increment_pure(t1,54)\n",
      "print_time(t3)\n",
      "print 'mul_time'\n",
      "tm = mul_time(t1,2)\n",
      "print_time(tm)\n",
      "print 'avepace'\n",
      "pace = avepace(t2,100.0)\n",
      "print_time(pace)"
     ],
     "language": "python",
     "metadata": {},
     "outputs": [
      {
       "output_type": "stream",
       "stream": "stdout",
       "text": [
        "print-time t1,t2\n",
        "10:30:50\n",
        "02:05:20\n",
        "is_after\n",
        "True\n",
        "increment_modifiert1\n",
        "10:45:34\n",
        "increment_pure\n",
        "10:46:28\n",
        "mul_time\n",
        "21:31:08\n",
        "avepace\n",
        "00:00:00\n"
       ]
      }
     ],
     "prompt_number": 34
    },
    {
     "cell_type": "markdown",
     "metadata": {},
     "source": [
      "## Problem 3\n",
      "\n",
      "1. Write a class definition for a Date object that has attributes `day`, `month` and `year`.\n",
      "2. Write a function called `increment_date` that takes a Date object, `date` and an integer, `n`, and returns a new Date object that represents the day `n` days after date.\n",
      "3. **Challenge**: does your function deal with leap years correctly? See http://en.wikipedia.org/wiki/Leap_year."
     ]
    },
    {
     "cell_type": "code",
     "collapsed": false,
     "input": [
      "# Problem 3\n",
      "\n",
      "#1\n",
      "class date(object):\n",
      "    \"\"\"day, month,year\"\"\"\n",
      "    def __init__(self):\n",
      "        self.day = 1\n",
      "        self.month = 1\n",
      "        self.year = 1\n",
      "#2\n",
      "def increment_date(d1,day):\n",
      "    date = date()\n",
      "    date.day += day\n",
      "    while(date.day >=366):\n",
      "        if (date.year%400 == 0) or (date.year %4 == 0 and date.year%4 !=0):\n",
      "            date.day -= 366\n",
      "        else:\n",
      "            date.day -= 365\n",
      "            pass\n",
      "        date.year += 1\n",
      "    while(date.day >= 31):\n",
      "        if date.mouth == 1:\n",
      "        \n",
      "#3"
     ],
     "language": "python",
     "metadata": {},
     "outputs": [],
     "prompt_number": 35
    },
    {
     "cell_type": "markdown",
     "metadata": {},
     "source": [
      "## Problem 4\n",
      "\n",
      "The `datetime` module provides date and time objects that are similar to the Date and Time objects in this chapter, but they provide a rich set of methods and operators. Read the documentation at http://docs.python.org/2/library/datetime.html.\n",
      "\n",
      "1. Use the `datetime` module to write a program that gets the current date and prints the day of the week.\n",
      "2. Write a program that takes a birthday as input and prints the user\u2019s age and the number of days, hours, minutes and seconds until their next birthday.\n",
      "3. For two people born on different days, there is a day when one is twice as old as the other. That\u2019s their Double Day. Write a program that takes two birthdays and computes their Double Day.\n",
      "4. For a little more challenge, write the more general version that computes the day when one person is `n` times older than the other."
     ]
    },
    {
     "cell_type": "code",
     "collapsed": false,
     "input": [
      "# Problem 4\n",
      "\n",
      "#1\n",
      "#2\n",
      "#3\n",
      "#4"
     ],
     "language": "python",
     "metadata": {},
     "outputs": [],
     "prompt_number": 4
    },
    {
     "cell_type": "markdown",
     "metadata": {},
     "source": [
      "## Problem 5\n",
      "\n",
      "Implement the `Point` class and the `Rectangle` class, with following methods.\n",
      "\n",
      "1. Write an `init` method for the Point class that takes `x` and `y` as optional parameters and assigns them to the corresponding attributes.\n",
      "2. Write a `str` method for the Point class.\n",
      "3. Write an `add` method for Points that works with either a Point object or a tuple:\n",
      "  * If the second operand is a Point, the method should return a new Point whose `x` coordinate is the sum of the `x` coordinates of the operands, and likewise for the `y` coordinates.\n",
      "  * If the second operand is a tuple, the method should add the first element of the tuple to the `x` coordinate and the second element to the `y` coordinate, and return a new Point with the result.\n",
      "4. Write some codes to demonstrate the usage of methods above."
     ]
    },
    {
     "cell_type": "code",
     "collapsed": false,
     "input": [
      "# Problem 5\n",
      "\n",
      "#1\n",
      "#2\n",
      "#3\n",
      "#4"
     ],
     "language": "python",
     "metadata": {},
     "outputs": [],
     "prompt_number": 5
    }
   ],
   "metadata": {}
  }
 ]
}