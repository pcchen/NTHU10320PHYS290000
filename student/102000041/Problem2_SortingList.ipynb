{
 "metadata": {
  "name": "",
  "signature": "sha256:18c37fc57d4411564ae301b365e449563588072c6e4a7d530c7e1dc721e31fee"
 },
 "nbformat": 3,
 "nbformat_minor": 0,
 "worksheets": [
  {
   "cells": [
    {
     "cell_type": "markdown",
     "metadata": {},
     "source": [
      "# Problem 2:\n",
      "# Sorting a List\n",
      "\n",
      "In this problem you should\n",
      "* Implement the **selection sort** algorithm.\n",
      "* Implement the **insertion sort** algorithm.\n",
      "* Create a list of N-elements where each element is a random integer between 0, 1, 2, ..., N-1.\n",
      "* Use your implementation of the selection sort and insertion sort to sort the the random list above.\n",
      "* Use built-in function `sorted()` that builds a new sorted list to show that your implementation is correct.\n",
      "\n",
      "## Selection sort\n",
      "\n",
      "Following is the algorithm of the **selection sort**:\n",
      "\n",
      "* Divide the input list into two sub-lists:\n",
      " * Sorted sub-list (Start with an empty list).\n",
      " * Un-Sorted sub-list.\n",
      "* Find the smallest element in the unsorted list.\n",
      "* Swap with the leftmost unsorted element.\n",
      "* Move the sub-list boundaries.\n",
      "\n",
      "Following is an example of selection sort:\n",
      "<img src=\"SelectionSort.png\" width=\"800\">\n",
      "\n",
      "## Insertion sort\n",
      "\n",
      "Following is the algorithm of the **insertion sort**:\n",
      "\n",
      "* Divide the input list into two sub-lists:\n",
      " * Sorted sub-list (Start with the leftmost element).\n",
      " * Un-Sorted sub-list.\n",
      "* Insert the leftmost element of the unsorted sub-list into the proper position of the sorted sub-list.\n",
      "* Move the sub-list boundaries \n",
      "\n",
      "Following is an example of selection sort:\n",
      "<img src=\"InsertionSort.png\" width=\"800\">"
     ]
    },
    {
     "cell_type": "markdown",
     "metadata": {},
     "source": [
      "Please write your code based on the sketch below and use the test code below to show that your function works properly."
     ]
    },
    {
     "cell_type": "code",
     "collapsed": false,
     "input": [
      "import random\n",
      "\n",
      "# create a random list with N elements\n",
      "def random_list(N):\n",
      "    lis=[]\n",
      "    for i in range(N-1):\n",
      "        newlis=lis+[random.randint(0, N-1)]\n",
      "    return newlis\n",
      "\n",
      "        \n",
      "# selection sort\n",
      "def selection_sort(alist):\n",
      "    \n",
      "    for fillslot in range(len(alist)-1,0,-1):\n",
      "       positionOfMax=0\n",
      "       for location in range(1,fillslot+1):\n",
      "           if alist[location]>alist[positionOfMax]:\n",
      "               positionOfMax = location\n",
      "\n",
      "       temp = alist[fillslot]\n",
      "       alist[fillslot] = alist[positionOfMax]\n",
      "       alist[positionOfMax] = temp\n",
      "        \n",
      "        \n",
      "# insertion sort\n",
      "def insertion_sort(alist):\n",
      "\n",
      "    for index in range(1,len(alist)):\n",
      "\n",
      "     currentvalue = alist[index]\n",
      "     position = index\n",
      "\n",
      "     while position>0 and alist[position-1]>currentvalue:\n",
      "         alist[position]=alist[position-1]\n",
      "         position = position-1\n",
      "\n",
      "     alist[position]=currentvalue\n"
     ],
     "language": "python",
     "metadata": {},
     "outputs": [],
     "prompt_number": 41
    },
    {
     "cell_type": "code",
     "collapsed": false,
     "input": [
      "# test the implementation of selection sort\n",
      "N = 10\n",
      "L = random_list(N)\n",
      "L_sorted = sorted(L)\n",
      "selection_sort(L)\n",
      "\n",
      "for i in range(len(L)):\n",
      "    if L[i] != L_sorted[i]:\n",
      "        print 'oops!'"
     ],
     "language": "python",
     "metadata": {},
     "outputs": [],
     "prompt_number": 48
    },
    {
     "cell_type": "code",
     "collapsed": false,
     "input": [
      "# test the implementation of insertion sort\n",
      "N = 10\n",
      "L = random_list(N)\n",
      "L_sorted = sorted(L)\n",
      "insertion_sort(L)\n",
      "\n",
      "for i in range(len(L)):\n",
      "    if L[i] != L_sorted[i]:\n",
      "        print 'oops!'   "
     ],
     "language": "python",
     "metadata": {},
     "outputs": [],
     "prompt_number": 49
    },
    {
     "cell_type": "code",
     "collapsed": false,
     "input": [],
     "language": "python",
     "metadata": {},
     "outputs": [],
     "prompt_number": 45
    },
    {
     "cell_type": "code",
     "collapsed": false,
     "input": [],
     "language": "python",
     "metadata": {},
     "outputs": []
    }
   ],
   "metadata": {}
  }
 ]
}