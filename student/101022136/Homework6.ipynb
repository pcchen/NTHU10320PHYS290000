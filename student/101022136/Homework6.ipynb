{
 "metadata": {
  "name": "",
  "signature": "sha256:26955bf7f3417fe52c289f44b908b3371f50a4e70fd12d636821007a5064d44e"
 },
 "nbformat": 3,
 "nbformat_minor": 0,
 "worksheets": [
  {
   "cells": [
    {
     "cell_type": "markdown",
     "metadata": {},
     "source": [
      "# Homework 6"
     ]
    },
    {
     "cell_type": "markdown",
     "metadata": {},
     "source": [
      "## Problem 1\n",
      "\n",
      "Use **ivisual** module to plot the projectile motion with following equations of motion:\n",
      "\n",
      "$$\n",
      "\\begin{eqnarray*}\n",
      "  m\\ddot{x} &=& 0, \\\\\n",
      "  m\\ddot{y} &=& -mg, \\\\\n",
      "  m\\ddot{z} &=& 0,\n",
      "\\end{eqnarray*}\n",
      "$$\n",
      "and initial conditions\n",
      "\n",
      "$$\n",
      "  \\vec{r}(0) = (0, 0, 0), \\\\\n",
      "  \\vec{v}(0) = (v_{x0}, v_{y0}, 0),\n",
      "$$\n",
      "You can assign $v_{x0}$ and $v_{y0}$ in the code or ask user to input it.\n",
      "\n",
      "You should\n",
      "* Use a box to represent the ground.\n",
      "* Use three arrows to represent the three axes.\n",
      "* Use a sphere to represent the ball of the projectile motion.\n",
      "* Leave a trail.\n",
      "* Stop the simulation when the ball hit the ground.\n",
      "\n",
      "You should use to ways to calculate the trajectory of the motion.\n",
      "1. Use exact solution: $x(t)=x(0)+v_x t$, etc.\n",
      "2. Use numerical solution:\n",
      " * $v(t+dt) = v(t) + a * dt$.\n",
      " * $x(t+dt) = x(t) + v(t) * dt$.\n",
      "\n",
      "You should use a small enough $dt$ to ensure the numerical solution is accurate enough.\n"
     ]
    },
    {
     "cell_type": "code",
     "collapsed": false,
     "input": [
      "# Problem 1\n",
      "from ivisual import *\n",
      "\n",
      "scene = canvas()\n",
      "\n",
      "scene.width = 800\n",
      "scene.height = 600\n",
      "\n",
      "scene.autoscale = 0\n",
      "scene.range = (10,10,10)\n",
      "scene.center = (0,0,0)\n",
      "\n",
      "X = arrow(pos=(0,0,0), axis=(10,0,0), shaftwidth=0.1, color=color.green)\n",
      "Y = arrow(pos=(0,0,0), axis=(0,10,0), shaftwidth=0.1, color=color.red)\n",
      "Z = arrow(pos=(0,0,0), axis=(0,0,10), shaftwidth=0.1, color=color.blue)\n",
      "\n",
      "ball = sphere(pos=(0,0,0), radius=0.25, color=color.cyan)\n",
      "Ground = box(pos=(0,-10,0), size=(50,0.2,12), color=color.orange)\n",
      "\n",
      "ball.velocity = vector(5,5,0)\n",
      "vscale = 0.1\n",
      "varr1 = arrow(pos=ball.pos, axis=vscale*ball.velocity, color=color.yellow)\n",
      "\n",
      "ball.accelerate = vector(0,-10,0)\n",
      "vscale = 0.1\n",
      "varr2 = arrow(pos=ball.pos, axis=vscale*ball.accelerate, color=color.red)\n",
      "\n",
      "ball.trail = curve(color=(255,255,255))\n",
      "\n",
      "deltat = 0.005\n",
      "t=0\n",
      "\n",
      "while t < 3:\n",
      "    rate(50)\n",
      "    if ball.pos.y<Ground.pos.y:\n",
      "       break\n",
      "    ball.velocity = ball.velocity + ball.accelerate*deltat  \n",
      "    ball.pos = ball.pos + ball.velocity*deltat\n",
      "    varr1.pos = ball.pos\n",
      "    varr1.axis = vscale*(ball.velocity)\n",
      "    varr2.pos = ball.pos\n",
      "    varr2.axis = vscale*(ball.accelerate)\n",
      "    ball.trail.append(pos=ball.pos)"
     ],
     "language": "python",
     "metadata": {},
     "outputs": [
      {
       "html": [
        "<div id=\"scene6\"><div id=\"glowscript\" class=\"glowscript\"></div></div>"
       ],
       "metadata": {},
       "output_type": "display_data",
       "text": [
        "<IPython.core.display.HTML at 0x4489170>"
       ]
      },
      {
       "javascript": [
        "window.__context = { glowscript_container: $(\"#glowscript\").removeAttr(\"id\")}"
       ],
       "metadata": {},
       "output_type": "display_data",
       "text": [
        "<IPython.core.display.Javascript at 0x4489190>"
       ]
      }
     ],
     "prompt_number": 10
    },
    {
     "cell_type": "markdown",
     "metadata": {},
     "source": [
      "## Problem 2\n",
      "\n",
      "Now introduce the air resistence so the equations of motion become:\n",
      "\n",
      "$$\n",
      "\\begin{eqnarray*}\n",
      "  m\\ddot{x} &=& -km\\dot{x}, \\\\\n",
      "  m\\ddot{y} &=& -km\\dot{y}-mg, \\\\\n",
      "  m\\ddot{z} &=& 0,\n",
      "\\end{eqnarray*}\n",
      "$$\n",
      "and initial conditions\n",
      "\n",
      "$$\n",
      "  \\vec{r}(0) = (0, 0, 0), \\\\\n",
      "  \\vec{v}(0) = (v_{x0}, v_{y0}, 0),\n",
      "$$\n",
      "You can assign $v_{x0}$ and $v_{y0}$ in the code or ask user to input it.\n",
      "\n",
      "You should\n",
      "* Use a box to represent the ground.\n",
      "* Use three arrows to represent the three axes.\n",
      "* Use a sphere to represent the ball of the projectile motion.\n",
      "* Leave a trail.\n",
      "* Stop the simulation when the ball hit the ground.\n",
      "\n",
      "\n",
      "You should use to ways to calculate the trajectory of the motion.\n",
      "1. Use exact solution: (Check for example Marion's book).\n",
      "2. Use numerical solution:\n",
      " * $v(t+dt) = v(t) + a * dt$.\n",
      " * $x(t+dt) = x(t) + v(t) * dt$.\n",
      "\n",
      "You should use a small enough $dt$ to ensure the numerical solution is accurate enough.\n"
     ]
    },
    {
     "cell_type": "code",
     "collapsed": false,
     "input": [
      "# Problem 2\n",
      "from ivisual import *\n",
      "\n",
      "scene = canvas()\n",
      "\n",
      "scene.width = 800\n",
      "scene.height = 600\n",
      "\n",
      "scene.autoscale = 0\n",
      "scene.range = (10,10,10)\n",
      "scene.center = (0,0,0)\n",
      "\n",
      "X = arrow(pos=(0,0,0), axis=(10,0,0), shaftwidth=0.1, color=color.green)\n",
      "Y = arrow(pos=(0,0,0), axis=(0,10,0), shaftwidth=0.1, color=color.red)\n",
      "Z = arrow(pos=(0,0,0), axis=(0,0,10), shaftwidth=0.1, color=color.blue)\n",
      "\n",
      "ball = sphere(pos=(0,0,0), radius=0.25, color=color.cyan)\n",
      "Ground = box(pos=(0,-10,0), size=(50,0.2,12), color=color.orange)\n",
      "\n",
      "ball.velocity = vector(5,5,0)\n",
      "vscale = 0.1\n",
      "varr1 = arrow(pos=ball.pos, axis=vscale*ball.velocity, color=color.yellow)\n",
      "\n",
      "k=1\n",
      "\n",
      "ball.accelerate = vector(-k*ball.velocity.x,-10-k*ball.velocity.y,0)\n",
      "vscale = 0.1\n",
      "varr2 = arrow(pos=ball.pos, axis=vscale*ball.accelerate, color=color.red)\n",
      "\n",
      "ball.trail = curve(color=(255,255,255))\n",
      "\n",
      "deltat = 0.005\n",
      "t=0\n",
      "\n",
      "while t < 3:\n",
      "    rate(50)\n",
      "    if ball.pos.y<=Ground.pos.y:\n",
      "        break\n",
      "    ball.velocity = ball.velocity + ball.accelerate*deltat  \n",
      "    ball.pos = ball.pos + ball.velocity*deltat\n",
      "    varr1.pos = ball.pos\n",
      "    varr1.axis = vscale*(ball.velocity)\n",
      "    varr2.pos = ball.pos\n",
      "    varr2.axis = vscale*(ball.accelerate)\n",
      "    ball.trail.append(pos=ball.pos)"
     ],
     "language": "python",
     "metadata": {},
     "outputs": [
      {
       "html": [
        "<div id=\"scene1\"><div id=\"glowscript\" class=\"glowscript\"></div></div>"
       ],
       "metadata": {},
       "output_type": "display_data",
       "text": [
        "<IPython.core.display.HTML at 0x2df42f0>"
       ]
      },
      {
       "javascript": [
        "window.__context = { glowscript_container: $(\"#glowscript\").removeAttr(\"id\")}"
       ],
       "metadata": {},
       "output_type": "display_data",
       "text": [
        "<IPython.core.display.Javascript at 0x2f6fc70>"
       ]
      }
     ],
     "prompt_number": 5
    },
    {
     "cell_type": "markdown",
     "metadata": {},
     "source": [
      "## Problem 3\n",
      "\n",
      "Use **ivisual** module to plot the trajectory of a coupled spring-mass system that has two masses, three springs, two walls.\n",
      "\n",
      "Something like Wall-spring1-mass1-spring2-mass2-spring3-Wall.\n",
      "\n",
      "You should\n",
      "* Use a box to represent the ground.\n",
      "* Use two boxes to represent the walls.\n",
      "* Use two **cubic** boxes to represent the two masses.\n",
      "* Use helix to represent the two srpings.\n"
     ]
    },
    {
     "cell_type": "code",
     "collapsed": false,
     "input": [
      "# Problem 3\n",
      "from ivisual import *\n",
      "\n",
      "scene = canvas()\n",
      "\n",
      "scene.width = 800\n",
      "scene.height = 600\n",
      "\n",
      "scene.autoscale = 0\n",
      "scene.range = (70,10,10)\n",
      "scene.center = (0,0,0)\n",
      "\n",
      "wall_left = box(pos=(-26,0,0), size=(0.2,12,12), color=color.orange)\n",
      "wall_right = box(pos=(26,0,0), size=(0.2,12,12), color=color.orange)\n",
      "Ground = box(pos=(0,-6,0), size=(60,0.2,12), color=color.white)\n",
      "\n",
      "cubic1 = box(pos=(-10,-2,0), size=(8,8,8), color=color.red)\n",
      "cubic2 = box(pos=(10,-2,0), size=(8,8,8), color=color.red)\n",
      "\n",
      "relaxedlength = vector(16,0,0) # length of spring when it isn't stretched or compressed .60\n",
      "spring1 = helix(pos=(-26,-2,0),axis=relaxedlength, radius=1,coils=10,thickness=0.1,color=color.green)\n",
      "spring2 = helix(pos=(-8,-2,0),axis=relaxedlength, radius=1,coils=10,thickness=0.1,color=color.green)\n",
      "spring3 = helix(pos=(14,-2,0),axis=relaxedlength, radius=1,coils=10,thickness=0.1,color=color.green)\n",
      "\n",
      "# \n",
      "g=9.8 # m/s**2\n",
      "spring1.constant = 2 # k\n",
      "spring2.constant = 2 # k\n",
      "spring3.constant = 2 # k\n",
      "cubic1.mass = 10 # kg\n",
      "cubic2.mass = 10 # kg\n",
      "mu = 0.00 # friction\n",
      "\n",
      "# initial position\n",
      "xpos=-5 #0.35\n",
      "cubic1.pos=vector(cubic1.pos.x+xpos,0,0)\n",
      "spring1.displacement=vector(xpos,0,0)\n",
      "spring1.axis=relaxedlength+spring1.displacement\n",
      "\n",
      "cubic1.velocity = vector(2,0,0)\n",
      "cubic1.acceleration = vector(0,0,0)\n",
      "cubic1.force = vector(0,0,0)\n",
      "\n",
      "\n",
      "xpos=-5 #0.35\n",
      "cubic2.pos=vector(cubic2.pos.x+xpos,0,0)\n",
      "spring2.pos=cubic1.pos+vector(2,0,0)\n",
      "spring2.displacement=vector(xpos,0,0)-spring1.displacement\n",
      "spring2.axis=relaxedlength+spring2.displacement\n",
      "\n",
      "cubic2.velocity = vector(3,0,0)\n",
      "cubic2.acceleration = vector(0,0,0)\n",
      "cubic2.force = vector(10,0,0)\n",
      "\n",
      "\n",
      "def ani():\n",
      "    dt = .01    # seconds\n",
      "    seconds = 0 # total time\n",
      "    steps=5000 #integration steps: final time= dt*steps\n",
      "\n",
      "    while seconds < dt*steps:\n",
      "        rate(50)\n",
      "        seconds = seconds + dt\n",
      "\n",
      "        F_fr1=vector(0,0,0)\n",
      "        if cubic1.velocity.x>0:\n",
      "            F_fr1=vector(-mu*cubic1.mass*g,0,0)\n",
      "        elif cubic1.velocity.x<0:\n",
      "            F_fr1=vector(mu*cubic1.mass*g,0,0)\n",
      "\n",
      "        # Calculate the spring force using Hooke's Law\n",
      "        SpringForce1 = -spring1.constant * spring1.displacement+F_fr1\n",
      "\n",
      "        # The spring force acts on the weight\n",
      "        cubic1.force = SpringForce1\n",
      "\n",
      "        # move the weight from weight.pos using \n",
      "        # the momentum principle\n",
      "        #weight.acceleration = weight.force/weight.mass\n",
      "        cubic1.velocity += dt*cubic1.force/cubic1.mass # F*dt=dp\n",
      "        cubic1.pos += cubic1.velocity*dt #+O(dt^2) -> + .5 * weight.acceleration * dt**2\n",
      "\n",
      "        # calculate the new spring displacement\n",
      "        spring1.displacement = cubic1.pos + vector(10,0,0)\n",
      "\n",
      "        # update the length of the spring\n",
      "        \n",
      "        spring1.axis = relaxedlength + spring1.displacement\n",
      "        \n",
      "        \n",
      "        \n",
      "        \n",
      "        F_fr2=vector(0,0,0)\n",
      "        if cubic2.velocity.x>0:\n",
      "            F_fr2=vector(-mu*cubic2.mass*g,0,0)\n",
      "        elif cubic2.velocity.x<0:\n",
      "            F_fr2=vector(mu*cubic2.mass*g,0,0)\n",
      "\n",
      "        SpringForce2 = -spring2.constant * spring2.displacement+F_fr2\n",
      "       \n",
      "        cubic2.force = SpringForce2\n",
      "       \n",
      "        cubic2.velocity += dt*cubic2.force/cubic2.mass # F*dt=dp\n",
      "        cubic2.pos += cubic2.velocity*dt #+O(dt^2) -> + .5 * weight.acceleration * dt**2\n",
      "\n",
      "        spring2.pos=cubic1.pos+vector(2,0,0)\n",
      "        spring2.displacement = cubic2.pos - vector(10,0,0)\n",
      "        spring2.axis = relaxedlength + spring2.displacement"
     ],
     "language": "python",
     "metadata": {},
     "outputs": [
      {
       "html": [
        "<div id=\"scene5\"><div id=\"glowscript\" class=\"glowscript\"></div></div>"
       ],
       "metadata": {},
       "output_type": "display_data",
       "text": [
        "<IPython.core.display.HTML at 0x4beab50>"
       ]
      },
      {
       "javascript": [
        "window.__context = { glowscript_container: $(\"#glowscript\").removeAttr(\"id\")}"
       ],
       "metadata": {},
       "output_type": "display_data",
       "text": [
        "<IPython.core.display.Javascript at 0x2d424b0>"
       ]
      }
     ],
     "prompt_number": 6
    },
    {
     "cell_type": "code",
     "collapsed": false,
     "input": [
      "ani()"
     ],
     "language": "python",
     "metadata": {},
     "outputs": []
    },
    {
     "cell_type": "markdown",
     "metadata": {},
     "source": [
      "# Problem 4\n",
      "\n",
      "Use **ivisual** module to plot the trajectories of 20 particles in a rectangle box.\n",
      "\n",
      "* The rectangle box has the dimension $L_x$, $L_y$, $L_z$.\n",
      "* Use boxes to represent the walls. Keep one wall **invisible**.\n",
      "* The 20 particles should have **random** initial velocity.\n",
      "* The 20 particles should leave a trail.\n",
      "* Make each particle has random RGB color."
     ]
    },
    {
     "cell_type": "code",
     "collapsed": false,
     "input": [
      "# Problem 4\n",
      "from ivisual import *\n",
      "import random\n",
      "\n",
      "scene = canvas()\n",
      "\n",
      "scene.width = 800\n",
      "scene.height = 600\n",
      "\n",
      "scene.autoscale = 0\n",
      "scene.range = (10,10,10)\n",
      "scene.center = (0,0,0)\n",
      "wallR = box(pos=(+6,0,0), size=(0.2,12,12), color=color.green)\n",
      "wallL = box(pos=(-6,0,0), size=(0.2,12,12), color=color.green)\n",
      "wallU = box(pos=(0,+6,0), size=(12,0.2,12), color=color.blue)\n",
      "wallD = box(pos=(0,-6,0), size=(12,0.2,12), color=color.blue)\n",
      "wallB = box(pos=(0,0,-6), size=(12,12,0.2), color=color.red)\n",
      "\n",
      "i=0\n",
      "while i <20:\n",
      "    \n",
      "    ball = sphere(pos=(random.uniform(-6,6),random.uniform(-6,6),random.uniform(-6,6)), radius=0.5, color=(random.uniform(0, 1),random.uniform(0, 1),random.uniform(0, 1)))\n",
      "    \n",
      "\n",
      "\n",
      "    ball.velocity = vector(25,5,-5)\n",
      "    vscale = 0.1\n",
      "    varr = arrow(pos=ball.pos, axis=vscale*ball.velocity, color=color.yellow)\n",
      "\n",
      "    ball.trail = curve(color=ball.color)\n",
      "\n",
      "    deltat = 0.005\n",
      "    t=0\n",
      "\n",
      "    while t < .50:\n",
      "        rate(50)\n",
      "        if ball.pos.x > wallR.pos.x:\n",
      "             ball.velocity.x = -ball.velocity.x\n",
      "        if ball.pos.x < wallL.pos.x:\n",
      "             ball.velocity.x = -ball.velocity.x\n",
      "        if ball.pos.y > wallU.pos.y:\n",
      "             ball.velocity.y = -ball.velocity.y\n",
      "        if ball.pos.y < wallD.pos.y:\n",
      "             ball.velocity.y = -ball.velocity.y\n",
      "        if ball.pos.z < wallB.pos.z:\n",
      "            ball.velocity.z = -ball.velocity.z\n",
      "        if ball.pos.z > +6:\n",
      "            ball.velocity.z = -ball.velocity.z\n",
      "    \n",
      "        ball.pos = ball.pos + ball.velocity*deltat\n",
      "        varr.pos = ball.pos\n",
      "        varr.axis = vscale*ball.velocity\n",
      "        ball.trail.append(pos=ball.pos)\n",
      "    \n",
      "        t = t + deltat\n",
      "    i=i+1    "
     ],
     "language": "python",
     "metadata": {},
     "outputs": [
      {
       "html": [
        "<div id=\"scene1\"><div id=\"glowscript\" class=\"glowscript\"></div></div>"
       ],
       "metadata": {},
       "output_type": "display_data",
       "text": [
        "<IPython.core.display.HTML at 0x2d421b0>"
       ]
      },
      {
       "javascript": [
        "window.__context = { glowscript_container: $(\"#glowscript\").removeAttr(\"id\")}"
       ],
       "metadata": {},
       "output_type": "display_data",
       "text": [
        "<IPython.core.display.Javascript at 0x2cfafd0>"
       ]
      }
     ],
     "prompt_number": 2
    },
    {
     "cell_type": "code",
     "collapsed": false,
     "input": [],
     "language": "python",
     "metadata": {},
     "outputs": []
    }
   ],
   "metadata": {}
  }
 ]
}