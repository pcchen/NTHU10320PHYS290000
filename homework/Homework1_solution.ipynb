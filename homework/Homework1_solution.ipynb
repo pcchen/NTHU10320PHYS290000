{
 "metadata": {
  "name": "",
  "signature": "sha256:c6bf69d7615534cedef8776d98a6ece2afef07ec36ce2048f0e74eccc0efa3cd"
 },
 "nbformat": 3,
 "nbformat_minor": 0,
 "worksheets": [
  {
   "cells": [
    {
     "cell_type": "markdown",
     "metadata": {},
     "source": [
      "# Homework 1"
     ]
    },
    {
     "cell_type": "markdown",
     "metadata": {},
     "source": [
      "## Problem 1.1\n",
      "\n",
      "Write some code that prints the words `Hello, World'."
     ]
    },
    {
     "cell_type": "code",
     "collapsed": false,
     "input": [
      "# Problem 1.1\n",
      "\n",
      "print('Hello, World')"
     ],
     "language": "python",
     "metadata": {},
     "outputs": [
      {
       "output_type": "stream",
       "stream": "stdout",
       "text": [
        "Hello, World\n"
       ]
      }
     ],
     "prompt_number": 1
    },
    {
     "cell_type": "markdown",
     "metadata": {},
     "source": [
      "## Problem 1.2\n",
      "\n",
      "Python provides a built-in function called `len` that returns the length of a string, so the value of `len('allen')` is `5`.\n",
      "\n",
      "Write a function named `right_justify` that takes a string named `s` as a parameter and prints the string with enough leading spaces so that the last letter of the string is in column 70 of the display.\n",
      "\n",
      "Write some code to demonstrate the usage of your `right_justify` function.\n",
      "\n",
      "``\n",
      "right_justify('allen')\n",
      "                                                                 allen\n",
      "right_justify('homework')\n",
      "                                                              homework\n",
      "right_justify('cat')\n",
      "                                                                   cat\n",
      "``"
     ]
    },
    {
     "cell_type": "code",
     "collapsed": false,
     "input": [
      "# Problem 1.2\n",
      "\n",
      "def right_justify(s):\n",
      "    if len(s) > 70:\n",
      "        print 'String length > 70!'\n",
      "        return\n",
      "    else:\n",
      "        # Create a string with appropriate leading spaces.\n",
      "        output = ' '*(70-len(s)) + s\n",
      "        print output\n",
      "\n",
      "right_justify('allen')\n",
      "right_justify('homework')\n",
      "right_justify('cat')\n",
      "right_justify('xxxxxxxxxxxxxxxxxxxxxxxxxxxxxxxxxxxxxxxxxxxxxxxxxxxxxxxxxxxxxxxxxxxxxx')\n",
      "right_justify('xxxxxxxxxxxxxxxxxxxxxxxxxxxxxxxxxxxxxxxxxxxxxxxxxxxxxxxxxxxxxxxxxxxxxxyy')"
     ],
     "language": "python",
     "metadata": {},
     "outputs": [
      {
       "output_type": "stream",
       "stream": "stdout",
       "text": [
        "                                                                 allen\n",
        "                                                              homework\n",
        "                                                                   cat\n",
        "xxxxxxxxxxxxxxxxxxxxxxxxxxxxxxxxxxxxxxxxxxxxxxxxxxxxxxxxxxxxxxxxxxxxxx\n",
        "String length > 70!\n"
       ]
      }
     ],
     "prompt_number": 2
    },
    {
     "cell_type": "markdown",
     "metadata": {},
     "source": [
      "## Problem 1.3\n",
      "\n",
      "### Exercise 3.4 \n",
      "\n",
      "A **function object** is a value you can assign to a variable or pass as an argument. For example, `do_twice` is a function that takes a function object as an argument and calls it twice:\n",
      "\n",
      "``\n",
      "def do_twice(f):\n",
      "    f()\n",
      "    f()\n",
      "``\n",
      "\n",
      "Here\u2019s an example that uses `do_twice` to call a function named `print_spam` twice.\n",
      "\n",
      "``def print_spam():\n",
      "    print 'spam'``\n",
      "\n",
      "``    \n",
      "do_twice(print_spam)\n",
      "``\n",
      "\n",
      "1. Type this example into a script and test it.\n",
      "2. Modify `do_twice` so that it takes two arguments, a function object and a value, and calls the function twice, passing the value as an argument.\n",
      "3. Write a more general version of `print_spam`, called `print_twice`, that takes a string as a parameter and prints it twice.\n",
      "4. Use the modified version of `do_twice` to call `print_twice` twice, passing `'spam'` as an argument.\n",
      "5. Define a new function called `do_four` that takes a function object and a value and calls the function four times, passing the value as a parameter. There should be only two statements in the body of this function, not four.\n",
      "\n",
      "Write some code to demonstrate the usage above functions."
     ]
    },
    {
     "cell_type": "code",
     "collapsed": false,
     "input": [
      "# Problem 1.3\n",
      "\n",
      "# 1\n",
      "def do_twice(f):\n",
      "    f()\n",
      "    f()\n",
      "    \n",
      "def print_spam():\n",
      "    print 'spam'\n",
      "    \n",
      "do_twice(print_spam) \n",
      "# do_twice(print_spam()) # Wrong!"
     ],
     "language": "python",
     "metadata": {},
     "outputs": [
      {
       "output_type": "stream",
       "stream": "stdout",
       "text": [
        "spam\n",
        "spam\n"
       ]
      }
     ],
     "prompt_number": 3
    },
    {
     "cell_type": "code",
     "collapsed": false,
     "input": [
      "# 2, 3, 4\n",
      "def do_twice(f, x):\n",
      "    f(x)\n",
      "    f(x)\n",
      "\n",
      "def print_spam(spam):\n",
      "    print spam\n",
      "\n",
      "do_twice(print_spam, 'spam')"
     ],
     "language": "python",
     "metadata": {},
     "outputs": [
      {
       "output_type": "stream",
       "stream": "stdout",
       "text": [
        "spam\n",
        "spam\n"
       ]
      }
     ],
     "prompt_number": 4
    },
    {
     "cell_type": "code",
     "collapsed": false,
     "input": [
      "# 5\n",
      "def do_twice(f, x):\n",
      "    f(x)\n",
      "    f(x)\n",
      "\n",
      "def print_spam(spam):\n",
      "    print spam\n",
      "\n",
      "def do_four(f, x):\n",
      "    do_twice(f, x)\n",
      "    do_twice(f, x)\n",
      "\n",
      "do_four(print_spam, 'spam')"
     ],
     "language": "python",
     "metadata": {},
     "outputs": [
      {
       "output_type": "stream",
       "stream": "stdout",
       "text": [
        "spam\n",
        "spam\n",
        "spam\n",
        "spam\n"
       ]
      }
     ],
     "prompt_number": 5
    },
    {
     "cell_type": "markdown",
     "metadata": {},
     "source": [
      "## Problem 1.4\n",
      "\n",
      "*This exercise can be done using only the statements and other features we have learned so far.*\n",
      "\n",
      "(1) Write a function that draws a grid like the following:\n",
      "\n",
      "\n",
      "    + - - - - + - - - - +\n",
      "    |         |         |\n",
      "    |         |         |\n",
      "    |         |         |\n",
      "    |         |         |\n",
      "    + - - - - + - - - - +\n",
      "    |         |         |\n",
      "    |         |         |\n",
      "    |         |         |\n",
      "    |         |         |\n",
      "    + - - - - + - - - - +\n",
      "\n",
      "\n",
      "Hint: to print more than one value on a line, you can print a comma-separated sequence:\n",
      "\n",
      "    print '+', '-'\n",
      "\n",
      "If the sequence ends with a comma, Python leaves the line unfinished, so the value printed next appears on the same line.\n",
      "\n",
      "\n",
      "    print '+', \n",
      "    print '-'\n",
      "\n",
      "The output of these statements is `'+ -'`.\n",
      "\n",
      "A `print` statement all by itself ends the current line and goes to the next line.\n",
      "\n",
      "(2) Write a function that draws a similar grid with four rows and four columns."
     ]
    },
    {
     "cell_type": "code",
     "collapsed": false,
     "input": [
      "# Problem 1.4\n",
      "\n",
      "# 1\n",
      "def do_once(f, x):\n",
      "    f(x)\n",
      "    \n",
      "def do_twice(f, x):\n",
      "    f(x)\n",
      "    f(x)\n",
      "    \n",
      "def do_four(f, x):\n",
      "    do_twice(f, x)\n",
      "    do_twice(f, x)\n",
      "    \n",
      "def my_print(s):\n",
      "    print s,\n",
      "\n",
      "def print_part(a, b):\n",
      "    do_once(my_print, a)\n",
      "    do_four(my_print, b)\n",
      "\n",
      "def print_raw2(a, b, c):\n",
      "    print_part(a, b)\n",
      "    print_part(a, b)\n",
      "    print c\n",
      "\n",
      "print_raw2('+','-','+')\n",
      "print_raw2('|',' ','|')\n",
      "print_raw2('|',' ','|')\n",
      "print_raw2('|',' ','|')\n",
      "print_raw2('|',' ','|')\n",
      "print_raw2('+','-','+')\n",
      "print_raw2('|',' ','|')\n",
      "print_raw2('|',' ','|')\n",
      "print_raw2('|',' ','|')\n",
      "print_raw2('|',' ','|')\n",
      "print_raw2('+','-','+')"
     ],
     "language": "python",
     "metadata": {},
     "outputs": [
      {
       "output_type": "stream",
       "stream": "stdout",
       "text": [
        "+ - - - - + - - - - +\n",
        "|         |         |\n",
        "|         |         |\n",
        "|         |         |\n",
        "|         |         |\n",
        "+ - - - - + - - - - +\n",
        "|         |         |\n",
        "|         |         |\n",
        "|         |         |\n",
        "|         |         |\n",
        "+ - - - - + - - - - +\n"
       ]
      }
     ],
     "prompt_number": 6
    },
    {
     "cell_type": "code",
     "collapsed": false,
     "input": [
      "# Problem 1.4\n",
      "\n",
      "# 2\n",
      "def do_once(f, x):\n",
      "    f(x)\n",
      "    \n",
      "def do_twice(f, x):\n",
      "    f(x)\n",
      "    f(x)\n",
      "    \n",
      "def do_four(f, x):\n",
      "    do_twice(f, x)\n",
      "    do_twice(f, x)\n",
      "    \n",
      "def my_print(s):\n",
      "    print s,\n",
      "\n",
      "def print_part(a, b):\n",
      "    do_once(my_print, a)\n",
      "    do_four(my_print, b)\n",
      "\n",
      "def print_raw4(a, b, c):\n",
      "    print_part(a, b)\n",
      "    print_part(a, b)\n",
      "    print_part(a, b)\n",
      "    print_part(a, b)\n",
      "    print c\n",
      "    \n",
      "print_raw4('+','-','+')\n",
      "print_raw4('|',' ','|')\n",
      "print_raw4('|',' ','|')\n",
      "print_raw4('|',' ','|')\n",
      "print_raw4('|',' ','|')\n",
      "print_raw4('+','-','+')\n",
      "print_raw4('|',' ','|')\n",
      "print_raw4('|',' ','|')\n",
      "print_raw4('|',' ','|')\n",
      "print_raw4('|',' ','|')\n",
      "print_raw4('+','-','+')\n",
      "print_raw4('|',' ','|')\n",
      "print_raw4('|',' ','|')\n",
      "print_raw4('|',' ','|')\n",
      "print_raw4('|',' ','|')\n",
      "print_raw4('+','-','+')\n",
      "print_raw4('|',' ','|')\n",
      "print_raw4('|',' ','|')\n",
      "print_raw4('|',' ','|')\n",
      "print_raw4('|',' ','|')\n",
      "print_raw4('+','-','+')"
     ],
     "language": "python",
     "metadata": {},
     "outputs": [
      {
       "output_type": "stream",
       "stream": "stdout",
       "text": [
        "+ - - - - + - - - - + - - - - + - - - - +\n",
        "|         |         |         |         |\n",
        "|         |         |         |         |\n",
        "|         |         |         |         |\n",
        "|         |         |         |         |\n",
        "+ - - - - + - - - - + - - - - + - - - - +\n",
        "|         |         |         |         |\n",
        "|         |         |         |         |\n",
        "|         |         |         |         |\n",
        "|         |         |         |         |\n",
        "+ - - - - + - - - - + - - - - + - - - - +\n",
        "|         |         |         |         |\n",
        "|         |         |         |         |\n",
        "|         |         |         |         |\n",
        "|         |         |         |         |\n",
        "+ - - - - + - - - - + - - - - + - - - - +\n",
        "|         |         |         |         |\n",
        "|         |         |         |         |\n",
        "|         |         |         |         |\n",
        "|         |         |         |         |\n",
        "+ - - - - + - - - - + - - - - + - - - - +\n"
       ]
      }
     ],
     "prompt_number": 7
    },
    {
     "cell_type": "markdown",
     "metadata": {},
     "source": [
      "## Problem 1.5\n",
      "\n",
      "Write a **resursive function** called `do_n` that takes a function object and a number, `n`, as arguments, and that calls the given function n times."
     ]
    },
    {
     "cell_type": "code",
     "collapsed": false,
     "input": [
      "# Problem 1.5\n",
      "\n",
      "def do_n(f, n):\n",
      "    if n == 0:\n",
      "        return\n",
      "    else:\n",
      "        f()\n",
      "        n = n-1\n",
      "        do_n(f, n)\n",
      "\n",
      "def print_spam():\n",
      "    print 'spam'\n",
      "\n",
      "do_n(print_spam, 10)"
     ],
     "language": "python",
     "metadata": {},
     "outputs": [
      {
       "output_type": "stream",
       "stream": "stdout",
       "text": [
        "spam\n",
        "spam\n",
        "spam\n",
        "spam\n",
        "spam\n",
        "spam\n",
        "spam\n",
        "spam\n",
        "spam\n",
        "spam\n"
       ]
      }
     ],
     "prompt_number": 8
    },
    {
     "cell_type": "markdown",
     "metadata": {},
     "source": [
      "## Problem 1.6\n",
      "\n",
      "Write some code that asks the user for the Cartesian coordinates $x$,$y$ of a point in 2D space, and calculate the print the corresponding polar coordinates, with the angle $\\theta$ given in degrees."
     ]
    },
    {
     "cell_type": "code",
     "collapsed": false,
     "input": [
      "# Problem 1.6\n",
      "import math\n",
      "\n",
      "x = raw_input('input x: ')\n",
      "y = raw_input('input y: ')\n",
      "x = float(x)\n",
      "y = float(y)\n",
      "\n",
      "r = math.sqrt(x*x+y*y)\n",
      "theta = 180.0*math.atan(y/x)/math.pi\n",
      "print r, theta"
     ],
     "language": "python",
     "metadata": {},
     "outputs": [
      {
       "name": "stdout",
       "output_type": "stream",
       "stream": "stdout",
       "text": [
        "input x: 3\n"
       ]
      },
      {
       "name": "stdout",
       "output_type": "stream",
       "stream": "stdout",
       "text": [
        "input y: 4\n"
       ]
      },
      {
       "output_type": "stream",
       "stream": "stdout",
       "text": [
        "5.0 53.1301023542\n"
       ]
      }
     ],
     "prompt_number": 9
    },
    {
     "cell_type": "markdown",
     "metadata": {},
     "source": [
      "## Problem 1.7\n",
      "\n",
      "Fermat\u2019s Last Theorem says that there are no positive integers $a$, $b$, and $c$ such that\n",
      "\n",
      "$$\n",
      "  a^n + b^n = c^n \n",
      "$$\n",
      "for any values of $n$ greater than 2.\n",
      "\n",
      "1. Write a function named `check_fermat` that takes four parameters\u2014`a`, `b`, `c` and `n`\u2014and that checks to see if Fermat\u2019s theorem holds.\n",
      " * If `n` is greater than 2 and it turns out to be true that $a^n + b^n = c^n$ \n",
      "the program should print, \u201cHoly smokes, Fermat was wrong!\u201d.\n",
      " * Otherwise the program should print, \u201cNo, that doesn\u2019t work.\u201d\n",
      "\n",
      "2. Write a function that prompts the user to input values for `a`, `b`, `c` and `n`, converts them to integers, and uses `check_fermat` to check whether they violate Fermat\u2019s theorem.\n",
      "\n"
     ]
    },
    {
     "cell_type": "code",
     "collapsed": false,
     "input": [
      "# Problem 1.7\n",
      "\n",
      "def check_fermat(a, b, c, n):\n",
      "    if a**n + b**n == c**n:\n",
      "        if n > 2:\n",
      "            print 'Holy smokes, Fermat was wrong!'\n",
      "        else:\n",
      "            print 'No, that doesn\u2019t work.'\n",
      "        return\n",
      "    else:\n",
      "        print 'No, that doesn\u2019t work.'\n",
      "        return\n",
      "\n",
      "a = raw_input('input a: ')\n",
      "b = raw_input('input b: ')\n",
      "c = raw_input('input c: ')\n",
      "n = raw_input('input n: ')\n",
      "a = int(a)\n",
      "b = int(b)\n",
      "c = int(c)\n",
      "n = int(n)\n",
      "check_fermat(a,b,c,n)"
     ],
     "language": "python",
     "metadata": {},
     "outputs": [
      {
       "name": "stdout",
       "output_type": "stream",
       "stream": "stdout",
       "text": [
        "input a: 2\n"
       ]
      },
      {
       "name": "stdout",
       "output_type": "stream",
       "stream": "stdout",
       "text": [
        "input b: 3\n"
       ]
      },
      {
       "name": "stdout",
       "output_type": "stream",
       "stream": "stdout",
       "text": [
        "input c: 4\n"
       ]
      },
      {
       "name": "stdout",
       "output_type": "stream",
       "stream": "stdout",
       "text": [
        "input n: 5\n"
       ]
      },
      {
       "output_type": "stream",
       "stream": "stdout",
       "text": [
        "No, that doesn\u2019t work.\n"
       ]
      }
     ],
     "prompt_number": 10
    },
    {
     "cell_type": "markdown",
     "metadata": {},
     "source": [
      "## Problem 1.8\n",
      "\n",
      "If you are given three sticks, you may or may not be able to arrange them in a triangle. For example, if one of the sticks is 12 inches long and the other two are one inch long, it is clear that you will not be able to get the short sticks to meet in the middle. For any three lengths, there is a simple test to see if it is possible to form a triangle:\n",
      "\n",
      "> If any of the three lengths is greater than the sum of the other two, then you cannot form a triangle. Otherwise, you can. \n",
      "> (If the sum of two lengths equals the third, they form what is called a \u201cdegenerate\u201d triangle.)\n",
      "\n",
      "1. Write a function named `is_triangle` that takes three integers as arguments, and that prints either \u201cYes\u201d or \u201cNo,\u201d depending on whether you can or cannot form a triangle from sticks with the given lengths.\n",
      "\n",
      "2. Write a function that prompts the user to input three stick lengths, converts them to integers, and uses `is_triangle` to check whether sticks with the given lengths can form a triangle"
     ]
    },
    {
     "cell_type": "code",
     "collapsed": false,
     "input": [
      "# Problem 1.8\n",
      "\n",
      "def is_triangle(a, b, c):\n",
      "    if a > b + c or b > a + c or c > b + a:\n",
      "        print 'No'\n",
      "    else:\n",
      "        print 'Yes'\n",
      "\n",
      "a = raw_input('input length of side a: ')\n",
      "b = raw_input('input length of side b: ')\n",
      "c = raw_input('input length of side c: ')\n",
      "a = float(a)\n",
      "b = float(b)\n",
      "c = float(c)\n",
      "is_triangle(a, b, c)"
     ],
     "language": "python",
     "metadata": {},
     "outputs": [
      {
       "name": "stdout",
       "output_type": "stream",
       "stream": "stdout",
       "text": [
        "input length of side a: 3\n"
       ]
      },
      {
       "name": "stdout",
       "output_type": "stream",
       "stream": "stdout",
       "text": [
        "input length of side b: 4\n"
       ]
      },
      {
       "name": "stdout",
       "output_type": "stream",
       "stream": "stdout",
       "text": [
        "input length of side c: 5\n"
       ]
      },
      {
       "output_type": "stream",
       "stream": "stdout",
       "text": [
        "Yes\n"
       ]
      }
     ],
     "prompt_number": 11
    },
    {
     "cell_type": "markdown",
     "metadata": {},
     "source": [
      "## Problem 1.9\n",
      "\n",
      "Write a compare function that returns 1 if x > y, 0 if x == y, and -1 if x < y."
     ]
    },
    {
     "cell_type": "code",
     "collapsed": false,
     "input": [
      "# Problem 1.9\n",
      "\n",
      "def my_compare(x, y):\n",
      "    if x > y:\n",
      "        return 1\n",
      "    elif x < y:\n",
      "        return -1\n",
      "    elif x == y:\n",
      "        return 0\n",
      "\n",
      "print my_compare(1., 2.)\n",
      "print my_compare(2., 1.)\n",
      "print my_compare(2.00000001, 2.00000001)\n",
      "print my_compare(2.0, 2.0000000000000000001)"
     ],
     "language": "python",
     "metadata": {},
     "outputs": [
      {
       "output_type": "stream",
       "stream": "stdout",
       "text": [
        "-1\n",
        "1\n",
        "0\n",
        "0\n"
       ]
      }
     ],
     "prompt_number": 12
    },
    {
     "cell_type": "markdown",
     "metadata": {},
     "source": [
      "## Problem 1.10\n",
      "\n",
      "The Ackermann function, $A(m, n)$, is defined:\n",
      "\n",
      "$$\n",
      "\\begin{eqnarray*}\n",
      "A(m, n) = \\begin{cases}\n",
      "              n+1 & \\mbox{if } m = 0 \\\\\n",
      "        A(m-1, 1) & \\mbox{if } m > 0 \\mbox{ and } n = 0 \\\\\n",
      "A(m-1, A(m, n-1)) & \\mbox{if } m > 0 \\mbox{ and } n > 0.\n",
      "\\end{cases}\n",
      "\\end{eqnarray*}\n",
      "$$\n",
      "\n",
      "See http://en.wikipedia.org/wiki/Ackermann_function.\n",
      "* Write a function named ack that evaluates Ackermann\u2019s function. \n",
      "* Use your function to evaluate $ack(3, 4)$, which should be 125.\n",
      "* What happens for larger values of m and n?"
     ]
    },
    {
     "cell_type": "code",
     "collapsed": false,
     "input": [
      "# Problem 1.10\n",
      "\n",
      "def ack(m,n):\n",
      "    if m ==0:\n",
      "        return n+1\n",
      "    elif m > 0:\n",
      "        if n ==0:\n",
      "            return ack(m-1, 1)\n",
      "        if n > 0:\n",
      "            tmp = ack(m, n-1)\n",
      "            return ack(m-1, tmp)\n",
      "        else:\n",
      "            return None\n",
      "    else:\n",
      "        return None\n",
      "\n",
      "# print ack(0, 0)\n",
      "# print ack(0, 1)\n",
      "# print ack(1, 0)\n",
      "# print ack(1, 1)\n",
      "for m in range(0,4):\n",
      "    print 'm =', m,'=>', \n",
      "    for n in range(0,7):\n",
      "        print ack(m,n),\n",
      "    print"
     ],
     "language": "python",
     "metadata": {},
     "outputs": [
      {
       "output_type": "stream",
       "stream": "stdout",
       "text": [
        "m = 0 => 1 2 3 4 5 6 7\n",
        "m = 1 => 2 3 4 5 6 7 8\n",
        "m = 2 => 3 5 7 9 11 13 15\n",
        "m = 3 => 5 13 29 61 125 253 "
       ]
      },
      {
       "output_type": "stream",
       "stream": "stdout",
       "text": [
        "509\n"
       ]
      }
     ],
     "prompt_number": 13
    },
    {
     "cell_type": "markdown",
     "metadata": {},
     "source": [
      "## Problem 1.11\n",
      "\n",
      "A number, a, is a power of b if it is divisible by b and a/b is a power of b. Write a function called `is_power` that takes parameters a and b and returns True if a is a power of b. Note: you will have to think about the base case."
     ]
    },
    {
     "cell_type": "code",
     "collapsed": false,
     "input": [
      "# Problem 1.11\n",
      "\n",
      "def is_power(a, b):\n",
      "    print a, b\n",
      "    if isinstance(a, int) != True:\n",
      "        print 'Error, a is not an integer'\n",
      "        return None\n",
      "    if isinstance(b, int) != True:\n",
      "        print 'Error, b is not an integer'\n",
      "        return None\n",
      "\n",
      "    if a % b != 0:\n",
      "        return False\n",
      "    elif a == b:\n",
      "        return True\n",
      "    else:\n",
      "        return is_power(a/b, b)\n",
      "    \n",
      "print is_power(232323, 3)\n",
      "print is_power(3**8, 3)"
     ],
     "language": "python",
     "metadata": {},
     "outputs": [
      {
       "output_type": "stream",
       "stream": "stdout",
       "text": [
        "232323 3\n",
        "77441 3\n",
        "False\n",
        "6561 3\n",
        "2187 3\n",
        "729 3\n",
        "243 3\n",
        "81 3\n",
        "27 3\n",
        "9 3\n",
        "3 3\n",
        "True\n"
       ]
      }
     ],
     "prompt_number": 14
    },
    {
     "cell_type": "markdown",
     "metadata": {},
     "source": [
      "## Problem 1.12\n",
      "\n",
      "The greatest common divisor (GCD) of a and b is the largest number that divides both of them with no remainder.\n",
      "\n",
      "One way to find the GCD of two numbers is based on the observation that if r is the remainder when a is divided by b, then gcd(a, b) = gcd(b, r). As a base case, we can use gcd(a, 0) = a.\n",
      "\n",
      "Write a function called `gcd` that takes parameters a and b and returns their greatest common divisor."
     ]
    },
    {
     "cell_type": "code",
     "collapsed": false,
     "input": [
      "# Problem 1.12\n",
      "\n",
      "def gcd(a, b):\n",
      "    if b == 0:\n",
      "        return a\n",
      "    else:\n",
      "        r = a % b\n",
      "        return gcd(b, r)\n",
      "\n",
      "print gcd(54, 24)"
     ],
     "language": "python",
     "metadata": {},
     "outputs": [
      {
       "output_type": "stream",
       "stream": "stdout",
       "text": [
        "6\n"
       ]
      }
     ],
     "prompt_number": 15
    }
   ],
   "metadata": {}
  }
 ]
}