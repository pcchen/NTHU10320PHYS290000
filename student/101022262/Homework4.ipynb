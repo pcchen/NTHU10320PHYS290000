{
 "metadata": {
  "name": "",
  "signature": "sha256:93e8ce684232aaa89832ac21214b4d02a651acfe8365f13cac312e98fad65204"
 },
 "nbformat": 3,
 "nbformat_minor": 0,
 "worksheets": [
  {
   "cells": [
    {
     "cell_type": "markdown",
     "metadata": {},
     "source": [
      "# Homework 4"
     ]
    },
    {
     "cell_type": "markdown",
     "metadata": {},
     "source": [
      "## Problem 1 \n",
      "\n",
      "1. Implement the `Point` class.\n",
      "2. Implement the `Rectangle` class.\n",
      "3. Write a function called `distance_between_points` that takes two Points as arguments and returns the distance between them.\n",
      "4. Write a function named `move_rectangle` that takes a Rectangle and two numbers named `dx` and `dy`. It should change the location of the rectangle by adding `dx` to the `x` coordinate of corner and adding `dy` to the `y` coordinate of corner.\n",
      "5. Write a function named `move_rectangle_new` that is similar to the `move_rectangle` but it creates and returns a new Rectangle instead of modifying the old one.\n",
      "6. Write some codes to demonstrate the usage of functions above."
     ]
    },
    {
     "cell_type": "code",
     "collapsed": false,
     "input": [
      "from math import sqrt\n",
      "import copy as c\n",
      "class Point(object):\n",
      "    \"\"\"a point in 2D plane ,  x and y coordinates\"\"\"\n",
      "p1 = Point()\n",
      "p1.x = 0\n",
      "p1.y = 0\n",
      "p2 = Point()\n",
      "p2.x = 3\n",
      "p2.y = 4\n",
      "\n",
      "class Rectangle(object):\n",
      "    \"\"\"a rectangle in 2D plane , width and height and corner \"\"\"\n",
      "rec = Rectangle()\n",
      "rec.w = 4   #width\n",
      "rec.h = 2   #height\n",
      "rec.corner = Point()\n",
      "rec.corner.x = 1\n",
      "rec.corner.y = 1\n",
      "\n",
      "\n",
      "    \n",
      "def distance_between_points(point1,point2):\n",
      "    d = sqrt((point1.x-point2.x)**2 + (point1.y-point2.y)**2)\n",
      "    return d\n",
      "def move_rectangle(rec,dx,dy):\n",
      "    rec.corner.x = rec.corner.x + dx\n",
      "    rec.corner.y = rec.corner.y + dy\n",
      "    print rec.corner.x , rec.corner.y\n",
      "\n",
      "    \n",
      "def move_rectangle_new(rec,dx,dy):\n",
      "    newrec = c.copy(rec)\n",
      "    newrec.corner.x += dx\n",
      "    newrec.corner.y += dy\n",
      "    print newrec.corner.x, newrec.corner.y\n",
      "    \n",
      "print distance_between_points(p1,p2)                   #checked\n",
      "\n",
      "move_rectangle(rec,2,3)                               #checked\n",
      "move_rectangle_new(rec,3,4)                             #checked\n",
      "\n",
      "#done\n"
     ],
     "language": "python",
     "metadata": {},
     "outputs": [
      {
       "output_type": "stream",
       "stream": "stdout",
       "text": [
        "5.0\n",
        "3 4\n",
        "6 8\n"
       ]
      }
     ],
     "prompt_number": 14
    },
    {
     "cell_type": "markdown",
     "metadata": {},
     "source": [
      "## Problem 2\n",
      "\n",
      "1. Implement the `Time` class.\n",
      "2. Write a function called `print_time` that takes a Time object and prints it in the form `hour:minute:second`. \n",
      "  **Hint**: the format sequence '%.2d' prints an integer using at least two digits, including a leading zero if necessary.\n",
      "3. Write a boolean function called `is_after` that takes two Time objects, `t1` and `t2`, and returns `True` if `t1` follows `t2` chronologically and `False` otherwise. **Challenge**: don\u2019t use an `if` statement.\n",
      "4. Write a function called `increment_modifier` that adds a given number of seconds to a Time object. It should modify the original time object. It should not contain any loops.\n",
      "5. Write a function called `increment_pure` that adds a given number of seconds to a Time object. It should create and return a new Time object.\n",
      "6. Write a function called `mul_time` that takes a Time object and a number and returns a new Time object that contains the product of the original Time and the number.\n",
      "7. Use `mul_time` to write a function that takes a Time object that represents the finishing time in a race, and a number that represents the distance, and returns a Time object that represents the average pace (time per mile).\n",
      "8. Write some codes to demonstrate the usage of functions above."
     ]
    },
    {
     "cell_type": "code",
     "collapsed": false,
     "input": [
      "from time import *\n",
      "class Time(object):\n",
      "    \"\"\" The time is represented as international 24hours format\"\"\" \n",
      "def t_to_s(t):                    #convert hour:minute:second   --> pure second\n",
      "    return (t.hour*3600 + t.minute*60 + t.second)  \n",
      "\n",
      "def s_to_t(s):                   #convert pure second   -->   hour:minute:second   \n",
      "    t = Time()\n",
      "    hour,remain = divmod(s,3600)\n",
      "    if hour > 24:\n",
      "        hour = 0 + (hour-24)\n",
      "    minute,second = divmod(remain,60)\n",
      "    t.hour,t.minute,t.second = (hour,minute,second)\n",
      "    return t\n",
      "\n",
      "def print_time(t):\n",
      "    print \" %.2d:%.2d:%.2d \" %(t.hour,t.minute,t.second)\n",
      "    \n",
      "def is_after(t1,t2):\n",
      "    while t_to_s(t1) > t_to_s(t2) :\n",
      "        return True\n",
      "    return False\n",
      "\n",
      "def increment_modifier(t,s):\n",
      "    l = t_to_s(t)+s\n",
      "    t.hour,remain = divmod(l,3600)\n",
      "    t.minute,t.second = divmod(remain,60)\n",
      "    return t\n",
      "\n",
      "def increment_pure(t,s):\n",
      "    t_s = t_to_s(t)\n",
      "    t_s += s\n",
      "    t_new = Time()\n",
      "    t_new.hour,remain = divmod(t_s,3600)\n",
      "    t_new.minute,t_new.second = divmod(remain,60)\n",
      "    print_time(t_new)\n",
      "    \n",
      "def mul_time(t,n):\n",
      "    t_s = t_to_s(t)\n",
      "    t_s = t_s * n  \n",
      "    t_new = s_to_t(t_s)\n",
      "    print_time(t_new)\n",
      "\n",
      "def average_pace(time,distance):           #distance should be input with mile\n",
      "    t_s = t_to_s(time)\n",
      "    pace = t_s/distance\n",
      "    time_pace = s_to_t(pace)\n",
      "    print_time(time_pace)\n",
      "    \n",
      "    \n",
      "\n",
      "t1 = Time()\n",
      "t1.hour = 12\n",
      "t1.minute =30\n",
      "t1.second = 05\n",
      "t2 = Time()\n",
      "t2.hour = 13\n",
      "t2.minute = 55\n",
      "t2.second = 11\n",
      "\n",
      "\n",
      "\n",
      "print_time(t1)    #checked\n",
      "is_after(t1,t2)   #checked\n",
      "increment_modifier(t1,30) #checked\n",
      "print_time(t1)\n",
      "increment_pure(t1,40) #checked\n",
      "mul_time(t1,2)      #checked\n",
      "average_pace(t1,200)  #checked\n",
      "\n",
      "#done\n",
      "\n",
      "# Problem 2\n",
      "# 1\n",
      "# 2\n",
      "# 3\n",
      "# 4\n",
      "# 5\n",
      "# 6\n",
      "# 7\n",
      "# 8"
     ],
     "language": "python",
     "metadata": {},
     "outputs": [
      {
       "output_type": "stream",
       "stream": "stdout",
       "text": [
        " 12:30:05 \n",
        " 12:30:35 \n",
        " 12:31:15 \n",
        " 01:01:10 \n",
        " 00:03:45 \n",
        "225\n"
       ]
      }
     ],
     "prompt_number": 91
    },
    {
     "cell_type": "markdown",
     "metadata": {},
     "source": [
      "## Problem 3\n",
      "\n",
      "1. Write a class definition for a Date object that has attributes `day`, `month` and `year`.\n",
      "2. Write a function called `increment_date` that takes a Date object, `date` and an integer, `n`, and returns a new Date object that represents the day `n` days after date.\n",
      "3. **Challenge**: does your function deal with leap years correctly? See http://en.wikipedia.org/wiki/Leap_year."
     ]
    },
    {
     "cell_type": "code",
     "collapsed": false,
     "input": [
      "class Date(object):\n",
      "    ''' year month day'''\n",
      "def increment_date(date,n):\n",
      "    if date.year%4 == 0:\n",
      "        year_type = 366\n",
      "        month_dict = {1:31, 2:29,3:31,4:30,5:31,6:30,7:31,8:31,9:30,10:31,11:30,12:31}\n",
      "        \n",
      "    else:\n",
      "        year_type = 365\n",
      "        month_dict = {1:31, 2:28,3:31,4:30,5:31,6:30,7:31,8:31,9:30,10:31,11:30,12:31}\n",
      "    day_of_year = (date.year - 1)* year_type                #OK\n",
      "    l = range(date.month)\n",
      "    day = 0\n",
      "    for i in l:\n",
      "        additional = (i+1)*month_dict[i+1]\n",
      "        day += additional\n",
      "    total_day = day_of_year + day + date.day + n                               \n",
      "#----------------------------------------------------------------up to here, all are converted to days\n",
      "    \n",
      "    no1, remain = divmod(total_day,1461)\n",
      "    no2, remain1 = divmod(remain,365)\n",
      "    r_year = no1*4  + no2\n",
      "    m_d = 0\n",
      "    r_month = 0\n",
      "    while remain1 >  m_d:\n",
      "        for i in range(12):\n",
      "            m_d += month_dict[i+1]\n",
      "            r_month += i\n",
      "\n",
      "    if remain1 < m_d:\n",
      "        temp = m_d - remain1\n",
      "        r_day = month_dict[i-1] - temp\n",
      "            \n",
      "    if remain1 == m_d:\n",
      "        r_day = m_d\n",
      "\n",
      "    new_date = Date()\n",
      "    new_date.day = r_day\n",
      "    new_date.month = r_month\n",
      "    new_date.year = r_year\n",
      "    print new_date.day, new_date.month, new_date.year\n",
      "\n",
      "\n",
      "            \n",
      "        \n",
      "#------------------------------------------------test code--------------------------------#\n",
      "d = Date()\n",
      "d.day = 28\n",
      "d.month = 4\n",
      "d.year = 1993\n",
      "increment_date(d,2)\n",
      "\n",
      "\n",
      "# Problem 3\n",
      "\n",
      "#1\n",
      "#2\n",
      "#3"
     ],
     "language": "python",
     "metadata": {},
     "outputs": [
      {
       "output_type": "stream",
       "stream": "stdout",
       "text": [
        "-136 66 1991\n"
       ]
      }
     ],
     "prompt_number": 26
    },
    {
     "cell_type": "markdown",
     "metadata": {},
     "source": [
      "## Problem 4\n",
      "\n",
      "The `datetime` module provides date and time objects that are similar to the Date and Time objects in this chapter, but they provide a rich set of methods and operators. Read the documentation at http://docs.python.org/2/library/datetime.html.\n",
      "\n",
      "1. Use the `datetime` module to write a program that gets the current date and prints the day of the week.\n",
      "2. Write a program that takes a birthday as input and prints the user\u2019s age and the number of days, hours, minutes and seconds until their next birthday.\n",
      "3. For two people born on different days, there is a day when one is twice as old as the other. That\u2019s their Double Day. Write a program that takes two birthdays and computes their Double Day.\n",
      "4. For a little more challenge, write the more general version that computes the day when one person is `n` times older than the other."
     ]
    },
    {
     "cell_type": "code",
     "collapsed": false,
     "input": [
      "from datetime import date\n",
      "test = datetime.today()\n",
      "test.strftime(\"%A %d. %B %Y\")     # checked\n",
      "birth = date(1993,4,28)\n",
      "age = test.year - birth.year\n",
      "print \"age =\" ,age\n",
      "n_birth = date(2016,4,28)\n",
      "d = n_birth - test\n",
      "timedelta(d)\n"
     ],
     "language": "python",
     "metadata": {},
     "outputs": [
      {
       "output_type": "stream",
       "stream": "stdout",
       "text": [
        "age = 22\n"
       ]
      },
      {
       "ename": "TypeError",
       "evalue": "unsupported operand type(s) for -: 'datetime.date' and 'datetime.datetime'",
       "output_type": "pyerr",
       "traceback": [
        "\u001b[1;31m---------------------------------------------------------------------------\u001b[0m\n\u001b[1;31mTypeError\u001b[0m                                 Traceback (most recent call last)",
        "\u001b[1;32m<ipython-input-95-1549278d367f>\u001b[0m in \u001b[0;36m<module>\u001b[1;34m()\u001b[0m\n\u001b[0;32m      6\u001b[0m \u001b[1;32mprint\u001b[0m \u001b[1;34m\"age =\"\u001b[0m \u001b[1;33m,\u001b[0m\u001b[0mage\u001b[0m\u001b[1;33m\u001b[0m\u001b[0m\n\u001b[0;32m      7\u001b[0m \u001b[0mn_birth\u001b[0m \u001b[1;33m=\u001b[0m \u001b[0mdate\u001b[0m\u001b[1;33m(\u001b[0m\u001b[1;36m2016\u001b[0m\u001b[1;33m,\u001b[0m\u001b[1;36m4\u001b[0m\u001b[1;33m,\u001b[0m\u001b[1;36m28\u001b[0m\u001b[1;33m)\u001b[0m\u001b[1;33m\u001b[0m\u001b[0m\n\u001b[1;32m----> 8\u001b[1;33m \u001b[0md\u001b[0m \u001b[1;33m=\u001b[0m \u001b[0mn_birth\u001b[0m \u001b[1;33m-\u001b[0m \u001b[0mtest\u001b[0m\u001b[1;33m\u001b[0m\u001b[0m\n\u001b[0m\u001b[0;32m      9\u001b[0m \u001b[0mtimedelta\u001b[0m\u001b[1;33m(\u001b[0m\u001b[0md\u001b[0m\u001b[1;33m)\u001b[0m\u001b[1;33m\u001b[0m\u001b[0m\n",
        "\u001b[1;31mTypeError\u001b[0m: unsupported operand type(s) for -: 'datetime.date' and 'datetime.datetime'"
       ]
      }
     ],
     "prompt_number": 95
    },
    {
     "cell_type": "markdown",
     "metadata": {},
     "source": [
      "## Problem 5\n",
      "\n",
      "Implement the `Point` class and the `Rectangle` class, with following methods.\n",
      "\n",
      "1. Write an `init` method for the Point class that takes `x` and `y` as optional parameters and assigns them to the corresponding attributes.\n",
      "2. Write a `str` method for the Point class.\n",
      "3. Write an `add` method for Points that works with either a Point object or a tuple:\n",
      "  * If the second operand is a Point, the method should return a new Point whose `x` coordinate is the sum of the `x` coordinates of the operands, and likewise for the `y` coordinates.\n",
      "  * If the second operand is a tuple, the method should add the first element of the tuple to the `x` coordinate and the second element to the `y` coordinate, and return a new Point with the result.\n",
      "4. Write some codes to demonstrate the usage of methods above."
     ]
    },
    {
     "cell_type": "code",
     "collapsed": false,
     "input": [
      "# Problem 5\n",
      "class Point(object):\n",
      "    ''' 2D point have x and y coordinates'''\n",
      "    def __init__(self, x, y):\n",
      "       self.x = x\n",
      "       self.y = y\n",
      "    def __str__(self):\n",
      "        return '%d, %d' %(self.x,self.y)\n",
      "    def add(self,p2):\n",
      "        if type(p2) == tuple:\n",
      "            t1,t2 = p2\n",
      "            x = self.x + t1\n",
      "            y = self.y + t2\n",
      "            np = Point(x,y)\n",
      "        else:\n",
      "            x = self.x + p2.x\n",
      "            y = self.y + p2.y\n",
      "            np = Point(x,y)\n",
      "        return '%d, %d'    %(np.x, np.y)\n",
      "        \n",
      "\n",
      "p1 = Point(1, 2)    #checked\n",
      "p2 = Point(2, 2)\n",
      "print p1            #checked\n",
      "t=(1,2)\n",
      "print p1.add(t)\n",
      "print p1.add(p2)    #checked\n",
      "\n",
      "#done\n",
      "\n",
      "#1\n",
      "#2\n",
      "#3\n",
      "#4"
     ],
     "language": "python",
     "metadata": {},
     "outputs": [
      {
       "output_type": "stream",
       "stream": "stdout",
       "text": [
        "1, 2\n",
        "2, 4\n",
        "3, 4\n"
       ]
      }
     ],
     "prompt_number": 69
    },
    {
     "cell_type": "code",
     "collapsed": false,
     "input": [],
     "language": "python",
     "metadata": {},
     "outputs": []
    }
   ],
   "metadata": {}
  }
 ]
}