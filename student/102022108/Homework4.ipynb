{
 "metadata": {
  "name": "",
  "signature": "sha256:77d89f25b5e83257ce3ddcd1e23a7bcc767b8978b0b936c39d4495cd28550ac7"
 },
 "nbformat": 3,
 "nbformat_minor": 0,
 "worksheets": [
  {
   "cells": [
    {
     "cell_type": "markdown",
     "metadata": {},
     "source": [
      "# Homework 4"
     ]
    },
    {
     "cell_type": "markdown",
     "metadata": {},
     "source": [
      "## Problem 1 \n",
      "\n",
      "1. Implement the `Point` class.\n",
      "2. Implement the `Rectangle` class.\n",
      "3. Write a function called `distance_between_points` that takes two Points as arguments and returns the distance between them.\n",
      "4. Write a function named `move_rectangle` that takes a Rectangle and two numbers named `dx` and `dy`. It should change the location of the rectangle by adding `dx` to the `x` coordinate of corner and adding `dy` to the `y` coordinate of corner.\n",
      "5. Write a function named `move_rectangle_new` that is similar to the `move_rectangle` but it creates and returns a new Rectangle instead of modifying the old one.\n",
      "6. Write some codes to demonstrate the usage of functions above."
     ]
    },
    {
     "cell_type": "code",
     "collapsed": false,
     "input": [
      "# Problem 1\n",
      "class Point(object):\n",
      "    \"\"\"Represents a point in 2-D space.\"\"\"\n",
      "\n",
      "class Rectangle(object):\n",
      "    \"\"\"Represents a rectangle. \n",
      "\n",
      "    attributes: width, height, corner.\n",
      "    \"\"\"\n",
      "# 1 \n",
      "\n",
      "\n",
      "hallo = Point()\n",
      "hallo.x = 1.0\n",
      "hallo.y = 1.0\n",
      "\n",
      "# 2\n",
      "TTT = Rectangle()\n",
      "TTT.lengh = 10.0\n",
      "TTT.width = 10.0\n",
      "TTT.corner = Point()\n",
      "TTT.corner.x = 0.0\n",
      "TTT.corner.y = 0.0\n",
      "# 3\n",
      "def distance_between_points(a,b):\n",
      "    d=((b.x-a.x)**2+(b.y-a.y)**2)**0.5\n",
      "    print d\n",
      "    \n",
      "# 4\n",
      "def move_rectangle(rect,dx,dy):\n",
      "    x=rect.corner.x+dx\n",
      "    y=rect.corner.y+dx\n",
      "    rect.corner.x=x\n",
      "    rect.corner.y=y\n",
      "    return rect\n",
      "    \n",
      "    \n",
      "\n",
      "# 5\n",
      "def move_rectangle_new(rect,dx,dy):\n",
      "    x=rect.corner.x+dx\n",
      "    y=rect.corner.y+dx\n",
      "    box=Rectangle()\n",
      "    box.corner.x=x\n",
      "    box.corner.y=y\n",
      "    return box"
     ],
     "language": "python",
     "metadata": {},
     "outputs": [],
     "prompt_number": 3
    },
    {
     "cell_type": "markdown",
     "metadata": {},
     "source": [
      "## Problem 2\n",
      "\n",
      "1. Implement the `Time` class.\n",
      "2. Write a function called `print_time` that takes a Time object and prints it in the form `hour:minute:second`. \n",
      "  **Hint**: the format sequence '%.2d' prints an integer using at least two digits, including a leading zero if necessary.\n",
      "3. Write a boolean function called `is_after` that takes two Time objects, `t1` and `t2`, and returns `True` if `t1` follows `t2` chronologically and `False` otherwise. **Challenge**: don\u2019t use an `if` statement.\n",
      "4. Write a function called `increment_modifier` that adds a given number of seconds to a Time object. It should modify the original time object. It should not contain any loops.\n",
      "5. Write a function called `increment_pure` that adds a given number of seconds to a Time object. It should create and return a new Time object.\n",
      "6. Write a function called `mul_time` that takes a Time object and a number and returns a new Time object that contains the product of the original Time and the number.\n",
      "7. Use `mul_time` to write a function that takes a Time object that represents the finishing time in a race, and a number that represents the distance, and returns a Time object that represents the average pace (time per mile).\n",
      "8. Write some codes to demonstrate the usage of functions above."
     ]
    },
    {
     "cell_type": "code",
     "collapsed": false,
     "input": [
      "# Problem 2\n",
      "\n",
      "# 1\n",
      "class Time(object):\n",
      "    \"\"\"Represents the time of day.\n",
      "    attributes: hour, minute, second\n",
      "    \"\"\"\n",
      "# 2\n",
      "def print_time(time):\n",
      "    print '%.2d:%.2d:%.2d' % (time.hour, time.minute, time.second)\n",
      "  \n",
      "# 3\n",
      "def is_after(t1,t2):\n",
      "    A=t1.hour*3600+t1.minute*60+t1.second\n",
      "    B=t2.hour*3600+t2.minute*60+t2.second\n",
      "    if A>B:\n",
      "        return True\n",
      "    else :\n",
      "        return False\n",
      "# 4\n",
      "def increment_modifier(t,s):\n",
      "    R=t.hour*3600+t.minute*60+t.second+s\n",
      "    t.hour=R/3600\n",
      "    t.minute=(R%3600)/60\n",
      "    t.second=R%60\n",
      "# 5\n",
      "def increment_pure(t,s):\n",
      "    R=t.hour*3600+t.minute*60+t.second+s\n",
      "    k=Time()\n",
      "    k.hour=R/3600\n",
      "    k.minute=(R%3600)/60\n",
      "    k.second=R%60\n",
      "    return k\n",
      "# 6\n",
      "def mul_time(t,m):\n",
      "    R=t.hour*3600+t.minute*60+t.second+s\n",
      "    n=2*R\n",
      "    k=Time()\n",
      "    k.hour=n/3600\n",
      "    k.minute=(n%3600)/60\n",
      "    k.second=n%60\n",
      "    return k\n",
      "# 7\n",
      "# 8"
     ],
     "language": "python",
     "metadata": {},
     "outputs": [],
     "prompt_number": 2
    },
    {
     "cell_type": "markdown",
     "metadata": {},
     "source": [
      "## Problem 3\n",
      "\n",
      "1. Write a class definition for a Date object that has attributes `day`, `month` and `year`.\n",
      "2. Write a function called `increment_date` that takes a Date object, `date` and an integer, `n`, and returns a new Date object that represents the day `n` days after date.\n",
      "3. **Challenge**: does your function deal with leap years correctly? See http://en.wikipedia.org/wiki/Leap_year."
     ]
    },
    {
     "cell_type": "code",
     "collapsed": false,
     "input": [
      "# Problem 3\n",
      "#1\n",
      "class Date(object):\n",
      "    \"\"\"Represents the day of centery.\n",
      "    attributes: day, month, year\n",
      "    \"\"\"\n",
      "#2\n",
      "def increment_date(d,n):\n",
      "    J=d.month\n",
      "    if J==2:\n",
      "        H=d.year*365+59+d.day+n\n",
      "    elif J%2==0:\n",
      "        H=d.year*365+J*30.5+d.day+n-2\n",
      "    else:\n",
      "        H=d.year*365+J*30.5+d.day+n-1.5\n",
      "    I=Date()\n",
      "    I.year=n/365\n",
      "    \n",
      "    I.month=(n%365)/30\n",
      "    I.day=n%30\n",
      "    return I    \n",
      "    \n",
      "\n",
      "#3"
     ],
     "language": "python",
     "metadata": {},
     "outputs": [],
     "prompt_number": 4
    },
    {
     "cell_type": "markdown",
     "metadata": {},
     "source": [
      "## Problem 4\n",
      "\n",
      "The `datetime` module provides date and time objects that are similar to the Date and Time objects in this chapter, but they provide a rich set of methods and operators. Read the documentation at http://docs.python.org/2/library/datetime.html.\n",
      "\n",
      "1. Use the `datetime` module to write a program that gets the current date and prints the day of the week.\n",
      "2. Write a program that takes a birthday as input and prints the user\u2019s age and the number of days, hours, minutes and seconds until their next birthday.\n",
      "3. For two people born on different days, there is a day when one is twice as old as the other. That\u2019s their Double Day. Write a program that takes two birthdays and computes their Double Day.\n",
      "4. For a little more challenge, write the more general version that computes the day when one person is `n` times older than the other."
     ]
    },
    {
     "cell_type": "code",
     "collapsed": false,
     "input": [
      "# Problem 4\n",
      "class datetime(object):\n",
      "    \n",
      "today = date.today()\n",
      "print today ,  date.isoweekday(today)\n",
      "#1\n",
      "#2\n",
      "#3\n",
      "#4"
     ],
     "language": "python",
     "metadata": {},
     "outputs": [
      {
       "ename": "IndentationError",
       "evalue": "expected an indented block (<ipython-input-15-678fa9814fb2>, line 4)",
       "output_type": "pyerr",
       "traceback": [
        "\u001b[1;36m  File \u001b[1;32m\"<ipython-input-15-678fa9814fb2>\"\u001b[1;36m, line \u001b[1;32m4\u001b[0m\n\u001b[1;33m    today = date.today()\u001b[0m\n\u001b[1;37m        ^\u001b[0m\n\u001b[1;31mIndentationError\u001b[0m\u001b[1;31m:\u001b[0m expected an indented block\n"
       ]
      }
     ],
     "prompt_number": 15
    },
    {
     "cell_type": "markdown",
     "metadata": {},
     "source": [
      "## Problem 5\n",
      "\n",
      "Implement the `Point` class and the `Rectangle` class, with following methods.\n",
      "\n",
      "1. Write an `init` method for the Point class that takes `x` and `y` as optional parameters and assigns them to the corresponding attributes.\n",
      "2. Write a `str` method for the Point class.\n",
      "3. Write an `add` method for Points that works with either a Point object or a tuple:\n",
      "  * If the second operand is a Point, the method should return a new Point whose `x` coordinate is the sum of the `x` coordinates of the operands, and likewise for the `y` coordinates.\n",
      "  * If the second operand is a tuple, the method should add the first element of the tuple to the `x` coordinate and the second element to the `y` coordinate, and return a new Point with the result.\n",
      "4. Write some codes to demonstrate the usage of methods above."
     ]
    },
    {
     "cell_type": "code",
     "collapsed": false,
     "input": [
      "# Problem 5\n",
      "#1\n",
      "class Point(object):\n",
      "    \"\"\"Represents a point in 2-D space.\"\"\"\n",
      "    \n",
      "    # special methods\n",
      "    def __init__(self, x=0, y=0):\n",
      "        self.x = x\n",
      "        self.y = y\n",
      "        \n",
      "\n",
      "    def __str__(self):\n",
      "        return '%.2d:%.2d' % (self.x , self.y)\n",
      "\n",
      "#2\n",
      "class Rectangle(object):\n",
      "    \"\"\"Represents a rectangle. \n",
      "\n",
      "    attributes: width, height, corner.\n",
      "    \"\"\"\n",
      "    # special methods\n",
      "    def __init__(self , width=1 , height=1, box.corner.x = 0 , box.corner.y=0):\n",
      "        self.width = width\n",
      "        self.height = height\n",
      "        self.corner.x = box.corner.x\n",
      "        self.corner.y = box.corner.y\n",
      "    def __str__(self):\n",
      "        return '%.2d:%.2d:%.2d:%.2d' % (self.width , self.height , self.corner.x , self.corner.y )\n",
      "\n",
      "\n",
      "#3\n",
      "#4"
     ],
     "language": "python",
     "metadata": {},
     "outputs": [],
     "prompt_number": 5
    }
   ],
   "metadata": {}
  }
 ]
}