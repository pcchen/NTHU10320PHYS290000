{
 "metadata": {
  "name": "",
  "signature": "sha256:432db1d36c50d4faa923564f86e2176935b9b2926c2f2397d7ac6edd665f7349"
 },
 "nbformat": 3,
 "nbformat_minor": 0,
 "worksheets": [
  {
   "cells": [
    {
     "cell_type": "markdown",
     "metadata": {},
     "source": [
      "# Problem 2:\n",
      "# Sorting a List\n",
      "\n",
      "In this problem you should\n",
      "* Implement the **selection sort** algorithm.\n",
      "* Implement the **insertion sort** algorithm.\n",
      "* Create a list of N-elements where each element is a random integer between 0, 1, 2, ..., N-1.\n",
      "* Use your implementation of the selection sort and insertion sort to sort the the random list above.\n",
      "* Use built-in function `sorted()` that builds a new sorted list to show that your implementation is correct.\n",
      "\n",
      "## Selection sort\n",
      "\n",
      "Following is the algorithm of the **selection sort**:\n",
      "\n",
      "* Divide the input list into two sub-lists:\n",
      " * Sorted sub-list (Start with an empty list).\n",
      " * Un-Sorted sub-list.\n",
      "* Find the smallest element in the unsorted list.\n",
      "* Swap with the leftmost unsorted element.\n",
      "* Move the sub-list boundaries.\n",
      "\n",
      "Following is an example of selection sort:\n",
      "<img src=\"SelectionSort.png\" width=\"800\">\n",
      "\n",
      "## Insertion sort\n",
      "\n",
      "Following is the algorithm of the **insertion sort**:\n",
      "\n",
      "* Divide the input list into two sub-lists:\n",
      " * Sorted sub-list (Start with the leftmost element).\n",
      " * Un-Sorted sub-list.\n",
      "* Insert the leftmost element of the unsorted sub-list into the proper position of the sorted sub-list.\n",
      "* Move the sub-list boundaries \n",
      "\n",
      "Following is an example of selection sort:\n",
      "<img src=\"InsertionSort.png\" width=\"800\">"
     ]
    },
    {
     "cell_type": "markdown",
     "metadata": {},
     "source": [
      "Please write your code based on the sketch below and use the test code below to show that your function works properly."
     ]
    },
    {
     "cell_type": "code",
     "collapsed": false,
     "input": [
      "opo=[2,46,52]\n",
      "del opo[1]\n",
      "print opo"
     ],
     "language": "python",
     "metadata": {},
     "outputs": [
      {
       "output_type": "stream",
       "stream": "stdout",
       "text": [
        "[2, 52]\n"
       ]
      }
     ],
     "prompt_number": 17
    },
    {
     "cell_type": "code",
     "collapsed": false,
     "input": [
      "opo=[2,46,52]\n",
      "len(opo)\n",
      "\n",
      "\n"
     ],
     "language": "python",
     "metadata": {},
     "outputs": [
      {
       "metadata": {},
       "output_type": "pyout",
       "prompt_number": 36,
       "text": [
        "3"
       ]
      }
     ],
     "prompt_number": 36
    },
    {
     "cell_type": "code",
     "collapsed": false,
     "input": [
      "opo=[2,46,52]\n",
      "print min(opo)\n",
      "\n",
      "\n",
      "def insertion_sort(list):\n",
      "    pass\n",
      "\n"
     ],
     "language": "python",
     "metadata": {},
     "outputs": [
      {
       "output_type": "stream",
       "stream": "stdout",
       "text": [
        "2\n"
       ]
      }
     ],
     "prompt_number": 21
    },
    {
     "cell_type": "code",
     "collapsed": false,
     "input": [
      "from random import *\n",
      "\n",
      "# create a random list with N elements\n",
      "def random_list(N):\n",
      "    i=0\n",
      "    mylist=[]\n",
      "    while i<N:\n",
      "        ssss=random()\n",
      "        mylist=mylist+[ssss]\n",
      "        i=i+1\n",
      "    return mylist\n",
      "\n",
      "# selection sort\n",
      "def selection_sort(xxx):\n",
      "    listA=[]\n",
      "    listB=xxx\n",
      "    for i in range(len(xxx)):\n",
      "        listA.append(min(listB))\n",
      "        listB.remove(min(listB))\n",
      "    return listA\n",
      "    \n",
      "    \n",
      "# insertion sort\n",
      "def insertion_sort(xxx):\n",
      "    listA=[]\n",
      "    listB=xxx\n",
      "    for i in range(len(xxx)):\n",
      "        nk=listB[i]\n",
      "        listB.remove(listB[i])\n",
      "        for i in range(len(listA)):\n",
      "            if nk<listA[i]:\n",
      "                \n",
      "        \n",
      "        \n",
      "        \n",
      "        \n",
      "\n",
      "\n",
      "ccc=random_list(10)\n",
      "print ccc\n",
      "selection_sort(ccc)\n"
     ],
     "language": "python",
     "metadata": {},
     "outputs": [
      {
       "output_type": "stream",
       "stream": "stdout",
       "text": [
        "[0.15371027546125737, 0.1840317612062271, 0.6885845996944112, 0.9627145132608126, 0.9543309809134207, 0.6659533425269089, 0.14834257920802962, 0.05377452847182562, 0.9083426127439959, 0.7949064430488995]\n"
       ]
      },
      {
       "metadata": {},
       "output_type": "pyout",
       "prompt_number": 58,
       "text": [
        "[0.05377452847182562,\n",
        " 0.14834257920802962,\n",
        " 0.15371027546125737,\n",
        " 0.1840317612062271,\n",
        " 0.6659533425269089,\n",
        " 0.6885845996944112,\n",
        " 0.7949064430488995,\n",
        " 0.9083426127439959,\n",
        " 0.9543309809134207,\n",
        " 0.9627145132608126]"
       ]
      }
     ],
     "prompt_number": 58
    },
    {
     "cell_type": "code",
     "collapsed": false,
     "input": [
      "from random import *\n",
      "\n",
      "# create a random list with N elements\n",
      "def random_list(N):\n",
      "    i=0\n",
      "    mylist=[]\n",
      "    while i<N:\n",
      "        ssss=random()\n",
      "        mylist=mylist+[ssss]\n",
      "        i=i+1\n",
      "    return mylist\n",
      "\n",
      "# selection sort\n",
      "\n",
      "    \n",
      "# insertion sort\n",
      "len(random_list(8))"
     ],
     "language": "python",
     "metadata": {},
     "outputs": [
      {
       "metadata": {},
       "output_type": "pyout",
       "prompt_number": 52,
       "text": [
        "8"
       ]
      }
     ],
     "prompt_number": 52
    },
    {
     "cell_type": "code",
     "collapsed": false,
     "input": [
      "# test the implementation of selection sort\n",
      "N = 10\n",
      "L = random_list(N)\n",
      "L_sorted = sorted(L)\n",
      "selection_sort(L)\n",
      "\n",
      "for i in range(len(L)):\n",
      "    if L[i] != L_sorted[i]:\n",
      "        print 'oops!'    "
     ],
     "language": "python",
     "metadata": {},
     "outputs": [],
     "prompt_number": 2
    },
    {
     "cell_type": "code",
     "collapsed": false,
     "input": [
      "# test the implementation of insertion sort\n",
      "N = 10\n",
      "L = random_list(N)\n",
      "L_sorted = sorted(L)\n",
      "insertion_sort(L)\n",
      "\n",
      "for i in range(len(L)):\n",
      "    if L[i] != L_sorted[i]:\n",
      "        print 'oops!'    "
     ],
     "language": "python",
     "metadata": {},
     "outputs": [],
     "prompt_number": 3
    },
    {
     "cell_type": "code",
     "collapsed": false,
     "input": [],
     "language": "python",
     "metadata": {},
     "outputs": []
    }
   ],
   "metadata": {}
  }
 ]
}