{
 "metadata": {
  "name": "",
  "signature": "sha256:2e65a2b7286d26f861d5485a139fe84407a39279d904d9e18bb26931d159a40f"
 },
 "nbformat": 3,
 "nbformat_minor": 0,
 "worksheets": [
  {
   "cells": [
    {
     "cell_type": "markdown",
     "metadata": {},
     "source": [
      "# Homework 3"
     ]
    },
    {
     "cell_type": "markdown",
     "metadata": {},
     "source": [
      "## Problem 1: Logistic map, chaos, bifurcation\n",
      "\n",
      "Consider the logic map\n",
      "\n",
      "$$\n",
      "  x_{n+1} = \\alpha x_n (1-x_n)\n",
      "$$\n",
      "\n",
      "Write a program to calculates and displays the behavior of the logistic map.\n",
      "\n",
      "* For a give value of $\\alpha$, start with $x=0.5$ and iterate the logistic map equation a thousand times. \n",
      "  * That will give it a chance to settle down to a fixed point or limit cycle if its going to.\n",
      "\n",
      "* Run for another thousand iterations and plot the points $(\\alpha,x)$ on a graph where the horizontal axis is $\\alpha$ and the vertical axis is $x$.\n",
      "\n",
      "* Repeat the whole calculation for values of $\\alpha$ from 1 to 4 in steps of 0.01, plotting the dots for all values of $\\alpha$ on the same figure.\n",
      "\n",
      "Reference: https://en.wikipedia.org/wiki/Logistic_map"
     ]
    },
    {
     "cell_type": "code",
     "collapsed": false,
     "input": [
      "# Problem 1\n",
      "t1=[]\n",
      "x=0.5\n",
      "\n",
      "for b in range (1,1000):\n",
      "    a=3\n",
      "    x=a*(1-x)*x\n",
      "    if x==1/a:\n",
      "        break\n",
      "print x        \n",
      "print \"--------------------\"    \n",
      "\n",
      "x=0.5\n",
      "for e in range(0,3*10**2):\n",
      "    for b in range (1,1000):\n",
      "        i=float(e)\n",
      "        a=1+i/100\n",
      "        x=a*(1-x)*x\n",
      "        \n",
      "        if x==1/a:\n",
      "            break\n",
      "    \n",
      "    t1.append(x)\n",
      "t2=[]\n",
      "for c in range (0,3*10**2):\n",
      "    g= float (c) \n",
      "    d= 1+g/100\n",
      "    t2.append(d)\n",
      "\n",
      "\n",
      "plot(t2, t1,'bo-')    \n",
      "show()"
     ],
     "language": "python",
     "metadata": {},
     "outputs": [
      {
       "output_type": "stream",
       "stream": "stdout",
       "text": [
        "0.67399747836\n",
        "--------------------\n"
       ]
      },
      {
       "metadata": {},
       "output_type": "display_data",
       "png": "[encoded data removed]",
       "text": [
        "<matplotlib.figure.Figure at 0x867f3d0>"
       ]
      }
     ],
     "prompt_number": 73
    },
    {
     "cell_type": "markdown",
     "metadata": {},
     "source": [
      "## Problem 2: The Mandelbrot set\n",
      "\n",
      "\n",
      "\n",
      "Consider the equation\n",
      "$$\n",
      "  z^\\prime=z^2+c,\n",
      "$$\n",
      "where $z$ is a complex number and $c$ is a complex constant.\n",
      "\n",
      "For a given complex value of $c$, start with $z = 0$ and iterate repeatedly. \n",
      "If the magnitude $|z|$ of the resulting value is ever greater than $2$, \n",
      "then the point in the complex plane at position $c$ is not in the Mandelbrot set, \n",
      "otherwise it is in the set.\n",
      "\n",
      "In principle, one has to iterate infinitely many times to prove that a point is in the Mandelbrot set.\n",
      "In practice, however, one usually just performs some large number of iterations, \n",
      "say 100 or 1000, and if $|z|$ hasn't exceeded 2 by that point then we call that good enough.\n",
      "\n",
      "Write a program to make an image of the Mandelbrot set by performing the iteration for all values of $c = x + iy$ on an $N \\times N$ grid spanning the region where $-2 \\le x \\le 2$ and $-2 \\le y \\le 2$. Make a **density plot** in which grid points inside the Mandelbrot set are colored black and those outside are colored white. \n",
      "\n",
      "\n",
      "Hint: You will probably find it useful to start off with quite a coarse grid, i.e., with a small value of $N$\n",
      "(perhaps $N = 100$) so that your program runs quickly while you are testing it. \n",
      "Once you are sure it is working correctly, increase the value of $N$ to produce a final high-quality image of the shape of the set.\n",
      "\n",
      "Instead of coloring points just black or white, color points according to the number of iterations of the equation before $z$ becomes greater than $2$ (or the maximum number of iterations if $|z|$ never becomes greater than 2). Use color schemes such as the `hot` or `jet` schemes. \n",
      "\n",
      "Or to color according to the logarithm of the number of iterations.\n",
      "\n",
      "Reference: https://en.wikipedia.org/wiki/Mandelbrot_set"
     ]
    },
    {
     "cell_type": "code",
     "collapsed": false,
     "input": [
      "# Problem 2\n",
      "%pylab inline\n",
      "\n",
      "xlist=[]\n",
      "ylist=[]\n",
      "\n",
      "for x in arange(-2,2,0.01):\n",
      "    for y in arange(-2,2,0.01):\n",
      "        z=0\n",
      "        c=x+y*(1j)\n",
      "        for n in range(1,50):\n",
      "            z=z**2+c\n",
      "        if abs(z)<2:\n",
      "            xlist.append(x)\n",
      "            ylist.append(y)\n",
      "\n",
      "            \n",
      "\n",
      "plot(xlist, ylist,'.')    \n",
      "show()"
     ],
     "language": "python",
     "metadata": {},
     "outputs": [
      {
       "output_type": "stream",
       "stream": "stdout",
       "text": [
        "Populating the interactive namespace from numpy and matplotlib\n"
       ]
      },
      {
       "metadata": {},
       "output_type": "display_data",
       "png": "[encoded data removed]",
       "text": [
        "<matplotlib.figure.Figure at 0x71afa30>"
       ]
      }
     ],
     "prompt_number": 38
    },
    {
     "cell_type": "markdown",
     "metadata": {},
     "source": [
      "## Problem 3: Quadratic equations"
     ]
    },
    {
     "cell_type": "markdown",
     "metadata": {},
     "source": [
      "### Problem 3.1\n",
      "\n",
      "Write a program that takes as input three numbers, $a$, $b$, and $c$, and prints out the two solutions to the quadratic equation $ax^2 + bx + c = 0$ using the standard \ufffcformula\n",
      "\n",
      "$$\n",
      "  x = \\frac{-b\\pm\\sqrt{b^2-4ac}}{2a}.\n",
      "$$\n",
      "\n",
      "Use your program to compute the solutions of $0.001x^2 + 1000x + 0.001 = 0$."
     ]
    },
    {
     "cell_type": "code",
     "collapsed": false,
     "input": [
      "# Problem 3.1\n",
      "a=input()\n",
      "b=input()\n",
      "c=input()\n",
      "\n",
      "\n",
      "x_1= (-b+math.sqrt(b**2-4*a*c))/(2*a)\n",
      "x_2= (-b-math.sqrt(b**2-4*a*c))/(2*a)\n",
      "print x_1\n",
      "print x_2\n",
      "\n"
     ],
     "language": "python",
     "metadata": {},
     "outputs": [
      {
       "name": "stdout",
       "output_type": "stream",
       "stream": "stdout",
       "text": [
        "0.001\n"
       ]
      },
      {
       "name": "stdout",
       "output_type": "stream",
       "stream": "stdout",
       "text": [
        "1000.0\n"
       ]
      },
      {
       "name": "stdout",
       "output_type": "stream",
       "stream": "stdout",
       "text": [
        "0.001\n"
       ]
      },
      {
       "output_type": "stream",
       "stream": "stdout",
       "text": [
        "-9.99989424599e-07\n",
        "-999999.999999\n"
       ]
      }
     ],
     "prompt_number": 70
    },
    {
     "cell_type": "markdown",
     "metadata": {},
     "source": [
      "### Problem 3.2\n",
      "\n",
      "There is another way to write the solutions to a quadratic equation. Multiplying top and bottom of the solution above by $-b\\mp\\sqrt{b^2-4ac}$, one can show that the solutions \ufffccan also be written as\n",
      "\n",
      "$$\n",
      "  x = \\frac{2c}{-b\\mp\\sqrt{b^2-4ac}}.\n",
      "$$\n",
      "\n",
      "Write a program that takes as input three numbers, a, b, and c, and prints out the two solutions to the quadratic equation $ax^2+bx+c=0$ using this formula. Use the program to solve $0.001x^2 + 1000x + 0.001 = 0$."
     ]
    },
    {
     "cell_type": "code",
     "collapsed": false,
     "input": [
      "# Problem 3.2\n",
      "a=input()\n",
      "b=input()\n",
      "c=input()\n",
      "\n",
      "x_1=2*c/((-b)-math.sqrt(b**2-4*a*c))\n",
      "x_2=2*c/((-b)+math.sqrt(b**2-4*a*c))\n",
      "\n",
      "print x_1\n",
      "print x_2"
     ],
     "language": "python",
     "metadata": {},
     "outputs": [
      {
       "name": "stdout",
       "output_type": "stream",
       "stream": "stdout",
       "text": [
        "0.001\n"
       ]
      },
      {
       "name": "stdout",
       "output_type": "stream",
       "stream": "stdout",
       "text": [
        "1000\n"
       ]
      },
      {
       "name": "stdout",
       "output_type": "stream",
       "stream": "stdout",
       "text": [
        "0.001\n"
       ]
      },
      {
       "output_type": "stream",
       "stream": "stdout",
       "text": [
        "-1e-06\n",
        "-1000010.57551\n"
       ]
      }
     ],
     "prompt_number": 67
    },
    {
     "cell_type": "markdown",
     "metadata": {},
     "source": [
      "### Problem 3.3\n",
      "\n",
      "The correct solutions to the quadratic equation $0.001x^2 + 1000x + 0.001 = 0$ should be\n",
      "\n",
      "$$\n",
      "  x_1 = -1.00000000000100002081668371*10^{-6}, \\\\\n",
      "  x_2 = -9.99999999999000060986371202*10^{5}\n",
      "$$\n",
      "\n",
      "You should find out that one of the solutions is not very accurate for your code in problem 3.1 and 3.2. Using what you have learned, write a new program that calculates both roots of a quadratic equation accurately in all cases."
     ]
    },
    {
     "cell_type": "code",
     "collapsed": false,
     "input": [
      "# Problem 3.3\n",
      "\n",
      "a=input()\n",
      "b=input()\n",
      "c=input()\n",
      "x_2= (-b-math.sqrt(b**2-4*a*c))/(2*a)\n",
      "x_1=2*c/((-b)-math.sqrt(b**2-4*a*c))\n",
      "\n",
      "print x_1\n",
      "print x_2"
     ],
     "language": "python",
     "metadata": {},
     "outputs": [
      {
       "name": "stdout",
       "output_type": "stream",
       "stream": "stdout",
       "text": [
        "0.001\n"
       ]
      },
      {
       "name": "stdout",
       "output_type": "stream",
       "stream": "stdout",
       "text": [
        "1000\n"
       ]
      },
      {
       "name": "stdout",
       "output_type": "stream",
       "stream": "stdout",
       "text": [
        "0.001\n"
       ]
      },
      {
       "output_type": "stream",
       "stream": "stdout",
       "text": [
        "-1e-06\n",
        "-999999.999999\n"
       ]
      }
     ],
     "prompt_number": 72
    },
    {
     "cell_type": "markdown",
     "metadata": {},
     "source": [
      "## Problem 4: Numerical derivatives\n",
      "\n",
      "The derivative of a functoin $f(x)$ is defined as\n",
      "\n",
      "$$\n",
      "  \\frac{df}{dx} = \\lim_{\\delta\\rightarrow 0} \\frac{f(x+\\delta)-f(x)}{\\delta}.\n",
      "$$\n",
      "\n",
      "On the computer we can\u2019t actually take the limit as $\\delta$ goes to zero, but we can get a reasonable approximation just by making $\\delta$ small."
     ]
    },
    {
     "cell_type": "markdown",
     "metadata": {},
     "source": [
      "### Problem 4.1\n",
      "\n",
      "Write a program that defines a function $f(x)$ returning the value $x(x \u2212 1)$, then calculates the derivative of the function at the point $x = 1$ using the formula above with $\\delta = 10^{\u22122}$. Calculate the true value of the same derivative analytically and compare with the answer your program gives."
     ]
    },
    {
     "cell_type": "code",
     "collapsed": false,
     "input": [
      "# Problem 4.1\n",
      "def f(x):\n",
      "    a=x*(x-1)\n",
      "    return a\n",
      "def derivitives(x):\n",
      "    delta = 10**-2\n",
      "    e=x+delta\n",
      "    c=(f(e)-f(x))/delta\n",
      "    print c\n",
      "    return c\n",
      "\n",
      "\n",
      "\n",
      "####Actual answer: 1\n",
      "print \"This is the anwser and error:\" ,derivitives(1)-1\n"
     ],
     "language": "python",
     "metadata": {},
     "outputs": [
      {
       "output_type": "stream",
       "stream": "stdout",
       "text": [
        "This is the anwser and error: 1.01\n",
        "0.01\n"
       ]
      }
     ],
     "prompt_number": 19
    },
    {
     "cell_type": "markdown",
     "metadata": {},
     "source": [
      "### Problem 4.2\n",
      "\n",
      "Repeat the calculation for $\\delta = 10^{\u22124}$ , $10^{\u22126}$ , $10^{\u22128}$ , $10^{\u221210}$ , $10^{\u221212}$ , and $10^{\u221214}$. You should see that the accuracy of the calculation initially gets better as \u03b4 gets smaller, but then gets worse again. Why is this?"
     ]
    },
    {
     "cell_type": "code",
     "collapsed": false,
     "input": [
      "# Problem 4.2\n",
      "# Problem 4.1\n",
      "def f(x):\n",
      "    a=x*(x-1)\n",
      "    return a\n",
      "\n",
      "def derivitives(x,delta):\n",
      "    e=x+delta\n",
      "    c=(f(e)-f(x))/delta\n",
      "    return c\n",
      "####Actual answer: 1\n",
      "print \"delta =0.01\" , \"Error = \" ,derivitives(1,0.01)-1\n",
      "\n",
      "\n",
      "print \"delta =0.0001\"  ,\"Error = \" ,derivitives(1,10**-4)-1\n",
      "\n",
      "\n",
      "print \"delta =0.000001\"  ,\"Error = \" ,derivitives(1,10**-6)-1\n",
      "\n",
      "\n",
      "print \"delta =0.00000001\"  ,\"Error = \" ,derivitives(1,10**-8)-1\n",
      "\n",
      "\n",
      "print \"delta =0.0000000001\"  ,\"Error = \" ,derivitives(1,10**-10)-1\n",
      "\n",
      "\n",
      "print \"delta =0.000000000001\"  ,\"Error = \" ,derivitives(1,10**-12)-1\n",
      "\n",
      "\n",
      "print \"delta =0.00000000000001\"  ,\"Error = \" ,derivitives(1,10**-14)-1\n",
      "\n",
      "\n",
      "print \"delta =0.0000000000000001\"  ,\"Error = \" ,derivitives(1,10**-16)-1\n"
     ],
     "language": "python",
     "metadata": {},
     "outputs": [
      {
       "output_type": "stream",
       "stream": "stdout",
       "text": [
        "delta =0.01 Error =  0.01\n",
        "delta =0.0001 Error =  9.99999998899e-05\n",
        "delta =0.000001 Error =  9.9991773328e-07\n",
        "delta =0.00000001 Error =  3.92252874626e-09\n",
        "delta =0.0000000001 Error =  8.28403710074e-08\n",
        "delta =0.000000000001 Error =  8.89005833413e-05\n",
        "delta =0.00000000000001 Error =  -0.000799277837349\n",
        "delta =0.0000000000000001 Error =  -1.0\n"
       ]
      }
     ],
     "prompt_number": 63
    },
    {
     "cell_type": "markdown",
     "metadata": {},
     "source": [
      "### Problem 4.3\n",
      "\n",
      "Plot the error of your numerical derivative a function of $\\log(\\delta)$, with $\\delta \\in [10^{-2}, 10^{-14}]$."
     ]
    },
    {
     "cell_type": "code",
     "collapsed": false,
     "input": [
      "# Problem 4.3\n",
      "%pylab inline\n",
      "\n",
      "def g(x):\n",
      "    a=x*(x-1)\n",
      "    return a\n",
      "\n",
      "\n",
      "delta = arange(10**(-14),10**(-2),0.001)\n",
      "error = []\n",
      "for i in delta:\n",
      "    h=1+i\n",
      "    c=g(h)-g(1)\n",
      "    d=c/i\n",
      "    k=abs(d-1)\n",
      "    error.append(k)\n",
      "\n",
      "       \n",
      "####Actual answer: 1\n",
      "plot(log(delta),error)\n"
     ],
     "language": "python",
     "metadata": {},
     "outputs": [
      {
       "output_type": "stream",
       "stream": "stdout",
       "text": [
        "Populating the interactive namespace from numpy and matplotlib\n"
       ]
      },
      {
       "metadata": {},
       "output_type": "pyout",
       "prompt_number": 124,
       "text": [
        "[<matplotlib.lines.Line2D at 0xb071970>]"
       ]
      },
      {
       "metadata": {},
       "output_type": "display_data",
       "png": "[encoded data removed]",
       "text": [
        "<matplotlib.figure.Figure at 0xaf419b0>"
       ]
      }
     ],
     "prompt_number": 124
    },
    {
     "cell_type": "code",
     "collapsed": false,
     "input": [],
     "language": "python",
     "metadata": {},
     "outputs": []
    }
   ],
   "metadata": {}
  }
 ]
}