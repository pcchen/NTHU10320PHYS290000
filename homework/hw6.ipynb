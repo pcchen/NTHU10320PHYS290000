{
 "metadata": {
  "name": "",
  "signature": "sha256:821a2c796f5ea0d64bd9a5e9c61127dd4b26ca7dd3a20143070977eb613fc81f"
 },
 "nbformat": 3,
 "nbformat_minor": 0,
 "worksheets": [
  {
   "cells": [
    {
     "cell_type": "markdown",
     "metadata": {},
     "source": [
      "# Homework 6"
     ]
    },
    {
     "cell_type": "markdown",
     "metadata": {},
     "source": [
      "## Problem 1\n",
      "\n",
      "Use **ivisual** module to plot the projectile motion with following equations of motion:\n",
      "\n",
      "$$\n",
      "\\begin{eqnarray*}\n",
      "  m\\ddot{x} &=& 0, \\\\\n",
      "  m\\ddot{y} &=& -mg, \\\\\n",
      "  m\\ddot{z} &=& 0,\n",
      "\\end{eqnarray*}\n",
      "$$\n",
      "and initial conditions\n",
      "\n",
      "$$\n",
      "  \\vec{r}(0) = (0, 0, 0), \\\\\n",
      "  \\vec{v}(0) = (v_{x0}, v_{y0}, 0),\n",
      "$$\n",
      "You can assign $v_{x0}$ and $v_{y0}$ in the code or ask user to input it.\n",
      "\n",
      "You should\n",
      "* Use a box to represent the ground.\n",
      "* Use three arrows to represent the three axes.\n",
      "* Use a sphere to represent the ball of the projectile motion.\n",
      "* Leave a trail.\n",
      "* Stop the simulation when the ball hit the ground.\n",
      "\n",
      "You should use to ways to calculate the trajectory of the motion.\n",
      "1. Use exact solution: $x(t)=x(0)+v_x t$, etc.\n",
      "2. Use numerical solution:\n",
      " * $v(t+dt) = v(t) + a * dt$.\n",
      " * $x(t+dt) = x(t) + v(t) * dt$.\n",
      "\n",
      "You should use a small enough $dt$ to ensure the numerical solution is accurate enough.\n"
     ]
    },
    {
     "cell_type": "code",
     "collapsed": false,
     "input": [
      "from ivisual import *"
     ],
     "language": "python",
     "metadata": {},
     "outputs": [
      {
       "html": [
        "<div id=\"scene0\"><div id=\"glowscript\" class=\"glowscript\"></div></div>"
       ],
       "metadata": {},
       "output_type": "display_data",
       "text": [
        "<IPython.core.display.HTML at 0x24c1668>"
       ]
      },
      {
       "javascript": [
        "require.undef(\"nbextensions/glow.1.0.min\");"
       ],
       "metadata": {},
       "output_type": "display_data",
       "text": [
        "<IPython.core.display.Javascript at 0x24d39e8>"
       ]
      },
      {
       "javascript": [
        "require.undef(\"nbextensions/jquery-ui.custom.min\");"
       ],
       "metadata": {},
       "output_type": "display_data",
       "text": [
        "<IPython.core.display.Javascript at 0x24d3a20>"
       ]
      },
      {
       "javascript": [
        "require.undef(\"nbextensions/glow.1.1.min\");"
       ],
       "metadata": {},
       "output_type": "display_data",
       "text": [
        "<IPython.core.display.Javascript at 0x24d3b70>"
       ]
      },
      {
       "javascript": [
        "require.undef(\"nbextensions/glowcomm\");"
       ],
       "metadata": {},
       "output_type": "display_data",
       "text": [
        "<IPython.core.display.Javascript at 0x24d3be0>"
       ]
      },
      {
       "javascript": [
        "require([\"nbextensions/glowcomm\"], function(){console.log(\"glowcomm loaded\");})"
       ],
       "metadata": {},
       "output_type": "display_data",
       "text": [
        "<IPython.core.display.Javascript at 0x24d3c18>"
       ]
      }
     ],
     "prompt_number": 3
    },
    {
     "cell_type": "code",
     "collapsed": false,
     "input": [
      "# Problem 1\n",
      "scene = canvas(title = \"s\")\n",
      "\n",
      "scene.width = 800\n",
      "scene.height = 600\n",
      "scene.autoscale = 0\n",
      "scene.range = (20,20,20)\n",
      "scene.center = (0,0,0)\n",
      "\n",
      "ball = sphere(pos=(0,100,0), radius=1,color=(100,1,1))\n",
      "grand = box(size=(50,0.3,50),pos=(0,-1,0),color=color.red)\n",
      "xaxis = arrow(pos=(-1,0,-1), axis=(20,0,0), shaftwidth=0.5)\n",
      "yaxis = arrow(pos=(-1,0,-1), axis=(0,20,0), shaftwidth=0.5)\n",
      "zaxis = arrow(pos=(-1,0,-1), axis=(0,0,20), shaftwidth=0.5)\n",
      "\n",
      "vx=10\n",
      "vy=10\n",
      "g=1\n",
      "\n",
      "ball.velocity = vector(vx,vy,0)\n",
      "ball.accelation = vector(0,-g,0)\n",
      "\n",
      "\n",
      "def ani():\n",
      "    dt =0.01    # seconds\n",
      "    seconds = 0 # total time\n",
      "    \n",
      "    TF = 1\n",
      "\n",
      "    while (TF) :\n",
      "        rate(100)\n",
      "        seconds = seconds + dt\n",
      "        ball.velocity += ball.accelation\n",
      "        ball.pos += ball.velocity*dt\n",
      "        if ball.pos.y<=0:\n",
      "            TF = 0\n",
      "ani()"
     ],
     "language": "python",
     "metadata": {},
     "outputs": [
      {
       "html": [
        "<div id=\"scene0\"><div id=\"glowscript\" class=\"glowscript\"></div></div>"
       ],
       "metadata": {},
       "output_type": "display_data",
       "text": [
        "<IPython.core.display.HTML at 0x42d51d0>"
       ]
      },
      {
       "javascript": [
        "window.__context = { glowscript_container: $(\"#glowscript\").removeAttr(\"id\")}"
       ],
       "metadata": {},
       "output_type": "display_data",
       "text": [
        "<IPython.core.display.Javascript at 0x24c1668>"
       ]
      }
     ],
     "prompt_number": 4
    },
    {
     "cell_type": "markdown",
     "metadata": {},
     "source": [
      "## Problem 2\n",
      "\n",
      "Now introduce the air resistence so the equations of motion become:\n",
      "\n",
      "$$\n",
      "\\begin{eqnarray*}\n",
      "  m\\ddot{x} &=& -km\\dot{x}, \\\\\n",
      "  m\\ddot{y} &=& -km\\dot{y}-mg, \\\\\n",
      "  m\\ddot{z} &=& 0,\n",
      "\\end{eqnarray*}\n",
      "$$\n",
      "and initial conditions\n",
      "\n",
      "$$\n",
      "  \\vec{r}(0) = (0, 0, 0), \\\\\n",
      "  \\vec{v}(0) = (v_{x0}, v_{y0}, 0),\n",
      "$$\n",
      "You can assign $v_{x0}$ and $v_{y0}$ in the code or ask user to input it.\n",
      "\n",
      "You should\n",
      "* Use a box to represent the ground.\n",
      "* Use three arrows to represent the three axes.\n",
      "* Use a sphere to represent the ball of the projectile motion.\n",
      "* Leave a trail.\n",
      "* Stop the simulation when the ball hit the ground.\n",
      "\n",
      "\n",
      "You should use to ways to calculate the trajectory of the motion.\n",
      "1. Use exact solution: (Check for example Marion's book).\n",
      "2. Use numerical solution:\n",
      " * $v(t+dt) = v(t) + a * dt$.\n",
      " * $x(t+dt) = x(t) + v(t) * dt$.\n",
      "\n",
      "You should use a small enough $dt$ to ensure the numerical solution is accurate enough.\n"
     ]
    },
    {
     "cell_type": "code",
     "collapsed": false,
     "input": [
      "# Problem 2\n",
      "scene = canvas(title = \"problem 2\")\n",
      "scene.width = 800\n",
      "scene.height = 600\n",
      "scene.autoscale = 0\n",
      "scene.range = (20,20,20)\n",
      "scene.center = (0,0,0)\n",
      "\n",
      "ball = sphere(pos=(0,0,0), radius=1)\n",
      "grand = box(size=(50,.3,50),pos=(0,-1,0),color=color.red)\n",
      "xaxis = arrow(pos=(-1,0,-1), axis=(20,0,0), shaftwidth=.5)\n",
      "yaxis = arrow(pos=(-1,0,-1), axis=(0,20,0), shaftwidth=.5)\n",
      "zaxis = arrow(pos=(-1,0,-1), axis=(0,0,20), shaftwidth=.5)\n",
      "\n",
      "vx = 100\n",
      "vy = 100\n",
      "g = 1\n",
      "m = 1\n",
      "k = 0.05\n",
      "\n",
      "ball.velocity = vector(vx,vy,0)\n",
      "ball.accelation = vector(0,-g,0) - k * ball.velocity\n",
      "\n",
      "trail = curve(color=color.blue)\n",
      "\n",
      "def ani():\n",
      "    dt = .01    # seconds\n",
      "    seconds = 0 # total time\n",
      "    \n",
      "    TF = 1\n",
      "\n",
      "    while (TF) :\n",
      "        rate(100)\n",
      "        seconds = seconds + dt\n",
      "        ball.velocity += ball.accelation\n",
      "        ball.accelation = vector(0,-g,0) - k * ball.velocity\n",
      "        ball.pos += ball.velocity*dt\n",
      "        trail.append(pos=ball.pos)\n",
      "        if ball.pos.y<0:\n",
      "            TF = 0\n",
      "            \n",
      "ani()\n",
      "# this is problem 4, am I wrong?\n",
      "side = 6.0\n",
      "thk = 0.3\n",
      "s2 = 2*side - thk\n",
      "s3 = 2*side + thk\n",
      "wallR = box (pos=( side, 0, 0), size=(thk, s2, s3),  color = color.red)\n",
      "wallL = box (pos=(-side, 0, 0), size=(thk, s2, s3),  color = color.red)\n",
      "wallB = box (pos=(0, -side, 0), size=(s3, thk, s3),  color = color.blue)\n",
      "wallT = box (pos=(0,  side, 0), size=(s3, thk, s3),  color = color.blue)\n",
      "wallBK = box(pos=(0, 0, -side), size=(s2, s2, thk), color = color.white )\n",
      "display(scene)\n",
      "ball = sphere (color = color.green, radius = 0.4, make_trail=True, interval=5, retain=30)\n",
      "ball.mass = 1.0\n",
      "ball.p = vector (-0.15, -0.23, +0.27)\n",
      "side = side - thk*0.5 - ball.radius\n",
      "dt = 0.5\n",
      "t=0.0\n",
      "while t < 500:\n",
      "  rate(100)\n",
      "  t = t + dt\n",
      "  ball.pos = ball.pos + (ball.p/ball.mass)*dt\n",
      "  if not (side > ball.x > -side):\n",
      "    ball.p.x = -ball.p.x\n",
      "  if not (side > ball.y > -side):\n",
      "    ball.p.y = -ball.p.y\n",
      "  if not (side > ball.z > -side):\n",
      "    ball.p.z = -ball.p.z"
     ],
     "language": "python",
     "metadata": {},
     "outputs": []
    },
    {
     "cell_type": "markdown",
     "metadata": {},
     "source": [
      "## Problem 3\n",
      "\n",
      "Use **ivisual** module to plot the trajectory of a coupled spring-mass system that has two masses, three springs, two walls.\n",
      "\n",
      "Something like Wall-spring1-mass1-spring2-mass2-spring3-Wall.\n",
      "\n",
      "You should\n",
      "* Use a box to represent the ground.\n",
      "* Use two boxes to represent the walls.\n",
      "* Use two **cubic** boxes to represent the two masses.\n",
      "* Use helix to represent the two srpings.\n"
     ]
    },
    {
     "cell_type": "code",
     "collapsed": false,
     "input": [
      "# Problem 3\n",
      "#problem 3\n",
      "from math import *\n",
      "\n",
      "scene = canvas(title = \"Spring Mass\")\n",
      "\n",
      "relaxedlength = vector(0.6,0,0) # length of spring when it isn't stretched or compressed .60\n",
      "spring = helix(pos=(-.75,0,0),axis=relaxedlength, radius=.1,coils=8,thickness=.01,color=color.green)\n",
      "weight = box(pos=(0,0,0),size=(.3,.3,.3),color=color.yellow)\n",
      "frictionlessSurface = box(size=(5,.02,.5),pos=(0,-.16,0))\n",
      "wall = box(size=(.04,.5,.3),pos=(-.77,.1,0),color=color.red)\n",
      "spring_1 = helix(pos=(.29,0,0),axis=relaxedlength, radius=.1,coils=8,thickness=.01,color=color.red)\n",
      "weight_1 = box(pos=(1,0,0),size=(.3,.3,.3),color=color.blue)\n",
      "spring_2 = helix(pos=(1.2,0,0),axis=relaxedlength, radius=.1,coils=8,thickness=.01,color=color.yellow)\n",
      "wall_right=box(size=(.04,.5,.3),pos=(-.77,.1,0),color=color.red)\n",
      "# \n",
      "g=9.8 # m/s**2\n",
      "spring.constant = 2 # k\n",
      "weight.mass = 10 # kg\n",
      "mu = 0.00 # friction\n",
      "\n",
      "# initial position\n",
      "xpos=0.35 #0.35\n",
      "weight.pos=vector(xpos,0,0)\n",
      "spring.displacement=weight.pos\n",
      "spring.axis=relaxedlength+spring.displacement\n",
      "\n",
      "weight.velocity = vector(0,0,0)\n",
      "weight.acceleration = vector(0,0,0)\n",
      "weight.force = vector(0,0,0)\n",
      "\n",
      "\n",
      "\n",
      "def ani():\n",
      "    dt = .01    # seconds\n",
      "    seconds = 0 # total time\n",
      "    steps=5000 #integration steps: final time= dt*steps\n",
      "\n",
      "    while seconds < dt*steps:\n",
      "        rate(100)\n",
      "        seconds = seconds + dt\n",
      "\n",
      "        F_fr=vector(0,0,0)\n",
      "        if weight.velocity.x>0:\n",
      "            F_fr=vector(-mu*weight.mass*g,0,0)\n",
      "        elif weight.velocity.x<0:\n",
      "            F_fr=vector(mu*weight.mass*g,0,0)\n",
      "\n",
      "        # Calculate the spring force using Hooke's Law\n",
      "        SpringForce = -spring.constant * spring.displacement+F_fr\n",
      "\n",
      "        # The spring force acts on the weight\n",
      "        weight.force = SpringForce\n",
      "\n",
      "        # move the weight from weight.pos using \n",
      "        # the momentum principle\n",
      "        #weight.acceleration = weight.force/weight.mass\n",
      "        weight.velocity += dt*weight.force/weight.mass # F*dt=dp\n",
      "        weight.pos += weight.velocity*dt #+O(dt^2) -> + .5 * weight.acceleration * dt**2\n",
      "\n",
      "        # calculate the new spring displacement\n",
      "        spring.displacement = weight.pos\n",
      "\n",
      "        # update the length of the spring\n",
      "        spring.axis = relaxedlength + spring.displacement"
     ],
     "language": "python",
     "metadata": {},
     "outputs": [],
     "prompt_number": 1
    },
    {
     "cell_type": "markdown",
     "metadata": {},
     "source": [
      "# Problem 4\n",
      "\n",
      "Use **ivisual** module to plot the trajectories of 20 particles in a rectangle box.\n",
      "\n",
      "* The rectangle box has the dimension $L_x$, $L_y$, $L_z$.\n",
      "* Use boxes to represent the walls. Keep one wall **invisible**.\n",
      "* The 20 particles should have **random** initial velocity.\n",
      "* The 20 particles should leave a trail.\n",
      "* Make each particle has random RGB color."
     ]
    },
    {
     "cell_type": "code",
     "collapsed": false,
     "input": [
      "#problem 4\n",
      "scene = canvas()\n",
      "\n",
      "scene.width = 800\n",
      "scene.height = 600\n",
      "\n",
      "scene.autoscale = 0\n",
      "scene.range = (10,10,10)\n",
      "scene.center = (0,0,0)\n",
      "#bondary 666\n",
      "wallR = box(pos=(+6,0,0), size=(0.2,12,12), color=color.green)\n",
      "wallL = box(pos=(-6,0,0), size=(0.2,12,12), color=color.green)\n",
      "wallU = box(pos=(0,+6,0), size=(12,0.2,12), color=color.blue)\n",
      "wallD = box(pos=(0,-6,0), size=(12,0.2,12), color=color.blue)\n",
      "wallB = box(pos=(0,0,-6), size=(12,12,0.2), color=color.red)\n",
      "\n",
      "def randp():\n",
      "    return random.uniform(-6,6)\n",
      "ball = []\n",
      "for i in range(20):\n",
      "    position = vector(randp(),randp(),randp())\n",
      "    ball.append(sphere(pos=position, radius=0.5, color=(random.random(),random.random(),random.random())))\n",
      "    v = vector(randp(),randp(),randp())\n",
      "    ball[i].velocity = v\n",
      "    ball[i].trail = curve(color=ball[i].color)\n",
      "vscale = 0.1\n",
      "t=0\n",
      "dt=0.05\n",
      "while t < 5:\n",
      "    rate(50)\n",
      "    for i in range(20):\n",
      "        if ball[i].pos.x > wallR.pos.x:\n",
      "             ball[i].velocity.x = -ball[i].velocity.x\n",
      "        if ball[i].pos.x < wallL.pos.x:\n",
      "             ball[i].velocity.x = -ball[i].velocity.x\n",
      "        if ball[i].pos.y > wallU.pos.y:\n",
      "             ball[i].velocity.y = -ball[i].velocity.y\n",
      "        if ball[i].pos.y < wallD.pos.y:\n",
      "             ball[i].velocity.y = -ball[i].velocity.y\n",
      "        if ball[i].pos.z < wallB.pos.z:\n",
      "             ball[i].velocity.z = -ball[i].velocity.z\n",
      "        if ball[i].pos.z > 6:\n",
      "            #since length/2 =6\n",
      "             ball[i].velocity.z = -ball[i].velocity.z\n",
      "    \n",
      "        ball[i].pos = ball[i].pos + ball[i].velocity*deltat\n",
      "        ball[i].trail.append(pos=ball[i].pos)\n",
      "    \n",
      "    t = t + dt"
     ],
     "language": "python",
     "metadata": {},
     "outputs": [
      {
       "html": [
        "<div id=\"scene4\"><div id=\"glowscript\" class=\"glowscript\"></div></div>"
       ],
       "metadata": {},
       "output_type": "display_data",
       "text": [
        "<IPython.core.display.HTML at 0x190d590>"
       ]
      },
      {
       "javascript": [
        "window.__context = { glowscript_container: $(\"#glowscript\").removeAttr(\"id\")}"
       ],
       "metadata": {},
       "output_type": "display_data",
       "text": [
        "<IPython.core.display.Javascript at 0x288d2b0>"
       ]
      },
      {
       "html": [
        "<div id=\"glowscript2\" ><div id=\"glowscript\" class=\"glowscript\"></div></div>"
       ],
       "metadata": {},
       "output_type": "display_data"
      },
      {
       "ename": "NameError",
       "evalue": "name 'ball' is not defined",
       "output_type": "pyerr",
       "traceback": [
        "\u001b[1;31m---------------------------------------------------------------------------\u001b[0m\n\u001b[1;31mNameError\u001b[0m                                 Traceback (most recent call last)",
        "\u001b[1;32m<ipython-input-20-d2a1aa7e8de9>\u001b[0m in \u001b[0;36m<module>\u001b[1;34m()\u001b[0m\n\u001b[0;32m     17\u001b[0m \u001b[1;32mimport\u001b[0m \u001b[0mrandom\u001b[0m\u001b[1;33m\u001b[0m\u001b[0m\n\u001b[0;32m     18\u001b[0m \u001b[1;33m\u001b[0m\u001b[0m\n\u001b[1;32m---> 19\u001b[1;33m \u001b[0mb\u001b[0m\u001b[1;33m=\u001b[0m\u001b[1;33m[\u001b[0m\u001b[0mball\u001b[0m \u001b[1;33m,\u001b[0m \u001b[0mball1\u001b[0m\u001b[1;33m]\u001b[0m\u001b[1;33m\u001b[0m\u001b[0m\n\u001b[0m\u001b[0;32m     20\u001b[0m \u001b[1;32mfor\u001b[0m \u001b[0ma\u001b[0m \u001b[1;32min\u001b[0m \u001b[0mb\u001b[0m\u001b[1;33m:\u001b[0m\u001b[1;33m\u001b[0m\u001b[0m\n\u001b[0;32m     21\u001b[0m     \u001b[0ma\u001b[0m \u001b[1;33m=\u001b[0m \u001b[0msphere\u001b[0m \u001b[1;33m(\u001b[0m\u001b[0mcolor\u001b[0m \u001b[1;33m=\u001b[0m \u001b[1;33m(\u001b[0m\u001b[0mrandom\u001b[0m\u001b[1;33m.\u001b[0m\u001b[0mrandom\u001b[0m\u001b[1;33m(\u001b[0m\u001b[1;33m)\u001b[0m\u001b[1;33m,\u001b[0m\u001b[0mrandom\u001b[0m\u001b[1;33m.\u001b[0m\u001b[0mrandom\u001b[0m\u001b[1;33m(\u001b[0m\u001b[1;33m)\u001b[0m\u001b[1;33m,\u001b[0m\u001b[0mrandom\u001b[0m\u001b[1;33m.\u001b[0m\u001b[0mrandom\u001b[0m\u001b[1;33m(\u001b[0m\u001b[1;33m)\u001b[0m\u001b[1;33m)\u001b[0m\u001b[1;33m,\u001b[0m \u001b[0mradius\u001b[0m \u001b[1;33m=\u001b[0m \u001b[1;36m0.4\u001b[0m\u001b[1;33m,\u001b[0m \u001b[0mmake_trail\u001b[0m\u001b[1;33m=\u001b[0m\u001b[0mTrue\u001b[0m\u001b[1;33m,\u001b[0m \u001b[0minterval\u001b[0m\u001b[1;33m=\u001b[0m\u001b[1;36m5\u001b[0m\u001b[1;33m,\u001b[0m \u001b[0mretain\u001b[0m\u001b[1;33m=\u001b[0m\u001b[1;36m400\u001b[0m\u001b[1;33m)\u001b[0m\u001b[1;33m\u001b[0m\u001b[0m\n",
        "\u001b[1;31mNameError\u001b[0m: name 'ball' is not defined"
       ]
      }
     ],
     "prompt_number": 20
    },
    {
     "cell_type": "code",
     "collapsed": false,
     "input": [
      "t=[]\n",
      "t=['ball', 'ball1']\n",
      "print t\n",
      "for all in t:\n",
      "    print all"
     ],
     "language": "python",
     "metadata": {},
     "outputs": [
      {
       "output_type": "stream",
       "stream": "stdout",
       "text": [
        "['ball', 'ball1']\n",
        "ball\n",
        "ball1\n"
       ]
      }
     ],
     "prompt_number": 16
    },
    {
     "cell_type": "code",
     "collapsed": false,
     "input": [],
     "language": "python",
     "metadata": {},
     "outputs": []
    }
   ],
   "metadata": {}
  }
 ]
}