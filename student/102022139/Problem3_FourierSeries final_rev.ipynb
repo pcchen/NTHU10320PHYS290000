{
 "metadata": {
  "name": "",
  "signature": "sha256:3999fd8d839334a5d4534928a6c6062340f2329c65ec420b2f3e07bd8ac88a4b"
 },
 "nbformat": 3,
 "nbformat_minor": 0,
 "worksheets": [
  {
   "cells": [
    {
     "cell_type": "markdown",
     "metadata": {},
     "source": [
      "# Problem 3:\n",
      "# Fourier Series\n",
      "\n",
      "The $N$-th order Fourier series of a period function $f(x)$ of period $L$ is defined as\n",
      "\n",
      "$$\n",
      "  FS(N,x) \\equiv \\frac{a_0}{2} + \\sum_{r=1}^{N} \n",
      "  \\left[\n",
      "    a_r \\cos\\left(\\frac{2\\pi r x}{L}\\right) + b_r \\sin\\left(\\frac{2\\pi r x}{L}\\right)\n",
      "  \\right],\n",
      "$$\n",
      "where \n",
      "\n",
      "$$\n",
      "  a_r = \\frac{2}{L} \\int_{x_0}^{x_0+L} f(x) \\cos\\left(\\frac{2\\pi r x}{L} \\right) dx, \\; \\;\n",
      "  b_r = \\frac{2}{L} \\int_{x_0}^{x_0+L} f(x) \\sin\\left(\\frac{2\\pi r x}{L} \\right) dx.\n",
      "$$\n",
      "\n",
      "In this problem, you should \n",
      "* Implement the $N$-th order Fourier series of the square-wave function:\n",
      "$$\n",
      "  f(x) = \n",
      " \\begin{cases} \n",
      " -1 & -\\frac{T}{2} \\le t < 0 \\\\ \n",
      " +1 & 0 \\le t < \\frac{T}{2}.\n",
      " \\end{cases}\n",
      "$$\n",
      "* Plot $f(x), FS(10,x), FS(50,x), FS(100,x)$ with $x \\in [-0.2 T,+0.2 T]$ and $y \\in [-1.5, 1.5]$.\n",
      "* Use IPython Interact to let user adjust $N$ in the range of $N=1, \\cdots 100$ and plot $f(x)$ and $FS(N,x)$.\n",
      "\n",
      "Please write your code based on the sketch below"
     ]
    },
    {
     "cell_type": "markdown",
     "metadata": {},
     "source": [
      "## Part 1"
     ]
    },
    {
     "cell_type": "code",
     "collapsed": false,
     "input": [
      "%pylab inline"
     ],
     "language": "python",
     "metadata": {},
     "outputs": []
    },
    {
     "cell_type": "code",
     "collapsed": false,
     "input": [
      "# create your functions\n",
      "import math\n",
      "from scipy.integrate import quad\n",
      "\n",
      "def f(t):\n",
      "    if t >= -T/2 and t < 0:\n",
      "        f(t) = -1\n",
      "    elif t >= 0 and t < T/2:\n",
      "        f(t) = 1\n",
      "    pass\n",
      "\n",
      "def integrand1(x):\n",
      "    return f(x)*math.cos(2*math.pi*r*x/T)\n",
      "def integrand2(x):\n",
      "    return f(x)*math.sin(2*math.pi*r*x/T)\n",
      "\n",
      "\n",
      "\n",
      "def FS(N, t):\n",
      "    ans_1 = quad(integrand1, 0, T)\n",
      "    ar = (2/T)*ans_1\n",
      "    ans_2 = quad(integrand2, 0, T)\n",
      "    br = (2/T)*ans_2\n",
      "    pass\n",
      "\n",
      "\n",
      "\n",
      "\n",
      "\n",
      "ans = quad(integrand, 0, 1)\n",
      "print ans"
     ],
     "language": "python",
     "metadata": {},
     "outputs": [
      {
       "ename": "SyntaxError",
       "evalue": "invalid syntax (<ipython-input-1-4b225f717670>, line 11)",
       "output_type": "pyerr",
       "traceback": [
        "\u001b[1;36m  File \u001b[1;32m\"<ipython-input-1-4b225f717670>\"\u001b[1;36m, line \u001b[1;32m11\u001b[0m\n\u001b[1;33m    ar =\u001b[0m\n\u001b[1;37m         ^\u001b[0m\n\u001b[1;31mSyntaxError\u001b[0m\u001b[1;31m:\u001b[0m invalid syntax\n"
       ]
      }
     ],
     "prompt_number": 1
    },
    {
     "cell_type": "markdown",
     "metadata": {},
     "source": [
      "## Part2"
     ]
    },
    {
     "cell_type": "code",
     "collapsed": false,
     "input": [
      "from IPython.html.widgets import interact"
     ],
     "language": "python",
     "metadata": {},
     "outputs": []
    },
    {
     "cell_type": "code",
     "collapsed": false,
     "input": [
      "# create your ipython interact"
     ],
     "language": "python",
     "metadata": {},
     "outputs": []
    }
   ],
   "metadata": {}
  }
 ]
}