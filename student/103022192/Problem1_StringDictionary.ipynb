{
 "metadata": {
  "name": "",
  "signature": "sha256:c6208082053ab690f3cffc5cb72e9f56ada6a0d03963c3c8e4e3ea4c981edb92"
 },
 "nbformat": 3,
 "nbformat_minor": 0,
 "worksheets": [
  {
   "cells": [
    {
     "cell_type": "markdown",
     "metadata": {},
     "source": [
      "# Problem 1:\n",
      "# String and Dictionary\n",
      "\n",
      "In the first part, you should create a dictionary with following mapping between characters (character=one character string).\n",
      "* dic['a']='z'\n",
      "* dic['b']='y'\n",
      "* ...\n",
      "* dic['y']='b'\n",
      "* dic['z']='a'\n",
      "\n",
      "You should use built-in function `ord` and `chr` to build the dictionary. \n",
      "* The function `ord` convert a character into an integer. \n",
      "* The function `chr` convert an integer into a character. \n",
      "\n",
      "Here are some examples:"
     ]
    },
    {
     "cell_type": "code",
     "collapsed": false,
     "input": [
      "print ord('a'), ord('b'), ord('y'), ord('z')"
     ],
     "language": "python",
     "metadata": {},
     "outputs": [
      {
       "output_type": "stream",
       "stream": "stdout",
       "text": [
        "97 98 121 122\n"
       ]
      }
     ],
     "prompt_number": 1
    },
    {
     "cell_type": "code",
     "collapsed": false,
     "input": [
      "print chr(97), chr(98), chr(121), chr(122)"
     ],
     "language": "python",
     "metadata": {},
     "outputs": [
      {
       "output_type": "stream",
       "stream": "stdout",
       "text": [
        "a b y z\n"
       ]
      }
     ],
     "prompt_number": 2
    },
    {
     "cell_type": "markdown",
     "metadata": {},
     "source": [
      "Please implement a function called `inverse(c)` that gives you the mapping."
     ]
    },
    {
     "cell_type": "code",
     "collapsed": false,
     "input": [
      "# define inverse(c) here, you should have\n",
      "# inverse('a') --> 'z'\n",
      "# inverse('z') --> 'a'\n",
      "def inverse(c):\n",
      "    n=ord(c)-97\n",
      "    d=chr(122-n)\n",
      "    return d\n",
      "\n",
      "# test your function\n",
      "print inverse('a')\n",
      "print inverse('z')"
     ],
     "language": "python",
     "metadata": {},
     "outputs": [
      {
       "output_type": "stream",
       "stream": "stdout",
       "text": [
        "z\n",
        "a\n"
       ]
      }
     ],
     "prompt_number": 3
    },
    {
     "cell_type": "markdown",
     "metadata": {},
     "source": [
      "Please create the inverse mapping dictionary: `dic`."
     ]
    },
    {
     "cell_type": "code",
     "collapsed": false,
     "input": [
      "# create the inverse mapping dictionary\n",
      "dic = {}\n",
      "def inverse(c):\n",
      "    n=ord(c)-97\n",
      "    d=chr(122-n)\n",
      "    dic.update({ord(c):d})\n",
      "inverse('a')\n",
      "inverse('b')\n",
      "inverse('c')\n",
      "inverse('d')\n",
      "inverse('e')\n",
      "inverse('f')\n",
      "inverse('f')\n",
      "inverse('h')\n",
      "inverse('i')\n",
      "inverse('j')\n",
      "inverse('k')\n",
      "inverse('l')\n",
      "inverse('m')\n",
      "inverse('n')\n",
      "inverse('o')\n",
      "inverse('p')\n",
      "inverse('q')\n",
      "inverse('r')\n",
      "inverse('s')\n",
      "inverse('t')\n",
      "inverse('u')\n",
      "inverse('v')\n",
      "inverse('w')\n",
      "inverse('x')\n",
      "inverse('y')\n",
      "inverse('z')\n",
      "# test your dictionary\n",
      "print dic"
     ],
     "language": "python",
     "metadata": {},
     "outputs": [
      {
       "output_type": "stream",
       "stream": "stdout",
       "text": [
        "{97: 'z', 98: 'y', 99: 'x', 100: 'w', 101: 'v', 102: 'u', 104: 's', 105: 'r', 106: 'q', 107: 'p', 108: 'o', 109: 'n', 110: 'm', 111: 'l', 112: 'k', 113: 'j', 114: 'i', 115: 'h', 116: 'g', 117: 'f', 118: 'e', 119: 'd', 120: 'c', 121: 'b', 122: 'a'}\n"
       ]
      }
     ],
     "prompt_number": 34
    },
    {
     "cell_type": "markdown",
     "metadata": {},
     "source": [
      "In the second step, you should use the dictionary you construct to write a function that takes a string as an argument and return a string with inverse characters.\n",
      "\n",
      "Please implement the string inversion function `str_inversion'. You should get, for example,\n",
      "\n",
      "``\n",
      "print str_inversion('abc')\n",
      "zyx\n",
      "``"
     ]
    },
    {
     "cell_type": "code",
     "collapsed": false,
     "input": [
      "# str_inversion\n",
      "dic = {97: 'z', 98: 'y', 99: 'x', 100: 'w', 101: 'v', 102: 'u', 104: 's', 105: 'r', 106: 'q', 107: 'p', 108: 'o', 109: 'n', 110: 'm', 111: 'l', 112: 'k', 113: 'j', 114: 'i', 115: 'h', 116: 'g', 117: 'f', 118: 'e', 119: 'd', 120: 'c', 121: 'b', 122: 'a'}\n",
      "def inverse(c):\n",
      "    n=ord(c)-97\n",
      "    d=chr(122-n)\n",
      "    dic.update({ord(c):d})\n",
      "\n",
      "def str_inversion(s):\n",
      "        p=ord(s)\n",
      "        print dic[p]\n",
      "def str_inversion2(f,x,y,z):\n",
      "    f(x),f(y),f(z)\n",
      "\n",
      "str_inversion2(str_inversion,'a','b','c')\n"
     ],
     "language": "python",
     "metadata": {},
     "outputs": [
      {
       "output_type": "stream",
       "stream": "stdout",
       "text": [
        "z\n",
        "y\n",
        "x\n"
       ]
      }
     ],
     "prompt_number": 46
    },
    {
     "cell_type": "code",
     "collapsed": false,
     "input": [
      "# test your function\n",
      "print str_inversion('abc')"
     ],
     "language": "python",
     "metadata": {},
     "outputs": []
    }
   ],
   "metadata": {}
  }
 ]
}