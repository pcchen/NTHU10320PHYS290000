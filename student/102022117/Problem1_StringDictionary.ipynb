{
 "metadata": {
  "name": "",
  "signature": "sha256:ce2e2a7cb60e4d4d543a2f0cdce640129933239c01c3e8687d8d80295b8dbbf4"
 },
 "nbformat": 3,
 "nbformat_minor": 0,
 "worksheets": [
  {
   "cells": [
    {
     "cell_type": "markdown",
     "metadata": {},
     "source": [
      "# Problem 1:\n",
      "# String and Dictionary\n",
      "\n",
      "In the first part, you should create a dictionary with following mapping between characters (character=one character string).\n",
      "* dic['a']='z'\n",
      "* dic['b']='y'\n",
      "* ...\n",
      "* dic['y']='b'\n",
      "* dic['z']='a'\n",
      "\n",
      "You should use built-in function `ord` and `chr` to build the dictionary. \n",
      "* The function `ord` convert a character into an integer. \n",
      "* The function `chr` convert an integer into a character. \n",
      "\n",
      "Here are some examples:"
     ]
    },
    {
     "cell_type": "code",
     "collapsed": false,
     "input": [
      "print ord('a'), ord('b'), ord('y'), ord('z')"
     ],
     "language": "python",
     "metadata": {},
     "outputs": [
      {
       "output_type": "stream",
       "stream": "stdout",
       "text": [
        "97 98 121 122\n"
       ]
      }
     ],
     "prompt_number": 1
    },
    {
     "cell_type": "code",
     "collapsed": false,
     "input": [
      "print chr(97), chr(98), chr(121), chr(122)"
     ],
     "language": "python",
     "metadata": {},
     "outputs": [
      {
       "output_type": "stream",
       "stream": "stdout",
       "text": [
        "a b y z\n"
       ]
      }
     ],
     "prompt_number": 2
    },
    {
     "cell_type": "markdown",
     "metadata": {},
     "source": [
      "Please implement a function called `inverse(c)` that gives you the mapping."
     ]
    },
    {
     "cell_type": "code",
     "collapsed": false,
     "input": [
      "# define inverse(c) here, you should have\n",
      "# inverse('a') --> 'z'\n",
      "# inverse('z') --> 'a'\n",
      "def inverse(c):\n",
      "    a=122+ord('a')-ord(c)\n",
      "    return chr(a)\n",
      "    pass\n",
      "\n",
      "# test your function\n",
      "print inverse('a')\n",
      "print inverse('z')"
     ],
     "language": "python",
     "metadata": {},
     "outputs": [
      {
       "output_type": "stream",
       "stream": "stdout",
       "text": [
        "z\n",
        "a\n"
       ]
      }
     ],
     "prompt_number": 60
    },
    {
     "cell_type": "markdown",
     "metadata": {},
     "source": [
      "Please create the inverse mapping dictionary: `dic`."
     ]
    },
    {
     "cell_type": "code",
     "collapsed": false,
     "input": [
      "# create the inverse mapping dictionary\n",
      "dic = {}\n",
      "for i in range(97, 123):\n",
      "    c = chr(i)\n",
      "    dic[c] = inverse(c)\n",
      "# test your dictionary\n",
      "print dic"
     ],
     "language": "python",
     "metadata": {},
     "outputs": [
      {
       "output_type": "stream",
       "stream": "stdout",
       "text": [
        "{'a': 'z', 'c': 'x', 'b': 'y', 'e': 'v', 'd': 'w', 'g': 't', 'f': 'u', 'i': 'r', 'h': 's', 'k': 'p', 'j': 'q', 'm': 'n', 'l': 'o', 'o': 'l', 'n': 'm', 'q': 'j', 'p': 'k', 's': 'h', 'r': 'i', 'u': 'f', 't': 'g', 'w': 'd', 'v': 'e', 'y': 'b', 'x': 'c', 'z': 'a'}\n"
       ]
      }
     ],
     "prompt_number": 66
    },
    {
     "cell_type": "code",
     "collapsed": false,
     "input": [],
     "language": "python",
     "metadata": {},
     "outputs": [],
     "prompt_number": 44
    },
    {
     "cell_type": "markdown",
     "metadata": {},
     "source": [
      "In the second step, you should use the dictionary you construct to write a function that takes a string as an argument and return a string with inverse characters.\n",
      "\n",
      "Please implement the string inversion function `str_inversion'. You should get, for example,\n",
      "\n",
      "``\n",
      "print str_inversion('abc')\n",
      "zyx\n",
      "``"
     ]
    },
    {
     "cell_type": "code",
     "collapsed": false,
     "input": [
      "# str_inversion\n",
      "def str_inversion(s):\n",
      "    aa=list(s)\n",
      "    print aa\n",
      "    d=[]\n",
      "    for a in aa:\n",
      "        b=inverse(a)\n",
      "        c=list(b)\n",
      "        d+=c\n",
      "    print d\n",
      "    x=\"\"\n",
      "    cc=x.join(d)\n",
      "    print cc\n",
      "    return cc\n",
      "    pass\n"
     ],
     "language": "python",
     "metadata": {},
     "outputs": [],
     "prompt_number": 42
    },
    {
     "cell_type": "code",
     "collapsed": false,
     "input": [
      "# test your function\n",
      "print str_inversion('abc')"
     ],
     "language": "python",
     "metadata": {},
     "outputs": [
      {
       "output_type": "stream",
       "stream": "stdout",
       "text": [
        "['a', 'b', 'c']\n",
        "z\n",
        "y\n",
        "x\n",
        "['z', 'y', 'x']\n",
        "zyx\n",
        "zyx\n"
       ]
      }
     ],
     "prompt_number": 43
    },
    {
     "cell_type": "code",
     "collapsed": false,
     "input": [],
     "language": "python",
     "metadata": {},
     "outputs": []
    }
   ],
   "metadata": {}
  }
 ]
}