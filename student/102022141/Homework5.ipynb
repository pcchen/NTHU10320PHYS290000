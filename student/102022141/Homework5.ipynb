{
 "metadata": {
  "name": "",
  "signature": "sha256:8f37e5f2aec44cd0236dd1f719a9d30e750fedd622678b41bf474f12749a2500"
 },
 "nbformat": 3,
 "nbformat_minor": 0,
 "worksheets": [
  {
   "cells": [
    {
     "cell_type": "markdown",
     "metadata": {},
     "source": [
      "# Homework 5"
     ]
    },
    {
     "cell_type": "markdown",
     "metadata": {},
     "source": [
      "## Problem 1\n",
      "\n",
      "Consider the damped oscillation\n",
      "$$\n",
      "  \\ddot{x} + 2\\beta\\dot{x} + \\omega^2_0 x =0.\n",
      "$$\n",
      "\n",
      "For a given set of $\\beta$ and $\\omega_0$ and initial conditions $x(0)$ and $\\dot{x}(0)$:\n",
      "* Plot $x(t)$.\n",
      "* Plot $E(t)$.\n",
      "* Plot $dE(t)/dt$.\n",
      "* Plot the phase-path on the $x-\\dot{x}$ plane."
     ]
    },
    {
     "cell_type": "code",
     "collapsed": false,
     "input": [
      "# Problem 1\n",
      "%pylab inline\n",
      "?figure"
     ],
     "language": "python",
     "metadata": {},
     "outputs": [
      {
       "output_type": "stream",
       "stream": "stdout",
       "text": [
        "Populating the interactive namespace from numpy and matplotlib\n"
       ]
      }
     ],
     "prompt_number": 1
    },
    {
     "cell_type": "code",
     "collapsed": false,
     "input": [
      "# Problem 1\n",
      "m=float(raw_input('m='))\n",
      "b=float(raw_input('b='))\n",
      "k=float(raw_input('k='))\n",
      "A=float(raw_input('A='))\n",
      "delta=float(raw_input('delta='))\n",
      "A1=float(raw_input('A1='))\n",
      "A2=float(raw_input('A2='))\n",
      "\n",
      "beta=b/2/m\n",
      "w0=k/m\n",
      "\n",
      "def x(t):\n",
      "    if w0**2>beta**2:\n",
      "        w1=(w0**2-beta**2)**0.5\n",
      "        return A*exp(-beta*t)*cos(w1*t-delta)\n",
      "    if w0**2<beta**2:\n",
      "        w2=(beta**2-w0**2)**0.5\n",
      "        return A*exp(-beta*t)*(A1*exp(w2*t)+A2*exp(-w2*t))\n",
      "    \n",
      "def E(t):\n",
      "    if w0**2>beta**2:\n",
      "        w1=(w0**2-beta**2)**0.5\n",
      "        return 0.5*k*(x(t))**2+0.5*m*(x(t)*beta+A*w1*exp(-beta*t)*sin(w1*t-delta))**2\n",
      "    if w0**2<beta**2:\n",
      "        w2=(beta**2-w0**2)**0.5\n",
      "        return 0.5*k*(x(t))**2+0.5*m*(x(t)*beta+A*exp(-beta*t)*(A1*w2*exp(w2*t)-A2*w2*exp(-w2*t)))**2\n",
      "\n",
      "def x_dot(t):\n",
      "    if w0**2>beta**2:\n",
      "        w1=(w0**2-beta**2)**0.5\n",
      "        return -beta*x(t)-w1*((A*exp(-beta*t))**2-(x(t))**2)**0.5\n",
      "    if w0**2<beta**2:\n",
      "        w2=(beta**2-w0**2)**0.5\n",
      "        return -beta*x(t)+w2*((x(t))**2-4*A1*A2)**0.5\n",
      "\n",
      "    \n",
      "subplot(2, 1, 1)    \n",
      "t = linspace(0, 3, 51)\n",
      "y1 = x(t)\n",
      "y2 = E(t)\n",
      "\n",
      "plot(t, y1, 'r-')\n",
      "plot(t, y2, 'b-')\n",
      "\n",
      "xlabel('t')\n",
      "ylabel('red:x(t)  blue:E(t)')\n",
      "\n",
      "title('x(t)  and   E(t)')\n",
      "\n",
      "\n",
      "subplot(2, 1, 2)\n",
      "t = linspace(0, 10, 200)\n",
      "y3 = x_dot(t)\n",
      "\n",
      "\n",
      "plot(t, y3, 'r-')\n",
      "\n",
      "\n",
      "xlabel('x(t)')\n",
      "ylabel('x_dot(t)')\n",
      "\n",
      "\n",
      "\n",
      "show()"
     ],
     "language": "python",
     "metadata": {},
     "outputs": [
      {
       "name": "stdout",
       "output_type": "stream",
       "stream": "stdout",
       "text": [
        "m=43\n"
       ]
      },
      {
       "name": "stdout",
       "output_type": "stream",
       "stream": "stdout",
       "text": [
        "b=3\n"
       ]
      },
      {
       "name": "stdout",
       "output_type": "stream",
       "stream": "stdout",
       "text": [
        "k=5\n"
       ]
      },
      {
       "name": "stdout",
       "output_type": "stream",
       "stream": "stdout",
       "text": [
        "A=6\n"
       ]
      },
      {
       "name": "stdout",
       "output_type": "stream",
       "stream": "stdout",
       "text": [
        "delta=1354\n"
       ]
      },
      {
       "name": "stdout",
       "output_type": "stream",
       "stream": "stdout",
       "text": [
        "A1=123\n"
       ]
      },
      {
       "name": "stdout",
       "output_type": "stream",
       "stream": "stdout",
       "text": [
        "A2=5\n"
       ]
      },
      {
       "metadata": {},
       "output_type": "display_data",
       "png": "[encoded data removed]",
       "text": [
        "<matplotlib.figure.Figure at 0x465b9e8>"
       ]
      }
     ],
     "prompt_number": 2
    },
    {
     "cell_type": "markdown",
     "metadata": {},
     "source": [
      "## Problem 2\n",
      "\n",
      "Consider the driven oscillation\n",
      "$$\n",
      "  \\ddot{x} + 2\\beta\\dot{x} + \\omega^2_0 x = A\\cos(\\omega t).\n",
      "$$\n",
      "\n",
      "For a given set of $\\beta$, $\\omega_0$ and $\\omega$:\n",
      "* Plot quality factor $Q$ as a function of $\\omega$.\n",
      "* Plot phase angle $\\delta$ as a function of $\\omega$.\n",
      "* Use IPython Interact to let the user changes the values of $\\beta$, $\\omega_0$ and $\\omega$."
     ]
    },
    {
     "cell_type": "code",
     "collapsed": false,
     "input": [
      "# Problem 2\n",
      "beta=float(raw_input('beta='))\n",
      "w0=float(raw_input('w0='))\n",
      "w=float(raw_input('w='))\n",
      "A=float(raw_input('A='))\n",
      "\n",
      "def D(w):\n",
      "    return A/((w0**2-w**2)**2+4*(w**2)*(beta**2))**0.5\n",
      "\n",
      "def delta(w):\n",
      "    return arctan(2*w*beta/(w0**2-w**2))\n",
      "\n",
      "w = linspace(0, pi, 51)\n",
      "y1 = D(w)\n",
      "y2 = delta(w)\n",
      "\n",
      "plot(w, y1, 'r-')\n",
      "plot(w, y2, 'b-')\n",
      "\n",
      "xlabel('w')\n",
      "ylabel('red:D(w)  blue:delta(w)')\n",
      "\n"
     ],
     "language": "python",
     "metadata": {},
     "outputs": [
      {
       "name": "stdout",
       "output_type": "stream",
       "stream": "stdout",
       "text": [
        "beta=123\n"
       ]
      },
      {
       "name": "stdout",
       "output_type": "stream",
       "stream": "stdout",
       "text": [
        "w0=2\n"
       ]
      },
      {
       "name": "stdout",
       "output_type": "stream",
       "stream": "stdout",
       "text": [
        "w=2\n"
       ]
      },
      {
       "name": "stdout",
       "output_type": "stream",
       "stream": "stdout",
       "text": [
        "A=3\n"
       ]
      },
      {
       "metadata": {},
       "output_type": "pyout",
       "prompt_number": 3,
       "text": [
        "<matplotlib.text.Text at 0x9749550>"
       ]
      },
      {
       "metadata": {},
       "output_type": "display_data",
       "png": "[encoded data removed]",
       "text": [
        "<matplotlib.figure.Figure at 0x3bdf0f0>"
       ]
      }
     ],
     "prompt_number": 3
    },
    {
     "cell_type": "code",
     "collapsed": false,
     "input": [
      "from IPython.html.widgets import interact\n",
      "%pylab inline\n",
      "\n",
      "def draw(w0,beta):\n",
      "    w =linspace(0,10,150)\n",
      "    plot(w,arctan(2*w*beta/(w0**2-w**2)))\n",
      "\n",
      "interact(draw,w0=(0.,10.),beta=(0.,10.))"
     ],
     "language": "python",
     "metadata": {},
     "outputs": [
      {
       "metadata": {},
       "output_type": "pyout",
       "prompt_number": 4,
       "text": [
        "<function __main__.draw>"
       ]
      },
      {
       "metadata": {},
       "output_type": "display_data",
       "png": "[encoded data removed]",
       "text": [
        "<matplotlib.figure.Figure at 0xae06550>"
       ]
      }
     ],
     "prompt_number": 4
    },
    {
     "cell_type": "markdown",
     "metadata": {},
     "source": [
      "## Problem 3\n",
      "\n",
      "Write a definition for a class named `Kangaroo` with the following methods:\n",
      "\n",
      "* An `__init__` method that initializes an attribute named `pouch_contents` to an empty list.\n",
      "* A method named `put_in_pouch` that takes an object of any type and adds it to `pouch_contents`.\n",
      "* A `__str__` method that returns a string representation of the Kangaroo object and the contents of the pouch.\n",
      "\n",
      "Test your code by creating two Kangaroo objects, assigning them to variables named `kanga` and `roo`, and then adding `roo` to the contents of `kanga`\u2019s pouch"
     ]
    },
    {
     "cell_type": "code",
     "collapsed": false,
     "input": [
      "# Problme 3\n",
      "class Kangaroo( object ) :\n",
      "\n",
      "    def __init__ ( self ):\n",
      "        self.pouch_contents = []\n",
      "\n",
      "    def put_in_pouch(self, o ):\n",
      "        self.pouch_contents.append(o)\n",
      "\n",
      "    def __str__ ( self ):\n",
      "        return \"pouch contains \"+ str(self.pouch_contents)\n",
      "\n",
      "kanga = Kangaroo()\n",
      "roo = Kangaroo()\n",
      "kanga.put_in_pouch(roo)\n",
      "print kanga\n",
      "print roo\n",
      "kanga.put_in_pouch(\"lipstick\")\n",
      "kanga.put_in_pouch(\"Mascara\")\n",
      "roo.put_in_pouch(\"Pens\")\n",
      "roo.put_in_pouch(\"Cell phone\")\n",
      "print \"kanga= \",kanga\n",
      "print \"roo= \",roo"
     ],
     "language": "python",
     "metadata": {},
     "outputs": [
      {
       "output_type": "stream",
       "stream": "stdout",
       "text": [
        "pouch contains [<__main__.Kangaroo object at 0x000000000AE895F8>]\n",
        "pouch contains []\n",
        "kanga=  pouch contains [<__main__.Kangaroo object at 0x000000000AE895F8>, 'lipstick', 'Mascara']\n",
        "roo=  pouch contains ['Pens', 'Cell phone']\n"
       ]
      }
     ],
     "prompt_number": 5
    },
    {
     "cell_type": "markdown",
     "metadata": {},
     "source": [
      "## Problem 4\n",
      "\n",
      "Write a `__cmp__` method for `Time` objects. "
     ]
    },
    {
     "cell_type": "code",
     "collapsed": false,
     "input": [
      "# Problem 4\n",
      "class Time :\n",
      "    \"\"\"A class that holds a time.  Attributes are hours, minutes, and seconds\"\"\"\n",
      "\n",
      "    def time_to_int( self ) :\n",
      "# Look up Horner's rule for an efficient way to calculate polynomials        \n",
      "        return (((self.hours*60) + self.minutes) * 60 ) + self.seconds\n",
      "\n",
      "    def increment (self, secs ):\n",
      "        \"\"\"A function to increment time by seconds\"\"\"\n",
      "        s1 = self.time_to_int()\n",
      "        s1 += secs\n",
      "        time = int2time(s1)\n",
      "        return time\n",
      "\n",
      "    def __cmp__ (self, other ):\n",
      "        \"\"\"The built-in function cmp has the same interface as the method __cmp__:\n",
      "it takes two values and returns a positive number if the first is larger, a\n",
      "negative number if the second is larger, and 0 if they are equal.\"\"\"\n",
      "        si = self.time_to_int()\n",
      "        oi = other.time_to_int()\n",
      "        return si - oi\n",
      "\n",
      "    @staticmethod\n",
      "    def int_to_time( seconds ):\n",
      "        \"\"\"This function converts the integer seconds to a time\"\"\"\n",
      "        time = Time()\n",
      "        time.hours, secs = divmod(seconds,3600)\n",
      "        time.minutes, time.seconds = divmod(secs, 60)\n",
      "        return time\n",
      "\n",
      "    \n",
      "    def __str__( self ) :\n",
      "        \"\"\"A function to print out a time\"\"\"\n",
      "        return \"%d:%02d:%02d\" % (self.hours, self.minutes, self.seconds )\n",
      "        \n",
      "\n",
      "if __name__ == \"__main__\" :\n",
      "    while True :\n",
      "        s = int( raw_input(\"Enter the first number of seconds \") )\n",
      "        o = int( raw_input(\"Enter the second number of seconds \") )\n",
      "        st = Time.int_to_time(s)\n",
      "        ot = Time.int_to_time(o)\n",
      "        r= cmp(st, ot)\n",
      "        if r > 0 :\n",
      "            print str(st),\" > \", str(ot)\n",
      "        elif r == 0 :\n",
      "            print str(st),\" = \", str(ot)\n",
      "        else :\n",
      "            print str(st),\" < \", str(ot)\n"
     ],
     "language": "python",
     "metadata": {},
     "outputs": [
      {
       "name": "stdout",
       "output_type": "stream",
       "stream": "stdout",
       "text": [
        "Enter the first number of seconds 14\n"
       ]
      },
      {
       "name": "stdout",
       "output_type": "stream",
       "stream": "stdout",
       "text": [
        "Enter the second number of seconds 2\n"
       ]
      },
      {
       "output_type": "stream",
       "stream": "stdout",
       "text": [
        "0:00:14  >  0:00:02\n"
       ]
      },
      {
       "name": "stdout",
       "output_type": "stream",
       "stream": "stdout",
       "text": [
        "Enter the first number of seconds 32\n"
       ]
      },
      {
       "name": "stdout",
       "output_type": "stream",
       "stream": "stdout",
       "text": [
        "Enter the second number of seconds 41\n"
       ]
      },
      {
       "output_type": "stream",
       "stream": "stdout",
       "text": [
        "0:00:32  <  0:00:41\n"
       ]
      },
      {
       "name": "stdout",
       "output_type": "stream",
       "stream": "stdout",
       "text": [
        "Enter the first number of seconds 5\n"
       ]
      },
      {
       "name": "stdout",
       "output_type": "stream",
       "stream": "stdout",
       "text": [
        "Enter the second number of seconds 6\n"
       ]
      },
      {
       "output_type": "stream",
       "stream": "stdout",
       "text": [
        "0:00:05  <  0:00:06\n"
       ]
      },
      {
       "name": "stdout",
       "output_type": "stream",
       "stream": "stdout",
       "text": [
        "Enter the first number of seconds 4\n"
       ]
      },
      {
       "name": "stdout",
       "output_type": "stream",
       "stream": "stdout",
       "text": [
        "Enter the second number of seconds 2\n"
       ]
      },
      {
       "output_type": "stream",
       "stream": "stdout",
       "text": [
        "0:00:04  >  0:00:02\n"
       ]
      },
      {
       "name": "stdout",
       "output_type": "stream",
       "stream": "stdout",
       "text": [
        "Enter the first number of seconds 5\n"
       ]
      },
      {
       "name": "stdout",
       "output_type": "stream",
       "stream": "stdout",
       "text": [
        "Enter the second number of seconds 2\n"
       ]
      },
      {
       "output_type": "stream",
       "stream": "stdout",
       "text": [
        "0:00:05  >  0:00:02\n"
       ]
      },
      {
       "name": "stdout",
       "output_type": "stream",
       "stream": "stdout",
       "text": [
        "Enter the first number of seconds 52\n"
       ]
      },
      {
       "name": "stdout",
       "output_type": "stream",
       "stream": "stdout",
       "text": [
        "Enter the second number of seconds 5\n"
       ]
      },
      {
       "output_type": "stream",
       "stream": "stdout",
       "text": [
        "0:00:52  >  0:00:05\n"
       ]
      },
      {
       "name": "stdout",
       "output_type": "stream",
       "stream": "stdout",
       "text": [
        "Enter the first number of seconds 2\n"
       ]
      },
      {
       "name": "stdout",
       "output_type": "stream",
       "stream": "stdout",
       "text": [
        "Enter the second number of seconds 52\n"
       ]
      },
      {
       "output_type": "stream",
       "stream": "stdout",
       "text": [
        "0:00:02  <  0:00:52\n"
       ]
      }
     ]
    },
    {
     "cell_type": "markdown",
     "metadata": {},
     "source": [
      "## Problem 5\n",
      "\n",
      "Write a `Deck` method named `sort` that uses the list method `sort` to sort the cards in a `Deck`. `sort` uses the `__cmp__` method we defined to determine sort order."
     ]
    },
    {
     "cell_type": "code",
     "collapsed": false,
     "input": [
      "# Problem 5\n",
      "import random\n",
      "\n",
      "class Card:\n",
      "    \"\"\"represents a playing card\"\"\"\n",
      "\n",
      "    def __init__(self, suit=0, rank=2):\n",
      "        self.suit = suit\n",
      "        self.rank = rank\n",
      "\n",
      "    suit_names = ['Clubs', 'Diamonds', 'Hearts', 'Spades']\n",
      "    rank_names = [None, 'Ace','2', '3', '4', '5', '6', '7', \n",
      "        '8', '9', '10', 'Jack', 'Queen', 'King']\n",
      "\n",
      "    def __str__(self):\n",
      "        return '%s of %s' % (Card.rank_names[self.rank], Card.suit_names[self.suit])\n",
      "\n",
      "    def __cmp__(self, other):\n",
      "        t1 = self.suit, self.rank\n",
      "        t2 = other.suit, other.rank\n",
      "        return cmp(t1, t2)\n",
      "\n",
      "class Deck:\n",
      "    \"\"\"represents a deck of cards\"\"\"\n",
      "\n",
      "    def __init__(self):\n",
      "        self.cards = []\n",
      "        for suit in range(4):\n",
      "            for rank in range(1, 14):\n",
      "                card = Card(suit, rank)\n",
      "                self.cards.append(card)\n",
      "\n",
      "    def __str__(self):\n",
      "        res = [str(card) for card in self.cards]\n",
      "        return '\\n'.join(res)\n",
      "\n",
      "    def shuffle(self):\n",
      "        random.shuffle(self.cards)\n",
      "\n",
      "    def pop_card(self):\n",
      "        return self.cards.pop()\n",
      "\n",
      "    def add_card(self, card):\n",
      "        self.cards.append(card)\n",
      "\n",
      "    def move_cards(self, hand, num):\n",
      "        for i in range(num):\n",
      "            hand.add_card(self.pop_card())\n",
      "\n",
      "        \n",
      "\n",
      "class Hand(Deck):\n",
      "    \"\"\"represents a hand of cards\"\"\"\n",
      "\n",
      "    def __init__(self, label=''):\n",
      "        self.cards= []\n",
      "        self.label = label\n",
      "\n",
      "    def show_hand(Hand):\n",
      "        \"\"\"Displays hand\"\"\"\n",
      "        print Hand\n",
      "\n",
      "hand = Hand()\n",
      "deck = Deck()\n",
      "\n",
      "hand1 = Hand('Hand One') \n",
      "hand2 = Hand('Hand Two')\n",
      "\n",
      "Deck.shuffle(deck)\n",
      "Deck.move_cards(deck, hand1, 26)\n",
      "Deck.move_cards(deck, hand2, 26)\n",
      "\n",
      "print 'Hand 1: ', hand1\n",
      "print 'Hand 2: ', hand2"
     ],
     "language": "python",
     "metadata": {},
     "outputs": []
    },
    {
     "cell_type": "markdown",
     "metadata": {},
     "source": [
      "## Problem 6\n",
      "\n",
      "The following are the possible hands in poker, in increasing order of value (and decreasing order of probability):\n",
      "\n",
      "**pair:**\n",
      "two cards with the same rank\n",
      "\n",
      "**two pair:**\n",
      "two pairs of cards with the same rank\n",
      "\n",
      "**three of a kind:**\n",
      "three cards with the same rank\n",
      "\n",
      "**straight:**\n",
      "five cards with ranks in sequence (aces can be high or low, so Ace-2-3-4-5 is a straight and so is 10-Jack-Queen-King-Ace, but Queen-King-Ace-2-3 is not.)\n",
      "\n",
      "**flush:**\n",
      "five cards with the same suit\n",
      "\n",
      "**full house:**\n",
      "three cards with one rank, two cards with another\n",
      "\n",
      "**four of a kind:**\n",
      "four cards with the same rank\n",
      "\n",
      "**straight flush:**\n",
      "five cards in sequence (as defined above) and with the same suit\n",
      "\n",
      "**Modify** the following codes.\n",
      "\n",
      "Add methods to `PokerHand` class named `has_pair`, `has_twopair`, etc. that return `True` or `False` according to whether or not the hand meets the relevant criteria. Your code should work correctly for \u201chands\u201d that contain any number of cards (although 5 and 7 are the most common sizes)"
     ]
    },
    {
     "cell_type": "code",
     "collapsed": false,
     "input": [
      "import random\n",
      "\n",
      "\n",
      "class Card(object):\n",
      "    \"\"\"Represents a standard playing card.\n",
      "    \n",
      "    Attributes:\n",
      "      suit: integer 0-3\n",
      "      rank: integer 1-13\n",
      "    \"\"\"\n",
      "\n",
      "    suit_names = [\"Clubs\", \"Diamonds\", \"Hearts\", \"Spades\"]\n",
      "    rank_names = [None, \"Ace\", \"2\", \"3\", \"4\", \"5\", \"6\", \"7\", \n",
      "              \"8\", \"9\", \"10\", \"Jack\", \"Queen\", \"King\"]\n",
      "\n",
      "    def __init__(self, suit=0, rank=2):\n",
      "        self.suit = suit\n",
      "        self.rank = rank\n",
      "\n",
      "    def __str__(self):\n",
      "        \"\"\"Returns a human-readable string representation.\"\"\"\n",
      "        return '%s of %s' % (Card.rank_names[self.rank],\n",
      "                             Card.suit_names[self.suit])\n",
      "\n",
      "    def __cmp__(self, other):\n",
      "        \"\"\"Compares this card to other, first by suit, then rank.\n",
      "\n",
      "        Returns a positive number if this > other; negative if other > this;\n",
      "        and 0 if they are equivalent.\n",
      "        \"\"\"\n",
      "        t1 = self.suit, self.rank\n",
      "        t2 = other.suit, other.rank\n",
      "        return cmp(t1, t2)\n",
      "\n",
      "\n",
      "class Deck(object):\n",
      "    \"\"\"Represents a deck of cards.\n",
      "\n",
      "    Attributes:\n",
      "      cards: list of Card objects.\n",
      "    \"\"\"\n",
      "    \n",
      "    def __init__(self):\n",
      "        self.cards = []\n",
      "        for suit in range(4):\n",
      "            for rank in range(1, 14):\n",
      "                card = Card(suit, rank)\n",
      "                self.cards.append(card)\n",
      "\n",
      "    def __str__(self):\n",
      "        res = []\n",
      "        for card in self.cards:\n",
      "            res.append(str(card))\n",
      "        return '\\n'.join(res)\n",
      "\n",
      "    def add_card(self, card):\n",
      "        \"\"\"Adds a card to the deck.\"\"\"\n",
      "        self.cards.append(card)\n",
      "\n",
      "    def remove_card(self, card):\n",
      "        \"\"\"Removes a card from the deck.\"\"\"\n",
      "        self.cards.remove(card)\n",
      "\n",
      "    def pop_card(self, i=-1):\n",
      "        \"\"\"Removes and returns a card from the deck.\n",
      "\n",
      "        i: index of the card to pop; by default, pops the last card.\n",
      "        \"\"\"\n",
      "        return self.cards.pop(i)\n",
      "\n",
      "    def shuffle(self):\n",
      "        \"\"\"Shuffles the cards in this deck.\"\"\"\n",
      "        random.shuffle(self.cards)\n",
      "\n",
      "    def sort(self):\n",
      "        \"\"\"Sorts the cards in ascending order.\"\"\"\n",
      "        self.cards.sort()\n",
      "\n",
      "    def move_cards(self, hand, num):\n",
      "        \"\"\"Moves the given number of cards from the deck into the Hand.\n",
      "\n",
      "        hand: destination Hand object\n",
      "        num: integer number of cards to move\n",
      "        \"\"\"\n",
      "        for i in range(num):\n",
      "            hand.add_card(self.pop_card())\n",
      "\n",
      "\n",
      "class Hand(Deck):\n",
      "    \"\"\"Represents a hand of playing cards.\"\"\"\n",
      "    \n",
      "    def __init__(self, label=''):\n",
      "        self.cards = []\n",
      "        self.label = label\n",
      "class PokerHand(Hand):\n",
      "\n",
      "    def suit_hist(self):\n",
      "        \"\"\"Builds a histogram of the suits that appear in the hand.\n",
      "        Stores the result in attribute suits.\n",
      "        \"\"\"\n",
      "        self.suits = {}\n",
      "        for card in self.cards:\n",
      "            self.suits[card.suit] = self.suits.get(card.suit, 0) + 1\n",
      "\n",
      "    def rank_hist(self) :\n",
      "        \"\"\"Builds a histogram of the ranks that appear in the hand.\n",
      "        Stores the result in attribute ranks.\n",
      "        \"\"\"\n",
      "        self.ranks = {}\n",
      "        for card in self.cards:\n",
      "            self.ranks[card.rank] = self.ranks.get(card.rank, 0) + 1\n",
      "\n",
      "    def has_pair(self):\n",
      "        \"\"\"pair:  two cards with the same rank\"\"\"\n",
      "\n",
      "        for val in self.ranks.values() :\n",
      "            if val >= 2 :\n",
      "                return True\n",
      "        return False\n",
      "\n",
      "    def has_two_pairs(self) :\n",
      "        \"\"\" two pair: two pairs of cards with the same rank\"\"\"\n",
      "        pair_ctr=0\n",
      "        for val in self.ranks.values() :\n",
      "            if val >= 2 :\n",
      "                pair_ctr += 1\n",
      "                if pair_ctr >= 2 :\n",
      "                    return True\n",
      "        return False\n",
      "\n",
      "    def has_three_of_a_kind(self) :\n",
      "        \"\"\"three of a kind: three cards with the same rank\"\"\"\n",
      "        for val in self.ranks.values() :\n",
      "            if val >= 3 :\n",
      "                return True\n",
      "        return False\n",
      "\n",
      "    \n",
      "\n",
      "    def has_flush(self):\n",
      "        \"\"\"Returns True if the hand has a flush, False otherwise.\n",
      "      \n",
      "        Note that this works correctly for hands with more than 5 cards.\n",
      "        \"\"\"\n",
      "        for val in self.suits.values():\n",
      "            if val >= 5:\n",
      "                return True\n",
      "        return False\n",
      "\n",
      "\n",
      "if __name__ == '__main__':\n",
      "    # make a deck\n",
      "    deck = Deck()\n",
      "    deck.shuffle()\n",
      "\n",
      "    # deal the cards and classify the hands\n",
      "    while True:\n",
      "        print \"*\"*20\n",
      "        try :\n",
      "            hand = PokerHand()\n",
      "        except IndexError:\n",
      "            print \"New Deck\"\n",
      "            deck = Deck()\n",
      "            deck.shuffle()\n",
      "        deck.move_cards(hand, 7)\n",
      "        hand.sort()\n",
      "        hand.suit_hist()\n",
      "        hand.rank_hist()\n",
      "        print hand\n",
      "        print \"Has flush:\",  hand.has_flush()\n",
      "        print \"Has pair:\", hand.has_pair()\n",
      "        print \"Has two pairs:\", hand.has_two_pairs()\n",
      "        t = hand.has_three_of_a_kind()\n",
      "        print \"Has three of a kind:\", t\n",
      "        if t:\n",
      "            break"
     ],
     "language": "python",
     "metadata": {},
     "outputs": []
    },
    {
     "cell_type": "code",
     "collapsed": false,
     "input": [
      "# Problem 6"
     ],
     "language": "python",
     "metadata": {},
     "outputs": [],
     "prompt_number": 7
    }
   ],
   "metadata": {}
  }
 ]
}