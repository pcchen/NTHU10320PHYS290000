{
 "metadata": {
  "name": "",
  "signature": "sha256:cf4a84469ae63a0def5e2d4165bb6dd8b33f1483e45ef8fc64652436a83f3d17"
 },
 "nbformat": 3,
 "nbformat_minor": 0,
 "worksheets": [
  {
   "cells": [
    {
     "cell_type": "markdown",
     "metadata": {},
     "source": [
      "# Homework 2"
     ]
    },
    {
     "cell_type": "markdown",
     "metadata": {},
     "source": [
      "## Problem 1\n",
      "\n",
      "The Catalan numbers $C_n$ are a sequence of integers 1, 1, 2, 5, 14, 42, 132. . . that play an important role in quantum mechanics and the theory of disordered systems.\n",
      "They are given by\n",
      "\n",
      "$$\n",
      "  \\Large\n",
      "  C_0 = 1, \\;\n",
      "  C_{n+1} = \\frac{4n+2}{n+2} C_n.\n",
      "$$\n",
      "\n",
      "Write a program that prints in increasing order all Catalan numbers less than or equal to one billion."
     ]
    },
    {
     "cell_type": "code",
     "collapsed": false,
     "input": [
      "# Problem 1\n",
      "def catalan(c,n):\n",
      "    \n",
      "    if c> 1000000000:\n",
      "        return\n",
      "    print c\n",
      "    c=(4*n+2)/(n+2)*c\n",
      "    n=n+1\n",
      "    catalan(c,n)   \n",
      "    \n",
      "catalan(1,0)"
     ],
     "language": "python",
     "metadata": {},
     "outputs": [
      {
       "output_type": "stream",
       "stream": "stdout",
       "text": [
        "1\n",
        "1\n",
        "2\n",
        "4\n",
        "8\n",
        "24\n",
        "72\n",
        "216\n",
        "648\n",
        "1944\n",
        "5832\n",
        "17496\n",
        "52488\n",
        "157464\n",
        "472392\n",
        "1417176\n",
        "4251528\n",
        "12754584\n",
        "38263752\n",
        "114791256\n",
        "344373768\n"
       ]
      }
     ],
     "prompt_number": 10
    },
    {
     "cell_type": "markdown",
     "metadata": {},
     "source": [
      "## Problem 2\n",
      "\n",
      "The Madelung constant gives the total electric potential felt by an atom in a solid. Consider for instance solid sodium chloride. The crystal has atoms arranged on a cubic lattice, but with alternating sodium and chlorine atoms, the sodium ones having a $+e$ charge and the chlorine has a $\u2212e$ charge. If we label each position on the lattice by three integers $(i,j,k)$, the sodium atoms fall at positions where $i +j +k$ is even, and the chlorine atoms at positions where $i +j +k$ is odd.\n",
      "\n",
      "Consider a sodium atom at the origin, $i = j = k = 0$. Assume the lattice constant is a and a cubic box around the sodium at the origin, with $L$ atoms in all directions. The potential at the origin created by atoms at $(i,j,k)$ is\n",
      "\n",
      "$$\n",
      "  \\Large\n",
      "  V(i,j,k) = \\pm V_0 \\frac{1}{\\sqrt{i^2+j^2+k^2}}, \\;\n",
      "  V_0 = \\frac{e}{4\\pi \\epsilon_0 a},\n",
      "$$\n",
      "where the sign depends on whether $i + j + k$ is even or odd.\n",
      "\n",
      "Then \n",
      "\n",
      "$$\n",
      "  \\Large\n",
      "  V_{tot} = {\\sum_{i,\\; j,\\; k =-L,\\; \\; (i,j,k)\\neq (0,0,0) }^{L}} V(i,j,k) = V_0 M_L\n",
      "$$\n",
      "\n",
      "where $M_L$ is the approximated Madelung constant. The exact Madelung constant can be obtained by $M =\\lim_{L \\rightarrow \\infty } M_L$.\n",
      "\n",
      "Write a program to calculate and print $M_L$ for a given $L$. Use as large a value of $L$ as you can while still having your program run in reasonable time, to estimate the value of $M$. You can print a table of $L$, $M_L$ up to some $L_{max}$.\n",
      "\n",
      "Hint: the correct answer is about \u22121.748."
     ]
    },
    {
     "cell_type": "code",
     "collapsed": false,
     "input": [
      "# Problem 2"
     ],
     "language": "python",
     "metadata": {},
     "outputs": [],
     "prompt_number": 2
    },
    {
     "cell_type": "markdown",
     "metadata": {},
     "source": [
      "## Problem 3\n",
      "\n",
      "Write a program to find all the primes up to 10,000  by using following rules.\n",
      "\n",
      "* A number $n$ is a prime if it has no prime factors less than $n$. Hence we only need to check if it is divisible by other primes.\n",
      "\n",
      "* To determine if a number is prime we have to check its prime factors only up to and including $\\sqrt{n}$. If there are none prime-factor then the number is prime.\n",
      "\n",
      "* \ufffc\ufffcIf we find even a single prime factor less than that the number is non-prime.\n",
      "\n",
      "Hint: Create a list to store the primes, which starts out with just one prime number 2 it it. For each number from 3 to 10000 check whether the number is divisible by any of the primes in the list up to and including $\\sqrt{n}$. If you find no prime factors then n is prime and you should add it to the list."
     ]
    },
    {
     "cell_type": "code",
     "collapsed": false,
     "input": [
      "# Problem 3"
     ],
     "language": "python",
     "metadata": {},
     "outputs": [],
     "prompt_number": 3
    },
    {
     "cell_type": "markdown",
     "metadata": {},
     "source": [
      "## Problem 4\n",
      "\n",
      "Write a function called `nested_sum` that takes a nested list of integers and add up the elements from all of the nested lists. "
     ]
    },
    {
     "cell_type": "code",
     "collapsed": false,
     "input": [
      "# Problem 4\n",
      "# Hint, you can use `isinstance` to check if a variable is a list or not\n",
      "t = [1, 2, [1, 1, 1]]\n",
      "for x in t:\n",
      "    if isinstance(x, list):\n",
      "        print x, 'is a list'\n",
      "    else:\n",
      "        print x, 'is not a list'"
     ],
     "language": "python",
     "metadata": {},
     "outputs": [
      {
       "output_type": "stream",
       "stream": "stdout",
       "text": [
        "1 is not a list\n",
        "2 is not a list\n",
        "[1, 1, 1] is a list\n"
       ]
      }
     ],
     "prompt_number": 4
    },
    {
     "cell_type": "markdown",
     "metadata": {},
     "source": [
      "## Problem 5\n",
      "\n",
      "Write a function that takes a list of numbers and returns the cumulative sum; that is, a **new** list where the ith element is the sum of the first i+1 elements from the original list. For example, the cumulative sum of [1, 2, 3] is [1, 3, 6]."
     ]
    },
    {
     "cell_type": "code",
     "collapsed": false,
     "input": [
      "# Problem 5"
     ],
     "language": "python",
     "metadata": {},
     "outputs": [],
     "prompt_number": 5
    },
    {
     "cell_type": "markdown",
     "metadata": {},
     "source": [
      "## Problem 6\n",
      "\n",
      "Write a function called `middle` that takes a list and returns a **new** list that contains all but the first and last elements. So `middle([1,2,3,4])` should return `[2,3]`."
     ]
    },
    {
     "cell_type": "code",
     "collapsed": false,
     "input": [
      "# Problem 6"
     ],
     "language": "python",
     "metadata": {},
     "outputs": [],
     "prompt_number": 6
    },
    {
     "cell_type": "markdown",
     "metadata": {},
     "source": [
      "## Problem 7\n",
      "\n",
      "Write a function called `chop` that takes a list, modifies it by removing the first and last elements, and returns `None`."
     ]
    },
    {
     "cell_type": "code",
     "collapsed": false,
     "input": [
      "# Problem 7"
     ],
     "language": "python",
     "metadata": {},
     "outputs": [],
     "prompt_number": 7
    },
    {
     "cell_type": "markdown",
     "metadata": {},
     "source": [
      "## Problem 8\n",
      "\n",
      "Write a program that reads the words from the `words.txt` and then find all the words with three consecutive double letters. That is, all the words which contain a sub-string of the form `'xxyyzz'` where `x`,`y`,`z` are arbitrary letters. "
     ]
    },
    {
     "cell_type": "code",
     "collapsed": false,
     "input": [
      "# problem 8"
     ],
     "language": "python",
     "metadata": {},
     "outputs": [],
     "prompt_number": 8
    }
   ],
   "metadata": {}
  }
 ]
}