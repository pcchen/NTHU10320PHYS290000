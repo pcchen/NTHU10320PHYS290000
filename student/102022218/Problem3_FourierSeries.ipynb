{
 "metadata": {
  "name": "",
  "signature": "sha256:a7173e2b11bf2dab045151c5f72e361176dd975b4ea9f8cabf46b7517fd7589d"
 },
 "nbformat": 3,
 "nbformat_minor": 0,
 "worksheets": [
  {
   "cells": [
    {
     "cell_type": "markdown",
     "metadata": {},
     "source": [
      "# Problem 3:\n",
      "# Fourier Series\n",
      "\n",
      "The $N$-th order Fourier series of a period function $f(x)$ of period $L$ is defined as\n",
      "\n",
      "$$\n",
      "  FS(N,x) \\equiv \\frac{a_0}{2} + \\sum_{r=1}^{N} \n",
      "  \\left[\n",
      "    a_r \\cos\\left(\\frac{2\\pi r x}{L}\\right) + b_r \\sin\\left(\\frac{2\\pi r x}{L}\\right)\n",
      "  \\right],\n",
      "$$\n",
      "where \n",
      "\n",
      "$$\n",
      "  a_r = \\frac{2}{L} \\int_{x_0}^{x_0+L} f(x) \\cos\\left(\\frac{2\\pi r x}{L} \\right) dx, \\; \\;\n",
      "  b_r = \\frac{2}{L} \\int_{x_0}^{x_0+L} f(x) \\sin\\left(\\frac{2\\pi r x}{L} \\right) dx.\n",
      "$$\n",
      "\n",
      "In this problem, you should \n",
      "* Implement the $N$-th order Fourier series of the square-wave function:\n",
      "$$\n",
      "  f(x) = \n",
      " \\begin{cases} \n",
      " -1 & -\\frac{T}{2} \\le t < 0 \\\\ \n",
      " +1 & 0 \\le t < \\frac{T}{2}.\n",
      " \\end{cases}\n",
      "$$\n",
      "* Plot $f(x), FS(10,x), FS(50,x), FS(100,x)$ with $x \\in [-0.2 T,+0.2 T]$ and $y \\in [-1.5, 1.5]$.\n",
      "* Use IPython Interact to let user adjust $N$ in the range of $N=1, \\cdots 100$ and plot $f(x)$ and $FS(N,x)$.\n",
      "\n",
      "Please write your code based on the sketch below"
     ]
    },
    {
     "cell_type": "markdown",
     "metadata": {},
     "source": [
      "## Part 1"
     ]
    },
    {
     "cell_type": "code",
     "collapsed": false,
     "input": [
      "%pylab inline"
     ],
     "language": "python",
     "metadata": {},
     "outputs": []
    },
    {
     "cell_type": "code",
     "collapsed": false,
     "input": [
      "# create your functions\n",
      "%pylab inline\n",
      "import math\n",
      "T=1\n",
      "def f(t):\n",
      "    if t>=((-T)/2) and t<0:\n",
      "        return -1\n",
      "    else:\n",
      "        return 1\n",
      "    \n",
      "def FS(N, t):\n",
      "    a0=0\n",
      "    x=a0/2\n",
      "    i=1\n",
      "    def a(i):\n",
      "        return 0\n",
      "    def b(i):\n",
      "        if i%2==0:\n",
      "            return 0\n",
      "        else:\n",
      "            x=4/(math.pi*i)\n",
      "            return x\n",
      "    while i<=N:\n",
      "        x=x+a(i)*math.cos(2*(math.pi)*i*t/T)+b(i)*math.sin(2*(math.pi)*i*t/T)\n",
      "        i=i+1\n",
      "    return x\n",
      "def plotter(N):\n",
      "    t = linspace(-0.2*T, 0.2*T, 100)\n",
      "    y = zeros(len(t))\n",
      "    for i in xrange(len(t)):\n",
      "        y[i] = FS(N, t[i])\n",
      "    plot(t, y)\n",
      "\n",
      "t = linspace(-0.2*T, 0.2*T, 100)\n",
      "y = zeros(len(t))\n",
      "for i in xrange(len(t)):\n",
      "    y[i] = f(t[i])\n",
      "plot(t, y)\n",
      "plotter(10)\n",
      "plotter(50)\n",
      "plotter(100)\n",
      "show()\n"
     ],
     "language": "python",
     "metadata": {},
     "outputs": [
      {
       "output_type": "stream",
       "stream": "stdout",
       "text": [
        "Populating the interactive namespace from numpy and matplotlib\n"
       ]
      },
      {
       "output_type": "stream",
       "stream": "stderr",
       "text": [
        "WARNING: pylab import has clobbered these variables: ['f']\n",
        "`%matplotlib` prevents importing * from pylab and numpy\n"
       ]
      },
      {
       "metadata": {},
       "output_type": "display_data",
       "png": "[encoded data removed]",
       "text": [
        "<matplotlib.figure.Figure at 0x3d4c780>"
       ]
      }
     ],
     "prompt_number": 4
    },
    {
     "cell_type": "markdown",
     "metadata": {},
     "source": [
      "## Part2"
     ]
    },
    {
     "cell_type": "code",
     "collapsed": false,
     "input": [
      "from IPython.html.widgets import interact"
     ],
     "language": "python",
     "metadata": {},
     "outputs": []
    },
    {
     "cell_type": "code",
     "collapsed": false,
     "input": [
      "# create your ipython interact\n",
      "from IPython.html.widgets import interact\n",
      "%pylab inline\n",
      "import math\n",
      "T=1\n",
      "def f(t):\n",
      "    if t>=((-T)/2) and t<0:\n",
      "        return -1\n",
      "    else:\n",
      "        return 1\n",
      "    \n",
      "def FS(N, t):\n",
      "    a0=0\n",
      "    x=a0/2\n",
      "    i=1\n",
      "    def a(i):\n",
      "        return 0\n",
      "    def b(i):\n",
      "        if i%2==0:\n",
      "            return 0\n",
      "        else:\n",
      "            x=4/(math.pi*i)\n",
      "            return x\n",
      "    while i<=N:\n",
      "        x=x+a(i)*math.cos(2*(math.pi)*i*t/T)+b(i)*math.sin(2*(math.pi)*i*t/T)\n",
      "        i=i+1\n",
      "    return x\n",
      "def plotter(N):\n",
      "    t = linspace(-0.2*T, 0.2*T, 100)\n",
      "    y = zeros(len(t))\n",
      "    for i in xrange(len(t)):\n",
      "        y[i] = FS(N, t[i])\n",
      "    plot(t, y)\n",
      "    y1 = zeros(len(t))\n",
      "    for i in xrange(len(t)):\n",
      "        y1[i] = f(t[i])\n",
      "    plot(t, y1)\n",
      "\n",
      "t = linspace(-0.2*T, 0.2*T, 100)\n",
      "\n",
      "interact(plotter, N=(1,100))"
     ],
     "language": "python",
     "metadata": {},
     "outputs": [
      {
       "metadata": {},
       "output_type": "display_data",
       "png": "[encoded data removed]",
       "text": [
        "<matplotlib.figure.Figure at 0xa3cf940>"
       ]
      }
     ],
     "prompt_number": 8
    },
    {
     "cell_type": "code",
     "collapsed": false,
     "input": [],
     "language": "python",
     "metadata": {},
     "outputs": []
    }
   ],
   "metadata": {}
  }
 ]
}