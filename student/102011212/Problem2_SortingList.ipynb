{
 "metadata": {
  "name": "",
  "signature": "sha256:c71be458bcff3e1d55dbf5a2df8ff0c1f8c3ec4bb2e9cd692d0c76cf952f19be"
 },
 "nbformat": 3,
 "nbformat_minor": 0,
 "worksheets": [
  {
   "cells": [
    {
     "cell_type": "markdown",
     "metadata": {},
     "source": [
      "# Problem 2:\n",
      "# Sorting a List\n",
      "\n",
      "In this problem you should\n",
      "* Implement the **selection sort** algorithm.\n",
      "* Implement the **insertion sort** algorithm.\n",
      "* Create a list of N-elements where each element is a random integer between 0, 1, 2, ..., N-1.\n",
      "* Use your implementation of the selection sort and insertion sort to sort the the random list above.\n",
      "* Use built-in function `sorted()` that builds a new sorted list to show that your implementation is correct.\n",
      "\n",
      "## Selection sort\n",
      "\n",
      "Following is the algorithm of the **selection sort**:\n",
      "\n",
      "* Divide the input list into two sub-lists:\n",
      " * Sorted sub-list (Start with an empty list).\n",
      " * Un-Sorted sub-list.\n",
      "* Find the smallest element in the unsorted list.\n",
      "* Swap with the leftmost unsorted element.\n",
      "* Move the sub-list boundaries.\n",
      "\n",
      "Following is an example of selection sort:\n",
      "<img src=\"SelectionSort.png\" width=\"800\">\n",
      "\n",
      "## Insertion sort\n",
      "\n",
      "Following is the algorithm of the **insertion sort**:\n",
      "\n",
      "* Divide the input list into two sub-lists:\n",
      " * Sorted sub-list (Start with the leftmost element).\n",
      " * Un-Sorted sub-list.\n",
      "* Insert the leftmost element of the unsorted sub-list into the proper position of the sorted sub-list.\n",
      "* Move the sub-list boundaries \n",
      "\n",
      "Following is an example of selection sort:\n",
      "<img src=\"InsertionSort.png\" width=\"800\">"
     ]
    },
    {
     "cell_type": "markdown",
     "metadata": {},
     "source": [
      "Please write your code based on the sketch below and use the test code below to show that your function works properly."
     ]
    },
    {
     "cell_type": "code",
     "collapsed": false,
     "input": [
      "from random import *\n",
      "\n",
      "# create a random list with N elements\n",
      "def random_list(N):\n",
      "    x=range(N)\n",
      "    for i in range(N):\n",
      "        x[i]=randint(0,N-1)\n",
      "    return x\n",
      "\n",
      "# selection sort\n",
      "def selection_sort(y):\n",
      "    L=len(y)\n",
      "    x=range(L)\n",
      "    for a in range(L):\n",
      "       x[a]=y[a]\n",
      "    for i in range(L):\n",
      "        n=min(x)\n",
      "        c=0\n",
      "        d=0\n",
      "        while c!=1:\n",
      "            if x[d]==n:\n",
      "                s=x.pop(d)\n",
      "                c=1\n",
      "            d=d+1  \n",
      "        y[i]=s\n",
      "\n",
      "n=random_list(10)\n",
      "print n\n",
      "selection_sort(n)\n",
      "print n"
     ],
     "language": "python",
     "metadata": {},
     "outputs": [
      {
       "output_type": "stream",
       "stream": "stdout",
       "text": [
        "[4, 0, 3, 6, 2, 0, 1, 5, 7, 2]\n",
        "[0, 0, 1, 2, 2, 3, 4, 5, 6, 7]\n"
       ]
      }
     ],
     "prompt_number": 2
    },
    {
     "cell_type": "code",
     "collapsed": false,
     "input": [
      "# test the implementation of selection sort\n",
      "N = 10\n",
      "L = random_list(N)\n",
      "L_sorted = sorted(L)\n",
      "selection_sort(L)\n",
      "\n",
      "for i in range(len(L)):\n",
      "    if L[i] != L_sorted[i]:\n",
      "        print 'oops!'   "
     ],
     "language": "python",
     "metadata": {},
     "outputs": [],
     "prompt_number": 3
    },
    {
     "cell_type": "code",
     "collapsed": false,
     "input": [
      "# insertion sort\n",
      "def insertion_sort(h):\n",
      "    L=len(h)\n",
      "    x=range(L)\n",
      "    for a in range(L):\n",
      "       x[a]=h[a]\n",
      "    y=[]\n",
      "    y.append(x.pop(0))\n",
      "    y.append(x.pop(0))\n",
      "    if y[0]>y[1]:\n",
      "        f=y[1]\n",
      "        y[1]=y[0]\n",
      "        y[0]=f\n",
      "    L_2=len(x)\n",
      "    for i in range(L_2):\n",
      "        n=x.pop(0)\n",
      "        if n<=y[0]:\n",
      "            y.append(n)\n",
      "            q=y[-1]\n",
      "            j=len(y)-2\n",
      "            while j>=0:\n",
      "                y[j+1]=y[j]\n",
      "                j=j-1\n",
      "            y[0]=q\n",
      "        elif n>=y[-1]:\n",
      "            y.append(n)\n",
      "        elif n>y[0] and n<y[-1]: \n",
      "            c=0\n",
      "            k=[]\n",
      "            s=0\n",
      "            while c < len(y)-2:\n",
      "                if y[c]<=n and y[c+1]>=n:\n",
      "                    s=c+1\n",
      "                c=c+1\n",
      "            p=s\n",
      "            y.append(n)\n",
      "            q=y[-1]\n",
      "            j=len(y)-2\n",
      "            while j>=p:\n",
      "                y[j+1]=y[j]\n",
      "                j=j-1\n",
      "            y[p]=q\n",
      "    return y\n",
      "m=random_list(10)\n",
      "print m\n",
      "print insertion_sort(m)"
     ],
     "language": "python",
     "metadata": {},
     "outputs": [
      {
       "output_type": "stream",
       "stream": "stdout",
       "text": [
        "[9, 2, 1, 5, 4, 3, 1, 4, 0, 7]\n",
        "[7, 0, 1, 3, 4, 4, 5, 1, 2, 9]\n"
       ]
      }
     ],
     "prompt_number": 15
    },
    {
     "cell_type": "code",
     "collapsed": false,
     "input": [
      "# test the implementation of insertion sort\n",
      "N = 10\n",
      "L = random_list(N)\n",
      "L_sorted = sorted(L)\n",
      "x=insertion_sort(L)\n",
      "\n",
      "for i in range(len(L)):\n",
      "    if x[i] != L_sorted[i]:\n",
      "        print 'oops!'    \n",
      "    else:\n",
      "        print 'OK'"
     ],
     "language": "python",
     "metadata": {},
     "outputs": [
      {
       "output_type": "stream",
       "stream": "stdout",
       "text": [
        "OK\n",
        "OK\n",
        "OK\n",
        "OK\n",
        "OK\n",
        "OK\n",
        "OK\n",
        "OK\n",
        "OK\n",
        "OK\n"
       ]
      }
     ],
     "prompt_number": 13
    },
    {
     "cell_type": "code",
     "collapsed": false,
     "input": [],
     "language": "python",
     "metadata": {},
     "outputs": []
    }
   ],
   "metadata": {}
  }
 ]
}