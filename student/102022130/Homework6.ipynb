{
 "metadata": {
  "name": "",
  "signature": "sha256:d6283cf92b9c422bf0e379febd4703ad7d76f7749e758b236b7bfb55cdd9f880"
 },
 "nbformat": 3,
 "nbformat_minor": 0,
 "worksheets": [
  {
   "cells": [
    {
     "cell_type": "markdown",
     "metadata": {},
     "source": [
      "# Homework 6"
     ]
    },
    {
     "cell_type": "markdown",
     "metadata": {},
     "source": [
      "## Problem 1\n",
      "\n",
      "Use **ivisual** module to plot the projectile motion with following equations of motion:\n",
      "\n",
      "$$\n",
      "\\begin{eqnarray*}\n",
      "  m\\ddot{x} &=& 0, \\\\\n",
      "  m\\ddot{y} &=& -mg, \\\\\n",
      "  m\\ddot{z} &=& 0,\n",
      "\\end{eqnarray*}\n",
      "$$\n",
      "and initial conditions\n",
      "\n",
      "$$\n",
      "  \\vec{r}(0) = (0, 0, 0), \\\\\n",
      "  \\vec{v}(0) = (v_{x0}, v_{y0}, 0),\n",
      "$$\n",
      "You can assign $v_{x0}$ and $v_{y0}$ in the code or ask user to input it.\n",
      "\n",
      "You should\n",
      "* Use a box to represent the ground.\n",
      "* Use three arrows to represent the three axes.\n",
      "* Use a sphere to represent the ball of the projectile motion.\n",
      "* Leave a trail.\n",
      "* Stop the simulation when the ball hit the ground.\n",
      "\n",
      "You should use to ways to calculate the trajectory of the motion.\n",
      "1. Use exact solution: $x(t)=x(0)+v_x t$, etc.\n",
      "2. Use numerical solution:\n",
      " * $v(t+dt) = v(t) + a * dt$.\n",
      " * $x(t+dt) = x(t) + v(t) * dt$.\n",
      "\n",
      "You should use a small enough $dt$ to ensure the numerical solution is accurate enough.\n"
     ]
    },
    {
     "cell_type": "code",
     "collapsed": false,
     "input": [
      "from ivisual import *\n",
      "#objects\n",
      "scene = canvas(title = \"arrow\")\n",
      "\n",
      "scene.width = 800\n",
      "scene.height = 600\n",
      "scene.autoscale = 0\n",
      "scene.range = (100,100,100)\n",
      "scene.center = (0,0,0)\n",
      "\n",
      "ground = box(pos=(0,-5,0),     axis=(1,0,0), length=150,\n",
      "    height=10, width=150)\n",
      "\n",
      "xaxis = arrow(pos=(0,0,0),  axis=(1,0,0),    color=(1,0,0), length=200,  shaftwidth=5)\n",
      "\n",
      "yaxis = arrow(pos=(0,0,0),  axis=(0,1,0),    color=(0,1,0), length=200,  shaftwidth=5)\n",
      "\n",
      "zaxis = arrow(pos=(0,0,0),  axis=(0,0,1),    color=(0,0,1), length=200,  shaftwidth=5)\n",
      "\n",
      "ball = sphere(pos=(0,0,0), radius=5, color=(1,1,0))\n",
      "#set initial velocity\n",
      "vx=5\n",
      "vy=30\n",
      "\n",
      "#initial condition/rate\n",
      "deltat = 0.02\n",
      "t=0\n",
      "ball.trail = curve(color=ball.color)\n",
      "\n",
      "#actual animation\n",
      "while ball.pos.y >= 0 and t<10:\n",
      "    rate(10)\n",
      "    t += deltat\n",
      "    ball.pos=(vx*t,vy*t-9.8*t**2,0)\n",
      "    ball.trail.append(pos=ball.pos)\n"
     ],
     "language": "python",
     "metadata": {},
     "outputs": [
      {
       "output_type": "stream",
       "stream": "stdout",
       "text": [
        "commsend len(baseObj.cmds) > 0\n"
       ]
      },
      {
       "html": [
        "<div id=\"scene9\"><div id=\"glowscript\" class=\"glowscript\"></div></div>"
       ],
       "metadata": {},
       "output_type": "display_data",
       "text": [
        "<IPython.core.display.HTML at 0x27e4550>"
       ]
      },
      {
       "javascript": [
        "window.__context = { glowscript_container: $(\"#glowscript\").removeAttr(\"id\")}"
       ],
       "metadata": {},
       "output_type": "display_data",
       "text": [
        "<IPython.core.display.Javascript at 0x27de940>"
       ]
      },
      {
       "output_type": "stream",
       "stream": "stdout",
       "text": [
        "commsend len(baseObj.cmds) > 0\n",
        "commsend len(baseObj.cmds) > 0\n",
        "commsend len(baseObj.cmds) > 0\n",
        "commsend len(baseObj.cmds) > 0\n",
        "commsend len(baseObj.cmds) > 0\n",
        "commsend len(baseObj.cmds) > 0\n",
        "commsend len(baseObj.cmds) > 0\n",
        "commsend len(baseObj.cmds) > 0\n",
        "commsend len(baseObj.cmds) > 0\n",
        "commsend len(baseObj.cmds) > 0\n",
        "commsend len(baseObj.cmds) > 0\n"
       ]
      }
     ],
     "prompt_number": 11
    },
    {
     "cell_type": "markdown",
     "metadata": {},
     "source": [
      "## Problem 2\n",
      "\n",
      "Now introduce the air resistence so the equations of motion become:\n",
      "\n",
      "$$\n",
      "\\begin{eqnarray*}\n",
      "  m\\ddot{x} &=& -km\\dot{x}, \\\\\n",
      "  m\\ddot{y} &=& -km\\dot{y}-mg, \\\\\n",
      "  m\\ddot{z} &=& 0,\n",
      "\\end{eqnarray*}\n",
      "$$\n",
      "and initial conditions\n",
      "\n",
      "$$\n",
      "  \\vec{r}(0) = (0, 0, 0), \\\\\n",
      "  \\vec{v}(0) = (v_{x0}, v_{y0}, 0),\n",
      "$$\n",
      "You can assign $v_{x0}$ and $v_{y0}$ in the code or ask user to input it.\n",
      "\n",
      "You should\n",
      "* Use a box to represent the ground.\n",
      "* Use three arrows to represent the three axes.\n",
      "* Use a sphere to represent the ball of the projectile motion.\n",
      "* Leave a trail.\n",
      "* Stop the simulation when the ball hit the ground.\n",
      "\n",
      "\n",
      "You should use to ways to calculate the trajectory of the motion.\n",
      "1. Use exact solution: (Check for example Marion's book).\n",
      "2. Use numerical solution:\n",
      " * $v(t+dt) = v(t) + a * dt$.\n",
      " * $x(t+dt) = x(t) + v(t) * dt$.\n",
      "\n",
      "You should use a small enough $dt$ to ensure the numerical solution is accurate enough.\n"
     ]
    },
    {
     "cell_type": "code",
     "collapsed": false,
     "input": [
      "from ivisual import *\n",
      "#objects\n",
      "scene = canvas(title = \"ball movement\")\n",
      "\n",
      "scene.width = 800\n",
      "scene.height = 600\n",
      "scene.autoscale = 0\n",
      "scene.range = (100,100,100)\n",
      "scene.center = (0,0,0)\n",
      "\n",
      "ground = box(pos=(0,-5,0),     axis=(1,0,0), length=150,\n",
      "    height=10, width=150)\n",
      "\n",
      "xaxis = arrow(pos=(0,0,0),  axis=(1,0,0),    color=(1,0,0), length=200,  shaftwidth=5)\n",
      "\n",
      "yaxis = arrow(pos=(0,0,0),  axis=(0,1,0),    color=(0,1,0), length=200,  shaftwidth=5)\n",
      "\n",
      "zaxis = arrow(pos=(0,0,0),  axis=(0,0,1),    color=(0,0,1), length=200,  shaftwidth=5)\n",
      "\n",
      "ball = sphere(pos=(0,0,0), radius=5, color=(1,1,0))\n",
      "#set initial velocity\n",
      "vx=10\n",
      "vy=60\n",
      "\n",
      "#initial condition/rate\n",
      "deltat = 0.02\n",
      "t=0\n",
      "g=9.8\n",
      "k=0.3\n",
      "ball.trail = curve(color=ball.color)\n",
      "ball.velocity=vector(vx,vy,0)\n",
      "\n",
      "#actual animation\n",
      "while ball.pos.y >= 0 and t<10:\n",
      "    rate(10)\n",
      "    t += deltat\n",
      "    ball.pos.x=ball.pos.x+ball.velocity.x*deltat\n",
      "    ball.pos.y=ball.pos.y+ball.velocity.y*deltat\n",
      "    ball.velocity.x=ball.velocity.x-k*deltat*ball.velocity.x\n",
      "    ball.velocity.y=ball.velocity.y-k*deltat*ball.velocity.y-g*deltat\n",
      "    ball.pos=ball.pos\n",
      "    ball.trail.append(pos=ball.pos)\n"
     ],
     "language": "python",
     "metadata": {},
     "outputs": []
    },
    {
     "cell_type": "markdown",
     "metadata": {},
     "source": [
      "## Problem 3\n",
      "\n",
      "Use **ivisual** module to plot the trajectory of a coupled spring-mass system that has two masses, three springs, two walls.\n",
      "\n",
      "Something like Wall-spring1-mass1-spring2-mass2-spring3-Wall.\n",
      "\n",
      "You should\n",
      "* Use a box to represent the ground.\n",
      "* Use two boxes to represent the walls.\n",
      "* Use two **cubic** boxes to represent the two masses.\n",
      "* Use helix to represent the two srpings.\n"
     ]
    },
    {
     "cell_type": "code",
     "collapsed": false,
     "input": [],
     "language": "python",
     "metadata": {},
     "outputs": [],
     "prompt_number": 16
    },
    {
     "cell_type": "markdown",
     "metadata": {},
     "source": [
      "# Problem 4\n",
      "\n",
      "Use **ivisual** module to plot the trajectories of 20 particles in a rectangle box.\n",
      "\n",
      "* The rectangle box has the dimension $L_x$, $L_y$, $L_z$.\n",
      "* Use boxes to represent the walls. Keep one wall **invisible**.\n",
      "* The 20 particles should have **random** initial velocity.\n",
      "* The 20 particles should leave a trail.\n",
      "* Make each particle has random RGB color."
     ]
    },
    {
     "cell_type": "code",
     "collapsed": false,
     "input": [
      "# Problem 4"
     ],
     "language": "python",
     "metadata": {},
     "outputs": [],
     "prompt_number": 2
    }
   ],
   "metadata": {}
  }
 ]
}
