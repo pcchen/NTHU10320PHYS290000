{
 "metadata": {
  "name": "",
  "signature": "sha256:d24c474c0d06fe5d799aa5939b2f108546d49768fe90c0e6312cfec114b959b1"
 },
 "nbformat": 3,
 "nbformat_minor": 0,
 "worksheets": [
  {
   "cells": [
    {
     "cell_type": "markdown",
     "metadata": {},
     "source": [
      "# Homework 6"
     ]
    },
    {
     "cell_type": "markdown",
     "metadata": {},
     "source": [
      "## Problem 1\n",
      "\n",
      "Use **ivisual** module to plot the projectile motion with following equations of motion:\n",
      "\n",
      "$$\n",
      "\\begin{eqnarray*}\n",
      "  m\\ddot{x} &=& 0, \\\\\n",
      "  m\\ddot{y} &=& -mg, \\\\\n",
      "  m\\ddot{z} &=& 0,\n",
      "\\end{eqnarray*}\n",
      "$$\n",
      "and initial conditions\n",
      "\n",
      "$$\n",
      "  \\vec{r}(0) = (0, 0, 0), \\\\\n",
      "  \\vec{v}(0) = (v_{x0}, v_{y0}, 0),\n",
      "$$\n",
      "You can assign $v_{x0}$ and $v_{y0}$ in the code or ask user to input it.\n",
      "\n",
      "You should\n",
      "* Use a box to represent the ground.\n",
      "* Use three arrows to represent the three axes.\n",
      "* Use a sphere to represent the ball of the projectile motion.\n",
      "* Leave a trail.\n",
      "* Stop the simulation when the ball hit the ground.\n",
      "\n",
      "You should use to ways to calculate the trajectory of the motion.\n",
      "1. Use exact solution: $x(t)=x(0)+v_x t$, etc.\n",
      "2. Use numerical solution:\n",
      " * $v(t+dt) = v(t) + a * dt$.\n",
      " * $x(t+dt) = x(t) + v(t) * dt$.\n",
      "\n",
      "You should use a small enough $dt$ to ensure the numerical solution is accurate enough.\n"
     ]
    },
    {
     "cell_type": "code",
     "collapsed": false,
     "input": [
      "# Problem 1\n",
      "from ivisual import *\n",
      "#objects\n",
      "scene = canvas(title = \"arrow\")\n",
      "\n",
      "scene.width = 800\n",
      "scene.height = 600\n",
      "scene.autoscale = 0\n",
      "scene.range = (100,100,100)\n",
      "scene.center = (0,0,0)\n",
      "\n",
      "ground = box(pos=(0,-5,0),     axis=(1,0,0), length=150,\n",
      "    height=10, width=150)\n",
      "\n",
      "xaxis = arrow(pos=(0,0,0),  axis=(1,0,0),    color=(1,0,0), length=200,  shaftwidth=5)\n",
      "\n",
      "yaxis = arrow(pos=(0,0,0),  axis=(0,1,0),    color=(0,1,0), length=200,  shaftwidth=5)\n",
      "\n",
      "zaxis = arrow(pos=(0,0,0),  axis=(0,0,1),    color=(0,0,1), length=200,  shaftwidth=5)\n",
      "\n",
      "ball = sphere(pos=(0,0,0), radius=5, color=(1,1,0))\n",
      "#set initial velocity\n",
      "vx=5\n",
      "vy=30\n",
      "\n",
      "#initial condition/rate\n",
      "deltat = 0.02\n",
      "t=0\n",
      "ball.trail = curve(color=ball.color)\n",
      "\n",
      "#actual animation\n",
      "while ball.pos.y >= 0 and t<10:\n",
      "    rate(10)\n",
      "    t += deltat\n",
      "    ball.pos=(vx*t,vy*t-9.8*t**2,0)\n",
      "    ball.trail.append(pos=ball.pos)"
     ],
     "language": "python",
     "metadata": {},
     "outputs": [
      {
       "html": [
        "<div id=\"scene1\"><div id=\"glowscript\" class=\"glowscript\"></div></div>"
       ],
       "metadata": {},
       "output_type": "display_data",
       "text": [
        "<IPython.core.display.HTML at 0x3ac2438>"
       ]
      },
      {
       "javascript": [
        "window.__context = { glowscript_container: $(\"#glowscript\").removeAttr(\"id\")}"
       ],
       "metadata": {},
       "output_type": "display_data",
       "text": [
        "<IPython.core.display.Javascript at 0x3ac30b8>"
       ]
      }
     ],
     "prompt_number": 2
    },
    {
     "cell_type": "markdown",
     "metadata": {},
     "source": [
      "## Problem 2\n",
      "\n",
      "Now introduce the air resistence so the equations of motion become:\n",
      "\n",
      "$$\n",
      "\\begin{eqnarray*}\n",
      "  m\\ddot{x} &=& -km\\dot{x}, \\\\\n",
      "  m\\ddot{y} &=& -km\\dot{y}-mg, \\\\\n",
      "  m\\ddot{z} &=& 0,\n",
      "\\end{eqnarray*}\n",
      "$$\n",
      "and initial conditions\n",
      "\n",
      "$$\n",
      "  \\vec{r}(0) = (0, 0, 0), \\\\\n",
      "  \\vec{v}(0) = (v_{x0}, v_{y0}, 0),\n",
      "$$\n",
      "You can assign $v_{x0}$ and $v_{y0}$ in the code or ask user to input it.\n",
      "\n",
      "You should\n",
      "* Use a box to represent the ground.\n",
      "* Use three arrows to represent the three axes.\n",
      "* Use a sphere to represent the ball of the projectile motion.\n",
      "* Leave a trail.\n",
      "* Stop the simulation when the ball hit the ground.\n",
      "\n",
      "\n",
      "You should use to ways to calculate the trajectory of the motion.\n",
      "1. Use exact solution: (Check for example Marion's book).\n",
      "2. Use numerical solution:\n",
      " * $v(t+dt) = v(t) + a * dt$.\n",
      " * $x(t+dt) = x(t) + v(t) * dt$.\n",
      "\n",
      "You should use a small enough $dt$ to ensure the numerical solution is accurate enough.\n"
     ]
    },
    {
     "cell_type": "code",
     "collapsed": false,
     "input": [
      "# Problem 2\n",
      "from ivisual import *\n",
      "#objects\n",
      "scene = canvas(title = \"ball movement\")\n",
      "\n",
      "scene.width = 800\n",
      "scene.height = 600\n",
      "scene.autoscale = 0\n",
      "scene.range = (100,100,100)\n",
      "scene.center = (0,0,0)\n",
      "\n",
      "ground = box(pos=(0,-5,0),     axis=(1,0,0), length=150,\n",
      "    height=10, width=150)\n",
      "\n",
      "xaxis = arrow(pos=(0,0,0),  axis=(1,0,0),    color=(1,0,0), length=200,  shaftwidth=5)\n",
      "\n",
      "yaxis = arrow(pos=(0,0,0),  axis=(0,1,0),    color=(0,1,0), length=200,  shaftwidth=5)\n",
      "\n",
      "zaxis = arrow(pos=(0,0,0),  axis=(0,0,1),    color=(0,0,1), length=200,  shaftwidth=5)\n",
      "\n",
      "ball = sphere(pos=(0,0,0), radius=5, color=(1,1,0))\n",
      "\n",
      "vx=10\n",
      "vy=60\n",
      "\n",
      "\n",
      "deltat = 0.02\n",
      "t=0\n",
      "g=9.8\n",
      "k=0.3\n",
      "ball.trail = curve(color=ball.color)\n",
      "ball.velocity=vector(vx,vy,0)\n",
      "\n",
      "\n",
      "while ball.pos.y >= 0 and t<10:\n",
      "    rate(10)\n",
      "    t += deltat\n",
      "    ball.pos.x=ball.pos.x+ball.velocity.x*deltat\n",
      "    ball.pos.y=ball.pos.y+ball.velocity.y*deltat\n",
      "    ball.velocity.x=ball.velocity.x-k*deltat*ball.velocity.x\n",
      "    ball.velocity.y=ball.velocity.y-k*deltat*ball.velocity.y-g*deltat\n",
      "    ball.pos=ball.pos\n",
      "    ball.trail.append(pos=ball.pos)"
     ],
     "language": "python",
     "metadata": {},
     "outputs": [
      {
       "html": [
        "<div id=\"scene1\"><div id=\"glowscript\" class=\"glowscript\"></div></div>"
       ],
       "metadata": {},
       "output_type": "display_data",
       "text": [
        "<IPython.core.display.HTML at 0x3d216d8>"
       ]
      },
      {
       "javascript": [
        "window.__context = { glowscript_container: $(\"#glowscript\").removeAttr(\"id\")}"
       ],
       "metadata": {},
       "output_type": "display_data",
       "text": [
        "<IPython.core.display.Javascript at 0x3ccbe10>"
       ]
      }
     ]
    },
    {
     "cell_type": "markdown",
     "metadata": {},
     "source": [
      "## Problem 3\n",
      "\n",
      "Use **ivisual** module to plot the trajectory of a coupled spring-mass system that has two masses, three springs, two walls.\n",
      "\n",
      "Something like Wall-spring1-mass1-spring2-mass2-spring3-Wall.\n",
      "\n",
      "You should\n",
      "* Use a box to represent the ground.\n",
      "* Use two boxes to represent the walls.\n",
      "* Use two **cubic** boxes to represent the two masses.\n",
      "* Use helix to represent the two srpings.\n"
     ]
    },
    {
     "cell_type": "code",
     "collapsed": false,
     "input": [
      "# Problem 3\n",
      "from ivisual import *\n",
      "#objects\n",
      "scene = canvas(title = \"coupled spring stuff\")\n",
      "\n",
      "scene.width = 800\n",
      "scene.height = 600\n",
      "scene.autoscale = 0\n",
      "scene.range = (600,300,300)\n",
      "scene.center = (0,0,0)\n",
      "\n",
      "ground = box(pos=(0,-5,0),     axis=(1,0,0), length=420,\n",
      "    height=10, width=100)\n",
      "\n",
      "left_wall = box(pos=(-205,50,0),length=10,width=100,height=100)\n",
      "\n",
      "left_wall = box(pos=(205,50,0),length=10,width=100,height=100)\n",
      "\n",
      "left_box = box(pos=(-75,25,0), length=50,width=50,height=50,color=(0,0,1))\n",
      "\n",
      "right_box = box(pos=(75,25,0), length=50,width=50,height=50,color=(0,0,1))\n",
      "\n",
      "left_spring = helix(pos=(-200,25,0),axis=(1,0,0),radius=15,coils=5,length=100,thickness=1.5,color=(0.5,0.3,0))\n",
      "\n",
      "mid_spring = helix(pos=(-50,25,0),axis=(1,0,0),radius=15,coils=5,length=100,thickness=1.5,color=(0.5,0.3,0))\n",
      "\n",
      "right_spring = helix(pos=(200,25,0),axis=(-1,0,0),radius=15,coils=5,length=100,thickness=1.5,color=(0.5,0.3,0))\n",
      "\n",
      "left_box_velocity=0\n",
      "mid_box_velocity=0\n",
      "right_box_velocity=0\n",
      "\n",
      "k=3                            \n",
      "t=0                            \n",
      "v1=50                          \n",
      "v2=-50                         \n",
      "dt=0.05                       \n",
      "r=1/dt                        \n",
      "\n",
      "while t<10:\n",
      "    rate(r)\n",
      "    t+=dt\n",
      "    \n",
      "    left_box.pos.x=left_box.pos.x+v1*dt\n",
      "    right_box.pos.x=right_box.pos.x+v2*dt\n",
      "    \n",
      "    ldl=left_box.pos.x+75\n",
      "    mdl=right_box.pos.x-left_box.pos.x-150\n",
      "    rdl=75-right_box.pos.x\n",
      "    \n",
      "    left_spring.length=100+ldl\n",
      "    mid_spring.length=100+mdl\n",
      "    mid_spring.pos.x=-50+ldl\n",
      "    mid_spring.pos=mid_spring.pos\n",
      "    right_spring.length=100+rdl\n",
      "    \n",
      "    \n",
      "    v1=v1-ldl*dt*k+mdl*dt*k\n",
      "    v2=v2-mdl*dt*k+rdl*dt*k\n",
      "    \n",
      "    \n",
      "    \n",
      "    left_box.pos=left_box.pos\n",
      "    right_box.pos=right_box.pos"
     ],
     "language": "python",
     "metadata": {},
     "outputs": [
      {
       "html": [
        "<div id=\"scene0\"><div id=\"glowscript\" class=\"glowscript\"></div></div>"
       ],
       "metadata": {},
       "output_type": "display_data",
       "text": [
        "<IPython.core.display.HTML at 0x249fa58>"
       ]
      },
      {
       "javascript": [
        "require.undef(\"nbextensions/glow.1.0.min\");"
       ],
       "metadata": {},
       "output_type": "display_data",
       "text": [
        "<IPython.core.display.Javascript at 0x24b1dd8>"
       ]
      },
      {
       "javascript": [
        "require.undef(\"nbextensions/jquery-ui.custom.min\");"
       ],
       "metadata": {},
       "output_type": "display_data",
       "text": [
        "<IPython.core.display.Javascript at 0x24b1e10>"
       ]
      },
      {
       "javascript": [
        "require.undef(\"nbextensions/glow.1.1.min\");"
       ],
       "metadata": {},
       "output_type": "display_data",
       "text": [
        "<IPython.core.display.Javascript at 0x24b1f60>"
       ]
      },
      {
       "javascript": [
        "require.undef(\"nbextensions/glowcomm\");"
       ],
       "metadata": {},
       "output_type": "display_data",
       "text": [
        "<IPython.core.display.Javascript at 0x24b1fd0>"
       ]
      },
      {
       "javascript": [
        "require([\"nbextensions/glowcomm\"], function(){console.log(\"glowcomm loaded\");})"
       ],
       "metadata": {},
       "output_type": "display_data",
       "text": [
        "<IPython.core.display.Javascript at 0x24b1f98>"
       ]
      }
     ],
     "prompt_number": 4
    },
    {
     "cell_type": "markdown",
     "metadata": {},
     "source": [
      "# Problem 4\n",
      "\n",
      "Use **ivisual** module to plot the trajectories of 20 particles in a rectangle box.\n",
      "\n",
      "* The rectangle box has the dimension $L_x$, $L_y$, $L_z$.\n",
      "* Use boxes to represent the walls. Keep one wall **invisible**.\n",
      "* The 20 particles should have **random** initial velocity.\n",
      "* The 20 particles should leave a trail.\n",
      "* Make each particle has random RGB color."
     ]
    },
    {
     "cell_type": "code",
     "collapsed": false,
     "input": [
      "# Problem 4\n",
      "\n",
      "from ivisual import *\n",
      "\n",
      "scene = canvas()\n",
      "\n",
      "scene.width = 800\n",
      "scene.height = 600\n",
      "\n",
      "scene.autoscale = 0\n",
      "scene.range = (10,10,10)\n",
      "scene.center = (0,0,0)\n",
      "#bondary 666\n",
      "wallR = box(pos=(+6,0,0), size=(0.2,12,12), color=color.green)\n",
      "wallL = box(pos=(-6,0,0), size=(0.2,12,12), color=color.green)\n",
      "wallU = box(pos=(0,+6,0), size=(12,0.2,12), color=color.blue)\n",
      "wallD = box(pos=(0,-6,0), size=(12,0.2,12), color=color.blue)\n",
      "wallB = box(pos=(0,0,-6), size=(12,12,0.2), color=color.red)\n",
      "\n",
      "ball = []\n",
      "\n",
      "def rc():\n",
      "    c = (random.randint(0,255),random.randint(0,255),random.randint(0,255))\n",
      "    #print c\n",
      "    return c\n",
      "def randp():\n",
      "    return random.uniform(-6,6)\n",
      "for i in range(20):\n",
      "    position = vector(randp(),randp(),randp())\n",
      "    ball.append(sphere(pos=position, radius=0.5, color=rc()))\n",
      "    v = vector(randp(),randp(),randp())\n",
      "    ball[i].velocity = v\n",
      "    ball[i].trail = curve(color=ball[i].color)\n",
      "\n",
      "\n",
      "vscale = 0.1\n",
      "\n",
      "\n",
      "\n",
      "deltat = 0.005\n",
      "t=0\n",
      "\n",
      "while t < 5:\n",
      "    rate(50)\n",
      "    for i in range(20):\n",
      "        if ball[i].pos.x > wallR.pos.x:\n",
      "             ball[i].velocity.x = -ball[i].velocity.x\n",
      "        if ball[i].pos.x < wallL.pos.x:\n",
      "             ball[i].velocity.x = -ball[i].velocity.x\n",
      "        if ball[i].pos.y > wallU.pos.y:\n",
      "             ball[i].velocity.y = -ball[i].velocity.y\n",
      "        if ball[i].pos.y < wallD.pos.y:\n",
      "             ball[i].velocity.y = -ball[i].velocity.y\n",
      "        if ball[i].pos.z < wallB.pos.z:\n",
      "             ball[i].velocity.z = -ball[i].velocity.z\n",
      "        if ball[i].pos.z > +6:\n",
      "             ball[i].velocity.z = -ball[i].velocity.z\n",
      "    \n",
      "        ball[i].pos = ball[i].pos + ball[i].velocity*deltat\n",
      "        ball[i].trail.append(pos=ball[i].pos)\n",
      "    \n",
      "    t = t + deltat"
     ],
     "language": "python",
     "metadata": {},
     "outputs": [
      {
       "html": [
        "<div id=\"scene2\"><div id=\"glowscript\" class=\"glowscript\"></div></div>"
       ],
       "metadata": {},
       "output_type": "display_data",
       "text": [
        "<IPython.core.display.HTML at 0x2550d68>"
       ]
      },
      {
       "javascript": [
        "window.__context = { glowscript_container: $(\"#glowscript\").removeAttr(\"id\")}"
       ],
       "metadata": {},
       "output_type": "display_data",
       "text": [
        "<IPython.core.display.Javascript at 0x24ecdd8>"
       ]
      }
     ],
     "prompt_number": 3
    },
    {
     "cell_type": "code",
     "collapsed": false,
     "input": [],
     "language": "python",
     "metadata": {},
     "outputs": []
    }
   ],
   "metadata": {}
  }
 ]
}