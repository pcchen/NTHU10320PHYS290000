{
 "metadata": {
  "name": "",
  "signature": "sha256:63a5dbee88cfbbc3b63fca8ad23fa2faa7cc562445f4fa76c8eaa7f3fc93b5ce"
 },
 "nbformat": 3,
 "nbformat_minor": 0,
 "worksheets": [
  {
   "cells": [
    {
     "cell_type": "markdown",
     "metadata": {},
     "source": [
      "# Quiz2\n",
      "# Name:\n",
      "# ID:"
     ]
    },
    {
     "cell_type": "code",
     "collapsed": false,
     "input": [
      "# Problem 1\n",
      "a = 3\n",
      "b = 4\n",
      "a, b = b, a\n",
      "print a,b"
     ],
     "language": "python",
     "metadata": {},
     "outputs": []
    },
    {
     "cell_type": "code",
     "collapsed": false,
     "input": [
      "# Problem 2\n",
      "a = 4\n",
      "x = 2\n",
      "while True:\n",
      "    y = (x + a/x) / 2\n",
      "    if y == x:\n",
      "        break\n",
      "    x = y\n",
      "print x"
     ],
     "language": "python",
     "metadata": {},
     "outputs": []
    },
    {
     "cell_type": "code",
     "collapsed": false,
     "input": [
      "# Problem 3\n",
      "s = 'Monty Python'\n",
      "print s[0:5]\n",
      "print s[6:12]\n",
      "print s[-2:-1]"
     ],
     "language": "python",
     "metadata": {},
     "outputs": []
    },
    {
     "cell_type": "code",
     "collapsed": false,
     "input": [
      "# Problem 4\n",
      "numbers = [1, 2, 3]\n",
      "for i in range(len(numbers)):\n",
      "    numbers[i] = numbers[i] * 2\n",
      "print numbers"
     ],
     "language": "python",
     "metadata": {},
     "outputs": []
    },
    {
     "cell_type": "code",
     "collapsed": false,
     "input": [
      "# Problem 5\n",
      "t = ['a', 'b', 'c']\n",
      "t.append('d')\n",
      "print t"
     ],
     "language": "python",
     "metadata": {},
     "outputs": []
    },
    {
     "cell_type": "code",
     "collapsed": false,
     "input": [
      "# Problem 6\n",
      "t = ['a', 'b', 'c']\n",
      "x = t.pop(1)\n",
      "print t"
     ],
     "language": "python",
     "metadata": {},
     "outputs": []
    },
    {
     "cell_type": "code",
     "collapsed": false,
     "input": [
      "# Problem 7\n",
      "t = ['a', 'b', 'c']\n",
      "x = [item+item for item in t]\n",
      "print x"
     ],
     "language": "python",
     "metadata": {},
     "outputs": []
    },
    {
     "cell_type": "code",
     "collapsed": false,
     "input": [
      "# Problem 8\n",
      "a = [1, 2, 3]\n",
      "b = a\n",
      "b[0] = 17\n",
      "print a"
     ],
     "language": "python",
     "metadata": {},
     "outputs": []
    },
    {
     "cell_type": "code",
     "collapsed": false,
     "input": [
      "# Problem 9\n",
      "def delete_head(t):\n",
      "    del t[0]\n",
      "letters = ['a', 'b', 'c']\n",
      "delete_head(letters)\n",
      "print letters"
     ],
     "language": "python",
     "metadata": {},
     "outputs": []
    },
    {
     "cell_type": "code",
     "collapsed": false,
     "input": [
      "# Problem 10\n",
      "prefixes = 'JKLMNOPQ'\n",
      "suffix = 'ack'\n",
      "for letter in prefixes:\n",
      "    print letter + suffix"
     ],
     "language": "python",
     "metadata": {},
     "outputs": []
    }
   ],
   "metadata": {}
  }
 ]
}