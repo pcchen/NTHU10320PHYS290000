{
 "metadata": {
  "name": "",
  "signature": "sha256:1a9c9d4704532452bb1052eb88f2e0372e1a7e01a065edb9a9c60dc7d1c16a21"
 },
 "nbformat": 3,
 "nbformat_minor": 0,
 "worksheets": [
  {
   "cells": [
    {
     "cell_type": "markdown",
     "metadata": {},
     "source": [
      "# Homework 3"
     ]
    },
    {
     "cell_type": "markdown",
     "metadata": {},
     "source": [
      "## Problem 1: Logistic map, chaos, bifurcation\n",
      "\n",
      "Consider the logic map\n",
      "\n",
      "$$\n",
      "  x_{n+1} = \\alpha x_n (1-x_n)\n",
      "$$\n",
      "\n",
      "Write a program to calculates and displays the behavior of the logistic map.\n",
      "\n",
      "* For a give value of $\\alpha$, start with $x=0.5$ and iterate the logistic map equation a thousand times. \n",
      "  * That will give it a chance to settle down to a fixed point or limit cycle if its going to.\n",
      "\n",
      "* Run for another thousand iterations and plot the points $(\\alpha,x)$ on a graph where the horizontal axis is $\\alpha$ and the vertical axis is $x$.\n",
      "\n",
      "* Repeat the whole calculation for values of $\\alpha$ from 1 to 4 in steps of 0.01, plotting the dots for all values of $\\alpha$ on the same figure.\n",
      "\n",
      "Reference: https://en.wikipedia.org/wiki/Logistic_map"
     ]
    },
    {
     "cell_type": "code",
     "collapsed": false,
     "input": [
      "%pylab"
     ],
     "language": "python",
     "metadata": {},
     "outputs": [
      {
       "output_type": "stream",
       "stream": "stdout",
       "text": [
        "Using matplotlib backend: Qt4Agg\n",
        "Populating the interactive namespace from numpy and matplotlib\n"
       ]
      },
      {
       "output_type": "stream",
       "stream": "stderr",
       "text": [
        "WARNING: pylab import has clobbered these variables: ['f', 'pylab']\n",
        "`%matplotlib` prevents importing * from pylab and numpy\n"
       ]
      }
     ],
     "prompt_number": 168
    },
    {
     "cell_type": "code",
     "collapsed": false,
     "input": [
      "#Problem 1\n",
      "import pylab\n",
      "import numpy \n",
      "r=linspace(1,4,100)\n",
      "print r\n",
      "def f(x):\n",
      "    return r*x*(1-x)\n",
      "x=0.5\n",
      "r= linspace(1, 4, 100)\n",
      "y = f(x)\n",
      "plot(r, y)\n",
      "show()"
     ],
     "language": "python",
     "metadata": {},
     "outputs": [
      {
       "output_type": "stream",
       "stream": "stdout",
       "text": [
        "[ 1.          1.03030303  1.06060606  1.09090909  1.12121212  1.15151515\n",
        "  1.18181818  1.21212121  1.24242424  1.27272727  1.3030303   1.33333333\n",
        "  1.36363636  1.39393939  1.42424242  1.45454545  1.48484848  1.51515152\n",
        "  1.54545455  1.57575758  1.60606061  1.63636364  1.66666667  1.6969697\n",
        "  1.72727273  1.75757576  1.78787879  1.81818182  1.84848485  1.87878788\n",
        "  1.90909091  1.93939394  1.96969697  2.          2.03030303  2.06060606\n",
        "  2.09090909  2.12121212  2.15151515  2.18181818  2.21212121  2.24242424\n",
        "  2.27272727  2.3030303   2.33333333  2.36363636  2.39393939  2.42424242\n",
        "  2.45454545  2.48484848  2.51515152  2.54545455  2.57575758  2.60606061\n",
        "  2.63636364  2.66666667  2.6969697   2.72727273  2.75757576  2.78787879\n",
        "  2.81818182  2.84848485  2.87878788  2.90909091  2.93939394  2.96969697\n",
        "  3.          3.03030303  3.06060606  3.09090909  3.12121212  3.15151515\n",
        "  3.18181818  3.21212121  3.24242424  3.27272727  3.3030303   3.33333333\n",
        "  3.36363636  3.39393939  3.42424242  3.45454545  3.48484848  3.51515152\n",
        "  3.54545455  3.57575758  3.60606061  3.63636364  3.66666667  3.6969697\n",
        "  3.72727273  3.75757576  3.78787879  3.81818182  3.84848485  3.87878788\n",
        "  3.90909091  3.93939394  3.96969697  4.        ]\n"
       ]
      }
     ],
     "prompt_number": 172
    },
    {
     "cell_type": "code",
     "collapsed": false,
     "input": [
      "def f(x):\n",
      "    for x in range(0,1):\n",
      "        return r*x*(1-x)\n",
      "r= linspace(1, 4, 100)\n",
      "t = f(x)\n",
      "plot(r,t)\n",
      "show"
     ],
     "language": "python",
     "metadata": {},
     "outputs": [
      {
       "metadata": {},
       "output_type": "pyout",
       "prompt_number": 173,
       "text": [
        "<function matplotlib.pyplot.show>"
       ]
      }
     ],
     "prompt_number": 173
    },
    {
     "cell_type": "markdown",
     "metadata": {},
     "source": [
      "## Problem 2: The Mandelbrot set\n",
      "\n",
      "\n",
      "\n",
      "Consider the equation\n",
      "$$\n",
      "  z^\\prime=z^2+c,\n",
      "$$\n",
      "where $z$ is a complex number and $c$ is a complex constant.\n",
      "\n",
      "For a given complex value of $c$, start with $z = 0$ and iterate repeatedly. \n",
      "If the magnitude $|z|$ of the resulting value is ever greater than $2$, \n",
      "then the point in the complex plane at position $c$ is not in the Mandelbrot set, \n",
      "otherwise it is in the set.\n",
      "\n",
      "In principle, one has to iterate infinitely many times to prove that a point is in the Mandelbrot set.\n",
      "In practice, however, one usually just performs some large number of iterations, \n",
      "say 100 or 1000, and if $|z|$ hasn't exceeded 2 by that point then we call that good enough.\n",
      "\n",
      "Write a program to make an image of the Mandelbrot set by performing the iteration for all values of $c = x + iy$ on an $N \\times N$ grid spanning the region where $-2 \\le x \\le 2$ and $-2 \\le y \\le 2$. Make a **density plot** in which grid points inside the Mandelbrot set are colored black and those outside are colored white. \n",
      "\n",
      "\n",
      "Hint: You will probably find it useful to start off with quite a coarse grid, i.e., with a small value of $N$\n",
      "(perhaps $N = 100$) so that your program runs quickly while you are testing it. \n",
      "Once you are sure it is working correctly, increase the value of $N$ to produce a final high-quality image of the shape of the set.\n",
      "\n",
      "Instead of coloring points just black or white, color points according to the number of iterations of the equation before $z$ becomes greater than $2$ (or the maximum number of iterations if $|z|$ never becomes greater than 2). Use color schemes such as the `hot` or `jet` schemes. \n",
      "\n",
      "Or to color according to the logarithm of the number of iterations.\n",
      "\n",
      "Reference: https://en.wikipedia.org/wiki/Mandelbrot_set"
     ]
    },
    {
     "cell_type": "code",
     "collapsed": false,
     "input": [
      "# Problem 2\n",
      "import math\n",
      "import numpy as np\n",
      "\n",
      "x=2\n",
      "y=2\n",
      "m=complex(x,y)\n",
      "abs(m)\n",
      "\n",
      "  "
     ],
     "language": "python",
     "metadata": {},
     "outputs": [
      {
       "metadata": {},
       "output_type": "pyout",
       "prompt_number": 162,
       "text": [
        "2.8284271247461903"
       ]
      }
     ],
     "prompt_number": 162
    },
    {
     "cell_type": "markdown",
     "metadata": {},
     "source": [
      "## Problem 3: Quadratic equations"
     ]
    },
    {
     "cell_type": "markdown",
     "metadata": {},
     "source": [
      "### Problem 3.1\n",
      "\n",
      "Write a program that takes as input three numbers, $a$, $b$, and $c$, and prints out the two solutions to the quadratic equation $ax^2 + bx + c = 0$ using the standard \ufffcformula\n",
      "\n",
      "$$\n",
      "  x = \\frac{-b\\pm\\sqrt{b^2-4ac}}{2a}.\n",
      "$$\n",
      "\n",
      "Use your program to compute the solutions of $0.001x^2 + 1000x + 0.001 = 0$."
     ]
    },
    {
     "cell_type": "code",
     "collapsed": false,
     "input": [
      "# Problem 3.1\n",
      "import math\n",
      "\n",
      "def root_of_abc(a,b,c):\n",
      "    x=(-b+math.sqrt(b*b-4*a*c))/(2*a)\n",
      "    y=(-b-math.sqrt(b*b-4*a*c))/(2*a)\n",
      "    return x,y\n",
      "\n",
      "root_of_abc(0.001,1000,0.001)"
     ],
     "language": "python",
     "metadata": {},
     "outputs": [
      {
       "metadata": {},
       "output_type": "pyout",
       "prompt_number": 127,
       "text": [
        "(-9.999894245993346e-07, -999999.999999)"
       ]
      }
     ],
     "prompt_number": 127
    },
    {
     "cell_type": "markdown",
     "metadata": {},
     "source": [
      "### Problem 3.2\n",
      "\n",
      "There is another way to write the solutions to a quadratic equation. Multiplying top and bottom of the solution above by $-b\\mp\\sqrt{b^2-4ac}$, one can show that the solutions \ufffccan also be written as\n",
      "\n",
      "$$\n",
      "  x = \\frac{2c}{-b\\mp\\sqrt{b^2-4ac}}.\n",
      "$$\n",
      "\n",
      "Write a program that takes as input three numbers, a, b, and c, and prints out the two solutions to the quadratic equation $ax^2+bx+c=0$ using this formula. Use the program to solve $0.001x^2 + 1000x + 0.001 = 0$."
     ]
    },
    {
     "cell_type": "code",
     "collapsed": false,
     "input": [
      "# Problem 3.2\n",
      "import math\n",
      "\n",
      "def root_of_abc_second(a,b,c):\n",
      "    x=(2*c)/(-b-math.sqrt(b*b-4*a*c))\n",
      "    y=(2*c)/(-b+math.sqrt(b*b-4*a*c))\n",
      "    return x,y\n",
      "\n",
      "root_of_abc_second(0.001,1000,0.001)"
     ],
     "language": "python",
     "metadata": {},
     "outputs": [
      {
       "metadata": {},
       "output_type": "pyout",
       "prompt_number": 128,
       "text": [
        "(-1.000000000001e-06, -1000010.5755125057)"
       ]
      }
     ],
     "prompt_number": 128
    },
    {
     "cell_type": "markdown",
     "metadata": {},
     "source": [
      "### Problem 3.3\n",
      "\n",
      "The correct solutions to the quadratic equation $0.001x^2 + 1000x + 0.001 = 0$ should be\n",
      "\n",
      "$$\n",
      "  x_1 = -1.00000000000100002081668371*10^{-6}, \\\\\n",
      "  x_2 = -9.99999999999000060986371202*10^{5}\n",
      "$$\n",
      "\n",
      "You should find out that one of the solutions is not very accurate for your code in problem 3.1 and 3.2. Using what you have learned, write a new program that calculates both roots of a quadratic equation accurately in all cases."
     ]
    },
    {
     "cell_type": "code",
     "collapsed": false,
     "input": [
      "import math\n",
      "import sympy\n",
      "a=0.001\n",
      "b=1000\n",
      "c=0.001\n",
      "x=(2*c)/(-b-sympy.sqrt(b*b-4*a*c))\n",
      "y=(-b-sympy.sqrt(b*b-4*a*c))/(2*a)\n",
      "\n",
      "x,y\n",
      "    "
     ],
     "language": "python",
     "metadata": {},
     "outputs": [
      {
       "metadata": {},
       "output_type": "pyout",
       "prompt_number": 129,
       "text": [
        "(-1.00000000000100e-6, -999999.999999000)"
       ]
      }
     ],
     "prompt_number": 129
    },
    {
     "cell_type": "markdown",
     "metadata": {},
     "source": [
      "## Problem 4: Numerical derivatives\n",
      "\n",
      "The derivative of a functoin $f(x)$ is defined as\n",
      "\n",
      "$$\n",
      "  \\frac{df}{dx} = \\lim_{\\delta\\rightarrow 0} \\frac{f(x+\\delta)-f(x)}{\\delta}.\n",
      "$$\n",
      "\n",
      "On the computer we can\u2019t actually take the limit as $\\delta$ goes to zero, but we can get a reasonable approximation just by making $\\delta$ small."
     ]
    },
    {
     "cell_type": "markdown",
     "metadata": {},
     "source": [
      "### Problem 4.1\n",
      "\n",
      "Write a program that defines a function $f(x)$ returning the value $x(x \u2212 1)$, then calculates the derivative of the function at the point $x = 1$ using the formula above with $\\delta = 10^{\u22122}$. Calculate the true value of the same derivative analytically and compare with the answer your program gives."
     ]
    },
    {
     "cell_type": "code",
     "collapsed": false,
     "input": [
      "# Problem 4\n",
      "def df(x,n):\n",
      "    return ((x+n)*((x+n)-1)-x*(x-1))/n\n",
      "\n",
      "df(1,10**(-2))\n"
     ],
     "language": "python",
     "metadata": {},
     "outputs": [
      {
       "metadata": {},
       "output_type": "pyout",
       "prompt_number": 130,
       "text": [
        "1.010000000000001"
       ]
      }
     ],
     "prompt_number": 130
    },
    {
     "cell_type": "markdown",
     "metadata": {},
     "source": [
      "### Problem 4.2\n",
      "\n",
      "Repeat the calculation for $\\delta = 10^{\u22124}$ , $10^{\u22126}$ , $10^{\u22128}$ , $10^{\u221210}$ , $10^{\u221212}$ , and $10^{\u221214}$. You should see that the accuracy of the calculation initially gets better as \u03b4 gets smaller, but then gets worse again. Why is this?"
     ]
    },
    {
     "cell_type": "code",
     "collapsed": false,
     "input": [
      "# Problem 4.2\n",
      "def df(x,n):\n",
      "    return ((x+n)*((x+n)-1)-x*(x-1))/n\n",
      "\n",
      "df(1,10**(-4)),f(1,10**(-6)),f(1,10**(-8)),f(1,10**(-10)),f(1,10**(-12)),f(1,10**(-14))\n"
     ],
     "language": "python",
     "metadata": {},
     "outputs": [
      {
       "metadata": {},
       "output_type": "pyout",
       "prompt_number": 117,
       "text": [
        "(1.0000999999998899,\n",
        " 1.0000009999177333,\n",
        " 1.0000000039225287,\n",
        " 1.000000082840371,\n",
        " 1.0000889005833413,\n",
        " 0.9992007221626509)"
       ]
      }
     ],
     "prompt_number": 117
    },
    {
     "cell_type": "markdown",
     "metadata": {},
     "source": [
      "### Problem 4.3\n",
      "\n",
      "Plot the error of your numerical derivative a function of $\\log(\\delta)$, with $\\delta \\in [10^{-2}, 10^{-14}]$."
     ]
    },
    {
     "cell_type": "code",
     "collapsed": false,
     "input": [
      "# Problem 4.3\n",
      "import math\n",
      "def error(t):\n",
      "    return log(abs(t-1))\n",
      "def df(x,n):\n",
      "    return ((x+n)*((x+n)-1)-x*(x-1))/n\n",
      "\n",
      "error(df(1,10**(-2))),error(df(1,10**(-4))),error(df(1,10**(-6))),error(df(1,10**(-8))),error(df(1,10**(-10))),error(df(1,10**(-12))),error(df(1,10**(-14)))"
     ],
     "language": "python",
     "metadata": {},
     "outputs": [
      {
       "metadata": {},
       "output_type": "pyout",
       "prompt_number": 131,
       "text": [
        "(-4.6051701859880021,\n",
        " -9.210340373077635,\n",
        " -13.81559282806858,\n",
        " -19.356529302792818,\n",
        " -16.306350321827363,\n",
        " -9.327991853696286,\n",
        " -7.1318019412919433)"
       ]
      }
     ],
     "prompt_number": 131
    },
    {
     "cell_type": "code",
     "collapsed": false,
     "input": [],
     "language": "python",
     "metadata": {},
     "outputs": []
    }
   ],
   "metadata": {}
  }
 ]
}