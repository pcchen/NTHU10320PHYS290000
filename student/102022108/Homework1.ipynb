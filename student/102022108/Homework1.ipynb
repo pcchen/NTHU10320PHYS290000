{
 "metadata": {
  "name": "",
  "signature": "sha256:480d1b576e70bd58eb1b29acbf2271de07c452c881c31850964451433baed24b"
 },
 "nbformat": 3,
 "nbformat_minor": 0,
 "worksheets": [
  {
   "cells": [
    {
     "cell_type": "markdown",
     "metadata": {},
     "source": [
      "# Homework 1"
     ]
    },
    {
     "cell_type": "markdown",
     "metadata": {},
     "source": [
      "## Problem 1.1\n",
      "\n",
      "Write some code that prints the words `Hello, World'."
     ]
    },
    {
     "cell_type": "code",
     "collapsed": false,
     "input": [
      "# Problem 1.1\n",
      "print 'Hello, World'"
     ],
     "language": "python",
     "metadata": {},
     "outputs": [
      {
       "output_type": "stream",
       "stream": "stdout",
       "text": [
        "Hello, World\n"
       ]
      }
     ],
     "prompt_number": 1
    },
    {
     "cell_type": "markdown",
     "metadata": {},
     "source": [
      "## Problem 1.2\n",
      "\n",
      "Python provides a built-in function called `len` that returns the length of a string, so the value of `len('allen')` is `5`.\n",
      "\n",
      "Write a function named `right_justify` that takes a string named `s` as a parameter and prints the string with enough leading spaces so that the last letter of the string is in column 70 of the display.\n",
      "\n",
      "Write some code to demonstrate the usage of your `right_justify` function.\n",
      "\n",
      "``\n",
      "right_justify('allen')\n",
      "                                                                 allen\n",
      "right_justify('homework')\n",
      "                                                              homework\n",
      "right_justify('cat')\n",
      "                                                                   cat\n",
      "``"
     ]
    },
    {
     "cell_type": "code",
     "collapsed": false,
     "input": [
      "# Problem 1.2\n",
      "def right_justify(aaa):\n",
      "    x=len(aaa)\n",
      "    y=(70-x)*' '+aaa\n",
      "    print y\n",
      "    \n",
      "right_justify('wwwww')"
     ],
     "language": "python",
     "metadata": {},
     "outputs": [
      {
       "output_type": "stream",
       "stream": "stdout",
       "text": [
        "                                                                 wwwww\n"
       ]
      }
     ],
     "prompt_number": 3
    },
    {
     "cell_type": "markdown",
     "metadata": {},
     "source": [
      "## Problem 1.3\n",
      "\n",
      "### Exercise 3.4 \n",
      "\n",
      "A **function object** is a value you can assign to a variable or pass as an argument. For example, `do_twice` is a function that takes a function object as an argument and calls it twice:\n",
      "\n",
      "``\n",
      "def do_twice(f):\n",
      "    f()\n",
      "    f()\n",
      "``\n",
      "\n",
      "Here\u2019s an example that uses `do_twice` to call a function named `print_spam` twice.\n",
      "\n",
      "``def print_spam():\n",
      "    print 'spam'``\n",
      "\n",
      "``    \n",
      "do_twice(print_spam)\n",
      "``\n",
      "\n",
      "1. Type this example into a script and test it.\n",
      "2. Modify `do_twice` so that it takes two arguments, a function object and a value, and calls the function twice, passing the value as an argument.\n",
      "3. Write a more general version of `print_spam`, called `print_twice`, that takes a string as a parameter and prints it twice.\n",
      "4. Use the modified version of `do_twice` to call `print_twice` twice, passing `'spam'` as an argument.\n",
      "5. Define a new function called `do_four` that takes a function object and a value and calls the function four times, passing the value as a parameter. There should be only two statements in the body of this function, not four.\n",
      "\n",
      "Write some code to demonstrate the usage above functions."
     ]
    },
    {
     "cell_type": "code",
     "collapsed": false,
     "input": [
      "# Problem 1.3\n",
      "def do_twice(f):\n",
      "    f()\n",
      "    f()\n",
      "\n",
      "def print_spam():\n",
      "    print 'spam'\n",
      "    \n",
      "do_twice(print_spam)\n",
      "\n",
      "def do_twice(f,n):\n",
      "    f(n)\n",
      "    f(n)\n",
      "\n",
      "def print_(aaa):\n",
      "    print aaa    \n",
      "\n",
      "\n",
      "do_twice(print_,'rrwww')\n",
      "\n",
      "def do_four(f,n):\n",
      "    do_twice(f,n)\n",
      "    do_twice(f,n)\n",
      "\n",
      "do_four(print_,'WWWWTTTTT')"
     ],
     "language": "python",
     "metadata": {},
     "outputs": [
      {
       "output_type": "stream",
       "stream": "stdout",
       "text": [
        "spam\n",
        "spam\n",
        "rrwww\n",
        "rrwww\n",
        "WWWWTTTTT\n",
        "WWWWTTTTT\n",
        "WWWWTTTTT\n",
        "WWWWTTTTT\n"
       ]
      }
     ],
     "prompt_number": 8
    },
    {
     "cell_type": "markdown",
     "metadata": {},
     "source": [
      "## Problem 1.4\n",
      "\n",
      "*This exercise can be done using only the statements and other features we have learned so far.*\n",
      "\n",
      "(1) Write a function that draws a grid like the following:\n",
      "\n",
      "\n",
      "    + - - - - + - - - - +\n",
      "    |         |         |\n",
      "    |         |         |\n",
      "    |         |         |\n",
      "    |         |         |\n",
      "    + - - - - + - - - - +\n",
      "    |         |         |\n",
      "    |         |         |\n",
      "    |         |         |\n",
      "    |         |         |\n",
      "    + - - - - + - - - - +\n",
      "\n",
      "\n",
      "Hint: to print more than one value on a line, you can print a comma-separated sequence:\n",
      "\n",
      "    print '+', '-'\n",
      "\n",
      "If the sequence ends with a comma, Python leaves the line unfinished, so the value printed next appears on the same line.\n",
      "\n",
      "\n",
      "    print '+', \n",
      "    print '-'\n",
      "\n",
      "The output of these statements is `'+ -'`.\n",
      "\n",
      "A `print` statement all by itself ends the current line and goes to the next line.\n",
      "\n",
      "(2) Write a function that draws a similar grid with four rows and four columns."
     ]
    },
    {
     "cell_type": "code",
     "collapsed": false,
     "input": [
      "# Problem 1.4\n",
      "y='+'+2*(4*' -'+'+')\n",
      "z='|'+2*(4*'  '+'|')\n",
      "print y\n",
      "print z\n",
      "print z\n",
      "print z\n",
      "print z\n",
      "print y\n",
      "print z\n",
      "print z\n",
      "print z\n",
      "print z\n",
      "print y"
     ],
     "language": "python",
     "metadata": {},
     "outputs": [
      {
       "output_type": "stream",
       "stream": "stdout",
       "text": [
        "+ - - - -+ - - - -+\n",
        "|        |        |\n",
        "|        |        |\n",
        "|        |        |\n",
        "|        |        |\n",
        "+ - - - -+ - - - -+\n",
        "|        |        |\n",
        "|        |        |\n",
        "|        |        |\n",
        "|        |        |\n",
        "+ - - - -+ - - - -+\n"
       ]
      }
     ],
     "prompt_number": 37
    },
    {
     "cell_type": "markdown",
     "metadata": {},
     "source": [
      "## Problem 1.5\n",
      "\n",
      "Write a **resursive function** called `do_n` that takes a function object and a number, `n`, as arguments, and that calls the given function n times."
     ]
    },
    {
     "cell_type": "code",
     "collapsed": false,
     "input": [
      "# Problem 1.5\n",
      "def do_n(f,n,x):\n",
      "    while n > 0:\n",
      "        f(x)\n",
      "        n = n-1\n",
      "\n",
      "def print_(x):\n",
      "    print x\n",
      "    \n",
      "do_n(print_,3,'x')\n",
      "do_n(print_,7,'yyy')"
     ],
     "language": "python",
     "metadata": {},
     "outputs": [
      {
       "output_type": "stream",
       "stream": "stdout",
       "text": [
        "x\n",
        "x\n",
        "x\n",
        "yyy\n",
        "yyy\n",
        "yyy\n",
        "yyy\n",
        "yyy\n",
        "yyy\n",
        "yyy\n"
       ]
      }
     ],
     "prompt_number": 21
    },
    {
     "cell_type": "markdown",
     "metadata": {},
     "source": [
      "## Problem 1.6\n",
      "\n",
      "Write some code that asks the user for the Cartesian coordinates $x$,$y$ of a point in 2D space, and calculate the print the corresponding polar coordinates, with the angle $\\theta$ given in degrees."
     ]
    },
    {
     "cell_type": "code",
     "collapsed": false,
     "input": [
      "# Problem 1.6\n",
      "import math\n",
      "\n",
      "def fun(x,y):\n",
      "    r2=x**2+y**2\n",
      "    r=math.sqrt(r2)\n",
      "    c=float(y)/float(x)\n",
      "    z=math.atan(c)\n",
      "    print r,'    ',z\n",
      "    \n",
      "fun(0.0001,1)"
     ],
     "language": "python",
     "metadata": {},
     "outputs": [
      {
       "output_type": "stream",
       "stream": "stdout",
       "text": [
        "1.000000005      1.5706963268\n"
       ]
      }
     ],
     "prompt_number": 29
    },
    {
     "cell_type": "markdown",
     "metadata": {},
     "source": [
      "## Problem 1.7\n",
      "\n",
      "Fermat\u2019s Last Theorem says that there are no positive integers $a$, $b$, and $c$ such that\n",
      "\n",
      "$$\n",
      "  a^n + b^n = c^n \n",
      "$$\n",
      "for any values of $n$ greater than 2.\n",
      "\n",
      "1. Write a function named `check_fermat` that takes four parameters\u2014`a`, `b`, `c` and `n`\u2014and that checks to see if Fermat\u2019s theorem holds.\n",
      " * If `n` is greater than 2 and it turns out to be true that $a^n + b^n = c^n$ \n",
      "the program should print, \u201cHoly smokes, Fermat was wrong!\u201d.\n",
      " * Otherwise the program should print, \u201cNo, that doesn\u2019t work.\u201d\n",
      "\n",
      "2. Write a function that prompts the user to input values for `a`, `b`, `c` and `n`, converts them to integers, and uses `check_fermat` to check whether they violate Fermat\u2019s theorem.\n",
      "\n"
     ]
    },
    {
     "cell_type": "code",
     "collapsed": false,
     "input": [
      "# Problem 1.7\n",
      "def check_fermat(a,b,n):\n",
      "    z=float(a**n+b**n)\n",
      "    r=float(1)/float(n)\n",
      "    y=pow(z,r)\n",
      "    if y-float(int(y))==0:\n",
      "        print  'Holy shit, Fermat was wrong!'\n",
      "    else:\n",
      "        print 'No, that doesn\u2019t work'\n",
      "        \n",
      "check_fermat(3,4,2)\n",
      "    "
     ],
     "language": "python",
     "metadata": {},
     "outputs": []
    },
    {
     "cell_type": "markdown",
     "metadata": {},
     "source": [
      "## Problem 1.8\n",
      "\n",
      "If you are given three sticks, you may or may not be able to arrange them in a triangle. For example, if one of the sticks is 12 inches long and the other two are one inch long, it is clear that you will not be able to get the short sticks to meet in the middle. For any three lengths, there is a simple test to see if it is possible to form a triangle:\n",
      "\n",
      "> If any of the three lengths is greater than the sum of the other two, then you cannot form a triangle. Otherwise, you can. \n",
      "> (If the sum of two lengths equals the third, they form what is called a \u201cdegenerate\u201d triangle.)\n",
      "\n",
      "1. Write a function named `is_triangle` that takes three integers as arguments, and that prints either \u201cYes\u201d or \u201cNo,\u201d depending on whether you can or cannot form a triangle from sticks with the given lengths.\n",
      "\n",
      "2. Write a function that prompts the user to input three stick lengths, converts them to integers, and uses `is_triangle` to check whether sticks with the given lengths can form a triangle"
     ]
    },
    {
     "cell_type": "code",
     "collapsed": false,
     "input": [
      "# Problem 1.8\n",
      "def is_triangle(a,b,c):\n",
      "    x=a-(b+c)\n",
      "    y=b-(a+c)\n",
      "    z=c-(a+b)\n",
      "    if x<=0 and y<=0 and z<=0: \n",
      "        print 'Yes'\n",
      "    else:\n",
      "        print 'NO'\n",
      "\n",
      "is_triangle(1,1,1)\n",
      "is_triangle(3,4,5)\n",
      "is_triangle(10,7,2)"
     ],
     "language": "python",
     "metadata": {},
     "outputs": [
      {
       "output_type": "stream",
       "stream": "stdout",
       "text": [
        "Yes\n",
        "Yes\n",
        "NO\n"
       ]
      }
     ],
     "prompt_number": 1
    },
    {
     "cell_type": "markdown",
     "metadata": {},
     "source": [
      "## Problem 1.9\n",
      "\n",
      "Write a compare function that returns 1 if x > y, 0 if x == y, and -1 if x < y."
     ]
    },
    {
     "cell_type": "code",
     "collapsed": false,
     "input": [
      "# Problem 1.9\n",
      "def api(x,y):\n",
      "    if x>y:\n",
      "        print '1'\n",
      "    else:\n",
      "        if x==y:\n",
      "            print '0'\n",
      "        else:\n",
      "            print '-1'\n",
      "\n",
      "api(3,1)\n",
      "api(3,3)\n",
      "api(3,5)"
     ],
     "language": "python",
     "metadata": {},
     "outputs": []
    },
    {
     "cell_type": "markdown",
     "metadata": {},
     "source": [
      "## Problem 1.10\n",
      "\n",
      "The Ackermann function, $A(m, n)$, is defined:\n",
      "\n",
      "$$\n",
      "\\begin{eqnarray*}\n",
      "A(m, n) = \\begin{cases}\n",
      "              n+1 & \\mbox{if } m = 0 \\\\\n",
      "        A(m-1, 1) & \\mbox{if } m > 0 \\mbox{ and } n = 0 \\\\\n",
      "A(m-1, A(m, n-1)) & \\mbox{if } m > 0 \\mbox{ and } n > 0.\n",
      "\\end{cases}\n",
      "\\end{eqnarray*}\n",
      "$$\n",
      "\n",
      "See http://en.wikipedia.org/wiki/Ackermann_function.\n",
      "* Write a function named ack that evaluates Ackermann\u2019s function. \n",
      "* Use your function to evaluate $ack(3, 4)$, which should be 125.\n",
      "* What happens for larger values of m and n?"
     ]
    },
    {
     "cell_type": "code",
     "collapsed": false,
     "input": [
      "# Problem 1.10\n",
      "def ack(x,y):\n",
      "    if x=0 and y=0:\n",
      "        print 1\n",
      "    else:\n",
      "        if x=0:\n",
      "            print y+1\n",
      "        else:\n",
      "            if x>0 and y=0:\n",
      "                print 1\n",
      "            else:\n",
      "                if x>0 and y>0:\n",
      "                    \n",
      "                \n",
      "\n"
     ],
     "language": "python",
     "metadata": {},
     "outputs": [],
     "prompt_number": 10
    },
    {
     "cell_type": "markdown",
     "metadata": {},
     "source": [
      "## Problem 1.11\n",
      "\n",
      "A number, a, is a power of b if it is divisible by b and a/b is a power of b. Write a function called `is_power` that takes parameters a and b and returns True if a is a power of b. Note: you will have to think about the base case."
     ]
    },
    {
     "cell_type": "code",
     "collapsed": false,
     "input": [
      "# Problem 1.11\n",
      "def is_power(a,b):\n",
      "    z=a/b\n",
      "    y=a%b\n",
      "    if y!=0:\n",
      "        print \"NO\"\n",
      "    else:\n",
      "        while z!=b:\n",
      "            if z%b != 0:\n",
      "                print  \"NO\"\n",
      "                break\n",
      "            else:\n",
      "                z=z/b\n",
      "        else:\n",
      "            print 'YES'\n",
      "        \n",
      "q=8\n",
      "z=q%2\n",
      "print z\n",
      "is_power(8,2)\n",
      "is_power(6,2)\n",
      "is_power(7,2)"
     ],
     "language": "python",
     "metadata": {},
     "outputs": []
    },
    {
     "cell_type": "markdown",
     "metadata": {},
     "source": [
      "## Problem 1.12\n",
      "\n",
      "The greatest common divisor (GCD) of a and b is the largest number that divides both of them with no remainder.\n",
      "\n",
      "One way to find the GCD of two numbers is based on the observation that if r is the remainder when a is divided by b, then gcd(a, b) = gcd(b, r). As a base case, we can use gcd(a, 0) = a.\n",
      "\n",
      "Write a function called `gcd` that takes parameters a and b and returns their greatest common divisor."
     ]
    },
    {
     "cell_type": "code",
     "collapsed": false,
     "input": [
      "# Problem 1.12\n",
      "def GCD(a,b):\n",
      "    n=a\n",
      "    while n>0:\n",
      "        x=a%n\n",
      "        n=n-1\n",
      "        if x==0:\n",
      "            t=n+1\n",
      "            if b%t ==0:\n",
      "                print t\n",
      "        \n",
      "GCD(159,24)"
     ],
     "language": "python",
     "metadata": {},
     "outputs": [
      {
       "output_type": "stream",
       "stream": "stdout",
       "text": [
        "3\n",
        "1\n"
       ]
      }
     ],
     "prompt_number": 2
    },
    {
     "cell_type": "code",
     "collapsed": false,
     "input": [],
     "language": "python",
     "metadata": {},
     "outputs": []
    }
   ],
   "metadata": {}
  }
 ]
}