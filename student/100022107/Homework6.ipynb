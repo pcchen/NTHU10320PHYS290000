{
 "metadata": {
  "name": "",
  "signature": "sha256:fa17d92b36e82e103002f351e4619accc0c60c4498bfd4689f606bef3c2c9eef"
 },
 "nbformat": 3,
 "nbformat_minor": 0,
 "worksheets": [
  {
   "cells": [
    {
     "cell_type": "markdown",
     "metadata": {},
     "source": [
      "# Homework 6"
     ]
    },
    {
     "cell_type": "markdown",
     "metadata": {},
     "source": [
      "## Problem 1\n",
      "\n",
      "Use **ivisual** module to plot the projectile motion with following equations of motion:\n",
      "\n",
      "$$\n",
      "\\begin{eqnarray*}\n",
      "  m\\ddot{x} &=& 0, \\\\\n",
      "  m\\ddot{y} &=& -mg, \\\\\n",
      "  m\\ddot{z} &=& 0,\n",
      "\\end{eqnarray*}\n",
      "$$\n",
      "and initial conditions\n",
      "\n",
      "$$\n",
      "  \\vec{r}(0) = (0, 0, 0), \\\\\n",
      "  \\vec{v}(0) = (v_{x0}, v_{y0}, 0),\n",
      "$$\n",
      "You can assign $v_{x0}$ and $v_{y0}$ in the code or ask user to input it.\n",
      "\n",
      "You should\n",
      "* Use a box to represent the ground.\n",
      "* Use three arrows to represent the three axes.\n",
      "* Use a sphere to represent the ball of the projectile motion.\n",
      "* Leave a trail.\n",
      "* Stop the simulation when the ball hit the ground.\n",
      "\n",
      "You should use to ways to calculate the trajectory of the motion.\n",
      "1. Use exact solution: $x(t)=x(0)+v_x t$, etc.\n",
      "2. Use numerical solution:\n",
      " * $v(t+dt) = v(t) + a * dt$.\n",
      " * $x(t+dt) = x(t) + v(t) * dt$.\n",
      "\n",
      "You should use a small enough $dt$ to ensure the numerical solution is accurate enough.\n"
     ]
    },
    {
     "cell_type": "code",
     "collapsed": false,
     "input": [
      "from ivisual import *"
     ],
     "language": "python",
     "metadata": {},
     "outputs": [
      {
       "html": [
        "<div id=\"scene0\"><div id=\"glowscript\" class=\"glowscript\"></div></div>"
       ],
       "metadata": {},
       "output_type": "display_data",
       "text": [
        "<IPython.core.display.HTML at 0x2df3dd8>"
       ]
      },
      {
       "javascript": [
        "require.undef(\"nbextensions/glow.1.0.min\");"
       ],
       "metadata": {},
       "output_type": "display_data",
       "text": [
        "<IPython.core.display.Javascript at 0x4b05198>"
       ]
      },
      {
       "javascript": [
        "require.undef(\"nbextensions/jquery-ui.custom.min\");"
       ],
       "metadata": {},
       "output_type": "display_data",
       "text": [
        "<IPython.core.display.Javascript at 0x4b051d0>"
       ]
      },
      {
       "javascript": [
        "require.undef(\"nbextensions/glow.1.1.min\");"
       ],
       "metadata": {},
       "output_type": "display_data",
       "text": [
        "<IPython.core.display.Javascript at 0x4b05320>"
       ]
      },
      {
       "javascript": [
        "require.undef(\"nbextensions/glowcomm\");"
       ],
       "metadata": {},
       "output_type": "display_data",
       "text": [
        "<IPython.core.display.Javascript at 0x4b05390>"
       ]
      },
      {
       "javascript": [
        "require([\"nbextensions/glowcomm\"], function(){console.log(\"glowcomm loaded\");})"
       ],
       "metadata": {},
       "output_type": "display_data",
       "text": [
        "<IPython.core.display.Javascript at 0x4b053c8>"
       ]
      }
     ],
     "prompt_number": 1
    },
    {
     "cell_type": "code",
     "collapsed": false,
     "input": [
      "# Problem 1\n",
      "scene = canvas(title = \"Scene\")\n",
      "\n",
      "scene.width = 800\n",
      "scene.height = 600\n",
      "scene.autoscale = 0\n",
      "scene.range = (100,100,100)\n",
      "scene.center = (0,0,0)\n",
      "\n",
      "ground = box(pos=(0,-1,0),size=(50,0.5,50))\n",
      "\n",
      "xaxis = arrow(pos=(0,0,0), axis=(50,0,0), shaftwidth=0.5, color=color.red)\n",
      "yaxis = arrow(pos=(0,0,0), axis=(0,50,0), shaftwidth=0.5, color=color.red)\n",
      "zaxis = arrow(pos=(0,0,0), axis=(0,0,50), shaftwidth=0.5, color=color.red)\n",
      "\n",
      "\n",
      "ball = sphere(pos=(0,0,0), radius=2,make_trail=True,trail_type=\"points\",interval=1, retain=50)\n",
      "\n",
      "\n",
      "\n",
      "\n",
      "gravity = 9.8\n",
      "seconds = 0\n",
      "dt = .01\n",
      "\n",
      "finished = False           \n",
      "while not finished:\n",
      "    rate(100)   # go thru the loop no more than 100 times/s\n",
      "    seconds += dt\n",
      "\n",
      "    # position equation: x(t)=x(0)+v*t  y(t) = y0 + v0*t + .5 * a * t**2  \u4ee4Vx=10 Vy=10 \n",
      "    ballx=0+10*seconds\n",
      "    bally=10*seconds-0.5*gravity*seconds**2\n",
      "\n",
      "    ball.pos = vector(ballx,bally,0)\n",
      "\n",
      "    if bally  < 0:\n",
      "        finished = True"
     ],
     "language": "python",
     "metadata": {},
     "outputs": [
      {
       "html": [
        "<div id=\"scene12\"><div id=\"glowscript\" class=\"glowscript\"></div></div>"
       ],
       "metadata": {},
       "output_type": "display_data",
       "text": [
        "<IPython.core.display.HTML at 0x4dcfe80>"
       ]
      },
      {
       "javascript": [
        "window.__context = { glowscript_container: $(\"#glowscript\").removeAttr(\"id\")}"
       ],
       "metadata": {},
       "output_type": "display_data",
       "text": [
        "<IPython.core.display.Javascript at 0x4dcde10>"
       ]
      }
     ],
     "prompt_number": 26
    },
    {
     "cell_type": "code",
     "collapsed": false,
     "input": [],
     "language": "python",
     "metadata": {},
     "outputs": []
    },
    {
     "cell_type": "markdown",
     "metadata": {},
     "source": [
      "## Problem 2\n",
      "\n",
      "Now introduce the air resistence so the equations of motion become:\n",
      "\n",
      "$$\n",
      "\\begin{eqnarray*}\n",
      "  m\\ddot{x} &=& -km\\dot{x}, \\\\\n",
      "  m\\ddot{y} &=& -km\\dot{y}-mg, \\\\\n",
      "  m\\ddot{z} &=& 0,\n",
      "\\end{eqnarray*}\n",
      "$$\n",
      "and initial conditions\n",
      "\n",
      "$$\n",
      "  \\vec{r}(0) = (0, 0, 0), \\\\\n",
      "  \\vec{v}(0) = (v_{x0}, v_{y0}, 0),\n",
      "$$\n",
      "You can assign $v_{x0}$ and $v_{y0}$ in the code or ask user to input it.\n",
      "\n",
      "You should\n",
      "* Use a box to represent the ground.\n",
      "* Use three arrows to represent the three axes.\n",
      "* Use a sphere to represent the ball of the projectile motion.\n",
      "* Leave a trail.\n",
      "* Stop the simulation when the ball hit the ground.\n",
      "\n",
      "\n",
      "You should use to ways to calculate the trajectory of the motion.\n",
      "1. Use exact solution: (Check for example Marion's book).\n",
      "2. Use numerical solution:\n",
      " * $v(t+dt) = v(t) + a * dt$.\n",
      " * $x(t+dt) = x(t) + v(t) * dt$.\n",
      "\n",
      "You should use a small enough $dt$ to ensure the numerical solution is accurate enough.\n"
     ]
    },
    {
     "cell_type": "code",
     "collapsed": false,
     "input": [
      "# Problem 2\n",
      "scene = canvas(title = \"Scene\")\n",
      "\n",
      "scene.width = 800\n",
      "scene.height = 600\n",
      "scene.autoscale = 0\n",
      "scene.range = (100,100,100)\n",
      "scene.center = (0,0,0)\n",
      "\n",
      "ground = box(pos=(0,-1,0),size=(50,0.5,50))\n",
      "\n",
      "xaxis = arrow(pos=(0,0,0), axis=(50,0,0), shaftwidth=0.5, color=color.red)\n",
      "yaxis = arrow(pos=(0,0,0), axis=(0,50,0), shaftwidth=0.5, color=color.red)\n",
      "zaxis = arrow(pos=(0,0,0), axis=(0,0,50), shaftwidth=0.5, color=color.red)\n",
      "\n",
      "ball = sphere(pos=(0,0,0), radius=2,make_trail=True,trail_type=\"points\",interval=1, retain=50)\n",
      "\n",
      "\n",
      "\n",
      "\n",
      "g = 9.8\n",
      "dt = .01\n",
      "k=1\n",
      "t=0\n",
      "vx=50\n",
      "vy=50\n",
      "ballx=0\n",
      "bally=0\n",
      "\n",
      "while ball.pos.y >= 0 :\n",
      "    rate(100)\n",
      "    t += dt\n",
      "    vx=vx-k*vx*dt\n",
      "    vy=vy-k*vy*dt-g*dt\n",
      "    ballx=ballx+vx*dt\n",
      "    bally=bally+vy*dt\n",
      "\n",
      "    ball.pos = vector(ballx,bally,0)\n"
     ],
     "language": "python",
     "metadata": {},
     "outputs": [
      {
       "html": [
        "<div id=\"scene1\"><div id=\"glowscript\" class=\"glowscript\"></div></div>"
       ],
       "metadata": {},
       "output_type": "display_data",
       "text": [
        "<IPython.core.display.HTML at 0x4b05a58>"
       ]
      },
      {
       "javascript": [
        "window.__context = { glowscript_container: $(\"#glowscript\").removeAttr(\"id\")}"
       ],
       "metadata": {},
       "output_type": "display_data",
       "text": [
        "<IPython.core.display.Javascript at 0x4b05320>"
       ]
      }
     ],
     "prompt_number": 3
    },
    {
     "cell_type": "markdown",
     "metadata": {},
     "source": [
      "## Problem 3\n",
      "\n",
      "Use **ivisual** module to plot the trajectory of a coupled spring-mass system that has two masses, three springs, two walls.\n",
      "\n",
      "Something like Wall-spring1-mass1-spring2-mass2-spring3-Wall.\n",
      "\n",
      "You should\n",
      "* Use a box to represent the ground.\n",
      "* Use two boxes to represent the walls.\n",
      "* Use two **cubic** boxes to represent the two masses.\n",
      "* Use helix to represent the two srpings.\n"
     ]
    },
    {
     "cell_type": "code",
     "collapsed": false,
     "input": [
      "# Problem 3\n",
      "scene = canvas()\n",
      "\n",
      "scene.width = 800\n",
      "scene.height = 600\n",
      "\n",
      "scene.autoscale = 0\n",
      "scene.range = (100,100,200)\n",
      "scene.center = (0,0,0)\n",
      "\n",
      "wall1 = box(pos = (-100, 0, 0), size = (5, 50, 50), color = color.white)\n",
      "wall2 = box(pos = (100, 0, 0), size = (5, 50, 50), color = color.white)\n",
      "ground = box(pos = (0, -26, 0), size = (205, 5, 50), color = color.white)\n",
      "box1 = box(pos = (-40, -15, 0), size = (20, 20, 20), color = color.blue)\n",
      "box2 = box(pos = (40, -15, 0), size = (20, 20, 20), color = color.blue)\n",
      "spring1 = helix(pos = (-97.5, -15, 0), length = 47.5, coils = 15, radius = 5, color = color.red)\n",
      "spring2 = helix(pos = (-30, -15, 0), length = 60, coils = 15, radius = 5, color = color.red)\n",
      "spring3 = helix(pos = (50, -15, 0), length = 47.5, coils = 15, radius = 5, color = color.red)"
     ],
     "language": "python",
     "metadata": {},
     "outputs": [
      {
       "html": [
        "<div id=\"scene3\"><div id=\"glowscript\" class=\"glowscript\"></div></div>"
       ],
       "metadata": {},
       "output_type": "display_data",
       "text": [
        "<IPython.core.display.HTML at 0x4b51e48>"
       ]
      },
      {
       "javascript": [
        "window.__context = { glowscript_container: $(\"#glowscript\").removeAttr(\"id\")}"
       ],
       "metadata": {},
       "output_type": "display_data",
       "text": [
        "<IPython.core.display.Javascript at 0x4b51e80>"
       ]
      }
     ],
     "prompt_number": 5
    },
    {
     "cell_type": "markdown",
     "metadata": {},
     "source": [
      "# Problem 4\n",
      "\n",
      "Use **ivisual** module to plot the trajectories of 20 particles in a rectangle box.\n",
      "\n",
      "* The rectangle box has the dimension $L_x$, $L_y$, $L_z$.\n",
      "* Use boxes to represent the walls. Keep one wall **invisible**.\n",
      "* The 20 particles should have **random** initial velocity.\n",
      "* The 20 particles should leave a trail.\n",
      "* Make each particle has random RGB color."
     ]
    },
    {
     "cell_type": "code",
     "collapsed": false,
     "input": [
      "# Problem 4\n",
      "import random\n",
      "scene = canvas()\n",
      "\n",
      "scene.width = 800\n",
      "scene.height = 600\n",
      "\n",
      "scene.autoscale = 0\n",
      "scene.range = (60,60,60)\n",
      "scene.center = (0,0,0)\n",
      "\n",
      "Lx=50\n",
      "Ly=40\n",
      "Lz=30\n",
      "\n",
      "wallL = box(pos = (-25, 0, 0), size = (2, Ly, Lz), color = color.white)\n",
      "wallR = box(pos = (25, 0, 0), size = (2, Ly, Lz), color = color.white)\n",
      "wallD = box(pos = (0, -20, 0), size = (Lx, 2, Lz), color = color.white)\n",
      "wallU = box(pos = (0, 20, 0), size = (Lx, 2, Lz), color = color.white)\n",
      "wallB = box(pos = (0, 0, -15), size = (Lx, Ly, 2), color = color.white)\n",
      "\n",
      "ball=[]    \n",
      "\n",
      "for a in range(20):\n",
      "    pos =vector(random.randint(-25,25),random.randint(-20,20),random.randint(-15,15))\n",
      "    ball.append(sphere(pos=pos, radius=1, color= (random.random() , random.random() , random.random()),make_trail=True, trail_type=\"points\",interval=1, retain=60))\n",
      "    ball[a].velocity = vector(random.randint(-25,25),random.randint(-20,20),random.randint(-15,15))\n",
      "    ball[a].trail = curve(color=ball[a].color)\n",
      "    \n",
      "#ball.velocity = vector(25,10,-10)\n",
      "#vscale = 0.2\n",
      "#varr = arrow(pos=ball.pos, axis=vscale*ball.velocity, color=color.yellow)\n",
      "\n",
      "\n",
      "\n",
      "deltat = 0.01\n",
      "t=0\n",
      "\n",
      "while t < 15:\n",
      "    rate(100)\n",
      "    for a in range(20):\n",
      "        if ball[a].pos.x > wallR.pos.x:\n",
      "             ball[a].velocity.x = -ball[a].velocity.x\n",
      "        if ball[a].pos.x < wallL.pos.x:\n",
      "             ball[a].velocity.x = -ball[a].velocity.x\n",
      "        if ball[a].pos.y > wallU.pos.y:\n",
      "             ball[a].velocity.y = -ball[a].velocity.y\n",
      "        if ball[a].pos.y < wallD.pos.y:\n",
      "             ball[a].velocity.y = -ball[a].velocity.y\n",
      "        if ball[a].pos.z < wallB.pos.z:\n",
      "            ball[a].velocity.z = -ball[a].velocity.z\n",
      "        if ball[a].pos.z > +15:\n",
      "            ball[a].velocity.z = -ball[a].velocity.z\n",
      "    \n",
      "        ball[a].pos = ball[a].pos + ball[a].velocity*deltat\n",
      "        #varr.pos = ball.pos\n",
      "        #varr.axis = vscale*ball.velocity\n",
      "        #ball.trail.append(pos=ball.pos)\n",
      "    \n",
      "    t = t + deltat"
     ],
     "language": "python",
     "metadata": {},
     "outputs": [
      {
       "html": [
        "<div id=\"scene9\"><div id=\"glowscript\" class=\"glowscript\"></div></div>"
       ],
       "metadata": {},
       "output_type": "display_data",
       "text": [
        "<IPython.core.display.HTML at 0x4dcf6d8>"
       ]
      },
      {
       "javascript": [
        "window.__context = { glowscript_container: $(\"#glowscript\").removeAttr(\"id\")}"
       ],
       "metadata": {},
       "output_type": "display_data",
       "text": [
        "<IPython.core.display.Javascript at 0x4cb9860>"
       ]
      }
     ],
     "prompt_number": 23
    },
    {
     "cell_type": "code",
     "collapsed": false,
     "input": [],
     "language": "python",
     "metadata": {},
     "outputs": [
      {
       "metadata": {},
       "output_type": "pyout",
       "prompt_number": 16,
       "text": [
        "0.7901947869399577"
       ]
      }
     ],
     "prompt_number": 16
    },
    {
     "cell_type": "code",
     "collapsed": false,
     "input": [],
     "language": "python",
     "metadata": {},
     "outputs": []
    }
   ],
   "metadata": {}
  }
 ]
}