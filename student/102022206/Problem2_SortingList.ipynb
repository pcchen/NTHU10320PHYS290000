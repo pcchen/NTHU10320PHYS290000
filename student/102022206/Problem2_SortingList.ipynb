{
 "metadata": {
  "name": "",
  "signature": "sha256:08e63437eea22aa0c7ef750451b1bdf34e840c2a6d9f2a18a9d443691a3943bb"
 },
 "nbformat": 3,
 "nbformat_minor": 0,
 "worksheets": [
  {
   "cells": [
    {
     "cell_type": "markdown",
     "metadata": {},
     "source": [
      "# Problem 2:\n",
      "# Sorting a List\n",
      "\n",
      "In this problem you should\n",
      "* Implement the **selection sort** algorithm.\n",
      "* Implement the **insertion sort** algorithm.\n",
      "* Create a list of N-elements where each element is a random integer between 0, 1, 2, ..., N-1.\n",
      "* Use your implementation of the selection sort and insertion sort to sort the the random list above.\n",
      "* Use built-in function `sorted()` that builds a new sorted list to show that your implementation is correct.\n",
      "\n",
      "## Selection sort\n",
      "\n",
      "Following is the algorithm of the **selection sort**:\n",
      "\n",
      "* Divide the input list into two sub-lists:\n",
      " * Sorted sub-list (Start with an empty list).\n",
      " * Un-Sorted sub-list.\n",
      "* Find the smallest element in the unsorted list.\n",
      "* Swap with the leftmost unsorted element.\n",
      "* Move the sub-list boundaries.\n",
      "\n",
      "Following is an example of selection sort:\n",
      "<img src=\"SelectionSort.png\" width=\"800\">\n",
      "\n",
      "## Insertion sort\n",
      "\n",
      "Following is the algorithm of the **insertion sort**:\n",
      "\n",
      "* Divide the input list into two sub-lists:\n",
      " * Sorted sub-list (Start with the leftmost element).\n",
      " * Un-Sorted sub-list.\n",
      "* Insert the leftmost element of the unsorted sub-list into the proper position of the sorted sub-list.\n",
      "* Move the sub-list boundaries \n",
      "\n",
      "Following is an example of selection sort:\n",
      "<img src=\"InsertionSort.png\" width=\"800\">"
     ]
    },
    {
     "cell_type": "markdown",
     "metadata": {},
     "source": [
      "Please write your code based on the sketch below and use the test code below to show that your function works properly."
     ]
    },
    {
     "cell_type": "code",
     "collapsed": false,
     "input": [
      "help(while())"
     ],
     "language": "python",
     "metadata": {},
     "outputs": [
      {
       "ename": "SyntaxError",
       "evalue": "invalid syntax (<ipython-input-82-a019cc9b5b36>, line 1)",
       "output_type": "pyerr",
       "traceback": [
        "\u001b[1;36m  File \u001b[1;32m\"<ipython-input-82-a019cc9b5b36>\"\u001b[1;36m, line \u001b[1;32m1\u001b[0m\n\u001b[1;33m    help(while())\u001b[0m\n\u001b[1;37m             ^\u001b[0m\n\u001b[1;31mSyntaxError\u001b[0m\u001b[1;31m:\u001b[0m invalid syntax\n"
       ]
      }
     ],
     "prompt_number": 82
    },
    {
     "cell_type": "code",
     "collapsed": false,
     "input": [
      "from random import *\n",
      "\n",
      "# create a random list with N elements\n",
      "\n",
      "def random_list(N):\n",
      "    n = int(N)\n",
      "    lis = range(n)\n",
      "    shuffle(lis)\n",
      "    return lis\n",
      "\n",
      "# selection sort\n",
      "def selection_sort(lis):\n",
      "    sor = []\n",
      "    unsor = []\n",
      "    for i in range(len(lis)):\n",
      "        unsor.append(lis[i])\n",
      "    while len(unsor)>0:\n",
      "        x = min(unsor)\n",
      "        sor.append(x)\n",
      "        sor=sorted(sor)\n",
      "        unsor.remove(x)\n",
      "    return sor\n",
      "\n",
      "# insertion sort\n",
      "def insertion_sort(lis):\n",
      "    sor = []\n",
      "    unsor = []\n",
      "    for i in range(len(lis)):\n",
      "        unsor.append(lis[i])\n",
      "    while len(unsor)>0:\n",
      "        x = unsor[0]\n",
      "        sor.append(x)\n",
      "        sor=sorted(sor)\n",
      "        unsor.remove(x)\n",
      "    return sor\n",
      "\n",
      "li = random_list(10)\n",
      "lis = selection_sort(li)\n",
      "\n",
      "lis0 = insertion_sort(li)\n",
      "\n",
      "print li\n",
      "print lis\n",
      "print lis0\n",
      "print sorted(li)\n",
      "\n",
      "\n",
      "\n",
      "\n"
     ],
     "language": "python",
     "metadata": {},
     "outputs": [
      {
       "output_type": "stream",
       "stream": "stdout",
       "text": [
        "[3, 1, 7, 6, 2, 9, 5, 0, 4, 8]\n",
        "[0, 1, 2, 3, 4, 5, 6, 7, 8, 9]\n",
        "[0, 1, 2, 3, 4, 5, 6, 7, 8, 9]\n",
        "[0, 1, 2, 3, 4, 5, 6, 7, 8, 9]\n"
       ]
      }
     ],
     "prompt_number": 95
    },
    {
     "cell_type": "code",
     "collapsed": false,
     "input": [
      "# test the implementation of selection sort\n",
      "N = 10\n",
      "L = random_list(N)\n",
      "L_sorted = sorted(L)\n",
      "selection_sort(L)\n",
      "\n",
      "for i in range(len(L)):\n",
      "    if L[i] != L_sorted[i]:\n",
      "        print 'oops!'    "
     ],
     "language": "python",
     "metadata": {},
     "outputs": [
      {
       "output_type": "stream",
       "stream": "stdout",
       "text": [
        "oops!\n",
        "oops!\n",
        "oops!\n",
        "oops!\n",
        "oops!\n",
        "oops!\n",
        "oops!\n",
        "oops!\n"
       ]
      }
     ],
     "prompt_number": 96
    },
    {
     "cell_type": "code",
     "collapsed": false,
     "input": [
      "# test the implementation of insertion sort\n",
      "N = 10\n",
      "L = random_list(N)\n",
      "L_sorted = sorted(L)\n",
      "insertion_sort(L)\n",
      "\n",
      "for i in range(len(L)):\n",
      "    if L[i] != L_sorted[i]:\n",
      "        print 'oops!'    "
     ],
     "language": "python",
     "metadata": {},
     "outputs": [
      {
       "output_type": "stream",
       "stream": "stdout",
       "text": [
        "oops!\n",
        "oops!\n",
        "oops!\n",
        "oops!\n",
        "oops!\n",
        "oops!\n",
        "oops!\n",
        "oops!\n"
       ]
      }
     ],
     "prompt_number": 97
    },
    {
     "cell_type": "code",
     "collapsed": false,
     "input": [],
     "language": "python",
     "metadata": {},
     "outputs": [],
     "prompt_number": 27
    },
    {
     "cell_type": "code",
     "collapsed": false,
     "input": [],
     "language": "python",
     "metadata": {},
     "outputs": []
    }
   ],
   "metadata": {}
  }
 ]
}