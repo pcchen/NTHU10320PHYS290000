{
 "metadata": {
  "name": "",
  "signature": "sha256:a7930da27a87d8b6bd9e3be012757ffe88e526f2adf0b2535700772b7413e4e2"
 },
 "nbformat": 3,
 "nbformat_minor": 0,
 "worksheets": [
  { 
   "cells": [
    {
     "cell_type": "markdown",
     "metadata": {},
     "source": [
      "# Homework 6"
     ]
    },
    {
     "cell_type": "markdown",
     "metadata": {},
     "source": [
      "## Problem 1\n",
      "\n",
      "Use **ivisual** module to plot the projectile motion with following equations of motion:\n",
      "\n",
      "$$\n",
      "\\begin{eqnarray*}\n",
      "  m\\ddot{x} &=& 0, \\\\\n",
      "  m\\ddot{y} &=& -mg, \\\\\n",
      "  m\\ddot{z} &=& 0,\n",
      "\\end{eqnarray*}\n",
      "$$\n",
      "and initial conditions\n",
      "\n",
      "$$\n",
      "  \\vec{r}(0) = (0, 0, 0), \\\\\n",
      "  \\vec{v}(0) = (v_{x0}, v_{y0}, 0),\n",
      "$$\n",
      "You can assign $v_{x0}$ and $v_{y0}$ in the code or ask user to input it.\n",
      "\n",
      "You should\n",
      "* Use a box to represent the ground.\n",
      "* Use three arrows to represent the three axes.\n",
      "* Use a sphere to represent the ball of the projectile motion.\n",
      "* Leave a trail.\n",
      "* Stop the simulation when the ball hit the ground.\n",
      "\n",
      "You should use to ways to calculate the trajectory of the motion.\n",
      "1. Use exact solution: $x(t)=x(0)+v_x t$, etc.\n",
      "2. Use numerical solution:\n",
      " * $v(t+dt) = v(t) + a * dt$.\n",
      " * $x(t+dt) = x(t) + v(t) * dt$.\n",
      "\n",
      "You should use a small enough $dt$ to ensure the numerical solution is accurate enough.\n"
     ]
    },
    {
     "cell_type": "code",
     "collapsed": false,
     "input": [
      "# Problem 1\n",
      "from ivisual import *\n",
      "\n",
      "scene = canvas(title = \"Three Dimensions Motion\")\n",
      "\n",
      "scene.width = 800\n",
      "scene.height = 600\n",
      "\n",
      "scene.autoscale = 0\n",
      "scene.range = (10,10,20)\n",
      "scene.center = (0,0,0)\n",
      "\n",
      "wall_ground = box(pos = (0, -1, 0), size = (40, 1, 40), color = color.green)\n",
      "xaxis = arrow(pos = (0, 0, 0), axis = (10, 0, 0), shaftwidth=0.2)\n",
      "yaxis = arrow(pos = (0, 0, 0), axis = (0, 10, 0), shaftwidth=0.2)\n",
      "zaxis = arrow(pos = (0, 0, 0), axis = (0, 0, 10), shaftwidth=0.2)\n",
      "ball = sphere(pos = (0, 0, 0), radius=0.3, color = color.blue)\n",
      "\n",
      "ball.trail = curve(color=ball.color)\n",
      "ball.velocity = vector(7, 7, 0)\n",
      "vscale = 0.1\n",
      "\n",
      "deltat = 0.005\n",
      "t=0\n",
      "while t < 100:\n",
      "    rate(50)\n",
      "    if ball.pos.y <=-1:\n",
      "        break\n",
      "    ball.velocity.y += -9.8*deltat\n",
      "    ball.pos = ball.pos + ball.velocity*deltat\n",
      "    ball.trail.append(pos=ball.pos)\n",
      "    t = t + deltat"
     ],
     "language": "python",
     "metadata": {},
     "outputs": [
      {
       "html": [
        "<div id=\"scene3\"><div id=\"glowscript\" class=\"glowscript\"></div></div>"
       ],
       "metadata": {},
       "output_type": "display_data",
       "text": [
        "<IPython.core.display.HTML at 0x1831850>"
       ]
      },
      {
       "javascript": [
        "window.__context = { glowscript_container: $(\"#glowscript\").removeAttr(\"id\")}"
       ],
       "metadata": {},
       "output_type": "display_data",
       "text": [
        "<IPython.core.display.Javascript at 0x17dbeb0>"
       ]
      }
     ],
     "prompt_number": 5
    },
    {
     "cell_type": "markdown",
     "metadata": {},
     "source": [
      "## Problem 2\n",
      "\n",
      "Now introduce the air resistence so the equations of motion become:\n",
      "\n",
      "$$\n",
      "\\begin{eqnarray*}\n",
      "  m\\ddot{x} &=& -km\\dot{x}, \\\\\n",
      "  m\\ddot{y} &=& -km\\dot{y}-mg, \\\\\n",
      "  m\\ddot{z} &=& 0,\n",
      "\\end{eqnarray*}\n",
      "$$\n",
      "and initial conditions\n",
      "\n",
      "$$\n",
      "  \\vec{r}(0) = (0, 0, 0), \\\\\n",
      "  \\vec{v}(0) = (v_{x0}, v_{y0}, 0),\n",
      "$$\n",
      "You can assign $v_{x0}$ and $v_{y0}$ in the code or ask user to input it.\n",
      "\n",
      "You should\n",
      "* Use a box to represent the ground.\n",
      "* Use three arrows to represent the three axes.\n",
      "* Use a sphere to represent the ball of the projectile motion.\n",
      "* Leave a trail.\n",
      "* Stop the simulation when the ball hit the ground.\n",
      "\n",
      "\n",
      "You should use to ways to calculate the trajectory of the motion.\n",
      "1. Use exact solution: (Check for example Marion's book).\n",
      "2. Use numerical solution:\n",
      " * $v(t+dt) = v(t) + a * dt$.\n",
      " * $x(t+dt) = x(t) + v(t) * dt$.\n",
      "\n",
      "You should use a small enough $dt$ to ensure the numerical solution is accurate enough.\n"
     ]
    },
    {
     "cell_type": "code",
     "collapsed": false,
     "input": [
      "# Problem 2\n",
      "from ivisual import *\n",
      "\n",
      "scene = canvas(title = \"Three Dimensions Motion\")\n",
      "\n",
      "scene.width = 800\n",
      "scene.height = 600\n",
      "\n",
      "scene.autoscale = 0\n",
      "scene.range = (10,10,20)\n",
      "scene.center = (0,0,0)\n",
      "\n",
      "wall_ground = box(pos = (0, -1, 0), size = (40, 1, 40), color = color.green)\n",
      "xaxis = arrow(pos = (0, 0, 0), axis = (10, 0, 0), shaftwidth=0.2)\n",
      "yaxis = arrow(pos = (0, 0, 0), axis = (0, 10, 0), shaftwidth=0.2)\n",
      "zaxis = arrow(pos = (0, 0, 0), axis = (0, 0, 10), shaftwidth=0.2)\n",
      "ball = sphere(pos = (0, 0, 0), radius=0.3, color = color.blue)\n",
      "\n",
      "ball.trail = curve(color=ball.color)\n",
      "ball.velocity = vector(15, 15, 0)\n",
      "vscale = 0.1\n",
      "k=5\n",
      "\n",
      "deltat = 0.005\n",
      "t=0\n",
      "while t < 100:\n",
      "    rate(50)\n",
      "    if ball.pos.y <=-1:\n",
      "        break\n",
      "    ball.velocity.y += -9.8*deltat-k*ball.velocity.y*deltat\n",
      "    ball.velocity.x += -k*ball.velocity.y*deltat\n",
      "    ball.pos = ball.pos + ball.velocity*deltat\n",
      "    ball.trail.append(pos=ball.pos)\n",
      "    t = t + deltat"
     ],
     "language": "python",
     "metadata": {},
     "outputs": [
      {
       "html": [
        "<div id=\"scene4\"><div id=\"glowscript\" class=\"glowscript\"></div></div>"
       ],
       "metadata": {},
       "output_type": "display_data",
       "text": [
        "<IPython.core.display.HTML at 0x1831fb0>"
       ]
      },
      {
       "javascript": [
        "window.__context = { glowscript_container: $(\"#glowscript\").removeAttr(\"id\")}"
       ],
       "metadata": {},
       "output_type": "display_data",
       "text": [
        "<IPython.core.display.Javascript at 0x1831fd0>"
       ]
      }
     ],
     "prompt_number": 6
    },
    {
     "cell_type": "markdown",
     "metadata": {},
     "source": [
      "## Problem 3\n",
      "\n",
      "Use **ivisual** module to plot the trajectory of a coupled spring-mass system that has two masses, three springs, two walls.\n",
      "\n",
      "Something like Wall-spring1-mass1-spring2-mass2-spring3-Wall.\n",
      "\n",
      "You should\n",
      "* Use a box to represent the ground.\n",
      "* Use two boxes to represent the walls.\n",
      "* Use two **cubic** boxes to represent the two masses.\n",
      "* Use helix to represent the two srpings.\n"
     ]
    },
    {
     "cell_type": "code",
     "collapsed": false,
     "input": [
      "# Problem 3 -\u53c3\u8003\u8ab2\u7a0b\u7db2\u9801Spring\u8a2d\u5b9a\n",
      "from ivisual import *\n",
      "from math import *\n",
      "\n",
      "scene = canvas(title = \"Spring-Mass System\")\n",
      "\n",
      "scene.center=(0.5,0.2,0)\n",
      "\n",
      "L0=vector(0.6,0,0)\n",
      "spring= helix(pos=(-.75,0,0),axis=L0,radius=.1,coils=8,thickness=.01,color=color.cyan)\n",
      "spring2= helix(pos=(.15,0,0),axis=L0,radius=.1,coils=8,thickness=.01,color=color.cyan)\n",
      "spring3= helix(pos=(1.05,0,0),axis=L0,radius=.1,coils=8,thickness=.01,color=color.cyan)\n",
      "mass=box(pos=(0,0,0,),size=(.3,.3,.3),color=color.red)\n",
      "mass2=box(pos=(0.9,0,0,),size=(.3,.3,.3),color=color.red)\n",
      "frictionlessSurface=box(size=(3,.02,.5),pos=(0.5,-.16,0))\n",
      "wall1=box(size=(.04,.5,.3),pos=(-.77,.1,0),color=color.cyan)\n",
      "wall2=box(size=(.04,.5,.3),pos=(1.67,.1,0),color=color.cyan)\n",
      "\n",
      "spring.constant=2 \n",
      "spring2.constant=2\n",
      "spring3.constant=2\n",
      "mass.mass=10 \n",
      "mass2.mass=10 \n",
      "\n",
      "xpos=0.35 \n",
      "mass.pos=vector(xpos,0,0)\n",
      "spring.displacement=mass.pos\n",
      "spring.axis=L0+spring.displacement\n",
      "spring2.displacement=spring.displacement\n",
      "spring2.pos=spring2.pos+spring2.displacement\n",
      "spring2.axis=L0+spring2.displacement\n",
      "spring3.displacement=vector(0,0,0)\n",
      "\n",
      "mass.velocity=vector(0,0,0)\n",
      "mass.acceleration=vector(0,0,0)\n",
      "mass.force=vector(0,0,0)\n",
      "\n",
      "mass2.velocity=vector(0,0,0)\n",
      "mass2.acceleration=vector(0,0,0)\n",
      "mass2.force=vector(0,0,0)\n",
      "\n",
      "def ani():\n",
      "    dt = .01    \n",
      "    seconds = 0\n",
      "    steps=5000 \n",
      "\n",
      "    while seconds < dt*steps:\n",
      "        rate(300)\n",
      "        seconds = seconds + dt\n",
      "         \n",
      "        SpringForce = -spring.constant * spring.displacement+spring2.constant*spring2.displacement\n",
      "        SpringForce2 = -spring2.constant * spring2.displacement+spring3.constant*spring3.displacement\n",
      "        \n",
      "        mass.force = SpringForce\n",
      "        mass2.force = SpringForce2\n",
      "        \n",
      "        mass.velocity += dt*mass.force/mass.mass \n",
      "        mass.pos += mass.velocity*dt\n",
      "        mass2.velocity += dt*mass2.force/mass2.mass\n",
      "        mass2.pos += mass2.velocity*dt\n",
      "        \n",
      "        spring2.pos=mass.pos+vector(mass.size[0]/2.,0,0)\n",
      "        spring3.pos=mass2.pos+vector(mass2.size[0]/2.,0,0)\n",
      "        spring.displacement = mass.pos\n",
      "        spring2.displacement = (mass2.pos-mass.pos-vector(mass.size[0],0,0))-L0\n",
      "        spring3.displacement=(wall2.pos-mass2.pos-vector(mass2.size[0]/2.+wall2.size[0]/2.,wall2.pos[1],wall2.pos[2]))-L0\n",
      "       \n",
      "        spring.axis = L0 + spring.displacement\n",
      "        spring2.axis = L0 + spring2.displacement\n",
      "        spring3.axis = L0 + spring3.displacement"
     ],
     "language": "python",
     "metadata": {},
     "outputs": [
      {
       "html": [
        "<div id=\"scene4\"><div id=\"glowscript\" class=\"glowscript\"></div></div>"
       ],
       "metadata": {},
       "output_type": "display_data",
       "text": [
        "<IPython.core.display.HTML at 0xdcd830>"
       ]
      },
      {
       "javascript": [
        "window.__context = { glowscript_container: $(\"#glowscript\").removeAttr(\"id\")}"
       ],
       "metadata": {},
       "output_type": "display_data",
       "text": [
        "<IPython.core.display.Javascript at 0x18a76b0>"
       ]
      }
     ],
     "prompt_number": 6
    },
    {
     "cell_type": "code",
     "collapsed": false,
     "input": [
      "ani()"
     ],
     "language": "python",
     "metadata": {},
     "outputs": [],
     "prompt_number": 7
    },
    {
     "cell_type": "markdown",
     "metadata": {},
     "source": [
      "# Problem 4\n",
      "\n",
      "Use **ivisual** module to plot the trajectories of 20 particles in a rectangle box.\n",
      "\n",
      "* The rectangle box has the dimension $L_x$, $L_y$, $L_z$.\n",
      "* Use boxes to represent the walls. Keep one wall **invisible**.\n",
      "* The 20 particles should have **random** initial velocity.\n",
      "* The 20 particles should leave a trail.\n",
      "* Make each particle has random RGB color."
     ]
    },
    {
     "cell_type": "code",
     "collapsed": false,
     "input": [
      "# Problem 4\n",
      "from ivisual import *\n",
      "import random\n",
      "\n",
      "scene = canvas(title = \"Free Particle Motion\")\n",
      "\n",
      "scene.width=800\n",
      "scene.height=600\n",
      "\n",
      "scene.autoscale = 0\n",
      "scene.range = (10,10,10)\n",
      "scene.center = (0,0,0)\n",
      "\n",
      "wallR = box(pos=(+6,0,0), size=(0.2,12,12), color=color.green)\n",
      "wallL = box(pos=(-6,0,0), size=(0.2,12,12), color=color.green)\n",
      "wallU = box(pos=(0,+6,0), size=(12,0.2,12), color=color.blue)\n",
      "wallD = box(pos=(0,-6,0), size=(12,0.2,12), color=color.blue)\n",
      "wallB = box(pos=(0,0,-6), size=(12,12,0.2), color=color.red)\n",
      "\n",
      "ball=[] # \u5275\u902020\u500bparticle\u7684list\n",
      "for i in range(20):\n",
      "    ball.append(sphere(pos=(random.uniform(-5,5),random.uniform(-5,5),random.uniform(-5,5)),radius=0.3,color=(random.random(),random.random(),random.random())))\n",
      "    ball[len(ball)-1].velocity=vector(random.uniform(-30,30),random.uniform(-30,30),random.uniform(-30,30))\n",
      "    ball[len(ball)-1].trail=curve(color=ball[len(ball)-1].color)\n",
      "\n",
      "dt=0.005\n",
      "t=0\n",
      "\n",
      "while t<10:\n",
      "    rate(50)\n",
      "    for i in range(len(ball)):\n",
      "        if ball[i].pos.x>wallR.pos.x:\n",
      "            ball[i].velocity.x=-ball[i].velocity.x\n",
      "        if ball[i].pos.x<wallL.pos.x:\n",
      "            ball[i].velocity.x=-ball[i].velocity.x\n",
      "        if ball[i].pos.y>wallU.pos.y:\n",
      "            ball[i].velocity.y=-ball[i].velocity.y\n",
      "        if ball[i].pos.y<wallD.pos.y:\n",
      "            ball[i].velocity.y=-ball[i].velocity.y   \n",
      "        if ball[i].pos.z<wallB.pos.z:\n",
      "            ball[i].velocity.z=-ball[i].velocity.z\n",
      "        if ball[i].pos.z > 6: #\u524d\u9762\u7684\u7246\u672a\u986f\u793a\uff0c\u6240\u4ee5\u53e6\u5916\u8a2d\u5b9a\u7246\u7684\u4f4d\u7f6e\n",
      "            ball[i].velocity.z=-ball[i].velocity.z\n",
      "            \n",
      "        ball[i].pos=ball[i].pos+ball[i].velocity*dt\n",
      "        ball[i].trail.append(pos=ball[i].pos)\n",
      "        \n",
      "    t=t+dt"
     ],
     "language": "python",
     "metadata": {},
     "outputs": [
      {
       "html": [
        "<div id=\"scene0\"><div id=\"glowscript\" class=\"glowscript\"></div></div>"
       ],
       "metadata": {},
       "output_type": "display_data",
       "text": [
        "<IPython.core.display.HTML at 0x4a8c0b0>"
       ]
      },
      {
       "javascript": [
        "require.undef(\"nbextensions/glow.1.0.min\");"
       ],
       "metadata": {},
       "output_type": "display_data",
       "text": [
        "<IPython.core.display.Javascript at 0x1b36c10>"
       ]
      },
      {
       "javascript": [
        "require.undef(\"nbextensions/jquery-ui.custom.min\");"
       ],
       "metadata": {},
       "output_type": "display_data",
       "text": [
        "<IPython.core.display.Javascript at 0x18963d0>"
       ]
      },
      {
       "javascript": [
        "require.undef(\"nbextensions/glow.1.1.min\");"
       ],
       "metadata": {},
       "output_type": "display_data",
       "text": [
        "<IPython.core.display.Javascript at 0xdbdad0>"
       ]
      },
      {
       "javascript": [
        "require.undef(\"nbextensions/glowcomm\");"
       ],
       "metadata": {},
       "output_type": "display_data",
       "text": [
        "<IPython.core.display.Javascript at 0xdbdbf0>"
       ]
      },
      {
       "javascript": [
        "require([\"nbextensions/glowcomm\"], function(){console.log(\"glowcomm loaded\");})"
       ],
       "metadata": {},
       "output_type": "display_data",
       "text": [
        "<IPython.core.display.Javascript at 0xdbdc70>"
       ]
      }
     ]
    },
    {
     "cell_type": "code",
     "collapsed": false,
     "input": [],
     "language": "python",
     "metadata": {},
     "outputs": []
    }
   ],
   "metadata": {}
  }
 ]
}
