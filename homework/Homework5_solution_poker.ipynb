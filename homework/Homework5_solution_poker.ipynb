{
 "metadata": {
  "name": "",
  "signature": "sha256:cd528f9ddeef9ba975670cd248db72a24c6d72514814f803e70012151355e5a8"
 },
 "nbformat": 3,
 "nbformat_minor": 0,
 "worksheets": [
  {
   "cells": [
    {
     "cell_type": "code",
     "collapsed": false,
     "input": [
      "import random\n",
      "\n",
      "class Card(object):\n",
      "    \"\"\"Represents a standard playing card.\n",
      "    \n",
      "    Attributes:\n",
      "      suit: integer 0-3\n",
      "      rank: integer 1-13\n",
      "    \"\"\"\n",
      "\n",
      "    suit_names = [\"Clubs\", \"Diamonds\", \"Hearts\", \"Spades\"]\n",
      "    rank_names = [None, \"Ace\", \"2\", \"3\", \"4\", \"5\", \"6\", \"7\", \n",
      "              \"8\", \"9\", \"10\", \"Jack\", \"Queen\", \"King\"]\n",
      "\n",
      "    def __init__(self, suit=0, rank=2):\n",
      "        self.suit = suit\n",
      "        self.rank = rank\n",
      "\n",
      "    def __str__(self):\n",
      "        \"\"\"Returns a human-readable string representation.\"\"\"\n",
      "        return '%s of %s' % (Card.rank_names[self.rank],\n",
      "                             Card.suit_names[self.suit])\n",
      "\n",
      "    def __cmp__(self, other):\n",
      "        \"\"\"Compares this card to other, first by suit, then rank.\n",
      "\n",
      "        Returns a positive number if this > other; negative if other > this;\n",
      "        and 0 if they are equivalent.\n",
      "        \"\"\"\n",
      "        t1 = self.suit, self.rank\n",
      "        t2 = other.suit, other.rank\n",
      "        return cmp(t1, t2)\n",
      "\n",
      "\n",
      "class Deck(object):\n",
      "    \"\"\"Represents a deck of cards.\n",
      "\n",
      "    Attributes:\n",
      "      cards: list of Card objects.\n",
      "    \"\"\"\n",
      "    \n",
      "    def __init__(self):\n",
      "        self.cards = []\n",
      "        for suit in range(4):\n",
      "            for rank in range(1, 14):\n",
      "                card = Card(suit, rank)\n",
      "                self.cards.append(card)\n",
      "\n",
      "    def __str__(self):\n",
      "        res = []\n",
      "        for card in self.cards:\n",
      "            res.append(str(card))\n",
      "        return '\\n'.join(res)\n",
      "\n",
      "    def add_card(self, card):\n",
      "        \"\"\"Adds a card to the deck.\"\"\"\n",
      "        self.cards.append(card)\n",
      "\n",
      "    def remove_card(self, card):\n",
      "        \"\"\"Removes a card from the deck.\"\"\"\n",
      "        self.cards.remove(card)\n",
      "\n",
      "    def pop_card(self, i=-1):\n",
      "        \"\"\"Removes and returns a card from the deck.\n",
      "\n",
      "        i: index of the card to pop; by default, pops the last card.\n",
      "        \"\"\"\n",
      "        return self.cards.pop(i)\n",
      "\n",
      "    def shuffle(self):\n",
      "        \"\"\"Shuffles the cards in this deck.\"\"\"\n",
      "        random.shuffle(self.cards)\n",
      "\n",
      "    def sort(self):\n",
      "        \"\"\"Sorts the cards in ascending order.\"\"\"\n",
      "        self.cards.sort()\n",
      "\n",
      "    def move_cards(self, hand, num):\n",
      "        \"\"\"Moves the given number of cards from the deck into the Hand.\n",
      "\n",
      "        hand: destination Hand object\n",
      "        num: integer number of cards to move\n",
      "        \"\"\"\n",
      "        for i in range(num):\n",
      "            hand.add_card(self.pop_card())\n",
      "\n",
      "\n",
      "class Hand(Deck):\n",
      "    \"\"\"Represents a hand of playing cards.\"\"\"\n",
      "    \n",
      "    def __init__(self, label=''):\n",
      "        self.cards = []\n",
      "        self.label = label"
     ],
     "language": "python",
     "metadata": {},
     "outputs": [],
     "prompt_number": 1
    },
    {
     "cell_type": "code",
     "collapsed": false,
     "input": [
      "class PokerHand(Hand):\n",
      "\n",
      "    def make_histograms(self):\n",
      "        \"\"\"Builds a histogram of the suits that appear in the hand.\n",
      "\n",
      "        Stores the result in attribute suits.\n",
      "        \"\"\"\n",
      "        self.suits = {}\n",
      "        self.ranks = {}\n",
      "        for card in self.cards:\n",
      "            self.suits[card.suit] = self.suits.get(card.suit, 0) + 1\n",
      "            self.ranks[card.rank] = self.ranks.get(card.rank, 0) + 1\n",
      "        \n",
      "        self.sets = self.ranks.values()\n",
      "        self.sets.sort(reverse=True)\n",
      "        \n",
      "    def has_pair(self):\n",
      "        \"\"\"Checks whether this hand has a pair.\"\"\"\n",
      "        self.make_histograms()\n",
      "        for i in range(len(self.sets)):\n",
      "            if self.sets[i] == 2:\n",
      "                return True\n",
      "        return False\n",
      "\n",
      "    def has_twopair(self):\n",
      "        \"\"\"Checks whether this hand has two pair.\"\"\"\n",
      "        self.make_histograms()\n",
      "        for i in range(len(self.sets)-1):\n",
      "            if self.sets[i] == 2 and self.sets[i+1] == 2:\n",
      "                return True\n",
      "        return False\n",
      "\n",
      "    def has_threekind(self):\n",
      "        \"\"\"Checks whether this hand has three of a kind.\"\"\"\n",
      "        self.make_histograms()\n",
      "        for i in range(len(self.sets)):\n",
      "            if self.sets[i] == 3:\n",
      "                return True\n",
      "        return False\n",
      "\n",
      "        \n",
      "    def has_fourkind(self):\n",
      "        \"\"\"Checks whether this hand has four of a kind.\"\"\"\n",
      "        self.make_histograms()\n",
      "        for i in range(len(self.sets)):\n",
      "            if self.sets[i] == 4:\n",
      "                return True\n",
      "        return False\n",
      "    \n",
      "    def has_fullhouse(self):\n",
      "        \"\"\"Checks whether this hand has a full house.\"\"\"\n",
      "        self.make_histograms()\n",
      "        for i in range(len(self.sets)-1):\n",
      "            if self.sets[i] == 3 and self.sets[i+1] == 2:\n",
      "                return True\n",
      "        return False\n",
      "\n",
      "    def has_straight(self):\n",
      "        \"\"\"Checks whether this hand has a straight.\"\"\"        \n",
      "        self.make_histograms()\n",
      "        \n",
      "        myranks = self.ranks.keys()\n",
      "        myranks.sort()\n",
      "        if 1 in myranks:\n",
      "            myranks.append(14)\n",
      "        \n",
      "        for ini in range(len(myranks)-5+1):\n",
      "            straight = True\n",
      "            for i in range(4):\n",
      "                if myranks[ini+i]+1 != myranks[ini+i+1]:\n",
      "                    straight = False\n",
      "                    break\n",
      "            if straight != False:\n",
      "                return True\n",
      "        return False\n",
      "\n",
      "    \n",
      "    def has_straightflush(self):\n",
      "        \"\"\"Checks whether this hand has a straight flush.\n",
      "\n",
      "        Better algorithm (in the sense of being more demonstrably\n",
      "        correct).\n",
      "        \"\"\"\n",
      "        # partition the hand by suit and check each\n",
      "        # sub-hand for a straight\n",
      "        d = {}\n",
      "        d[0] = PokerHand()\n",
      "        d[1] = PokerHand()\n",
      "        d[2] = PokerHand()\n",
      "        d[3] = PokerHand()\n",
      "        \n",
      "        for c in self.cards:\n",
      "            d[c.suit].add_card(c)\n",
      "\n",
      "        # see if any of the partitioned hands has a straight\n",
      "        for hand in d.values():\n",
      "            if len(hand.cards) < 5:\n",
      "                continue            \n",
      "            hand.make_histograms()\n",
      "            if hand.has_straight():\n",
      "                return True\n",
      "        return False\n",
      "    \n",
      "    def has_flush(self):\n",
      "        \"\"\"Returns True if the hand has a flush, False otherwise.\n",
      "      \n",
      "        Note that this works correctly for hands with more than 5 cards.\n",
      "        \"\"\"\n",
      "        self.make_histograms()\n",
      "        for val in self.suits.values():\n",
      "            if val >= 5:\n",
      "                return True\n",
      "        return False"
     ],
     "language": "python",
     "metadata": {},
     "outputs": [],
     "prompt_number": 2
    },
    {
     "cell_type": "code",
     "collapsed": false,
     "input": [
      "# straight flush\n",
      "hand = PokerHand()\n",
      "\n",
      "hand.add_card(Card(2,1))\n",
      "hand.add_card(Card(1,1))\n",
      "hand.add_card(Card(0,3))\n",
      "hand.add_card(Card(0,4))\n",
      "hand.add_card(Card(0,5))\n",
      "hand.add_card(Card(0,6))\n",
      "hand.add_card(Card(0,7))\n",
      "\n",
      "print hand.has_straightflush()"
     ],
     "language": "python",
     "metadata": {},
     "outputs": [
      {
       "output_type": "stream",
       "stream": "stdout",
       "text": [
        "True\n"
       ]
      }
     ],
     "prompt_number": 3
    },
    {
     "cell_type": "code",
     "collapsed": false,
     "input": [
      "# pair\n",
      "hand = PokerHand()\n",
      "\n",
      "hand.add_card(Card(0,1))\n",
      "hand.add_card(Card(1,1))\n",
      "hand.add_card(Card(2,2))\n",
      "hand.add_card(Card(3,3))\n",
      "hand.add_card(Card(0,4))\n",
      "hand.add_card(Card(1,5))\n",
      "hand.add_card(Card(2,6))\n",
      "\n",
      "print hand.has_pair()"
     ],
     "language": "python",
     "metadata": {},
     "outputs": [
      {
       "output_type": "stream",
       "stream": "stdout",
       "text": [
        "True\n"
       ]
      }
     ],
     "prompt_number": 4
    },
    {
     "cell_type": "code",
     "collapsed": false,
     "input": [
      "# two-pair\n",
      "hand = PokerHand()\n",
      "\n",
      "hand.add_card(Card(0,1))\n",
      "hand.add_card(Card(1,1))\n",
      "hand.add_card(Card(2,2))\n",
      "hand.add_card(Card(3,2))\n",
      "hand.add_card(Card(0,4))\n",
      "hand.add_card(Card(1,5))\n",
      "hand.add_card(Card(2,6))\n",
      "\n",
      "print hand.has_twopair()"
     ],
     "language": "python",
     "metadata": {},
     "outputs": [
      {
       "output_type": "stream",
       "stream": "stdout",
       "text": [
        "True\n"
       ]
      }
     ],
     "prompt_number": 5
    },
    {
     "cell_type": "code",
     "collapsed": false,
     "input": [
      "# threekind\n",
      "hand = PokerHand()\n",
      "\n",
      "hand.add_card(Card(0,1))\n",
      "hand.add_card(Card(1,1))\n",
      "hand.add_card(Card(2,2))\n",
      "hand.add_card(Card(3,2))\n",
      "hand.add_card(Card(0,4))\n",
      "hand.add_card(Card(1,5))\n",
      "hand.add_card(Card(2,1))\n",
      "\n",
      "print hand.has_threekind()"
     ],
     "language": "python",
     "metadata": {},
     "outputs": [
      {
       "output_type": "stream",
       "stream": "stdout",
       "text": [
        "True\n"
       ]
      }
     ],
     "prompt_number": 6
    },
    {
     "cell_type": "code",
     "collapsed": false,
     "input": [
      "# fourkind\n",
      "hand = PokerHand()\n",
      "\n",
      "hand.add_card(Card(0,1))\n",
      "hand.add_card(Card(1,1))\n",
      "hand.add_card(Card(2,2))\n",
      "hand.add_card(Card(3,1))\n",
      "hand.add_card(Card(0,4))\n",
      "hand.add_card(Card(1,5))\n",
      "hand.add_card(Card(2,1))\n",
      "\n",
      "print hand.has_fourkind()"
     ],
     "language": "python",
     "metadata": {},
     "outputs": [
      {
       "output_type": "stream",
       "stream": "stdout",
       "text": [
        "True\n"
       ]
      }
     ],
     "prompt_number": 7
    },
    {
     "cell_type": "code",
     "collapsed": false,
     "input": [
      "# straight\n",
      "hand = PokerHand()\n",
      "\n",
      "hand.add_card(Card(0,1))\n",
      "hand.add_card(Card(1,1))\n",
      "hand.add_card(Card(2,3))\n",
      "hand.add_card(Card(3,4))\n",
      "hand.add_card(Card(0,5))\n",
      "hand.add_card(Card(1,6))\n",
      "hand.add_card(Card(2,7))\n",
      "\n",
      "print hand.has_straight()"
     ],
     "language": "python",
     "metadata": {},
     "outputs": [
      {
       "output_type": "stream",
       "stream": "stdout",
       "text": [
        "True\n"
       ]
      }
     ],
     "prompt_number": 8
    },
    {
     "cell_type": "code",
     "collapsed": false,
     "input": [
      "# straight\n",
      "hand = PokerHand()\n",
      "\n",
      "hand.add_card(Card(0,1))\n",
      "hand.add_card(Card(1,3))\n",
      "hand.add_card(Card(2,3))\n",
      "hand.add_card(Card(3,10))\n",
      "hand.add_card(Card(0,11))\n",
      "hand.add_card(Card(1,12))\n",
      "hand.add_card(Card(2,13))\n",
      "\n",
      "print hand.has_straight()"
     ],
     "language": "python",
     "metadata": {},
     "outputs": [
      {
       "output_type": "stream",
       "stream": "stdout",
       "text": [
        "True\n"
       ]
      }
     ],
     "prompt_number": 9
    },
    {
     "cell_type": "code",
     "collapsed": false,
     "input": [
      "# flush\n",
      "hand = PokerHand()\n",
      "\n",
      "hand.add_card(Card(0,1))\n",
      "hand.add_card(Card(1,3))\n",
      "hand.add_card(Card(0,4))\n",
      "hand.add_card(Card(3,7))\n",
      "hand.add_card(Card(0,8))\n",
      "hand.add_card(Card(0,9))\n",
      "hand.add_card(Card(0,12))\n",
      "\n",
      "print hand.has_flush()"
     ],
     "language": "python",
     "metadata": {},
     "outputs": [
      {
       "output_type": "stream",
       "stream": "stdout",
       "text": [
        "True\n"
       ]
      }
     ],
     "prompt_number": 10
    },
    {
     "cell_type": "code",
     "collapsed": false,
     "input": [
      "# straight flush\n",
      "hand = PokerHand()\n",
      "\n",
      "hand.add_card(Card(0,1))\n",
      "hand.add_card(Card(1,1))\n",
      "hand.add_card(Card(0,3))\n",
      "hand.add_card(Card(0,4))\n",
      "hand.add_card(Card(0,5))\n",
      "hand.add_card(Card(0,6))\n",
      "hand.add_card(Card(0,7))\n",
      "\n",
      "print hand.has_straightflush()"
     ],
     "language": "python",
     "metadata": {},
     "outputs": [
      {
       "output_type": "stream",
       "stream": "stdout",
       "text": [
        "True\n"
       ]
      }
     ],
     "prompt_number": 11
    },
    {
     "cell_type": "code",
     "collapsed": false,
     "input": [
      "# make a deck\n",
      "\n",
      "deck = Deck()\n",
      "deck.shuffle()\n",
      "\n",
      "# deal the cards and classify the hands\n",
      "hand = PokerHand()\n",
      "deck.move_cards(hand, 5)\n",
      "hand.sort()\n",
      "print hand\n",
      "print hand.has_twopair()"
     ],
     "language": "python",
     "metadata": {},
     "outputs": [
      {
       "output_type": "stream",
       "stream": "stdout",
       "text": [
        "4 of Clubs\n",
        "Jack of Diamonds\n",
        "Queen of Diamonds\n",
        "8 of Hearts\n",
        "6 of Spades\n",
        "False\n"
       ]
      }
     ],
     "prompt_number": 12
    },
    {
     "cell_type": "code",
     "collapsed": false,
     "input": [
      "n = 10000\n",
      "sum = {'pair':0, 'twopair':0,'threekind':0,'fourkind':0, 'straight':0, 'flush':0, 'fullhouse':0, 'straightflush':0}\n",
      "for i in range(n):\n",
      "    if i%1000 == 0:\n",
      "        print i\n",
      "         \n",
      "    deck = Deck()\n",
      "    deck.shuffle()\n",
      "    \n",
      "    for j in range(7):\n",
      "        hand = PokerHand()\n",
      "        deck.move_cards(hand, 5)\n",
      "        \n",
      "        if hand.has_pair():\n",
      "            sum['pair'] += 1\n",
      "        if hand.has_twopair():\n",
      "            sum['twopair'] += 1\n",
      "        if hand.has_threekind():\n",
      "            sum['threekind'] += 1\n",
      "        if hand.has_fourkind():\n",
      "            sum['fourkind'] += 1\n",
      "        if hand.has_straight():\n",
      "            sum['straight'] += 1\n",
      "        if hand.has_flush():\n",
      "            sum['flush'] += 1\n",
      "        if hand.has_fullhouse():\n",
      "            sum['fullhouse'] += 1\n",
      "        if hand.has_straightflush():\n",
      "            sum['straightflush'] += 1\n",
      "    \n",
      "for key in sorted(sum, key=sum.get):\n",
      "    print key,':', sum[key]\n",
      "    print 'prob=', sum[key]/float(7*n)"
     ],
     "language": "python",
     "metadata": {},
     "outputs": [
      {
       "output_type": "stream",
       "stream": "stdout",
       "text": [
        "0\n",
        "1000"
       ]
      },
      {
       "output_type": "stream",
       "stream": "stdout",
       "text": [
        "\n",
        "2000"
       ]
      },
      {
       "output_type": "stream",
       "stream": "stdout",
       "text": [
        "\n",
        "3000"
       ]
      },
      {
       "output_type": "stream",
       "stream": "stdout",
       "text": [
        "\n",
        "4000"
       ]
      },
      {
       "output_type": "stream",
       "stream": "stdout",
       "text": [
        "\n",
        "5000"
       ]
      },
      {
       "output_type": "stream",
       "stream": "stdout",
       "text": [
        "\n",
        "6000"
       ]
      },
      {
       "output_type": "stream",
       "stream": "stdout",
       "text": [
        "\n",
        "7000"
       ]
      },
      {
       "output_type": "stream",
       "stream": "stdout",
       "text": [
        "\n",
        "8000"
       ]
      },
      {
       "output_type": "stream",
       "stream": "stdout",
       "text": [
        "\n",
        "9000"
       ]
      },
      {
       "output_type": "stream",
       "stream": "stdout",
       "text": [
        "\n",
        "straightflush"
       ]
      },
      {
       "output_type": "stream",
       "stream": "stdout",
       "text": [
        " : 1\n",
        "prob= 1.42857142857e-05\n",
        "fourkind : 15\n",
        "prob= 0.000214285714286\n",
        "fullhouse : 101\n",
        "prob= 0.00144285714286\n",
        "flush : 140\n",
        "prob= 0.002\n",
        "straight : 275\n",
        "prob= 0.00392857142857\n",
        "threekind : 1473\n",
        "prob= 0.0210428571429\n",
        "twopair : 3328\n",
        "prob= 0.0475428571429\n",
        "pair : 33017\n",
        "prob= 0.471671428571\n"
       ]
      }
     ],
     "prompt_number": 54
    },
    {
     "cell_type": "code",
     "collapsed": false,
     "input": [],
     "language": "python",
     "metadata": {},
     "outputs": []
    }
   ],
   "metadata": {}
  }
 ]
}