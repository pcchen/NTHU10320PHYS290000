{
 "metadata": {
  "name": "",
  "signature": "sha256:d90ed54ae378f59b27eca79c742fdce768f2e65063c7b3f033f90c3a85e926a9"
 },
 "nbformat": 3,
 "nbformat_minor": 0,
 "worksheets": [
  {
   "cells": [
    {
     "cell_type": "code",
     "collapsed": false,
     "input": [
      "%pylab inline\n",
      "?figure"
     ],
     "language": "python",
     "metadata": {},
     "outputs": [
      {
       "output_type": "stream",
       "stream": "stdout",
       "text": [
        "Populating the interactive namespace from numpy and matplotlib\n"
       ]
      }
     ],
     "prompt_number": 1
    },
    {
     "cell_type": "code",
     "collapsed": false,
     "input": [
      "def f1(alpha):\n",
      "    n=0\n",
      "    t=0.5\n",
      "    while n<=1000:\n",
      "        t=alpha*t*(1-t)\n",
      "        n=n+1\n",
      "    return t\n",
      "def f2(alpha):\n",
      "    m=0\n",
      "    y=f1(alpha)\n",
      "    for m in range(1000):\n",
      "        y=alpha*y*(1-y)\n",
      "        plot(alpha,y,'k-')\n",
      "    show()\n",
      "alpha=linspace(1,4,300)\n",
      "f2(alpha)"
     ],
     "language": "python",
     "metadata": {},
     "outputs": [
      {
       "metadata": {},
       "output_type": "display_data",
       "png": "[encoded data removed]",
       "text": [
        "<matplotlib.figure.Figure at 0x9d42e10>"
       ]
      }
     ],
     "prompt_number": 2
    },
    {
     "cell_type": "code",
     "collapsed": false,
     "input": [
      "def f(n):\n",
      "    z=0\n",
      "    x=linspace(-2,2,n)\n",
      "    y=linspace(-2,2,n)\n",
      "    c=x+1j*y\n",
      "    m=0\n",
      "    for m in range(n):\n",
      "        z=z**2+c\n",
      "    if abs(z.any())>2:\n",
      "        plot(x,y,'w')\n",
      "    else:\n",
      "        plot(x,y,'ko')\n",
      "    show()\n",
      "f(10)"
     ],
     "language": "python",
     "metadata": {},
     "outputs": [
      {
       "metadata": {},
       "output_type": "display_data",
       "png": "[encoded data removed]",
       "text": [
        "<matplotlib.figure.Figure at 0x9d42e48>"
       ]
      }
     ],
     "prompt_number": 4
    },
    {
     "cell_type": "code",
     "collapsed": false,
     "input": [
      "n=100\n",
      "x = np.linspace(-2, 2, n)\n",
      "y = np.linspace(-2, 2, n)\n",
      "xx, yy = meshgrid(x, y)\n",
      "\n",
      "c=xx+1j*yy\n",
      "print c[8,2]\n",
      "s=0\n",
      "t=0\n",
      "z=0\n",
      "m=0\n",
      "for s in range(n):\n",
      "    for t in range(n):\n",
      "        for m in range(n):\n",
      "            z=z**2+c[s,t]\n",
      "        if abs(z)>2:\n",
      "            plot(x,y,'w')\n",
      "        else:\n",
      "            plot(x,y,'k')\n",
      "show()\n",
      "        "
     ],
     "language": "python",
     "metadata": {},
     "outputs": [
      {
       "output_type": "stream",
       "stream": "stdout",
       "text": [
        "(-1.91919191919-1.67676767677j)\n"
       ]
      },
      {
       "metadata": {},
       "output_type": "display_data",
       "png": "[encoded data removed]",
       "text": [
        "<matplotlib.figure.Figure at 0xc8212b0>"
       ]
      }
     ],
     "prompt_number": 33
    },
    {
     "cell_type": "code",
     "collapsed": false,
     "input": [
      "n=100\n",
      "x = np.linspace(-2, 2, n)\n",
      "y = np.linspace(-2, 2, n)\n",
      "xx, yy = meshgrid(x, y)\n",
      "\n",
      "c=xx+1j*yy\n",
      "\n",
      "s=0\n",
      "t=0\n",
      "z=np.zeros((n,n))\n",
      "m=0\n",
      "for s in range(n):\n",
      "    for t in range(n):\n",
      "        for m in range(n):\n",
      "            z[s,t]=z[s,t]**2+c[s,t]\n",
      "            if abs(z[s,t])>2:\n",
      "                plot(c.real[s,t],c.imag[s,t],'w')\n",
      "            else:\n",
      "                plot(c.real[s,t],c.imag[s,t],'ko')\n",
      "show()"
     ],
     "language": "python",
     "metadata": {},
     "outputs": []
    },
    {
     "cell_type": "code",
     "collapsed": false,
     "input": [
      "n=10\n",
      "x = np.linspace(-2, 2, n)\n",
      "y = np.linspace(-2, 2, n)\n",
      "xx, yy = meshgrid(x, y)\n",
      "\n",
      "c=xx+1j*yy\n",
      "\n",
      "s=0\n",
      "t=0\n",
      "z=np.zeros((n,n))\n",
      "print z\n",
      "print c[1,2]\n",
      "print z[1,2]**2+c[1,2]\n",
      "print abs(z[1,2]**2+c[1,2])\n",
      "print c.imag[1,2]\n",
      "c[1,2]=c[1,2]+(2+2j)\n",
      "print c[1,2]\n",
      "print c[0,0]"
     ],
     "language": "python",
     "metadata": {},
     "outputs": [
      {
       "output_type": "stream",
       "stream": "stdout",
       "text": [
        "[[ 0.  0.  0.  0.  0.  0.  0.  0.  0.  0.]\n",
        " [ 0.  0.  0.  0.  0.  0.  0.  0.  0.  0.]\n",
        " [ 0.  0.  0.  0.  0.  0.  0.  0.  0.  0.]\n",
        " [ 0.  0.  0.  0.  0.  0.  0.  0.  0.  0.]\n",
        " [ 0.  0.  0.  0.  0.  0.  0.  0.  0.  0.]\n",
        " [ 0.  0.  0.  0.  0.  0.  0.  0.  0.  0.]\n",
        " [ 0.  0.  0.  0.  0.  0.  0.  0.  0.  0.]\n",
        " [ 0.  0.  0.  0.  0.  0.  0.  0.  0.  0.]\n",
        " [ 0.  0.  0.  0.  0.  0.  0.  0.  0.  0.]\n",
        " [ 0.  0.  0.  0.  0.  0.  0.  0.  0.  0.]]\n",
        "(-1.11111111111-1.55555555556j)\n",
        "(-1.11111111111-1.55555555556j)\n",
        "1.91162783712\n",
        "-1.55555555556\n",
        "(0.888888888889+0.444444444444j)\n",
        "(-2-2j)\n"
       ]
      }
     ],
     "prompt_number": 73
    },
    {
     "cell_type": "code",
     "collapsed": false,
     "input": [],
     "language": "python",
     "metadata": {},
     "outputs": []
    }
   ],
   "metadata": {}
  }
 ]
}