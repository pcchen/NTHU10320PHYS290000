{
 "metadata": {
  "name": "",
  "signature": "sha256:ba59c0b688492f1ce83835dea18b7f9a6cb9eeaa2f5ec5dec1df48056908074f"
 },
 "nbformat": 3,
 "nbformat_minor": 0,
 "worksheets": [
  {
   "cells": [
    {
     "cell_type": "markdown",
     "metadata": {},
     "source": [
      "# Problem 1:\n",
      "# String and Dictionary\n",
      "\n",
      "In the first part, you should create a dictionary with following mapping between characters (character=one character string).\n",
      "* dic['a']='z'\n",
      "* dic['b']='y'\n",
      "* ...\n",
      "* dic['y']='b'\n",
      "* dic['z']='a'\n",
      "\n",
      "You should use built-in function `ord` and `chr` to build the dictionary. \n",
      "* The function `ord` convert a character into an integer. \n",
      "* The function `chr` convert an integer into a character. \n",
      "\n",
      "Here are some examples:"
     ]
    },
    {
     "cell_type": "code",
     "collapsed": false,
     "input": [
      "print ord('a'), ord('b'), ord('y'), ord('z')\n",
      "ord('c')\n",
      "eng2sp = dict()\n",
      "eng2sp['a'] = chr(122)\n",
      "for i in range(0, 26, +1):\n",
      "  eng2sp[chr(97+i)] = chr(122-i)\n",
      "print eng2sp\n",
      "eng2sp"
     ],
     "language": "python",
     "metadata": {},
     "outputs": [
      {
       "output_type": "stream",
       "stream": "stdout",
       "text": [
        "97 98 121 122\n",
        "{'a': 'z', 'c': 'x', 'b': 'y', 'e': 'v', 'd': 'w', 'g': 't', 'f': 'u', 'i': 'r', 'h': 's', 'k': 'p', 'j': 'q', 'm': 'n', 'l': 'o', 'o': 'l', 'n': 'm', 'q': 'j', 'p': 'k', 's': 'h', 'r': 'i', 'u': 'f', 't': 'g', 'w': 'd', 'v': 'e', 'y': 'b', 'x': 'c', 'z': 'a'}\n"
       ]
      },
      {
       "metadata": {},
       "output_type": "pyout",
       "prompt_number": 25,
       "text": [
        "{'a': 'z',\n",
        " 'b': 'y',\n",
        " 'c': 'x',\n",
        " 'd': 'w',\n",
        " 'e': 'v',\n",
        " 'f': 'u',\n",
        " 'g': 't',\n",
        " 'h': 's',\n",
        " 'i': 'r',\n",
        " 'j': 'q',\n",
        " 'k': 'p',\n",
        " 'l': 'o',\n",
        " 'm': 'n',\n",
        " 'n': 'm',\n",
        " 'o': 'l',\n",
        " 'p': 'k',\n",
        " 'q': 'j',\n",
        " 'r': 'i',\n",
        " 's': 'h',\n",
        " 't': 'g',\n",
        " 'u': 'f',\n",
        " 'v': 'e',\n",
        " 'w': 'd',\n",
        " 'x': 'c',\n",
        " 'y': 'b',\n",
        " 'z': 'a'}"
       ]
      }
     ],
     "prompt_number": 25
    },
    {
     "cell_type": "code",
     "collapsed": false,
     "input": [
      "print chr(97), chr(98), chr(121), chr(122)"
     ],
     "language": "python",
     "metadata": {},
     "outputs": [
      {
       "output_type": "stream",
       "stream": "stdout",
       "text": [
        "a b y z\n"
       ]
      }
     ],
     "prompt_number": 9
    },
    {
     "cell_type": "markdown",
     "metadata": {},
     "source": [
      "Please implement a function called `inverse(c)` that gives you the mapping."
     ]
    },
    {
     "cell_type": "code",
     "collapsed": false,
     "input": [
      "# define inverse(c) here, you should have\n",
      "# inverse('a') --> 'z'\n",
      "# inverse('z') --> 'a'\n",
      "\n",
      "def inverse(c):\n",
      "    b = 122-ord(c)+97    \n",
      "    return chr(b)\n",
      "    print chr(b)\n",
      "# test your function\n",
      "print inverse('a')\n",
      "print inverse('z')\n",
      "print inverse('c')"
     ],
     "language": "python",
     "metadata": {},
     "outputs": [
      {
       "output_type": "stream",
       "stream": "stdout",
       "text": [
        "z\n",
        "a\n",
        "x\n"
       ]
      }
     ],
     "prompt_number": 29
    },
    {
     "cell_type": "markdown",
     "metadata": {},
     "source": [
      "Please create the inverse mapping dictionary: `dic`."
     ]
    },
    {
     "cell_type": "code",
     "collapsed": false,
     "input": [
      "# create the inverse mapping dictionary\n",
      "dic = {}\n",
      "n=1\n",
      "while n<=26:\n",
      "    dic[chr(96+n)] = inverse(chr(96+n))\n",
      "    n=n+1\n",
      "    \n",
      "# test your dictionary\n",
      "print dic"
     ],
     "language": "python",
     "metadata": {},
     "outputs": [
      {
       "output_type": "stream",
       "stream": "stdout",
       "text": [
        "{'a': 'z', 'c': 'x', 'b': 'y', 'e': 'v', 'd': 'w', 'g': 't', 'f': 'u', 'i': 'r', 'h': 's', 'k': 'p', 'j': 'q', 'm': 'n', 'l': 'o', 'o': 'l', 'n': 'm', 'q': 'j', 'p': 'k', 's': 'h', 'r': 'i', 'u': 'f', 't': 'g', 'w': 'd', 'v': 'e', 'y': 'b', 'x': 'c', 'z': 'a'}\n"
       ]
      }
     ],
     "prompt_number": 30
    },
    {
     "cell_type": "markdown",
     "metadata": {},
     "source": [
      "In the second step, you should use the dictionary you construct to write a function that takes a string as an argument and return a string with inverse characters.\n",
      "\n",
      "Please implement the string inversion function `str_inversion'. You should get, for example,\n",
      "\n",
      "``\n",
      "print str_inversion('abc')\n",
      "zyx\n",
      "``"
     ]
    },
    {
     "cell_type": "code",
     "collapsed": false,
     "input": [
      "# str_inversion\n",
      "# define inverse(c) here, you should have\n",
      "# inverse('a') --> 'z'\n",
      "# inverse('z') --> 'a'\n",
      "def inverse(c):\n",
      "    b = 122-ord(c)+97    \n",
      "    return chr(b)\n",
      "    print chr(b)\n",
      "    \n",
      "    \n",
      "\n",
      "# test your function\n",
      "print inverse('a')\n",
      "print inverse('z')\n"
     ],
     "language": "python",
     "metadata": {},
     "outputs": [
      {
       "output_type": "stream",
       "stream": "stdout",
       "text": [
        "z\n",
        "a\n"
       ]
      }
     ],
     "prompt_number": 33
    },
    {
     "cell_type": "code",
     "collapsed": false,
     "input": [
      "# test your function\n",
      "def str_inversion(s):\n",
      "    t=()\n",
      "    for c in s:\n",
      "        t = t[0:] + (inverse(c),)\n",
      "    \n",
      "    g=len(t)\n",
      "\n",
      "    a='%s'*g % (t[0],t[1],t[2])\n",
      "    return a\n",
      "        \n",
      "    pass\n",
      "str_inversion('abc')\n",
      "print str_inversion('abc')"
     ],
     "language": "python",
     "metadata": {},
     "outputs": [
      {
       "output_type": "stream",
       "stream": "stdout",
       "text": [
        "zyx\n"
       ]
      }
     ],
     "prompt_number": 31
    },
    {
     "cell_type": "code",
     "collapsed": false,
     "input": [],
     "language": "python",
     "metadata": {},
     "outputs": []
    }
   ],
   "metadata": {}
  }
 ]
}