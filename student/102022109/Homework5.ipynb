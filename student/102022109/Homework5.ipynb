{
 "metadata": {
  "name": "",
  "signature": "sha256:b2eba51935847b607e348c14668d35711158f3e2d80e0addeb7b2082f7192e6d"
 },
 "nbformat": 3,
 "nbformat_minor": 0,
 "worksheets": [
  {
   "cells": [
    {
     "cell_type": "markdown",
     "metadata": {},
     "source": [
      "# Homework 5"
     ]
    },
    {
     "cell_type": "markdown",
     "metadata": {},
     "source": [
      "## Problem 1\n",
      "\n",
      "Consider the damped oscillation\n",
      "$$\n",
      "  \\ddot{x} + 2\\beta\\dot{x} + \\omega^2_0 x =0.\n",
      "$$\n",
      "\n",
      "For a given set of $\\beta$ and $\\omega_0$ and initial conditions $x(0)$ and $\\dot{x}(0)$:\n",
      "* Plot $x(t)$.\n",
      "* Plot $E(t)$.\n",
      "* Plot $dE(t)/dt$.\n",
      "* Plot the phase-path on the $x-\\dot{x}$ plane."
     ]
    },
    {
     "cell_type": "code",
     "collapsed": false,
     "input": [
      "# Problem 1.1 Plot x(t)\n",
      "import math\n",
      "%pylab inline\n",
      "t=arange(0, 10, 0.1)\n",
      "x=exp(-t)*cos(math.sqrt(3)*t)\n",
      "plot(t,x)"
     ],
     "language": "python",
     "metadata": {},
     "outputs": [
      {
       "output_type": "stream",
       "stream": "stdout",
       "text": [
        "Populating the interactive namespace from numpy and matplotlib\n"
       ]
      },
      {
       "metadata": {},
       "output_type": "pyout",
       "prompt_number": 18,
       "text": [
        "[<matplotlib.lines.Line2D at 0xa2930b8>]"
       ]
      },
      {
       "metadata": {},
       "output_type": "display_data",
       "png": "[encoded data removed]",
       "text": [
        "<matplotlib.figure.Figure at 0xa2400b8>"
       ]
      }
     ],
     "prompt_number": 18
    },
    {
     "cell_type": "code",
     "collapsed": false,
     "input": [
      "# Problem 1.2 Plot E(t)\n",
      "import math\n",
      "%pylab inline\n",
      "t=arange(0, 10, 0.1)\n",
      "x=exp(-t)*cos(math.sqrt(3)*t)\n",
      "dx=-exp(-t)*cos(math.sqrt(3)*t)-math.sqrt(3)*exp(-t)*sin(math.sqrt(3)*t)\n",
      "e=2*x**2+0.5*(dx)**2\n",
      "plot(t,e)"
     ],
     "language": "python",
     "metadata": {},
     "outputs": [
      {
       "output_type": "stream",
       "stream": "stdout",
       "text": [
        "Populating the interactive namespace from numpy and matplotlib\n"
       ]
      },
      {
       "metadata": {},
       "output_type": "pyout",
       "prompt_number": 19,
       "text": [
        "[<matplotlib.lines.Line2D at 0xab9f438>]"
       ]
      },
      {
       "metadata": {},
       "output_type": "display_data",
       "png": "[encoded data removed]",
       "text": [
        "<matplotlib.figure.Figure at 0x9fb2b38>"
       ]
      }
     ],
     "prompt_number": 19
    },
    {
     "cell_type": "code",
     "collapsed": false,
     "input": [
      "# Problem 1.3 x\u2212x\u02d9\n",
      "import math\n",
      "%pylab inline\n",
      "t=arange(0, 10, 0.02)\n",
      "x=exp(-t)*cos(math.sqrt(3)*t)\n",
      "dx=-exp(-t)*cos(math.sqrt(3)*t)-math.sqrt(3)*exp(-t)*sin(math.sqrt(3)*t)\n",
      "plot(x,dx)"
     ],
     "language": "python",
     "metadata": {},
     "outputs": [
      {
       "output_type": "stream",
       "stream": "stdout",
       "text": [
        "Populating the interactive namespace from numpy and matplotlib\n"
       ]
      },
      {
       "metadata": {},
       "output_type": "pyout",
       "prompt_number": 21,
       "text": [
        "[<matplotlib.lines.Line2D at 0xaf7af60>]"
       ]
      },
      {
       "metadata": {},
       "output_type": "display_data",
       "png": "[encoded data removed]",
       "text": [
        "<matplotlib.figure.Figure at 0xa39c470>"
       ]
      }
     ],
     "prompt_number": 21
    },
    {
     "cell_type": "markdown",
     "metadata": {},
     "source": [
      "## Problem 2\n",
      "\n",
      "Consider the driven oscillation\n",
      "$$\n",
      "  \\ddot{x} + 2\\beta\\dot{x} + \\omega^2_0 x = A\\cos(\\omega t).\n",
      "$$\n",
      "\n",
      "For a given set of $\\beta$, $\\omega_0$ and $\\omega$:\n",
      "* Plot quality factor $Q$ as a function of $\\omega$.\n",
      "* Plot phase angle $\\delta$ as a function of $\\omega$.\n",
      "* Use IPython Interact to let the user changes the values of $\\beta$, $\\omega_0$ and $\\omega$."
     ]
    },
    {
     "cell_type": "code",
     "collapsed": false,
     "input": [
      "# Problem 2.1\n",
      "%pylab inline\n",
      "w = arange(0, 25, 0.1)\n",
      "D = 1/((4-w**2)**2+4*w**2)**0.5\n",
      "plot(w,D)\n"
     ],
     "language": "python",
     "metadata": {},
     "outputs": [
      {
       "output_type": "stream",
       "stream": "stdout",
       "text": [
        "Populating the interactive namespace from numpy and matplotlib\n"
       ]
      },
      {
       "metadata": {},
       "output_type": "pyout",
       "prompt_number": 22,
       "text": [
        "[<matplotlib.lines.Line2D at 0xb196048>]"
       ]
      },
      {
       "metadata": {},
       "output_type": "display_data",
       "png": "[encoded data removed]",
       "text": [
        "<matplotlib.figure.Figure at 0xa39c588>"
       ]
      }
     ],
     "prompt_number": 22
    },
    {
     "cell_type": "code",
     "collapsed": false,
     "input": [
      "# Problem 2.2\n",
      "%pylab inline\n",
      "w = arange(0, 25, 0.1)\n",
      "d = arctan(2*w/(4-w**2))\n",
      "plot(w,d)"
     ],
     "language": "python",
     "metadata": {},
     "outputs": [
      {
       "output_type": "stream",
       "stream": "stdout",
       "text": [
        "Populating the interactive namespace from numpy and matplotlib\n"
       ]
      },
      {
       "metadata": {},
       "output_type": "pyout",
       "prompt_number": 24,
       "text": [
        "[<matplotlib.lines.Line2D at 0xb59c978>]"
       ]
      },
      {
       "metadata": {},
       "output_type": "display_data",
       "png": "[encoded data removed]",
       "text": [
        "<matplotlib.figure.Figure at 0xb27ff98>"
       ]
      }
     ],
     "prompt_number": 24
    },
    {
     "cell_type": "markdown",
     "metadata": {},
     "source": [
      "## Problem 3\n",
      "\n",
      "Write a definition for a class named `Kangaroo` with the following methods:\n",
      "\n",
      "* An `__init__` method that initializes an attribute named `pouch_contents` to an empty list.\n",
      "* A method named `put_in_pouch` that takes an object of any type and adds it to `pouch_contents`.\n",
      "* A `__str__` method that returns a string representation of the Kangaroo object and the contents of the pouch.\n",
      "\n",
      "Test your code by creating two Kangaroo objects, assigning them to variables named `kanga` and `roo`, and then adding `roo` to the contents of `kanga`\u2019s pouch"
     ]
    },
    {
     "cell_type": "code",
     "collapsed": false,
     "input": [
      "# Problme 3\n",
      "class Kangaroo(object):\n",
      "    \"\"\"...\"\"\"\n",
      "    \n",
      "    def __init__(self,pouch_contents=[]):\n",
      "        self.pouch_contents=pouch_contents\n",
      "        \n",
      "    def put_in_pouch(self, other):\n",
      "        if type(other) is str:\n",
      "            pouch_contents.append(other)\n",
      "        if type(other) is list:\n",
      "            pouch_contents.extend(other)\n",
      "        \n",
      "    def __str__(self):\n",
      "        return pouch_contents"
     ],
     "language": "python",
     "metadata": {},
     "outputs": [],
     "prompt_number": 11
    },
    {
     "cell_type": "markdown",
     "metadata": {},
     "source": [
      "## Problem 4\n",
      "\n",
      "Write a `__cmp__` method for `Time` objects. "
     ]
    },
    {
     "cell_type": "code",
     "collapsed": false,
     "input": [
      "# Problem 4\n",
      "class Time(object):\n",
      "    \n",
      "    # methods\n",
      "    def print_time(self):\n",
      "        print '%.2d:%.2d:%.2d' % (self.hour, self.minute, self.second)\n",
      "self = Time()\n",
      "other = Time()\n",
      "def _cmp_(self,other):\n",
      "    t1=self.hour*3600+self.minute*60+self.second\n",
      "    t2=other.hour*3600+other.minute*60+other.second\n",
      "    print t1>t2\n",
      "\n",
      " #test\n",
      "t1 = Time()\n",
      "t2 = Time()\n",
      "t1.hour = 9\n",
      "t1.minute = 30\n",
      "t1.second = 5\n",
      "t2.hour = 9\n",
      "t2.minute = 3\n",
      "t2.second = 5  \n",
      "_cmp_(t1,t2)"
     ],
     "language": "python",
     "metadata": {},
     "outputs": [
      {
       "output_type": "stream",
       "stream": "stdout",
       "text": [
        "True\n"
       ]
      }
     ],
     "prompt_number": 15
    },
    {
     "cell_type": "markdown",
     "metadata": {},
     "source": [
      "## Problem 5\n",
      "\n",
      "Write a `Deck` method named `sort` that uses the list method `sort` to sort the cards in a `Deck`. `sort` uses the `__cmp__` method we defined to determine sort order."
     ]
    },
    {
     "cell_type": "code",
     "collapsed": false,
     "input": [
      "# Problem 5\n",
      "import random\n",
      "\n",
      "class Card:\n",
      "    \"\"\"represents a playing card\"\"\"\n",
      "\n",
      "    def __init__(self, suit=0, rank=2):\n",
      "        self.suit = suit\n",
      "        self.rank = rank\n",
      "\n",
      "    suit_names = ['Clubs', 'Diamonds', 'Hearts', 'Spades']\n",
      "    rank_names = [None, 'Ace','2', '3', '4', '5', '6', '7', \n",
      "        '8', '9', '10', 'Jack', 'Queen', 'King']\n",
      "\n",
      "    def __str__(self):\n",
      "        return '%s of %s' % (Card.rank_names[self.rank], Card.suit_names[self.suit])\n",
      "\n",
      "    def __cmp__(self, other):\n",
      "        t1 = self.suit, self.rank\n",
      "        t2 = other.suit, other.rank\n",
      "        return cmp(t1, t2)\n",
      "\n",
      "class Deck:\n",
      "    \"\"\"represents a deck of cards\"\"\"\n",
      "\n",
      "    def __init__(self):\n",
      "        self.cards = []\n",
      "        for suit in range(4):\n",
      "            for rank in range(1, 14):\n",
      "                card = Card(suit, rank)\n",
      "                self.cards.append(card)\n",
      "\n",
      "    def __str__(self):\n",
      "        res = [str(card) for card in self.cards]\n",
      "        return '\\n'.join(res)\n",
      "\n",
      "    def shuffle(self):\n",
      "        random.shuffle(self.cards)\n",
      "\n",
      "    def pop_card(self):\n",
      "        return self.cards.pop()\n",
      "\n",
      "    def add_card(self, card):\n",
      "        self.cards.append(card)\n",
      "\n",
      "    def move_cards(self, hand, num):\n",
      "        for i in range(num):\n",
      "            hand.add_card(self.pop_card())\n",
      "\n",
      "        \n",
      "\n",
      "class Hand(Deck):\n",
      "    \"\"\"represents a hand of cards\"\"\"\n",
      "\n",
      "    def __init__(self, label=''):\n",
      "        self.cards= []\n",
      "        self.label = label\n",
      "\n",
      "    def show_hand(Hand):\n",
      "        \"\"\"Displays hand\"\"\"\n",
      "        print Hand\n",
      "\n",
      "hand = Hand()\n",
      "deck = Deck()\n",
      "\n",
      "hand1 = Hand('Hand One') \n",
      "hand2 = Hand('Hand Two')\n",
      "\n",
      "Deck.shuffle(deck)\n",
      "Deck.move_cards(deck, hand1, 26)\n",
      "Deck.move_cards(deck, hand2, 26)\n",
      "\n",
      "print 'Hand 1: ', hand1\n",
      "print 'Hand 2: ', hand2"
     ],
     "language": "python",
     "metadata": {},
     "outputs": [
      {
       "output_type": "stream",
       "stream": "stdout",
       "text": [
        "Hand 1:  3 of Spades\n",
        "2 of Spades\n",
        "4 of Spades\n",
        "8 of Diamonds\n",
        "7 of Spades\n",
        "King of Hearts\n",
        "9 of Spades\n",
        "9 of Hearts\n",
        "5 of Diamonds\n",
        "8 of Spades\n",
        "4 of Hearts\n",
        "Jack of Clubs\n",
        "5 of Clubs\n",
        "8 of Clubs\n",
        "2 of Clubs\n",
        "9 of Diamonds\n",
        "Ace of Hearts\n",
        "9 of Clubs\n",
        "5 of Spades\n",
        "10 of Spades\n",
        "Jack of Spades\n",
        "2 of Hearts\n",
        "6 of Spades\n",
        "6 of Clubs\n",
        "7 of Clubs\n",
        "4 of Clubs\n",
        "Hand 2:  7 of Hearts\n",
        "10 of Diamonds\n",
        "Jack of Diamonds\n",
        "Queen of Clubs\n",
        "3 of Hearts\n",
        "King of Spades\n",
        "Ace of Diamonds\n",
        "Ace of Clubs\n",
        "6 of Diamonds\n",
        "King of Diamonds\n",
        "4 of Diamonds\n",
        "Ace of Spades\n",
        "Queen of Diamonds\n",
        "King of Clubs\n",
        "2 of Diamonds\n",
        "10 of Clubs\n",
        "Jack of Hearts\n",
        "6 of Hearts\n",
        "3 of Clubs\n",
        "5 of Hearts\n",
        "7 of Diamonds\n",
        "8 of Hearts\n",
        "3 of Diamonds\n",
        "10 of Hearts\n",
        "Queen of Spades\n",
        "Queen of Hearts\n"
       ]
      }
     ],
     "prompt_number": 14
    },
    {
     "cell_type": "markdown",
     "metadata": {},
     "source": [
      "## Problem 6\n",
      "\n",
      "The following are the possible hands in poker, in increasing order of value (and decreasing order of probability):\n",
      "\n",
      "**pair:**\n",
      "two cards with the same rank\n",
      "\n",
      "**two pair:**\n",
      "two pairs of cards with the same rank\n",
      "\n",
      "**three of a kind:**\n",
      "three cards with the same rank\n",
      "\n",
      "**straight:**\n",
      "five cards with ranks in sequence (aces can be high or low, so Ace-2-3-4-5 is a straight and so is 10-Jack-Queen-King-Ace, but Queen-King-Ace-2-3 is not.)\n",
      "\n",
      "**flush:**\n",
      "five cards with the same suit\n",
      "\n",
      "**full house:**\n",
      "three cards with one rank, two cards with another\n",
      "\n",
      "**four of a kind:**\n",
      "four cards with the same rank\n",
      "\n",
      "**straight flush:**\n",
      "five cards in sequence (as defined above) and with the same suit\n",
      "\n",
      "**Modify** the following codes.\n",
      "\n",
      "Add methods to `PokerHand` class named `has_pair`, `has_twopair`, etc. that return `True` or `False` according to whether or not the hand meets the relevant criteria. Your code should work correctly for \u201chands\u201d that contain any number of cards (although 5 and 7 are the most common sizes)"
     ]
    },
    {
     "cell_type": "code",
     "collapsed": false,
     "input": [
      "# Problem 6\n",
      "import random\n",
      "\n",
      "\n",
      "class Card(object):\n",
      "    \"\"\"Represents a standard playing card.\n",
      "    \n",
      "    Attributes:\n",
      "      suit: integer 0-3\n",
      "      rank: integer 1-13\n",
      "    \"\"\"\n",
      "\n",
      "    suit_names = [\"Clubs\", \"Diamonds\", \"Hearts\", \"Spades\"]\n",
      "    rank_names = [None, \"Ace\", \"2\", \"3\", \"4\", \"5\", \"6\", \"7\", \n",
      "              \"8\", \"9\", \"10\", \"Jack\", \"Queen\", \"King\"]\n",
      "\n",
      "    def __init__(self, suit=0, rank=2):\n",
      "        self.suit = suit\n",
      "        self.rank = rank\n",
      "\n",
      "    def __str__(self):\n",
      "        \"\"\"Returns a human-readable string representation.\"\"\"\n",
      "        return '%s of %s' % (Card.rank_names[self.rank],\n",
      "                             Card.suit_names[self.suit])\n",
      "\n",
      "    def __cmp__(self, other):\n",
      "        \"\"\"Compares this card to other, first by suit, then rank.\n",
      "\n",
      "        Returns a positive number if this > other; negative if other > this;\n",
      "        and 0 if they are equivalent.\n",
      "        \"\"\"\n",
      "        t1 = self.suit, self.rank\n",
      "        t2 = other.suit, other.rank\n",
      "        return cmp(t1, t2)\n",
      "\n",
      "\n",
      "class Deck(object):\n",
      "    \"\"\"Represents a deck of cards.\n",
      "\n",
      "    Attributes:\n",
      "      cards: list of Card objects.\n",
      "    \"\"\"\n",
      "    \n",
      "    def __init__(self):\n",
      "        self.cards = []\n",
      "        for suit in range(4):\n",
      "            for rank in range(1, 14):\n",
      "                card = Card(suit, rank)\n",
      "                self.cards.append(card)\n",
      "\n",
      "    def __str__(self):\n",
      "        res = []\n",
      "        for card in self.cards:\n",
      "            res.append(str(card))\n",
      "        return '\\n'.join(res)\n",
      "\n",
      "    def add_card(self, card):\n",
      "        \"\"\"Adds a card to the deck.\"\"\"\n",
      "        self.cards.append(card)\n",
      "\n",
      "    def remove_card(self, card):\n",
      "        \"\"\"Removes a card from the deck.\"\"\"\n",
      "        self.cards.remove(card)\n",
      "\n",
      "    def pop_card(self, i=-1):\n",
      "        \"\"\"Removes and returns a card from the deck.\n",
      "\n",
      "        i: index of the card to pop; by default, pops the last card.\n",
      "        \"\"\"\n",
      "        return self.cards.pop(i)\n",
      "\n",
      "    def shuffle(self):\n",
      "        \"\"\"Shuffles the cards in this deck.\"\"\"\n",
      "        random.shuffle(self.cards)\n",
      "\n",
      "    def sort(self):\n",
      "        \"\"\"Sorts the cards in ascending order.\"\"\"\n",
      "        self.cards.sort()\n",
      "\n",
      "    def move_cards(self, hand, num):\n",
      "        \"\"\"Moves the given number of cards from the deck into the Hand.\n",
      "\n",
      "        hand: destination Hand object\n",
      "        num: integer number of cards to move\n",
      "        \"\"\"\n",
      "        for i in range(num):\n",
      "            hand.add_card(self.pop_card())\n",
      "\n",
      "\n",
      "class Hand(Deck):\n",
      "    \"\"\"Represents a hand of playing cards.\"\"\"\n",
      "    \n",
      "    def __init__(self, label=''):\n",
      "        self.cards = []\n",
      "        self.label = label\n",
      "class PokerHand(Hand):\n",
      "\n",
      "    def suit_hist(self):\n",
      "        \"\"\"Builds a histogram of the suits that appear in the hand.\n",
      "        Stores the result in attribute suits.\n",
      "        \"\"\"\n",
      "        self.suits = {}\n",
      "        for card in self.cards:\n",
      "            self.suits[card.suit] = self.suits.get(card.suit, 0) + 1\n",
      "\n",
      "    def rank_hist(self) :\n",
      "        \"\"\"Builds a histogram of the ranks that appear in the hand.\n",
      "        Stores the result in attribute ranks.\n",
      "        \"\"\"\n",
      "        self.ranks = {}\n",
      "        for card in self.cards:\n",
      "            self.ranks[card.rank] = self.ranks.get(card.rank, 0) + 1\n",
      "\n",
      "    def has_pair(self):\n",
      "        \"\"\"pair:  two cards with the same rank\"\"\"\n",
      "\n",
      "        for val in self.ranks.values() :\n",
      "            if val >= 2 :\n",
      "                return True\n",
      "        return False\n",
      "\n",
      "    def has_two_pairs(self) :\n",
      "        \"\"\" two pair: two pairs of cards with the same rank\"\"\"\n",
      "        pair_ctr=0\n",
      "        for val in self.ranks.values() :\n",
      "            if val >= 2 :\n",
      "                pair_ctr += 1\n",
      "                if pair_ctr >= 2 :\n",
      "                    return True\n",
      "        return False\n",
      "\n",
      "    def has_three_of_a_kind(self) :\n",
      "        \"\"\"three of a kind: three cards with the same rank\"\"\"\n",
      "        for val in self.ranks.values() :\n",
      "            if val >= 3 :\n",
      "                return True\n",
      "        return False\n",
      "\n",
      "    \n",
      "\n",
      "    def has_flush(self):\n",
      "        \"\"\"Returns True if the hand has a flush, False otherwise.\n",
      "      \n",
      "        Note that this works correctly for hands with more than 5 cards.\n",
      "        \"\"\"\n",
      "        for val in self.suits.values():\n",
      "            if val >= 5:\n",
      "                return True\n",
      "        return False\n",
      "\n",
      "\n",
      "if __name__ == '__main__':\n",
      "    # make a deck\n",
      "    deck = Deck()\n",
      "    deck.shuffle()\n",
      "\n",
      "    # deal the cards and classify the hands\n",
      "    while True:\n",
      "        print \"*\"*20\n",
      "        try :\n",
      "            hand = PokerHand()\n",
      "        except IndexError:\n",
      "            print \"New Deck\"\n",
      "            deck = Deck()\n",
      "            deck.shuffle()\n",
      "        deck.move_cards(hand, 7)\n",
      "        hand.sort()\n",
      "        hand.suit_hist()\n",
      "        hand.rank_hist()\n",
      "        print hand\n",
      "        print \"Has flush:\",  hand.has_flush()\n",
      "        print \"Has pair:\", hand.has_pair()\n",
      "        print \"Has two pairs:\", hand.has_two_pairs()\n",
      "        t = hand.has_three_of_a_kind()\n",
      "        print \"Has three of a kind:\", t\n",
      "        if t:\n",
      "            break\n"
     ],
     "language": "python",
     "metadata": {},
     "outputs": [
      {
       "output_type": "stream",
       "stream": "stdout",
       "text": [
        "********************\n",
        "Ace of Clubs\n",
        "9 of Hearts\n",
        "Jack of Hearts\n",
        "Ace of Spades\n",
        "6 of Spades\n",
        "9 of Spades\n",
        "10 of Spades\n",
        "Has flush: False\n",
        "Has pair: True\n",
        "Has two pairs: True\n",
        "Has three of a kind: False\n",
        "********************\n",
        "Jack of Clubs\n",
        "7 of Diamonds\n",
        "10 of Diamonds\n",
        "3 of Hearts\n",
        "5 of Hearts\n",
        "Queen of Hearts\n",
        "King of Hearts\n",
        "Has flush: False\n",
        "Has pair: False\n",
        "Has two pairs: False\n",
        "Has three of a kind: False\n",
        "********************\n",
        "Queen of Clubs\n",
        "Ace of Diamonds\n",
        "6 of Diamonds\n",
        "8 of Diamonds\n",
        "6 of Hearts\n",
        "8 of Hearts\n",
        "10 of Hearts\n",
        "Has flush: False\n",
        "Has pair: True\n",
        "Has two pairs: True\n",
        "Has three of a kind: False\n",
        "********************\n",
        "4 of Clubs\n",
        "5 of Clubs\n",
        "5 of Diamonds\n",
        "3 of Spades\n",
        "5 of Spades\n",
        "Jack of Spades\n",
        "King of Spades\n",
        "Has flush: False\n",
        "Has pair: True\n",
        "Has two pairs: False\n",
        "Has three of a kind: True\n"
       ]
      }
     ],
     "prompt_number": 13
    },
    {
     "cell_type": "code",
     "collapsed": false,
     "input": [],
     "language": "python",
     "metadata": {},
     "outputs": []
    }
   ],
   "metadata": {}
  }
 ]
}