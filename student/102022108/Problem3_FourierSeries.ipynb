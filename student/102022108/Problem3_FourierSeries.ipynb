{
 "metadata": {
  "name": "",
  "signature": "sha256:341cf47510c29f9e2824834be399d3af80ea58b7e31917052161722ace9adbfb"
 },
 "nbformat": 3,
 "nbformat_minor": 0,
 "worksheets": [
  {
   "cells": [
    {
     "cell_type": "markdown",
     "metadata": {},
     "source": [
      "# Problem 3:\n",
      "# Fourier Series\n",
      "\n",
      "The $N$-th order Fourier series of a period function $f(x)$ of period $L$ is defined as\n",
      "\n",
      "$$\n",
      "  FS(N,x) \\equiv \\frac{a_0}{2} + \\sum_{r=1}^{N} \n",
      "  \\left[\n",
      "    a_r \\cos\\left(\\frac{2\\pi r x}{L}\\right) + b_r \\sin\\left(\\frac{2\\pi r x}{L}\\right)\n",
      "  \\right],\n",
      "$$\n",
      "where \n",
      "\n",
      "$$\n",
      "  a_r = \\frac{2}{L} \\int_{x_0}^{x_0+L} f(x) \\cos\\left(\\frac{2\\pi r x}{L} \\right) dx, \\; \\;\n",
      "  b_r = \\frac{2}{L} \\int_{x_0}^{x_0+L} f(x) \\sin\\left(\\frac{2\\pi r x}{L} \\right) dx.\n",
      "$$\n",
      "\n",
      "In this problem, you should \n",
      "* Implement the $N$-th order Fourier series of the square-wave function:\n",
      "$$\n",
      "  f(x) = \n",
      " \\begin{cases} \n",
      " -1 & -\\frac{T}{2} \\le t < 0 \\\\ \n",
      " +1 & 0 \\le t < \\frac{T}{2}.\n",
      " \\end{cases}\n",
      "$$\n",
      "* Plot $f(x), FS(10,x), FS(50,x), FS(100,x)$ with $x \\in [-0.2 T,+0.2 T]$ and $y \\in [-1.5, 1.5]$.\n",
      "* Use IPython Interact to let user adjust $N$ in the range of $N=1, \\cdots 100$ and plot $f(x)$ and $FS(N,x)$.\n",
      "\n",
      "Please write your code based on the sketch below"
     ]
    },
    {
     "cell_type": "markdown",
     "metadata": {},
     "source": [
      "## Part 1"
     ]
    },
    {
     "cell_type": "code",
     "collapsed": false,
     "input": [
      "%pylab inline"
     ],
     "language": "python",
     "metadata": {},
     "outputs": [
      {
       "output_type": "stream",
       "stream": "stdout",
       "text": [
        "Populating the interactive namespace from numpy and matplotlib\n"
       ]
      }
     ],
     "prompt_number": 7
    },
    {
     "cell_type": "code",
     "collapsed": false,
     "input": [
      "# create your functions\n",
      "def squ(x):\n",
      "    if x>=0:\n",
      "        return 1\n",
      "    else :\n",
      "        return -1\n",
      "x = arange(-3,3,0.2)\n",
      "y = squ(x)\n",
      "figure(figsize(10,10))\n",
      "plot(x,y)\n",
      "savefig(\"test1.png\")\n",
      "show()\n",
      "    \n",
      "def f(t):\n",
      "    pass\n",
      "    \n",
      "def FS(N, t):\n",
      "    pass\n"
     ],
     "language": "python",
     "metadata": {},
     "outputs": [
      {
       "ename": "ValueError",
       "evalue": "The truth value of an array with more than one element is ambiguous. Use a.any() or a.all()",
       "output_type": "pyerr",
       "traceback": [
        "\u001b[1;31m---------------------------------------------------------------------------\u001b[0m\n\u001b[1;31mValueError\u001b[0m                                Traceback (most recent call last)",
        "\u001b[1;32m<ipython-input-8-595643d8e9a8>\u001b[0m in \u001b[0;36m<module>\u001b[1;34m()\u001b[0m\n\u001b[0;32m      6\u001b[0m         \u001b[1;32mreturn\u001b[0m \u001b[1;33m-\u001b[0m\u001b[1;36m1\u001b[0m\u001b[1;33m\u001b[0m\u001b[0m\n\u001b[0;32m      7\u001b[0m \u001b[0mx\u001b[0m \u001b[1;33m=\u001b[0m \u001b[0marange\u001b[0m\u001b[1;33m(\u001b[0m\u001b[1;33m-\u001b[0m\u001b[1;36m3\u001b[0m\u001b[1;33m,\u001b[0m\u001b[1;36m3\u001b[0m\u001b[1;33m,\u001b[0m\u001b[1;36m0.2\u001b[0m\u001b[1;33m)\u001b[0m\u001b[1;33m\u001b[0m\u001b[0m\n\u001b[1;32m----> 8\u001b[1;33m \u001b[0my\u001b[0m \u001b[1;33m=\u001b[0m \u001b[0msqu\u001b[0m\u001b[1;33m(\u001b[0m\u001b[0mx\u001b[0m\u001b[1;33m)\u001b[0m\u001b[1;33m\u001b[0m\u001b[0m\n\u001b[0m\u001b[0;32m      9\u001b[0m \u001b[0mfigure\u001b[0m\u001b[1;33m(\u001b[0m\u001b[0mfigsize\u001b[0m\u001b[1;33m(\u001b[0m\u001b[1;36m10\u001b[0m\u001b[1;33m,\u001b[0m\u001b[1;36m10\u001b[0m\u001b[1;33m)\u001b[0m\u001b[1;33m)\u001b[0m\u001b[1;33m\u001b[0m\u001b[0m\n\u001b[0;32m     10\u001b[0m \u001b[0mplot\u001b[0m\u001b[1;33m(\u001b[0m\u001b[0mx\u001b[0m\u001b[1;33m,\u001b[0m\u001b[0my\u001b[0m\u001b[1;33m)\u001b[0m\u001b[1;33m\u001b[0m\u001b[0m\n",
        "\u001b[1;32m<ipython-input-8-595643d8e9a8>\u001b[0m in \u001b[0;36msqu\u001b[1;34m(x)\u001b[0m\n\u001b[0;32m      1\u001b[0m \u001b[1;31m# create your functions\u001b[0m\u001b[1;33m\u001b[0m\u001b[1;33m\u001b[0m\u001b[0m\n\u001b[0;32m      2\u001b[0m \u001b[1;32mdef\u001b[0m \u001b[0msqu\u001b[0m\u001b[1;33m(\u001b[0m\u001b[0mx\u001b[0m\u001b[1;33m)\u001b[0m\u001b[1;33m:\u001b[0m\u001b[1;33m\u001b[0m\u001b[0m\n\u001b[1;32m----> 3\u001b[1;33m     \u001b[1;32mif\u001b[0m \u001b[0mx\u001b[0m\u001b[1;33m>=\u001b[0m\u001b[1;36m0\u001b[0m\u001b[1;33m:\u001b[0m\u001b[1;33m\u001b[0m\u001b[0m\n\u001b[0m\u001b[0;32m      4\u001b[0m         \u001b[1;32mreturn\u001b[0m \u001b[1;36m1\u001b[0m\u001b[1;33m\u001b[0m\u001b[0m\n\u001b[0;32m      5\u001b[0m     \u001b[1;32melse\u001b[0m \u001b[1;33m:\u001b[0m\u001b[1;33m\u001b[0m\u001b[0m\n",
        "\u001b[1;31mValueError\u001b[0m: The truth value of an array with more than one element is ambiguous. Use a.any() or a.all()"
       ]
      }
     ],
     "prompt_number": 8
    },
    {
     "cell_type": "code",
     "collapsed": false,
     "input": [
      "x = arange(0, 10, 0.2)\n",
      "y = sin(x)\n",
      "figure(figsize(10,10))\n",
      "plot(x,y)\n",
      "savefig(\"test1.png\")\n",
      "show()"
     ],
     "language": "python",
     "metadata": {},
     "outputs": [
      {
       "metadata": {},
       "output_type": "display_data",
       "png": "[encoded data removed]",
       "text": [
        "<matplotlib.figure.Figure at 0xa00ff98>"
       ]
      }
     ],
     "prompt_number": 9
    },
    {
     "cell_type": "markdown",
     "metadata": {},
     "source": [
      "## Part2"
     ]
    },
    {
     "cell_type": "code",
     "collapsed": false,
     "input": [
      "from IPython.html.widgets import interact"
     ],
     "language": "python",
     "metadata": {},
     "outputs": [],
     "prompt_number": 4
    },
    {
     "cell_type": "code",
     "collapsed": false,
     "input": [
      "# create your ipython interact"
     ],
     "language": "python",
     "metadata": {},
     "outputs": [],
     "prompt_number": 5
    },
    {
     "cell_type": "code",
     "collapsed": false,
     "input": [],
     "language": "python",
     "metadata": {},
     "outputs": [],
     "prompt_number": 5
    },
    {
     "cell_type": "code",
     "collapsed": false,
     "input": [],
     "language": "python",
     "metadata": {},
     "outputs": [],
     "prompt_number": 5
    },
    {
     "cell_type": "code",
     "collapsed": false,
     "input": [],
     "language": "python",
     "metadata": {},
     "outputs": []
    }
   ],
   "metadata": {}
  }
 ]
}