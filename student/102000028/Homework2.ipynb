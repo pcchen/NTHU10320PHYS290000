{
 "metadata": {
  "name": "",
  "signature": "sha256:63bf353db50fd1bc3a0e60d78ef87608572b5c90fb4ca69c23239e0ee73f5c07"
 },
 "nbformat": 3,
 "nbformat_minor": 0,
 "worksheets": [
  {
   "cells": [
    {
     "cell_type": "markdown",
     "metadata": {},
     "source": [
      "# Homework 2"
     ]
    },
    {
     "cell_type": "markdown",
     "metadata": {},
     "source": [
      "## Problem 1\n",
      "\n",
      "The Catalan numbers $C_n$ are a sequence of integers 1, 1, 2, 5, 14, 42, 132. . . that play an important role in quantum mechanics and the theory of disordered systems.\n",
      "They are given by\n",
      "\n",
      "$$\n",
      "  \\Large\n",
      "  C_0 = 1, \\;\n",
      "  C_{n+1} = \\frac{4n+2}{n+2} C_n.\n",
      "$$\n",
      "\n",
      "Write a program that prints in increasing order all Catalan numbers less than or equal to one billion."
     ]
    },
    {
     "cell_type": "code",
     "collapsed": false,
     "input": [
      "# Problem 1\n",
      "def catalan_numbers():\n",
      "    c=1\n",
      "    n=0\n",
      "    print c\n",
      "    \n",
      "    while c<=1000000: \n",
      "        \n",
      "        c=(4*n+2)*c/(n+2)\n",
      "        \n",
      "        n=n+1\n",
      "        \n",
      "        print c \n",
      "        \n",
      "catalan_numbers()        "
     ],
     "language": "python",
     "metadata": {},
     "outputs": [
      {
       "output_type": "stream",
       "stream": "stdout",
       "text": [
        "1\n",
        "1\n",
        "2\n",
        "5\n",
        "14\n",
        "42\n",
        "132\n",
        "429\n",
        "1430\n",
        "4862\n",
        "16796\n",
        "58786\n",
        "208012\n",
        "742900\n",
        "2674440\n"
       ]
      }
     ],
     "prompt_number": 26
    },
    {
     "cell_type": "markdown",
     "metadata": {},
     "source": [
      "## Problem 2\n",
      "\n",
      "The Madelung constant gives the total electric potential felt by an atom in a solid. Consider for instance solid sodium chloride. The crystal has atoms arranged on a cubic lattice, but with alternating sodium and chlorine atoms, the sodium ones having a $+e$ charge and the chlorine has a $\u2212e$ charge. If we label each position on the lattice by three integers $(i,j,k)$, the sodium atoms fall at positions where $i +j +k$ is even, and the chlorine atoms at positions where $i +j +k$ is odd.\n",
      "\n",
      "Consider a sodium atom at the origin, $i = j = k = 0$. Assume the lattice constant is a and a cubic box around the sodium at the origin, with $L$ atoms in all directions. The potential at the origin created by atoms at $(i,j,k)$ is\n",
      "\n",
      "$$\n",
      "  \\Large\n",
      "  V(i,j,k) = \\pm V_0 \\frac{1}{\\sqrt{i^2+j^2+k^2}}, \\;\n",
      "  V_0 = \\frac{e}{4\\pi \\epsilon_0 a},\n",
      "$$\n",
      "where the sign depends on whether $i + j + k$ is even or odd.\n",
      "\n",
      "Then \n",
      "\n",
      "$$\n",
      "  \\Large\n",
      "  V_{tot} = {\\sum_{i,\\; j,\\; k =-L,\\; \\; (i,j,k)\\neq (0,0,0) }^{L}} V(i,j,k) = V_0 M_L\n",
      "$$\n",
      "\n",
      "where $M_L$ is the approximated Madelung constant. The exact Madelung constant can be obtained by $M =\\lim_{L \\rightarrow \\infty } M_L$.\n",
      "\n",
      "Write a program to calculate and print $M_L$ for a given $L$. Use as large a value of $L$ as you can while still having your program run in reasonable time, to estimate the value of $M$. You can print a table of $L$, $M_L$ up to some $L_{max}$.\n",
      "\n",
      "Hint: the correct answer is about \u22121.748."
     ]
    },
    {
     "cell_type": "code",
     "collapsed": false,
     "input": [
      "# Problem 2\n",
      "import math \n",
      "def Madelung_constant(L):\n",
      "    i=L\n",
      "    M=0\n",
      "    while i!=-(L+1):\n",
      "        j=L\n",
      "        while j!=-(L+1):\n",
      "            k=L\n",
      "            while k!=-(L+1):\n",
      "                if k==0 and j==0 and i==0 :\n",
      "                   k=k-1\n",
      "                else:\n",
      "                    M=M+(-1)**(i+j+k)/(math.sqrt(i*i+j*j+k*k))\n",
      "                    k=k-1\n",
      "            j=j-1\n",
      "        i=i-1\n",
      "    print M\n",
      "            \n",
      "Madelung_constant(100)        \n",
      "        \n",
      "    "
     ],
     "language": "python",
     "metadata": {},
     "outputs": [
      {
       "output_type": "stream",
       "stream": "stdout",
       "text": [
        "-1.74181981584\n"
       ]
      }
     ],
     "prompt_number": 79
    },
    {
     "cell_type": "markdown",
     "metadata": {},
     "source": [
      "## Problem 3\n",
      "\n",
      "Write a program to find all the primes up to 10,000  by using following rules.\n",
      "\n",
      "* A number $n$ is a prime if it has no prime factors less than $n$. Hence we only need to check if it is divisible by other primes.\n",
      "\n",
      "* To determine if a number is prime we have to check its prime factors only up to and including $\\sqrt{n}$. If there are none prime-factor then the number is prime.\n",
      "\n",
      "* \ufffc\ufffcIf we find even a single prime factor less than that the number is non-prime.\n",
      "\n",
      "Hint: Create a list to store the primes, which starts out with just one prime number 2 it it. For each number from 3 to 10000 check whether the number is divisible by any of the primes in the list up to and including $\\sqrt{n}$. If you find no prime factors then n is prime and you should add it to the list."
     ]
    },
    {
     "cell_type": "code",
     "collapsed": false,
     "input": [
      "# Problem 3\n",
      "import math\n",
      "def prime():\n",
      "    n=0\n",
      "    c=0\n",
      "    while n<= sqrt.math(c):\n",
      "        if n%c==0:\n",
      "           n=n+1\n",
      "           c=c+1\n",
      "           \n",
      "        else:    \n",
      "            print c\n",
      "prime()        "
     ],
     "language": "python",
     "metadata": {},
     "outputs": [
      {
       "ename": "NameError",
       "evalue": "global name 'sqrt' is not defined",
       "output_type": "pyerr",
       "traceback": [
        "\u001b[1;31m---------------------------------------------------------------------------\u001b[0m\n\u001b[1;31mNameError\u001b[0m                                 Traceback (most recent call last)",
        "\u001b[1;32m<ipython-input-78-954822268fe8>\u001b[0m in \u001b[0;36m<module>\u001b[1;34m()\u001b[0m\n\u001b[0;32m     11\u001b[0m         \u001b[1;32melse\u001b[0m\u001b[1;33m:\u001b[0m\u001b[1;33m\u001b[0m\u001b[0m\n\u001b[0;32m     12\u001b[0m             \u001b[1;32mprint\u001b[0m \u001b[0mc\u001b[0m\u001b[1;33m\u001b[0m\u001b[0m\n\u001b[1;32m---> 13\u001b[1;33m \u001b[0mprime\u001b[0m\u001b[1;33m(\u001b[0m\u001b[1;33m)\u001b[0m\u001b[1;33m\u001b[0m\u001b[0m\n\u001b[0m",
        "\u001b[1;32m<ipython-input-78-954822268fe8>\u001b[0m in \u001b[0;36mprime\u001b[1;34m()\u001b[0m\n\u001b[0;32m      4\u001b[0m     \u001b[0mn\u001b[0m\u001b[1;33m=\u001b[0m\u001b[1;36m0\u001b[0m\u001b[1;33m\u001b[0m\u001b[0m\n\u001b[0;32m      5\u001b[0m     \u001b[0mc\u001b[0m\u001b[1;33m=\u001b[0m\u001b[1;36m0\u001b[0m\u001b[1;33m\u001b[0m\u001b[0m\n\u001b[1;32m----> 6\u001b[1;33m     \u001b[1;32mwhile\u001b[0m \u001b[0mn\u001b[0m\u001b[1;33m<=\u001b[0m \u001b[0msqrt\u001b[0m\u001b[1;33m.\u001b[0m\u001b[0mmath\u001b[0m\u001b[1;33m(\u001b[0m\u001b[0mc\u001b[0m\u001b[1;33m)\u001b[0m\u001b[1;33m:\u001b[0m\u001b[1;33m\u001b[0m\u001b[0m\n\u001b[0m\u001b[0;32m      7\u001b[0m         \u001b[1;32mif\u001b[0m \u001b[0mn\u001b[0m\u001b[1;33m%\u001b[0m\u001b[0mc\u001b[0m\u001b[1;33m==\u001b[0m\u001b[1;36m0\u001b[0m\u001b[1;33m:\u001b[0m\u001b[1;33m\u001b[0m\u001b[0m\n\u001b[0;32m      8\u001b[0m            \u001b[0mn\u001b[0m\u001b[1;33m=\u001b[0m\u001b[0mn\u001b[0m\u001b[1;33m+\u001b[0m\u001b[1;36m1\u001b[0m\u001b[1;33m\u001b[0m\u001b[0m\n",
        "\u001b[1;31mNameError\u001b[0m: global name 'sqrt' is not defined"
       ]
      }
     ],
     "prompt_number": 78
    },
    {
     "cell_type": "code",
     "collapsed": false,
     "input": [],
     "language": "python",
     "metadata": {},
     "outputs": []
    },
    {
     "cell_type": "markdown",
     "metadata": {},
     "source": [
      "## Problem 4\n",
      "\n",
      "Write a function called `nested_sum` that takes a nested list of integers and add up the elements from all of the nested lists. "
     ]
    },
    {
     "cell_type": "code",
     "collapsed": false,
     "input": [
      "# Problem 4\n",
      "# Hint, you can use `isinstance` to check if a variable is a list or not\n",
      "t = [1, 2, [1, 1, 1]]\n",
      "for x in t:\n",
      "    if isinstance(x, list):\n",
      "        print x, 'is a list'\n",
      "    else:\n",
      "        print x, 'is not a list'"
     ],
     "language": "python",
     "metadata": {},
     "outputs": [
      {
       "output_type": "stream",
       "stream": "stdout",
       "text": [
        "1 is not a list\n",
        "2 is not a list\n",
        "[1, 1, 1] is a list\n"
       ]
      }
     ],
     "prompt_number": 4
    },
    {
     "cell_type": "code",
     "collapsed": false,
     "input": [
      "def nested_sum(t):\n",
      "    t=[]\n",
      "    \n",
      "    "
     ],
     "language": "python",
     "metadata": {},
     "outputs": []
    },
    {
     "cell_type": "markdown",
     "metadata": {},
     "source": [
      "## Problem 5\n",
      "\n",
      "Write a function that takes a list of numbers and returns the cumulative sum; that is, a **new** list where the ith element is the sum of the first i+1 elements from the original list. For example, the cumulative sum of [1, 2, 3] is [1, 3, 6]."
     ]
    },
    {
     "cell_type": "code",
     "collapsed": false,
     "input": [
      "# Problem 5"
     ],
     "language": "python",
     "metadata": {},
     "outputs": [],
     "prompt_number": 5
    },
    {
     "cell_type": "markdown",
     "metadata": {},
     "source": [
      "## Problem 6\n",
      "\n",
      "Write a function called `middle` that takes a list and returns a **new** list that contains all but the first and last elements. So `middle([1,2,3,4])` should return `[2,3]`."
     ]
    },
    {
     "cell_type": "code",
     "collapsed": false,
     "input": [
      "# Problem 6"
     ],
     "language": "python",
     "metadata": {},
     "outputs": [],
     "prompt_number": 6
    },
    {
     "cell_type": "markdown",
     "metadata": {},
     "source": [
      "## Problem 7\n",
      "\n",
      "Write a function called `chop` that takes a list, modifies it by removing the first and last elements, and returns `None`."
     ]
    },
    {
     "cell_type": "code",
     "collapsed": false,
     "input": [
      "# Problem 7"
     ],
     "language": "python",
     "metadata": {},
     "outputs": [],
     "prompt_number": 7
    },
    {
     "cell_type": "markdown",
     "metadata": {},
     "source": [
      "## Problem 8\n",
      "\n",
      "Write a program that reads the words from the `words.txt` and then find all the words with three consecutive double letters. That is, all the words which contain a sub-string of the form `'xxyyzz'` where `x`,`y`,`z` are arbitrary letters. "
     ]
    },
    {
     "cell_type": "code",
     "collapsed": false,
     "input": [
      "# problem 8"
     ],
     "language": "python",
     "metadata": {},
     "outputs": [],
     "prompt_number": 8
    }
   ],
   "metadata": {}
  }
 ]
}