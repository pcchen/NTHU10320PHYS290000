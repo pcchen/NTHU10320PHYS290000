{
 "metadata": {
  "name": "",
  "signature": "sha256:730912b57623ffbef18107e5131fc443cb00ec1671e5e8548406f6d2f9ba3c23"
 },
 "nbformat": 3,
 "nbformat_minor": 0,
 "worksheets": [
  {
   "cells": [
    {
     "cell_type": "markdown",
     "metadata": {},
     "source": [
      "# Problem 2:\n",
      "# Sorting a List\n",
      "\n",
      "In this problem you should\n",
      "* Implement the **selection sort** algorithm.\n",
      "* Implement the **insertion sort** algorithm.\n",
      "* Create a list of N-elements where each element is a random integer between 0, 1, 2, ..., N-1.\n",
      "* Use your implementation of the selection sort and insertion sort to sort the the random list above.\n",
      "* Use built-in function `sorted()` that builds a new sorted list to show that your implementation is correct.\n",
      "\n",
      "## Selection sort\n",
      "\n",
      "Following is the algorithm of the **selection sort**:\n",
      "\n",
      "* Divide the input list into two sub-lists:\n",
      " * Sorted sub-list (Start with an empty list).\n",
      " * Un-Sorted sub-list.\n",
      "* Find the smallest element in the unsorted list.\n",
      "* Swap with the leftmost unsorted element.\n",
      "* Move the sub-list boundaries.\n",
      "\n",
      "Following is an example of selection sort:\n",
      "<img src=\"SelectionSort.png\" width=\"800\">\n",
      "\n",
      "## Insertion sort\n",
      "\n",
      "Following is the algorithm of the **insertion sort**:\n",
      "\n",
      "* Divide the input list into two sub-lists:\n",
      " * Sorted sub-list (Start with the leftmost element).\n",
      " * Un-Sorted sub-list.\n",
      "* Insert the leftmost element of the unsorted sub-list into the proper position of the sorted sub-list.\n",
      "* Move the sub-list boundaries \n",
      "\n",
      "Following is an example of selection sort:\n",
      "<img src=\"InsertionSort.png\" width=\"800\">"
     ]
    },
    {
     "cell_type": "markdown",
     "metadata": {},
     "source": [
      "Please write your code based on the sketch below and use the test code below to show that your function works properly."
     ]
    },
    {
     "cell_type": "code",
     "collapsed": false,
     "input": [
      "import random\n",
      "# create a random list with N elements\n",
      "def random_list(N):\n",
      "    a=random.sample(range(100), N)\n",
      "    return a\n",
      "print 'create a random list with 10 elements:'\n",
      "print random_list(10)\n",
      "# selection sort\n",
      "def selection_sort(alist):\n",
      "    for fillslot in range(len(alist)-1,0,-1):\n",
      "       positionOfMax=0\n",
      "       for location in range(1,fillslot+1):\n",
      "           if alist[location]>alist[positionOfMax]:\n",
      "               positionOfMax = location\n",
      "       temp = alist[fillslot]\n",
      "       alist[fillslot] = alist[positionOfMax]\n",
      "       alist[positionOfMax] = temp\n",
      "                \n",
      "alist = random_list(10)\n",
      "print 'random list with 10 elements before selection sort:'\n",
      "print alist\n",
      "selection_sort(alist)\n",
      "print 'random list with 10 elements after selection sort:'\n",
      "print alist\n",
      "# insertion sort\n",
      "def insertion_sort(alist):\n",
      "    for index in range(1,len(alist)):\n",
      "     currentvalue = alist[index]\n",
      "     position = index\n",
      "     while position>0 and alist[position-1]>currentvalue:\n",
      "         alist[position]=alist[position-1]\n",
      "         position = position-1\n",
      "     alist[position]=currentvalue\n",
      "alist = random_list(10)\n",
      "print 'random list with 10 elements before insertion sort:'\n",
      "print alist\n",
      "insertion_sort(alist)\n",
      "print 'random list with 10 elements after insertion sort:'\n",
      "print alist\n"
     ],
     "language": "python",
     "metadata": {},
     "outputs": [
      {
       "output_type": "stream",
       "stream": "stdout",
       "text": [
        "create a random list with 10 elements:\n",
        "[89, 29, 66, 83, 33, 38, 21, 57, 96, 41]\n",
        "random list with 10 elements before selection sort:\n",
        "[26, 42, 56, 32, 75, 94, 44, 97, 34, 0]\n",
        "random list with 10 elements after selection sort:\n",
        "[0, 26, 32, 34, 42, 44, 56, 75, 94, 97]\n",
        "random list with 10 elements before insertion sort:\n",
        "[52, 49, 43, 31, 78, 91, 22, 92, 4, 20]\n",
        "random list with 10 elements after insertion sort:\n",
        "[4, 20, 22, 31, 43, 49, 52, 78, 91, 92]\n"
       ]
      }
     ],
     "prompt_number": 24
    },
    {
     "cell_type": "code",
     "collapsed": false,
     "input": [
      "# test the implementation of selection sort\n",
      "N = 10\n",
      "L = random_list(N)\n",
      "L_sorted = sorted(L)\n",
      "selection_sort(L)\n",
      "\n",
      "for i in range(len(L)):\n",
      "    if L[i] != L_sorted[i]:\n",
      "        print 'oops!'   \n",
      "alist = random_list(10)\n",
      "print alist\n",
      "selection_sort(alist)\n",
      "print alist"
     ],
     "language": "python",
     "metadata": {},
     "outputs": [
      {
       "output_type": "stream",
       "stream": "stdout",
       "text": [
        "[26, 77, 9, 60, 15, 88, 87, 71, 34, 28]\n",
        "[9, 15, 26, 28, 34, 60, 71, 77, 87, 88]\n"
       ]
      }
     ],
     "prompt_number": 28
    },
    {
     "cell_type": "code",
     "collapsed": false,
     "input": [
      "# test the implementation of insertion sort\n",
      "N = 10\n",
      "L = random_list(N)\n",
      "L_sorted = sorted(L)\n",
      "insertion_sort(L)\n",
      "\n",
      "for i in range(len(L)):\n",
      "    if L[i] != L_sorted[i]:\n",
      "        print 'oops!'    \n",
      "alist = random_list(10)\n",
      "print alist\n",
      "insertion_sort(alist)\n",
      "print alist"
     ],
     "language": "python",
     "metadata": {},
     "outputs": [
      {
       "output_type": "stream",
       "stream": "stdout",
       "text": [
        "[85, 7, 33, 28, 21, 2, 67, 11, 39, 69]\n",
        "[2, 7, 11, 21, 28, 33, 39, 67, 69, 85]\n"
       ]
      }
     ],
     "prompt_number": 29
    },
    {
     "cell_type": "code",
     "collapsed": false,
     "input": [],
     "language": "python",
     "metadata": {},
     "outputs": [],
     "prompt_number": 23
    },
    {
     "cell_type": "code",
     "collapsed": false,
     "input": [],
     "language": "python",
     "metadata": {},
     "outputs": []
    }
   ],
   "metadata": {}
  }
 ]
}