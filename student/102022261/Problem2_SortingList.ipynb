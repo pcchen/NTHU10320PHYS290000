{
 "metadata": {
  "name": "",
  "signature": "sha256:d41f004e17020a5ded89c27da010f8fd65e16bb075dae13bd545c83e2bec2221"
 },
 "nbformat": 3,
 "nbformat_minor": 0,
 "worksheets": [
  {
   "cells": [
    {
     "cell_type": "markdown",
     "metadata": {},
     "source": [
      "# Problem 2:\n",
      "# Sorting a List\n",
      "\n",
      "In this problem you should\n",
      "* Implement the **selection sort** algorithm.\n",
      "* Implement the **insertion sort** algorithm.\n",
      "* Create a list of N-elements where each element is a random integer between 0, 1, 2, ..., N-1.\n",
      "* Use your implementation of the selection sort and insertion sort to sort the the random list above.\n",
      "* Use built-in function `sorted()` that builds a new sorted list to show that your implementation is correct.\n",
      "\n",
      "## Selection sort\n",
      "\n",
      "Following is the algorithm of the **selection sort**:\n",
      "\n",
      "* Divide the input list into two sub-lists:\n",
      " * Sorted sub-list (Start with an empty list).\n",
      " * Un-Sorted sub-list.\n",
      "* Find the smallest element in the unsorted list.\n",
      "* Swap with the leftmost unsorted element.\n",
      "* Move the sub-list boundaries.\n",
      "\n",
      "Following is an example of selection sort:\n",
      "<img src=\"SelectionSort.png\" width=\"800\">\n",
      "\n",
      "## Insertion sort\n",
      "\n",
      "Following is the algorithm of the **insertion sort**:\n",
      "\n",
      "* Divide the input list into two sub-lists:\n",
      " * Sorted sub-list (Start with the leftmost element).\n",
      " * Un-Sorted sub-list.\n",
      "* Insert the leftmost element of the unsorted sub-list into the proper position of the sorted sub-list.\n",
      "* Move the sub-list boundaries \n",
      "\n",
      "Following is an example of selection sort:\n",
      "<img src=\"InsertionSort.png\" width=\"800\">"
     ]
    },
    {
     "cell_type": "markdown",
     "metadata": {},
     "source": [
      "Please write your code based on the sketch below and use the test code below to show that your function works properly."
     ]
    },
    {
     "cell_type": "code",
     "collapsed": false,
     "input": [
      "from random import *\n",
      "\n",
      "# create a random list with N elements\n",
      "def random_list(N):\n",
      "    l=[]\n",
      "    for x in range(N):\n",
      "        l+=[randint(0,100)]\n",
      "    return l\n",
      "\n",
      "print random_list(10)\n",
      "# selection sort\n",
      "gg=[5,2,5,6,7,8,8,5,2,3,5,6,7,4]\n",
      "def selection_sort(list):\n",
      "    for i in range(len(list)):\n",
      "        \n",
      "        mini = min(list[i:])\n",
      "        min_index = list[i:].index(mini) \n",
      "        list[i + min_index] = list[i]\n",
      "        list[i] = mini     \n",
      "    return list\n",
      "print selection_sort(gg)\n",
      "\n",
      "# insertion sort\n",
      "gb=[8,5,4,6,2,3,6,8,9]\n",
      "def insertion_sort(list):\n",
      "    for i in range( 1, len(list) ):\n",
      "        tmp = list[i]\n",
      "        k = i\n",
      "        while k > 0 and tmp < list[k - 1]:\n",
      "            list[k] = list[k - 1]\n",
      "            k -= 1\n",
      "            list[k] = tmp\n",
      "    return list\n",
      "print insertion_sort(gb)"
     ],
     "language": "python",
     "metadata": {},
     "outputs": [
      {
       "output_type": "stream",
       "stream": "stdout",
       "text": [
        "[24, 26, 96, 20, 64, 5, 31, 88, 51, 35]\n",
        "[2, 2, 3, 4, 5, 5, 5, 5, 6, 6, 7, 7, 8, 8]\n",
        "[2, 3, 4, 5, 6, 6, 8, 8, 9]\n"
       ]
      }
     ],
     "prompt_number": 211
    },
    {
     "cell_type": "code",
     "collapsed": false,
     "input": [
      "# test the implementation of selection sort\n",
      "N = 10\n",
      "L = random_list(N)\n",
      "L_sorted = sorted(L)\n",
      "selection_sort(L)\n",
      "\n",
      "for i in range(len(L)):\n",
      "    if L[i] != L_sorted[i]:\n",
      "        print 'oops!'    "
     ],
     "language": "python",
     "metadata": {},
     "outputs": [],
     "prompt_number": 210
    },
    {
     "cell_type": "code",
     "collapsed": false,
     "input": [
      "# test the implementation of insertion sort\n",
      "N = 10\n",
      "L = random_list(N)\n",
      "L_sorted = sorted(L)\n",
      "insertion_sort(L)\n",
      "\n",
      "for i in range(len(L)):\n",
      "    if L[i] != L_sorted[i]:\n",
      "        print 'oops!'    "
     ],
     "language": "python",
     "metadata": {},
     "outputs": [],
     "prompt_number": 209
    },
    {
     "cell_type": "code",
     "collapsed": false,
     "input": [],
     "language": "python",
     "metadata": {},
     "outputs": []
    }
   ],
   "metadata": {}
  }
 ]
}