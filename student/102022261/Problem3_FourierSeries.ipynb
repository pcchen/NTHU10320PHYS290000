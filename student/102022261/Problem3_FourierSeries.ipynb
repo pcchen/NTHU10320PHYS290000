{
 "metadata": {
  "name": "",
  "signature": "sha256:646038e34f8b608316d2bef57c96e76e9c374be1a7b2702803089324ad04c267"
 },
 "nbformat": 3,
 "nbformat_minor": 0,
 "worksheets": [
  {
   "cells": [
    {
     "cell_type": "markdown",
     "metadata": {},
     "source": [
      "# Problem 3:\n",
      "# Fourier Series\n",
      "\n",
      "The $N$-th order Fourier series of a period function $f(x)$ of period $L$ is defined as\n",
      "\n",
      "$$\n",
      "  FS(N,x) \\equiv \\frac{a_0}{2} + \\sum_{r=1}^{N} \n",
      "  \\left[\n",
      "    a_r \\cos\\left(\\frac{2\\pi r x}{L}\\right) + b_r \\sin\\left(\\frac{2\\pi r x}{L}\\right)\n",
      "  \\right],\n",
      "$$\n",
      "where \n",
      "\n",
      "$$\n",
      "  a_r = \\frac{2}{L} \\int_{x_0}^{x_0+L} f(x) \\cos\\left(\\frac{2\\pi r x}{L} \\right) dx, \\; \\;\n",
      "  b_r = \\frac{2}{L} \\int_{x_0}^{x_0+L} f(x) \\sin\\left(\\frac{2\\pi r x}{L} \\right) dx.\n",
      "$$\n",
      "\n",
      "In this problem, you should \n",
      "* Implement the $N$-th order Fourier series of the square-wave function:\n",
      "$$\n",
      "  f(x) = \n",
      " \\begin{cases} \n",
      " -1 & -\\frac{T}{2} \\le t < 0 \\\\ \n",
      " +1 & 0 \\le t < \\frac{T}{2}.\n",
      " \\end{cases}\n",
      "$$\n",
      "* Plot $f(x), FS(10,x), FS(50,x), FS(100,x)$ with $x \\in [-0.2 T,+0.2 T]$ and $y \\in [-1.5, 1.5]$.\n",
      "* Use IPython Interact to let user adjust $N$ in the range of $N=1, \\cdots 100$ and plot $f(x)$ and $FS(N,x)$.\n",
      "\n",
      "Please write your code based on the sketch below"
     ]
    },
    {
     "cell_type": "markdown",
     "metadata": {},
     "source": [
      "## Part 1"
     ]
    },
    {
     "cell_type": "code",
     "collapsed": false,
     "input": [
      "%pylab inline"
     ],
     "language": "python",
     "metadata": {},
     "outputs": [
      {
       "output_type": "stream",
       "stream": "stdout",
       "text": [
        "Populating the interactive namespace from numpy and matplotlib\n"
       ]
      },
      {
       "output_type": "stream",
       "stream": "stderr",
       "text": [
        "WARNING: pylab import has clobbered these variables: ['power', 'linalg', 'draw_if_interactive', 'random', 'fft', 'info']\n",
        "`%matplotlib` prevents importing * from pylab and numpy\n"
       ]
      }
     ],
     "prompt_number": 9
    },
    {
     "cell_type": "code",
     "collapsed": false,
     "input": [
      "# create your functions\n",
      "def f(t):\n",
      "    pass\n",
      "    \n",
      "def FS(N, t):\n",
      "    pass\n"
     ],
     "language": "python",
     "metadata": {},
     "outputs": [],
     "prompt_number": 1
    },
    {
     "cell_type": "markdown",
     "metadata": {},
     "source": [
      "## Part2"
     ]
    },
    {
     "cell_type": "code",
     "collapsed": false,
     "input": [
      "from IPython.html.widgets import interact"
     ],
     "language": "python",
     "metadata": {},
     "outputs": []
    },
    {
     "cell_type": "code",
     "collapsed": false,
     "input": [
      "# create your ipython interact"
     ],
     "language": "python",
     "metadata": {},
     "outputs": []
    }
   ],
   "metadata": {}
  }
 ]
}