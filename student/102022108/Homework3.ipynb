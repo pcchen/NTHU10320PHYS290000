{
 "metadata": {
  "name": "",
  "signature": "sha256:475744c2e8c0dac37431d5ff3a45d848a49eefae345f02eef068a43df54244a1"
 },
 "nbformat": 3,
 "nbformat_minor": 0,
 "worksheets": [
  {
   "cells": [
    {
     "cell_type": "markdown",
     "metadata": {},
     "source": [
      "# Homework 3"
     ]
    },
    {
     "cell_type": "markdown",
     "metadata": {},
     "source": [
      "## Problem 1: Logistic map, chaos, bifurcation\n",
      "\n",
      "Consider the logic map\n",
      "\n",
      "$$\n",
      "  x_{n+1} = \\alpha x_n (1-x_n)\n",
      "$$\n",
      "\n",
      "Write a program to calculates and displays the behavior of the logistic map.\n",
      "\n",
      "* For a give value of $\\alpha$, start with $x=0.5$ and iterate the logistic map equation a thousand times. \n",
      "  * That will give it a chance to settle down to a fixed point or limit cycle if its going to.\n",
      "\n",
      "* Run for another thousand iterations and plot the points $(\\alpha,x)$ on a graph where the horizontal axis is $\\alpha$ and the vertical axis is $x$.\n",
      "\n",
      "* Repeat the whole calculation for values of $\\alpha$ from 1 to 4 in steps of 0.01, plotting the dots for all values of $\\alpha$ on the same figure.\n",
      "\n",
      "Reference: https://en.wikipedia.org/wiki/Logistic_map"
     ]
    },
    {
     "cell_type": "code",
     "collapsed": false,
     "input": [
      "# Problem 1.1\n",
      "\n",
      "def Logistic_map(a):\n",
      "    y=range(0,1000)\n",
      "    k=[0.5]\n",
      "    for i in y:\n",
      "        u=a*(k[(i-1)]-(k[(i-1)]**2))\n",
      "        k.append(u)\n",
      "    \n",
      "    print k[1000]\n",
      "    \n",
      "    \n",
      "\n",
      "\n",
      "Logistic_map(2.3)"
     ],
     "language": "python",
     "metadata": {},
     "outputs": [
      {
       "output_type": "stream",
       "stream": "stdout",
       "text": [
        "0.565217391304\n"
       ]
      }
     ],
     "prompt_number": 72
    },
    {
     "cell_type": "code",
     "collapsed": false,
     "input": [
      "# Problem 1.2\n",
      "def Logistic_map(a):\n",
      "    y=range(0,1000)\n",
      "    k=[0.5]\n",
      "    for i in y:\n",
      "        u=a*(k[(i-1)]-(k[(i-1)]**2))\n",
      "        k.append(u)\n",
      "    \n",
      "    return k[1000]\n",
      "\n",
      "%pylab inline\n",
      "\n",
      "x = arange(0, 3, 0.005)\n",
      "y = Logistic_map(x)\n",
      "figure(figsize(8,8))\n",
      "plot(x,y)\n"
     ],
     "language": "python",
     "metadata": {},
     "outputs": [
      {
       "output_type": "stream",
       "stream": "stdout",
       "text": [
        "Populating the interactive namespace from numpy and matplotlib\n"
       ]
      },
      {
       "metadata": {},
       "output_type": "pyout",
       "prompt_number": 74,
       "text": [
        "[<matplotlib.lines.Line2D at 0xf226470>]"
       ]
      },
      {
       "metadata": {},
       "output_type": "display_data",
       "png": "[encoded data removed]",
       "text": [
        "<matplotlib.figure.Figure at 0xf19f048>"
       ]
      }
     ],
     "prompt_number": 74
    },
    {
     "cell_type": "code",
     "collapsed": false,
     "input": [
      "# Problem 1.3\n",
      "def Logistic_mapa(a):\n",
      "    y=range(0,1000)\n",
      "    k=[0.5]\n",
      "    for i in y:\n",
      "        u=a*(k[(i-1)]-(k[(i-1)]**2))\n",
      "        k.append(u)\n",
      "    \n",
      "    return k[1000]\n",
      "\n",
      "def Logistic_mapb(a):\n",
      "    y=range(0,1000)\n",
      "    k=[0.5]\n",
      "    for i in y:\n",
      "        u=a*(k[(i-1)]-(k[(i-1)]**2))\n",
      "        k.append(u)\n",
      "    \n",
      "    return k[999]\n",
      "\n",
      "def Logistic_mapc(a):\n",
      "    y=range(0,1000)\n",
      "    k=[0.5]\n",
      "    for i in y:\n",
      "        u=a*(k[(i-1)]-(k[(i-1)]**2))\n",
      "        k.append(u)\n",
      "    \n",
      "    return k[998]\n",
      "\n",
      "def Logistic_mapd(a):\n",
      "    y=range(0,1000)\n",
      "    k=[0.5]\n",
      "    for i in y:\n",
      "        u=a*(k[(i-1)]-(k[(i-1)]**2))\n",
      "        k.append(u)\n",
      "    \n",
      "    return k[997]\n",
      "\n",
      "def Logistic_mape(a):\n",
      "    y=range(0,1000)\n",
      "    k=[0.5]\n",
      "    for i in y:\n",
      "        u=a*(k[(i-1)]-(k[(i-1)]**2))\n",
      "        k.append(u)\n",
      "    \n",
      "    return k[996]\n",
      "\n",
      "def Logistic_mapf(a):\n",
      "    y=range(0,1000)\n",
      "    k=[0.5]\n",
      "    for i in y:\n",
      "        u=a*(k[(i-1)]-(k[(i-1)]**2))\n",
      "        k.append(u)\n",
      "    \n",
      "    return k[995]\n",
      "\n",
      "def Logistic_mapg(a):\n",
      "    y=range(0,1000)\n",
      "    k=[0.5]\n",
      "    for i in y:\n",
      "        u=a*(k[(i-1)]-(k[(i-1)]**2))\n",
      "        k.append(u)\n",
      "    \n",
      "    return k[994]\n",
      "\n",
      "\n",
      "\n",
      "%pylab inline\n",
      "\n",
      "x = arange(0, 4, 0.005)\n",
      "y1 = Logistic_mapa(x)\n",
      "y2 = Logistic_mapb(x)\n",
      "y3 = Logistic_mapc(x)\n",
      "y4 = Logistic_mapd(x)\n",
      "y5 = Logistic_mape(x)\n",
      "y6 = Logistic_mapf(x)\n",
      "y7 = Logistic_mapg(x)\n",
      "\n",
      "figure(figsize(8,8))\n",
      "plot(x,y1,'r.')\n",
      "hold('on')\n",
      "plot(x,y2,'r.')\n",
      "plot(x,y3,'r.')\n",
      "plot(x,y4,'r.')\n",
      "plot(x,y5,'r.')\n",
      "plot(x,y6,'r.')\n",
      "plot(x,y7,'r.')\n"
     ],
     "language": "python",
     "metadata": {},
     "outputs": [
      {
       "output_type": "stream",
       "stream": "stdout",
       "text": [
        "Populating the interactive namespace from numpy and matplotlib\n"
       ]
      },
      {
       "metadata": {},
       "output_type": "pyout",
       "prompt_number": 93,
       "text": [
        "[<matplotlib.lines.Line2D at 0x19e14c18>]"
       ]
      },
      {
       "metadata": {},
       "output_type": "display_data",
       "png": "[encoded data removed]",
       "text": [
        "<matplotlib.figure.Figure at 0x152ce5c0>"
       ]
      }
     ],
     "prompt_number": 93
    },
    {
     "cell_type": "markdown",
     "metadata": {},
     "source": [
      "## Problem 2: The Mandelbrot set\n",
      "\n",
      "\n",
      "\n",
      "Consider the equation\n",
      "$$\n",
      "  z^\\prime=z^2+c,\n",
      "$$\n",
      "where $z$ is a complex number and $c$ is a complex constant.\n",
      "\n",
      "For a given complex value of $c$, start with $z = 0$ and iterate repeatedly. \n",
      "If the magnitude $|z|$ of the resulting value is ever greater than $2$, \n",
      "then the point in the complex plane at position $c$ is not in the Mandelbrot set, \n",
      "otherwise it is in the set.\n",
      "\n",
      "In principle, one has to iterate infinitely many times to prove that a point is in the Mandelbrot set.\n",
      "In practice, however, one usually just performs some large number of iterations, \n",
      "say 100 or 1000, and if $|z|$ hasn't exceeded 2 by that point then we call that good enough.\n",
      "\n",
      "Write a program to make an image of the Mandelbrot set by performing the iteration for all values of $c = x + iy$ on an $N \\times N$ grid spanning the region where $-2 \\le x \\le 2$ and $-2 \\le y \\le 2$. Make a **density plot** in which grid points inside the Mandelbrot set are colored black and those outside are colored white. \n",
      "\n",
      "\n",
      "Hint: You will probably find it useful to start off with quite a coarse grid, i.e., with a small value of $N$\n",
      "(perhaps $N = 100$) so that your program runs quickly while you are testing it. \n",
      "Once you are sure it is working correctly, increase the value of $N$ to produce a final high-quality image of the shape of the set.\n",
      "\n",
      "Instead of coloring points just black or white, color points according to the number of iterations of the equation before $z$ becomes greater than $2$ (or the maximum number of iterations if $|z|$ never becomes greater than 2). Use color schemes such as the `hot` or `jet` schemes. \n",
      "\n",
      "Or to color according to the logarithm of the number of iterations.\n",
      "\n",
      "Reference: https://en.wikipedia.org/wiki/Mandelbrot_set"
     ]
    },
    {
     "cell_type": "code",
     "collapsed": false,
     "input": [
      "import numpy as np\n",
      "from pylab import imshow, show\n",
      "from timeit import default_timer as timer"
     ],
     "language": "python",
     "metadata": {},
     "outputs": [],
     "prompt_number": 17
    },
    {
     "cell_type": "code",
     "collapsed": false,
     "input": [
      "# Problem 2\n",
      "def mandel(x, y, max_iters):\n",
      "  c = complex(x, y)\n",
      "  z = 0.0j\n",
      "  for i in range(max_iters):\n",
      "    z = z*z + c\n",
      "    if (z.real*z.real + z.imag*z.imag) >= 4:\n",
      "      return i\n",
      "\n",
      "  return max_iters\n",
      "\n",
      "def create_fractal(min_x, max_x, min_y, max_y, image, iters):\n",
      "  height = image.shape[0]\n",
      "  width = image.shape[1]\n",
      "\n",
      "  pixel_size_x = (max_x - min_x) / width\n",
      "  pixel_size_y = (max_y - min_y) / height\n",
      "    \n",
      "  for x in range(width):\n",
      "    real = min_x + x * pixel_size_x\n",
      "    for y in range(height):\n",
      "      imag = min_y + y * pixel_size_y\n",
      "      color = mandel(real, imag, iters)\n",
      "      image[y, x] = color\n",
      "        \n",
      "\n",
      "image = np.zeros((1000, 1500), dtype = np.uint8)\n",
      "start = timer()\n",
      "create_fractal(-125.0, -125.0, -125.0, 125.0, image, 5) \n",
      "dt = timer() - start\n",
      "\n",
      "print \"Mandelbrot created in %f s\" % dt\n",
      "imshow(image)\n",
      "show()"
     ],
     "language": "python",
     "metadata": {},
     "outputs": []
    },
    {
     "cell_type": "markdown",
     "metadata": {},
     "source": [
      "## Problem 3: Quadratic equations"
     ]
    },
    {
     "cell_type": "markdown",
     "metadata": {},
     "source": [
      "### Problem 3.1\n",
      "\n",
      "Write a program that takes as input three numbers, $a$, $b$, and $c$, and prints out the two solutions to the quadratic equation $ax^2 + bx + c = 0$ using the standard \ufffcformula\n",
      "\n",
      "$$\n",
      "  x = \\frac{-b\\pm\\sqrt{b^2-4ac}}{2a}.\n",
      "$$\n",
      "\n",
      "Use your program to compute the solutions of $0.001x^2 + 1000x + 0.001 = 0$."
     ]
    },
    {
     "cell_type": "code",
     "collapsed": false,
     "input": [
      "# Problem 3.1\n",
      "def sol_a(a,b,c):\n",
      "    x=(-b+((b**2-4*a*c)**0.5))/(2*a)\n",
      "    y=(-b-((b**2-4*a*c)**0.5))/(2*a)\n",
      "    return (x,y)\n",
      "\n",
      "sol_a(0.001,1000,0.001)"
     ],
     "language": "python",
     "metadata": {},
     "outputs": [
      {
       "metadata": {},
       "output_type": "pyout",
       "prompt_number": 7,
       "text": [
        "(-9.999894245993346e-07, -999999.999999)"
       ]
      }
     ],
     "prompt_number": 7
    },
    {
     "cell_type": "markdown",
     "metadata": {},
     "source": [
      "### Problem 3.2\n",
      "\n",
      "There is another way to write the solutions to a quadratic equation. Multiplying top and bottom of the solution above by $-b\\mp\\sqrt{b^2-4ac}$, one can show that the solutions \ufffccan also be written as\n",
      "\n",
      "$$\n",
      "  x = \\frac{2c}{-b\\mp\\sqrt{b^2-4ac}}.\n",
      "$$\n",
      "\n",
      "Write a program that takes as input three numbers, a, b, and c, and prints out the two solutions to the quadratic equation $ax^2+bx+c=0$ using this formula. Use the program to solve $0.001x^2 + 1000x + 0.001 = 0$."
     ]
    },
    {
     "cell_type": "code",
     "collapsed": false,
     "input": [
      "# Problem 3.2\n",
      "def sol_b(a,b,c):\n",
      "    t1=2*c/(-b-(b**2-4*a*c)**0.5)\n",
      "    t2=2*c/(-b+(b**2-4*a*c)**0.5)\n",
      "    return (t1,t2)\n",
      "\n",
      "sol_b(0.001,1000,0.001)"
     ],
     "language": "python",
     "metadata": {},
     "outputs": [
      {
       "metadata": {},
       "output_type": "pyout",
       "prompt_number": 14,
       "text": [
        "(-1.000000000001e-06, -1000010.5755125057)"
       ]
      }
     ],
     "prompt_number": 14
    },
    {
     "cell_type": "markdown",
     "metadata": {},
     "source": [
      "### Problem 3.3\n",
      "\n",
      "The correct solutions to the quadratic equation $0.001x^2 + 1000x + 0.001 = 0$ should be\n",
      "\n",
      "$$\n",
      "  x_1 = -1.00000000000100002081668371*10^{-6}, \\\\\n",
      "  x_2 = -9.99999999999000060986371202*10^{5}\n",
      "$$\n",
      "\n",
      "You should find out that one of the solutions is not very accurate for your code in problem 3.1 and 3.2. Using what you have learned, write a new program that calculates both roots of a quadratic equation accurately in all cases."
     ]
    },
    {
     "cell_type": "code",
     "collapsed": false,
     "input": [
      "# Problem 3.3\n",
      "def sol_ex(a,b,c):\n",
      "    x=2*c/(-b-(b**2-4*a*c)**0.5)\n",
      "    y=(-b-((b**2-4*a*c)**0.5))/(2*a)\n",
      "    return (x,y)\n",
      "\n",
      "sol_ex(0.001,1000,0.001)"
     ],
     "language": "python",
     "metadata": {},
     "outputs": [
      {
       "metadata": {},
       "output_type": "pyout",
       "prompt_number": 12,
       "text": [
        "(-1.000000000001e-06, -999999.999999)"
       ]
      }
     ],
     "prompt_number": 12
    },
    {
     "cell_type": "markdown",
     "metadata": {},
     "source": [
      "## Problem 4: Numerical derivatives\n",
      "\n",
      "The derivative of a functoin $f(x)$ is defined as\n",
      "\n",
      "$$\n",
      "  \\frac{df}{dx} = \\lim_{\\delta\\rightarrow 0} \\frac{f(x+\\delta)-f(x)}{\\delta}.\n",
      "$$\n",
      "\n",
      "On the computer we can\u2019t actually take the limit as $\\delta$ goes to zero, but we can get a reasonable approximation just by making $\\delta$ small."
     ]
    },
    {
     "cell_type": "markdown",
     "metadata": {},
     "source": [
      "### Problem 4.1\n",
      "\n",
      "Write a program that defines a function $f(x)$ returning the value $x(x \u2212 1)$, then calculates the derivative of the function at the point $x = 1$ using the formula above with $\\delta = 10^{\u22122}$. Calculate the true value of the same derivative analytically and compare with the answer your program gives."
     ]
    },
    {
     "cell_type": "code",
     "collapsed": false,
     "input": [
      "# Problem 4.1\n",
      "def f(x):\n",
      "    t=x**2-x\n",
      "    return t\n",
      "\n",
      "def diff_2(f,x):\n",
      "    k=(f(x+10**-2)-f(x))/(10**-2)\n",
      "    return k\n",
      "\n",
      "diff_2(f,1)"
     ],
     "language": "python",
     "metadata": {},
     "outputs": [
      {
       "metadata": {},
       "output_type": "pyout",
       "prompt_number": 4,
       "text": [
        "1.0099999999999998"
       ]
      }
     ],
     "prompt_number": 4
    },
    {
     "cell_type": "markdown",
     "metadata": {},
     "source": [
      "### Problem 4.2\n",
      "\n",
      "Repeat the calculation for $\\delta = 10^{\u22124}$ , $10^{\u22126}$ , $10^{\u22128}$ , $10^{\u221210}$ , $10^{\u221212}$ , and $10^{\u221214}$. You should see that the accuracy of the calculation initially gets better as \u03b4 gets smaller, but then gets worse again. Why is this?"
     ]
    },
    {
     "cell_type": "code",
     "collapsed": false,
     "input": [
      "# Problem 4.2\n",
      "def f(x):\n",
      "    t=x**2-x\n",
      "    return t\n",
      "\n",
      "def diff_2(f,x):\n",
      "    k=(f(x+10**-2)-f(x))/(10**-2)\n",
      "    return k\n",
      "\n",
      "def diff_4(f,x):\n",
      "    k=(f(x+10**-4)-f(x))/(10**-4)\n",
      "    return k\n",
      "\n",
      "def diff_6(f,x):\n",
      "    k=(f(x+10**-6)-f(x))/10**-6\n",
      "    return k\n",
      "\n",
      "def diff_8(f,x):\n",
      "    k=(f(x+10**-8)-f(x))/10**-8\n",
      "    return k\n",
      "\n",
      "def diff_10(f,x):\n",
      "    k=(f(x+10**-10)-f(x))/10**-10\n",
      "    return k\n",
      "\n",
      "def diff_12(f,x):\n",
      "    k=(f(x+10**-12)-f(x))/10**-12\n",
      "    return k\n",
      "\n",
      "def diff_14(f,x):\n",
      "    k=(f(x+10**-14)-f(x))/10**-14\n",
      "    return k\n",
      "\n",
      "def diff_16(f,x):\n",
      "    k=(f(x+10**-16)-f(x))/10**-16\n",
      "    return k\n",
      "\n",
      "def diff_n(f,x,n):\n",
      "    k=(f(x+10**-n)-f(x))/10**-n\n",
      "    return k\n",
      "\n",
      "def error(f,x,n):\n",
      "    error=diff_n(f,x,n)-1\n",
      "    return error\n",
      "\n",
      "print diff_2(f,1)\n",
      "\n",
      "print diff_4(f,1)\n",
      "\n",
      "print diff_6(f,1)\n",
      "\n",
      "print diff_8(f,1)\n",
      "\n",
      "print diff_10(f,1)\n",
      "\n",
      "print diff_12(f,1)\n",
      "\n",
      "print diff_14(f,1)\n",
      "\n",
      "print diff_16(f,1)\n",
      "\n",
      "print error(f,1,6)"
     ],
     "language": "python",
     "metadata": {},
     "outputs": [
      {
       "output_type": "stream",
       "stream": "stdout",
       "text": [
        "1.01\n",
        "1.0001\n",
        "1.00000100001\n",
        "0.999999993923\n",
        "1.00000008274\n",
        "1.00008890058\n",
        "0.999200722163\n",
        "0.0\n",
        "1.00000663394e-06\n"
       ]
      }
     ],
     "prompt_number": 18
    },
    {
     "cell_type": "markdown",
     "metadata": {},
     "source": [
      "### Problem 4.3\n",
      "\n",
      "Plot the error of your numerical derivative a function of $\\log(\\delta)$, with $\\delta \\in [10^{-2}, 10^{-14}]$."
     ]
    },
    {
     "cell_type": "code",
     "collapsed": false,
     "input": [
      "# Problem 4.3\n",
      "def f(x):\n",
      "    t=x**2-x\n",
      "    return t\n",
      "\n",
      "def diff_n(f,x,n):\n",
      "    k=(f(x+10**-n)-f(x))/10**-n\n",
      "    return k\n",
      "\n",
      "def error(f,x,n):\n",
      "    error=diff_n(f,x,n)-1\n",
      "    return error\n",
      "\n",
      "%pylab inline\n",
      "\n",
      "\n",
      "x = arange(0, 16, 0.005)\n",
      "y = (((1+10**-x)**2-(1+10**-x))/10**-x)-1\n",
      "figure(figsize(10,10))\n",
      "plot(x,y)\n",
      "\n"
     ],
     "language": "python",
     "metadata": {},
     "outputs": [
      {
       "output_type": "stream",
       "stream": "stdout",
       "text": [
        "Populating the interactive namespace from numpy and matplotlib\n"
       ]
      },
      {
       "output_type": "stream",
       "stream": "stderr",
       "text": [
        "WARNING: pylab import has clobbered these variables: ['f']\n",
        "`%matplotlib` prevents importing * from pylab and numpy\n"
       ]
      },
      {
       "metadata": {},
       "output_type": "pyout",
       "prompt_number": 37,
       "text": [
        "[<matplotlib.lines.Line2D at 0xefc9358>]"
       ]
      },
      {
       "metadata": {},
       "output_type": "display_data",
       "png": "[encoded data removed]",
       "text": [
        "<matplotlib.figure.Figure at 0xee87390>"
       ]
      }
     ],
     "prompt_number": 37
    },
    {
     "cell_type": "heading",
     "level": 1,
     "metadata": {},
     "source": []
    },
    {
     "cell_type": "code",
     "collapsed": false,
     "input": [],
     "language": "python",
     "metadata": {},
     "outputs": []
    }
   ],
   "metadata": {}
  }
 ]
}