{
 "metadata": {
  "name": "",
  "signature": "sha256:e37543314c20d86c53f6447d61ba8f2d540de130206b9c0033d7805cf783865b"
 },
 "nbformat": 3,
 "nbformat_minor": 0,
 "worksheets": [
  {
   "cells": [
    {
     "cell_type": "markdown",
     "metadata": {},
     "source": [
      "# Problem 1:\n",
      "# String and Dictionary\n",
      "\n",
      "In the first part, you should create a dictionary with following mapping between characters (character=one character string).\n",
      "* dic['a']='z'\n",
      "* dic['b']='y'\n",
      "* ...\n",
      "* dic['y']='b'\n",
      "* dic['z']='a'\n",
      "\n",
      "You should use built-in function `ord` and `chr` to build the dictionary. \n",
      "* The function `ord` convert a character into an integer. \n",
      "* The function `chr` convert an integer into a character. \n",
      "\n",
      "Here are some examples:"
     ]
    },
    {
     "cell_type": "code",
     "collapsed": false,
     "input": [
      "print ord('a'), ord('b'), ord('y'), ord('z')"
     ],
     "language": "python",
     "metadata": {},
     "outputs": [
      {
       "output_type": "stream",
       "stream": "stdout",
       "text": [
        "97 98 121 122\n"
       ]
      }
     ],
     "prompt_number": 1
    },
    {
     "cell_type": "code",
     "collapsed": false,
     "input": [
      "print chr(97), chr(98), chr(121), chr(122)"
     ],
     "language": "python",
     "metadata": {},
     "outputs": [
      {
       "output_type": "stream",
       "stream": "stdout",
       "text": [
        "a b y z\n"
       ]
      }
     ],
     "prompt_number": 2
    },
    {
     "cell_type": "markdown",
     "metadata": {},
     "source": [
      "Please implement a function called `inverse(c)` that gives you the mapping."
     ]
    },
    {
     "cell_type": "code",
     "collapsed": false,
     "input": [
      "def inverse(c):\n",
      "    n1=ord('a')\n",
      "    n2=ord('z')\n",
      "    num=ord(c)\n",
      "    result = n2-(num-n1)\n",
      "    word=chr(result)    \n",
      "    return word\n",
      "\n",
      "print inverse('a')\n",
      "print inverse('z')\n",
      "#-----------------------------  checked\n",
      "print inverse('n')\n",
      "\n",
      "#done"
     ],
     "language": "python",
     "metadata": {},
     "outputs": [
      {
       "output_type": "stream",
       "stream": "stdout",
       "text": [
        "z\n",
        "a\n",
        "m\n"
       ]
      }
     ],
     "prompt_number": 14
    },
    {
     "cell_type": "markdown",
     "metadata": {},
     "source": [
      "Please create the inverse mapping dictionary: `dic`."
     ]
    },
    {
     "cell_type": "code",
     "collapsed": false,
     "input": [
      "dic = {}\n",
      "n1=ord('a')\n",
      "n2=ord('z')\n",
      "for i in range (n2-n1+1):\n",
      "\n",
      "    dic[i]=chr(n2-i)\n",
      "    \n",
      "\n",
      "print dic     \n",
      "\n",
      "#done"
     ],
     "language": "python",
     "metadata": {},
     "outputs": [
      {
       "output_type": "stream",
       "stream": "stdout",
       "text": [
        "{0: 'z', 1: 'y', 2: 'x', 3: 'w', 4: 'v', 5: 'u', 6: 't', 7: 's', 8: 'r', 9: 'q', 10: 'p', 11: 'o', 12: 'n', 13: 'm', 14: 'l', 15: 'k', 16: 'j', 17: 'i', 18: 'h', 19: 'g', 20: 'f', 21: 'e', 22: 'd', 23: 'c', 24: 'b', 25: 'a'}\n"
       ]
      }
     ],
     "prompt_number": 11
    },
    {
     "cell_type": "markdown",
     "metadata": {},
     "source": [
      "In the second step, you should use the dictionary you construct to write a function that takes a string as an argument and return a string with inverse characters.\n",
      "\n",
      "Please implement the string inversion function `str_inversion'. You should get, for example,\n",
      "\n",
      "``\n",
      "print str_inversion('abc')\n",
      "zyx\n",
      "``"
     ]
    },
    {
     "cell_type": "code",
     "collapsed": false,
     "input": [
      "dic = {}\n",
      "n1=ord('a')\n",
      "n2=ord('z')\n",
      "for i in range (n2-n1+1):\n",
      "    dic[i]=chr(n2-i)\n",
      "print dic   \n",
      "\n",
      "#dic done\n",
      "\n",
      "def str_inversion(s):\n",
      "    ilist=[]\n",
      "    for i in s:\n",
      "        target=ord(i)\n",
      "        result = target-97\n",
      "        ilist.append(dic[result])\n",
      "    new=''.join(map(str, ilist))\n",
      "\n",
      "#done"
     ],
     "language": "python",
     "metadata": {},
     "outputs": [
      {
       "output_type": "stream",
       "stream": "stdout",
       "text": [
        "{0: 'z', 1: 'y', 2: 'x', 3: 'w', 4: 'v', 5: 'u', 6: 't', 7: 's', 8: 'r', 9: 'q', 10: 'p', 11: 'o', 12: 'n', 13: 'm', 14: 'l', 15: 'k', 16: 'j', 17: 'i', 18: 'h', 19: 'g', 20: 'f', 21: 'e', 22: 'd', 23: 'c', 24: 'b', 25: 'a'}\n"
       ]
      }
     ],
     "prompt_number": 54
    },
    {
     "cell_type": "code",
     "collapsed": false,
     "input": [
      "print str_inversion('abcdefg')\n"
     ],
     "language": "python",
     "metadata": {},
     "outputs": [
      {
       "output_type": "stream",
       "stream": "stdout",
       "text": [
        "zyxwvut\n",
        "None\n"
       ]
      }
     ],
     "prompt_number": 53
    },
    {
     "cell_type": "code",
     "collapsed": false,
     "input": [],
     "language": "python",
     "metadata": {},
     "outputs": []
    }
   ],
   "metadata": {}
  }
 ]
}