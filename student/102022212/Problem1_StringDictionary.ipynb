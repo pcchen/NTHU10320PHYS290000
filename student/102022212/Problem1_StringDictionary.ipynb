{
 "metadata": {
  "name": "",
  "signature": "sha256:e5cbd650ab853a9d78c5d516d81756424326cd71f9416281fc44ab03bd9fb4c3"
 },
 "nbformat": 3,
 "nbformat_minor": 0,
 "worksheets": [
  {
   "cells": [
    {
     "cell_type": "markdown",
     "metadata": {},
     "source": [
      "# Problem 1:\n",
      "# String and Dictionary\n",
      "\n",
      "In the first part, you should create a dictionary with following mapping between characters (character=one character string).\n",
      "* dic['a']='z'\n",
      "* dic['b']='y'\n",
      "* ...\n",
      "* dic['y']='b'\n",
      "* dic['z']='a'\n",
      "\n",
      "You should use built-in function `ord` and `chr` to build the dictionary. \n",
      "* The function `ord` convert a character into an integer. \n",
      "* The function `chr` convert an integer into a character. \n",
      "\n",
      "Here are some examples:"
     ]
    },
    {
     "cell_type": "code",
     "collapsed": false,
     "input": [
      "print ord('a'), ord('b'), ord('y'), ord('z')"
     ],
     "language": "python",
     "metadata": {},
     "outputs": [
      {
       "output_type": "stream",
       "stream": "stdout",
       "text": [
        "97 98 121 122\n"
       ]
      }
     ],
     "prompt_number": 1
    },
    {
     "cell_type": "code",
     "collapsed": false,
     "input": [
      "print chr(97), chr(98), chr(121), chr(122)"
     ],
     "language": "python",
     "metadata": {},
     "outputs": [
      {
       "output_type": "stream",
       "stream": "stdout",
       "text": [
        "a b y z\n"
       ]
      }
     ],
     "prompt_number": 2
    },
    {
     "cell_type": "markdown",
     "metadata": {},
     "source": [
      "Please implement a function called `inverse(c)` that gives you the mapping."
     ]
    },
    {
     "cell_type": "code",
     "collapsed": false,
     "input": [
      "# define inverse(c) here, you should have\n",
      "# inverse('a') --> 'z'\n",
      "# inverse('z') --> 'a'\n",
      "def inverse(c):\n",
      "    \n",
      "    ans=122-ord(c)\n",
      "    return chr(ans+97)\n",
      "    \n",
      "\n",
      "# test your function\n",
      "print inverse('a')\n",
      "print inverse('z')"
     ],
     "language": "python",
     "metadata": {},
     "outputs": [
      {
       "output_type": "stream",
       "stream": "stdout",
       "text": [
        "z\n",
        "a\n"
       ]
      }
     ],
     "prompt_number": 41
    },
    {
     "cell_type": "markdown",
     "metadata": {},
     "source": [
      "Please create the inverse mapping dictionary: `dic`."
     ]
    },
    {
     "cell_type": "code",
     "collapsed": false,
     "input": [
      "# create the inverse mapping dictionary\n",
      "dict={}\n",
      "def inverse_map(s):\n",
      "    d=dict\n",
      "    for c in s:\n",
      "      d[c] = inverse(c)\n",
      "            \n",
      "    return d    \n",
      "    \n",
      "# test your dictionarprint dict\n",
      "\n",
      "print inverse_map('wegx')"
     ],
     "language": "python",
     "metadata": {},
     "outputs": [
      {
       "output_type": "stream",
       "stream": "stdout",
       "text": [
        "{'x': 'c', 'e': 'v', 'g': 't', 'w': 'd'}\n"
       ]
      }
     ],
     "prompt_number": 146
    },
    {
     "cell_type": "markdown",
     "metadata": {},
     "source": [
      "In the second step, you should use the dictionary you construct to write a function that takes a string as an argument and return a string with inverse characters.\n",
      "\n",
      "Please implement the string inversion function `str_inversion'. You should get, for example,\n",
      "\n",
      "``\n",
      "print str_inversion('abc')\n",
      "zyx\n",
      "``"
     ]
    },
    {
     "cell_type": "code",
     "collapsed": false,
     "input": [
      "# str_inversion\n",
      "\n",
      "def str_inversion(s):\n",
      "     d=dict\n",
      "     for c in s:\n",
      "      d[c] = inverse(c)\n",
      "\n",
      "     for c in s:\n",
      "        print d[c],\n",
      "\n",
      "\n"
     ],
     "language": "python",
     "metadata": {},
     "outputs": [],
     "prompt_number": 255
    },
    {
     "cell_type": "code",
     "collapsed": false,
     "input": [
      "# test your function\n",
      "str_inversion('abc')"
     ],
     "language": "python",
     "metadata": {},
     "outputs": [
      {
       "output_type": "stream",
       "stream": "stdout",
       "text": [
        "z y x\n"
       ]
      }
     ],
     "prompt_number": 257
    },
    {
     "cell_type": "code",
     "collapsed": false,
     "input": [],
     "language": "python",
     "metadata": {},
     "outputs": []
    }
   ],
   "metadata": {}
  }
 ]
}