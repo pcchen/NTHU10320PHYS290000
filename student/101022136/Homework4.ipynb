{
 "metadata": {
  "name": "",
  "signature": "sha256:04805252fe9f2b53aab40624d7bcbed4b1cd328a5e544972fd0f2d558239f854"
 },
 "nbformat": 3,
 "nbformat_minor": 0,
 "worksheets": [
  {
   "cells": [
    {
     "cell_type": "markdown",
     "metadata": {},
     "source": [
      "# Homework 4"
     ]
    },
    {
     "cell_type": "markdown",
     "metadata": {},
     "source": [
      "## Problem 1 \n",
      "\n",
      "1. Implement the `Point` class.\n",
      "2. Implement the `Rectangle` class.\n",
      "3. Write a function called `distance_between_points` that takes two Points as arguments and returns the distance between them.\n",
      "4. Write a function named `move_rectangle` that takes a Rectangle and two numbers named `dx` and `dy`. It should change the location of the rectangle by adding `dx` to the `x` coordinate of corner and adding `dy` to the `y` coordinate of corner.\n",
      "5. Write a function named `move_rectangle_new` that is similar to the `move_rectangle` but it creates and returns a new Rectangle instead of modifying the old one.\n",
      "6. Write some codes to demonstrate the usage of functions above."
     ]
    },
    {
     "cell_type": "code",
     "collapsed": false,
     "input": [
      "# Problem 1\n",
      "\n",
      "# 1\n",
      "class Point(object):\n",
      "    \"\"\"Represents a point in 2-D space.\"\"\"\n",
      "    \n",
      "# 2\n",
      "class Rectangle(object):\n",
      "    \"\"\"Represents a rectangle. \n",
      "\n",
      "    attributes: width, height, corner.\n",
      "    \"\"\"\n",
      "# 3\n",
      "import math\n",
      "def  distance_between_points(p1,p2):\n",
      "    p=math.sqt((p1.x-p2.x)**2+(p1.y-p2.y)**2)\n",
      "    return p\n",
      "# 4\n",
      "\n",
      "box = Rectangle()\n",
      "box.width = 100.0\n",
      "box.height = 200.0\n",
      "box.corner = Point()\n",
      "box.corner.x = 0.0\n",
      "box.corner.y = 0.0\n",
      "def move_rectangle(box,dx,dy):\n",
      "    \n",
      "    \n",
      "    box.corner.x += dx\n",
      "    box.corner.y +=dy\n",
      "    return box\n",
      "# 5\n",
      "def move_rectangle_new (box,dx,dy):\n",
      "    box1=Rectangle()\n",
      "    box1.width = box.width\n",
      "    box1.height = box.height\n",
      "    box1.corner = Point()\n",
      "    box1.corner.x = box.corner.x+dx\n",
      "    box1.corner.y =box.corner.y+dy\n",
      "    return box1\n",
      "move_rectangle(box,50,60)\n",
      "move_rectangle_new (box,50,60)\n",
      "print box.corner.x,box.corner.y\n",
      "print move_rectangle_new (box,50,60).corner.x,move_rectangle_new (box,50,60).corner.y"
     ],
     "language": "python",
     "metadata": {},
     "outputs": [
      {
       "output_type": "stream",
       "stream": "stdout",
       "text": [
        "50.0 60.0\n",
        "100.0 120.0\n"
       ]
      }
     ],
     "prompt_number": 9
    },
    {
     "cell_type": "markdown",
     "metadata": {},
     "source": [
      "## Problem 2\n",
      "\n",
      "1. Implement the `Time` class.\n",
      "2. Write a function called `print_time` that takes a Time object and prints it in the form `hour:minute:second`. \n",
      "  **Hint**: the format sequence '%.2d' prints an integer using at least two digits, including a leading zero if necessary.\n",
      "3. Write a boolean function called `is_after` that takes two Time objects, `t1` and `t2`, and returns `True` if `t1` follows `t2` chronologically and `False` otherwise. **Challenge**: don\u2019t use an `if` statement.\n",
      "4. Write a function called `increment_modifier` that adds a given number of seconds to a Time object. It should modify the original time object. It should not contain any loops.\n",
      "5. Write a function called `increment_pure` that adds a given number of seconds to a Time object. It should create and return a new Time object.\n",
      "6. Write a function called `mul_time` that takes a Time object and a number and returns a new Time object that contains the product of the original Time and the number.\n",
      "7. Use `mul_time` to write a function that takes a Time object that represents the finishing time in a race, and a number that represents the distance, and returns a Time object that represents the average pace (time per mile).\n",
      "8. Write some codes to demonstrate the usage of functions above."
     ]
    },
    {
     "cell_type": "code",
     "collapsed": false,
     "input": [
      "# Problem 2\n",
      "\n",
      "# 1\n",
      "class Time(object):\n",
      "    \"\"\"attribute hour,minute,second\"\"\"\n",
      "# 2\n",
      "def print_time(time):\n",
      "    print '(%2d,%2d,%2d)'%(time.hour,time.minute,time.second)\n",
      "    \n",
      "# 3\n",
      "def is_after(t1,t2):\n",
      "    x1=t1.hour*3600+t1.minute*60+t1.second*1\n",
      "    x2=t2.hour*3600+t2.minute*60+t2.second*1\n",
      "    return x1>x2\n",
      "# 4\n",
      "def increment_modifier(t1,s):\n",
      "    t1.hour+=s/3600\n",
      "    t1.minute+=(s-3600*(s/3600))/60\n",
      "    t1.second+=s-3600*(s/3600)-60*((s-3600*(s/3600))/60)\n",
      "    return t1\n",
      "\n",
      "# 5\n",
      "def increment_pure(t1,s):\n",
      "    t2=Time()\n",
      "    t2.hour=t1.hour+s/3600\n",
      "    t2.minute=t1.minute+(s-3600*(s/3600))/60\n",
      "    t2.second=t1.second+s-3600*(s/3600)-60*((s-3600*(s/3600))/60)\n",
      "    return t2\n",
      "# 6\n",
      "def mul_time(t1,d):\n",
      "    #d=float(d)\n",
      "    s=t1.minute*60+t1.hour*3600+t1.second\n",
      "    p=d*s\n",
      "    t2=Time()\n",
      "    t2.hour=p/3600\n",
      "    t2.minute=(p-3600*(p/3600))/60\n",
      "    t2.second=p-3600*(p/3600)-60*((p-3600*(p/3600))/60)\n",
      "    return t2\n",
      "# 7\n",
      "def cal(t1,d):\n",
      "    d=1/d\n",
      "    t3=mul_time(t1,d)\n",
      "    return t3\n",
      "# 8\n",
      "def print_time(time):\n",
      "    print '%.2d:%.2d:%.2d' % (time.hour, time.minute, time.second)\n",
      "t1=Time()\n",
      "t1.hour=1\n",
      "t1.minute=2\n",
      "t1.second=3\n",
      "print_time(increment_pure(t1,5))\n",
      "print_time(mul_time(t1,6))\n",
      "print_time(cal(t1,7))\n"
     ],
     "language": "python",
     "metadata": {},
     "outputs": [],
     "prompt_number": 2
    },
    {
     "cell_type": "markdown",
     "metadata": {},
     "source": [
      "## Problem 3\n",
      "\n",
      "1. Write a class definition for a Date object that has attributes `day`, `month` and `year`.\n",
      "2. Write a function called `increment_date` that takes a Date object, `date` and an integer, `n`, and returns a new Date object that represents the day `n` days after date.\n",
      "3. **Challenge**: does your function deal with leap years correctly? See http://en.wikipedia.org/wiki/Leap_year."
     ]
    },
    {
     "cell_type": "code",
     "collapsed": false,
     "input": [
      "# Problem 3\n",
      "\n",
      "#1\n",
      "class Data(object):\n",
      "    \"\"\"attribute d,m,y\"\"\"\n",
      "    \n",
      "#2\n",
      "def increment_date(d1,da,n):\n",
      "    d2= Data()\n",
      "    s=d1.y*365+d1.m*30+d1.d\n",
      "    p=s+n\n",
      "    d2.y=(s+n)/365\n",
      "    d2.m=(s+n-365*d2.y)/30\n",
      "    d2.d=p-30*d2.m-365*d2.y\n",
      "    return d2\n",
      "    \n",
      "#3"
     ],
     "language": "python",
     "metadata": {},
     "outputs": [],
     "prompt_number": 3
    },
    {
     "cell_type": "markdown",
     "metadata": {},
     "source": [
      "## Problem 4\n",
      "\n",
      "The `datetime` module provides date and time objects that are similar to the Date and Time objects in this chapter, but they provide a rich set of methods and operators. Read the documentation at http://docs.python.org/2/library/datetime.html.\n",
      "\n",
      "1. Use the `datetime` module to write a program that gets the current date and prints the day of the week.\n",
      "2. Write a program that takes a birthday as input and prints the user\u2019s age and the number of days, hours, minutes and seconds until their next birthday.\n",
      "3. For two people born on different days, there is a day when one is twice as old as the other. That\u2019s their Double Day. Write a program that takes two birthdays and computes their Double Day.\n",
      "4. For a little more challenge, write the more general version that computes the day when one person is `n` times older than the other."
     ]
    },
    {
     "cell_type": "code",
     "collapsed": false,
     "input": [
      "# Problem 4\n",
      "\n",
      "#1\n",
      "\n",
      "#2\n",
      "#3\n",
      "#4"
     ],
     "language": "python",
     "metadata": {},
     "outputs": [],
     "prompt_number": 4
    },
    {
     "cell_type": "markdown",
     "metadata": {},
     "source": [
      "## Problem 5\n",
      "\n",
      "Implement the `Point` class and the `Rectangle` class, with following methods.\n",
      "\n",
      "1. Write an `init` method for the Point class that takes `x` and `y` as optional parameters and assigns them to the corresponding attributes.\n",
      "2. Write a `str` method for the Point class.\n",
      "3. Write an `add` method for Points that works with either a Point object or a tuple:\n",
      "  * If the second operand is a Point, the method should return a new Point whose `x` coordinate is the sum of the `x` coordinates of the operands, and likewise for the `y` coordinates.\n",
      "  * If the second operand is a tuple, the method should add the first element of the tuple to the `x` coordinate and the second element to the `y` coordinate, and return a new Point with the result.\n",
      "4. Write some codes to demonstrate the usage of methods above."
     ]
    },
    {
     "cell_type": "code",
     "collapsed": false,
     "input": [
      "# Problem 5\n",
      "\n",
      "#1\n",
      "#2\n",
      "#3\n",
      "#4"
     ],
     "language": "python",
     "metadata": {},
     "outputs": [],
     "prompt_number": 5
    }
   ],
   "metadata": {}
  }
 ]
}