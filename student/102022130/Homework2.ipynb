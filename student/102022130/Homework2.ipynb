 {
  "metadata": {
   "name": "",
-  "signature": "sha256:35bb0f89491e401dfd04bdd861353746b39445ab5869ffa8ffffe2a7b40e6279"
+  "signature": "sha256:9f2e1cd740607051c1c5b51a791ad11245a8e09de2942a34ec3269b554a580c2"
  },
  "nbformat": 3,
  "nbformat_minor": 0,
 @@ -37,51 +37,12 @@
      "cell_type": "code",
      "collapsed": false,
      "input": [
-      "def Catalan():\n",
-      "    a=1.0\n",
-      "    b=0.0\n",
-      "    d=0.0\n",
-      "    e=0.0\n",
-      "    f=0.0\n",
-      "    while a<=1000000000:\n",
-      "        print int(a)\n",
-      "        d=4*b+2\n",
-      "        e=b+2\n",
-      "        f=d/e\n",
-      "        a=f*a\n",
-      "        b=b+1\n",
-      "Catalan()"
+      "# Problem 1"
      ],
      "language": "python",
      "metadata": {},
-     "outputs": [
-      {
-       "output_type": "stream",
-       "stream": "stdout",
-       "text": [
-        "1\n",
-        "1\n",
-        "2\n",
-        "5\n",
-        "14\n",
-        "42\n",
-        "132\n",
-        "429\n",
-        "1430\n",
-        "4862\n",
-        "16796\n",
-        "58786\n",
-        "208012\n",
-        "742900\n",
-        "2674440\n",
-        "9694845\n",
-        "35357670\n",
-        "129644790\n",
-        "477638700\n"
-       ]
-      }
-     ],
-     "prompt_number": 13
+     "outputs": [],
+     "prompt_number": 1
     },
     {
      "cell_type": "markdown",
 @@ -118,44 +79,12 @@
      "cell_type": "code",
      "collapsed": false,
      "input": [
-      "def M(L):\n",
-      "    i=range(-L,L+1)\n",
-      "    j=range(-L,L+1)\n",
-      "    k=range(-L,L+1)\n",
-      "    tot=0\n",
-      "    for x in i:\n",
-      "        for y in j:\n",
-      "            for z in k:\n",
-      "                oddoreven=x+y+z\n",
-      "                if x==y==z==0:\n",
-      "                    pass\n",
-      "                elif oddoreven%2==0:\n",
-      "                    \n",
-      "                    dist=1/math.sqrt(float(x)**2+float(y)**2+float(z)**2)\n",
-      "                    #print dist,x,y,z\n",
-      "                    tot=tot+dist\n",
-      "                else :\n",
-      "                    dist=1/math.sqrt(float(x)**2+float(y)**2+float(z)**2)\n",
-      "                    #print -dist,x,y,z\n",
-      "                    tot=tot-dist\n",
-      "                    \n",
-      "                    \n",
-      "    print 'M_',L,'=',tot\n",
-      "M(90)\n",
-      "                    "
+      "# Problem 2"
      ],
      "language": "python",
      "metadata": {},
-     "outputs": [
-      {
-       "output_type": "stream",
-       "stream": "stdout",
-       "text": [
-        "M_ 90 = -1.74118503365\n"
-       ]
-      }
-     ],
-     "prompt_number": 1
+     "outputs": [],
+     "prompt_number": 2
     },
     {
      "cell_type": "markdown",
 @@ -178,33 +107,12 @@
      "cell_type": "code",
      "collapsed": false,
      "input": [
-      "primes=[]\n",
-      "def allprimes(top):\n",
-      "    for number in range(1,top+1):\n",
-      "        if isprime(number)==True:\n",
-      "            primes.append(number)\n",
-      "    print primes\n",
-      "        \n",
-      "def isprime(x):\n",
-      "    for p in primes:\n",
-      "        if x%p==0 and p!=1 and p<=math.sqrt(x):\n",
-      "            return False\n",
-      "    return True\n",
-      "\n",
-      "allprimes(100)\n"
+      "# Problem 3"
      ],
      "language": "python",
      "metadata": {},
-     "outputs": [
-      {
-       "output_type": "stream",
-       "stream": "stdout",
-       "text": [
-        "[1, 2, 3, 5, 7, 11, 13, 17, 19, 23, 29, 31, 37, 41, 43, 47, 53, 59, 61, 67, 71, 73, 79, 83, 89, 97]\n"
-       ]
-      }
-     ],
-     "prompt_number": 16
+     "outputs": [],
+     "prompt_number": 3
     },
     {
      "cell_type": "markdown",
 @@ -219,26 +127,6 @@
      "cell_type": "code",
      "collapsed": false,
      "input": [
-      "def nested_sum(t):\n",
-      "    summed=0\n",
-      "    for x in t:\n",
-      "        while isinstance(x, list):\n",
-      "            nested_sum(x)\n",
-      "            \n",
-      "    else:\n",
-      "        summed=summed+x\n",
-      "t=[1,2,3,[4,5,[6]]]\n",
-      "nested_sum(t)\n",
-      "print t"
-     ],
-     "language": "python",
-     "metadata": {},
-     "outputs": []
-    },
-    {
-     "cell_type": "code",
-     "collapsed": false,
-     "input": [
       "# Problem 4\n",
       "# Hint, you can use `isinstance` to check if a variable is a list or not\n",
       "t = [1, 2, [1, 1, 1]]\n",
 @@ -250,7 +138,18 @@
      ],
      "language": "python",
      "metadata": {},
-     "outputs": []
+     "outputs": [
+      {
+       "output_type": "stream",
+       "stream": "stdout",
+       "text": [
+        "1 is not a list\n",
+        "2 is not a list\n",
+        "[1, 1, 1] is a list\n"
+       ]
+      }
+     ],
+     "prompt_number": 4
     },
     {
      "cell_type": "markdown",
 @@ -265,29 +164,12 @@
      "cell_type": "code",
      "collapsed": false,
      "input": [
-      "def newlist(t):\n",
-      "    y=0\n",
-      "    new=[]\n",
-      "    for x in t:\n",
-      "        y=y+x\n",
-      "        new.append(y)\n",
-      "    print new\n",
-      "t=range(0,11)\n",
-      "\n",
-      "newlist(t)"
+      "# Problem 5"
      ],
      "language": "python",
      "metadata": {},
-     "outputs": [
-      {
-       "output_type": "stream",
-       "stream": "stdout",
-       "text": [
-        "[0, 1, 3, 6, 10, 15, 21, 28, 36, 45, 55]\n"
-       ]
-      }
-     ],
-     "prompt_number": 8
+     "outputs": [],
+     "prompt_number": 5
     },
     {
      "cell_type": "markdown",
 @@ -302,47 +184,12 @@
      "cell_type": "code",
      "collapsed": false,
      "input": [
-      "t=[1,2,3,4]\n",
-      "print len(t)"
+      "# Problem 6"
      ],
      "language": "python",
      "metadata": {},
-     "outputs": [
-      {
-       "output_type": "stream",
-       "stream": "stdout",
-       "text": [
-        "4\n"
-       ]
-      }
-     ],
-     "prompt_number": 26
-    },
-    {
-     "cell_type": "code",
-     "collapsed": false,
-     "input": [
-      "def middle(t):\n",
-      "    t2=t[1:len(t)-1]\n",
-      "    return t2\n",
-      "\n",
-      "t=[1,2,3,4,5]\n",
-      "middle(t)\n",
-      "\n"
-     ],
-     "language": "python",
-     "metadata": {},
-     "outputs": [
-      {
-       "metadata": {},
-       "output_type": "pyout",
-       "prompt_number": 30,
-       "text": [
-        "[2, 3, 4]"
-       ]
-      }
-     ],
-     "prompt_number": 30
+     "outputs": [],
+     "prompt_number": 6
     },
     {
      "cell_type": "markdown",
 @@ -357,32 +204,12 @@
      "cell_type": "code",
      "collapsed": false,
      "input": [
-      "def chop(t):\n",
-      "    del t[0]\n",
-      "    del t[len(t)-1]\n",
-      "    \n",
-      "    \n",
-      "    \n",
-      "t=range(10)\n",
-      "\n",
-      "\n",
-      "\n",
-      "print chop(t)\n",
-      "print t"
+      "# Problem 7"
      ],
      "language": "python",
      "metadata": {},
-     "outputs": [
-      {
-       "output_type": "stream",
-       "stream": "stdout",
-       "text": [
-        "None\n",
-        "[1, 2, 3, 4, 5, 6, 7, 8]\n"
-       ]
-      }
-     ],
-     "prompt_number": 36
+     "outputs": [],
+     "prompt_number": 7
     },
     {
      "cell_type": "markdown",
 @@ -397,52 +224,15 @@
      "cell_type": "code",
      "collapsed": false,
      "input": [
-      "fin=open('words.txt')\n",
-      "def wtf():\n",
-      "    for line in fin:\n",
-      "        letternmb=0\n",
-      "        word=line.strip()\n",
-      "        previous=word[0]\n",
-      "        for letter in word[1:]:\n",
-      "            if letter != previous:\n",
-      "                previous=letter\n",
-      "                letternmb=letternmb+1\n",
-      "            else:\n",
-      "                break\n",
-      "                check=True\n",
-      "            \n",
-      "        if check==True:\n",
-      "            if word[letternmb+3]==word[letternmb+4] and word[letternmb+5]==word[letternmb+6]:\n",
-      "                print word\n",
-      "wtf()       \n",
-      "    "
+      "# problem 8"
      ],
      "language": "python",
      "metadata": {},
-     "outputs": [
-      {
-       "ename": "IOError",
-       "evalue": "[Errno 2] No such file or directory: 'words.txt'",
-       "output_type": "pyerr",
-       "traceback": [
-        "\u001b[1;31m---------------------------------------------------------------------------\u001b[0m\n\u001b[1;31mIOError\u001b[0m                                   Traceback (most recent call last)",
-        "\u001b[1;32m<ipython-input-38-ff2acf5827b0>\u001b[0m in \u001b[0;36m<module>\u001b[1;34m()\u001b[0m\n\u001b[1;32m----> 1\u001b[1;33m \u001b[0mfin\u001b[0m\u001b[1;33m=\u001b[0m\u001b[0mopen\u001b[0m\u001b[1;33m(\u001b[0m\u001b[1;34m'words.txt'\u001b[0m\u001b[1;33m)\u001b[0m\u001b[1;33m\u001b[0m\u001b[0m\n\u001b[0m\u001b[0;32m      2\u001b[0m \u001b[1;32mdef\u001b[0m \u001b[0mwtf\u001b[0m\u001b[1;33m(\u001b[0m\u001b[1;33m)\u001b[0m\u001b[1;33m:\u001b[0m\u001b[1;33m\u001b[0m\u001b[0m\n\u001b[0;32m      3\u001b[0m     \u001b[1;32mfor\u001b[0m \u001b[0mline\u001b[0m \u001b[1;32min\u001b[0m \u001b[0mfin\u001b[0m\u001b[1;33m:\u001b[0m\u001b[1;33m\u001b[0m\u001b[0m\n\u001b[0;32m      4\u001b[0m         \u001b[0mletternmb\u001b[0m\u001b[1;33m=\u001b[0m\u001b[1;36m0\u001b[0m\u001b[1;33m\u001b[0m\u001b[0m\n\u001b[0;32m      5\u001b[0m         \u001b[0mword\u001b[0m\u001b[1;33m=\u001b[0m\u001b[0mline\u001b[0m\u001b[1;33m.\u001b[0m\u001b[0mstrip\u001b[0m\u001b[1;33m(\u001b[0m\u001b[1;33m)\u001b[0m\u001b[1;33m\u001b[0m\u001b[0m\n",
-        "\u001b[1;31mIOError\u001b[0m: [Errno 2] No such file or directory: 'words.txt'"
-       ]
-      }
-     ],
-     "prompt_number": 38
-    },
-    {
-     "cell_type": "code",
-     "collapsed": false,
-     "input": [],
-     "language": "python",
-     "metadata": {},
-     "outputs": []
+     "outputs": [],
+     "prompt_number": 8
     }
    ],
    "metadata": {}
   }
  ]
-}
+} 
