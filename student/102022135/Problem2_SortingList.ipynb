{
 "metadata": {
  "name": "",
  "signature": "sha256:71fdfc22bdfff207e8c8da1ab295fe2ef814d4ed80ae8fa952c1c90eb86029fc"
 },
 "nbformat": 3,
 "nbformat_minor": 0,
 "worksheets": [
  {
   "cells": [
    {
     "cell_type": "markdown",
     "metadata": {},
     "source": [
      "# Problem 2:\n",
      "# Sorting a List\n",
      "\n",
      "In this problem you should\n",
      "* Implement the **selection sort** algorithm.\n",
      "* Implement the **insertion sort** algorithm.\n",
      "* Create a list of N-elements where each element is a random integer between 0, 1, 2, ..., N-1.\n",
      "* Use your implementation of the selection sort and insertion sort to sort the the random list above.\n",
      "* Use built-in function `sorted()` that builds a new sorted list to show that your implementation is correct.\n",
      "\n",
      "## Selection sort\n",
      "\n",
      "Following is the algorithm of the **selection sort**:\n",
      "\n",
      "* Divide the input list into two sub-lists:\n",
      " * Sorted sub-list (Start with an empty list).\n",
      " * Un-Sorted sub-list.\n",
      "* Find the smallest element in the unsorted list.\n",
      "* Swap with the leftmost unsorted element.\n",
      "* Move the sub-list boundaries.\n",
      "\n",
      "Following is an example of selection sort:\n",
      "<img src=\"SelectionSort.png\" width=\"800\">\n",
      "\n",
      "## Insertion sort\n",
      "\n",
      "Following is the algorithm of the **insertion sort**:\n",
      "\n",
      "* Divide the input list into two sub-lists:\n",
      " * Sorted sub-list (Start with the leftmost element).\n",
      " * Un-Sorted sub-list.\n",
      "* Insert the leftmost element of the unsorted sub-list into the proper position of the sorted sub-list.\n",
      "* Move the sub-list boundaries \n",
      "\n",
      "Following is an example of selection sort:\n",
      "<img src=\"InsertionSort.png\" width=\"800\">"
     ]
    },
    {
     "cell_type": "markdown",
     "metadata": {},
     "source": [
      "Please write your code based on the sketch below and use the test code below to show that your function works properly."
     ]
    },
    {
     "cell_type": "code",
     "collapsed": false,
     "input": [
      "import random\n",
      "\n",
      "# create a random list with N elements\n",
      "def random_list(N):\n",
      "    k = random.sample(range(99999), N)\n",
      "    return k\n",
      "\n",
      "print random_list(5)\n",
      "\n",
      "\n",
      "\n",
      "\n",
      "# selection sort\n",
      "def selection_sort(list1):\n",
      "    for F in range(len(list1)-1,0,-1):\n",
      "       M=0\n",
      "       for L in range(1,F+1):\n",
      "           if list1[L]>list1[M]:\n",
      "               M = L\n",
      "\n",
      "       temp = list1[F]\n",
      "       list1[F] = list1[M]\n",
      "       list1[M] = temp\n",
      "                \n",
      "list1 = random_list(10)\n",
      "print list1\n",
      "selection_sort(list1)\n",
      "print list1\n",
      "\n",
      "\n",
      "\n",
      "\n",
      "\n",
      "# insertion sort\n",
      "def insertion_sort(list1):\n",
      "    for index in range(1,len(list1)):\n",
      "\n",
      "     C = list1[index]\n",
      "     P = index\n",
      "\n",
      "     while P>0 and list1[P-1]>C:\n",
      "         list1[P]=list1[P-1]\n",
      "         P = P-1\n",
      "\n",
      "     list1[P]=C\n",
      "\n",
      "list1 = random_list(10)\n",
      "print list1\n",
      "insertion_sort(list1)\n",
      "print list1"
     ],
     "language": "python",
     "metadata": {},
     "outputs": [
      {
       "output_type": "stream",
       "stream": "stdout",
       "text": [
        "[25014, 93348, 23499, 53663, 93744]\n",
        "[42742, 94418, 46789, 99538, 12663, 2167, 18651, 98881, 49340, 56741]\n",
        "[2167, 12663, 18651, 42742, 46789, 49340, 56741, 94418, 98881, 99538]\n",
        "[33602, 54554, 91139, 12598, 48880, 77798, 47335, 73686, 74656, 97209]\n",
        "[12598, 33602, 47335, 48880, 54554, 73686, 74656, 77798, 91139, 97209]\n"
       ]
      }
     ],
     "prompt_number": 34
    },
    {
     "cell_type": "code",
     "collapsed": false,
     "input": [
      "# test the implementation of selection sort\n",
      "N = 10\n",
      "L = random_list(N)\n",
      "L_sorted = sorted(L)\n",
      "selection_sort(L)\n",
      "\n",
      "for i in range(len(L)):\n",
      "    if L[i] != L_sorted[i]:\n",
      "        print 'oops!'    "
     ],
     "language": "python",
     "metadata": {},
     "outputs": [],
     "prompt_number": 32
    },
    {
     "cell_type": "code",
     "collapsed": false,
     "input": [
      "# test the implementation of insertion sort\n",
      "N = 10\n",
      "L = random_list(N)\n",
      "L_sorted = sorted(L)\n",
      "insertion_sort(L)\n",
      "\n",
      "for i in range(len(L)):\n",
      "    if L[i] != L_sorted[i]:\n",
      "        print 'oops!'    "
     ],
     "language": "python",
     "metadata": {},
     "outputs": [],
     "prompt_number": 23
    }
   ],
   "metadata": {}
  }
 ]
}