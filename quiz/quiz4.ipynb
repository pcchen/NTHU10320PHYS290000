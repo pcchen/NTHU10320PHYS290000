{
 "metadata": {
  "name": "",
  "signature": "sha256:4dcb8c867ec56075ffac5a387e378514e0183cdffc12a49b951b87b1e1226cb8"
 },
 "nbformat": 3,
 "nbformat_minor": 0,
 "worksheets": [
  {
   "cells": [
    {
     "cell_type": "markdown",
     "metadata": {},
     "source": [
      "# Quiz4\n",
      "# Name:\n",
      "# ID:"
     ]
    },
    {
     "cell_type": "code",
     "collapsed": false,
     "input": [
      "# Problem 1-4\n",
      "class Point(object):\n",
      "    def __init__(self, x=0, y=0):\n",
      "        self.x = x\n",
      "        self.y = y\n",
      "    def __str__(self):\n",
      "        return '[%g,%g]' % (self.x, self.y)\n",
      "    def __add__(self, other):\n",
      "        if isinstance(other, Point):\n",
      "            p = Point(self.x+other.x, self.y+other.y)\n",
      "            return p\n",
      "        elif isinstance(other, tuple):\n",
      "            x, y = other\n",
      "            p = Point(self.x+x, self.y+y)\n",
      "            return p\n",
      "    def __cmp__(self, other):\n",
      "        t1 = (self.x, self.y)\n",
      "        t2 = (other.x, other.y)\n",
      "        return cmp(t1, t2)\n",
      "def dis(p1,p2):\n",
      "    return abs(p1.x-p2.x)+abs(p1.y-p2.y)"
     ],
     "language": "python",
     "metadata": {},
     "outputs": []
    },
    {
     "cell_type": "code",
     "collapsed": false,
     "input": [
      "# Problem 1\n",
      "p1 = Point()\n",
      "p2 = Point(y=2, x=1)\n",
      "print p1\n",
      "print p2"
     ],
     "language": "python",
     "metadata": {},
     "outputs": []
    },
    {
     "cell_type": "code",
     "collapsed": false,
     "input": [
      "# Problem 2\n",
      "p3 = Point(2,4)\n",
      "p4 = p3 + (4,3)\n",
      "print p4"
     ],
     "language": "python",
     "metadata": {},
     "outputs": []
    },
    {
     "cell_type": "code",
     "collapsed": false,
     "input": [
      "# Problem 3\n",
      "print dis(p3,p4)"
     ],
     "language": "python",
     "metadata": {},
     "outputs": []
    },
    {
     "cell_type": "code",
     "collapsed": false,
     "input": [
      "# Problem 4\n",
      "p1 = Point(1,1)\n",
      "p2 = Point(1,2)\n",
      "p3 = Point(y=2, x=1)\n",
      "p4 = Point(0,1)\n",
      "print cmp(p1,p2)\n",
      "print cmp(p2,p3)\n",
      "print cmp(p1,p4)"
     ],
     "language": "python",
     "metadata": {},
     "outputs": []
    },
    {
     "cell_type": "code",
     "collapsed": false,
     "input": [
      "# Problme 5-\n",
      "class Card(object):\n",
      "    def __init__(self, suit=0, rank=2):\n",
      "        self.suit = suit\n",
      "        self.rank = rank\n",
      "    def __str__(self):\n",
      "        return '[%s, %s]' % (self.suit, self.rank)\n",
      "class Deck(object):\n",
      "    def __init__(self):\n",
      "        self.cards = []\n",
      "        for suit in range(2):\n",
      "            for rank in range(1, 3):\n",
      "                card = Card(suit, rank)\n",
      "                self.cards.append(card)                \n",
      "    def __str__(self):\n",
      "        res = []\n",
      "        for card in self.cards:\n",
      "            res.append(str(card))\n",
      "        return '\\n'.join(res)\n",
      "    def add_card(self, card):\n",
      "        self.cards.append(card)\n",
      "    def pop_card(self):\n",
      "        return self.cards.pop()\n",
      "    def move_cards(self, hand, num):\n",
      "        for i in range(num):\n",
      "            hand.add_card(self.pop_card())\n",
      "class Hand(Deck):\n",
      "    def __init__(self, label=''):\n",
      "        self.cards = []\n",
      "        self.label = label"
     ],
     "language": "python",
     "metadata": {},
     "outputs": []
    },
    {
     "cell_type": "code",
     "collapsed": false,
     "input": [
      "# Problem 5\n",
      "d1 = Deck()\n",
      "print d1"
     ],
     "language": "python",
     "metadata": {},
     "outputs": []
    },
    {
     "cell_type": "code",
     "collapsed": false,
     "input": [
      "# Problem 6\n",
      "h1 = Hand('my hand')\n",
      "d1.move_cards(h1,2)\n",
      "print h1"
     ],
     "language": "python",
     "metadata": {},
     "outputs": []
    },
    {
     "cell_type": "code",
     "collapsed": false,
     "input": [
      "# Problem 7\n",
      "h2 = Hand('your hand')\n",
      "h1.move_cards(h2,1)\n",
      "print h2"
     ],
     "language": "python",
     "metadata": {},
     "outputs": []
    },
    {
     "cell_type": "code",
     "collapsed": false,
     "input": [
      "# Problem 8\n",
      "import copy\n",
      "\n",
      "d1 = Deck()\n",
      "d2 = copy.copy(d1)\n",
      "d3 = copy.deepcopy(d1)\n",
      "d1.cards[0].suit = 100\n",
      "\n",
      "print d2\n",
      "print d3"
     ],
     "language": "python",
     "metadata": {},
     "outputs": []
    }
   ],
   "metadata": {}
  }
 ]
}