{
 "cells": [
  {
   "cell_type": "markdown",
   "metadata": {},
   "source": [
    "# Homework 5"
   ]
  },
  {
   "cell_type": "markdown",
   "metadata": {},
   "source": [
    "## Problem 1\n",
    "\n",
    "Consider the damped oscillation\n",
    "$$\n",
    "  \\ddot{x} + 2\\beta\\dot{x} + \\omega^2_0 x =0.\n",
    "$$\n",
    "\n",
    "For a given set of $\\beta$ and $\\omega_0$ and initial conditions $x(0)$ and $\\dot{x}(0)$:\n",
    "* Plot $x(t)$.\n",
    "* Plot $E(t)$.\n",
    "* Plot $dE(t)/dt$.\n",
    "* Plot the phase-path on the $x-\\dot{x}$ plane."
   ]
  },
  {
   "cell_type": "code",
   "execution_count": 1,
   "metadata": {
    "collapsed": false
   },
   "outputs": [
    {
     "name": "stdout",
     "output_type": "stream",
     "text": [
      "Populating the interactive namespace from numpy and matplotlib\n"
     ]
    }
   ],
   "source": [
    "%pylab inline"
   ]
  },
  {
   "cell_type": "code",
   "execution_count": 2,
   "metadata": {
    "collapsed": false
   },
   "outputs": [
    {
     "data": {
      "text/plain": [
       "<function __main__.ocs>"
      ]
     },
     "execution_count": 2,
     "metadata": {},
     "output_type": "execute_result"
    },
    {
     "data": {
      "image/png": "[encoded data removed]",
      "text/plain": [
       "<matplotlib.figure.Figure at 0x9c5cb70>"
      ]
     },
     "metadata": {},
     "output_type": "display_data"
    }
   ],
   "source": [
    "# Problem 1\n",
    "import numpy as np\n",
    "\n",
    "from IPython.html.widgets import interact\n",
    "# Problem 1\n",
    "\n",
    "b = np.arange(0,2,0.5)\n",
    "\n",
    "t = np.linspace(0.,10.,200)\n",
    "\n",
    "def sq1(b,w):\n",
    "    return np.sqrt(w-b**2)\n",
    "def sq2(b,w):\n",
    "    return np.sqrt(b**2-w)\n",
    "## x(0)=1 v(0)=0\n",
    "def ocs(beta,w):\n",
    "    if  beta < w:\n",
    "        x = np.exp(-beta*t)*np.cos(sq1(beta,w)*t)\n",
    "    elif beta >= w:\n",
    "        x = np.exp(-beta*t)*np.exp(sq2(beta,w)*t)\n",
    "    plot(t,x)\n",
    "    title('x(t)')\n",
    "    \n",
    "\n",
    "interact(ocs,beta=(0.,2,),w=(0.,2.))"
   ]
  },
  {
   "cell_type": "code",
   "execution_count": 3,
   "metadata": {
    "collapsed": false
   },
   "outputs": [
    {
     "data": {
      "text/plain": [
       "<function __main__.Eocs>"
      ]
     },
     "execution_count": 3,
     "metadata": {},
     "output_type": "execute_result"
    },
    {
     "data": {
      "image/png": "[encoded data removed]",
      "text/plain": [
       "<matplotlib.figure.Figure at 0x9ebdb00>"
      ]
     },
     "metadata": {},
     "output_type": "display_data"
    }
   ],
   "source": [
    "#E(t)\n",
    "#m = 1 ,k = w0^2\n",
    "def under_x(b,w,t):\n",
    "    return np.exp(-b*t)*np.cos(sq1(b,w)*t)\n",
    "def over_x(b,w,t):\n",
    "    return np.exp(-b*t)*np.exp(sq2(b,w)*t)\n",
    "def under_v(b,w,t):\n",
    "    return (-b*np.exp(-b*t)*np.cos(sq1(b,w)*t))+(-sq1(b,w)*np.exp(-b*t)*np.sin(sq1(b,w)*t))\n",
    "def over_v(b,w,t):\n",
    "    return (-b+sq2(b,w))*np.exp(-b*t)*np.exp(sq2(b,w)*t)\n",
    "\n",
    "def Eocs(beta,w):\n",
    "    if  beta<w:\n",
    "        E = ((w**2)*(under_x(beta,w,t))**2+under_v(beta,w,t)**2)/2\n",
    "    elif beta >= w:\n",
    "        E = ((w**2)*(over_x(beta,w,t)**2)+over_v(beta,w,t)**2)/2\n",
    "    plot(t,E)\n",
    "    title('E(t)')\n",
    "   \n",
    "\n",
    "interact(Eocs,beta=(0.,2,),w=(0.,2.))"
   ]
  },
  {
   "cell_type": "code",
   "execution_count": 4,
   "metadata": {
    "collapsed": false
   },
   "outputs": [
    {
     "data": {
      "text/plain": [
       "<function __main__.xvplot>"
      ]
     },
     "execution_count": 4,
     "metadata": {},
     "output_type": "execute_result"
    },
    {
     "data": {
      "image/png": "[encoded data removed]",
      "text/plain": [
       "<matplotlib.figure.Figure at 0x9eaabe0>"
      ]
     },
     "metadata": {},
     "output_type": "display_data"
    }
   ],
   "source": [
    "#x-v  \n",
    "\n",
    "def xvplot(beta,w):\n",
    "    if  beta<w:\n",
    "        x = under_x(beta,w,t)\n",
    "        v = under_v(beta,w,t)\n",
    "    elif beta >= w:\n",
    "        x = over_x(beta,w,t)\n",
    "        v = over_v(beta,w,t)\n",
    "    scatter(x,v)\n",
    "    title('x-v')\n",
    "\n",
    "interact(xvplot,beta=(0.,2,),w=(0.,2.))"
   ]
  },
  {
   "cell_type": "markdown",
   "metadata": {},
   "source": [
    "## Problem 2\n",
    "\n",
    "Consider the driven oscillation\n",
    "$$\n",
    "  \\ddot{x} + 2\\beta\\dot{x} + \\omega^2_0 x = A\\cos(\\omega t).\n",
    "$$\n",
    "\n",
    "For a given set of $\\beta$, $\\omega_0$ and $\\omega$:\n",
    "* Plot quality factor $Q$ as a function of $\\omega$.\n",
    "* Plot phase angle $\\delta$ as a function of $\\omega$.\n",
    "* Use IPython Interact to let the user changes the values of $\\beta$, $\\omega_0$ and $\\omega$."
   ]
  },
  {
   "cell_type": "code",
   "execution_count": 5,
   "metadata": {
    "collapsed": false
   },
   "outputs": [
    {
     "data": {
      "text/plain": [
       "<function __main__.Dplot>"
      ]
     },
     "execution_count": 5,
     "metadata": {},
     "output_type": "execute_result"
    },
    {
     "data": {
      "image/png": "[encoded data removed]",
      "text/plain": [
       "<matplotlib.figure.Figure at 0xa17a4e0>"
      ]
     },
     "metadata": {},
     "output_type": "display_data"
    }
   ],
   "source": [
    "# Problem 2\n",
    "# A = 10\n",
    "w = np.linspace(0,20,400)\n",
    "\n",
    "def Damplitude(b,w0,w):\n",
    "    return 10/(np.sqrt(((w0**2-w**2))**2+(2*w*b)**2))\n",
    "\n",
    "def Dplot(b,w0):\n",
    "    D = Damplitude(b,w0,w)\n",
    "    plot(w,D)\n",
    "    title('D-w')\n",
    "\n",
    "interact(Dplot,b=(0.,4.),w0=(0.,15.))"
   ]
  },
  {
   "cell_type": "code",
   "execution_count": 6,
   "metadata": {
    "collapsed": false
   },
   "outputs": [
    {
     "data": {
      "text/plain": [
       "<function __main__.phaseplot>"
      ]
     },
     "execution_count": 6,
     "metadata": {},
     "output_type": "execute_result"
    },
    {
     "data": {
      "image/png": "[encoded data removed]",
      "text/plain": [
       "<matplotlib.figure.Figure at 0xa30f4e0>"
      ]
     },
     "metadata": {},
     "output_type": "display_data"
    }
   ],
   "source": [
    "#delta \n",
    "def delta(b,w0,w):\n",
    "    theta = (np.arctan((2*w*b)/(w0**2-w**2)))\n",
    "    for a in range(len(theta)):\n",
    "        if theta[a]<0:\n",
    "            theta[a] = np.pi+theta[a]\n",
    "    return theta\n",
    "\n",
    "def phaseplot(b,w0):\n",
    "    d = delta(b,w0,w)\n",
    "    plot(w,d)\n",
    "    title('delta-w')\n",
    "    \n",
    "interact(phaseplot,b=(0.,2.),w0=(5.,15.))"
   ]
  },
  {
   "cell_type": "markdown",
   "metadata": {},
   "source": [
    "## Problem 3\n",
    "\n",
    "Write a definition for a class named `Kangaroo` with the following methods:\n",
    "\n",
    "* An `__init__` method that initializes an attribute named `pouch_contents` to an empty list.\n",
    "* A method named `put_in_pouch` that takes an object of any type and adds it to `pouch_contents`.\n",
    "* A `__str__` method that returns a string representation of the Kangaroo object and the contents of the pouch.\n",
    "\n",
    "Test your code by creating two Kangaroo objects, assigning them to variables named `kanga` and `roo`, and then adding `roo` to the contents of `kanga`’s pouch"
   ]
  },
  {
   "cell_type": "code",
   "execution_count": 7,
   "metadata": {
    "collapsed": false
   },
   "outputs": [
    {
     "name": "stdout",
     "output_type": "stream",
     "text": [
      "<__main__.Kangaroo object at 0x000000000AE57E80> with pouch contents:\n",
      "    'kanga'\n",
      "    'roo'\n",
      "    <__main__.Kangaroo object at 0x000000000AE57EB8>\n",
      "<__main__.Kangaroo object at 0x000000000AE57EB8> with pouch contents:\n"
     ]
    }
   ],
   "source": [
    "# Problme 3\n",
    "# Problme 3\n",
    "\n",
    "class Kangaroo(object):\n",
    "    \"Kangarooooooowwooo\"\n",
    "    #1\n",
    "    def __init__(self,contents=[]):\n",
    "        self.pouch_contents = contents\n",
    "    def __init__(self, contents=None):\n",
    "        if contents == None:\n",
    "            contents = []\n",
    "        self.pouch_contents = contents\n",
    "    #2\n",
    "    def put_in_pouch(self, item):\n",
    "        self.pouch_contents.append(item)\n",
    "    #3\n",
    "    def __str__(self):\n",
    "        t = [ object.__str__(self) + ' with pouch contents:' ]\n",
    "        for obj in self.pouch_contents:\n",
    "            s = '    ' + object.__str__(obj)\n",
    "            t.append(s)\n",
    "        return '\\n'.join(t)\n",
    "    \n",
    "#test\n",
    "kanga = Kangaroo()\n",
    "roo = Kangaroo()\n",
    "kanga.put_in_pouch('kanga')\n",
    "kanga.put_in_pouch('roo')\n",
    "kanga.put_in_pouch(roo)\n",
    "\n",
    "print kanga\n",
    "print roo\n",
    "\n",
    "#from thinking python\n"
   ]
  },
  {
   "cell_type": "markdown",
   "metadata": {},
   "source": [
    "## Problem 4\n",
    "\n",
    "Write a `__cmp__` method for `Time` objects. "
   ]
  },
  {
   "cell_type": "code",
   "execution_count": 7,
   "metadata": {
    "collapsed": false
   },
   "outputs": [
    {
     "name": "stdout",
     "output_type": "stream",
     "text": [
      "09:45:01\n",
      "01:35:01\n",
      "False\n",
      "True\n",
      "True\n",
      "False\n"
     ]
    }
   ],
   "source": [
    "# Problem 4\n",
    "#from chap 17\n",
    "def int_to_time(seconds):\n",
    "    time = Time()\n",
    "    minutes, time.second = divmod(seconds, 60)\n",
    "    time.hour, time.minute = divmod(minutes, 60)\n",
    "    return time\n",
    "\n",
    "\n",
    "class Time(object):\n",
    "    \"\"\"Represents the time of day.\n",
    "    attributes: hour, minute, second\n",
    "    \"\"\"\n",
    "    \n",
    "    # special methods\n",
    "    def __init__(self, hour=0, minute=0, second=0):\n",
    "        self.hour = hour\n",
    "        self.minute = minute\n",
    "        self.second = second\n",
    "\n",
    "    def __str__(self):\n",
    "        return '%.2d:%.2d:%.2d' % (self.hour, self.minute, self.second)\n",
    "    \n",
    "    # methods\n",
    "     \n",
    "        \n",
    "    def time_to_int(self):\n",
    "        minutes = self.hour * 60 + self.minute\n",
    "        seconds = minutes * 60 + self.second\n",
    "        return seconds\n",
    "    \n",
    "\n",
    "    # operator overloading\n",
    "    #cmp\n",
    "    def __cmp__(self, other):\n",
    "        return cmp(self.time_to_int() , other.time_to_int())\n",
    "    \n",
    "a = Time(9, 45,1)\n",
    "b = Time(1, 35,1)\n",
    "c = Time(9, 45,1)\n",
    "print a\n",
    "print b\n",
    "print a<b\n",
    "print a>b\n",
    "print c==a\n",
    "print c>a"
   ]
  },
  {
   "cell_type": "markdown",
   "metadata": {},
   "source": [
    "## Problem 5\n",
    "\n",
    "Write a `Deck` method named `sort` that uses the list method `sort` to sort the cards in a `Deck`. `sort` uses the `__cmp__` method we defined to determine sort order."
   ]
  },
  {
   "cell_type": "code",
   "execution_count": 8,
   "metadata": {
    "collapsed": false
   },
   "outputs": [],
   "source": [
    "# Problem 5\n",
    "class Card(object):\n",
    "    \"\"\"Represents a standard playing card.\"\"\"\n",
    "\n",
    "    # class attributes\n",
    "    suit_names = ['Clubs', 'Diamonds', 'Hearts', 'Spades']\n",
    "    rank_names = [None, 'Ace', '2', '3', '4', '5', '6', '7', \n",
    "              '8', '9', '10', 'Jack', 'Queen', 'King']\n",
    "\n",
    "    # special methods\n",
    "    def __str__(self):\n",
    "        return '%s of %s' % (Card.rank_names[self.rank],\n",
    "                             Card.suit_names[self.suit])    \n",
    "    \n",
    "    def __init__(self, suit=0, rank=2):\n",
    "        self.suit = suit\n",
    "        self.rank = rank\n",
    "        \n",
    "    # operator overloading\n",
    "    # verbose version\n",
    "    def __cmp__(self, other):\n",
    "        # check the suits\n",
    "        if self.suit > other.suit: return 1\n",
    "        if self.suit < other.suit: return -1\n",
    "\n",
    "        # suits are the same... check ranks\n",
    "        if self.rank > other.rank: return 1\n",
    "        if self.rank < other.rank: return -1\n",
    "\n",
    "        # ranks are the same... it's a tie\n",
    "        return 0  \n",
    "    \n",
    "    # concise version, using tuple\n",
    "    def __cmp__(self, other):\n",
    "        t1 = self.suit, self.rank\n",
    "        t2 = other.suit, other.rank\n",
    "        return cmp(t1, t2)\n",
    "\n",
    "    \n",
    "class Deck(object):\n",
    "\n",
    "    # special methods\n",
    "    def __init__(self):\n",
    "        self.cards = []\n",
    "        for suit in range(4):\n",
    "            for rank in range(1, 14):\n",
    "                card = Card(suit, rank)\n",
    "                self.cards.append(card)\n",
    "\n",
    "    def __str__(self):\n",
    "        res = []\n",
    "        for card in self.cards:\n",
    "            res.append(str(card))\n",
    "        return '\\n'.join(res)\n",
    "\n",
    "    # methods\n",
    "    def pop_card(self):\n",
    "        return self.cards.pop()\n",
    "    \n",
    "    def add_card(self, card):\n",
    "        self.cards.append(card)    \n",
    "        \n",
    "    def shuffle(self):\n",
    "        random.shuffle(self.cards)\n",
    "    #sort /ch12.7\n",
    "    def sort(self):\n",
    "        self.cards.sort(cmp=Card.__cmp__)"
   ]
  },
  {
   "cell_type": "code",
   "execution_count": 15,
   "metadata": {
    "collapsed": false
   },
   "outputs": [
    {
     "name": "stdout",
     "output_type": "stream",
     "text": [
      "Jack of Hearts\n",
      "Jack of Clubs\n",
      "Queen of Hearts\n",
      "Ace of Clubs\n",
      "6 of Clubs\n",
      "7 of Spades\n",
      "8 of Hearts\n",
      "4 of Hearts\n",
      "King of Spades\n",
      "5 of Diamonds\n",
      "10 of Hearts\n",
      "3 of Hearts\n",
      "5 of Spades\n",
      "10 of Diamonds\n",
      "2 of Spades\n",
      "King of Hearts\n",
      "5 of Hearts\n",
      "9 of Diamonds\n",
      "8 of Spades\n",
      "6 of Spades\n",
      "7 of Hearts\n",
      "8 of Diamonds\n",
      "7 of Diamonds\n",
      "2 of Diamonds\n",
      "4 of Clubs\n",
      "2 of Clubs\n",
      "Ace of Hearts\n",
      "9 of Clubs\n",
      "Queen of Spades\n",
      "4 of Spades\n",
      "10 of Spades\n",
      "8 of Clubs\n",
      "King of Diamonds\n",
      "Ace of Spades\n",
      "9 of Spades\n",
      "3 of Spades\n",
      "3 of Clubs\n",
      "Jack of Diamonds\n",
      "King of Clubs\n",
      "9 of Hearts\n",
      "5 of Clubs\n",
      "Jack of Spades\n",
      "3 of Diamonds\n",
      "6 of Diamonds\n",
      "2 of Hearts\n",
      "4 of Diamonds\n",
      "10 of Clubs\n",
      "7 of Clubs\n",
      "Ace of Diamonds\n",
      "6 of Hearts\n",
      "Queen of Diamonds\n",
      "Queen of Clubs\n",
      "-------------\n",
      "Ace of Clubs\n",
      "2 of Clubs\n",
      "3 of Clubs\n",
      "4 of Clubs\n",
      "5 of Clubs\n",
      "6 of Clubs\n",
      "7 of Clubs\n",
      "8 of Clubs\n",
      "9 of Clubs\n",
      "10 of Clubs\n",
      "Jack of Clubs\n",
      "Queen of Clubs\n",
      "King of Clubs\n",
      "Ace of Diamonds\n",
      "2 of Diamonds\n",
      "3 of Diamonds\n",
      "4 of Diamonds\n",
      "5 of Diamonds\n",
      "6 of Diamonds\n",
      "7 of Diamonds\n",
      "8 of Diamonds\n",
      "9 of Diamonds\n",
      "10 of Diamonds\n",
      "Jack of Diamonds\n",
      "Queen of Diamonds\n",
      "King of Diamonds\n",
      "Ace of Hearts\n",
      "2 of Hearts\n",
      "3 of Hearts\n",
      "4 of Hearts\n",
      "5 of Hearts\n",
      "6 of Hearts\n",
      "7 of Hearts\n",
      "8 of Hearts\n",
      "9 of Hearts\n",
      "10 of Hearts\n",
      "Jack of Hearts\n",
      "Queen of Hearts\n",
      "King of Hearts\n",
      "Ace of Spades\n",
      "2 of Spades\n",
      "3 of Spades\n",
      "4 of Spades\n",
      "5 of Spades\n",
      "6 of Spades\n",
      "7 of Spades\n",
      "8 of Spades\n",
      "9 of Spades\n",
      "10 of Spades\n",
      "Jack of Spades\n",
      "Queen of Spades\n",
      "King of Spades\n"
     ]
    }
   ],
   "source": [
    "deck = Deck()\n",
    "deck.shuffle()\n",
    "print deck\n",
    "print '-------------'\n",
    "deck.cards.sort()\n",
    "print deck"
   ]
  },
  {
   "cell_type": "markdown",
   "metadata": {},
   "source": [
    "## Problem 6\n",
    "\n",
    "The following are the possible hands in poker, in increasing order of value (and decreasing order of probability):\n",
    "\n",
    "**pair:**\n",
    "two cards with the same rank\n",
    "\n",
    "**two pair:**\n",
    "two pairs of cards with the same rank\n",
    "\n",
    "**three of a kind:**\n",
    "three cards with the same rank\n",
    "\n",
    "**straight:**\n",
    "five cards with ranks in sequence (aces can be high or low, so Ace-2-3-4-5 is a straight and so is 10-Jack-Queen-King-Ace, but Queen-King-Ace-2-3 is not.)\n",
    "\n",
    "**flush:**\n",
    "five cards with the same suit\n",
    "\n",
    "**full house:**\n",
    "three cards with one rank, two cards with another\n",
    "\n",
    "**four of a kind:**\n",
    "four cards with the same rank\n",
    "\n",
    "**straight flush:**\n",
    "five cards in sequence (as defined above) and with the same suit\n",
    "\n",
    "**Modify** the following codes.\n",
    "\n",
    "Add methods to `PokerHand` class named `has_pair`, `has_twopair`, etc. that return `True` or `False` according to whether or not the hand meets the relevant criteria. Your code should work correctly for “hands” that contain any number of cards (although 5 and 7 are the most common sizes)"
   ]
  },
  {
   "cell_type": "code",
   "execution_count": 9,
   "metadata": {
    "collapsed": false
   },
   "outputs": [],
   "source": [
    "import random\n",
    "\n",
    "\n",
    "class Card(object):\n",
    "    \"\"\"Represents a standard playing card.\n",
    "    \n",
    "    Attributes:\n",
    "      suit: integer 0-3\n",
    "      rank: integer 1-13\n",
    "    \"\"\"\n",
    "\n",
    "    suit_names = [\"Clubs\", \"Diamonds\", \"Hearts\", \"Spades\"]\n",
    "    rank_names = [None, \"Ace\", \"2\", \"3\", \"4\", \"5\", \"6\", \"7\", \n",
    "              \"8\", \"9\", \"10\", \"Jack\", \"Queen\", \"King\"]\n",
    "\n",
    "    def __init__(self, suit=0, rank=2):\n",
    "        self.suit = suit\n",
    "        self.rank = rank\n",
    "\n",
    "    def __str__(self):\n",
    "        \"\"\"Returns a human-readable string representation.\"\"\"\n",
    "        return '%s of %s' % (Card.rank_names[self.rank],\n",
    "                             Card.suit_names[self.suit])\n",
    "\n",
    "    def __cmp__(self, other):\n",
    "        \"\"\"Compares this card to other, first by suit, then rank.\n",
    "\n",
    "        Returns a positive number if this > other; negative if other > this;\n",
    "        and 0 if they are equivalent.\n",
    "        \"\"\"\n",
    "        t1 = self.suit, self.rank\n",
    "        t2 = other.suit, other.rank\n",
    "        return cmp(t1, t2)\n",
    "\n",
    "\n",
    "class Deck(object):\n",
    "    \"\"\"Represents a deck of cards.\n",
    "\n",
    "    Attributes:\n",
    "      cards: list of Card objects.\n",
    "    \"\"\"\n",
    "    \n",
    "    def __init__(self):\n",
    "        self.cards = []\n",
    "        for suit in range(4):\n",
    "            for rank in range(1, 14):\n",
    "                card = Card(suit, rank)\n",
    "                self.cards.append(card)\n",
    "\n",
    "    def __str__(self):\n",
    "        res = []\n",
    "        for card in self.cards:\n",
    "            res.append(str(card))\n",
    "        return '\\n'.join(res)\n",
    "\n",
    "    def add_card(self, card):\n",
    "        \"\"\"Adds a card to the deck.\"\"\"\n",
    "        self.cards.append(card)\n",
    "\n",
    "    def remove_card(self, card):\n",
    "        \"\"\"Removes a card from the deck.\"\"\"\n",
    "        self.cards.remove(card)\n",
    "\n",
    "    def pop_card(self, i=-1):\n",
    "        \"\"\"Removes and returns a card from the deck.\n",
    "\n",
    "        i: index of the card to pop; by default, pops the last card.\n",
    "        \"\"\"\n",
    "        return self.cards.pop(i)\n",
    "\n",
    "    def shuffle(self):\n",
    "        \"\"\"Shuffles the cards in this deck.\"\"\"\n",
    "        random.shuffle(self.cards)\n",
    "\n",
    "    def sort(self):\n",
    "        \"\"\"Sorts the cards in ascending order.\"\"\"\n",
    "        self.cards.sort()\n",
    "\n",
    "    def move_cards(self, hand, num):\n",
    "        \"\"\"Moves the given number of cards from the deck into the Hand.\n",
    "\n",
    "        hand: destination Hand object\n",
    "        num: integer number of cards to move\n",
    "        \"\"\"\n",
    "        for i in range(num):\n",
    "            hand.add_card(self.pop_card())\n",
    "    def sort(self):\n",
    "        self.cards.sort(cmp=Card.__cmp__)\n",
    "\n",
    "##\n",
    "class Hand(Deck):\n",
    "    \"\"\"Represents a hand of playing cards.\"\"\"\n",
    "    \n",
    "    def __init__(self, label=''):\n",
    "        self.cards = []\n",
    "        self.label = label\n"
   ]
  },
  {
   "cell_type": "code",
   "execution_count": 10,
   "metadata": {
    "collapsed": false
   },
   "outputs": [],
   "source": [
    "class PokerHand(Hand):\n",
    "    #def suit_hist(self):\\\n",
    "    def hist(self):\n",
    "        \"\"\"Builds a histogram of the suits that appear in the hand.\n",
    "\n",
    "        Stores the result in attribute suits.\n",
    "        \"\"\"\n",
    "        self.suits = {}\n",
    "        self.ranks = {}\n",
    "        for card in self.cards:\n",
    "            self.suits[card.suit] = self.suits.get(card.suit, 0) + 1\n",
    "            self.ranks[card.rank] = self.ranks.get(card.rank,0) + 1\n",
    "        self.sets = self.ranks.values()\n",
    "        self.sets.sort(reverse=True) #if sets = [2,1,2,1] will fail\n",
    "            \n",
    "\n",
    "    def has_flush(self):\n",
    "        \"\"\"Returns True if the hand has a flush, False otherwise.\n",
    "      \n",
    "        Note that this works correctly for hands with more than 5 cards.\n",
    "        \"\"\"\n",
    "        self.suit_hist()\n",
    "        for val in self.suits.values():\n",
    "            if val >= 5:\n",
    "                return True\n",
    "        return False\n",
    "#    \n",
    "    def check_sets(self, *t):\n",
    "        for need, have in zip(t, self.sets):\n",
    "            if need > have: \n",
    "                return False\n",
    "        return True\n",
    "    \n",
    "    def has_pair(self):\n",
    "        return self.check_sets(2)\n",
    "    \n",
    "    def has_twopair(self):\n",
    "        return self.check_sets(2, 2)\n",
    "    \n",
    "    def has_threekind(self):\n",
    "        return self.check_sets(3)\n",
    "    \n",
    "    def has_fourkind(self):\n",
    "        return self.check_sets(4)\n",
    "    \n",
    "    def has_fullhouse(self):\n",
    "        return self.check_sets(3, 2)\n",
    "    \n",
    "    def has_straight(self):\n",
    "        # make a copy of the rank histogram before we mess with it\n",
    "        ranks = self.ranks.copy()\n",
    "        ranks[14] = ranks.get(1, 0)\n",
    "\n",
    "        # see if we have 5 in a row\n",
    "        return self.in_a_row(ranks, 5)\n",
    "    \n",
    "    def in_a_row(self, ranks, n):\n",
    "        \"\"\"Checks whether the histogram has n ranks in a row.\n",
    "\n",
    "        hist: map from rank to frequency\n",
    "        n: number we need to get to\n",
    "        \"\"\"\n",
    "        count = 0\n",
    "        for i in range(1, 15):\n",
    "            if ranks.get(i, 0):\n",
    "                count += 1\n",
    "                if count == 5: return True\n",
    "            else:\n",
    "                count = 0\n",
    "        return False\n",
    "    def has_straightflush(self):\n",
    "        \"\"\"Checks whether this hand has a straight flush.\n",
    "\n",
    "        Clumsy algorithm.\n",
    "        \"\"\"\n",
    "        # make a set of the (rank, suit) pairs we have\n",
    "        s = set()\n",
    "        for c in self.cards:\n",
    "            s.add((c.rank, c.suit))\n",
    "            if c.rank == 1:\n",
    "                s.add((14, c.suit))\n",
    "\n",
    "        # iterate through the suits and ranks and see if we\n",
    "        # get to 5 in a row\n",
    "        for suit in range(4):\n",
    "            count = 0\n",
    "            for rank in range(1, 15):\n",
    "                if (rank, suit) in s:\n",
    "                    count += 1\n",
    "                    if count == 5: return True\n",
    "                else:\n",
    "                    count = 0\n",
    "        return False\n",
    "    "
   ]
  },
  {
   "cell_type": "code",
   "execution_count": 11,
   "metadata": {
    "collapsed": false
   },
   "outputs": [
    {
     "name": "stdout",
     "output_type": "stream",
     "text": [
      "9 of Clubs\n",
      "Jack of Clubs\n",
      "Queen of Clubs\n",
      "Ace of Diamonds\n",
      "2 of Diamonds\n",
      "4 of Diamonds\n",
      "5 of Diamonds\n",
      "6 of Diamonds\n",
      "2 of Hearts\n",
      "4 of Spades\n",
      "6 of Spades\n",
      "9 of Spades\n",
      "Jack of Spades\n",
      "True\n",
      "False\n"
     ]
    },
    {
     "data": {
      "text/plain": [
       "[2, 2, 2, 2, 2, 1, 1, 1]"
      ]
     },
     "execution_count": 11,
     "metadata": {},
     "output_type": "execute_result"
    }
   ],
   "source": [
    "deck = Deck()\n",
    "play1 = PokerHand()\n",
    "deck.shuffle()\n",
    "\n",
    "for i in range(13):\n",
    "    play1.add_card(deck.pop_card())\n",
    "play1.sort()\n",
    "\n",
    "print play1\n",
    "\n",
    "play1.hist()\n",
    "\n",
    "\n",
    "print play1.has_twopair()\n",
    "print play1.has_straight()\n",
    "play1.sets\n"
   ]
  }
 ],
 "metadata": {
  "kernelspec": {
   "display_name": "Python 2",
   "language": "python",
   "name": "python2"
  },
  "language_info": {
   "codemirror_mode": {
    "name": "ipython",
    "version": 2
   },
   "file_extension": ".py",
   "mimetype": "text/x-python",
   "name": "python",
   "nbconvert_exporter": "python",
   "pygments_lexer": "ipython2",
   "version": "2.7.9"
  }
 },
 "nbformat": 4,
 "nbformat_minor": 0
}
