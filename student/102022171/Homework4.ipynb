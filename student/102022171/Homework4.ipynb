{
 "metadata": {
  "name": "",
  "signature": "sha256:bf560c7a65639cac2e9afdef9eab1a8e9ca450a03f4b22e0bc3010b4a1f44a14"
 },
 "nbformat": 3,
 "nbformat_minor": 0,
 "worksheets": [
  {
   "cells": [
    {
     "cell_type": "markdown",
     "metadata": {},
     "source": [
      "# Homework 4"
     ]
    },
    {
     "cell_type": "markdown",
     "metadata": {},
     "source": [
      " ## Problem 1 \n",
      "\n",
      "1. Implement the `Point` class.\n",
      "2. Implement the `Rectangle` class.\n",
      "3. Write a function called `distance_between_points` that takes two Points as arguments and returns the distance between them.\n",
      "4. Write a function named `move_rectangle` that takes a Rectangle and two numbers named `dx` and `dy`. It should change the location of the rectangle by adding `dx` to the `x` coordinate of corner and adding `dy` to the `y` coordinate of corner.\n",
      "5. Write a function named `move_rectangle_new` that is similar to the `move_rectangle` but it creates and returns a new Rectangle instead of modifying the old one.\n",
      "6. Write some codes to demonstrate the usage of functions above."
     ]
    },
    {
     "cell_type": "code",
     "collapsed": false,
     "input": [
      "# Problem 1\n",
      "\n",
      "# 1\n",
      "class Point(object):\n",
      "    \"\"\"Represents a point in 2-D space.\"\"\"\n",
      "# 2\n",
      "class Rectangle(object):\n",
      "    \"\"\"Represents a rectangle. \n",
      "\n",
      "    attributes: width, height, corner.\"\"\"\n",
      "# 3\n",
      "import math\n",
      "def distance_between_points(x1,x2,y1,y2):\n",
      "    d1 = (x1-x2)*(x1-x2)\n",
      "    d2 = (y1-y2)*(y1-y2)\n",
      "    distance=math.sqrt(d1+d2)\n",
      "    print distance\n",
      "distance_between_points(1,2,3,4)\n",
      "    \n",
      "# 4\n",
      "x=0\n",
      "y=1\n",
      "box = Rectangle()\n",
      "box.width = 10.0\n",
      "box.height = 20.0\n",
      "box.corner = Point()\n",
      "box.corner.x = x\n",
      "box.corner.y = y\n",
      "\n",
      "\n",
      "def move_rectangle(rect, dx, dy):\n",
      "    rect.corner.x = rect.corner.x+dx\n",
      "    rect.corner.y = rect.corner.y+dy\n",
      "    print '(%g, %g)' % (rect.corner.x, rect.corner.y)\n",
      "    return\n",
      "move_rectangle(box, 1, 2)   \n",
      "\n",
      "\n",
      "# 5\n",
      "import copy\n",
      "def move_rectangle_new(rect, dx, dy):\n",
      "    new= copy.deepcopy(rect)\n",
      "    rect.corner.x = rect.corner.x+dx\n",
      "    rect.corner.y = rect.corner.y+dy\n",
      "    return new\n",
      "new = move_rectangle_new(box,2,3)\n",
      "\n",
      "#6\n",
      "print 'new x,y',new.corner.x,new.corner.y"
     ],
     "language": "python",
     "metadata": {},
     "outputs": [
      {
       "output_type": "stream",
       "stream": "stdout",
       "text": [
        "1.41421356237\n",
        "(1, 3)\n",
        "new x,y 1 3\n"
       ]
      }
     ],
     "prompt_number": 16
    },
    {
     "cell_type": "markdown",
     "metadata": {},
     "source": [
      "## Problem 2\n",
      "\n",
      "1. Implement the `Time` class.\n",
      "2. Write a function called `print_time` that takes a Time object and prints it in the form `hour:minute:second`. \n",
      "  **Hint**: the format sequence '%.2d' prints an integer using at least two digits, including a leading zero if necessary.\n",
      "3. Write a boolean function called `is_after` that takes two Time objects, `t1` and `t2`, and returns `True` if `t1` follows `t2` chronologically and `False` otherwise. **Challenge**: don\u2019t use an `if` statement.\n",
      "4. Write a function called `increment_modifier` that adds a given number of seconds to a Time object. It should modify the original time object. It should not contain any loops.\n",
      "5. Write a function called `increment_pure` that adds a given number of seconds to a Time object. It should create and return a new Time object.\n",
      "6. Write a function called `mul_time` that takes a Time object and a number and returns a new Time object that contains the product of the original Time and the number.\n",
      "7. Use `mul_time` to write a function that takes a Time object that represents the finishing time in a race, and a number that represents the distance, and returns a Time object that represents the average pace (time per mile).\n",
      "8. Write some codes to demonstrate the usage of functions above."
     ]
    },
    {
     "cell_type": "code",
     "collapsed": false,
     "input": [
      "# Problem 2\n",
      "\n",
      "# 1\n",
      "class Time(object):\n",
      "    \"\"\"Represents the time of day.\n",
      "    attributes: hour, minute, second\n",
      "    \"\"\"\n",
      "# 2\n",
      "def print_time(time):\n",
      "    print '%.2d:%.2d:%.2d' % (time.hour, time.minute, time.second)\n",
      "\n",
      "time = Time()\n",
      "time.hour = 12\n",
      "time.minute = 00\n",
      "time.second = 30  \n",
      "print_time(time)\n",
      "\n",
      "# 3\n",
      "def is_after(t1, t2):\n",
      "    return t1.hour*3600 + t1.minute*60 + t1.second> t2.hour*3600 + t2.minute*60 + t2.second\n",
      "\n",
      "a = Time()\n",
      "a.hour = 2\n",
      "a.minute = 00\n",
      "a.second = 30  \n",
      "\n",
      "b = Time()\n",
      "b.hour = 12\n",
      "b.minute = 00\n",
      "b.second = 29  \n",
      "\n",
      "print is_after(a,b)\n",
      "\n",
      "#4  \n",
      "\n",
      "def increment_modifier(time, seconds):\n",
      "    time.second += seconds\n",
      "    if time.second >= 60:\n",
      "        time.second -= (time.second/60)*60\n",
      "        time.minute += time.second/60\n",
      "    if time.minute >= 60:\n",
      "        time.minute -= (time.minute/60)*60\n",
      "        time.hour += time.minute/60\n",
      "t=Time()\n",
      "t.hour=1\n",
      "t.minute=59\n",
      "t.second=00\n",
      "\n",
      "\n",
      "increment_modifier(t, 170)\n",
      "print 't=',\n",
      "print_time(t)        \n",
      " \n",
      "\n",
      " \n",
      "# 5\n",
      "def mul_time(t1,mul):\n",
      "    seconds = t1.hour*3600 + t1.minute*60 + t1.second\n",
      "    seconds *= mul\n",
      "    time =Time()\n",
      "    minutes, time.second = divmod(seconds, 60)\n",
      "    time.hour, time.minute = divmod(minutes, 60)\n",
      "    return time\n",
      "# 6\n",
      "\n",
      "# 7\n",
      "# 8"
     ],
     "language": "python",
     "metadata": {},
     "outputs": [
      {
       "output_type": "stream",
       "stream": "stdout",
       "text": [
        "12:00:30\n",
        "False\n",
        "t= 01:59:50\n"
       ]
      }
     ],
     "prompt_number": 57
    },
    {
     "cell_type": "markdown",
     "metadata": {},
     "source": [
      "## Problem 3\n",
      "\n",
      "1. Write a class definition for a Date object that has attributes `day`, `month` and `year`.\n",
      "2. Write a function called `increment_date` that takes a Date object, `date` and an integer, `n`, and returns a new Date object that represents the day `n` days after date.\n",
      "3. **Challenge**: does your function deal with leap years correctly? See http://en.wikipedia.org/wiki/Leap_year."
     ]
    },
    {
     "cell_type": "code",
     "collapsed": false,
     "input": [
      "# Problem 3\n",
      "\n",
      "#1\n",
      "#2\n",
      "#3"
     ],
     "language": "python",
     "metadata": {},
     "outputs": [],
     "prompt_number": 3
    },
    {
     "cell_type": "markdown",
     "metadata": {},
     "source": [
      "## Problem 4\n",
      "\n",
      "The `datetime` module provides date and time objects that are similar to the Date and Time objects in this chapter, but they provide a rich set of methods and operators. Read the documentation at http://docs.python.org/2/library/datetime.html.\n",
      "\n",
      "1. Use the `datetime` module to write a program that gets the current date and prints the day of the week.\n",
      "2. Write a program that takes a birthday as input and prints the user\u2019s age and the number of days, hours, minutes and seconds until their next birthday.\n",
      "3. For two people born on different days, there is a day when one is twice as old as the other. That\u2019s their Double Day. Write a program that takes two birthdays and computes their Double Day.\n",
      "4. For a little more challenge, write the more general version that computes the day when one person is `n` times older than the other."
     ]
    },
    {
     "cell_type": "code",
     "collapsed": false,
     "input": [
      "# Problem 4\n",
      "\n",
      "#1\n",
      "#2\n",
      "#3\n",
      "#4"
     ],
     "language": "python",
     "metadata": {},
     "outputs": [],
     "prompt_number": 4
    },
    {
     "cell_type": "markdown",
     "metadata": {},
     "source": [
      "## Problem 5\n",
      "\n",
      "Implement the `Point` class and the `Rectangle` class, with following methods.\n",
      "\n",
      "1. Write an `init` method for the Point class that takes `x` and `y` as optional parameters and assigns them to the corresponding attributes.\n",
      "2. Write a `str` method for the Point class.\n",
      "3. Write an `add` method for Points that works with either a Point object or a tuple:\n",
      "  * If the second operand is a Point, the method should return a new Point whose `x` coordinate is the sum of the `x` coordinates of the operands, and likewise for the `y` coordinates.\n",
      "  * If the second operand is a tuple, the method should add the first element of the tuple to the `x` coordinate and the second element to the `y` coordinate, and return a new Point with the result.\n",
      "4. Write some codes to demonstrate the usage of methods above."
     ]
    },
    {
     "cell_type": "code",
     "collapsed": false,
     "input": [
      "# Problem 5\n",
      "\n",
      "#1\n",
      "#2\n",
      "#3\n",
      "#4"
     ],
     "language": "python",
     "metadata": {},
     "outputs": [],
     "prompt_number": 5
    }
   ],
   "metadata": {}
  }
 ]
}