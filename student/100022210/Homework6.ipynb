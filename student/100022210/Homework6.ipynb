{
 "metadata": {
  "name": "",
  "signature": "sha256:d4d530eb671d2b0c36eb8615d386ebb26384fadcbe1b5904e788e7f7a9bfb723"
 },
 "nbformat": 3,
 "nbformat_minor": 0,
 "worksheets": [
  {
   "cells": [
    {
     "cell_type": "markdown",
     "metadata": {},
     "source": [
      "# Homework 6"
     ]
    },
    {
     "cell_type": "markdown",
     "metadata": {},
     "source": [
      "## Problem 1\n",
      "\n",
      "Use **ivisual** module to plot the projectile motion with following equations of motion:\n",
      "\n",
      "$$\n",
      "\\begin{eqnarray*}\n",
      "  m\\ddot{x} &=& 0, \\\\\n",
      "  m\\ddot{y} &=& -mg, \\\\\n",
      "  m\\ddot{z} &=& 0,\n",
      "\\end{eqnarray*}\n",
      "$$\n",
      "and initial conditions\n",
      "\n",
      "$$\n",
      "  \\vec{r}(0) = (0, 0, 0), \\\\\n",
      "  \\vec{v}(0) = (v_{x0}, v_{y0}, 0),\n",
      "$$\n",
      "You can assign $v_{x0}$ and $v_{y0}$ in the code or ask user to input it.\n",
      "\n",
      "You should\n",
      "* Use a box to represent the ground.\n",
      "* Use three arrows to represent the three axes.\n",
      "* Use a sphere to represent the ball of the projectile motion.\n",
      "* Leave a trail.\n",
      "* Stop the simulation when the ball hit the ground.\n",
      "\n",
      "You should use to ways to calculate the trajectory of the motion.\n",
      "1. Use exact solution: $x(t)=x(0)+v_x t$, etc.\n",
      "2. Use numerical solution:\n",
      " * $v(t+dt) = v(t) + a * dt$.\n",
      " * $x(t+dt) = x(t) + v(t) * dt$.\n",
      "\n",
      "You should use a small enough $dt$ to ensure the numerical solution is accurate enough.\n"
     ]
    },
    {
     "cell_type": "code",
     "collapsed": false,
     "input": [
      "# Problem 1\n",
      "from ivisual import *\n"
     ],
     "language": "python",
     "metadata": {},
     "outputs": [
      {
       "html": [
        "<div id=\"scene0\"><div id=\"glowscript\" class=\"glowscript\"></div></div>"
       ],
       "metadata": {},
       "output_type": "display_data",
       "text": [
        "<IPython.core.display.HTML at 0x2692898>"
       ]
      },
      {
       "javascript": [
        "require.undef(\"nbextensions/glow.1.0.min\");"
       ],
       "metadata": {},
       "output_type": "display_data",
       "text": [
        "<IPython.core.display.Javascript at 0x26a95f8>"
       ]
      },
      {
       "javascript": [
        "require.undef(\"nbextensions/jquery-ui.custom.min\");"
       ],
       "metadata": {},
       "output_type": "display_data",
       "text": [
        "<IPython.core.display.Javascript at 0x26a9630>"
       ]
      },
      {
       "javascript": [
        "require.undef(\"nbextensions/glow.1.1.min\");"
       ],
       "metadata": {},
       "output_type": "display_data",
       "text": [
        "<IPython.core.display.Javascript at 0x26a9780>"
       ]
      },
      {
       "javascript": [
        "require.undef(\"nbextensions/glowcomm\");"
       ],
       "metadata": {},
       "output_type": "display_data",
       "text": [
        "<IPython.core.display.Javascript at 0x26a97f0>"
       ]
      },
      {
       "javascript": [
        "require([\"nbextensions/glowcomm\"], function(){console.log(\"glowcomm loaded\");})"
       ],
       "metadata": {},
       "output_type": "display_data",
       "text": [
        "<IPython.core.display.Javascript at 0x26a9828>"
       ]
      }
     ],
     "prompt_number": 1
    },
    {
     "cell_type": "code",
     "collapsed": false,
     "input": [
      "scene = canvas(title = \"sphere\")\n",
      "\n",
      "scene.width = 800\n",
      "scene.height = 600\n",
      "scene.autoscale = 10\n",
      "scene.range = (20,20,20)\n",
      "scene.center = (0,0,0)\n",
      "\n",
      "ball = sphere(pos=(0,50,0), radius=3)\n",
      "pointer1 = arrow(pos=(0,0,0), axis=(50,0,0), shaftwidth=1,color=color.blue)\n",
      "pointer1 = arrow(pos=(0,0,0), axis=(0,50,0), shaftwidth=1, color=color.red)\n",
      "pointer1 = arrow(pos=(0,0,0), axis=(0,0,50), shaftwidth=1, color=color.green)\n",
      "mybox = box(pos=(0,0,0), size=(30, 1, 30)) \n",
      "\n",
      "ball.trail = curve(color=color.red)\n",
      "\n",
      "\n",
      "g=9.8\n",
      "dt = .01    # seconds\n",
      "t = 0 # total time\n",
      "steps=5000 #integration steps: final time= dt*steps\n",
      "\n",
      "finished = False\n",
      "while not finished:\n",
      "    rate(100)  \n",
      "    t += dt\n",
      "\n",
      "    ballHeight = 100 - 0.5 * g * t**2\n",
      "\n",
      "\n",
      "    ball.pos = vector(10*t,ballHeight,0)\n",
      "    ball.trail.append(pos=ball.pos)\n",
      "\n",
      "    if ballHeight - 2 < 0:\n",
      "        finished = True\n",
      "      "
     ],
     "language": "python",
     "metadata": {},
     "outputs": [
      {
       "html": [
        "<div id=\"scene3\"><div id=\"glowscript\" class=\"glowscript\"></div></div>"
       ],
       "metadata": {},
       "output_type": "display_data",
       "text": [
        "<IPython.core.display.HTML at 0x272ec50>"
       ]
      },
      {
       "javascript": [
        "window.__context = { glowscript_container: $(\"#glowscript\").removeAttr(\"id\")}"
       ],
       "metadata": {},
       "output_type": "display_data",
       "text": [
        "<IPython.core.display.Javascript at 0x272d588>"
       ]
      }
     ],
     "prompt_number": 5
    },
    {
     "cell_type": "markdown",
     "metadata": {},
     "source": [
      "## Problem 2\n",
      "\n",
      "Now introduce the air resistence so the equations of motion become:\n",
      "\n",
      "$$\n",
      "\\begin{eqnarray*}\n",
      "  m\\ddot{x} &=& -km\\dot{x}, \\\\\n",
      "  m\\ddot{y} &=& -km\\dot{y}-mg, \\\\\n",
      "  m\\ddot{z} &=& 0,\n",
      "\\end{eqnarray*}\n",
      "$$\n",
      "and initial conditions\n",
      "\n",
      "$$\n",
      "  \\vec{r}(0) = (0, 0, 0), \\\\\n",
      "  \\vec{v}(0) = (v_{x0}, v_{y0}, 0),\n",
      "$$\n",
      "You can assign $v_{x0}$ and $v_{y0}$ in the code or ask user to input it.\n",
      "\n",
      "You should\n",
      "* Use a box to represent the ground.\n",
      "* Use three arrows to represent the three axes.\n",
      "* Use a sphere to represent the ball of the projectile motion.\n",
      "* Leave a trail.\n",
      "* Stop the simulation when the ball hit the ground.\n",
      "\n",
      "\n",
      "You should use to ways to calculate the trajectory of the motion.\n",
      "1. Use exact solution: (Check for example Marion's book).\n",
      "2. Use numerical solution:\n",
      " * $v(t+dt) = v(t) + a * dt$.\n",
      " * $x(t+dt) = x(t) + v(t) * dt$.\n",
      "\n",
      "You should use a small enough $dt$ to ensure the numerical solution is accurate enough.\n"
     ]
    },
    {
     "cell_type": "code",
     "collapsed": false,
     "input": [
      "# Problem 2\n",
      "scene = canvas(title = \"sphere\")\n",
      "\n",
      "scene.width = 800\n",
      "scene.height = 600\n",
      "scene.autoscale = 10\n",
      "scene.range = (20,20,20)\n",
      "scene.center = (0,0,0)\n",
      "\n",
      "ball = sphere(pos=(0,50,0), radius=3)\n",
      "pointer1 = arrow(pos=(0,0,0), axis=(50,0,0), shaftwidth=1,color=color.blue)\n",
      "pointer1 = arrow(pos=(0,0,0), axis=(0,50,0), shaftwidth=1, color=color.red)\n",
      "pointer1 = arrow(pos=(0,0,0), axis=(0,0,50), shaftwidth=1, color=color.green)\n",
      "mybox = box(pos=(0,0,0), size=(30, 1, 30)) \n",
      "\n",
      "vx0=1\n",
      "k=0.1\n",
      "g=9.8\n",
      "dt =0.01    # seconds\n",
      "t = 0 # total time\n",
      "steps=5000 #integration steps: final time= dt*steps\n",
      "\n",
      "ball.trail = curve(color=color.red)\n",
      "\n",
      "A=50*(1+0.1/(4*g+0.01)**0.5)\n",
      "B=50*(1-0.1/(4*g+0.01)**0.5)\n",
      "lamda1=((4*g+0.01)**0.5-0.1)/2\n",
      "lamda2=-((4*g+0.01)**0.5+0.1)/2\n",
      "\n",
      "finished = False\n",
      "while not finished:\n",
      "    rate(2)  \n",
      "    t += dt\n",
      "\n",
      "    ballHeight = 200-(A*math.exp(lamda1*t)+B*math.exp(lamda2*t))\n",
      "\n",
      "\n",
      "    ball.pos = vector(600*(1-math.exp(-0.1*t)),ballHeight,0)\n",
      "    ball.trail.append(pos=ball.pos)\n",
      "    \n",
      "    if ballHeight - 2 < 0:\n",
      "        finished = True\n",
      "      "
     ],
     "language": "python",
     "metadata": {},
     "outputs": [
      {
       "html": [
        "<div id=\"scene5\"><div id=\"glowscript\" class=\"glowscript\"></div></div>"
       ],
       "metadata": {},
       "output_type": "display_data",
       "text": [
        "<IPython.core.display.HTML at 0x4181b00>"
       ]
      },
      {
       "javascript": [
        "window.__context = { glowscript_container: $(\"#glowscript\").removeAttr(\"id\")}"
       ],
       "metadata": {},
       "output_type": "display_data",
       "text": [
        "<IPython.core.display.Javascript at 0x274b438>"
       ]
      }
     ]
    },
    {
     "cell_type": "markdown",
     "metadata": {},
     "source": [
      "## Problem 3\n",
      "\n",
      "Use **ivisual** module to plot the trajectory of a coupled spring-mass system that has two masses, three springs, two walls.\n",
      "\n",
      "Something like Wall-spring1-mass1-spring2-mass2-spring3-Wall.\n",
      "\n",
      "You should\n",
      "* Use a box to represent the ground.\n",
      "* Use two boxes to represent the walls.\n",
      "* Use two **cubic** boxes to represent the two masses.\n",
      "* Use helix to represent the two srpings.\n"
     ]
    },
    {
     "cell_type": "code",
     "collapsed": false,
     "input": [
      "# Problem 3\n",
      "scene = canvas(title = \"spring\")\n",
      "\n",
      "scene.width = 800\n",
      "scene.height = 600\n",
      "scene.autoscale =100\n",
      "scene.range = (30,30,30)\n",
      "scene.center = (15,0,0)\n",
      "box1 = box(pos=(0,0,0), size=(1,30, 30),color=color.green) \n",
      "box2 = box(pos=(15,-15,0), size=(30, 1, 30),color=color.yellow)\n",
      "box3 = box(pos=(30,0,0), size=(1,30, 30),color=color.cyan)\n",
      "box4 = box(pos=(20,2,0), size=(7,7, 7),color=color.blue)\n",
      "box5 = box(pos=(8,2,0), size=(7,7, 7),color=color.magenta)\n",
      "spring1 = helix(pos=(0,2,1), axis=(5,0,0), radius=2, coils=15,color=color.white)\n",
      "spring2 = helix(pos=(10,2,1), axis=(8,0,0), radius=2, coils=15,color=color.red)\n",
      "spring3 = helix(pos=(23,2,1), axis=(8,0,0), radius=2, coils=15,color=color.white)"
     ],
     "language": "python",
     "metadata": {},
     "outputs": [
      {
       "html": [
        "<div id=\"scene48\"><div id=\"glowscript\" class=\"glowscript\"></div></div>"
       ],
       "metadata": {},
       "output_type": "display_data",
       "text": [
        "<IPython.core.display.HTML at 0x44846d8>"
       ]
      },
      {
       "javascript": [
        "window.__context = { glowscript_container: $(\"#glowscript\").removeAttr(\"id\")}"
       ],
       "metadata": {},
       "output_type": "display_data",
       "text": [
        "<IPython.core.display.Javascript at 0x430bcf8>"
       ]
      }
     ],
     "prompt_number": 51
    },
    {
     "cell_type": "markdown",
     "metadata": {},
     "source": [
      "# Problem 4\n",
      "\n",
      "Use **ivisual** module to plot the trajectories of 20 particles in a rectangle box.\n",
      "\n",
      "* The rectangle box has the dimension $L_x$, $L_y$, $L_z$.\n",
      "* Use boxes to represent the walls. Keep one wall **invisible**.\n",
      "* The 20 particles should have **random** initial velocity.\n",
      "* The 20 particles should leave a trail.\n",
      "* Make each particle has random RGB color."
     ]
    },
    {
     "cell_type": "code",
     "collapsed": false,
     "input": [
      "# Problem 4\n",
      "scene = canvas('Ball in Box')\n",
      "\n",
      "import random\n",
      "\n",
      "side = 4.0\n",
      "thk = 0.3\n",
      "s2 = 2*side - thk\n",
      "s3 = 2*side + thk\n",
      "wallR = box (pos=( side, 0, 0), size=(thk, s2, s3),  color = color.red)\n",
      "wallL = box (pos=(-side, 0, 0), size=(thk, s2, s3),  color = color.red)\n",
      "wallB = box (pos=(0, -side, 0), size=(s3, thk, s3),  color = color.blue)\n",
      "wallT = box (pos=(0,  side, 0), size=(s3, thk, s3),  color = color.blue)\n",
      "wallBK = box(pos=(0, 0, -side), size=(s2, s2, thk), color = (0.7,0.7,0.7))\n",
      "\n",
      "\n",
      "ball1 = sphere (color = \"#%06x\" % random.randint(0,0xFFFFFF), radius = 0.1, make_trail=True, interval=5, retain=30)\n",
      "ball2 = sphere (color = \"#%06x\" % random.randint(0,0xFFFFFF), radius = 0.1, make_trail=True, interval=5, retain=30)\n",
      "ball3 = sphere (color = \"#%06x\" % random.randint(0,0xFFFFFF), radius = 0.1, make_trail=True, interval=5, retain=30)\n",
      "ball4 = sphere (color = \"#%06x\" % random.randint(0,0xFFFFFF), radius = 0.1, make_trail=True, interval=5, retain=30)\n",
      "ball5 = sphere (color = \"#%06x\" % random.randint(0,0xFFFFFF), radius = 0.1, make_trail=True, interval=5, retain=30)\n",
      "ball6 = sphere (color = \"#%06x\" % random.randint(0,0xFFFFFF), radius = 0.1, make_trail=True, interval=5, retain=30)\n",
      "ball7 = sphere (color = \"#%06x\" % random.randint(0,0xFFFFFF), radius = 0.1, make_trail=True, interval=5, retain=30)\n",
      "ball8 = sphere (color = \"#%06x\" % random.randint(0,0xFFFFFF), radius = 0.1, make_trail=True, interval=5, retain=30)\n",
      "ball9 = sphere (color = \"#%06x\" % random.randint(0,0xFFFFFF), radius = 0.1, make_trail=True, interval=5, retain=30)\n",
      "ball10 = sphere (color = \"#%06x\" % random.randint(0,0xFFFFFF), radius = 0.1, make_trail=True, interval=5, retain=30)\n",
      "ball11 = sphere (color = \"#%06x\" % random.randint(0,0xFFFFFF), radius = 0.1, make_trail=True, interval=5, retain=30)\n",
      "ball12 = sphere (color = \"#%06x\" % random.randint(0,0xFFFFFF), radius = 0.1, make_trail=True, interval=5, retain=30)\n",
      "ball13 = sphere (color = \"#%06x\" % random.randint(0,0xFFFFFF), radius = 0.1, make_trail=True, interval=5, retain=30)\n",
      "ball14 = sphere (color = \"#%06x\" % random.randint(0,0xFFFFFF), radius = 0.1, make_trail=True, interval=5, retain=30)\n",
      "ball15 = sphere (color = \"#%06x\" % random.randint(0,0xFFFFFF), radius = 0.1, make_trail=True, interval=5, retain=30)\n",
      "ball16 = sphere (color = \"#%06x\" % random.randint(0,0xFFFFFF), radius = 0.1, make_trail=True, interval=5, retain=30)\n",
      "ball17 = sphere (color = \"#%06x\" % random.randint(0,0xFFFFFF), radius = 0.1, make_trail=True, interval=5, retain=30)\n",
      "ball18 = sphere (color = \"#%06x\" % random.randint(0,0xFFFFFF), radius = 0.1, make_trail=True, interval=5, retain=30)\n",
      "ball19 = sphere (color = \"#%06x\" % random.randint(0,0xFFFFFF), radius = 0.1, make_trail=True, interval=5, retain=30)\n",
      "ball20 = sphere (color = \"#%06x\" % random.randint(0,0xFFFFFF), radius = 0.1, make_trail=True, interval=5, retain=30)\n",
      "\n",
      "side = side - thk*0.5 - ball1.radius\n",
      "\n",
      "display(scene)\n",
      "\n",
      "\n",
      "\n",
      "\n",
      "ball1.mass = 1.0\n",
      "ball2.mass = 1.0\n",
      "ball3.mass = 1.0\n",
      "ball4.mass = 1.0\n",
      "ball5.mass = 1.0\n",
      "ball6.mass = 1.0\n",
      "ball7.mass = 1.0\n",
      "ball8.mass = 1.0\n",
      "ball9.mass = 1.0\n",
      "ball10.mass = 1.0\n",
      "ball11.mass = 1.0\n",
      "ball12.mass = 1.0\n",
      "ball13.mass = 1.0\n",
      "ball14.mass = 1.0\n",
      "ball15.mass = 1.0\n",
      "ball16.mass = 1.0\n",
      "ball17.mass = 1.0\n",
      "ball18.mass = 1.0\n",
      "ball19.mass = 1.0\n",
      "ball20.mass = 1.0\n",
      "\n",
      "\n",
      "ball1.p = vector (random.random(),random.random(),random.random())\n",
      "ball2.p = vector (random.random(),random.random(),random.random())\n",
      "ball3.p = vector (random.random(),random.random(),random.random())\n",
      "ball4.p = vector (random.random(),random.random(),random.random())\n",
      "ball5.p = vector (random.random(),random.random(),random.random())\n",
      "ball6.p = vector (random.random(),random.random(),random.random())\n",
      "ball7.p = vector (random.random(),random.random(),random.random())\n",
      "ball8.p = vector (random.random(),random.random(),random.random())\n",
      "ball9.p = vector (random.random(),random.random(),random.random())\n",
      "ball10.p = vector (random.random(),random.random(),random.random())\n",
      "ball11.p = vector (random.random(),random.random(),random.random())\n",
      "ball12.p = vector (random.random(),random.random(),random.random())\n",
      "ball13.p = vector (random.random(),random.random(),random.random())\n",
      "ball14.p = vector (random.random(),random.random(),random.random())\n",
      "ball15.p = vector (random.random(),random.random(),random.random())\n",
      "ball16.p = vector (random.random(),random.random(),random.random())\n",
      "ball17.p = vector (random.random(),random.random(),random.random())\n",
      "ball18.p = vector (random.random(),random.random(),random.random())\n",
      "ball19.p = vector (random.random(),random.random(),random.random())\n",
      "ball20.p = vector (random.random(),random.random(),random.random())\n",
      "\n",
      "\n",
      "\n",
      "dt = 0.5\n",
      "t=0.0\n",
      "while t < 2000:\n",
      "  rate(100)\n",
      "  t = t + dt\n",
      "  ball1.pos = ball1.pos + (ball1.p/ball1.mass)*dt\n",
      "  if not (side > ball1.x > -side):\n",
      "    ball1.p.x = -ball1.p.x\n",
      "  if not (side > ball1.y > -side):\n",
      "    ball1.p.y = -ball1.p.y\n",
      "  if not (side > ball1.z > -side):\n",
      "    ball1.p.z = -ball1.p.z\n",
      "  ball2.pos = ball2.pos + (ball2.p/ball2.mass)*dt\n",
      "  if not (side > ball2.x > -side):\n",
      "    ball2.p.x = -ball2.p.x\n",
      "  if not (side > ball2.y > -side):\n",
      "    ball2.p.y = -ball2.p.y\n",
      "  if not (side > ball2.z > -side):\n",
      "    ball2.p.z = -ball2.p.z\n",
      "  ball3.pos = ball3.pos + (ball3.p/ball3.mass)*dt\n",
      "  if not (side > ball3.x > -side):\n",
      "    ball3.p.x = -ball3.p.x\n",
      "  if not (side > ball3.y > -side):\n",
      "    ball3.p.y = -ball3.p.y\n",
      "  if not (side > ball3.z > -side):\n",
      "    ball3.p.z = -ball3.p.z\n",
      "  ball4.pos = ball4.pos + (ball4.p/ball4.mass)*dt\n",
      "  if not (side > ball4.x > -side):\n",
      "    ball4.p.x = -ball4.p.x\n",
      "  if not (side > ball4.y > -side):\n",
      "    ball4.p.y = -ball4.p.y\n",
      "  if not (side > ball4.z > -side):\n",
      "    ball4.p.z = -ball4.p.z\n",
      "  ball5.pos = ball5.pos + (ball5.p/ball5.mass)*dt\n",
      "  if not (side > ball5.x > -side):\n",
      "    ball5.p.x = -ball5.p.x\n",
      "  if not (side > ball5.y > -side):\n",
      "    ball5.p.y = -ball5.p.y\n",
      "  if not (side > ball5.z > -side):\n",
      "    ball5.p.z = -ball5.p.z\n",
      "  ball6.pos = ball6.pos + (ball6.p/ball6.mass)*dt\n",
      "  if not (side > ball6.x > -side):\n",
      "    ball6.p.x = -ball6.p.x\n",
      "  if not (side > ball6.y > -side):\n",
      "    ball6.p.y = -ball6.p.y\n",
      "  if not (side > ball6.z > -side):\n",
      "    ball6.p.z = -ball6.p.z\n",
      "  ball7.pos = ball7.pos + (ball7.p/ball7.mass)*dt\n",
      "  if not (side > ball7.x > -side):\n",
      "    ball7.p.x = -ball7.p.x\n",
      "  if not (side > ball7.y > -side):\n",
      "    ball7.p.y = -ball7.p.y\n",
      "  if not (side > ball7.z > -side):\n",
      "    ball7.p.z = -ball7.p.z\n",
      "  ball8.pos = ball8.pos + (ball8.p/ball8.mass)*dt\n",
      "  if not (side > ball8.x > -side):\n",
      "    ball8.p.x = -ball8.p.x\n",
      "  if not (side > ball8.y > -side):\n",
      "    ball8.p.y = -ball8.p.y\n",
      "  if not (side > ball8.z > -side):\n",
      "    ball8.p.z = -ball8.p.z\n",
      "  ball9.pos = ball9.pos + (ball9.p/ball9.mass)*dt\n",
      "  if not (side > ball9.x > -side):\n",
      "    ball9.p.x = -ball9.p.x\n",
      "  if not (side > ball9.y > -side):\n",
      "    ball9.p.y = -ball9.p.y\n",
      "  if not (side > ball9.z > -side):\n",
      "    ball9.p.z = -ball9.p.z\n",
      "  ball10.pos = ball10.pos + (ball10.p/ball10.mass)*dt\n",
      "  if not (side > ball10.x > -side):\n",
      "    ball10.p.x = -ball10.p.x\n",
      "  if not (side > ball10.y > -side):\n",
      "    ball10.p.y = -ball10.p.y\n",
      "  if not (side > ball10.z > -side):\n",
      "    ball10.p.z = -ball10.p.z\n",
      "  ball11.pos = ball11.pos + (ball11.p/ball11.mass)*dt\n",
      "  if not (side > ball11.x > -side):\n",
      "    ball11.p.x = -ball11.p.x\n",
      "  if not (side > ball11.y > -side):\n",
      "    ball11.p.y = -ball11.p.y\n",
      "  if not (side > ball11.z > -side):\n",
      "    ball11.p.z = -ball11.p.z\n",
      "  ball12.pos = ball12.pos + (ball12.p/ball12.mass)*dt\n",
      "  if not (side > ball12.x > -side):\n",
      "    ball12.p.x = -ball12.p.x\n",
      "  if not (side > ball12.y > -side):\n",
      "    ball12.p.y = -ball12.p.y\n",
      "  if not (side > ball12.z > -side):\n",
      "    ball12.p.z = -ball12.p.z\n",
      "  ball13.pos = ball13.pos + (ball13.p/ball13.mass)*dt\n",
      "  if not (side > ball13.x > -side):\n",
      "    ball13.p.x = -ball13.p.x\n",
      "  if not (side > ball13.y > -side):\n",
      "    ball13.p.y = -ball13.p.y\n",
      "  if not (side > ball13.z > -side):\n",
      "    ball13.p.z = -ball13.p.z\n",
      "  ball14.pos = ball14.pos + (ball14.p/ball14.mass)*dt\n",
      "  if not (side > ball14.x > -side):\n",
      "    ball14.p.x = -ball14.p.x\n",
      "  if not (side > ball14.y > -side):\n",
      "    ball14.p.y = -ball14.p.y\n",
      "  if not (side > ball14.z > -side):\n",
      "    ball14.p.z = -ball14.p.z\n",
      "  ball15.pos = ball15.pos + (ball15.p/ball15.mass)*dt\n",
      "  if not (side > ball15.x > -side):\n",
      "    ball15.p.x = -ball15.p.x\n",
      "  if not (side > ball15.y > -side):\n",
      "    ball15.p.y = -ball15.p.y\n",
      "  if not (side > ball15.z > -side):\n",
      "    ball15.p.z = -ball15.p.z\n",
      "  ball16.pos = ball16.pos + (ball16.p/ball16.mass)*dt\n",
      "  if not (side > ball16.x > -side):\n",
      "    ball16.p.x = -ball16.p.x\n",
      "  if not (side > ball16.y > -side):\n",
      "    ball16.p.y = -ball16.p.y\n",
      "  if not (side > ball16.z > -side):\n",
      "    ball16.p.z = -ball16.p.z\n",
      "  ball17.pos = ball17.pos + (ball17.p/ball17.mass)*dt\n",
      "  if not (side > ball17.x > -side):\n",
      "    ball17.p.x = -ball17.p.x\n",
      "  if not (side > ball17.y > -side):\n",
      "    ball17.p.y = -ball17.p.y\n",
      "  if not (side > ball17.z > -side):\n",
      "    ball17.p.z = -ball17.p.z\n",
      "  ball18.pos = ball18.pos + (ball18.p/ball18.mass)*dt\n",
      "  if not (side > ball18.x > -side):\n",
      "    ball18.p.x = -ball18.p.x\n",
      "  if not (side > ball18.y > -side):\n",
      "    ball18.p.y = -ball18.p.y\n",
      "  if not (side > ball18.z > -side):\n",
      "    ball18.p.z = -ball18.p.z\n",
      "  ball19.pos = ball19.pos + (ball19.p/ball19.mass)*dt\n",
      "  if not (side > ball19.x > -side):\n",
      "    ball19.p.x = -ball19.p.x\n",
      "  if not (side > ball19.y > -side):\n",
      "    ball19.p.y = -ball19.p.y\n",
      "  if not (side > ball19.z > -side):\n",
      "    ball19.p.z = -ball19.p.z\n",
      "  ball20.pos = ball20.pos + (ball20.p/ball20.mass)*dt\n",
      "  if not (side > ball20.x > -side):\n",
      "    ball20.p.x = -ball20.p.x\n",
      "  if not (side > ball20.y > -side):\n",
      "    ball20.p.y = -ball20.p.y\n",
      "  if not (side > ball20.z > -side):\n",
      "    ball20.p.z = -ball20.p.z"
     ],
     "language": "python",
     "metadata": {},
     "outputs": [
      {
       "html": [
        "<div id=\"scene1\"><div id=\"glowscript\" class=\"glowscript\"></div></div>"
       ],
       "metadata": {},
       "output_type": "display_data",
       "text": [
        "<IPython.core.display.HTML at 0x44aab70>"
       ]
      },
      {
       "javascript": [
        "window.__context = { glowscript_container: $(\"#glowscript\").removeAttr(\"id\")}"
       ],
       "metadata": {},
       "output_type": "display_data",
       "text": [
        "<IPython.core.display.Javascript at 0x3b32ba8>"
       ]
      },
      {
       "html": [
        "<div id=\"glowscript2\" ><div id=\"glowscript\" class=\"glowscript\"></div></div>"
       ],
       "metadata": {},
       "output_type": "display_data"
      },
      {
       "ename": "KeyboardInterrupt",
       "evalue": "",
       "output_type": "pyerr",
       "traceback": [
        "\u001b[1;31m---------------------------------------------------------------------------\u001b[0m\n\u001b[1;31mKeyboardInterrupt\u001b[0m                         Traceback (most recent call last)",
        "\u001b[1;32m<ipython-input-3-f18560d65525>\u001b[0m in \u001b[0;36m<module>\u001b[1;34m()\u001b[0m\n\u001b[0;32m    184\u001b[0m   \u001b[1;32mif\u001b[0m \u001b[1;32mnot\u001b[0m \u001b[1;33m(\u001b[0m\u001b[0mside\u001b[0m \u001b[1;33m>\u001b[0m \u001b[0mball13\u001b[0m\u001b[1;33m.\u001b[0m\u001b[0mz\u001b[0m \u001b[1;33m>\u001b[0m \u001b[1;33m-\u001b[0m\u001b[0mside\u001b[0m\u001b[1;33m)\u001b[0m\u001b[1;33m:\u001b[0m\u001b[1;33m\u001b[0m\u001b[0m\n\u001b[0;32m    185\u001b[0m     \u001b[0mball13\u001b[0m\u001b[1;33m.\u001b[0m\u001b[0mp\u001b[0m\u001b[1;33m.\u001b[0m\u001b[0mz\u001b[0m \u001b[1;33m=\u001b[0m \u001b[1;33m-\u001b[0m\u001b[0mball13\u001b[0m\u001b[1;33m.\u001b[0m\u001b[0mp\u001b[0m\u001b[1;33m.\u001b[0m\u001b[0mz\u001b[0m\u001b[1;33m\u001b[0m\u001b[0m\n\u001b[1;32m--> 186\u001b[1;33m   \u001b[0mball14\u001b[0m\u001b[1;33m.\u001b[0m\u001b[0mpos\u001b[0m \u001b[1;33m=\u001b[0m \u001b[0mball14\u001b[0m\u001b[1;33m.\u001b[0m\u001b[0mpos\u001b[0m \u001b[1;33m+\u001b[0m \u001b[1;33m(\u001b[0m\u001b[0mball14\u001b[0m\u001b[1;33m.\u001b[0m\u001b[0mp\u001b[0m\u001b[1;33m/\u001b[0m\u001b[0mball14\u001b[0m\u001b[1;33m.\u001b[0m\u001b[0mmass\u001b[0m\u001b[1;33m)\u001b[0m\u001b[1;33m*\u001b[0m\u001b[0mdt\u001b[0m\u001b[1;33m\u001b[0m\u001b[0m\n\u001b[0m\u001b[0;32m    187\u001b[0m   \u001b[1;32mif\u001b[0m \u001b[1;32mnot\u001b[0m \u001b[1;33m(\u001b[0m\u001b[0mside\u001b[0m \u001b[1;33m>\u001b[0m \u001b[0mball14\u001b[0m\u001b[1;33m.\u001b[0m\u001b[0mx\u001b[0m \u001b[1;33m>\u001b[0m \u001b[1;33m-\u001b[0m\u001b[0mside\u001b[0m\u001b[1;33m)\u001b[0m\u001b[1;33m:\u001b[0m\u001b[1;33m\u001b[0m\u001b[0m\n\u001b[0;32m    188\u001b[0m     \u001b[0mball14\u001b[0m\u001b[1;33m.\u001b[0m\u001b[0mp\u001b[0m\u001b[1;33m.\u001b[0m\u001b[0mx\u001b[0m \u001b[1;33m=\u001b[0m \u001b[1;33m-\u001b[0m\u001b[0mball14\u001b[0m\u001b[1;33m.\u001b[0m\u001b[0mp\u001b[0m\u001b[1;33m.\u001b[0m\u001b[0mx\u001b[0m\u001b[1;33m\u001b[0m\u001b[0m\n",
        "\u001b[1;32mC:\\Users\\cc607_000\\Anaconda\\lib\\site-packages\\ivisual\\visual.pyc\u001b[0m in \u001b[0;36m__setattr__\u001b[1;34m(self, name, value)\u001b[0m\n\u001b[0;32m   2195\u001b[0m             \u001b[0mself\u001b[0m\u001b[1;33m.\u001b[0m\u001b[0maddattr\u001b[0m\u001b[1;33m(\u001b[0m\u001b[1;34m'size'\u001b[0m\u001b[1;33m)\u001b[0m\u001b[1;33m\u001b[0m\u001b[0m\n\u001b[0;32m   2196\u001b[0m         \u001b[1;32melse\u001b[0m\u001b[1;33m:\u001b[0m\u001b[1;33m\u001b[0m\u001b[0m\n\u001b[1;32m-> 2197\u001b[1;33m             \u001b[0msuper\u001b[0m\u001b[1;33m(\u001b[0m\u001b[0msphere\u001b[0m\u001b[1;33m,\u001b[0m \u001b[0mself\u001b[0m\u001b[1;33m)\u001b[0m\u001b[1;33m.\u001b[0m\u001b[0m__setattr__\u001b[0m\u001b[1;33m(\u001b[0m\u001b[0mname\u001b[0m\u001b[1;33m,\u001b[0m \u001b[0mvalue\u001b[0m\u001b[1;33m)\u001b[0m\u001b[1;33m\u001b[0m\u001b[0m\n\u001b[0m\u001b[0;32m   2198\u001b[0m \u001b[1;33m\u001b[0m\u001b[0m\n\u001b[0;32m   2199\u001b[0m     \u001b[1;32mdef\u001b[0m \u001b[0m__del__\u001b[0m\u001b[1;33m(\u001b[0m\u001b[0mself\u001b[0m\u001b[1;33m)\u001b[0m\u001b[1;33m:\u001b[0m\u001b[1;33m\u001b[0m\u001b[0m\n",
        "\u001b[1;32mC:\\Users\\cc607_000\\Anaconda\\lib\\site-packages\\ivisual\\visual.pyc\u001b[0m in \u001b[0;36m__setattr__\u001b[1;34m(self, name, value)\u001b[0m\n\u001b[0;32m    812\u001b[0m             \u001b[0mself\u001b[0m\u001b[1;33m.\u001b[0m\u001b[0maddattr\u001b[0m\u001b[1;33m(\u001b[0m\u001b[0mname\u001b[0m\u001b[1;33m)\u001b[0m\u001b[1;33m\u001b[0m\u001b[0m\n\u001b[0;32m    813\u001b[0m         \u001b[1;32melse\u001b[0m\u001b[1;33m:\u001b[0m\u001b[1;33m\u001b[0m\u001b[0m\n\u001b[1;32m--> 814\u001b[1;33m             \u001b[0msuper\u001b[0m\u001b[1;33m(\u001b[0m\u001b[0mtrailAttrs\u001b[0m\u001b[1;33m,\u001b[0m \u001b[0mself\u001b[0m\u001b[1;33m)\u001b[0m\u001b[1;33m.\u001b[0m\u001b[0m__setattr__\u001b[0m\u001b[1;33m(\u001b[0m\u001b[0mname\u001b[0m\u001b[1;33m,\u001b[0m \u001b[0mvalue\u001b[0m\u001b[1;33m)\u001b[0m\u001b[1;33m\u001b[0m\u001b[0m\n\u001b[0m\u001b[0;32m    815\u001b[0m \u001b[1;33m\u001b[0m\u001b[0m\n\u001b[0;32m    816\u001b[0m \u001b[1;33m\u001b[0m\u001b[0m\n",
        "\u001b[1;32mC:\\Users\\cc607_000\\Anaconda\\lib\\site-packages\\ivisual\\visual.pyc\u001b[0m in \u001b[0;36m__setattr__\u001b[1;34m(self, name, value)\u001b[0m\n\u001b[0;32m    788\u001b[0m                 \u001b[0mself\u001b[0m\u001b[1;33m.\u001b[0m\u001b[0maddattr\u001b[0m\u001b[1;33m(\u001b[0m\u001b[0mname\u001b[0m\u001b[1;33m)\u001b[0m\u001b[1;33m\u001b[0m\u001b[0m\n\u001b[0;32m    789\u001b[0m         \u001b[1;32melse\u001b[0m\u001b[1;33m:\u001b[0m\u001b[1;33m\u001b[0m\u001b[0m\n\u001b[1;32m--> 790\u001b[1;33m             \u001b[0msuper\u001b[0m\u001b[1;33m(\u001b[0m\u001b[0mbaseAttrs2\u001b[0m\u001b[1;33m,\u001b[0m \u001b[0mself\u001b[0m\u001b[1;33m)\u001b[0m\u001b[1;33m.\u001b[0m\u001b[0m__setattr__\u001b[0m\u001b[1;33m(\u001b[0m\u001b[0mname\u001b[0m\u001b[1;33m,\u001b[0m \u001b[0mvalue\u001b[0m\u001b[1;33m)\u001b[0m\u001b[1;33m\u001b[0m\u001b[0m\n\u001b[0m\u001b[0;32m    791\u001b[0m \u001b[1;33m\u001b[0m\u001b[0m\n\u001b[0;32m    792\u001b[0m \u001b[1;32mclass\u001b[0m \u001b[0mtrailAttrs\u001b[0m\u001b[1;33m(\u001b[0m\u001b[0mbaseAttrs2\u001b[0m\u001b[1;33m)\u001b[0m\u001b[1;33m:\u001b[0m\u001b[1;33m\u001b[0m\u001b[0m\n",
        "\u001b[1;32mC:\\Users\\cc607_000\\Anaconda\\lib\\site-packages\\ivisual\\visual.pyc\u001b[0m in \u001b[0;36m__setattr__\u001b[1;34m(self, name, value)\u001b[0m\n\u001b[0;32m    683\u001b[0m     \u001b[1;32mdef\u001b[0m \u001b[0m__setattr__\u001b[0m\u001b[1;33m(\u001b[0m\u001b[0mself\u001b[0m\u001b[1;33m,\u001b[0m \u001b[0mname\u001b[0m\u001b[1;33m,\u001b[0m \u001b[0mvalue\u001b[0m\u001b[1;33m)\u001b[0m\u001b[1;33m:\u001b[0m\u001b[1;33m\u001b[0m\u001b[0m\n\u001b[0;32m    684\u001b[0m         \u001b[1;32mif\u001b[0m \u001b[0mname\u001b[0m \u001b[1;32min\u001b[0m \u001b[1;33m[\u001b[0m\u001b[1;34m'pos'\u001b[0m\u001b[1;33m,\u001b[0m\u001b[1;34m'size'\u001b[0m\u001b[1;33m,\u001b[0m\u001b[1;34m'axis'\u001b[0m\u001b[1;33m,\u001b[0m\u001b[1;34m'up'\u001b[0m\u001b[1;33m,\u001b[0m\u001b[1;34m'visible'\u001b[0m\u001b[1;33m,\u001b[0m\u001b[1;34m'x'\u001b[0m\u001b[1;33m,\u001b[0m\u001b[1;34m'y'\u001b[0m\u001b[1;33m,\u001b[0m\u001b[1;34m'z'\u001b[0m\u001b[1;33m,\u001b[0m\u001b[1;34m'red'\u001b[0m\u001b[1;33m,\u001b[0m\u001b[1;34m'green'\u001b[0m\u001b[1;33m,\u001b[0m\u001b[1;34m'blue'\u001b[0m\u001b[1;33m]\u001b[0m\u001b[1;33m:\u001b[0m\u001b[1;33m\u001b[0m\u001b[0m\n\u001b[1;32m--> 685\u001b[1;33m             \u001b[0mself\u001b[0m\u001b[1;33m.\u001b[0m\u001b[0m__dict__\u001b[0m\u001b[1;33m[\u001b[0m\u001b[0mname\u001b[0m\u001b[1;33m]\u001b[0m \u001b[1;33m=\u001b[0m \u001b[0mvector\u001b[0m\u001b[1;33m(\u001b[0m\u001b[0mvalue\u001b[0m\u001b[1;33m)\u001b[0m \u001b[1;32mif\u001b[0m \u001b[0mtype\u001b[0m\u001b[1;33m(\u001b[0m\u001b[0mvalue\u001b[0m\u001b[1;33m)\u001b[0m \u001b[1;32min\u001b[0m \u001b[1;33m[\u001b[0m\u001b[0mtuple\u001b[0m\u001b[1;33m,\u001b[0m \u001b[0mlist\u001b[0m\u001b[1;33m,\u001b[0m \u001b[0mnp\u001b[0m\u001b[1;33m.\u001b[0m\u001b[0mndarray\u001b[0m\u001b[1;33m]\u001b[0m \u001b[1;32melse\u001b[0m \u001b[0mvalue\u001b[0m\u001b[1;33m\u001b[0m\u001b[0m\n\u001b[0m\u001b[0;32m    686\u001b[0m             \u001b[1;32mif\u001b[0m \u001b[0mname\u001b[0m \u001b[1;33m==\u001b[0m \u001b[1;34m'x'\u001b[0m\u001b[1;33m:\u001b[0m\u001b[1;33m\u001b[0m\u001b[0m\n\u001b[0;32m    687\u001b[0m                 \u001b[0mself\u001b[0m\u001b[1;33m.\u001b[0m\u001b[0m__dict__\u001b[0m\u001b[1;33m[\u001b[0m\u001b[1;34m'pos'\u001b[0m\u001b[1;33m]\u001b[0m\u001b[1;33m[\u001b[0m\u001b[1;36m0\u001b[0m\u001b[1;33m]\u001b[0m \u001b[1;33m=\u001b[0m \u001b[0mvalue\u001b[0m\u001b[1;33m\u001b[0m\u001b[0m\n",
        "\u001b[1;31mKeyboardInterrupt\u001b[0m: "
       ]
      }
     ],
     "prompt_number": 3
    },
    {
     "cell_type": "code",
     "collapsed": false,
     "input": [],
     "language": "python",
     "metadata": {},
     "outputs": []
    }
   ],
   "metadata": {}
  }
 ]
}