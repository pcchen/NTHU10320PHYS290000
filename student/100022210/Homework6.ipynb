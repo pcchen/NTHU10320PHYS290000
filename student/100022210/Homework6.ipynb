{
 "metadata": {
  "name": "",
  "signature": "sha256:d7fa63174a23c6add816f92f5e731d4aacbc26050e4886b80bff6fe544350231"
 },
 "nbformat": 3,
 "nbformat_minor": 0,
 "worksheets": [
  {
   "cells": [
    {
     "cell_type": "markdown",
     "metadata": {},
     "source": [
      "# Homework 6"
     ]
    },
    {
     "cell_type": "markdown",
     "metadata": {},
     "source": [
      "## Problem 1\n",
      "\n",
      "Use **ivisual** module to plot the projectile motion with following equations of motion:\n",
      "\n",
      "$$\n",
      "\\begin{eqnarray*}\n",
      "  m\\ddot{x} &=& 0, \\\\\n",
      "  m\\ddot{y} &=& -mg, \\\\\n",
      "  m\\ddot{z} &=& 0,\n",
      "\\end{eqnarray*}\n",
      "$$\n",
      "and initial conditions\n",
      "\n",
      "$$\n",
      "  \\vec{r}(0) = (0, 0, 0), \\\\\n",
      "  \\vec{v}(0) = (v_{x0}, v_{y0}, 0),\n",
      "$$\n",
      "You can assign $v_{x0}$ and $v_{y0}$ in the code or ask user to input it.\n",
      "\n",
      "You should\n",
      "* Use a box to represent the ground.\n",
      "* Use three arrows to represent the three axes.\n",
      "* Use a sphere to represent the ball of the projectile motion.\n",
      "* Leave a trail.\n",
      "* Stop the simulation when the ball hit the ground.\n",
      "\n",
      "You should use to ways to calculate the trajectory of the motion.\n",
      "1. Use exact solution: $x(t)=x(0)+v_x t$, etc.\n",
      "2. Use numerical solution:\n",
      " * $v(t+dt) = v(t) + a * dt$.\n",
      " * $x(t+dt) = x(t) + v(t) * dt$.\n",
      "\n",
      "You should use a small enough $dt$ to ensure the numerical solution is accurate enough.\n"
     ]
    },
    {
     "cell_type": "code",
     "collapsed": false,
     "input": [
      "# Problem 1\n",
      "from ivisual import *\n"
     ],
     "language": "python",
     "metadata": {},
     "outputs": [
      {
       "html": [
        "<div id=\"scene0\"><div id=\"glowscript\" class=\"glowscript\"></div></div>"
       ],
       "metadata": {},
       "output_type": "display_data",
       "text": [
        "<IPython.core.display.HTML at 0x269a8d0>"
       ]
      },
      {
       "javascript": [
        "require.undef(\"nbextensions/glow.1.0.min\");"
       ],
       "metadata": {},
       "output_type": "display_data",
       "text": [
        "<IPython.core.display.Javascript at 0x26af630>"
       ]
      },
      {
       "javascript": [
        "require.undef(\"nbextensions/jquery-ui.custom.min\");"
       ],
       "metadata": {},
       "output_type": "display_data",
       "text": [
        "<IPython.core.display.Javascript at 0x26af668>"
       ]
      },
      {
       "javascript": [
        "require.undef(\"nbextensions/glow.1.1.min\");"
       ],
       "metadata": {},
       "output_type": "display_data",
       "text": [
        "<IPython.core.display.Javascript at 0x26af7b8>"
       ]
      },
      {
       "javascript": [
        "require.undef(\"nbextensions/glowcomm\");"
       ],
       "metadata": {},
       "output_type": "display_data",
       "text": [
        "<IPython.core.display.Javascript at 0x26af828>"
       ]
      },
      {
       "javascript": [
        "require([\"nbextensions/glowcomm\"], function(){console.log(\"glowcomm loaded\");})"
       ],
       "metadata": {},
       "output_type": "display_data",
       "text": [
        "<IPython.core.display.Javascript at 0x26af860>"
       ]
      }
     ],
     "prompt_number": 1
    },
    {
     "cell_type": "code",
     "collapsed": false,
     "input": [
      "scene = canvas(title = \"sphere\")\n",
      "\n",
      "scene.width = 800\n",
      "scene.height = 600\n",
      "scene.autoscale = 10\n",
      "scene.range = (20,20,20)\n",
      "scene.center = (0,0,0)\n",
      "\n",
      "ball = sphere(pos=(0,50,0), radius=3)\n",
      "pointer1 = arrow(pos=(0,0,0), axis=(50,0,0), shaftwidth=1,color=color.blue)\n",
      "pointer1 = arrow(pos=(0,0,0), axis=(0,50,0), shaftwidth=1, color=color.red)\n",
      "pointer1 = arrow(pos=(0,0,0), axis=(0,0,50), shaftwidth=1, color=color.green)\n",
      "mybox = box(pos=(0,0,0), size=(30, 1, 30)) \n",
      "\n",
      "ball.trail = curve(color=color.red)\n",
      "\n",
      "\n",
      "g=9.8\n",
      "dt = .01    # seconds\n",
      "t = 0 # total time\n",
      "steps=5000 #integration steps: final time= dt*steps\n",
      "\n",
      "finished = False\n",
      "while not finished:\n",
      "    rate(100)  \n",
      "    t += dt\n",
      "\n",
      "    ballHeight = 100 - 0.5 * g * t**2\n",
      "\n",
      "\n",
      "    ball.pos = vector(10*t,ballHeight,0)\n",
      "    ball.trail.append(pos=ball.pos)\n",
      "\n",
      "    if ballHeight - 2 < 0:\n",
      "        finished = True\n",
      "      "
     ],
     "language": "python",
     "metadata": {},
     "outputs": [
      {
       "html": [
        "<div id=\"scene0\"><div id=\"glowscript\" class=\"glowscript\"></div></div>"
       ],
       "metadata": {},
       "output_type": "display_data",
       "text": [
        "<IPython.core.display.HTML at 0x2731d68>"
       ]
      },
      {
       "javascript": [
        "window.__context = { glowscript_container: $(\"#glowscript\").removeAttr(\"id\")}"
       ],
       "metadata": {},
       "output_type": "display_data",
       "text": [
        "<IPython.core.display.Javascript at 0x3bdc9e8>"
       ]
      }
     ],
     "prompt_number": 2
    },
    {
     "cell_type": "markdown",
     "metadata": {},
     "source": [
      "## Problem 2\n",
      "\n",
      "Now introduce the air resistence so the equations of motion become:\n",
      "\n",
      "$$\n",
      "\\begin{eqnarray*}\n",
      "  m\\ddot{x} &=& -km\\dot{x}, \\\\\n",
      "  m\\ddot{y} &=& -km\\dot{y}-mg, \\\\\n",
      "  m\\ddot{z} &=& 0,\n",
      "\\end{eqnarray*}\n",
      "$$\n",
      "and initial conditions\n",
      "\n",
      "$$\n",
      "  \\vec{r}(0) = (0, 0, 0), \\\\\n",
      "  \\vec{v}(0) = (v_{x0}, v_{y0}, 0),\n",
      "$$\n",
      "You can assign $v_{x0}$ and $v_{y0}$ in the code or ask user to input it.\n",
      "\n",
      "You should\n",
      "* Use a box to represent the ground.\n",
      "* Use three arrows to represent the three axes.\n",
      "* Use a sphere to represent the ball of the projectile motion.\n",
      "* Leave a trail.\n",
      "* Stop the simulation when the ball hit the ground.\n",
      "\n",
      "\n",
      "You should use to ways to calculate the trajectory of the motion.\n",
      "1. Use exact solution: (Check for example Marion's book).\n",
      "2. Use numerical solution:\n",
      " * $v(t+dt) = v(t) + a * dt$.\n",
      " * $x(t+dt) = x(t) + v(t) * dt$.\n",
      "\n",
      "You should use a small enough $dt$ to ensure the numerical solution is accurate enough.\n"
     ]
    },
    {
     "cell_type": "code",
     "collapsed": false,
     "input": [
      "# Problem 2\n",
      "scene = canvas(title = \"sphere\")\n",
      "\n",
      "scene.width = 800\n",
      "scene.height = 600\n",
      "scene.autoscale = 10\n",
      "scene.range = (20,20,20)\n",
      "scene.center = (0,0,0)\n",
      "\n",
      "ball = sphere(pos=(0,50,0), radius=3)\n",
      "pointer1 = arrow(pos=(0,0,0), axis=(50,0,0), shaftwidth=1,color=color.blue)\n",
      "pointer1 = arrow(pos=(0,0,0), axis=(0,50,0), shaftwidth=1, color=color.red)\n",
      "pointer1 = arrow(pos=(0,0,0), axis=(0,0,50), shaftwidth=1, color=color.green)\n",
      "mybox = box(pos=(0,0,0), size=(30, 1, 30)) \n",
      "\n",
      "vx0=1\n",
      "k=0.1\n",
      "g=9.8\n",
      "dt =0.01    # seconds\n",
      "t = 0 # total time\n",
      "steps=5000 #integration steps: final time= dt*steps\n",
      "\n",
      "ball.trail = curve(color=color.red)\n",
      "\n",
      "A=50*(1+0.1/(4*g+0.01)**0.5)\n",
      "B=50*(1-0.1/(4*g+0.01)**0.5)\n",
      "lamda1=((4*g+0.01)**0.5-0.1)/2\n",
      "lamda2=-((4*g+0.01)**0.5+0.1)/2\n",
      "\n",
      "finished = False\n",
      "while not finished:\n",
      "    rate(100)  \n",
      "    t += dt\n",
      "\n",
      "    ballHeight = 200-(A*math.exp(lamda1*t)+B*math.exp(lamda2*t))\n",
      "\n",
      "\n",
      "    ball.pos = vector(600*(1-math.exp(-0.1*t)),ballHeight,0)\n",
      "    ball.trail.append(pos=ball.pos)\n",
      "    \n",
      "    if ballHeight - 2 < 0:\n",
      "        finished = True\n",
      "      "
     ],
     "language": "python",
     "metadata": {},
     "outputs": [
      {
       "html": [
        "<div id=\"scene2\"><div id=\"glowscript\" class=\"glowscript\"></div></div>"
       ],
       "metadata": {},
       "output_type": "display_data",
       "text": [
        "<IPython.core.display.HTML at 0x42760f0>"
       ]
      },
      {
       "javascript": [
        "window.__context = { glowscript_container: $(\"#glowscript\").removeAttr(\"id\")}"
       ],
       "metadata": {},
       "output_type": "display_data",
       "text": [
        "<IPython.core.display.Javascript at 0x2731278>"
       ]
      }
     ],
     "prompt_number": 4
    },
    {
     "cell_type": "markdown",
     "metadata": {},
     "source": [
      "## Problem 3\n",
      "\n",
      "Use **ivisual** module to plot the trajectory of a coupled spring-mass system that has two masses, three springs, two walls.\n",
      "\n",
      "Something like Wall-spring1-mass1-spring2-mass2-spring3-Wall.\n",
      "\n",
      "You should\n",
      "* Use a box to represent the ground.\n",
      "* Use two boxes to represent the walls.\n",
      "* Use two **cubic** boxes to represent the two masses.\n",
      "* Use helix to represent the two srpings.\n"
     ]
    },
    {
     "cell_type": "code",
     "collapsed": false,
     "input": [
      "# Problem 3"
     ],
     "language": "python",
     "metadata": {},
     "outputs": [],
     "prompt_number": 1
    },
    {
     "cell_type": "markdown",
     "metadata": {},
     "source": [
      "# Problem 4\n",
      "\n",
      "Use **ivisual** module to plot the trajectories of 20 particles in a rectangle box.\n",
      "\n",
      "* The rectangle box has the dimension $L_x$, $L_y$, $L_z$.\n",
      "* Use boxes to represent the walls. Keep one wall **invisible**.\n",
      "* The 20 particles should have **random** initial velocity.\n",
      "* The 20 particles should leave a trail.\n",
      "* Make each particle has random RGB color."
     ]
    },
    {
     "cell_type": "code",
     "collapsed": false,
     "input": [
      "# Problem 4"
     ],
     "language": "python",
     "metadata": {},
     "outputs": [],
     "prompt_number": 2
    }
   ],
   "metadata": {}
  }
 ]
}