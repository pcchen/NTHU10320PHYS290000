{
 "metadata": {
  "name": "",
  "signature": "sha256:37f8fe116b2c5165bf7a4bc020983a4b1dd452874eae9145a0888404771c6384"
 },
 "nbformat": 3,
 "nbformat_minor": 0,
 "worksheets": [
  {
   "cells": [
    {
     "cell_type": "markdown",
     "metadata": {},
     "source": [
      "# Problem 2:\n",
      "# Sorting a List\n",
      "\n",
      "In this problem you should\n",
      "* Implement the **selection sort** algorithm.\n",
      "* Implement the **insertion sort** algorithm.\n",
      "* Create a list of N-elements where each element is a random integer between 0, 1, 2, ..., N-1.\n",
      "* Use your implementation of the selection sort and insertion sort to sort the the random list above.\n",
      "* Use built-in function `sorted()` that builds a new sorted list to show that your implementation is correct.\n",
      "\n",
      "## Selection sort\n",
      "\n",
      "Following is the algorithm of the **selection sort**:\n",
      "\n",
      "* Divide the input list into two sub-lists:\n",
      " * Sorted sub-list (Start with an empty list).\n",
      " * Un-Sorted sub-list.\n",
      "* Find the smallest element in the unsorted list.\n",
      "* Swap with the leftmost unsorted element.\n",
      "* Move the sub-list boundaries.\n",
      "\n",
      "Following is an example of selection sort:\n",
      "<img src=\"SelectionSort.png\" width=\"800\">\n",
      "\n",
      "## Insertion sort\n",
      "\n",
      "Following is the algorithm of the **insertion sort**:\n",
      "\n",
      "* Divide the input list into two sub-lists:\n",
      " * Sorted sub-list (Start with the leftmost element).\n",
      " * Un-Sorted sub-list.\n",
      "* Insert the leftmost element of the unsorted sub-list into the proper position of the sorted sub-list.\n",
      "* Move the sub-list boundaries \n",
      "\n",
      "Following is an example of selection sort:\n",
      "<img src=\"InsertionSort.png\" width=\"800\">"
     ]
    },
    {
     "cell_type": "markdown",
     "metadata": {},
     "source": [
      "Please write your code based on the sketch below and use the test code below to show that your function works properly."
     ]
    },
    {
     "cell_type": "code",
     "collapsed": false,
     "input": [
      "from random import *\n",
      "\n",
      "# create a random list with N elements\n",
      "def random_list(N):\n",
      "    n=1\n",
      "    t=[]\n",
      "    while n<=N:\n",
      "        t.append(random())\n",
      "        n=n+1\n",
      "    return t\n",
      "# a funtion which find the smallest number in t\n",
      "\n",
      "def sn(t):\n",
      "    o=[]\n",
      "    a=t[0]\n",
      "    for n in t:\n",
      "        if n<=a :\n",
      "            a=n\n",
      "    return a\n",
      "def sl(t):\n",
      "    o=[]\n",
      "    a=sn(t)\n",
      "    for n in t:\n",
      "        if n<=a :\n",
      "            a=n\n",
      "        else:\n",
      "            o.append(n)\n",
      "    return o\n",
      "# selection sort\n",
      "def selection_sort(t):\n",
      "    o=[sn(t)]\n",
      "    b=sl(t)\n",
      "    g=len(t)\n",
      "    n=0\n",
      "    \n",
      "    while n<g-1:\n",
      "        o.append(sn(b))\n",
      "        b=sl(b)\n",
      "        n=n+1\n",
      "        \n",
      "    return o\n",
      "\n",
      "\n",
      "# insertion sort\n",
      "def insertion_sort(t):\n",
      "    o=[t[0]]\n",
      "    l=len(t)\n",
      "    n=1\n",
      "    while n < l:\n",
      "        \n",
      "        \n",
      "        if t[n]>o[n-1]:\n",
      "            o.append(t[n])\n",
      "        if t[n]<o[0]:\n",
      "            o=[t[n]]+o\n",
      "        l2=len(o)\n",
      "        m=0\n",
      "\n",
      "        while m < l2:\n",
      "        \n",
      "            if t[n]>o[m] and t[n]<o[m+1]:\n",
      "                o=o[0:m+1]+[t[n]]+o[m+1:]\n",
      "            m=m+1\n",
      "        n=n+1\n",
      "    return o\n",
      "insertion_sort([3,4,1,2,8,9,10,45])"
     ],
     "language": "python",
     "metadata": {},
     "outputs": [
      {
       "metadata": {},
       "output_type": "pyout",
       "prompt_number": 111,
       "text": [
        "[1, 2, 3, 4, 8, 9, 10, 45]"
       ]
      }
     ],
     "prompt_number": 111
    },
    {
     "cell_type": "code",
     "collapsed": false,
     "input": [
      "# test the implementation of selection sort\n",
      "N = 10\n",
      "L = random_list(N)\n",
      "L_sorted = sorted(L)\n",
      "L = selection_sort(L)\n",
      "\n",
      "for i in range(len(L)):\n",
      "    if L[i] != L_sorted[i]:\n",
      "        print 'oops!'    "
     ],
     "language": "python",
     "metadata": {},
     "outputs": [],
     "prompt_number": 117
    },
    {
     "cell_type": "code",
     "collapsed": false,
     "input": [
      "# test the implementation of insertion sort\n",
      "N = 10\n",
      "L = random_list(N)\n",
      "\n",
      "L_sorted = sorted(L)\n",
      "\n",
      "\n",
      "L=insertion_sort(L)\n",
      "\n",
      "for i in range(len(L)):\n",
      "    if L[i] != L_sorted[i]:\n",
      "        print 'oops!'    "
     ],
     "language": "python",
     "metadata": {},
     "outputs": [],
     "prompt_number": 118
    },
    {
     "cell_type": "code",
     "collapsed": false,
     "input": [],
     "language": "python",
     "metadata": {},
     "outputs": []
    }
   ],
   "metadata": {}
  }
 ]
}