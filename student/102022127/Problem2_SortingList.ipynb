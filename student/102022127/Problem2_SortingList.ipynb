{
 "metadata": {
  "name": "",
  "signature": "sha256:0579f98fd3ef88122ab4908452aa251fe5a18906f8ad9003f0178788f60770b8"
 },
 "nbformat": 3,
 "nbformat_minor": 0,
 "worksheets": [
  {
   "cells": [
    {
     "cell_type": "markdown",
     "metadata": {},
     "source": [
      "# Problem 2:\n",
      "# Sorting a List\n",
      "\n",
      "In this problem you should\n",
      "* Implement the **selection sort** algorithm.\n",
      "* Implement the **insertion sort** algorithm.\n",
      "* Create a list of N-elements where each element is a random integer between 0, 1, 2, ..., N-1.\n",
      "* Use your implementation of the selection sort and insertion sort to sort the the random list above.\n",
      "* Use built-in function `sorted()` that builds a new sorted list to show that your implementation is correct.\n",
      "\n",
      "## Selection sort\n",
      "\n",
      "Following is the algorithm of the **selection sort**:\n",
      "\n",
      "* Divide the input list into two sub-lists:\n",
      " * Sorted sub-list (Start with an empty list).\n",
      " * Un-Sorted sub-list.\n",
      "* Find the smallest element in the unsorted list.\n",
      "* Swap with the leftmost unsorted element.\n",
      "* Move the sub-list boundaries.\n",
      "\n",
      "Following is an example of selection sort:\n",
      "<img src=\"SelectionSort.png\" width=\"800\">\n",
      "\n",
      "## Insertion sort\n",
      "\n",
      "Following is the algorithm of the **insertion sort**:\n",
      "\n",
      "* Divide the input list into two sub-lists:\n",
      " * Sorted sub-list (Start with the leftmost element).\n",
      " * Un-Sorted sub-list.\n",
      "* Insert the leftmost element of the unsorted sub-list into the proper position of the sorted sub-list.\n",
      "* Move the sub-list boundaries \n",
      "\n",
      "Following is an example of selection sort:\n",
      "<img src=\"InsertionSort.png\" width=\"800\">"
     ]
    },
    {
     "cell_type": "markdown",
     "metadata": {},
     "source": [
      "Please write your code based on the sketch below and use the test code below to show that your function works properly."
     ]
    },
    {
     "cell_type": "code",
     "collapsed": false,
     "input": [
      "from random import *\n",
      "\n",
      "# create a random list with N elements\n",
      "print '...........create a random list with N elements..........'\n",
      "def random_list(N):\n",
      "    return sample(range(100), N)\n",
      "print random_list(10)\n",
      "\n",
      "# selection sort\n",
      "print '.............selection sort............'\n",
      "def selection_sort(list):\n",
      "    for f in range(len(list)-1,0,-1):\n",
      "       Max = 0\n",
      "       for location in range(1,f+1):\n",
      "           if list[location] > list[Max]:\n",
      "               Max = location\n",
      "\n",
      "       temp = list[f]\n",
      "       list[f] = list[Max]\n",
      "       list[Max] = temp\n",
      "                \n",
      "list = random_list(10)\n",
      "print list\n",
      "selection_sort(list)\n",
      "print list\n",
      "\n",
      "# insertion sort\n",
      "print '.............insertion sort............'\n",
      "def insertion_sort(list):\n",
      "   for i in range(1,len(list)):\n",
      "     currentvalue = list[i]\n",
      "     p = i\n",
      "     while p > 0 and list[p-1] > currentvalue:\n",
      "         list[p] = list[p-1]\n",
      "         p = p-1\n",
      "     list[p] = currentvalue\n",
      "\n",
      "list = random_list(10)\n",
      "print list\n",
      "insertion_sort(list)\n",
      "print(list)"
     ],
     "language": "python",
     "metadata": {},
     "outputs": [
      {
       "output_type": "stream",
       "stream": "stdout",
       "text": [
        "...........create a random list with N elements..........\n",
        "[20, 27, 74, 10, 86, 29, 96, 59, 28, 48]\n",
        ".............selection sort............\n",
        "[18, 29, 10, 62, 25, 66, 80, 48, 68, 67]\n",
        "[10, 18, 25, 29, 48, 62, 66, 67, 68, 80]\n",
        ".............insertion sort............\n",
        "[86, 50, 30, 93, 43, 25, 72, 75, 49, 54]\n",
        "[25, 30, 43, 49, 50, 54, 72, 75, 86, 93]\n"
       ]
      }
     ],
     "prompt_number": 22
    },
    {
     "cell_type": "code",
     "collapsed": false,
     "input": [
      "# test the implementation of selection sort\n",
      "N = 10\n",
      "L = random_list(N)\n",
      "L_sorted = sorted(L)\n",
      "selection_sort(L)\n",
      "\n",
      "for i in range(len(L)):\n",
      "    if L[i] != L_sorted[i]:\n",
      "        print 'oops!'    "
     ],
     "language": "python",
     "metadata": {},
     "outputs": [],
     "prompt_number": 23
    },
    {
     "cell_type": "code",
     "collapsed": false,
     "input": [
      "# test the implementation of insertion sort\n",
      "N = 10\n",
      "L = random_list(N)\n",
      "L_sorted = sorted(L)\n",
      "insertion_sort(L)\n",
      "\n",
      "for i in range(len(L)):\n",
      "    if L[i] != L_sorted[i]:\n",
      "        print 'oops!'    "
     ],
     "language": "python",
     "metadata": {},
     "outputs": [],
     "prompt_number": 24
    },
    {
     "cell_type": "code",
     "collapsed": false,
     "input": [],
     "language": "python",
     "metadata": {},
     "outputs": []
    }
   ],
   "metadata": {}
  }
 ]
}