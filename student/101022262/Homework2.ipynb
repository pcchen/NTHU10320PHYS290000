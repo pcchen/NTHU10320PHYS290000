{
 "metadata": {
  "name": "",
  "signature": "sha256:cdf8588bdad163cd4697d111d131c576fb5422ce6c2dbc8b5e932e4dc970e978"
 },
 "nbformat": 3,
 "nbformat_minor": 0,
 "worksheets": [
  {
   "cells": [
    {
     "cell_type": "markdown",
     "metadata": {},
     "source": [
      "# Homework 2"
     ]
    },
    {
     "cell_type": "markdown",
     "metadata": {},
     "source": [
      "## Problem 1\n",
      "\n",
      "The Catalan numbers $C_n$ are a sequence of integers 1, 1, 2, 5, 14, 42, 132. . . that play an important role in quantum mechanics and the theory of disordered systems.\n",
      "They are given by\n",
      "\n",
      "$$\n",
      "  \\Large\n",
      "  C_0 = 1, \\;\n",
      "  C_{n+1} = \\frac{4n+2}{n+2} C_n.\n",
      "$$\n",
      "\n",
      "Write a program that prints in increasing order all Catalan numbers less than or equal to one billion."
     ]
    },
    {
     "cell_type": "code",
     "collapsed": false,
     "input": [
      "def C(n):\n",
      "    if  n <0:\n",
      "        print \"n < 0\"\n",
      "        return False\n",
      "    elif  n == 0:\n",
      "        return 1\n",
      "    else:\n",
      "        result = 1\n",
      "        x = 0\n",
      "        while x != n:\n",
      "            result = result*(4*x+2)/(x+2)\n",
      "            x += 1\n",
      "        return result                           #C number is OK\n",
      "n = 0\n",
      "my_list = []\n",
      "while C(n) <= 1000000000:\n",
      "    n += 1\n",
      "    if C(n) <= 1000000000:\n",
      "        print C(n)                              #done"
     ],
     "language": "python",
     "metadata": {},
     "outputs": [
      {
       "output_type": "stream",
       "stream": "stdout",
       "text": [
        "1\n",
        "2\n",
        "5\n",
        "14\n",
        "42\n",
        "132\n",
        "429\n",
        "1430\n",
        "4862\n",
        "16796\n",
        "58786\n",
        "208012\n",
        "742900\n",
        "2674440\n",
        "9694845\n",
        "35357670\n",
        "129644790\n",
        "477638700\n"
       ]
      }
     ],
     "prompt_number": 1
    },
    {
     "cell_type": "markdown",
     "metadata": {},
     "source": [
      "## Problem 2\n",
      "\n",
      "The Madelung constant gives the total electric potential felt by an atom in a solid. Consider for instance solid sodium chloride. The crystal has atoms arranged on a cubic lattice, but with alternating sodium and chlorine atoms, the sodium ones having a $+e$ charge and the chlorine has a $\u2212e$ charge. If we label each position on the lattice by three integers $(i,j,k)$, the sodium atoms fall at positions where $i +j +k$ is even, and the chlorine atoms at positions where $i +j +k$ is odd.\n",
      "\n",
      "Consider a sodium atom at the origin, $i = j = k = 0$. Assume the lattice constant is a and a cubic box around the sodium at the origin, with $L$ atoms in all directions. The potential at the origin created by atoms at $(i,j,k)$ is\n",
      "\n",
      "$$\n",
      "  \\Large\n",
      "  V(i,j,k) = \\pm V_0 \\frac{1}{\\sqrt{i^2+j^2+k^2}}, \\;\n",
      "  V_0 = \\frac{e}{4\\pi \\epsilon_0 a},\n",
      "$$\n",
      "where the sign depends on whether $i + j + k$ is even or odd.\n",
      "\n",
      "Then \n",
      "\n",
      "$$\n",
      "  \\Large\n",
      "  V_{tot} = {\\sum_{i,\\; j,\\; k =-L,\\; \\; (i,j,k)\\neq (0,0,0) }^{L}} V(i,j,k) = V_0 M_L\n",
      "$$\n",
      "\n",
      "where $M_L$ is the approximated Madelung constant. The exact Madelung constant can be obtained by $M =\\lim_{L \\rightarrow \\infty } M_L$.\n",
      "\n",
      "Write a program to calculate and print $M_L$ for a given $L$. Use as large a value of $L$ as you can while still having your program run in reasonable time, to estimate the value of $M$. You can print a table of $L$, $M_L$ up to some $L_{max}$.\n",
      "\n",
      "Hint: the correct answer is about \u22121.748."
     ]
    },
    {
     "cell_type": "code",
     "collapsed": false,
     "input": [
      "from math import *\n",
      "l = raw_input('L-->')\n",
      "L = int(l)\n",
      "i = -L\n",
      "j = -L\n",
      "k = -L\n",
      "V = 0\n",
      "while i <= L and i>= -L:\n",
      "    while j <= L and j>= -L:\n",
      "        while k<= L and k<=-L:\n",
      "            if i+j+k != 0:\n",
      "               r = 1/(sqrt(i**2+j**2+k**2))\n",
      "               if (i + j + k) % 2 != 0:\n",
      "                  r = -r\n",
      "                  V = V + r\n",
      "\n",
      "            \n",
      "            k = k + 1\n",
      "        j += 1\n",
      "    i += 1\n",
      "print V\n",
      "\n",
      "\n",
      "    \n",
      "                \n",
      "    \n",
      "    \n",
      "    "
     ],
     "language": "python",
     "metadata": {},
     "outputs": [
      {
       "name": "stdout",
       "output_type": "stream",
       "stream": "stdout",
       "text": [
        "L-->9999999\n"
       ]
      },
      {
       "output_type": "stream",
       "stream": "stdout",
       "text": [
        "-5.77350326925e-08\n"
       ]
      }
     ],
     "prompt_number": 6
    },
    {
     "cell_type": "markdown",
     "metadata": {},
     "source": [
      "## Problem 3\n",
      "\n",
      "Write a program to find all the primes up to 10,000  by using following rules.\n",
      "\n",
      "* A number $n$ is a prime if it has no prime factors less than $n$. Hence we only need to check if it is divisible by other primes.\n",
      "\n",
      "* To determine if a number is prime we have to check its prime factors only up to and including $\\sqrt{n}$. If there are none prime-factor then the number is prime.\n",
      "\n",
      "* \ufffc\ufffcIf we find even a single prime factor less than that the number is non-prime.\n",
      "\n",
      "Hint: Create a list to store the primes, which starts out with just one prime number 2 it it. For each number from 3 to 10000 check whether the number is divisible by any of the primes in the list up to and including $\\sqrt{n}$. If you find no prime factors then n is prime and you should add it to the list."
     ]
    },
    {
     "cell_type": "code",
     "collapsed": false,
     "input": [
      "from math import *\n",
      "ilist = [2]\n",
      "print ilist\n",
      "#------------------test--------------------\n",
      "n = 4\n",
      "for x in ilist:\n",
      "    if n % x ==0:\n",
      "       ilist.append(n)\n",
      "n +=1\n",
      "print ilist\n"
     ],
     "language": "python",
     "metadata": {},
     "outputs": []
    },
    {
     "cell_type": "markdown",
     "metadata": {},
     "source": [
      "## Problem 4\n",
      "\n",
      "Write a function called `nested_sum` that takes a nested list of integers and add up the elements from all of the nested lists. "
     ]
    },
    {
     "cell_type": "code",
     "collapsed": false,
     "input": [
      "# Problem 4\n",
      "# Hint, you can use `isinstance` to check if a variable is a list or not\n",
      "t = [1, 2, [1, 1, 10]]\n",
      "\n",
      "def nested_sum(n_list):\n",
      "    total = 0\n",
      "    for x in n_list:\n",
      "        if isinstance(x, list):\n",
      "            for y in x:\n",
      "                total = total + y\n",
      "    return total\n",
      "nested_sum(t)                                    #done\n",
      "    "
     ],
     "language": "python",
     "metadata": {},
     "outputs": [
      {
       "metadata": {},
       "output_type": "pyout",
       "prompt_number": 6,
       "text": [
        "12"
       ]
      }
     ],
     "prompt_number": 6
    },
    {
     "cell_type": "markdown",
     "metadata": {},
     "source": [
      "## Problem 5\n",
      "\n",
      "Write a function that takes a list of numbers and returns the cumulative sum; that is, a **new** list where the ith element is the sum of the first i+1 elements from the original list. For example, the cumulative sum of [1, 2, 3] is [1, 3, 6]."
     ]
    },
    {
     "cell_type": "code",
     "collapsed": false,
     "input": [
      "def cumulative(input_list):\n",
      "    new_list = []\n",
      "    n = 0\n",
      "    for x in input_list:\n",
      "        n = n + x \n",
      "        new_list.append(n)\n",
      "    print new_list\n",
      "ilist = [0,3,9]\n",
      "cumulative(ilist)                         #done\n",
      "\n",
      "        "
     ],
     "language": "python",
     "metadata": {},
     "outputs": [
      {
       "output_type": "stream",
       "stream": "stdout",
       "text": [
        "[0, 3, 12]\n"
       ]
      }
     ],
     "prompt_number": 47
    },
    {
     "cell_type": "markdown",
     "metadata": {},
     "source": [
      "## Problem 6\n",
      "\n",
      "Write a function called `middle` that takes a list and returns a **new** list that contains all but the first and last elements. So `middle([1,2,3,4])` should return `[2,3]`."
     ]
    },
    {
     "cell_type": "code",
     "collapsed": false,
     "input": [
      "def middle(ilist):\n",
      "    l = len(ilist)\n",
      "    new_list = ilist[1:l-1]\n",
      "    return new_list\n",
      "ilist = [1,2,3,4]\n",
      "\n",
      "print middle(ilist)       #done"
     ],
     "language": "python",
     "metadata": {},
     "outputs": [
      {
       "output_type": "stream",
       "stream": "stdout",
       "text": [
        "[2, 3]\n"
       ]
      }
     ],
     "prompt_number": 11
    },
    {
     "cell_type": "markdown",
     "metadata": {},
     "source": [
      "## Problem 7\n",
      "\n",
      "Write a function called `chop` that takes a list, modifies it by removing the first and last elements, and returns `None`."
     ]
    },
    {
     "cell_type": "code",
     "collapsed": false,
     "input": [
      "def chop(ilist):\n",
      "    l = len(ilist) \n",
      "    del ilist[0]\n",
      "    del ilist[l-2]\n",
      "    return None\n",
      "\n",
      "ilist = [1,2,3,4,5,6]\n",
      "chop(ilist)         \n",
      "print ilist                            #done\n"
     ],
     "language": "python",
     "metadata": {},
     "outputs": [
      {
       "output_type": "stream",
       "stream": "stdout",
       "text": [
        "[2, 3, 4, 5]\n"
       ]
      }
     ],
     "prompt_number": 44
    },
    {
     "cell_type": "markdown",
     "metadata": {},
     "source": [
      "## Problem 8\n",
      "\n",
      "Write a program that reads the words from the `words.txt` and then find all the words with three consecutive double letters. That is, all the words which contain a sub-string of the form `'xxyyzz'` where `x`,`y`,`z` are arbitrary letters. "
     ]
    },
    {
     "cell_type": "code",
     "collapsed": false,
     "input": [
      "fin  = open('words.txt')\n",
      "\n",
      "\n",
      "for line in fin:\n",
      "  i = 0\n",
      "  l = len(line.strip())\n",
      "  while i <= l:\n",
      "     if i+1 < l:\n",
      "        if line[i] == line[i+1]:\n",
      "           if i+3 < l: \n",
      "              if line[i+2] == line[i+3]:\n",
      "                 if i+5 < l:\n",
      "                    if line[i+4] ==line[i+5]:\n",
      "                       print line\n",
      "     i +=1                                             #done\n"
     ],
     "language": "python",
     "metadata": {},
     "outputs": [
      {
       "output_type": "stream",
       "stream": "stdout",
       "text": [
        "bookkeeper\n",
        "\n",
        "bookkeepers\n",
        "\n",
        "bookkeeping\n",
        "\n",
        "bookkeepings\n",
        "\n"
       ]
      }
     ],
     "prompt_number": 7
    },
    {
     "cell_type": "code",
     "collapsed": false,
     "input": [],
     "language": "python",
     "metadata": {},
     "outputs": []
    }
   ],
   "metadata": {}
  }
 ]
}