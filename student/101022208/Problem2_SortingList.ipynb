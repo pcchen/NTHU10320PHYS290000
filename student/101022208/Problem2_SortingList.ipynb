{
 "metadata": {
  "name": "",
  "signature": "sha256:4f1a2469c1b79a90d8c4cf56aea0f400f51cab211fb02bd8e2f8fcca02fe7cee"
 },
 "nbformat": 3,
 "nbformat_minor": 0,
 "worksheets": [
  {
   "cells": [
    {
     "cell_type": "markdown",
     "metadata": {},
     "source": [
      "# Problem 2:\n",
      "# Sorting a List\n",
      "\n",
      "In this problem you should\n",
      "* Implement the **selection sort** algorithm.\n",
      "* Implement the **insertion sort** algorithm.\n",
      "* Create a list of N-elements where each element is a random integer between 0, 1, 2, ..., N-1.\n",
      "* Use your implementation of the selection sort and insertion sort to sort the the random list above.\n",
      "* Use built-in function `sorted()` that builds a new sorted list to show that your implementation is correct.\n",
      "\n",
      "## Selection sort\n",
      "\n",
      "Following is the algorithm of the **selection sort**:\n",
      "\n",
      "* Divide the input list into two sub-lists:\n",
      " * Sorted sub-list (Start with an empty list).\n",
      " * Un-Sorted sub-list.\n",
      "* Find the smallest element in the unsorted list.\n",
      "* Swap with the leftmost unsorted element.\n",
      "* Move the sub-list boundaries.\n",
      "\n",
      "Following is an example of selection sort:\n",
      "<img src=\"SelectionSort.png\" width=\"800\">\n",
      "\n",
      "## Insertion sort\n",
      "\n",
      "Following is the algorithm of the **insertion sort**:\n",
      "\n",
      "* Divide the input list into two sub-lists:\n",
      " * Sorted sub-list (Start with the leftmost element).\n",
      " * Un-Sorted sub-list.\n",
      "* Insert the leftmost element of the unsorted sub-list into the proper position of the sorted sub-list.\n",
      "* Move the sub-list boundaries \n",
      "\n",
      "Following is an example of selection sort:\n",
      "<img src=\"InsertionSort.png\" width=\"800\">"
     ]
    },
    {
     "cell_type": "markdown",
     "metadata": {},
     "source": [
      "Please write your code based on the sketch below and use the test code below to show that your function works properly."
     ]
    },
    {
     "cell_type": "code",
     "collapsed": false,
     "input": [
      "from random import *\n",
      "\n",
      "import random\n",
      "# create a random list with N elements\n",
      "def random_list(N):\n",
      "    a=random.sample(range(10000), N)\n",
      "    return a\n",
      "print random_list(10)\n",
      "\n",
      "# selection sort\n",
      "def selection_sort(alist):\n",
      "    for fillslot in range(len(alist)-1,0,-1):\n",
      "       positionOfMax=0\n",
      "       for location in range(1,fillslot+1):\n",
      "           if alist[location]>alist[positionOfMax]:\n",
      "               positionOfMax = location\n",
      "\n",
      "       temp = alist[fillslot]\n",
      "       alist[fillslot] = alist[positionOfMax]\n",
      "       alist[positionOfMax] = temp\n",
      "                \n",
      "alist = random_list(10)\n",
      "print alist\n",
      "selection_sort(alist)\n",
      "print alist\n",
      "# insertion sort\n",
      "def insertion_sort(alist):\n",
      "    for index in range(1,len(alist)):\n",
      "\n",
      "     currentvalue = alist[index]\n",
      "     position = index\n",
      "\n",
      "     while position>0 and alist[position-1]>currentvalue:\n",
      "         alist[position]=alist[position-1]\n",
      "         position = position-1\n",
      "\n",
      "     alist[position]=currentvalue\n",
      "\n",
      "alist = random_list(10)\n",
      "print alist\n",
      "insertion_sort(alist)\n",
      "print alist"
     ],
     "language": "python",
     "metadata": {},
     "outputs": [
      {
       "output_type": "stream",
       "stream": "stdout",
       "text": [
        "[4341, 1827, 4838, 5215, 7310, 13, 9800, 6078, 5399, 5257]\n",
        "[4141, 469, 7688, 2503, 4051, 7397, 1622, 7034, 2118, 8955]\n",
        "[469, 1622, 2118, 2503, 4051, 4141, 7034, 7397, 7688, 8955]\n",
        "[9340, 6322, 2804, 7962, 5636, 9219, 7987, 704, 6135, 5356]\n",
        "[704, 2804, 5356, 5636, 6135, 6322, 7962, 7987, 9219, 9340]\n"
       ]
      }
     ],
     "prompt_number": 1
    },
    {
     "cell_type": "code",
     "collapsed": false,
     "input": [
      "# test the implementation of selection sort\n",
      "N = 10\n",
      "L = random_list(N)\n",
      "L_sorted = sorted(L)\n",
      "selection_sort(L)\n",
      "\n",
      "for i in range(len(L)):\n",
      "    if L[i] != L_sorted[i]:\n",
      "        print 'oops!'    "
     ],
     "language": "python",
     "metadata": {},
     "outputs": [],
     "prompt_number": 2
    },
    {
     "cell_type": "code",
     "collapsed": false,
     "input": [
      "# test the implementation of insertion sort\n",
      "N = 10\n",
      "L = random_list(N)\n",
      "L_sorted = sorted(L)\n",
      "insertion_sort(L)\n",
      "\n",
      "for i in range(len(L)):\n",
      "    if L[i] != L_sorted[i]:\n",
      "        print 'oops!'    "
     ],
     "language": "python",
     "metadata": {},
     "outputs": [],
     "prompt_number": 3
    },
    {
     "cell_type": "code",
     "collapsed": false,
     "input": [],
     "language": "python",
     "metadata": {},
     "outputs": []
    }
   ],
   "metadata": {}
  }
 ]
}