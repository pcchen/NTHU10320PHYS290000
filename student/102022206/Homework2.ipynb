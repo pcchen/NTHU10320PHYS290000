{
 "metadata": {
  "name": "",
  "signature": "sha256:6638ac3bd8402e836085faefa69cff51afc12e6096aea91baeae6b2e9c72a989"
 },
 "nbformat": 3,
 "nbformat_minor": 0,
 "worksheets": [
  {
   "cells": [
    {
     "cell_type": "markdown",
     "metadata": {},
     "source": [
      "# Homework 2"
     ]
    },
    {
     "cell_type": "markdown",
     "metadata": {},
     "source": [
      "## Problem 1\n",
      "\n",
      "The Catalan numbers $C_n$ are a sequence of integers 1, 1, 2, 5, 14, 42, 132. . . that play an important role in quantum mechanics and the theory of disordered systems.\n",
      "They are given by\n",
      "\n",
      "$$\n",
      "  \\Large\n",
      "  C_0 = 1, \\;\n",
      "  C_{n+1} = \\frac{4n+2}{n+2} C_n.\n",
      "$$\n",
      "\n",
      "Write a program that prints in increasing order all Catalan numbers less than or equal to one billion."
     ]
    },
    {
     "cell_type": "code",
     "collapsed": false,
     "input": [
      "# Problem 1\n",
      "x=1\n",
      "n=0\n",
      "while True:\n",
      "    y=((4*n+2)/(n+2))*x\n",
      "    if y >= 1000000000:\n",
      "        break \n",
      "        \n",
      "    else:\n",
      "        print 'n=',n,\n",
      "        print 'C=',x\n",
      "        x=y\n",
      "        n=n+1\n",
      "    "
     ],
     "language": "python",
     "metadata": {},
     "outputs": [
      {
       "output_type": "stream",
       "stream": "stdout",
       "text": [
        "n= 0 C= 1\n",
        "n= 1 C= 1\n",
        "n= 2 C= 2\n",
        "n= 3 C= 4\n",
        "n= 4 C= 8\n",
        "n= 5 C= 24\n",
        "n= 6 C= 72\n",
        "n= 7 C= 216\n",
        "n= 8 C= 648\n",
        "n= 9 C= 1944\n",
        "n= 10 C= 5832\n",
        "n= 11 C= 17496\n",
        "n= 12 C= 52488\n",
        "n= 13 C= 157464\n",
        "n= 14 C= 472392\n",
        "n= 15 C= 1417176\n",
        "n= 16 C= 4251528\n",
        "n= 17 C= 12754584\n",
        "n= 18 C= 38263752\n",
        "n= 19 C= 114791256\n"
       ]
      }
     ],
     "prompt_number": 16
    },
    {
     "cell_type": "markdown",
     "metadata": {},
     "source": [
      "## Problem 2\n",
      "\n",
      "The Madelung constant gives the total electric potential felt by an atom in a solid. Consider for instance solid sodium chloride. The crystal has atoms arranged on a cubic lattice, but with alternating sodium and chlorine atoms, the sodium ones having a $+e$ charge and the chlorine has a $\u2212e$ charge. If we label each position on the lattice by three integers $(i,j,k)$, the sodium atoms fall at positions where $i +j +k$ is even, and the chlorine atoms at positions where $i +j +k$ is odd.\n",
      "\n",
      "Consider a sodium atom at the origin, $i = j = k = 0$. Assume the lattice constant is a and a cubic box around the sodium at the origin, with $L$ atoms in all directions. The potential at the origin created by atoms at $(i,j,k)$ is\n",
      "\n",
      "$$\n",
      "  \\Large\n",
      "  V(i,j,k) = \\pm V_0 \\frac{1}{\\sqrt{i^2+j^2+k^2}}, \\;\n",
      "  V_0 = \\frac{e}{4\\pi \\epsilon_0 a},\n",
      "$$\n",
      "where the sign depends on whether $i + j + k$ is even or odd.\n",
      "\n",
      "Then \n",
      "\n",
      "$$\n",
      "  \\Large\n",
      "  V_{tot} = {\\sum_{i,\\; j,\\; k =-L,\\; \\; (i,j,k)\\neq (0,0,0) }^{L}} V(i,j,k) = V_0 M_L\n",
      "$$\n",
      "\n",
      "where $M_L$ is the approximated Madelung constant. The exact Madelung constant can be obtained by $M =\\lim_{L \\rightarrow \\infty } M_L$.\n",
      "\n",
      "Write a program to calculate and print $M_L$ for a given $L$. Use as large a value of $L$ as you can while still having your program run in reasonable time, to estimate the value of $M$. You can print a table of $L$, $M_L$ up to some $L_{max}$.\n",
      "\n",
      "Hint: the correct answer is about \u22121.748."
     ]
    },
    {
     "cell_type": "code",
     "collapsed": false,
     "input": [
      "# Problem 2\n",
      "import math\n",
      "def e(i,j,k):\n",
      "    if (i+j+k)%2==1:\n",
      "        return -1\n",
      "    else:\n",
      "        return 1\n",
      "def r(i,j,k):\n",
      "    a=math.sqrt(i**2+j**2+k**2)\n",
      "    return a\n",
      "def V(i,j,k):\n",
      "    if i==0 and j==0 and k==0:\n",
      "        return 0\n",
      "    a = e(i,j,k)/r(i,j,k)\n",
      "    return a\n",
      "i = -100.\n",
      "ans = 0.\n",
      "while i <= 100 :\n",
      "    j = -100.\n",
      "    while j <= 100 :\n",
      "        k = -100.\n",
      "        while k <= 100 :\n",
      "            ans += V(i, j, k)\n",
      "            k += 1\n",
      "        j += 1\n",
      "    i += 1\n",
      "print ans\n",
      "    "
     ],
     "language": "python",
     "metadata": {},
     "outputs": [
      {
       "output_type": "stream",
       "stream": "stdout",
       "text": [
        "-1.74181981584\n"
       ]
      }
     ],
     "prompt_number": 38
    },
    {
     "cell_type": "markdown",
     "metadata": {},
     "source": [
      "## Problem 3\n",
      "\n",
      "Write a program to find all the primes up to 10,000  by using following rules.\n",
      "\n",
      "* A number $n$ is a prime if it has no prime factors less than $n$. Hence we only need to check if it is divisible by other primes.\n",
      "\n",
      "* To determine if a number is prime we have to check its prime factors only up to and including $\\sqrt{n}$. If there are none prime-factor then the number is prime.\n",
      "\n",
      "* \ufffc\ufffcIf we find even a single prime factor less than that the number is non-prime.\n",
      "\n",
      "Hint: Create a list to store the primes, which starts out with just one prime number 2 it it. For each number from 3 to 10000 check whether the number is divisible by any of the primes in the list up to and including $\\sqrt{n}$. If you find no prime factors then n is prime and you should add it to the list."
     ]
    },
    {
     "cell_type": "code",
     "collapsed": false,
     "input": [
      "# Problem 3\n",
      "import math\n",
      "def prime(n):\n",
      "    a=2\n",
      "    while a <= math.sqrt(n) :\n",
      "        if n%a==0:\n",
      "            return False\n",
      "        else:\n",
      "            a=a+1\n",
      "    return True\n",
      "\n",
      "prime_num = [2]\n",
      "for i in range(3,1000):\n",
      "    if prime(i) == True:\n",
      "        prime_num.append(i) \n",
      "        \n",
      "print prime_num"
     ],
     "language": "python",
     "metadata": {},
     "outputs": [
      {
       "output_type": "stream",
       "stream": "stdout",
       "text": [
        "[2, 3, 5, 7, 11, 13, 17, 19, 23, 29, 31, 37, 41, 43, 47, 53, 59, 61, 67, 71, 73, 79, 83, 89, 97, 101, 103, 107, 109, 113, 127, 131, 137, 139, 149, 151, 157, 163, 167, 173, 179, 181, 191, 193, 197, 199, 211, 223, 227, 229, 233, 239, 241, 251, 257, 263, 269, 271, 277, 281, 283, 293, 307, 311, 313, 317, 331, 337, 347, 349, 353, 359, 367, 373, 379, 383, 389, 397, 401, 409, 419, 421, 431, 433, 439, 443, 449, 457, 461, 463, 467, 479, 487, 491, 499, 503, 509, 521, 523, 541, 547, 557, 563, 569, 571, 577, 587, 593, 599, 601, 607, 613, 617, 619, 631, 641, 643, 647, 653, 659, 661, 673, 677, 683, 691, 701, 709, 719, 727, 733, 739, 743, 751, 757, 761, 769, 773, 787, 797, 809, 811, 821, 823, 827, 829, 839, 853, 857, 859, 863, 877, 881, 883, 887, 907, 911, 919, 929, 937, 941, 947, 953, 967, 971, 977, 983, 991, 997]\n"
       ]
      }
     ],
     "prompt_number": 24
    },
    {
     "cell_type": "markdown",
     "metadata": {},
     "source": [
      "## Problem 4\n",
      "\n",
      "Write a function called `nested_sum` that takes a nested list of integers and add up the elements from all of the nested lists. "
     ]
    },
    {
     "cell_type": "code",
     "collapsed": false,
     "input": [
      "# Problem 4\n",
      "# Hint, you can use `isinstance` to check if a variable is a list or not\n",
      "def nested_sum(t):\n",
      "    total = 0\n",
      "    for x in t:\n",
      "        total += x\n",
      "    return total\n",
      "\n",
      "t=[1,2,5,4,6,8,7]\n",
      "nested_sum(t)\n",
      "\n",
      "#t = [4, 5, 6]\n",
      "#print add_all(t)\n",
      "#t = [1, 2, [1, 1, 1]]\n",
      "#for x in t:\n",
      "    #if isinstance(x, list):\n",
      "        #print x, 'is a list'\n",
      "   # else:\n",
      "        #print x, 'is not a list'"
     ],
     "language": "python",
     "metadata": {},
     "outputs": [
      {
       "metadata": {},
       "output_type": "pyout",
       "prompt_number": 10,
       "text": [
        "33"
       ]
      }
     ],
     "prompt_number": 10
    },
    {
     "cell_type": "markdown",
     "metadata": {},
     "source": [
      "## Problem 5\n",
      "\n",
      "Write a function that takes a list of numbers and returns the cumulative sum; that is, a **new** list where the ith element is the sum of the first i+1 elements from the original list. For example, the cumulative sum of [1, 2, 3] is [1, 3, 6]."
     ]
    },
    {
     "cell_type": "code",
     "collapsed": false,
     "input": [
      "t=[1,2,3,4,5,6,8,9]\n",
      "print "
     ],
     "language": "python",
     "metadata": {},
     "outputs": []
    },
    {
     "cell_type": "code",
     "collapsed": false,
     "input": [
      "# Problem 5\n",
      "def cumulative_sum(list1):\n",
      "    list2=[]\n",
      "    i=0\n",
      "    while i<len(list1):\n",
      "        list2.append(sum(list1[:i+1]))\n",
      "        i=i+1\n",
      "    return list2     \n",
      "\n",
      "print cumulative_sum([1, 2, 3, 4, 7])"
     ],
     "language": "python",
     "metadata": {},
     "outputs": [
      {
       "output_type": "stream",
       "stream": "stdout",
       "text": [
        "[1, 3, 6, 10, 17]\n"
       ]
      }
     ],
     "prompt_number": 42
    },
    {
     "cell_type": "markdown",
     "metadata": {},
     "source": [
      "## Problem 6\n",
      "\n",
      "Write a function called `middle` that takes a list and returns a **new** list that contains all but the first and last elements. So `middle([1,2,3,4])` should return `[2,3]`."
     ]
    },
    {
     "cell_type": "code",
     "collapsed": false,
     "input": [
      "# Problem 6\n",
      "def middle(t):\n",
      "    n = len(t)\n",
      "    new_list = t[1:n-1]\n",
      "    print new_list\n",
      "\n",
      "middle([1, 2, 3, 4, 7])    "
     ],
     "language": "python",
     "metadata": {},
     "outputs": [
      {
       "output_type": "stream",
       "stream": "stdout",
       "text": [
        "[2, 3, 4]\n"
       ]
      }
     ],
     "prompt_number": 13
    },
    {
     "cell_type": "markdown",
     "metadata": {},
     "source": [
      "## Problem 7\n",
      "\n",
      "Write a function called `chop` that takes a list, modifies it by removing the first and last elements, and returns `None`."
     ]
    },
    {
     "cell_type": "code",
     "collapsed": false,
     "input": [
      "# Problem 7\n",
      "def chop(t):\n",
      "    n = len(t)\n",
      "    t.pop(n-1)\n",
      "    t.pop(0)\n",
      "    print t\n",
      "\n",
      "chop([1, 2, 3, 4, 7])"
     ],
     "language": "python",
     "metadata": {},
     "outputs": [
      {
       "output_type": "stream",
       "stream": "stdout",
       "text": [
        "[2, 3, 4]\n"
       ]
      }
     ],
     "prompt_number": 14
    },
    {
     "cell_type": "markdown",
     "metadata": {},
     "source": [
      "## Problem 8\n",
      "\n",
      "Write a program that reads the words from the `words.txt` and then find all the words with three consecutive double letters. That is, all the words which contain a sub-string of the form `'xxyyzz'` where `x`,`y`,`z` are arbitrary letters. "
     ]
    },
    {
     "cell_type": "code",
     "collapsed": false,
     "input": [
      "# problem 8\n",
      "def f(word):\n",
      "    t = list(word+'Some_Words')\n",
      "    length = len(t)\n",
      "    y = range(0,length)\n",
      "    for x in y:\n",
      "        if t[x] == t[x+1]:\n",
      "            if t[x+2] == t[x+3]:\n",
      "                if t[x+4] == t[x+5]:\n",
      "                    return True\n",
      "        else:\n",
      "            return False\n",
      "\n",
      "files = open('words.txt')   \n",
      "\n",
      "for words in files:\n",
      "    if f(words):\n",
      "        print words"
     ],
     "language": "python",
     "metadata": {},
     "outputs": [],
     "prompt_number": 36
    },
    {
     "cell_type": "code",
     "collapsed": false,
     "input": [],
     "language": "python",
     "metadata": {},
     "outputs": []
    }
   ],
   "metadata": {}
  }
 ]
}