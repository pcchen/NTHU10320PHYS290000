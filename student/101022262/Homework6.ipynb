{
 "metadata": {
  "name": "",
  "signature": "sha256:5d6e7f456c06ef6fb8a7d56dae52332739c4efd800ee45787c39d849b7d48257"
 },
 "nbformat": 3,
 "nbformat_minor": 0,
 "worksheets": [
  {
   "cells": [
    {
     "cell_type": "markdown",
     "metadata": {},
     "source": [
      "# Homework 6"
     ]
    },
    {
     "cell_type": "markdown",
     "metadata": {},
     "source": [
      "## Problem 1\n",
      "\n",
      "Use **ivisual** module to plot the projectile motion with following equations of motion:\n",
      "\n",
      "$$\n",
      "\\begin{eqnarray*}\n",
      "  m\\ddot{x} &=& 0, \\\\\n",
      "  m\\ddot{y} &=& -mg, \\\\\n",
      "  m\\ddot{z} &=& 0,\n",
      "\\end{eqnarray*}\n",
      "$$\n",
      "and initial conditions\n",
      "\n",
      "$$\n",
      "  \\vec{r}(0) = (0, 0, 0), \\\\\n",
      "  \\vec{v}(0) = (v_{x0}, v_{y0}, 0),\n",
      "$$\n",
      "You can assign $v_{x0}$ and $v_{y0}$ in the code or ask user to input it.\n",
      "\n",
      "You should\n",
      "* Use a box to represent the ground.\n",
      "* Use three arrows to represent the three axes.\n",
      "* Use a sphere to represent the ball of the projectile motion.\n",
      "* Leave a trail.\n",
      "* Stop the simulation when the ball hit the ground.\n",
      "\n",
      "You should use to ways to calculate the trajectory of the motion.\n",
      "1. Use exact solution: $x(t)=x(0)+v_x t$, etc.\n",
      "2. Use numerical solution:\n",
      " * $v(t+dt) = v(t) + a * dt$.\n",
      " * $x(t+dt) = x(t) + v(t) * dt$.\n",
      "\n",
      "You should use a small enough $dt$ to ensure the numerical solution is accurate enough.\n"
     ]
    },
    {
     "cell_type": "code",
     "collapsed": false,
     "input": [
      "from ivisual import *\n",
      "from math import *\n",
      "scene = canvas(title = \"Projectile\")\n",
      "scene.width=800\n",
      "scene.height=600\n",
      "scene.autoscale=0\n",
      "scene.range=(100,100,100)\n",
      "scene.center=(0,0,0)                                                               #scene done\n",
      "ibox=box(pos=(0,0,0),size=(100,5,50))                                           #box done\n",
      "xaxis=arrow(pos=(70,0,0),axis=(15,0,0),shaftwidth=1,color=color.red)\n",
      "yaxis=arrow(pos=(70,0,0),axis=(0,15,0),shaftwidth=1,color=color.green)\n",
      "zaxis=arrow(pos=(70,0,0),axis=(0,0,15),shaftwidth=1,color=color.yellow)                      #axes done\n",
      "ball=sphere(radius=3,color=color.orange)                                      #sphere done\n",
      "trail=curve(color=color.blue)\n",
      "'''    initial condition '''\n",
      "y0=50\n",
      "x0=-10\n",
      "ball.y=y0\n",
      "ball.x=x0\n",
      "v_x=6\n",
      "v_y=30\n",
      "ground_time = (v_y+sqrt(v_y**2+2*9.8*y0))/9.8\n",
      "\n",
      "'''for t in range(100):\n",
      "    rate(10)\n",
      "    trail.append(pos=ball.pos)\n",
      "    x_new=x0+v_x*t\n",
      "    y_extra=v_y*t+0.5*(-9.8)*t**2\n",
      "    y_new=y0+y_extra\n",
      "    if y_new <= 0:\n",
      "        ball.y =0\n",
      "        ball.x=x0+v_x*ground_time\n",
      "        break\n",
      "    ball.x = x_new\n",
      "    ball.y = y_new    '''                                    #projectile done\n",
      "\n",
      "#------------numerical solution\n",
      "\n",
      "x=x0\n",
      "y=y0\n",
      "dt=0.01                       # accuracy of dt\n",
      "while ball.y >0:\n",
      "    rate(100)\n",
      "    trail.append(pos=ball.pos)\n",
      "    x=x+v_x*dt\n",
      "    ball.x=x\n",
      "    v_y=v_y+(-9.8)*dt\n",
      "    y=y+v_y*dt\n",
      "    if y<=0 :\n",
      "        ball.y=0\n",
      "        ball.x=x0+v_x*ground_time\n",
      "        break\n",
      "    ball.x=x\n",
      "    ball.y=y                                                    #numerical done\n",
      "    \n",
      "#done"
     ],
     "language": "python",
     "metadata": {},
     "outputs": [
      {
       "html": [
        "<div id=\"scene0\"><div id=\"glowscript\" class=\"glowscript\"></div></div>"
       ],
       "metadata": {},
       "output_type": "display_data",
       "text": [
        "<IPython.core.display.HTML at 0x29ac198>"
       ]
      },
      {
       "javascript": [
        "require.undef(\"nbextensions/glow.1.0.min\");"
       ],
       "metadata": {},
       "output_type": "display_data",
       "text": [
        "<IPython.core.display.Javascript at 0x29aceb8>"
       ]
      },
      {
       "javascript": [
        "require.undef(\"nbextensions/jquery-ui.custom.min\");"
       ],
       "metadata": {},
       "output_type": "display_data",
       "text": [
        "<IPython.core.display.Javascript at 0x29acef0>"
       ]
      },
      {
       "javascript": [
        "require.undef(\"nbextensions/glow.1.1.min\");"
       ],
       "metadata": {},
       "output_type": "display_data",
       "text": [
        "<IPython.core.display.Javascript at 0x29acf28>"
       ]
      },
      {
       "javascript": [
        "require.undef(\"nbextensions/glowcomm\");"
       ],
       "metadata": {},
       "output_type": "display_data",
       "text": [
        "<IPython.core.display.Javascript at 0x49660f0>"
       ]
      },
      {
       "javascript": [
        "require([\"nbextensions/glowcomm\"], function(){console.log(\"glowcomm loaded\");})"
       ],
       "metadata": {},
       "output_type": "display_data",
       "text": [
        "<IPython.core.display.Javascript at 0x4966128>"
       ]
      }
     ],
     "prompt_number": 1
    },
    {
     "cell_type": "markdown",
     "metadata": {},
     "source": [
      "## Problem 2\n",
      "\n",
      "Now introduce the air resistence so the equations of motion become:\n",
      "\n",
      "$$\n",
      "\\begin{eqnarray*}\n",
      "  m\\ddot{x} &=& -km\\dot{x}, \\\\\n",
      "  m\\ddot{y} &=& -km\\dot{y}-mg, \\\\\n",
      "  m\\ddot{z} &=& 0,\n",
      "\\end{eqnarray*}\n",
      "$$\n",
      "and initial conditions\n",
      "\n",
      "$$\n",
      "  \\vec{r}(0) = (0, 0, 0), \\\\\n",
      "  \\vec{v}(0) = (v_{x0}, v_{y0}, 0),\n",
      "$$\n",
      "You can assign $v_{x0}$ and $v_{y0}$ in the code or ask user to input it.\n",
      "\n",
      "You should\n",
      "* Use a box to represent the ground.\n",
      "* Use three arrows to represent the three axes.\n",
      "* Use a sphere to represent the ball of the projectile motion.\n",
      "* Leave a trail.\n",
      "* Stop the simulation when the ball hit the ground.\n",
      "\n",
      "\n",
      "You should use to ways to calculate the trajectory of the motion.\n",
      "1. Use exact solution: (Check for example Marion's book).\n",
      "2. Use numerical solution:\n",
      " * $v(t+dt) = v(t) + a * dt$.\n",
      " * $x(t+dt) = x(t) + v(t) * dt$.\n",
      "\n",
      "You should use a small enough $dt$ to ensure the numerical solution is accurate enough.\n"
     ]
    },
    {
     "cell_type": "code",
     "collapsed": false,
     "input": [
      "from ivisual import *\n",
      "from math import *\n",
      "scene = canvas(title = \"Projectile\")\n",
      "scene.width=800\n",
      "scene.height=600\n",
      "scene.autoscale=0\n",
      "scene.range=(100,100,100)\n",
      "scene.center=(0,0,0)                                                               #scene done\n",
      "ibox=box(pos=(0,0,0),size=(100,5,50))                                           #box done\n",
      "xaxis=arrow(pos=(70,0,0),axis=(15,0,0),shaftwidth=1,color=color.red)\n",
      "yaxis=arrow(pos=(70,0,0),axis=(0,15,0),shaftwidth=1,color=color.green)\n",
      "zaxis=arrow(pos=(70,0,0),axis=(0,0,15),shaftwidth=1,color=color.yellow)                      #axes done\n",
      "ball=sphere(radius=3,color=color.orange)                                      #sphere done\n",
      "trail=curve(color=color.blue)\n",
      "'''    initial condition '''\n",
      "y0=50\n",
      "x0=-10\n",
      "ball.y=y0\n",
      "ball.x=x0\n",
      "v_x=6\n",
      "v_y=30\n",
      "ground_time = (v_y+sqrt(v_y**2+2*9.8*y0))/9.8\n",
      "\n",
      "'''for t in range(100):\n",
      "    rate(10)\n",
      "    trail.append(pos=ball.pos)\n",
      "    x_new=x0+v_x*t\n",
      "    y_extra=v_y*t+0.5*(-9.8)*t**2\n",
      "    y_new=y0+y_extra\n",
      "    if y_new <= 0:\n",
      "        ball.y =0\n",
      "        ball.x=x0+v_x*ground_time\n",
      "        break\n",
      "    ball.x = x_new\n",
      "    ball.y = y_new    '''                                    #projectile done\n",
      "\n",
      "#------------numerical solution\n",
      "\n",
      "x=x0\n",
      "y=y0\n",
      "dt=0.01                       # accuracy of dt\n",
      "while ball.y >0:\n",
      "    rate(100)\n",
      "    trail.append(pos=ball.pos)\n",
      "    x=x+v_x*dt\n",
      "    ball.x=x\n",
      "    v_y=v_y+(-9.8)*dt\n",
      "    y=y+v_y*dt\n",
      "    if y<=0 :\n",
      "        ball.y=0\n",
      "        ball.x=x0+v_x*ground_time\n",
      "        break\n",
      "    ball.x=x\n",
      "    ball.y=y                                                    #numerical done\n",
      "    \n",
      "#done"
     ],
     "language": "python",
     "metadata": {},
     "outputs": []
    },
    {
     "cell_type": "markdown",
     "metadata": {},
     "source": [
      "## Problem 3\n",
      "\n",
      "Use **ivisual** module to plot the trajectory of a coupled spring-mass system that has two masses, three springs, two walls.\n",
      "\n",
      "Something like Wall-spring1-mass1-spring2-mass2-spring3-Wall.\n",
      "\n",
      "You should\n",
      "* Use a box to represent the ground.\n",
      "* Use two boxes to represent the walls.\n",
      "* Use two **cubic** boxes to represent the two masses.\n",
      "* Use helix to represent the two srpings.\n"
     ]
    },
    {
     "cell_type": "code",
     "collapsed": false,
     "input": [
      "from ivisual import *\n",
      "from math import *\n",
      "scene = canvas(title = \"3 srpings 2 masses\")\n",
      "scene.width=800\n",
      "scene.height=600\n",
      "scene.autoscale=0\n",
      "scene.range=(100,100,100)\n",
      "scene.center=(0,0,0)                                                               #scene done\n",
      "ground=box(pos=(0,0,0),size=(100,2,50))                                           #ground done\n",
      "wall1=box(pos=(-50,7,0),size=(1,12,50))                                         #wall 1 done\n",
      "wall2=box(pos=(50,7,0),size=(1,12,50))                                         #wall 1 done\n",
      "mass1=box(pos=(-30,3,0),size=(4,4,4),color=color.green)                        #cubic 1 done\n",
      "mass2=box(pos=(30,3,0),size=(4,4,4),color=color.green)                        #cubic 1 done\n",
      "\n",
      "xaxis=arrow(pos=(70,0,0),axis=(15,0,0),shaftwidth=1,color=color.red)\n",
      "yaxis=arrow(pos=(70,0,0),axis=(0,15,0),shaftwidth=1,color=color.green)\n",
      "zaxis=arrow(pos=(70,0,0),axis=(0,0,15),shaftwidth=1,color=color.yellow)                      #axes done\n",
      "#ball=sphere(radius=3,color=color.orange)                                      #sphere done\n",
      "trail=curve(color=color.blue)\n",
      "\n",
      "spring1 = helix(pos=(-50,3,0), axis=(20,0,0), radius=2, color=color.red)     #spring1 done\n",
      "spring2 = helix(pos=(-30,3,0), axis=(60,0,0), radius=2, color=color.red)     #spring2 done\n",
      "spring3 = helix(pos=(50,3,0), axis=(-20,0,0), radius=2, color=color.red)     #spring3 done\n",
      "\n",
      "\n"
     ],
     "language": "python",
     "metadata": {},
     "outputs": [
      {
       "html": [
        "<div id=\"scene43\"><div id=\"glowscript\" class=\"glowscript\"></div></div>"
       ],
       "metadata": {},
       "output_type": "display_data",
       "text": [
        "<IPython.core.display.HTML at 0x4bb54a8>"
       ]
      },
      {
       "javascript": [
        "window.__context = { glowscript_container: $(\"#glowscript\").removeAttr(\"id\")}"
       ],
       "metadata": {},
       "output_type": "display_data",
       "text": [
        "<IPython.core.display.Javascript at 0x4bb57f0>"
       ]
      }
     ],
     "prompt_number": 46
    },
    {
     "cell_type": "markdown",
     "metadata": {},
     "source": [
      "# Problem 4\n",
      "\n",
      "Use **ivisual** module to plot the trajectories of 20 particles in a rectangle box.\n",
      "\n",
      "* The rectangle box has the dimension $L_x$, $L_y$, $L_z$.\n",
      "* Use boxes to represent the walls. Keep one wall **invisible**.\n",
      "* The 20 particles should have **random** initial velocity.\n",
      "* The 20 particles should leave a trail.\n",
      "* Make each particle has random RGB color."
     ]
    },
    {
     "cell_type": "code",
     "collapsed": false,
     "input": [
      "from ivisual import *\n",
      "from math import *\n",
      "from random import random\n",
      "scene = canvas(title = \"Projectile\")\n",
      "scene.width=800\n",
      "scene.height=600\n",
      "scene.autoscale=0\n",
      "scene.range=(100,100,100)\n",
      "scene.center=(0,0,0)                                                               #scene done\n",
      "Lx=20\n",
      "Ly=12\n",
      "Lz=8\n",
      "wallR = box(pos=(+10,0,0), size=(0.2,Ly,Lz), color=color.green)\n",
      "wallL = box(pos=(-10,0,0), size=(0.2,Ly,Lz), color=color.green)\n",
      "wallU = box(pos=(0,+6,0), size=(Lx,0.2,Lz), color=color.blue)\n",
      "wallD = box(pos=(0,-6,0), size=(Lx,0.2,Lz), color=color.blue)\n",
      "wallB = box(pos=(0,0,-4), size=(Lx,Ly,0.2), color=color.red)                    #rectangle done\n",
      "#------------------------------------------\n",
      "blist=[]\n",
      "for i in range(20):\n",
      "    ball = sphere(pos=(-5,-5,0), radius=0.5, color=color.cyan)\n",
      "    rvx=random()*100\n",
      "    rvy=random()*100\n",
      "    rvz=random()*100\n",
      "    ball.velocity = vector(rvx,rvy,rvz)\n",
      "    vscale = 0.1\n",
      "    varr = arrow(pos=ball.pos, axis=vscale*ball.velocity, color=color.yellow)\n",
      "    \n",
      "    ball.trail = curve(color=ball.color)\n",
      "    blist.append(ball)\n",
      "#--------------------------------------------\n",
      "deltat = 0.005\n",
      "t=0\n",
      "\n",
      "while t < 10:\n",
      "    rate(50)\n",
      "    for ball in blist:\n",
      "        if ball.pos.x > wallR.pos.x:\n",
      "             ball.velocity.x = -ball.velocity.x\n",
      "        if ball.pos.x < wallL.pos.x:\n",
      "             ball.velocity.x = -ball.velocity.x\n",
      "        if ball.pos.y > wallU.pos.y:\n",
      "             ball.velocity.y = -ball.velocity.y\n",
      "        if ball.pos.y < wallD.pos.y:\n",
      "             ball.velocity.y = -ball.velocity.y\n",
      "        if ball.pos.z < wallB.pos.z:\n",
      "            ball.velocity.z = -ball.velocity.z\n",
      "        if ball.pos.z > +6:\n",
      "            ball.velocity.z = -ball.velocity.z\n",
      "    \n",
      "        ball.pos = ball.pos + ball.velocity*deltat\n",
      "        varr.pos = ball.pos\n",
      "        varr.axis = vscale*ball.velocity\n",
      "        ball.trail.append(pos=ball.pos)\n",
      "    \n",
      "    t = t + deltat"
     ],
     "language": "python",
     "metadata": {},
     "outputs": [
      {
       "html": [
        "<div id=\"scene0\"><div id=\"glowscript\" class=\"glowscript\"></div></div>"
       ],
       "metadata": {},
       "output_type": "display_data",
       "text": [
        "<IPython.core.display.HTML at 0x292fcc0>"
       ]
      },
      {
       "javascript": [
        "require.undef(\"nbextensions/glow.1.0.min\");"
       ],
       "metadata": {},
       "output_type": "display_data",
       "text": [
        "<IPython.core.display.Javascript at 0x293da20>"
       ]
      },
      {
       "javascript": [
        "require.undef(\"nbextensions/jquery-ui.custom.min\");"
       ],
       "metadata": {},
       "output_type": "display_data",
       "text": [
        "<IPython.core.display.Javascript at 0x293da58>"
       ]
      },
      {
       "javascript": [
        "require.undef(\"nbextensions/glow.1.1.min\");"
       ],
       "metadata": {},
       "output_type": "display_data",
       "text": [
        "<IPython.core.display.Javascript at 0x293dba8>"
       ]
      },
      {
       "javascript": [
        "require.undef(\"nbextensions/glowcomm\");"
       ],
       "metadata": {},
       "output_type": "display_data",
       "text": [
        "<IPython.core.display.Javascript at 0x293dc18>"
       ]
      },
      {
       "javascript": [
        "require([\"nbextensions/glowcomm\"], function(){console.log(\"glowcomm loaded\");})"
       ],
       "metadata": {},
       "output_type": "display_data",
       "text": [
        "<IPython.core.display.Javascript at 0x293dc50>"
       ]
      }
     ]
    },
    {
     "cell_type": "code",
     "collapsed": false,
     "input": [],
     "language": "python",
     "metadata": {},
     "outputs": []
    }
   ],
   "metadata": {}
  }
 ]
}