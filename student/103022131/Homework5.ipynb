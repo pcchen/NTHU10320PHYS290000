{
 "metadata": {
  "name": "",
  "signature": "sha256:aa11c6065bc97bb31c6fb06df301fb14da780912b8f6dae980495932a05512ab"
 },
 "nbformat": 3,
 "nbformat_minor": 0,
 "worksheets": [
  {
   "cells": [
    {
     "cell_type": "markdown",
     "metadata": {},
     "source": [
      "# Homework 5"
     ]
    },
    {
     "cell_type": "markdown",
     "metadata": {},
     "source": [
      "## Problem 1\n",
      "\n",
      "Consider the damped oscillation\n",
      "$$\n",
      "  m \\ddot{x} + b \\dot{x} + k x =0,\n",
      "$$\n",
      "which can be rewritten as \n",
      "$$\n",
      "  \\ddot{x} + 2\\beta\\dot{x} + \\omega^2_0 x =0,\n",
      "$$\n",
      "where $\\beta=b/2m$ is the **damping parameter** and $\\omega_0=\\sqrt{k/m}$ is the characteristic angular frequency in the absence of damping. \n",
      "\n",
      "### Underdamping\n",
      "When $\\omega^2_0  > \\beta^2$ the system has underdamping oscillation. Define\n",
      "$$\n",
      "  \\omega_1 = \\sqrt{\\omega_0^2 -\\beta^2}.\n",
      "$$\n",
      "The general solution can be written as \n",
      "$$\n",
      "  x(t) = A \\exp(-\\beta t) \\cos(\\omega_1 t - \\delta).\n",
      "$$\n",
      "\n",
      "### Overdsamping\n",
      "When $\\omega^2_0  < \\beta^2$ the system has underdamping oscillation. Define\n",
      "$$\n",
      "  \\omega_2 = \\sqrt{\\beta^2 - \\omega_0^2}.\n",
      "$$\n",
      "The general solution can be written as\n",
      "$$\n",
      "  x(t) = A \\exp(-\\beta t) \\left[ A_1 \\exp(\\omega_2 t) + A_2 \\exp(-\\omega_2 t) \\right].\n",
      "$$\n",
      "\n",
      "For a given set of $m$, $b$, $k$, and \n",
      "* $A$, $\\delta$ (for underdamping)\n",
      "* $A_1$, $A_2$ (for overdamping)\n",
      "\n",
      "Do the following:\n",
      "* Plot $x(t)$.\n",
      "* Plot $E(t)= \\frac{1}{2} k x^2(t) + \\frac{1}{2} m \\dot{x}^2(t)$.\n",
      "* Plot the $\\dot{x}(t)$ v.s. $x(t)$."
     ]
    },
    {
     "cell_type": "code",
     "collapsed": false,
     "input": [
      "def dif_equ(t):\n",
      "    m=1\n",
      "    b=0.2\n",
      "    k=1\n",
      "    A=1\n",
      "    delta=1\n",
      "    A_1=1\n",
      "    A_2=1\n",
      "    w_0=(k/m)**0.5\n",
      "    beta=b/(2*m)\n",
      "    if w_0**2 > beta**2:\n",
      "        w_1=(w_0**2-beta**2)**0.5\n",
      "        return A*exp(-beta*t)*cos(w_1*t-delta)\n",
      "    if w_0**2 < beta**2:\n",
      "        w_2=(beta**2-w_0**2)**0.5\n",
      "        return A*exp(-beta*t)*(A_1*exp(w_2*t)+A_2*exp(-w_2*t))\n",
      "#x(t)\n",
      "t=arange(0,20,0.1)\n",
      "plot(t,dif_equ(t) )\n",
      "xlabel('t')\n",
      "ylabel('x')\n",
      "show()\n",
      "\n",
      "\n",
      "#E(t)=12kx2(t)+12mx\u02d92(t).\n",
      "def diff_equ(t):\n",
      "    x=dif_equ(t)\n",
      "    m=1\n",
      "    b=0.2\n",
      "    k=1\n",
      "    A=1\n",
      "    delta=1\n",
      "    A_1=1\n",
      "    A_2=1\n",
      "    w_0=(k/m)**0.5\n",
      "    beta=b/(2*m)\n",
      "    if w_0**2 > beta**2:\n",
      "        w_1=(w_0**2-beta**2)**0.5\n",
      "        y= A*exp((-beta/(2*m))*t)*((-beta/(2*m))*cos(w_1*t-delta)-w_1*sin(w_1*t-delta))\n",
      "    if w_0**2 < beta**2:\n",
      "        w_2=(beta**2-w_0**2)**0.5\n",
      "        y=A*exp((-beta/(2*m))*t)*((-beta/(2*m))*(A_1*exp(w_2*t)+A_2*exp(-w_2*t))+w_2*(A1*exp(w_2*t)+A_2*exp(-w_2*t)))\n",
      "    return 0.5*k*x*x+0.5*m*y*y\n",
      "\n",
      "\n",
      "t=arange(0,15,0.1)\n",
      "plot(t,diff_equ(t) )\n",
      "xlabel('t')\n",
      "ylabel('x')\n",
      "show()\n",
      "\n",
      "#Plot the x\u02d9(t) v.s. x(t).\n",
      "t=arange(0,15,0.1)\n",
      "plot(t,diff_equ(t),t,dif_equ(t) )\n",
      "xlabel('t')\n",
      "ylabel('x')\n",
      "show()"
     ],
     "language": "python",
     "metadata": {},
     "outputs": [
      {
       "metadata": {},
       "output_type": "display_data",
       "png": "[encoded data removed]",
       "text": [
        "<matplotlib.figure.Figure at 0x73cb3f0>"
       ]
      },
      {
       "metadata": {},
       "output_type": "display_data",
       "png": "[encoded data removed]",
       "text": [
        "<matplotlib.figure.Figure at 0x748c410>"
       ]
      },
      {
       "metadata": {},
       "output_type": "display_data",
       "png": "[encoded data removed]",
       "text": [
        "<matplotlib.figure.Figure at 0x789fd90>"
       ]
      }
     ],
     "prompt_number": 13
    },
    {
     "cell_type": "markdown",
     "metadata": {},
     "source": [
      "## Problem 2\n",
      "\n",
      "Consider the driven oscillation\n",
      "$$\n",
      "  \\ddot{x} + 2\\beta\\dot{x} + \\omega^2_0 x = A\\cos(\\omega t).\n",
      "$$\n",
      "\n",
      "The amplitude $D$ of the oscillation has the form\n",
      "$$\n",
      "  D = \\frac{A}{\\sqrt{(\\omega_0^2-\\omega^2)^2+4\\omega^2 \\beta^2}},\n",
      "$$\n",
      "and the phase angle $\\delta$ has the form\n",
      "$$\n",
      "  \\delta = \\tan^{-1}\\left( \\frac{2\\omega \\beta }{\\omega^2_0-\\omega^2} \\right), \\;\n",
      "  0 \\le \\delta \\le \\pi.\n",
      "$$\n",
      "\n",
      "For a given set of $\\beta$, $\\omega_0$ and $\\omega$:\n",
      "* Plot amplitude $D$ as a function of $\\omega$.\n",
      "* Plot phase angle $\\delta$ as a function of $\\omega$.\n",
      "* Use IPython Interact to let the user changes the values of $\\beta$ and $\\omega_0$."
     ]
    },
    {
     "cell_type": "code",
     "collapsed": false,
     "input": [
      "# Problem 2\n",
      "%pylab inline\n",
      "#1\n",
      "w0=5\n",
      "B=3\n",
      "w = arange(-30, 30, 0.1)\n",
      "D = 1/((5**2-w**2)**2+4*(w**2)*(3**2))**0.5\n",
      "plot(w,D)\n",
      "\n",
      "\n"
     ],
     "language": "python",
     "metadata": {},
     "outputs": [
      {
       "output_type": "stream",
       "stream": "stdout",
       "text": [
        "Populating the interactive namespace from numpy and matplotlib\n"
       ]
      },
      {
       "metadata": {},
       "output_type": "pyout",
       "prompt_number": 22,
       "text": [
        "[<matplotlib.lines.Line2D at 0x73a9e30>]"
       ]
      },
      {
       "metadata": {},
       "output_type": "display_data",
       "png": "[encoded data removed]",
       "text": [
        "<matplotlib.figure.Figure at 0x78c7e50>"
       ]
      }
     ],
     "prompt_number": 22
    },
    {
     "cell_type": "code",
     "collapsed": false,
     "input": [
      "#2\n",
      "%pylab inline\n",
      "w0=5\n",
      "B=3\n",
      "w = arange(0, 10, 0.1)\n",
      "d = arctan(2*w*3/(w0**2-w**2))\n",
      "plot(w,d)"
     ],
     "language": "python",
     "metadata": {},
     "outputs": [
      {
       "output_type": "stream",
       "stream": "stdout",
       "text": [
        "Populating the interactive namespace from numpy and matplotlib\n"
       ]
      },
      {
       "metadata": {},
       "output_type": "pyout",
       "prompt_number": 21,
       "text": [
        "[<matplotlib.lines.Line2D at 0x77bfa90>]"
       ]
      },
      {
       "metadata": {},
       "output_type": "display_data",
       "png": "[encoded data removed]",
       "text": [
        "<matplotlib.figure.Figure at 0x76701d0>"
       ]
      }
     ],
     "prompt_number": 21
    },
    {
     "cell_type": "code",
     "collapsed": false,
     "input": [
      "from IPython.html.widgets import interact\n",
      "def draw(B,w0): \n",
      "    x = linspace(0, 10, 300)\n",
      "    plot(x, A/(sqrt((w0**2-x**2)**2+4*(x**2)*(B**2))))  #D(w)\n",
      "interact(draw, B=(-10.,10.), w0=(0., 10.))\n"
     ],
     "language": "python",
     "metadata": {},
     "outputs": [
      {
       "metadata": {},
       "output_type": "pyout",
       "prompt_number": 19,
       "text": [
        "<function __main__.draw>"
       ]
      },
      {
       "metadata": {},
       "output_type": "display_data",
       "png": "[encoded data removed]",
       "text": [
        "<matplotlib.figure.Figure at 0x77bfe50>"
       ]
      }
     ],
     "prompt_number": 19
    },
    {
     "cell_type": "markdown",
     "metadata": {},
     "source": [
      "## Problem 3\n",
      "\n",
      "Write a definition for a class named `Kangaroo` with the following methods:\n",
      "\n",
      "* An `__init__` method that initializes an attribute named `pouch_contents` to an empty list.\n",
      "* A method named `put_in_pouch` that takes an object of any type and adds it to `pouch_contents`.\n",
      "* A `__str__` method that returns a string representation of the Kangaroo object and the contents of the pouch.\n",
      "\n",
      "Test your code by creating two Kangaroo objects, assigning them to variables named `kanga` and `roo`, and then adding `roo` to the contents of `kanga`\u2019s pouch"
     ]
    },
    {
     "cell_type": "code",
     "collapsed": false,
     "input": [
      "# Problme 3\n",
      "class Kangaroo(object):\n",
      "    '''attribute : pouch_contents'''\n",
      "\n",
      "def __init__ (d):\n",
      "    d.pouch_contents=[]\n",
      "def put_in_pouch(d,obj):\n",
      "    d.pouch_contents.appebd(obj)\n",
      "def __str__(d):\n",
      "    e=Kangaroo\n",
      "    e.pouch_contents=d.pouch_contents\n",
      "    return '%.2d' % (e.pouch_contents)\n",
      "\n",
      "j=Kangaroo  \n",
      "i=Kangaroo\n",
      "i.pouch_contents=333\n",
      "roo=i\n",
      "kanga=j\n",
      "kanga.pouch_contents=roo.pouch_contents\n",
      "print __str__(kanga)"
     ],
     "language": "python",
     "metadata": {},
     "outputs": [
      {
       "output_type": "stream",
       "stream": "stdout",
       "text": [
        "333\n"
       ]
      }
     ],
     "prompt_number": 18
    },
    {
     "cell_type": "markdown",
     "metadata": {},
     "source": [
      "## Problem 4\n",
      "\n",
      "Write a `__cmp__` method for `Time` objects. "
     ]
    },
    {
     "cell_type": "code",
     "collapsed": false,
     "input": [
      "# Problem 4\n",
      "#print t1 > t2\n",
      "def __cmp__(T1,T2):\n",
      "    \n",
      "    def time_to_int(self):\n",
      "        minutes = self.hour * 60 + self.minute\n",
      "        seconds = minutes * 60 + self.second\n",
      "        return seconds\n",
      "    if time_to_int(T1)> time_to_int(T2):\n",
      "        return 1\n",
      "    if time_to_int(T1)< time_to_int(T2):\n",
      "        return -1\n",
      "    return 0"
     ],
     "language": "python",
     "metadata": {},
     "outputs": [],
     "prompt_number": 11
    },
    {
     "cell_type": "markdown",
     "metadata": {},
     "source": [
      "## Problem 5\n",
      "\n",
      "Write a `Deck` method named `sort` that uses the list method `sort` to sort the cards in a `Deck`. `sort` uses the `__cmp__` method we defined to determine sort order."
     ]
    },
    {
     "cell_type": "code",
     "collapsed": false,
     "input": [
      "# Problem 5"
     ],
     "language": "python",
     "metadata": {},
     "outputs": [],
     "prompt_number": 5
    },
    {
     "cell_type": "markdown",
     "metadata": {},
     "source": [
      "## Problem 6\n",
      "\n",
      "The following are the possible hands in poker, in increasing order of value (and decreasing order of probability):\n",
      "\n",
      "**pair:**\n",
      "two cards with the same rank\n",
      "\n",
      "**two pair:**\n",
      "two pairs of cards with the same rank\n",
      "\n",
      "**three of a kind:**\n",
      "three cards with the same rank\n",
      "\n",
      "**straight:**\n",
      "five cards with ranks in sequence (aces can be high or low, so Ace-2-3-4-5 is a straight and so is 10-Jack-Queen-King-Ace, but Queen-King-Ace-2-3 is not.)\n",
      "\n",
      "**flush:**\n",
      "five cards with the same suit\n",
      "\n",
      "**full house:**\n",
      "three cards with one rank, two cards with another\n",
      "\n",
      "**four of a kind:**\n",
      "four cards with the same rank\n",
      "\n",
      "**straight flush:**\n",
      "five cards in sequence (as defined above) and with the same suit\n",
      "\n",
      "**Modify** the following codes.\n",
      "\n",
      "Add methods to `PokerHand` class named `has_pair`, `has_twopair`, etc. that return `True` or `False` according to whether or not the hand meets the relevant criteria. Your code should work correctly for \u201chands\u201d that contain any number of cards (although 5 and 7 are the most common sizes)"
     ]
    },
    {
     "cell_type": "code",
     "collapsed": false,
     "input": [
      "import random\n",
      "\n",
      "\n",
      "class Card(object):\n",
      "    \"\"\"Represents a standard playing card.\n",
      "    \n",
      "    Attributes:\n",
      "      suit: integer 0-3\n",
      "      rank: integer 1-13\n",
      "    \"\"\"\n",
      "\n",
      "    suit_names = [\"Clubs\", \"Diamonds\", \"Hearts\", \"Spades\"]\n",
      "    rank_names = [None, \"Ace\", \"2\", \"3\", \"4\", \"5\", \"6\", \"7\", \n",
      "              \"8\", \"9\", \"10\", \"Jack\", \"Queen\", \"King\"]\n",
      "\n",
      "    def __init__(self, suit=0, rank=2):\n",
      "        self.suit = suit\n",
      "        self.rank = rank\n",
      "\n",
      "    def __str__(self):\n",
      "        \"\"\"Returns a human-readable string representation.\"\"\"\n",
      "        return '%s of %s' % (Card.rank_names[self.rank],\n",
      "                             Card.suit_names[self.suit])\n",
      "\n",
      "    def __cmp__(self, other):\n",
      "        \"\"\"Compares this card to other, first by suit, then rank.\n",
      "\n",
      "        Returns a positive number if this > other; negative if other > this;\n",
      "        and 0 if they are equivalent.\n",
      "        \"\"\"\n",
      "        t1 = self.suit, self.rank\n",
      "        t2 = other.suit, other.rank\n",
      "        return cmp(t1, t2)\n",
      "\n",
      "\n",
      "class Deck(object):\n",
      "    \"\"\"Represents a deck of cards.\n",
      "\n",
      "    Attributes:\n",
      "      cards: list of Card objects.\n",
      "    \"\"\"\n",
      "    \n",
      "    def __init__(self):\n",
      "        self.cards = []\n",
      "        for suit in range(4):\n",
      "            for rank in range(1, 14):\n",
      "                card = Card(suit, rank)\n",
      "                self.cards.append(card)\n",
      "\n",
      "    def __str__(self):\n",
      "        res = []\n",
      "        for card in self.cards:\n",
      "            res.append(str(card))\n",
      "        return '\\n'.join(res)\n",
      "\n",
      "    def add_card(self, card):\n",
      "        \"\"\"Adds a card to the deck.\"\"\"\n",
      "        self.cards.append(card)\n",
      "\n",
      "    def remove_card(self, card):\n",
      "        \"\"\"Removes a card from the deck.\"\"\"\n",
      "        self.cards.remove(card)\n",
      "\n",
      "    def pop_card(self, i=-1):\n",
      "        \"\"\"Removes and returns a card from the deck.\n",
      "\n",
      "        i: index of the card to pop; by default, pops the last card.\n",
      "        \"\"\"\n",
      "        return self.cards.pop(i)\n",
      "\n",
      "    def shuffle(self):\n",
      "        \"\"\"Shuffles the cards in this deck.\"\"\"\n",
      "        random.shuffle(self.cards)\n",
      "\n",
      "    def sort(self):\n",
      "        \"\"\"Sorts the cards in ascending order.\"\"\"\n",
      "        self.cards.sort()\n",
      "\n",
      "    def move_cards(self, hand, num):\n",
      "        \"\"\"Moves the given number of cards from the deck into the Hand.\n",
      "\n",
      "        hand: destination Hand object\n",
      "        num: integer number of cards to move\n",
      "        \"\"\"\n",
      "        for i in range(num):\n",
      "            hand.add_card(self.pop_card())\n",
      "\n",
      "\n",
      "class Hand(Deck):\n",
      "    \"\"\"Represents a hand of playing cards.\"\"\"\n",
      "    \n",
      "    def __init__(self, label=''):\n",
      "        self.cards = []\n",
      "        self.label = label\n",
      "        \n",
      "class PokerHand(Hand):\n",
      "\n",
      "    def suit_hist(self):\n",
      "        \"\"\"Builds a histogram of the suits that appear in the hand.\n",
      "\n",
      "        Stores the result in attribute suits.\n",
      "        \"\"\"\n",
      "        self.suits = {}\n",
      "        for card in self.cards:\n",
      "            self.suits[card.suit] = self.suits.get(card.suit, 0) + 1\n",
      "\n",
      "    def has_flush(self):\n",
      "        \"\"\"Returns True if the hand has a flush, False otherwise.\n",
      "      \n",
      "        Note that this works correctly for hands with more than 5 cards.\n",
      "        \"\"\"\n",
      "        self.suit_hist()\n",
      "        for val in self.suits.values():\n",
      "            if val >= 5:\n",
      "                return True\n",
      "        return False"
     ],
     "language": "python",
     "metadata": {},
     "outputs": [],
     "prompt_number": 6
    },
    {
     "cell_type": "code",
     "collapsed": false,
     "input": [
      "# Problem 6"
     ],
     "language": "python",
     "metadata": {},
     "outputs": [],
     "prompt_number": 7
    }
   ],
   "metadata": {}
  }
 ]
}