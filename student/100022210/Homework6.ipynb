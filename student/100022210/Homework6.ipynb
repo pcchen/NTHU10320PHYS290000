{
 "metadata": {
  "name": "",
  "signature": "sha256:8074b2d453e180ffc4771fefaa6411ba67dce84533757965e4509ba78520358a"
 },
 "nbformat": 3,
 "nbformat_minor": 0,
 "worksheets": [
  {
   "cells": [
    {
     "cell_type": "markdown",
     "metadata": {},
     "source": [
      "# Homework 6"
     ]
    },
    {
     "cell_type": "markdown",
     "metadata": {},
     "source": [
      "## Problem 1\n",
      "\n",
      "Use **ivisual** module to plot the projectile motion with following equations of motion:\n",
      "\n",
      "$$\n",
      "\\begin{eqnarray*}\n",
      "  m\\ddot{x} &=& 0, \\\\\n",
      "  m\\ddot{y} &=& -mg, \\\\\n",
      "  m\\ddot{z} &=& 0,\n",
      "\\end{eqnarray*}\n",
      "$$\n",
      "and initial conditions\n",
      "\n",
      "$$\n",
      "  \\vec{r}(0) = (0, 0, 0), \\\\\n",
      "  \\vec{v}(0) = (v_{x0}, v_{y0}, 0),\n",
      "$$\n",
      "You can assign $v_{x0}$ and $v_{y0}$ in the code or ask user to input it.\n",
      "\n",
      "You should\n",
      "* Use a box to represent the ground.\n",
      "* Use three arrows to represent the three axes.\n",
      "* Use a sphere to represent the ball of the projectile motion.\n",
      "* Leave a trail.\n",
      "* Stop the simulation when the ball hit the ground.\n",
      "\n",
      "You should use to ways to calculate the trajectory of the motion.\n",
      "1. Use exact solution: $x(t)=x(0)+v_x t$, etc.\n",
      "2. Use numerical solution:\n",
      " * $v(t+dt) = v(t) + a * dt$.\n",
      " * $x(t+dt) = x(t) + v(t) * dt$.\n",
      "\n",
      "You should use a small enough $dt$ to ensure the numerical solution is accurate enough.\n"
     ]
    },
    {
     "cell_type": "code",
     "collapsed": false,
     "input": [
      "# Problem 1\n",
      "from ivisual import *"
     ],
     "language": "python",
     "metadata": {},
     "outputs": [
      {
       "html": [
        "<div id=\"scene0\"><div id=\"glowscript\" class=\"glowscript\"></div></div>"
       ],
       "metadata": {},
       "output_type": "display_data",
       "text": [
        "<IPython.core.display.HTML at 0x24ac5c0>"
       ]
      },
      {
       "javascript": [
        "require.undef(\"nbextensions/glow.1.0.min\");"
       ],
       "metadata": {},
       "output_type": "display_data",
       "text": [
        "<IPython.core.display.Javascript at 0x24c1940>"
       ]
      },
      {
       "javascript": [
        "require.undef(\"nbextensions/jquery-ui.custom.min\");"
       ],
       "metadata": {},
       "output_type": "display_data",
       "text": [
        "<IPython.core.display.Javascript at 0x24c1978>"
       ]
      },
      {
       "javascript": [
        "require.undef(\"nbextensions/glow.1.1.min\");"
       ],
       "metadata": {},
       "output_type": "display_data",
       "text": [
        "<IPython.core.display.Javascript at 0x24c1ac8>"
       ]
      },
      {
       "javascript": [
        "require.undef(\"nbextensions/glowcomm\");"
       ],
       "metadata": {},
       "output_type": "display_data",
       "text": [
        "<IPython.core.display.Javascript at 0x24c1b38>"
       ]
      },
      {
       "javascript": [
        "require([\"nbextensions/glowcomm\"], function(){console.log(\"glowcomm loaded\");})"
       ],
       "metadata": {},
       "output_type": "display_data",
       "text": [
        "<IPython.core.display.Javascript at 0x24c1b70>"
       ]
      }
     ],
     "prompt_number": 2
    },
    {
     "cell_type": "code",
     "collapsed": false,
     "input": [
      "scene = canvas(title = \"sphere\")\n",
      "\n",
      "scene.width = 800\n",
      "scene.height = 600\n",
      "scene.autoscale = 0\n",
      "scene.range = (20,20,20)\n",
      "scene.center = (0,0,0)\n",
      "\n",
      "ball = sphere(pos=(0,0,0), radius=1)\n",
      "pointer1 = arrow(pos=(0,0,0), axis=(50,0,0), shaftwidth=1,color=color.blue)\n",
      "pointer1 = arrow(pos=(0,0,0), axis=(0,50,0), shaftwidth=1, color=color.red)\n",
      "pointer1 = arrow(pos=(0,0,0), axis=(0,0,50), shaftwidth=1, color=color.green)\n",
      "mybox = box(pos=(0,0,0), size=(30, 1, 30)) \n",
      "\n",
      "dt = .01    # seconds\n",
      "seconds = 0 # total time\n",
      "steps=5000 #integration steps: final time= dt*steps\n",
      "\n",
      "while sphere(pos.y>0):\n",
      "    rate(100)\n",
      "    seconds = seconds + dt\n",
      "a=(0,-9.8,0)\n",
      "v=(10,10,0)\n",
      "x=(0,0,0)\n",
      "dt=0.01\n"
     ],
     "language": "python",
     "metadata": {},
     "outputs": [
      {
       "html": [
        "<div id=\"scene15\"><div id=\"glowscript\" class=\"glowscript\"></div></div>"
       ],
       "metadata": {},
       "output_type": "display_data",
       "text": [
        "<IPython.core.display.HTML at 0x41bb978>"
       ]
      },
      {
       "javascript": [
        "window.__context = { glowscript_container: $(\"#glowscript\").removeAttr(\"id\")}"
       ],
       "metadata": {},
       "output_type": "display_data",
       "text": [
        "<IPython.core.display.Javascript at 0x41a09b0>"
       ]
      },
      {
       "ename": "NameError",
       "evalue": "name 'pos' is not defined",
       "output_type": "pyerr",
       "traceback": [
        "\u001b[1;31m---------------------------------------------------------------------------\u001b[0m\n\u001b[1;31mNameError\u001b[0m                                 Traceback (most recent call last)",
        "\u001b[1;32m<ipython-input-18-dd34120f9476>\u001b[0m in \u001b[0;36m<module>\u001b[1;34m()\u001b[0m\n\u001b[0;32m     17\u001b[0m \u001b[0msteps\u001b[0m\u001b[1;33m=\u001b[0m\u001b[1;36m5000\u001b[0m \u001b[1;31m#integration steps: final time= dt*steps\u001b[0m\u001b[1;33m\u001b[0m\u001b[0m\n\u001b[0;32m     18\u001b[0m \u001b[1;33m\u001b[0m\u001b[0m\n\u001b[1;32m---> 19\u001b[1;33m \u001b[1;32mwhile\u001b[0m \u001b[0msphere\u001b[0m\u001b[1;33m(\u001b[0m\u001b[0mpos\u001b[0m\u001b[1;33m.\u001b[0m\u001b[0my\u001b[0m\u001b[1;33m>\u001b[0m\u001b[1;36m0\u001b[0m\u001b[1;33m)\u001b[0m\u001b[1;33m:\u001b[0m\u001b[1;33m\u001b[0m\u001b[0m\n\u001b[0m\u001b[0;32m     20\u001b[0m     \u001b[0mrate\u001b[0m\u001b[1;33m(\u001b[0m\u001b[1;36m100\u001b[0m\u001b[1;33m)\u001b[0m\u001b[1;33m\u001b[0m\u001b[0m\n\u001b[0;32m     21\u001b[0m     \u001b[0mseconds\u001b[0m \u001b[1;33m=\u001b[0m \u001b[0mseconds\u001b[0m \u001b[1;33m+\u001b[0m \u001b[0mdt\u001b[0m\u001b[1;33m\u001b[0m\u001b[0m\n",
        "\u001b[1;31mNameError\u001b[0m: name 'pos' is not defined"
       ]
      }
     ],
     "prompt_number": 18
    },
    {
     "cell_type": "markdown",
     "metadata": {},
     "source": [
      "## Problem 2\n",
      "\n",
      "Now introduce the air resistence so the equations of motion become:\n",
      "\n",
      "$$\n",
      "\\begin{eqnarray*}\n",
      "  m\\ddot{x} &=& -km\\dot{x}, \\\\\n",
      "  m\\ddot{y} &=& -km\\dot{y}-mg, \\\\\n",
      "  m\\ddot{z} &=& 0,\n",
      "\\end{eqnarray*}\n",
      "$$\n",
      "and initial conditions\n",
      "\n",
      "$$\n",
      "  \\vec{r}(0) = (0, 0, 0), \\\\\n",
      "  \\vec{v}(0) = (v_{x0}, v_{y0}, 0),\n",
      "$$\n",
      "You can assign $v_{x0}$ and $v_{y0}$ in the code or ask user to input it.\n",
      "\n",
      "You should\n",
      "* Use a box to represent the ground.\n",
      "* Use three arrows to represent the three axes.\n",
      "* Use a sphere to represent the ball of the projectile motion.\n",
      "* Leave a trail.\n",
      "* Stop the simulation when the ball hit the ground.\n",
      "\n",
      "\n",
      "You should use to ways to calculate the trajectory of the motion.\n",
      "1. Use exact solution: (Check for example Marion's book).\n",
      "2. Use numerical solution:\n",
      " * $v(t+dt) = v(t) + a * dt$.\n",
      " * $x(t+dt) = x(t) + v(t) * dt$.\n",
      "\n",
      "You should use a small enough $dt$ to ensure the numerical solution is accurate enough.\n"
     ]
    },
    {
     "cell_type": "code",
     "collapsed": false,
     "input": [
      "# Problem 2"
     ],
     "language": "python",
     "metadata": {},
     "outputs": []
    },
    {
     "cell_type": "markdown",
     "metadata": {},
     "source": [
      "## Problem 3\n",
      "\n",
      "Use **ivisual** module to plot the trajectory of a coupled spring-mass system that has two masses, three springs, two walls.\n",
      "\n",
      "Something like Wall-spring1-mass1-spring2-mass2-spring3-Wall.\n",
      "\n",
      "You should\n",
      "* Use a box to represent the ground.\n",
      "* Use two boxes to represent the walls.\n",
      "* Use two **cubic** boxes to represent the two masses.\n",
      "* Use helix to represent the two srpings.\n"
     ]
    },
    {
     "cell_type": "code",
     "collapsed": false,
     "input": [
      "# Problem 3"
     ],
     "language": "python",
     "metadata": {},
     "outputs": [],
     "prompt_number": 1
    },
    {
     "cell_type": "markdown",
     "metadata": {},
     "source": [
      "# Problem 4\n",
      "\n",
      "Use **ivisual** module to plot the trajectories of 20 particles in a rectangle box.\n",
      "\n",
      "* The rectangle box has the dimension $L_x$, $L_y$, $L_z$.\n",
      "* Use boxes to represent the walls. Keep one wall **invisible**.\n",
      "* The 20 particles should have **random** initial velocity.\n",
      "* The 20 particles should leave a trail.\n",
      "* Make each particle has random RGB color."
     ]
    },
    {
     "cell_type": "code",
     "collapsed": false,
     "input": [
      "# Problem 4"
     ],
     "language": "python",
     "metadata": {},
     "outputs": [],
     "prompt_number": 2
    }
   ],
   "metadata": {}
  }
 ]
}