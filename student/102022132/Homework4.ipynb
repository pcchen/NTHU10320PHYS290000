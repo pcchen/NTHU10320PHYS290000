{
 "metadata": {
  "name": "",
  "signature": "sha256:505d0f199c48377050cf906d3d1ee6f455559ef101de87e3d5edd7eaaf043d19"
 },
 "nbformat": 3,
 "nbformat_minor": 0,
 "worksheets": [
  {
   "cells": [
    {
     "cell_type": "markdown",
     "metadata": {},
     "source": [
      "# Homework 4"
     ]
    },
    {
     "cell_type": "markdown",
     "metadata": {},
     "source": [
      "## Problem 1 \n",
      "\n",
      "1. Implement the `Point` class.\n",
      "2. Implement the `Rectangle` class.\n",
      "3. Write a function called `distance_between_points` that takes two Points as arguments and returns the distance between them.\n",
      "4. Write a function named `move_rectangle` that takes a Rectangle and two numbers named `dx` and `dy`. It should change the location of the rectangle by adding `dx` to the `x` coordinate of corner and adding `dy` to the `y` coordinate of corner.\n",
      "5. Write a function named `move_rectangle_new` that is similar to the `move_rectangle` but it creates and returns a new Rectangle instead of modifying the old one.\n",
      "6. Write some codes to demonstrate the usage of functions above."
     ]
    },
    {
     "cell_type": "code",
     "collapsed": false,
     "input": [
      "# Problem 1\n",
      "\n",
      "# 1\n",
      "class Point(object):\n",
      "    \"\"\"Represents a point in 2-D space.\"\"\"\n",
      "print Point\n",
      "# 2\n",
      "class Rectangle(object):\n",
      "    \"\"\"Represents a rectangle. \n",
      "\n",
      "    attributes: width, height, corner.\n",
      "    \"\"\"\n",
      "print Rectangle\n",
      "# 3\n",
      "blank1 = Point()\n",
      "blank2 = Point()\n",
      "blank1.x = 2.0\n",
      "blank1.y = 5.0\n",
      "blank2.x = 3.0\n",
      "blank2.y = 2.0\n",
      "def distance_between_points(a,b):\n",
      "    import math\n",
      "    distance = math.sqrt((a.x-b.x)**2+(a.y-b.y)**2)\n",
      "    print distance\n",
      "distance_between_points(blank1,blank2)\n",
      "# 4\n",
      "box = Rectangle()\n",
      "box.width = 100.0\n",
      "box.height = 300.0\n",
      "box.corner = Point()\n",
      "box.corner.x = 20.0\n",
      "box.corner.y = 40.0\n",
      "def print_rect(rect):\n",
      "    print '(%g, %g, %g, %g)' % (rect.width,rect.height,rect.corner.x,rect.corner.y)\n",
      "def move_rectangle(rect,dx,dy):\n",
      "    new_rect = Rectangle()\n",
      "    new_rect.corner = Point\n",
      "    new_rect.corner.x = rect.corner.x+dx\n",
      "    new_rect.corner.y = rect.corner.y+dy\n",
      "    new_rect.width = rect.width\n",
      "    new_rect.height = rect.height\n",
      "    print_rect(new_rect)\n",
      "\n",
      "move_rectangle(box,20,30)    \n",
      "# 5\n"
     ],
     "language": "python",
     "metadata": {},
     "outputs": [
      {
       "output_type": "stream",
       "stream": "stdout",
       "text": [
        "<class '__main__.Point'>\n",
        "<class '__main__.Rectangle'>\n",
        "3.16227766017\n",
        "(100, 300, 40, 70)\n"
       ]
      }
     ],
     "prompt_number": 15
    },
    {
     "cell_type": "markdown",
     "metadata": {},
     "source": [
      "## Problem 2\n",
      "\n",
      "1. Implement the `Time` class.\n",
      "2. Write a function called `print_time` that takes a Time object and prints it in the form `hour:minute:second`. \n",
      "  **Hint**: the format sequence '%.2d' prints an integer using at least two digits, including a leading zero if necessary.\n",
      "3. Write a boolean function called `is_after` that takes two Time objects, `t1` and `t2`, and returns `True` if `t1` follows `t2` chronologically and `False` otherwise. **Challenge**: don\u2019t use an `if` statement.\n",
      "4. Write a function called `increment_modifier` that adds a given number of seconds to a Time object. It should modify the original time object. It should not contain any loops.\n",
      "5. Write a function called `increment_pure` that adds a given number of seconds to a Time object. It should create and return a new Time object.\n",
      "6. Write a function called `mul_time` that takes a Time object and a number and returns a new Time object that contains the product of the original Time and the number.\n",
      "7. Use `mul_time` to write a function that takes a Time object that represents the finishing time in a race, and a number that represents the distance, and returns a Time object that represents the average pace (time per mile).\n",
      "8. Write some codes to demonstrate the usage of functions above."
     ]
    },
    {
     "cell_type": "code",
     "collapsed": false,
     "input": [
      "# Problem 2\n",
      "\n",
      "# 1\n",
      "class Time(object):\n",
      "    \"\"\"Represents the time of day.\n",
      "    attributes: hour, minute, second\n",
      "    \"\"\"\n",
      "# 2\n",
      "def print_time(time):\n",
      "    print '%.2d:%.2d:%.2d' % (time.hour, time.minute, time.second)\n",
      "    \n",
      "time = Time()\n",
      "time.hour = 5\n",
      "time.minute = 24\n",
      "time.second = 7\n",
      "print_time(time)\n",
      "# 3\n",
      "def is_after(t1,t2):\n",
      "    t1 = Time()\n",
      "    t2 = Time()\n",
      "    \n",
      "    \n",
      "# 4\n",
      "def increment_modifier(time, seconds):\n",
      "    time.second += seconds\n",
      "    if time.second >= 60:\n",
      "        time.minute += time.second/60\n",
      "        time.second = time.second%60\n",
      "    if time.minute >= 60:\n",
      "        time.hour += time.minute/60\n",
      "        time.minute = time.minute%60\n",
      "    print_time(time)\n",
      "\n",
      "\n",
      "t = Time()\n",
      "t.hour = 4\n",
      "t.minute = 59\n",
      "t.second = 10\n",
      "increment_modifier(t, 130)\n",
      "    \n",
      "# 5\u7b2c\u56db\u984c\u548c\u7b2c\u4e94\u984c\u6709\u5dee!?\n",
      "def increment_pure(t, seconds):\n",
      "    t.second += seconds\n",
      "    if t.second >= 60:\n",
      "        t.minute += t.second/60\n",
      "        t.second = t.second%60\n",
      "    if t.minute >= 60:\n",
      "        t.hour += t.minute/60\n",
      "        t.minute = t.minute%60\n",
      "    return t\n",
      "\n",
      "t1 = Time()\n",
      "t1.second = 39\n",
      "t1.minute = 45\n",
      "t1.hour = 2\n",
      "increment_pure(t1, 161)\n",
      "print_time(t1)\n",
      "# 6\n",
      "def mul_time(t, a):\n",
      "    t.second = a*t.second\n",
      "    t.minute = a*t.minute\n",
      "    t.hour = a*t.hour\n",
      "    if t.second >= 60:\n",
      "        t.minute += t.second/60\n",
      "        t.second = t.second%60\n",
      "    if t.minute >= 60:\n",
      "        t.hour += t.minute/60\n",
      "        t.minute = t.minute%60\n",
      "    return t\n",
      "\n",
      "mul_time(t1, 2)\n",
      "print_time(t1)\n",
      "# 7\n",
      "def average_pace(t, b):\n",
      "    t.second = (60*(t.minute%b)+t.second)/b\n",
      "    t.minute = (60*(t.hour%b)+t.minute)/b\n",
      "    t.hour = t.hour/b\n",
      "    return t\n",
      "\n",
      "average_pace(t1,4)\n",
      "print_time(t1)\n",
      "# 8"
     ],
     "language": "python",
     "metadata": {},
     "outputs": [
      {
       "output_type": "stream",
       "stream": "stdout",
       "text": [
        "05:24:07\n",
        "05:01:20\n",
        "02:48:20\n",
        "05:36:40\n",
        "01:24:10\n"
       ]
      }
     ],
     "prompt_number": 31
    },
    {
     "cell_type": "code",
     "collapsed": false,
     "input": [],
     "language": "python",
     "metadata": {},
     "outputs": [
      {
       "ename": "AttributeError",
       "evalue": "'Time' object has no attribute 'second'",
       "output_type": "pyerr",
       "traceback": [
        "\u001b[1;31m---------------------------------------------------------------------------\u001b[0m\n\u001b[1;31mAttributeError\u001b[0m                            Traceback (most recent call last)",
        "\u001b[1;32m<ipython-input-16-8c9747d3b50f>\u001b[0m in \u001b[0;36m<module>\u001b[1;34m()\u001b[0m\n\u001b[0;32m     14\u001b[0m \u001b[0mt\u001b[0m\u001b[1;33m.\u001b[0m\u001b[0mminute\u001b[0m \u001b[1;33m=\u001b[0m \u001b[1;36m59\u001b[0m\u001b[1;33m\u001b[0m\u001b[0m\n\u001b[0;32m     15\u001b[0m \u001b[0mt\u001b[0m\u001b[1;33m.\u001b[0m\u001b[0msecond\u001b[0m \u001b[1;33m=\u001b[0m \u001b[1;36m10\u001b[0m\u001b[1;33m\u001b[0m\u001b[0m\n\u001b[1;32m---> 16\u001b[1;33m \u001b[0mincrement_modifier\u001b[0m\u001b[1;33m(\u001b[0m\u001b[0mt\u001b[0m\u001b[1;33m,\u001b[0m\u001b[1;36m70\u001b[0m\u001b[1;33m)\u001b[0m\u001b[1;33m\u001b[0m\u001b[0m\n\u001b[0m",
        "\u001b[1;32m<ipython-input-16-8c9747d3b50f>\u001b[0m in \u001b[0;36mincrement_modifier\u001b[1;34m(time, seconds)\u001b[0m\n\u001b[0;32m      1\u001b[0m \u001b[1;32mdef\u001b[0m \u001b[0mincrement_modifier\u001b[0m\u001b[1;33m(\u001b[0m\u001b[0mtime\u001b[0m\u001b[1;33m,\u001b[0m\u001b[0mseconds\u001b[0m\u001b[1;33m)\u001b[0m\u001b[1;33m:\u001b[0m\u001b[1;33m\u001b[0m\u001b[0m\n\u001b[0;32m      2\u001b[0m     \u001b[0mtime\u001b[0m \u001b[1;33m=\u001b[0m \u001b[0mTime\u001b[0m\u001b[1;33m(\u001b[0m\u001b[1;33m)\u001b[0m\u001b[1;33m\u001b[0m\u001b[0m\n\u001b[1;32m----> 3\u001b[1;33m     \u001b[0mtime\u001b[0m\u001b[1;33m.\u001b[0m\u001b[0msecond\u001b[0m \u001b[1;33m+=\u001b[0m \u001b[0mseconds\u001b[0m\u001b[1;33m\u001b[0m\u001b[0m\n\u001b[0m\u001b[0;32m      4\u001b[0m     \u001b[1;32mif\u001b[0m \u001b[0mtime\u001b[0m\u001b[1;33m.\u001b[0m\u001b[0msecond\u001b[0m \u001b[1;33m>=\u001b[0m \u001b[1;36m60\u001b[0m\u001b[1;33m:\u001b[0m\u001b[1;33m\u001b[0m\u001b[0m\n\u001b[0;32m      5\u001b[0m         \u001b[0mtime\u001b[0m\u001b[1;33m.\u001b[0m\u001b[0msecond\u001b[0m \u001b[1;33m=\u001b[0m \u001b[0mtime\u001b[0m\u001b[1;33m.\u001b[0m\u001b[0msecond\u001b[0m\u001b[1;33m%\u001b[0m\u001b[1;36m60\u001b[0m\u001b[1;33m\u001b[0m\u001b[0m\n",
        "\u001b[1;31mAttributeError\u001b[0m: 'Time' object has no attribute 'second'"
       ]
      }
     ],
     "prompt_number": 16
    },
    {
     "cell_type": "markdown",
     "metadata": {},
     "source": [
      "## Problem 3\n",
      "\n",
      "1. Write a class definition for a Date object that has attributes `day`, `month` and `year`.\n",
      "2. Write a function called `increment_date` that takes a Date object, `date` and an integer, `n`, and returns a new Date object that represents the day `n` days after date.\n",
      "3. **Challenge**: does your function deal with leap years correctly? See http://en.wikipedia.org/wiki/Leap_year."
     ]
    },
    {
     "cell_type": "code",
     "collapsed": false,
     "input": [
      "def print_date(t)"
     ],
     "language": "python",
     "metadata": {},
     "outputs": []
    },
    {
     "cell_type": "code",
     "collapsed": false,
     "input": [
      "# Problem 3\n",
      "\n",
      "#1\n",
      "class Date(object):\n",
      "    \"\"\"Represents the time.\n",
      "    attributes: day, month, year.\n",
      "    \"\"\"\n",
      "#2\n",
      "def increment_date(date, n):\n",
      "    date.day += n\n",
      "    if date.month = 1 or 3 or 5 or 7 or 8 or 10 or 12:\n",
      "        if date.day > 31:\n",
      "            date.day -= 31\n",
      "            date.month += 1\n",
      "        return date\n",
      "    if date.month = 2:\n",
      "        if date.day > 28:\n",
      "            date.day -= 28\n",
      "            date.month += 1\n",
      "        return date    \n",
      "    else:\n",
      "        if date.day > 30:\n",
      "            date.day -= 30\n",
      "            date.month += 1\n",
      "        return date\n",
      "    \n",
      "date = Date()\n",
      "date.day = 11\n",
      "date.month = 7\n",
      "date.year = 2014\n",
      "increment_date(date,42)\n",
      "\n",
      "#3"
     ],
     "language": "python",
     "metadata": {},
     "outputs": [],
     "prompt_number": 3
    },
    {
     "cell_type": "markdown",
     "metadata": {},
     "source": [
      "## Problem 4\n",
      "\n",
      "The `datetime` module provides date and time objects that are similar to the Date and Time objects in this chapter, but they provide a rich set of methods and operators. Read the documentation at http://docs.python.org/2/library/datetime.html.\n",
      "\n",
      "1. Use the `datetime` module to write a program that gets the current date and prints the day of the week.\n",
      "2. Write a program that takes a birthday as input and prints the user\u2019s age and the number of days, hours, minutes and seconds until their next birthday.\n",
      "3. For two people born on different days, there is a day when one is twice as old as the other. That\u2019s their Double Day. Write a program that takes two birthdays and computes their Double Day.\n",
      "4. For a little more challenge, write the more general version that computes the day when one person is `n` times older than the other."
     ]
    },
    {
     "cell_type": "code",
     "collapsed": false,
     "input": [
      "# Problem 4\n",
      "\n",
      "#1\n",
      "#2\n",
      "#3\n",
      "#4"
     ],
     "language": "python",
     "metadata": {},
     "outputs": [],
     "prompt_number": 4
    },
    {
     "cell_type": "markdown",
     "metadata": {},
     "source": [
      "## Problem 5\n",
      "\n",
      "Implement the `Point` class and the `Rectangle` class, with following methods.\n",
      "\n",
      "1. Write an `init` method for the Point class that takes `x` and `y` as optional parameters and assigns them to the corresponding attributes.\n",
      "2. Write a `str` method for the Point class.\n",
      "3. Write an `add` method for Points that works with either a Point object or a tuple:\n",
      "  * If the second operand is a Point, the method should return a new Point whose `x` coordinate is the sum of the `x` coordinates of the operands, and likewise for the `y` coordinates.\n",
      "  * If the second operand is a tuple, the method should add the first element of the tuple to the `x` coordinate and the second element to the `y` coordinate, and return a new Point with the result.\n",
      "4. Write some codes to demonstrate the usage of methods above."
     ]
    },
    {
     "cell_type": "code",
     "collapsed": false,
     "input": [
      "# Problem 5\n",
      "\n",
      "#1\n",
      "#2\n",
      "#3\n",
      "#4"
     ],
     "language": "python",
     "metadata": {},
     "outputs": [],
     "prompt_number": 5
    }
   ],
   "metadata": {}
  }
 ]
}