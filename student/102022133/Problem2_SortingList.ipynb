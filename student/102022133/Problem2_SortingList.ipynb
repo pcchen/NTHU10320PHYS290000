{
 "metadata": {
  "name": "",
  "signature": "sha256:58c7dda3f4d1f1e84ab6db7ff64640d1163156fa11703dd5c53cbf6380070b05"
 },
 "nbformat": 3,
 "nbformat_minor": 0,
 "worksheets": [
  {
   "cells": [
    {
     "cell_type": "markdown",
     "metadata": {},
     "source": [
      "# Problem 2:\n",
      "# Sorting a List\n",
      "\n",
      "In this problem you should\n",
      "* Implement the **selection sort** algorithm.\n",
      "* Implement the **insertion sort** algorithm.\n",
      "* Create a list of N-elements where each element is a random integer between 0, 1, 2, ..., N-1.\n",
      "* Use your implementation of the selection sort and insertion sort to sort the the random list above.\n",
      "* Use built-in function `sorted()` that builds a new sorted list to show that your implementation is correct.\n",
      "\n",
      "## Selection sort\n",
      "\n",
      "Following is the algorithm of the **selection sort**:\n",
      "\n",
      "* Divide the input list into two sub-lists:\n",
      " * Sorted sub-list (Start with an empty list).\n",
      " * Un-Sorted sub-list.\n",
      "* Find the smallest element in the unsorted list.\n",
      "* Swap with the leftmost unsorted element.\n",
      "* Move the sub-list boundaries.\n",
      "\n",
      "Following is an example of selection sort:\n",
      "<img src=\"SelectionSort.png\" width=\"800\">\n",
      "\n",
      "## Insertion sort\n",
      "\n",
      "Following is the algorithm of the **insertion sort**:\n",
      "\n",
      "* Divide the input list into two sub-lists:\n",
      " * Sorted sub-list (Start with the leftmost element).\n",
      " * Un-Sorted sub-list.\n",
      "* Insert the leftmost element of the unsorted sub-list into the proper position of the sorted sub-list.\n",
      "* Move the sub-list boundaries \n",
      "\n",
      "Following is an example of selection sort:\n",
      "<img src=\"InsertionSort.png\" width=\"800\">"
     ]
    },
    {
     "cell_type": "markdown",
     "metadata": {},
     "source": [
      "Please write your code based on the sketch below and use the test code below to show that your function works properly."
     ]
    },
    {
     "cell_type": "code",
     "collapsed": false,
     "input": [],
     "language": "python",
     "metadata": {},
     "outputs": [
      {
       "metadata": {},
       "output_type": "pyout",
       "prompt_number": 58,
       "text": [
        "[17, 5, 7, 0, 11, 6, 16, 14, 12, 1, 19, 15, 8, 4, 2, 10, 3, 18, 9, 13]"
       ]
      }
     ],
     "prompt_number": 58
    },
    {
     "cell_type": "code",
     "collapsed": false,
     "input": [
      "from random import *\n",
      "\n",
      "# create a random list with N elements\n",
      "\n",
      "def random_list(N):\n",
      "    import random\n",
      "    b=[]\n",
      "    s=list(range(N))\n",
      "    while len(s)>0:\n",
      "        k=random.choice(list(s))\n",
      "        s.remove(k)\n",
      "        b.append(k)\n",
      "        \n",
      "    return b \n",
      "    \n",
      "\n",
      "# selection sort\n",
      "def selection_sort(s):\n",
      "   for fillslot in range(len(s)-1,0,-1):\n",
      "       positionOfMax=0\n",
      "       for location in range(1,fillslot+1):\n",
      "           if s[location]>s[positionOfMax]:\n",
      "               positionOfMax = location\n",
      "\n",
      "       temp = s[fillslot]\n",
      "       s[fillslot] = s[positionOfMax]\n",
      "       s[positionOfMax] = temp\n",
      "            \n",
      "                \n",
      "# insertion sort\n",
      "def insertion_sort(s):\n",
      "   for index in range(1,len(s)):\n",
      "\n",
      "     currentvalue = s[index]\n",
      "     position = index\n",
      "\n",
      "     while position>0 and s[position-1]>currentvalue:\n",
      "         s[position]=s[position-1]\n",
      "         position = position-1\n",
      "\n",
      "     s[position]=currentvalue\n",
      "\n",
      "\n",
      "# test            \n",
      "s_1=random_list(20)\n",
      "print s_1\n",
      "selection_sort(s_1)\n",
      "print s_1\n",
      "\n",
      "s_2=random_list(30)\n",
      "print s_2\n",
      "insertion_sort(s_2)\n",
      "print s_2\n"
     ],
     "language": "python",
     "metadata": {},
     "outputs": [
      {
       "output_type": "stream",
       "stream": "stdout",
       "text": [
        "[9, 17, 19, 16, 0, 13, 1, 14, 7, 11, 6, 4, 10, 3, 12, 18, 15, 2, 8, 5]\n",
        "[0, 1, 2, 3, 4, 5, 6, 7, 8, 9, 10, 11, 12, 13, 14, 15, 16, 17, 18, 19]\n",
        "[19, 25, 12, 2, 20, 4, 16, 1, 0, 8, 21, 24, 18, 27, 23, 3, 15, 28, 17, 26, 11, 13, 7, 14, 6, 5, 10, 22, 29, 9]\n",
        "[0, 1, 2, 3, 4, 5, 6, 7, 8, 9, 10, 11, 12, 13, 14, 15, 16, 17, 18, 19, 20, 21, 22, 23, 24, 25, 26, 27, 28, 29]\n",
        "None\n"
       ]
      }
     ],
     "prompt_number": 109
    },
    {
     "cell_type": "code",
     "collapsed": false,
     "input": [
      "# test the implementation of selection sort\n",
      "N = 10\n",
      "L = random_list(N)\n",
      "print L\n",
      "L_sorted = sorted(L)\n",
      "print L_sorted\n",
      "selection_sort(L)\n",
      "print L\n",
      "\n",
      "\n",
      "for i in range(len(L)):\n",
      "    if L[i] != L_sorted[i]:\n",
      "        print 'oops!'    \n",
      "            \n",
      "\n",
      "            "
     ],
     "language": "python",
     "metadata": {},
     "outputs": [
      {
       "output_type": "stream",
       "stream": "stdout",
       "text": [
        "[8, 9, 7, 6, 3, 1, 5, 0, 4, 2]\n",
        "[0, 1, 2, 3, 4, 5, 6, 7, 8, 9]\n",
        "[0, 1, 2, 3, 4, 5, 6, 7, 8, 9]\n"
       ]
      }
     ],
     "prompt_number": 105
    },
    {
     "cell_type": "code",
     "collapsed": false,
     "input": [
      "# test the implementation of insertion sort\n",
      "N = 10\n",
      "L = random_list(N)\n",
      "print L\n",
      "L_sorted = sorted(L)\n",
      "print L_sorted\n",
      "insertion_sort(L)\n",
      "print L\n",
      "\n",
      "for i in range(len(L)):\n",
      "    if L[i] != L_sorted[i]:\n",
      "        print 'oops!'    "
     ],
     "language": "python",
     "metadata": {},
     "outputs": [
      {
       "output_type": "stream",
       "stream": "stdout",
       "text": [
        "[2, 0, 4, 1, 6, 3, 9, 8, 7, 5]\n",
        "[0, 1, 2, 3, 4, 5, 6, 7, 8, 9]\n",
        "[0, 1, 2, 3, 4, 5, 6, 7, 8, 9]\n"
       ]
      }
     ],
     "prompt_number": 104
    },
    {
     "cell_type": "code",
     "collapsed": false,
     "input": [],
     "language": "python",
     "metadata": {},
     "outputs": [],
     "prompt_number": 102
    },
    {
     "cell_type": "code",
     "collapsed": false,
     "input": [],
     "language": "python",
     "metadata": {},
     "outputs": []
    }
   ],
   "metadata": {}
  }
 ]
}