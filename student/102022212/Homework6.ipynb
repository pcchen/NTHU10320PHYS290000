{
 "metadata": {
  "name": "",
  "signature": "sha256:206a0fabc9a41819a9507ad60b6f24dd859de44cfa480d7ee8520c9374cc7cf5"
 },
 "nbformat": 3,
 "nbformat_minor": 0,
 "worksheets": [
  {
   "cells": [
    {
     "cell_type": "markdown",
     "metadata": {},
     "source": [
      "# Homework 6"
     ]
    },
    {
     "cell_type": "markdown",
     "metadata": {},
     "source": [
      "## Problem 1\n",
      "\n",
      "Use **ivisual** module to plot the projectile motion with following equations of motion:\n",
      "\n",
      "$$\n",
      "\\begin{eqnarray*}\n",
      "  m\\ddot{x} &=& 0, \\\\\n",
      "  m\\ddot{y} &=& -mg, \\\\\n",
      "  m\\ddot{z} &=& 0,\n",
      "\\end{eqnarray*}\n",
      "$$\n",
      "and initial conditions\n",
      "\n",
      "$$\n",
      "  \\vec{r}(0) = (0, 0, 0), \\\\\n",
      "  \\vec{v}(0) = (v_{x0}, v_{y0}, 0),\n",
      "$$\n",
      "You can assign $v_{x0}$ and $v_{y0}$ in the code or ask user to input it.\n",
      "\n",
      "You should\n",
      "* Use a box to represent the ground.\n",
      "* Use three arrows to represent the three axes.\n",
      "* Use a sphere to represent the ball of the projectile motion.\n",
      "* Leave a trail.\n",
      "* Stop the simulation when the ball hit the ground.\n",
      "\n",
      "You should use to ways to calculate the trajectory of the motion.\n",
      "1. Use exact solution: $x(t)=x(0)+v_x t$, etc.\n",
      "2. Use numerical solution:\n",
      " * $v(t+dt) = v(t) + a * dt$.\n",
      " * $x(t+dt) = x(t) + v(t) * dt$.\n",
      "\n",
      "You should use a small enough $dt$ to ensure the numerical solution is accurate enough.\n"
     ]
    },
    {
     "cell_type": "code",
     "collapsed": false,
     "input": [
      "# Problem 1\n",
      "from ivisual import *\n",
      "\n",
      "scene = canvas()\n",
      "\n",
      "scene.width = 800\n",
      "scene.height = 600\n",
      "\n",
      "scene.autoscale = 0\n",
      "scene.range = (10,10,10)\n",
      "scene.center = (0,0,0)\n",
      "\n",
      "ball = sphere(pos=(5,50,5), radius=0.3, color=color.cyan)\n",
      "\n",
      "wallR = box(pos=(0,0,0), size=(200,0.2,200), color=color.green)\n",
      "\n",
      "\n",
      "varr = arrow(pos=(0,0,0), axis=(1,0,0),length=25, color=color.yellow)\n",
      "varr = arrow(pos=(0,0,0), axis=(0,1,0),length=25, color=color.yellow)\n",
      "varr = arrow(pos=(0,0,0), axis=(0,0,1),length=25, color=color.yellow)\n",
      "\n",
      "vx=100\n",
      "vy=10\n",
      "\n",
      "ball.velocity = vector(vx,vy,0)\n",
      "ball.trail = curve(color=ball.color)\n",
      "varr = arrow(pos=ball.pos, axis=ball.velocity, color=color.yellow)\n",
      "vscale = 0.1\n",
      "t=0\n",
      "deltat = 0.005\n",
      "while t < 3:\n",
      "    rate(20)\n",
      "    ball.pos = ball.pos + ball.velocity*deltat\n",
      "    ball.velocity.y=ball.velocity.y-9.8*t\n",
      "    t = t + deltat\n",
      "    if ball.pos.y<=0:\n",
      "       ball.velocity.x=0 \n",
      "       ball.velocity.y=0 \n",
      "    ball.trail.append(pos=ball.pos)\n",
      "    ball.pos = ball.pos + ball.velocity*deltat\n",
      "    varr.pos = ball.pos\n",
      "    varr.axis = vscale*ball.velocity\n",
      "\n"
     ],
     "language": "python",
     "metadata": {},
     "outputs": [
      {
       "html": [
        "<div id=\"scene26\"><div id=\"glowscript\" class=\"glowscript\"></div></div>"
       ],
       "metadata": {},
       "output_type": "display_data",
       "text": [
        "<IPython.core.display.HTML at 0x5dcec30>"
       ]
      },
      {
       "javascript": [
        "window.__context = { glowscript_container: $(\"#glowscript\").removeAttr(\"id\")}"
       ],
       "metadata": {},
       "output_type": "display_data",
       "text": [
        "<IPython.core.display.Javascript at 0x5c6bb10>"
       ]
      }
     ],
     "prompt_number": 27
    },
    {
     "cell_type": "markdown",
     "metadata": {},
     "source": [
      "## Problem 2\n",
      "\n",
      "Now introduce the air resistence so the equations of motion become:\n",
      "\n",
      "$$\n",
      "\\begin{eqnarray*}\n",
      "  m\\ddot{x} &=& -km\\dot{x}, \\\\\n",
      "  m\\ddot{y} &=& -km\\dot{y}-mg, \\\\\n",
      "  m\\ddot{z} &=& 0,\n",
      "\\end{eqnarray*}\n",
      "$$\n",
      "and initial conditions\n",
      "\n",
      "$$\n",
      "  \\vec{r}(0) = (0, 0, 0), \\\\\n",
      "  \\vec{v}(0) = (v_{x0}, v_{y0}, 0),\n",
      "$$\n",
      "You can assign $v_{x0}$ and $v_{y0}$ in the code or ask user to input it.\n",
      "\n",
      "You should\n",
      "* Use a box to represent the ground.\n",
      "* Use three arrows to represent the three axes.\n",
      "* Use a sphere to represent the ball of the projectile motion.\n",
      "* Leave a trail.\n",
      "* Stop the simulation when the ball hit the ground.\n",
      "\n",
      "\n",
      "You should use to ways to calculate the trajectory of the motion.\n",
      "1. Use exact solution: (Check for example Marion's book).\n",
      "2. Use numerical solution:\n",
      " * $v(t+dt) = v(t) + a * dt$.\n",
      " * $x(t+dt) = x(t) + v(t) * dt$.\n",
      "\n",
      "You should use a small enough $dt$ to ensure the numerical solution is accurate enough.\n"
     ]
    },
    {
     "cell_type": "code",
     "collapsed": false,
     "input": [
      "# Problem 2\n",
      "from ivisual import *\n",
      "\n",
      "scene = canvas()\n",
      "\n",
      "scene.width = 800\n",
      "scene.height = 600\n",
      "\n",
      "scene.autoscale = 0\n",
      "scene.range = (10,10,10)\n",
      "scene.center = (0,0,0)\n",
      "\n",
      "ball = sphere(pos=(5,50,5), radius=0.3, color=color.cyan)\n",
      "\n",
      "wallR = box(pos=(0,0,0), size=(200,0.2,200), color=color.green)\n",
      "\n",
      "\n",
      "varr = arrow(pos=(0,0,0), axis=(1,0,0),length=25, color=color.yellow)\n",
      "varr = arrow(pos=(0,0,0), axis=(0,1,0),length=25, color=color.yellow)\n",
      "varr = arrow(pos=(0,0,0), axis=(0,0,1),length=25, color=color.yellow)\n",
      "\n",
      "vx=100\n",
      "vy=10\n",
      "\n",
      "ball.velocity = vector(vx,vy,0)\n",
      "ball.trail = curve(color=ball.color)\n",
      "varr = arrow(pos=ball.pos, axis=ball.velocity, color=color.yellow)\n",
      "vscale = 0.1\n",
      "t=0\n",
      "k=0.01\n",
      "deltat = 0.005\n",
      "while t < 3:\n",
      "    rate(20)\n",
      "    ball.pos = ball.pos + ball.velocity*deltat\n",
      "    ball.velocity.y=ball.velocity.y-9.8*t-k*ball.velocity.y\n",
      "    ball.velocity.x=ball.velocity.x-k*ball.velocity.x\n",
      "    t = t + deltat\n",
      "    if ball.pos.y<=0:\n",
      "       ball.velocity.x=0 \n",
      "       ball.velocity.y=0 \n",
      "    ball.trail.append(pos=ball.pos)\n",
      "    ball.pos = ball.pos + ball.velocity*deltat\n",
      "    varr.pos = ball.pos\n",
      "    varr.axis = vscale*ball.velocity\n"
     ],
     "language": "python",
     "metadata": {},
     "outputs": [
      {
       "html": [
        "<div id=\"scene30\"><div id=\"glowscript\" class=\"glowscript\"></div></div>"
       ],
       "metadata": {},
       "output_type": "display_data",
       "text": [
        "<IPython.core.display.HTML at 0x5d96710>"
       ]
      },
      {
       "javascript": [
        "window.__context = { glowscript_container: $(\"#glowscript\").removeAttr(\"id\")}"
       ],
       "metadata": {},
       "output_type": "display_data",
       "text": [
        "<IPython.core.display.Javascript at 0x5db07f0>"
       ]
      }
     ],
     "prompt_number": 31
    },
    {
     "cell_type": "markdown",
     "metadata": {},
     "source": [
      "## Problem 3\n",
      "\n",
      "Use **ivisual** module to plot the trajectory of a coupled spring-mass system that has two masses, three springs, two walls.\n",
      "\n",
      "Something like Wall-spring1-mass1-spring2-mass2-spring3-Wall.\n",
      "\n",
      "You should\n",
      "* Use a box to represent the ground.\n",
      "* Use two boxes to represent the walls.\n",
      "* Use two **cubic** boxes to represent the two masses.\n",
      "* Use helix to represent the two srpings.\n"
     ]
    },
    {
     "cell_type": "code",
     "collapsed": false,
     "input": [
      "# Problem 3"
     ],
     "language": "python",
     "metadata": {},
     "outputs": [],
     "prompt_number": 1
    },
    {
     "cell_type": "markdown",
     "metadata": {},
     "source": [
      "# Problem 4\n",
      "\n",
      "Use **ivisual** module to plot the trajectories of 20 particles in a rectangle box.\n",
      "\n",
      "* The rectangle box has the dimension $L_x$, $L_y$, $L_z$.\n",
      "* Use boxes to represent the walls. Keep one wall **invisible**.\n",
      "* The 20 particles should have **random** initial velocity.\n",
      "* The 20 particles should leave a trail.\n",
      "* Make each particle has random RGB color."
     ]
    },
    {
     "cell_type": "code",
     "collapsed": false,
     "input": [
      "# Problem 4\n",
      "from ivisual import *\n",
      "\n",
      "scene = canvas()\n",
      "\n",
      "scene.width = 800\n",
      "scene.height = 600\n",
      "\n",
      "scene.autoscale = 0\n",
      "scene.range = (10,10,10)\n",
      "scene.center = (0,0,0)\n",
      "\n",
      "ball = sphere(pos=(-5,-5,0), radius=0.5, color=color.cyan)\n",
      "ball2 = sphere(pos=(-5,-4,0), radius=0.5, color=color.cyan)\n",
      "ball3 = sphere(pos=(-5,-3,0), radius=0.5, color=color.cyan)\n",
      "ball4 = sphere(pos=(-5,-2,0), radius=0.5, color=color.cyan)\n",
      "ball5 = sphere(pos=(-5,-1,0), radius=0.5, color=color.cyan)\n",
      "\n",
      "\n",
      "wallR = box(pos=(+6,0,0), size=(0.2,12,12), color=color.green)\n",
      "wallL = box(pos=(-6,0,0), size=(0.2,12,12), color=color.green)\n",
      "wallU = box(pos=(0,+6,0), size=(12,0.2,12), color=color.blue)\n",
      "wallD = box(pos=(0,-6,0), size=(12,0.2,12), color=color.blue)\n",
      "wallB = box(pos=(0,0,-6), size=(12,12,0.2), color=color.red)\n",
      "\n",
      "vscale = 0.1\n",
      "\n",
      "\n",
      "ball.velocity = vector(25,5,-5)\n",
      "ball2.velocity = vector(25,5,-5)\n",
      "ball.trail = curve(color=ball.color)\n",
      "\n",
      "deltat = 0.005\n",
      "t=0\n",
      "\n",
      "while t < 10:\n",
      "    rate(50)\n",
      "    if ball.pos.x > wallR.pos.x:\n",
      "         ball.velocity.x = -ball.velocity.x\n",
      "    if ball.pos.x < wallL.pos.x:\n",
      "         ball.velocity.x = -ball.velocity.x\n",
      "    if ball.pos.y > wallU.pos.y:\n",
      "         ball.velocity.y = -ball.velocity.y\n",
      "    if ball.pos.y < wallD.pos.y:\n",
      "         ball.velocity.y = -ball.velocity.y\n",
      "    if ball.pos.z < wallB.pos.z:\n",
      "        ball.velocity.z = -ball.velocity.z\n",
      "    if ball.pos.z > +6:\n",
      "        ball.velocity.z = -ball.velocity.z\n",
      "    \n",
      "    ball.pos = ball.pos + ball.velocity*deltat\n",
      "    varr.pos = ball.pos\n",
      "    varr.axis = vscale*ball.velocity\n",
      "    ball.trail.append(pos=ball.pos)\n",
      "    \n",
      "    t = t + deltat"
     ],
     "language": "python",
     "metadata": {},
     "outputs": [
      {
       "html": [
        "<div id=\"scene45\"><div id=\"glowscript\" class=\"glowscript\"></div></div>"
       ],
       "metadata": {},
       "output_type": "display_data",
       "text": [
        "<IPython.core.display.HTML at 0x5bfe450>"
       ]
      },
      {
       "javascript": [
        "window.__context = { glowscript_container: $(\"#glowscript\").removeAttr(\"id\")}"
       ],
       "metadata": {},
       "output_type": "display_data",
       "text": [
        "<IPython.core.display.Javascript at 0x5ddb370>"
       ]
      }
     ],
     "prompt_number": 46
    },
    {
     "cell_type": "code",
     "collapsed": false,
     "input": [],
     "language": "python",
     "metadata": {},
     "outputs": []
    }
   ],
   "metadata": {}
  }
 ]
}